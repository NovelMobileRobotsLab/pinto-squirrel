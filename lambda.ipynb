{
 "cells": [
  {
   "cell_type": "code",
   "execution_count": 62,
   "metadata": {},
   "outputs": [],
   "source": [
    "from ipywidgets import *\n",
    "import numpy as np\n",
    "from math import *\n",
    "import matplotlib.pyplot as plt\n",
    "\n",
    "import warnings\n",
    "warnings.filterwarnings(\"ignore\", category=DeprecationWarning) \n",
    "\n",
    "%matplotlib widget"
   ]
  },
  {
   "cell_type": "code",
   "execution_count": 30,
   "metadata": {},
   "outputs": [
    {
     "data": {
      "text/latex": [
       "$\\displaystyle \\left[\\begin{matrix}L_{1} \\cos{\\left(\\theta_{1} \\right)} + L_{2} \\cos{\\left(\\theta_{2} \\right)} + L_{3} \\cos{\\left(\\theta_{3} \\right)} = 0\\\\L_{1} \\sin{\\left(\\theta_{1} \\right)} + L_{2} \\sin{\\left(\\theta_{2} \\right)} + L_{3} \\sin{\\left(\\theta_{3} \\right)} = 0\\end{matrix}\\right]$"
      ],
      "text/plain": [
       "Matrix([\n",
       "[Eq(L1*cos(theta1) + L2*cos(theta2) + L3*cos(theta3), 0)],\n",
       "[Eq(L1*sin(theta1) + L2*sin(theta2) + L3*sin(theta3), 0)]])"
      ]
     },
     "execution_count": 30,
     "metadata": {},
     "output_type": "execute_result"
    }
   ],
   "source": [
    "\n",
    "# Unknowns\n",
    "theta2, theta3 = symbols('theta2, theta3')\n",
    "\n",
    "#Knowns\n",
    "L1, L2, L3, L4, theta1, theta4 = symbols('L1, L2, L3, L4, theta1, theta4')\n",
    "\n",
    "# Define the equations\n",
    "eq_x = Eq(L1*cos(theta1) + L2*cos(theta2) + L3*cos(theta3), 0)\n",
    "eq_y = Eq(L1*sin(theta1) + L2*sin(theta2) + L3*sin(theta3), 0)\n",
    "\n",
    "Matrix([eq_x, eq_y])\n"
   ]
  },
  {
   "cell_type": "code",
   "execution_count": 35,
   "metadata": {},
   "outputs": [
    {
     "ename": "KeyboardInterrupt",
     "evalue": "",
     "output_type": "error",
     "traceback": [
      "\u001b[0;31m---------------------------------------------------------------------------\u001b[0m",
      "\u001b[0;31mKeyboardInterrupt\u001b[0m                         Traceback (most recent call last)",
      "Cell \u001b[0;32mIn[35], line 2\u001b[0m\n\u001b[1;32m      1\u001b[0m \u001b[39m# Solve the equations symbolically\u001b[39;00m\n\u001b[0;32m----> 2\u001b[0m solutions \u001b[39m=\u001b[39m solve((eq_x, eq_y), (theta2, theta3))\n\u001b[1;32m      4\u001b[0m solutions\n\u001b[1;32m      6\u001b[0m \u001b[39m# Print the solutions\u001b[39;00m\n\u001b[1;32m      7\u001b[0m \u001b[39m# eq_x\u001b[39;00m\n",
      "File \u001b[0;32m/Library/Frameworks/Python.framework/Versions/3.11/lib/python3.11/site-packages/sympy/solvers/solvers.py:1147\u001b[0m, in \u001b[0;36msolve\u001b[0;34m(f, *symbols, **flags)\u001b[0m\n\u001b[1;32m   1145\u001b[0m         solution \u001b[39m=\u001b[39m _solve(f[\u001b[39m0\u001b[39m], \u001b[39m*\u001b[39msymbols, \u001b[39m*\u001b[39m\u001b[39m*\u001b[39mflags)\n\u001b[1;32m   1146\u001b[0m \u001b[39melse\u001b[39;00m:\n\u001b[0;32m-> 1147\u001b[0m     linear, solution \u001b[39m=\u001b[39m _solve_system(f, symbols, \u001b[39m*\u001b[39;49m\u001b[39m*\u001b[39;49mflags)\n\u001b[1;32m   1148\u001b[0m \u001b[39massert\u001b[39;00m \u001b[39mtype\u001b[39m(solution) \u001b[39mis\u001b[39;00m \u001b[39mlist\u001b[39m\n\u001b[1;32m   1149\u001b[0m \u001b[39massert\u001b[39;00m \u001b[39mnot\u001b[39;00m solution \u001b[39mor\u001b[39;00m \u001b[39mtype\u001b[39m(solution[\u001b[39m0\u001b[39m]) \u001b[39mis\u001b[39;00m \u001b[39mdict\u001b[39m, solution\n",
      "File \u001b[0;32m/Library/Frameworks/Python.framework/Versions/3.11/lib/python3.11/site-packages/sympy/solvers/solvers.py:1934\u001b[0m, in \u001b[0;36m_solve_system\u001b[0;34m(exprs, symbols, **flags)\u001b[0m\n\u001b[1;32m   1932\u001b[0m \u001b[39mfor\u001b[39;00m s \u001b[39min\u001b[39;00m ok_syms:\n\u001b[1;32m   1933\u001b[0m     \u001b[39mtry\u001b[39;00m:\n\u001b[0;32m-> 1934\u001b[0m         soln \u001b[39m=\u001b[39m _vsolve(eq2, s, \u001b[39m*\u001b[39;49m\u001b[39m*\u001b[39;49mflags)\n\u001b[1;32m   1935\u001b[0m     \u001b[39mexcept\u001b[39;00m \u001b[39mNotImplementedError\u001b[39;00m:\n\u001b[1;32m   1936\u001b[0m         \u001b[39mcontinue\u001b[39;00m\n",
      "File \u001b[0;32m/Library/Frameworks/Python.framework/Versions/3.11/lib/python3.11/site-packages/sympy/solvers/solvers.py:2606\u001b[0m, in \u001b[0;36m_vsolve\u001b[0;34m(e, s, **flags)\u001b[0m\n\u001b[1;32m   2604\u001b[0m \u001b[39mdef\u001b[39;00m \u001b[39m_vsolve\u001b[39m(e, s, \u001b[39m*\u001b[39m\u001b[39m*\u001b[39mflags):\n\u001b[1;32m   2605\u001b[0m \u001b[39m    \u001b[39m\u001b[39m\"\"\"return list of scalar values for the solution of e for symbol s\"\"\"\u001b[39;00m\n\u001b[0;32m-> 2606\u001b[0m     \u001b[39mreturn\u001b[39;00m [i[s] \u001b[39mfor\u001b[39;00m i \u001b[39min\u001b[39;00m _solve(e, s, \u001b[39m*\u001b[39;49m\u001b[39m*\u001b[39;49mflags)]\n",
      "File \u001b[0;32m/Library/Frameworks/Python.framework/Versions/3.11/lib/python3.11/site-packages/sympy/solvers/solvers.py:1714\u001b[0m, in \u001b[0;36m_solve\u001b[0;34m(f, *symbols, **flags)\u001b[0m\n\u001b[1;32m   1709\u001b[0m     result \u001b[39m=\u001b[39m [r \u001b[39mfor\u001b[39;00m r \u001b[39min\u001b[39;00m result \u001b[39mif\u001b[39;00m\n\u001b[1;32m   1710\u001b[0m               \u001b[39mnot\u001b[39;00m \u001b[39many\u001b[39m(checksol(d, r, \u001b[39m*\u001b[39m\u001b[39m*\u001b[39mflags)\n\u001b[1;32m   1711\u001b[0m                       \u001b[39mfor\u001b[39;00m d \u001b[39min\u001b[39;00m dens)]\n\u001b[1;32m   1712\u001b[0m \u001b[39mif\u001b[39;00m check:\n\u001b[1;32m   1713\u001b[0m     \u001b[39m# keep only results if the check is not False\u001b[39;00m\n\u001b[0;32m-> 1714\u001b[0m     result \u001b[39m=\u001b[39m [r \u001b[39mfor\u001b[39;49;00m r \u001b[39min\u001b[39;49;00m result \u001b[39mif\u001b[39;49;00m\n\u001b[1;32m   1715\u001b[0m               checksol(f_num, r, \u001b[39m*\u001b[39;49m\u001b[39m*\u001b[39;49mflags) \u001b[39mis\u001b[39;49;00m \u001b[39mnot\u001b[39;49;00m \u001b[39mFalse\u001b[39;49;00m]\n\u001b[1;32m   1716\u001b[0m \u001b[39mreturn\u001b[39;00m result\n",
      "File \u001b[0;32m/Library/Frameworks/Python.framework/Versions/3.11/lib/python3.11/site-packages/sympy/solvers/solvers.py:1715\u001b[0m, in \u001b[0;36m<listcomp>\u001b[0;34m(.0)\u001b[0m\n\u001b[1;32m   1709\u001b[0m     result \u001b[39m=\u001b[39m [r \u001b[39mfor\u001b[39;00m r \u001b[39min\u001b[39;00m result \u001b[39mif\u001b[39;00m\n\u001b[1;32m   1710\u001b[0m               \u001b[39mnot\u001b[39;00m \u001b[39many\u001b[39m(checksol(d, r, \u001b[39m*\u001b[39m\u001b[39m*\u001b[39mflags)\n\u001b[1;32m   1711\u001b[0m                       \u001b[39mfor\u001b[39;00m d \u001b[39min\u001b[39;00m dens)]\n\u001b[1;32m   1712\u001b[0m \u001b[39mif\u001b[39;00m check:\n\u001b[1;32m   1713\u001b[0m     \u001b[39m# keep only results if the check is not False\u001b[39;00m\n\u001b[1;32m   1714\u001b[0m     result \u001b[39m=\u001b[39m [r \u001b[39mfor\u001b[39;00m r \u001b[39min\u001b[39;00m result \u001b[39mif\u001b[39;00m\n\u001b[0;32m-> 1715\u001b[0m               checksol(f_num, r, \u001b[39m*\u001b[39;49m\u001b[39m*\u001b[39;49mflags) \u001b[39mis\u001b[39;00m \u001b[39mnot\u001b[39;00m \u001b[39mFalse\u001b[39;00m]\n\u001b[1;32m   1716\u001b[0m \u001b[39mreturn\u001b[39;00m result\n",
      "File \u001b[0;32m/Library/Frameworks/Python.framework/Versions/3.11/lib/python3.11/site-packages/sympy/solvers/solvers.py:310\u001b[0m, in \u001b[0;36mchecksol\u001b[0;34m(f, symbol, sol, **flags)\u001b[0m\n\u001b[1;32m    307\u001b[0m         sol[k] \u001b[39m=\u001b[39m simplify(sol[k])\n\u001b[1;32m    308\u001b[0m \u001b[39m# start over without the failed expanded form, possibly\u001b[39;00m\n\u001b[1;32m    309\u001b[0m \u001b[39m# with a simplified solution\u001b[39;00m\n\u001b[0;32m--> 310\u001b[0m val \u001b[39m=\u001b[39m simplify(f\u001b[39m.\u001b[39;49msubs(sol))\n\u001b[1;32m    311\u001b[0m \u001b[39mif\u001b[39;00m flags\u001b[39m.\u001b[39mget(\u001b[39m'\u001b[39m\u001b[39mforce\u001b[39m\u001b[39m'\u001b[39m, \u001b[39mTrue\u001b[39;00m):\n\u001b[1;32m    312\u001b[0m     val, reps \u001b[39m=\u001b[39m posify(val)\n",
      "File \u001b[0;32m/Library/Frameworks/Python.framework/Versions/3.11/lib/python3.11/site-packages/sympy/simplify/simplify.py:699\u001b[0m, in \u001b[0;36msimplify\u001b[0;34m(expr, ratio, measure, rational, inverse, doit, **kwargs)\u001b[0m\n\u001b[1;32m    696\u001b[0m     expr \u001b[39m=\u001b[39m besselsimp(expr)\n\u001b[1;32m    698\u001b[0m \u001b[39mif\u001b[39;00m expr\u001b[39m.\u001b[39mhas(TrigonometricFunction, HyperbolicFunction):\n\u001b[0;32m--> 699\u001b[0m     expr \u001b[39m=\u001b[39m trigsimp(expr, deep\u001b[39m=\u001b[39;49m\u001b[39mTrue\u001b[39;49;00m)\n\u001b[1;32m    701\u001b[0m \u001b[39mif\u001b[39;00m expr\u001b[39m.\u001b[39mhas(log):\n\u001b[1;32m    702\u001b[0m     expr \u001b[39m=\u001b[39m shorter(expand_log(expr, deep\u001b[39m=\u001b[39m\u001b[39mTrue\u001b[39;00m), logcombine(expr))\n",
      "File \u001b[0;32m/Library/Frameworks/Python.framework/Versions/3.11/lib/python3.11/site-packages/sympy/simplify/trigsimp.py:564\u001b[0m, in \u001b[0;36mtrigsimp\u001b[0;34m(expr, inverse, **opts)\u001b[0m\n\u001b[1;32m    553\u001b[0m     \u001b[39mreturn\u001b[39;00m trigsimp_groebner(new, \u001b[39m*\u001b[39m\u001b[39m*\u001b[39mopts)\n\u001b[1;32m    555\u001b[0m trigsimpfunc \u001b[39m=\u001b[39m {\n\u001b[1;32m    556\u001b[0m     \u001b[39m'\u001b[39m\u001b[39mfu\u001b[39m\u001b[39m'\u001b[39m: (\u001b[39mlambda\u001b[39;00m x: fu(x, \u001b[39m*\u001b[39m\u001b[39m*\u001b[39mopts)),\n\u001b[1;32m    557\u001b[0m     \u001b[39m'\u001b[39m\u001b[39mmatching\u001b[39m\u001b[39m'\u001b[39m: (\u001b[39mlambda\u001b[39;00m x: futrig(x)),\n\u001b[0;32m   (...)\u001b[0m\n\u001b[1;32m    561\u001b[0m     \u001b[39m'\u001b[39m\u001b[39mold\u001b[39m\u001b[39m'\u001b[39m: \u001b[39mlambda\u001b[39;00m x: trigsimp_old(x, \u001b[39m*\u001b[39m\u001b[39m*\u001b[39mopts),\n\u001b[1;32m    562\u001b[0m                }[method]\n\u001b[0;32m--> 564\u001b[0m expr_simplified \u001b[39m=\u001b[39m trigsimpfunc(expr)\n\u001b[1;32m    565\u001b[0m \u001b[39mif\u001b[39;00m inverse:\n\u001b[1;32m    566\u001b[0m     expr_simplified \u001b[39m=\u001b[39m _trigsimp_inverse(expr_simplified)\n",
      "File \u001b[0;32m/Library/Frameworks/Python.framework/Versions/3.11/lib/python3.11/site-packages/sympy/simplify/trigsimp.py:557\u001b[0m, in \u001b[0;36mtrigsimp.<locals>.<lambda>\u001b[0;34m(x)\u001b[0m\n\u001b[1;32m    552\u001b[0m         \u001b[39mreturn\u001b[39;00m new\n\u001b[1;32m    553\u001b[0m     \u001b[39mreturn\u001b[39;00m trigsimp_groebner(new, \u001b[39m*\u001b[39m\u001b[39m*\u001b[39mopts)\n\u001b[1;32m    555\u001b[0m trigsimpfunc \u001b[39m=\u001b[39m {\n\u001b[1;32m    556\u001b[0m     \u001b[39m'\u001b[39m\u001b[39mfu\u001b[39m\u001b[39m'\u001b[39m: (\u001b[39mlambda\u001b[39;00m x: fu(x, \u001b[39m*\u001b[39m\u001b[39m*\u001b[39mopts)),\n\u001b[0;32m--> 557\u001b[0m     \u001b[39m'\u001b[39m\u001b[39mmatching\u001b[39m\u001b[39m'\u001b[39m: (\u001b[39mlambda\u001b[39;00m x: futrig(x)),\n\u001b[1;32m    558\u001b[0m     \u001b[39m'\u001b[39m\u001b[39mgroebner\u001b[39m\u001b[39m'\u001b[39m: (\u001b[39mlambda\u001b[39;00m x: groebnersimp(x, \u001b[39m*\u001b[39m\u001b[39m*\u001b[39mopts)),\n\u001b[1;32m    559\u001b[0m     \u001b[39m'\u001b[39m\u001b[39mcombined\u001b[39m\u001b[39m'\u001b[39m: (\u001b[39mlambda\u001b[39;00m x: futrig(groebnersimp(x,\n\u001b[1;32m    560\u001b[0m                            polynomial\u001b[39m=\u001b[39m\u001b[39mTrue\u001b[39;00m, hints\u001b[39m=\u001b[39m[\u001b[39m2\u001b[39m, tan]))),\n\u001b[1;32m    561\u001b[0m     \u001b[39m'\u001b[39m\u001b[39mold\u001b[39m\u001b[39m'\u001b[39m: \u001b[39mlambda\u001b[39;00m x: trigsimp_old(x, \u001b[39m*\u001b[39m\u001b[39m*\u001b[39mopts),\n\u001b[1;32m    562\u001b[0m                }[method]\n\u001b[1;32m    564\u001b[0m expr_simplified \u001b[39m=\u001b[39m trigsimpfunc(expr)\n\u001b[1;32m    565\u001b[0m \u001b[39mif\u001b[39;00m inverse:\n",
      "File \u001b[0;32m/Library/Frameworks/Python.framework/Versions/3.11/lib/python3.11/site-packages/sympy/simplify/trigsimp.py:1158\u001b[0m, in \u001b[0;36mfutrig\u001b[0;34m(e, hyper, **kwargs)\u001b[0m\n\u001b[1;32m   1155\u001b[0m     \u001b[39mreturn\u001b[39;00m e\n\u001b[1;32m   1157\u001b[0m old \u001b[39m=\u001b[39m e\n\u001b[0;32m-> 1158\u001b[0m e \u001b[39m=\u001b[39m bottom_up(e, _futrig)\n\u001b[1;32m   1160\u001b[0m \u001b[39mif\u001b[39;00m hyper \u001b[39mand\u001b[39;00m e\u001b[39m.\u001b[39mhas(HyperbolicFunction):\n\u001b[1;32m   1161\u001b[0m     e, f \u001b[39m=\u001b[39m hyper_as_trig(e)\n",
      "File \u001b[0;32m/Library/Frameworks/Python.framework/Versions/3.11/lib/python3.11/site-packages/sympy/core/traversal.py:239\u001b[0m, in \u001b[0;36mbottom_up\u001b[0;34m(rv, F, atoms, nonbasic)\u001b[0m\n\u001b[1;32m    237\u001b[0m     \u001b[39mif\u001b[39;00m args \u001b[39m!=\u001b[39m rv\u001b[39m.\u001b[39margs:\n\u001b[1;32m    238\u001b[0m         rv \u001b[39m=\u001b[39m rv\u001b[39m.\u001b[39mfunc(\u001b[39m*\u001b[39margs)\n\u001b[0;32m--> 239\u001b[0m     rv \u001b[39m=\u001b[39m F(rv)\n\u001b[1;32m    240\u001b[0m \u001b[39melif\u001b[39;00m atoms:\n\u001b[1;32m    241\u001b[0m     rv \u001b[39m=\u001b[39m F(rv)\n",
      "File \u001b[0;32m/Library/Frameworks/Python.framework/Versions/3.11/lib/python3.11/site-packages/sympy/simplify/trigsimp.py:1225\u001b[0m, in \u001b[0;36m_futrig\u001b[0;34m(e)\u001b[0m\n\u001b[1;32m   1186\u001b[0m trigs \u001b[39m=\u001b[39m \u001b[39mlambda\u001b[39;00m x: x\u001b[39m.\u001b[39mhas(TrigonometricFunction)\n\u001b[1;32m   1188\u001b[0m tree \u001b[39m=\u001b[39m [identity,\n\u001b[1;32m   1189\u001b[0m     (\n\u001b[1;32m   1190\u001b[0m     TR3,  \u001b[39m# canonical angles\u001b[39;00m\n\u001b[0;32m   (...)\u001b[0m\n\u001b[1;32m   1223\u001b[0m         factor_terms, TR12(x), trigs)],  \u001b[39m# expand tan of sum\u001b[39;00m\n\u001b[1;32m   1224\u001b[0m     )]\n\u001b[0;32m-> 1225\u001b[0m e \u001b[39m=\u001b[39m greedy(tree, objective\u001b[39m=\u001b[39;49mLops)(e)\n\u001b[1;32m   1227\u001b[0m \u001b[39mif\u001b[39;00m coeff \u001b[39mis\u001b[39;00m \u001b[39mnot\u001b[39;00m \u001b[39mNone\u001b[39;00m:\n\u001b[1;32m   1228\u001b[0m     e \u001b[39m=\u001b[39m coeff \u001b[39m*\u001b[39m e\n",
      "File \u001b[0;32m/Library/Frameworks/Python.framework/Versions/3.11/lib/python3.11/site-packages/sympy/strategies/core.py:150\u001b[0m, in \u001b[0;36mminimize.<locals>.minrule\u001b[0;34m(expr)\u001b[0m\n\u001b[1;32m    149\u001b[0m \u001b[39mdef\u001b[39;00m \u001b[39mminrule\u001b[39m(expr: _S) \u001b[39m-\u001b[39m\u001b[39m>\u001b[39m _T:\n\u001b[0;32m--> 150\u001b[0m     \u001b[39mreturn\u001b[39;00m \u001b[39mmin\u001b[39m([rule(expr) \u001b[39mfor\u001b[39;49;00m rule \u001b[39min\u001b[39;49;00m rules], key\u001b[39m=\u001b[39mobjective)\n",
      "File \u001b[0;32m/Library/Frameworks/Python.framework/Versions/3.11/lib/python3.11/site-packages/sympy/strategies/core.py:150\u001b[0m, in \u001b[0;36m<listcomp>\u001b[0;34m(.0)\u001b[0m\n\u001b[1;32m    149\u001b[0m \u001b[39mdef\u001b[39;00m \u001b[39mminrule\u001b[39m(expr: _S) \u001b[39m-\u001b[39m\u001b[39m>\u001b[39m _T:\n\u001b[0;32m--> 150\u001b[0m     \u001b[39mreturn\u001b[39;00m \u001b[39mmin\u001b[39m([rule(expr) \u001b[39mfor\u001b[39;00m rule \u001b[39min\u001b[39;00m rules], key\u001b[39m=\u001b[39mobjective)\n",
      "File \u001b[0;32m/Library/Frameworks/Python.framework/Versions/3.11/lib/python3.11/site-packages/sympy/strategies/core.py:64\u001b[0m, in \u001b[0;36mchain.<locals>.chain_rl\u001b[0;34m(expr)\u001b[0m\n\u001b[1;32m     62\u001b[0m \u001b[39mdef\u001b[39;00m \u001b[39mchain_rl\u001b[39m(expr: _T) \u001b[39m-\u001b[39m\u001b[39m>\u001b[39m _T:\n\u001b[1;32m     63\u001b[0m     \u001b[39mfor\u001b[39;00m rule \u001b[39min\u001b[39;00m rules:\n\u001b[0;32m---> 64\u001b[0m         expr \u001b[39m=\u001b[39m rule(expr)\n\u001b[1;32m     65\u001b[0m     \u001b[39mreturn\u001b[39;00m expr\n",
      "File \u001b[0;32m/Library/Frameworks/Python.framework/Versions/3.11/lib/python3.11/site-packages/sympy/simplify/fu.py:755\u001b[0m, in \u001b[0;36mTR10i\u001b[0;34m(rv)\u001b[0m\n\u001b[1;32m    751\u001b[0m             \u001b[39mbreak\u001b[39;00m\n\u001b[1;32m    753\u001b[0m     \u001b[39mreturn\u001b[39;00m rv\n\u001b[0;32m--> 755\u001b[0m \u001b[39mreturn\u001b[39;00m bottom_up(rv, f)\n",
      "File \u001b[0;32m/Library/Frameworks/Python.framework/Versions/3.11/lib/python3.11/site-packages/sympy/core/traversal.py:236\u001b[0m, in \u001b[0;36mbottom_up\u001b[0;34m(rv, F, atoms, nonbasic)\u001b[0m\n\u001b[1;32m    234\u001b[0m \u001b[39mif\u001b[39;00m args \u001b[39mis\u001b[39;00m \u001b[39mnot\u001b[39;00m \u001b[39mNone\u001b[39;00m:\n\u001b[1;32m    235\u001b[0m     \u001b[39mif\u001b[39;00m args:\n\u001b[0;32m--> 236\u001b[0m         args \u001b[39m=\u001b[39m \u001b[39mtuple\u001b[39m([bottom_up(a, F, atoms, nonbasic) \u001b[39mfor\u001b[39;49;00m a \u001b[39min\u001b[39;49;00m args])\n\u001b[1;32m    237\u001b[0m         \u001b[39mif\u001b[39;00m args \u001b[39m!=\u001b[39m rv\u001b[39m.\u001b[39margs:\n\u001b[1;32m    238\u001b[0m             rv \u001b[39m=\u001b[39m rv\u001b[39m.\u001b[39mfunc(\u001b[39m*\u001b[39margs)\n",
      "File \u001b[0;32m/Library/Frameworks/Python.framework/Versions/3.11/lib/python3.11/site-packages/sympy/core/traversal.py:236\u001b[0m, in \u001b[0;36m<listcomp>\u001b[0;34m(.0)\u001b[0m\n\u001b[1;32m    234\u001b[0m \u001b[39mif\u001b[39;00m args \u001b[39mis\u001b[39;00m \u001b[39mnot\u001b[39;00m \u001b[39mNone\u001b[39;00m:\n\u001b[1;32m    235\u001b[0m     \u001b[39mif\u001b[39;00m args:\n\u001b[0;32m--> 236\u001b[0m         args \u001b[39m=\u001b[39m \u001b[39mtuple\u001b[39m([bottom_up(a, F, atoms, nonbasic) \u001b[39mfor\u001b[39;00m a \u001b[39min\u001b[39;00m args])\n\u001b[1;32m    237\u001b[0m         \u001b[39mif\u001b[39;00m args \u001b[39m!=\u001b[39m rv\u001b[39m.\u001b[39margs:\n\u001b[1;32m    238\u001b[0m             rv \u001b[39m=\u001b[39m rv\u001b[39m.\u001b[39mfunc(\u001b[39m*\u001b[39margs)\n",
      "File \u001b[0;32m/Library/Frameworks/Python.framework/Versions/3.11/lib/python3.11/site-packages/sympy/core/traversal.py:236\u001b[0m, in \u001b[0;36mbottom_up\u001b[0;34m(rv, F, atoms, nonbasic)\u001b[0m\n\u001b[1;32m    234\u001b[0m \u001b[39mif\u001b[39;00m args \u001b[39mis\u001b[39;00m \u001b[39mnot\u001b[39;00m \u001b[39mNone\u001b[39;00m:\n\u001b[1;32m    235\u001b[0m     \u001b[39mif\u001b[39;00m args:\n\u001b[0;32m--> 236\u001b[0m         args \u001b[39m=\u001b[39m \u001b[39mtuple\u001b[39m([bottom_up(a, F, atoms, nonbasic) \u001b[39mfor\u001b[39;49;00m a \u001b[39min\u001b[39;49;00m args])\n\u001b[1;32m    237\u001b[0m         \u001b[39mif\u001b[39;00m args \u001b[39m!=\u001b[39m rv\u001b[39m.\u001b[39margs:\n\u001b[1;32m    238\u001b[0m             rv \u001b[39m=\u001b[39m rv\u001b[39m.\u001b[39mfunc(\u001b[39m*\u001b[39margs)\n",
      "File \u001b[0;32m/Library/Frameworks/Python.framework/Versions/3.11/lib/python3.11/site-packages/sympy/core/traversal.py:236\u001b[0m, in \u001b[0;36m<listcomp>\u001b[0;34m(.0)\u001b[0m\n\u001b[1;32m    234\u001b[0m \u001b[39mif\u001b[39;00m args \u001b[39mis\u001b[39;00m \u001b[39mnot\u001b[39;00m \u001b[39mNone\u001b[39;00m:\n\u001b[1;32m    235\u001b[0m     \u001b[39mif\u001b[39;00m args:\n\u001b[0;32m--> 236\u001b[0m         args \u001b[39m=\u001b[39m \u001b[39mtuple\u001b[39m([bottom_up(a, F, atoms, nonbasic) \u001b[39mfor\u001b[39;00m a \u001b[39min\u001b[39;00m args])\n\u001b[1;32m    237\u001b[0m         \u001b[39mif\u001b[39;00m args \u001b[39m!=\u001b[39m rv\u001b[39m.\u001b[39margs:\n\u001b[1;32m    238\u001b[0m             rv \u001b[39m=\u001b[39m rv\u001b[39m.\u001b[39mfunc(\u001b[39m*\u001b[39margs)\n",
      "    \u001b[0;31m[... skipping similar frames: <listcomp> at line 236 (4 times), bottom_up at line 236 (4 times)]\u001b[0m\n",
      "File \u001b[0;32m/Library/Frameworks/Python.framework/Versions/3.11/lib/python3.11/site-packages/sympy/core/traversal.py:236\u001b[0m, in \u001b[0;36mbottom_up\u001b[0;34m(rv, F, atoms, nonbasic)\u001b[0m\n\u001b[1;32m    234\u001b[0m \u001b[39mif\u001b[39;00m args \u001b[39mis\u001b[39;00m \u001b[39mnot\u001b[39;00m \u001b[39mNone\u001b[39;00m:\n\u001b[1;32m    235\u001b[0m     \u001b[39mif\u001b[39;00m args:\n\u001b[0;32m--> 236\u001b[0m         args \u001b[39m=\u001b[39m \u001b[39mtuple\u001b[39m([bottom_up(a, F, atoms, nonbasic) \u001b[39mfor\u001b[39;49;00m a \u001b[39min\u001b[39;49;00m args])\n\u001b[1;32m    237\u001b[0m         \u001b[39mif\u001b[39;00m args \u001b[39m!=\u001b[39m rv\u001b[39m.\u001b[39margs:\n\u001b[1;32m    238\u001b[0m             rv \u001b[39m=\u001b[39m rv\u001b[39m.\u001b[39mfunc(\u001b[39m*\u001b[39margs)\n",
      "File \u001b[0;32m/Library/Frameworks/Python.framework/Versions/3.11/lib/python3.11/site-packages/sympy/core/traversal.py:236\u001b[0m, in \u001b[0;36m<listcomp>\u001b[0;34m(.0)\u001b[0m\n\u001b[1;32m    234\u001b[0m \u001b[39mif\u001b[39;00m args \u001b[39mis\u001b[39;00m \u001b[39mnot\u001b[39;00m \u001b[39mNone\u001b[39;00m:\n\u001b[1;32m    235\u001b[0m     \u001b[39mif\u001b[39;00m args:\n\u001b[0;32m--> 236\u001b[0m         args \u001b[39m=\u001b[39m \u001b[39mtuple\u001b[39m([bottom_up(a, F, atoms, nonbasic) \u001b[39mfor\u001b[39;00m a \u001b[39min\u001b[39;00m args])\n\u001b[1;32m    237\u001b[0m         \u001b[39mif\u001b[39;00m args \u001b[39m!=\u001b[39m rv\u001b[39m.\u001b[39margs:\n\u001b[1;32m    238\u001b[0m             rv \u001b[39m=\u001b[39m rv\u001b[39m.\u001b[39mfunc(\u001b[39m*\u001b[39margs)\n",
      "File \u001b[0;32m/Library/Frameworks/Python.framework/Versions/3.11/lib/python3.11/site-packages/sympy/core/traversal.py:239\u001b[0m, in \u001b[0;36mbottom_up\u001b[0;34m(rv, F, atoms, nonbasic)\u001b[0m\n\u001b[1;32m    237\u001b[0m     \u001b[39mif\u001b[39;00m args \u001b[39m!=\u001b[39m rv\u001b[39m.\u001b[39margs:\n\u001b[1;32m    238\u001b[0m         rv \u001b[39m=\u001b[39m rv\u001b[39m.\u001b[39mfunc(\u001b[39m*\u001b[39margs)\n\u001b[0;32m--> 239\u001b[0m     rv \u001b[39m=\u001b[39m F(rv)\n\u001b[1;32m    240\u001b[0m \u001b[39melif\u001b[39;00m atoms:\n\u001b[1;32m    241\u001b[0m     rv \u001b[39m=\u001b[39m F(rv)\n",
      "File \u001b[0;32m/Library/Frameworks/Python.framework/Versions/3.11/lib/python3.11/site-packages/sympy/simplify/fu.py:750\u001b[0m, in \u001b[0;36mTR10i.<locals>.f\u001b[0;34m(rv)\u001b[0m\n\u001b[1;32m    747\u001b[0m         rv \u001b[39m=\u001b[39m Add(\u001b[39m*\u001b[39m(args \u001b[39m+\u001b[39m [Add(\u001b[39m*\u001b[39m[_f \u001b[39mfor\u001b[39;00m _f \u001b[39min\u001b[39;00m v \u001b[39mif\u001b[39;00m _f])\n\u001b[1;32m    748\u001b[0m             \u001b[39mfor\u001b[39;00m v \u001b[39min\u001b[39;00m byrad\u001b[39m.\u001b[39mvalues()]))\n\u001b[1;32m    749\u001b[0m     \u001b[39melse\u001b[39;00m:\n\u001b[0;32m--> 750\u001b[0m         rv \u001b[39m=\u001b[39m do(rv)  \u001b[39m# final pass to resolve any new inducible pairs\u001b[39;00m\n\u001b[1;32m    751\u001b[0m         \u001b[39mbreak\u001b[39;00m\n\u001b[1;32m    753\u001b[0m \u001b[39mreturn\u001b[39;00m rv\n",
      "File \u001b[0;32m/Library/Frameworks/Python.framework/Versions/3.11/lib/python3.11/site-packages/sympy/simplify/fu.py:677\u001b[0m, in \u001b[0;36mTR10i.<locals>.f.<locals>.do\u001b[0;34m(rv, first)\u001b[0m\n\u001b[1;32m    675\u001b[0m     \u001b[39mcontinue\u001b[39;00m\n\u001b[1;32m    676\u001b[0m was \u001b[39m=\u001b[39m ai \u001b[39m+\u001b[39m aj\n\u001b[0;32m--> 677\u001b[0m new \u001b[39m=\u001b[39m do(was)\n\u001b[1;32m    678\u001b[0m \u001b[39mif\u001b[39;00m new \u001b[39m!=\u001b[39m was:\n\u001b[1;32m    679\u001b[0m     args[i] \u001b[39m=\u001b[39m new  \u001b[39m# update in place\u001b[39;00m\n",
      "File \u001b[0;32m/Library/Frameworks/Python.framework/Versions/3.11/lib/python3.11/site-packages/sympy/simplify/fu.py:691\u001b[0m, in \u001b[0;36mTR10i.<locals>.f.<locals>.do\u001b[0;34m(rv, first)\u001b[0m\n\u001b[1;32m    688\u001b[0m     \u001b[39mreturn\u001b[39;00m rv\n\u001b[1;32m    690\u001b[0m \u001b[39m# two-arg Add\u001b[39;00m\n\u001b[0;32m--> 691\u001b[0m split \u001b[39m=\u001b[39m trig_split(\u001b[39m*\u001b[39;49margs, two\u001b[39m=\u001b[39;49m\u001b[39mTrue\u001b[39;49;00m)\n\u001b[1;32m    692\u001b[0m \u001b[39mif\u001b[39;00m \u001b[39mnot\u001b[39;00m split:\n\u001b[1;32m    693\u001b[0m     \u001b[39mreturn\u001b[39;00m rv\n",
      "File \u001b[0;32m/Library/Frameworks/Python.framework/Versions/3.11/lib/python3.11/site-packages/sympy/simplify/fu.py:1772\u001b[0m, in \u001b[0;36mtrig_split\u001b[0;34m(a, b, two)\u001b[0m\n\u001b[1;32m   1770\u001b[0m a, b \u001b[39m=\u001b[39m [Factors(i) \u001b[39mfor\u001b[39;00m i \u001b[39min\u001b[39;00m (a, b)]\n\u001b[1;32m   1771\u001b[0m ua, ub \u001b[39m=\u001b[39m a\u001b[39m.\u001b[39mnormal(b)\n\u001b[0;32m-> 1772\u001b[0m gcd \u001b[39m=\u001b[39m a\u001b[39m.\u001b[39;49mgcd(b)\u001b[39m.\u001b[39mas_expr()\n\u001b[1;32m   1773\u001b[0m n1 \u001b[39m=\u001b[39m n2 \u001b[39m=\u001b[39m \u001b[39m1\u001b[39m\n\u001b[1;32m   1774\u001b[0m \u001b[39mif\u001b[39;00m S\u001b[39m.\u001b[39mNegativeOne \u001b[39min\u001b[39;00m ua\u001b[39m.\u001b[39mfactors:\n",
      "File \u001b[0;32m/Library/Frameworks/Python.framework/Versions/3.11/lib/python3.11/site-packages/sympy/core/exprtools.py:749\u001b[0m, in \u001b[0;36mFactors.gcd\u001b[0;34m(self, other)\u001b[0m\n\u001b[1;32m    746\u001b[0m         \u001b[39melif\u001b[39;00m lt \u001b[39m==\u001b[39m \u001b[39mFalse\u001b[39;00m:\n\u001b[1;32m    747\u001b[0m             factors[factor] \u001b[39m=\u001b[39m other\u001b[39m.\u001b[39mfactors[factor]\n\u001b[0;32m--> 749\u001b[0m \u001b[39mreturn\u001b[39;00m Factors(factors)\n",
      "File \u001b[0;32m/Library/Frameworks/Python.framework/Versions/3.11/lib/python3.11/site-packages/sympy/core/exprtools.py:324\u001b[0m, in \u001b[0;36mFactors.__init__\u001b[0;34m(self, factors)\u001b[0m\n\u001b[1;32m    322\u001b[0m \u001b[39mif\u001b[39;00m \u001b[39misinstance\u001b[39m(factors, Factors):\n\u001b[1;32m    323\u001b[0m     factors \u001b[39m=\u001b[39m factors\u001b[39m.\u001b[39mfactors\u001b[39m.\u001b[39mcopy()\n\u001b[0;32m--> 324\u001b[0m \u001b[39melif\u001b[39;00m factors \u001b[39min\u001b[39;49;00m (\u001b[39mNone\u001b[39;49;00m, S\u001b[39m.\u001b[39;49mOne):\n\u001b[1;32m    325\u001b[0m     factors \u001b[39m=\u001b[39m {}\n\u001b[1;32m    326\u001b[0m \u001b[39melif\u001b[39;00m factors \u001b[39mis\u001b[39;00m S\u001b[39m.\u001b[39mZero \u001b[39mor\u001b[39;00m factors \u001b[39m==\u001b[39m \u001b[39m0\u001b[39m:\n",
      "File \u001b[0;32m/Library/Frameworks/Python.framework/Versions/3.11/lib/python3.11/site-packages/sympy/core/numbers.py:2248\u001b[0m, in \u001b[0;36mInteger.__eq__\u001b[0;34m(self, other)\u001b[0m\n\u001b[1;32m   2246\u001b[0m \u001b[39melif\u001b[39;00m \u001b[39misinstance\u001b[39m(other, Integer):\n\u001b[1;32m   2247\u001b[0m     \u001b[39mreturn\u001b[39;00m (\u001b[39mself\u001b[39m\u001b[39m.\u001b[39mp \u001b[39m==\u001b[39m other\u001b[39m.\u001b[39mp)\n\u001b[0;32m-> 2248\u001b[0m \u001b[39mreturn\u001b[39;00m Rational\u001b[39m.\u001b[39;49m\u001b[39m__eq__\u001b[39;49m(\u001b[39mself\u001b[39;49m, other)\n",
      "File \u001b[0;32m/Library/Frameworks/Python.framework/Versions/3.11/lib/python3.11/site-packages/sympy/core/numbers.py:1874\u001b[0m, in \u001b[0;36mRational.__eq__\u001b[0;34m(self, other)\u001b[0m\n\u001b[1;32m   1872\u001b[0m \u001b[39mdef\u001b[39;00m \u001b[39m__eq__\u001b[39m(\u001b[39mself\u001b[39m, other):\n\u001b[1;32m   1873\u001b[0m     \u001b[39mtry\u001b[39;00m:\n\u001b[0;32m-> 1874\u001b[0m         other \u001b[39m=\u001b[39m _sympify(other)\n\u001b[1;32m   1875\u001b[0m     \u001b[39mexcept\u001b[39;00m SympifyError:\n\u001b[1;32m   1876\u001b[0m         \u001b[39mreturn\u001b[39;00m \u001b[39mNotImplemented\u001b[39m\n",
      "File \u001b[0;32m/Library/Frameworks/Python.framework/Versions/3.11/lib/python3.11/site-packages/sympy/core/sympify.py:528\u001b[0m, in \u001b[0;36m_sympify\u001b[0;34m(a)\u001b[0m\n\u001b[1;32m    502\u001b[0m \u001b[39mdef\u001b[39;00m \u001b[39m_sympify\u001b[39m(a):\n\u001b[1;32m    503\u001b[0m \u001b[39m    \u001b[39m\u001b[39m\"\"\"\u001b[39;00m\n\u001b[1;32m    504\u001b[0m \u001b[39m    Short version of :func:`~.sympify` for internal usage for ``__add__`` and\u001b[39;00m\n\u001b[1;32m    505\u001b[0m \u001b[39m    ``__eq__`` methods where it is ok to allow some things (like Python\u001b[39;00m\n\u001b[0;32m   (...)\u001b[0m\n\u001b[1;32m    526\u001b[0m \n\u001b[1;32m    527\u001b[0m \u001b[39m    \"\"\"\u001b[39;00m\n\u001b[0;32m--> 528\u001b[0m     \u001b[39mreturn\u001b[39;00m sympify(a, strict\u001b[39m=\u001b[39;49m\u001b[39mTrue\u001b[39;49;00m)\n",
      "File \u001b[0;32m/Library/Frameworks/Python.framework/Versions/3.11/lib/python3.11/site-packages/sympy/core/sympify.py:383\u001b[0m, in \u001b[0;36msympify\u001b[0;34m(a, locals, convert_xor, strict, rational, evaluate)\u001b[0m\n\u001b[1;32m    381\u001b[0m         conv \u001b[39m=\u001b[39m _sympy_converter\u001b[39m.\u001b[39mget(superclass)\n\u001b[1;32m    382\u001b[0m     \u001b[39mif\u001b[39;00m conv \u001b[39mis\u001b[39;00m \u001b[39mnot\u001b[39;00m \u001b[39mNone\u001b[39;00m:\n\u001b[0;32m--> 383\u001b[0m         \u001b[39mreturn\u001b[39;00m conv(a)\n\u001b[1;32m    385\u001b[0m \u001b[39mif\u001b[39;00m \u001b[39mcls\u001b[39m \u001b[39mis\u001b[39;00m \u001b[39mtype\u001b[39m(\u001b[39mNone\u001b[39;00m):\n\u001b[1;32m    386\u001b[0m     \u001b[39mif\u001b[39;00m strict:\n",
      "File \u001b[0;32m/Library/Frameworks/Python.framework/Versions/3.11/lib/python3.11/site-packages/sympy/core/containers.py:332\u001b[0m, in \u001b[0;36m<lambda>\u001b[0;34m(d)\u001b[0m\n\u001b[1;32m    329\u001b[0m     \u001b[39m__hash__\u001b[39m : Callable[[Basic], Any] \u001b[39m=\u001b[39m Basic\u001b[39m.\u001b[39m\u001b[39m__hash__\u001b[39m\n\u001b[1;32m    331\u001b[0m \u001b[39m# this handles dict, defaultdict, OrderedDict\u001b[39;00m\n\u001b[0;32m--> 332\u001b[0m _sympy_converter[\u001b[39mdict\u001b[39m] \u001b[39m=\u001b[39m \u001b[39mlambda\u001b[39;00m d: Dict(\u001b[39m*\u001b[39;49md\u001b[39m.\u001b[39;49mitems())\n\u001b[1;32m    334\u001b[0m \u001b[39mclass\u001b[39;00m \u001b[39mOrderedSet\u001b[39;00m(MutableSet):\n\u001b[1;32m    335\u001b[0m     \u001b[39mdef\u001b[39;00m \u001b[39m__init__\u001b[39m(\u001b[39mself\u001b[39m, iterable\u001b[39m=\u001b[39m\u001b[39mNone\u001b[39;00m):\n",
      "File \u001b[0;32m/Library/Frameworks/Python.framework/Versions/3.11/lib/python3.11/site-packages/sympy/core/containers.py:263\u001b[0m, in \u001b[0;36mDict.__new__\u001b[0;34m(cls, *args)\u001b[0m\n\u001b[1;32m    261\u001b[0m     \u001b[39mraise\u001b[39;00m \u001b[39mTypeError\u001b[39;00m(\u001b[39m'\u001b[39m\u001b[39mPass Dict args as Dict((k1, v1), ...) or Dict(\u001b[39m\u001b[39m{\u001b[39m\u001b[39mk1: v1, ...})\u001b[39m\u001b[39m'\u001b[39m)\n\u001b[1;32m    262\u001b[0m elements \u001b[39m=\u001b[39m \u001b[39mfrozenset\u001b[39m(items)\n\u001b[0;32m--> 263\u001b[0m obj \u001b[39m=\u001b[39m Basic\u001b[39m.\u001b[39m\u001b[39m__new__\u001b[39m(\u001b[39mcls\u001b[39m, \u001b[39m*\u001b[39mordered(items))\n\u001b[1;32m    264\u001b[0m obj\u001b[39m.\u001b[39melements \u001b[39m=\u001b[39m elements\n\u001b[1;32m    265\u001b[0m obj\u001b[39m.\u001b[39m_dict \u001b[39m=\u001b[39m \u001b[39mdict\u001b[39m(items)  \u001b[39m# In case Tuple decides it wants to sympify\u001b[39;00m\n",
      "File \u001b[0;32m/Library/Frameworks/Python.framework/Versions/3.11/lib/python3.11/site-packages/sympy/core/sorting.py:309\u001b[0m, in \u001b[0;36mordered\u001b[0;34m(seq, keys, default, warn)\u001b[0m\n\u001b[1;32m    306\u001b[0m         \u001b[39mif\u001b[39;00m \u001b[39mlen\u001b[39m(u) \u001b[39m>\u001b[39m \u001b[39m1\u001b[39m:\n\u001b[1;32m    307\u001b[0m             \u001b[39mraise\u001b[39;00m \u001b[39mValueError\u001b[39;00m(\n\u001b[1;32m    308\u001b[0m                 \u001b[39m'\u001b[39m\u001b[39mnot enough keys to break ties: \u001b[39m\u001b[39m%s\u001b[39;00m\u001b[39m'\u001b[39m \u001b[39m%\u001b[39m u)\n\u001b[0;32m--> 309\u001b[0m \u001b[39myield from\u001b[39;00m value\n",
      "File \u001b[0;32m/Library/Frameworks/Python.framework/Versions/3.11/lib/python3.11/site-packages/sympy/core/sorting.py:309\u001b[0m, in \u001b[0;36mordered\u001b[0;34m(seq, keys, default, warn)\u001b[0m\n\u001b[1;32m    306\u001b[0m         \u001b[39mif\u001b[39;00m \u001b[39mlen\u001b[39m(u) \u001b[39m>\u001b[39m \u001b[39m1\u001b[39m:\n\u001b[1;32m    307\u001b[0m             \u001b[39mraise\u001b[39;00m \u001b[39mValueError\u001b[39;00m(\n\u001b[1;32m    308\u001b[0m                 \u001b[39m'\u001b[39m\u001b[39mnot enough keys to break ties: \u001b[39m\u001b[39m%s\u001b[39;00m\u001b[39m'\u001b[39m \u001b[39m%\u001b[39m u)\n\u001b[0;32m--> 309\u001b[0m \u001b[39myield from\u001b[39;00m value\n",
      "File \u001b[0;32m/Library/Frameworks/Python.framework/Versions/3.11/lib/python3.11/site-packages/sympy/core/sorting.py:291\u001b[0m, in \u001b[0;36mordered\u001b[0;34m(seq, keys, default, warn)\u001b[0m\n\u001b[1;32m    289\u001b[0m         keys \u001b[39m=\u001b[39m []\n\u001b[1;32m    290\u001b[0m     \u001b[39mfor\u001b[39;00m a \u001b[39min\u001b[39;00m seq:\n\u001b[0;32m--> 291\u001b[0m         d[f(a)]\u001b[39m.\u001b[39mappend(a)\n\u001b[1;32m    292\u001b[0m \u001b[39melse\u001b[39;00m:\n\u001b[1;32m    293\u001b[0m     \u001b[39mif\u001b[39;00m \u001b[39mnot\u001b[39;00m default:\n",
      "File \u001b[0;32m/Library/Frameworks/Python.framework/Versions/3.11/lib/python3.11/site-packages/sympy/core/numbers.py:2290\u001b[0m, in \u001b[0;36mInteger.__hash__\u001b[0;34m(self)\u001b[0m\n\u001b[1;32m   2289\u001b[0m \u001b[39mdef\u001b[39;00m \u001b[39m__hash__\u001b[39m(\u001b[39mself\u001b[39m):\n\u001b[0;32m-> 2290\u001b[0m     \u001b[39mreturn\u001b[39;00m \u001b[39mhash\u001b[39m(\u001b[39mself\u001b[39m\u001b[39m.\u001b[39mp)\n",
      "\u001b[0;31mKeyboardInterrupt\u001b[0m: "
     ]
    }
   ],
   "source": [
    "# Solve the equations symbolically\n",
    "solutions = solve((eq_x, eq_y), (theta2, theta3))\n",
    "\n",
    "solutions\n",
    "\n",
    "# Print the solutions\n",
    "# eq_x"
   ]
  },
  {
   "cell_type": "code",
   "execution_count": 37,
   "metadata": {},
   "outputs": [
    {
     "data": {
      "text/latex": [
       "$\\displaystyle \\left[\\begin{matrix}L_{1} c_{1} + L_{2} \\cos{\\left(\\theta_{2} \\right)} + L_{3} \\cos{\\left(\\theta_{3} \\right)} = 0\\\\L_{1} s_{1} + L_{2} \\sin{\\left(\\theta_{2} \\right)} + L_{3} \\sin{\\left(\\theta_{3} \\right)} - L_{4} = 0\\\\c_{2}^{2} + s_{2}^{2} - 1 = 0\\\\c_{3}^{2} + s_{3}^{2} - 1 = 0\\end{matrix}\\right]$"
      ],
      "text/plain": [
       "Matrix([\n",
       "[     Eq(L1*c1 + L2*cos(theta2) + L3*cos(theta3), 0)],\n",
       "[Eq(L1*s1 + L2*sin(theta2) + L3*sin(theta3) - L4, 0)],\n",
       "[                           Eq(c2**2 + s2**2 - 1, 0)],\n",
       "[                           Eq(c3**2 + s3**2 - 1, 0)]])"
      ]
     },
     "execution_count": 37,
     "metadata": {},
     "output_type": "execute_result"
    }
   ],
   "source": [
    "# Unknowns\n",
    "s2, c2, s3, c3 = symbols('s2, c2, s3, c3')\n",
    "\n",
    "#Knowns\n",
    "L1, L2, L3, L4, s1, c1 = symbols('L1, L2, L3, L4, s1, c1')\n",
    "\n",
    "# Define the equations\n",
    "eq_x = Eq(L1*c1 + L2*cos(theta2) + L3*cos(theta3), 0)\n",
    "eq_y = Eq(L1*s1 + L2*sin(theta2) + L3*sin(theta3) - L4, 0)\n",
    "eq_t2 = Eq(s2**2 + c2**2 - 1, 0)\n",
    "eq_t3 = Eq(s3**2 + c3**2 - 1, 0)\n",
    "\n",
    "Matrix([eq_x, eq_y, eq_t2, eq_t3])\n"
   ]
  },
  {
   "cell_type": "code",
   "execution_count": 61,
   "metadata": {},
   "outputs": [
    {
     "name": "stdout",
     "output_type": "stream",
     "text": [
      "⎛       ____________________         ____________________⎞\n",
      "⎝s₂, -╲╱ -(s₂ - 1)⋅(s₂ + 1) , s₃, -╲╱ -(s₃ - 1)⋅(s₃ + 1) ⎠\n",
      "⎛       ____________________        ____________________⎞\n",
      "⎝s₂, -╲╱ -(s₂ - 1)⋅(s₂ + 1) , s₃, ╲╱ -(s₃ - 1)⋅(s₃ + 1) ⎠\n",
      "⎛      ____________________         ____________________⎞\n",
      "⎝s₂, ╲╱ -(s₂ - 1)⋅(s₂ + 1) , s₃, -╲╱ -(s₃ - 1)⋅(s₃ + 1) ⎠\n",
      "⎛      ____________________        ____________________⎞\n",
      "⎝s₂, ╲╱ -(s₂ - 1)⋅(s₂ + 1) , s₃, ╲╱ -(s₃ - 1)⋅(s₃ + 1) ⎠\n"
     ]
    }
   ],
   "source": [
    "solutions = solve((eq_x, eq_y, eq_t2, eq_t3), (s2, c2, s3, c3))\n",
    "for solution in solutions:\n",
    "    pprint(solution)"
   ]
  },
  {
   "cell_type": "code",
   "execution_count": null,
   "metadata": {},
   "outputs": [],
   "source": [
    "\n",
    "# def loop_eqs(thetas):\n",
    "\n",
    "#     [theta1, theta2, theta3, theta4, theta5] = thetas\n",
    "\n",
    "#     return [\n",
    "#         L1*cos(thetaX) + L3*cos(theta3) - L1*cos(theta1),\n",
    "#         Lx*sin(thetaX) + L3*sin(theta3) - L1*sin(theta1),\n",
    "\n",
    "#         L4*cos(theta4) + L5*cos(theta5) - L6*cos(theta6) - L2*cos(theta2) + L8*cos(theta8),\n",
    "#         L4*sin(theta4) + L5*sin(theta5) - L6*sin(theta6) - L2*sin(theta2) + L8*sin(theta8),\n",
    "\n",
    "#         L5*cos(theta5) + L8*cos(theta8) + L9*cos(theta9) - L7*cos(theta7) - L10*cos(theta10),\n",
    "#         L5*sin(theta5) + L8*sin(theta8) + L9*sin(theta9) - L7*sin(theta7) - L10*sin(theta10),\n",
    "        \n",
    "#         theta4 - theta3 - thetaA,\n",
    "#         theta5 - theta4 + thetaB,\n",
    "#         theta9 - theta8 + thetaC,\n",
    "#         theta11 - theta10 - thetaD\n",
    "#     ]\n",
    "\n",
    "# root, infodict, ier, msg = fsolve(loop_eqs, guess, full_output=1)\n",
    "\n"
   ]
  }
 ],
 "metadata": {
  "kernelspec": {
   "display_name": "Python 3",
   "language": "python",
   "name": "python3"
  },
  "language_info": {
   "codemirror_mode": {
    "name": "ipython",
    "version": 3
   },
   "file_extension": ".py",
   "mimetype": "text/x-python",
   "name": "python",
   "nbconvert_exporter": "python",
   "pygments_lexer": "ipython3",
   "version": "3.11.4"
  },
  "orig_nbformat": 4
 },
 "nbformat": 4,
 "nbformat_minor": 2
}
