{
 "cells": [
  {
   "cell_type": "code",
   "execution_count": 6,
   "metadata": {},
   "outputs": [
    {
     "name": "stdout",
     "output_type": "stream",
     "text": [
      "[27.5 43. ]\n"
     ]
    }
   ],
   "source": [
    "import numpy as np\n",
    "from scipy.interpolate import RegularGridInterpolator\n",
    "\n",
    "# Define your data points\n",
    "x = np.array([0, 1, 2, 3])\n",
    "y = np.array([0, 1, 2, 3, 4])\n",
    "z = np.array([[10, 20, 30, 40, 50],\n",
    "              [15, 25, 35, 45, 55],\n",
    "              [20, 30, 40, 50, 60],\n",
    "              [25, 35, 45, 55, 65]])\n",
    "\n",
    "# Create a function for the multi-dimensional interpolation\n",
    "interp_function = RegularGridInterpolator((x, y), z, method='linear')\n",
    "\n",
    "# Define the points at which you want to interpolate\n",
    "interpolation_points = np.array([[0.5, 1.5],\n",
    "                                 [1.2, 2.7]])\n",
    "\n",
    "# Perform the interpolation\n",
    "interpolated_values = interp_function(interpolation_points)\n",
    "\n",
    "print(interpolated_values)\n"
   ]
  }
 ],
 "metadata": {
  "kernelspec": {
   "display_name": "Python 3",
   "language": "python",
   "name": "python3"
  },
  "language_info": {
   "codemirror_mode": {
    "name": "ipython",
    "version": 3
   },
   "file_extension": ".py",
   "mimetype": "text/x-python",
   "name": "python",
   "nbconvert_exporter": "python",
   "pygments_lexer": "ipython3",
   "version": "3.11.4"
  },
  "orig_nbformat": 4
 },
 "nbformat": 4,
 "nbformat_minor": 2
}
