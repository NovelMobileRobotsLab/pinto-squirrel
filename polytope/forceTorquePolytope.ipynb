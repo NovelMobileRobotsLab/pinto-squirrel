{
  "cells": [
    {
      "cell_type": "code",
      "execution_count": 36,
      "metadata": {
        "colab": {
          "base_uri": "https://localhost:8080/",
          "height": 455
        },
        "id": "QpVLZc9qn_ZN",
        "outputId": "81c1a753-1125-48ff-e3b1-26c530c79b91"
      },
      "outputs": [
        {
          "name": "stdout",
          "output_type": "stream",
          "text": [
            "Jacobian:\n"
          ]
        },
        {
          "data": {
            "text/latex": [
              "$\\displaystyle \\left[\\begin{matrix}-2.027 & -1.319 & -0.966\\\\0.612 & -0.095 & 0.259\\end{matrix}\\right]$"
            ],
            "text/plain": [
              "Matrix([\n",
              "[-2.027, -1.319, -0.966],\n",
              "[ 0.612, -0.095,  0.259]])"
            ]
          },
          "metadata": {},
          "output_type": "display_data"
        },
        {
          "data": {
            "image/png": "[encoded data removed]",
            "text/plain": [
              "<Figure size 640x480 with 1 Axes>"
            ]
          },
          "metadata": {},
          "output_type": "display_data"
        }
      ],
      "source": [
        "# Written by Youngwoo Sim\n",
        "\n",
        "import numpy as np\n",
        "from sympy import *\n",
        "import matplotlib.pyplot as plt\n",
        "\n",
        "\n",
        "# Step 1: Goal: understand/visualize the kinematics of 3-link manipulator\n",
        "\n",
        "# define variables\n",
        "# q: [3]:   joint angles (relative)\n",
        "# L: [3]:   link lengths\n",
        "q1, q2, q3, L1, L2, L3 = symbols('q1 q2 q3 L1 L2 L3')\n",
        "q = Matrix([q1, q2, q3])\n",
        "L = Matrix([L1, L2, L3])\n",
        "\n",
        "# define coordinate frame (global orthonormal unit vectors)\n",
        "xhat = Matrix([1,0])\n",
        "yhat = Matrix([0,1])\n",
        "\n",
        "# global joint angles\n",
        "qa1 = q1\n",
        "qa2 = q1 + q2\n",
        "qa3 = q1 + q2 + q3\n",
        "\n",
        "# directions of limbs\n",
        "e1 = cos(qa1)*xhat + sin(qa1)*yhat\n",
        "e2 = cos(qa2)*xhat + sin(qa2)*yhat\n",
        "e3 = cos(qa3)*xhat + sin(qa3)*yhat\n",
        "\n",
        "# joint positions\n",
        "pb = Matrix([0, 0]);\n",
        "p1 = L1*e1         # joint 1\n",
        "p2 = p1 + L2*e2    # joint 2\n",
        "p3 = p2 + L3*e3    # end-effector\n",
        "\n",
        "# Jacobians and Positions of joints/end-effector (symbolic)\n",
        "# Jsym = p3.jacobian([q1, q2, q3])\n",
        "Jsym = p3.jacobian(q);\n",
        "Psym = Matrix.hstack(pb, p1, p2, p3)\n",
        "\n",
        "# convert symbolic expressions to functions\n",
        "getJacobian = lambdify((q,L), Jsym)\n",
        "getPositions = lambdify((q,L), Psym)\n",
        "\n",
        "# evalulate the robot joint positions and jacobians\n",
        "testJointAngles = [np.pi/4, np.pi/2, -np.pi/3]\n",
        "testLinkLengths = [1, 0.5, 1]\n",
        "\n",
        "testJacobian = getJacobian(testJointAngles, testLinkLengths)\n",
        "testPositions = getPositions(testJointAngles, testLinkLengths)\n",
        "\n",
        "print(\"Jacobian:\")\n",
        "display(Matrix(np.round(testJacobian, 3)))\n",
        "\n",
        "# quick visualization\n",
        "plt.figure()\n",
        "plt.plot(testPositions[0,:], testPositions[1,:], 'k-o')    # robot chain\n",
        "plt.plot(0, 0, 'bo')\n",
        "plt.xlim([-3, 3])\n",
        "plt.ylim([-3, 3])\n",
        "plt.xlabel('x')\n",
        "plt.ylabel('y')\n",
        "plt.gca().set_aspect('equal', adjustable='box')\n",
        "plt.grid(True)\n",
        "plt.show()"
      ]
    },
    {
      "cell_type": "code",
      "execution_count": 47,
      "metadata": {
        "colab": {
          "base_uri": "https://localhost:8080/"
        },
        "id": "ZipJ-zJeoGhB",
        "outputId": "a9152f0a-3bcb-4bd2-87aa-18c5e4fadc89"
      },
      "outputs": [
        {
          "name": "stdout",
          "output_type": "stream",
          "text": [
            "testTau:\n",
            " [[0.55550808]\n",
            " [0.81713017]\n",
            " [0.2637855 ]]\n",
            "resultForce1:\n",
            " [[-0.55084602]\n",
            " [-0.93451221]]\n",
            "testTau0:\n",
            " [[-0.02007453]\n",
            " [-0.00310554]\n",
            " [ 0.04636015]]\n",
            "difference:\n",
            " [[-1.11022302e-16]\n",
            " [ 0.00000000e+00]]\n"
          ]
        }
      ],
      "source": [
        "# % Step 2\n",
        "# % What we know is the relation between the torque and forces:\n",
        "# %                           tau = J^T * f\n",
        "# % Redundant manipulators have more number of actuators than the\n",
        "# % dimensionality of the force (3>2). So, tau typically has infinite number\n",
        "# % of solutions. But among those infinite solutions, the smallest solution\n",
        "# % exists. Let's rewrite the equation as follows:\n",
        "# %                       tau + tau_o = J^T * f\n",
        "# %   tau_o:  is 'do-nothing-for-force' torque (has no effect on producing\n",
        "# %           useful force on the end-effector)\n",
        "# %   tau:    the smallest solution.\n",
        "# % We can find tau using pseudo-inverse (pinv):   tau = pinv(J'T)*f\n",
        "\n",
        "from scipy.linalg import null_space\n",
        "\n",
        "# Renaming\n",
        "J0 = testJacobian\n",
        "\n",
        "# 3D torque\n",
        "testTau = np.random.rand(3, 1)\n",
        "print(\"testTau:\\n\", testTau)\n",
        "\n",
        "# Calculate 2D force using pseudo-inverse\n",
        "resultForce1 = np.linalg.pinv(J0.T).dot(testTau)\n",
        "print(\"resultForce1:\\n\", resultForce1)\n",
        "\n",
        "# An example of do-nothing-for-force torque\n",
        "testTau0 = null_space(J0).dot(np.random.rand())\n",
        "print(\"testTau0:\\n\", testTau0)\n",
        "\n",
        "# Calculate 2D force again\n",
        "resultForce2 = np.linalg.pinv(J0.T).dot(testTau + testTau0)\n",
        "\n",
        "# Check if they are identical\n",
        "difference = resultForce1 - resultForce2\n",
        "print(\"difference:\\n\", difference)\n",
        "\n",
        "# The output should show no differences between resultForce1 and resultForce2.\n",
        "# What does this mean?\n"
      ]
    },
    {
      "cell_type": "code",
      "execution_count": 53,
      "metadata": {
        "colab": {
          "base_uri": "https://localhost:8080/",
          "height": 1000
        },
        "id": "WIsUJQ0soO_J",
        "outputId": "a1ce418f-4ec2-404e-c225-e2e1e582aea8"
      },
      "outputs": [
        {
          "name": "stdout",
          "output_type": "stream",
          "text": [
            "A:\n",
            " [[ 1.  0.  0.]\n",
            " [ 0.  1.  0.]\n",
            " [ 0.  0.  1.]\n",
            " [-1. -0. -0.]\n",
            " [-0. -1. -0.]\n",
            " [-0. -0. -1.]]\n",
            "b:\n",
            " [[2.5]\n",
            " [5. ]\n",
            " [3.5]\n",
            " [3. ]\n",
            " [4. ]\n",
            " [2. ]]\n"
          ]
        },
        {
          "ename": "NameError",
          "evalue": "name 'Hrep' is not defined",
          "output_type": "error",
          "traceback": [
            "\u001b[0;31m---------------------------------------------------------------------------\u001b[0m",
            "\u001b[0;31mNameError\u001b[0m                                 Traceback (most recent call last)",
            "Cell \u001b[0;32mIn[53], line 42\u001b[0m\n\u001b[1;32m     37\u001b[0m \u001b[39mprint\u001b[39m(\u001b[39m\"\u001b[39m\u001b[39mb:\u001b[39m\u001b[39m\\n\u001b[39;00m\u001b[39m\"\u001b[39m, b)\n\u001b[1;32m     41\u001b[0m \u001b[39m# create polytope object\u001b[39;00m\n\u001b[0;32m---> 42\u001b[0m hRepBox \u001b[39m=\u001b[39m Hrep(A,b)\n\u001b[1;32m     43\u001b[0m \u001b[39mprint\u001b[39m(hRepBox)\n\u001b[1;32m     45\u001b[0m \u001b[39m# get vertices of the polytope\u001b[39;00m\n",
            "\u001b[0;31mNameError\u001b[0m: name 'Hrep' is not defined"
          ]
        }
      ],
      "source": [
        "# % Step 3: Goal: Vertex Searching - finding the intersection polygon\n",
        "# % In the 3D joint torque space, we have two objects:\n",
        "# %   1. a box (actuator limit)\n",
        "# %   2. slice that defines the most efficient combination of torques to\n",
        "# %      generate force at the end-effector.\n",
        "# % The goal is to find the intersection of the box and the slice. In fact,\n",
        "# % these objects can be expressed by linear equalities and inequalities.\n",
        "# %\n",
        "# % First, let's deal with the box.\n",
        "# % The box is defined by 6 inequalities (x is torque):\n",
        "# %   -3 <= x1 <= 2.5, -4 <= x2 <= 5,  -2 <= x3 <= 3.5\n",
        "# % which can be converted into normal forms as follows\n",
        "# %   1*x1 + 0*x2 + 0*x3 <= 2.5\n",
        "# %   0*x1 + 1*x2 + 0*x3 <= 5\n",
        "# %   0*x1 + 0*x2 + 1*x3 <= 3.5         % notice the identity matrix\n",
        "# %  -1*x1 + 0*x2 + 0*x3 <= -(-3)\n",
        "# %   0*x1 - 1*x2 + 0*x3 <= -(-4)\n",
        "# %   0*x1 + 0*x2 - 1*x3 <= -(-2)       % notice the (-1)*identity matrix\n",
        "# % These inequalities can be generally written in a matrix form:\n",
        "# %   A * x <= b\n",
        "\n",
        "# import cddlib\n",
        "from scipy.spatial import ConvexHull\n",
        "\n",
        "# Define the joint torque constraint - the box\n",
        "#   UB: upper bound, LB: lower bound\n",
        "A_UB = np.eye(3)\n",
        "b_UB = np.array([2.5, 5, 3.5]).reshape(-1,1)  # torque upper bounds, try other values: [2.5; 5; 3.5];\n",
        "\n",
        "A_LB = -np.eye(3)\n",
        "b_LB = np.array([3, 4, 2]).reshape(-1,1)  # torque lower bounds (negated) try other values: [3; 4; 2];\n",
        "\n",
        "# Concatenate vertically\n",
        "A = np.vstack((A_UB, A_LB))\n",
        "b = np.vstack((b_UB, b_LB))\n",
        "print(\"A:\\n\", A)\n",
        "print(\"b:\\n\", b)\n",
        "\n",
        "# create polytope object\n",
        "hRepBox = Hrep(A,b)\n",
        "print(hRepBox)\n",
        "\n",
        "# get vertices of the polytope\n",
        "def getVertices(hRep):\n",
        "    return hRep.generators\n",
        "\n",
        "vertBox = getVertices(hRepBox);\n",
        "print(vertBox)\n",
        "\n",
        "vertBoxHull = ConvexHull(vertBox)\n",
        "print(vertBoxHull.vertices)   # enumerates the order of the vertices\n",
        "\n",
        "\n",
        "fig = plt.figure()\n",
        "ax = fig.add_subplot(111, projection='3d')\n",
        "\n",
        "# Plot the opaque cube using plot_trisurf\n",
        "ax.plot_trisurf(vertBoxHull.points[:, 0], vertBoxHull.points[:, 1], vertBoxHull.points[:, 2], triangles=vertBoxHull.simplices, alpha=0.2)\n",
        "ax.scatter(vertBoxHull.points[:, 0], vertBoxHull.points[:, 1], vertBoxHull.points[:, 2], color='r', s=50)\n",
        "\n",
        "# Set plot labels and show the plot\n",
        "ax.set_xlabel('tau1')\n",
        "ax.set_ylabel('tau2')\n",
        "ax.set_zlabel('tau3')\n",
        "plt.show()"
      ]
    },
    {
      "cell_type": "code",
      "execution_count": 20,
      "metadata": {
        "colab": {
          "base_uri": "https://localhost:8080/",
          "height": 523
        },
        "id": "4L8r58UxpvbK",
        "outputId": "8eee6fe8-36b1-42ed-ed27-93b60e72dda1"
      },
      "outputs": [
        {
          "ename": "NameError",
          "evalue": "name 'Hrep' is not defined",
          "output_type": "error",
          "traceback": [
            "\u001b[0;31m---------------------------------------------------------------------------\u001b[0m",
            "\u001b[0;31mNameError\u001b[0m                                 Traceback (most recent call last)",
            "Cell \u001b[0;32mIn[20], line 23\u001b[0m\n\u001b[1;32m     20\u001b[0m A_slice \u001b[39m=\u001b[39m np\u001b[39m.\u001b[39mvstack((A, Aeq))     \u001b[39m# combine slice and the box\u001b[39;00m\n\u001b[1;32m     21\u001b[0m b_slice \u001b[39m=\u001b[39m np\u001b[39m.\u001b[39mvstack((b, beq))\n\u001b[0;32m---> 23\u001b[0m hRepSlice \u001b[39m=\u001b[39m Hrep(A_slice, b_slice)\n\u001b[1;32m     24\u001b[0m vertSlice \u001b[39m=\u001b[39m getVertices(hRepSlice)\n\u001b[1;32m     25\u001b[0m \u001b[39mprint\u001b[39m(vertSlice)\n",
            "\u001b[0;31mNameError\u001b[0m: name 'Hrep' is not defined"
          ]
        }
      ],
      "source": [
        "# % Next, we define the slice (hyperplane containing origin). Remember,\n",
        "# % points on the slice is the vector of actuator torques. One way to define\n",
        "# % the slice is that any vector emanating from the origin and ends at a\n",
        "# % point on the slice is perpendicular to the normal vector of the slice.\n",
        "# %   normal vector:      nv = null(J);   J:[2 3],  nv:[3 1]\n",
        "# %   torque:             x,  [3 1]\n",
        "# %   slice expression:   nv'*x = 0\n",
        "# % This equality can be generalized as follows (using two inequalities)\n",
        "# %    Aeq * x <=  beq\n",
        "# %   -Aeq * x <= -beq\n",
        "\n",
        "\n",
        "nornalVecs = null_space(testJacobian);    # null space matrix of a jacobian\n",
        "Aeq = np.transpose(nornalVecs);           # transpose of the normal vector\n",
        "beq = np.zeros((Aeq.shape[0],1));         # beq is 0 because the slice passes origin\n",
        "\n",
        "Aeq = np.vstack((Aeq, -Aeq))      # using two inequalities to define a equality\n",
        "beq = np.vstack((beq, -beq))\n",
        "\n",
        "A_slice = np.vstack((A, Aeq))     # combine slice and the box\n",
        "b_slice = np.vstack((b, beq))\n",
        "\n",
        "hRepSlice = Hrep(A_slice, b_slice)\n",
        "vertSlice = getVertices(hRepSlice)\n",
        "print(vertSlice)\n",
        "\n",
        "fig = plt.figure()\n",
        "ax = fig.add_subplot(111, projection='3d')\n",
        "ax.plot_trisurf(vertBoxHull.points[:, 0], vertBoxHull.points[:, 1], vertBoxHull.points[:, 2], triangles=vertBoxHull.simplices, alpha=0.2)\n",
        "ax.scatter(vertBoxHull.points[:, 0], vertBoxHull.points[:, 1], vertBoxHull.points[:, 2], color='r', s=50)\n",
        "ax.plot_trisurf(vertSlice[:, 0], vertSlice[:, 1], vertSlice[:, 2], alpha = 0.25)\n",
        "ax.scatter(vertSlice[:, 0], vertSlice[:, 1], vertSlice[:, 2], color='b', s=50)\n",
        "ax.set_xlabel('tau1')\n",
        "ax.set_ylabel('tau2')\n",
        "ax.set_zlabel('tau3')\n",
        "plt.show()\n",
        "\n",
        "# we might need better visualization\n",
        "# such as: https://www.math.kit.edu/user/kaluba/publication/2020-random-polytopes/\n"
      ]
    },
    {
      "cell_type": "code",
      "execution_count": null,
      "metadata": {
        "colab": {
          "base_uri": "https://localhost:8080/",
          "height": 563
        },
        "id": "kWEVKyy1AzgN",
        "outputId": "11aee3a2-842c-4e62-e7da-76079e783cb9"
      },
      "outputs": [
        {
          "name": "stdout",
          "output_type": "stream",
          "text": [
            "[[ 1.          1.73205081]\n",
            " [-1.         -1.73205081]\n",
            " [-0.6339746  -0.3660254 ]\n",
            " [ 1.          2.46410162]\n",
            " [-1.         -2.46410162]\n",
            " [ 0.6339746   0.3660254 ]]\n"
          ]
        },
        {
          "data": {
            "image/png": "[encoded data removed]",
            "text/plain": [
              "<Figure size 640x480 with 1 Axes>"
            ]
          },
          "metadata": {},
          "output_type": "display_data"
        }
      ],
      "source": [
        "# Finally, we can reproject the polygon onto the task space using the pinv()\n",
        "vertSliceTask = np.linalg.pinv(J0.T).dot(vertSlice.transpose())\n",
        "vertSliceTask = vertSliceTask.transpose()\n",
        "vertSliceTaskHull = ConvexHull(vertSliceTask)\n",
        "print(vertSliceTask)\n",
        "\n",
        "\n",
        "# Create a polygon patch\n",
        "import matplotlib.patches as patches\n",
        "polygon = patches.Polygon(vertSliceTask[vertSliceTaskHull.vertices,:], closed=True, edgecolor='r', fill=False)\n",
        "\n",
        "# Add the polygon patch to the axis\n",
        "# quick visualization\n",
        "# plt.figure()\n",
        "fig, ax = plt.subplots()\n",
        "plt.plot(testPositions[0,:], testPositions[1,:], 'k-o')    # robot chain\n",
        "ax.add_patch(polygon)\n",
        "\n",
        "plt.plot(0, 0, 'bo')\n",
        "# plt.scatter(0, 0, color='r', marker='x')    # mark at origin\n",
        "plt.xlim([-3, 3])\n",
        "plt.ylim([-3, 3])\n",
        "plt.xlabel('x')\n",
        "plt.ylabel('y')\n",
        "plt.gca().set_aspect('equal', adjustable='box')\n",
        "plt.grid(True)\n",
        "plt.show()"
      ]
    },
    {
      "cell_type": "code",
      "execution_count": null,
      "metadata": {
        "colab": {
          "base_uri": "https://localhost:8080/",
          "height": 671
        },
        "id": "VJjQbhejEGlH",
        "outputId": "1f535a35-d6b0-4f88-ea66-d6218aed4b6a"
      },
      "outputs": [
        {
          "name": "stdout",
          "output_type": "stream",
          "text": [
            "[[ 1.          1.73205081]\n",
            " [-1.         -1.73205081]\n",
            " [-0.6339746  -0.3660254 ]\n",
            " [ 1.          2.46410162]\n",
            " [-1.         -2.46410162]\n",
            " [ 0.6339746   0.3660254 ]]\n",
            "[[ 2.3660254   4.09807621]\n",
            " [ 0.3660254   0.6339746 ]\n",
            " [ 0.73205081  2.        ]\n",
            " [ 2.3660254   4.83012702]\n",
            " [ 0.3660254  -0.09807621]\n",
            " [ 2.          2.73205081]]\n"
          ]
        },
        {
          "data": {
            "image/png": "[encoded data removed]",
            "text/plain": [
              "<Figure size 640x480 with 1 Axes>"
            ]
          },
          "metadata": {},
          "output_type": "display_data"
        }
      ],
      "source": [
        "# The issue with the previous visualization is that the red polygon is located at the origin, but we want it to be at the end-effector.\n",
        "\n",
        "# Finally, we can reproject the polygon onto the task space using the pinv()\n",
        "vertSliceTask = np.linalg.pinv(J0.T).dot(vertSlice.transpose())\n",
        "vertSliceTask = vertSliceTask.transpose()\n",
        "vertSliceTaskHull = ConvexHull(vertSliceTask)\n",
        "print(vertSliceTask)\n",
        "\n",
        "endEffectorPosition = testPositions[:,-1]\n",
        "\n",
        "import numpy.matlib as npm\n",
        "vertSliceTaskShift = vertSliceTask + npm.repmat(endEffectorPosition.transpose(), vertSliceTask.shape[0], 1)\n",
        "print(vertSliceTaskShift)\n",
        "\n",
        "\n",
        "# Create a polygon patch\n",
        "import matplotlib.patches as patches\n",
        "polygon = patches.Polygon(vertSliceTaskShift[vertSliceTaskHull.vertices,:], closed=True, edgecolor='r', fill=False)\n",
        "\n",
        "# Add the polygon patch to the axis\n",
        "# quick visualization\n",
        "# plt.figure()\n",
        "fig, ax = plt.subplots()\n",
        "plt.plot(testPositions[0,:], testPositions[1,:], 'k-o')    # robot chain\n",
        "ax.add_patch(polygon)\n",
        "\n",
        "plt.plot(0, 0, 'bo')\n",
        "# plt.scatter(0, 0, color='r', marker='x')    # mark at origin\n",
        "plt.xlim([-3, 6])\n",
        "plt.ylim([-3, 6])\n",
        "plt.xlabel('x')\n",
        "plt.ylabel('y')\n",
        "plt.gca().set_aspect('equal', adjustable='box')\n",
        "plt.grid(True)\n",
        "plt.show()"
      ]
    }
  ],
  "metadata": {
    "colab": {
      "provenance": [],
      "toc_visible": true
    },
    "kernelspec": {
      "display_name": "Python 3",
      "name": "python3"
    },
    "language_info": {
      "codemirror_mode": {
        "name": "ipython",
        "version": 3
      },
      "file_extension": ".py",
      "mimetype": "text/x-python",
      "name": "python",
      "nbconvert_exporter": "python",
      "pygments_lexer": "ipython3",
      "version": "3.11.4"
    }
  },
  "nbformat": 4,
  "nbformat_minor": 0
}
