{
 "cells": [
  {
   "cell_type": "code",
   "execution_count": 53,
   "metadata": {},
   "outputs": [
    {
     "name": "stdout",
     "output_type": "stream",
     "text": [
      "Matrix([[(L2*cos3*(cos2**2 + sin2**2 - 1) + L3*cos2*(cos3**2 + sin3**2 - 1) - 2*cos2*(cos3*(L1*cos1 + L2*cos2 + L3*cos3 - L4) + sin3*(L1*sin1 + L2*sin2 + L3*sin3)))/(2*L2*(cos2*sin3 - cos3*sin2))], [(-L2*sin3*(cos2**2 + sin2**2 - 1) - L3*sin2*(cos3**2 + sin3**2 - 1) + 2*sin2*(cos3*(L1*cos1 + L2*cos2 + L3*cos3 - L4) + sin3*(L1*sin1 + L2*sin2 + L3*sin3)))/(2*L2*(cos2*sin3 - cos3*sin2))], [(-L2*cos3*(cos2**2 + sin2**2 - 1) - L3*cos2*(cos3**2 + sin3**2 - 1) + 2*cos3*(cos2*(L1*cos1 + L2*cos2 + L3*cos3 - L4) + sin2*(L1*sin1 + L2*sin2 + L3*sin3)))/(2*L3*(cos2*sin3 - cos3*sin2))], [(L2*sin3*(cos2**2 + sin2**2 - 1) + L3*sin2*(cos3**2 + sin3**2 - 1) - 2*sin3*(cos2*(L1*cos1 + L2*cos2 + L3*cos3 - L4) + sin2*(L1*sin1 + L2*sin2 + L3*sin3)))/(2*L3*(cos2*sin3 - cos3*sin2))]])\n"
     ]
    },
    {
     "data": {
      "text/latex": [
       "$\\displaystyle \\left[\\begin{matrix}\\frac{L_{2} cos_{3} \\left(cos_{2}^{2} + sin_{2}^{2} - 1\\right) + L_{3} cos_{2} \\left(cos_{3}^{2} + sin_{3}^{2} - 1\\right) - 2 cos_{2} \\left(cos_{3} \\left(L_{1} cos_{1} + L_{2} cos_{2} + L_{3} cos_{3} - L_{4}\\right) + sin_{3} \\left(L_{1} sin_{1} + L_{2} sin_{2} + L_{3} sin_{3}\\right)\\right)}{2 L_{2} \\left(cos_{2} sin_{3} - cos_{3} sin_{2}\\right)}\\\\\\frac{- L_{2} sin_{3} \\left(cos_{2}^{2} + sin_{2}^{2} - 1\\right) - L_{3} sin_{2} \\left(cos_{3}^{2} + sin_{3}^{2} - 1\\right) + 2 sin_{2} \\left(cos_{3} \\left(L_{1} cos_{1} + L_{2} cos_{2} + L_{3} cos_{3} - L_{4}\\right) + sin_{3} \\left(L_{1} sin_{1} + L_{2} sin_{2} + L_{3} sin_{3}\\right)\\right)}{2 L_{2} \\left(cos_{2} sin_{3} - cos_{3} sin_{2}\\right)}\\\\\\frac{- L_{2} cos_{3} \\left(cos_{2}^{2} + sin_{2}^{2} - 1\\right) - L_{3} cos_{2} \\left(cos_{3}^{2} + sin_{3}^{2} - 1\\right) + 2 cos_{3} \\left(cos_{2} \\left(L_{1} cos_{1} + L_{2} cos_{2} + L_{3} cos_{3} - L_{4}\\right) + sin_{2} \\left(L_{1} sin_{1} + L_{2} sin_{2} + L_{3} sin_{3}\\right)\\right)}{2 L_{3} \\left(cos_{2} sin_{3} - cos_{3} sin_{2}\\right)}\\\\\\frac{L_{2} sin_{3} \\left(cos_{2}^{2} + sin_{2}^{2} - 1\\right) + L_{3} sin_{2} \\left(cos_{3}^{2} + sin_{3}^{2} - 1\\right) - 2 sin_{3} \\left(cos_{2} \\left(L_{1} cos_{1} + L_{2} cos_{2} + L_{3} cos_{3} - L_{4}\\right) + sin_{2} \\left(L_{1} sin_{1} + L_{2} sin_{2} + L_{3} sin_{3}\\right)\\right)}{2 L_{3} \\left(cos_{2} sin_{3} - cos_{3} sin_{2}\\right)}\\end{matrix}\\right]$"
      ],
      "text/plain": [
       "Matrix([\n",
       "[ (L2*cos3*(cos2**2 + sin2**2 - 1) + L3*cos2*(cos3**2 + sin3**2 - 1) - 2*cos2*(cos3*(L1*cos1 + L2*cos2 + L3*cos3 - L4) + sin3*(L1*sin1 + L2*sin2 + L3*sin3)))/(2*L2*(cos2*sin3 - cos3*sin2))],\n",
       "[(-L2*sin3*(cos2**2 + sin2**2 - 1) - L3*sin2*(cos3**2 + sin3**2 - 1) + 2*sin2*(cos3*(L1*cos1 + L2*cos2 + L3*cos3 - L4) + sin3*(L1*sin1 + L2*sin2 + L3*sin3)))/(2*L2*(cos2*sin3 - cos3*sin2))],\n",
       "[(-L2*cos3*(cos2**2 + sin2**2 - 1) - L3*cos2*(cos3**2 + sin3**2 - 1) + 2*cos3*(cos2*(L1*cos1 + L2*cos2 + L3*cos3 - L4) + sin2*(L1*sin1 + L2*sin2 + L3*sin3)))/(2*L3*(cos2*sin3 - cos3*sin2))],\n",
       "[ (L2*sin3*(cos2**2 + sin2**2 - 1) + L3*sin2*(cos3**2 + sin3**2 - 1) - 2*sin3*(cos2*(L1*cos1 + L2*cos2 + L3*cos3 - L4) + sin2*(L1*sin1 + L2*sin2 + L3*sin3)))/(2*L3*(cos2*sin3 - cos3*sin2))]])"
      ]
     },
     "execution_count": 53,
     "metadata": {},
     "output_type": "execute_result"
    }
   ],
   "source": [
    "from sympy import *\n",
    "\n",
    "L1, L2, L3, L4, sin1, cos1 = symbols(\"L1, L2, L3, L4, sin1, cos1\")\n",
    "\n",
    "sin2, cos2, sin3, cos3 = symbols(\"sin2, cos2, sin3, cos3\")\n",
    "\n",
    "f = Matrix([\n",
    "    L1*sin1 + L2*sin2 + L3*sin3,\n",
    "    L1*cos1 + L2*cos2 + L3*cos3 - L4, \n",
    "    sin2**2 + cos2**2 - 1,\n",
    "    sin3**2 + cos3**2 - 1,        \n",
    "])\n",
    "\n",
    "\n",
    "J = Matrix([\n",
    "    [L2, 0, L3, 0],\n",
    "    [0, L2, 0, L3],\n",
    "    [2*sin2, 2*cos2, 0, 0],\n",
    "    [0, 0, 2*sin3, 2*cos3]\n",
    "])\n",
    "\n",
    "h = simplify(-J.inv()*f)\n",
    "# for h_ in h:\n",
    "#     print(h_)\n",
    "print(h)\n",
    "h"
   ]
  },
  {
   "cell_type": "code",
   "execution_count": 31,
   "metadata": {},
   "outputs": [
    {
     "data": {
      "text/latex": [
       "$\\displaystyle \\left[\\begin{matrix}\\frac{L_{1} \\cos{\\left(\\theta_{1} - \\theta_{3} \\right)} + L_{2} \\cos{\\left(\\theta_{2} - \\theta_{3} \\right)} + L_{3} - L_{4} \\cos{\\left(\\theta_{3} \\right)}}{L_{2} \\sin{\\left(\\theta_{2} - \\theta_{3} \\right)}}\\\\\\frac{- L_{1} \\cos{\\left(\\theta_{1} - \\theta_{2} \\right)} - L_{2} - L_{3} \\cos{\\left(\\theta_{2} - \\theta_{3} \\right)} + L_{4} \\cos{\\left(\\theta_{2} \\right)}}{L_{3} \\sin{\\left(\\theta_{2} - \\theta_{3} \\right)}}\\end{matrix}\\right]$"
      ],
      "text/plain": [
       "Matrix([\n",
       "[ (L1*cos(theta1 - theta3) + L2*cos(theta2 - theta3) + L3 - L4*cos(theta3))/(L2*sin(theta2 - theta3))],\n",
       "[(-L1*cos(theta1 - theta2) - L2 - L3*cos(theta2 - theta3) + L4*cos(theta2))/(L3*sin(theta2 - theta3))]])"
      ]
     },
     "execution_count": 31,
     "metadata": {},
     "output_type": "execute_result"
    }
   ],
   "source": [
    "#known\n",
    "L1, L2, L3, L4, theta1 = symbols(\"L1, L2, L3, L4, theta1\")\n",
    "\n",
    "#unknown\n",
    "theta2, theta3 = symbols(\"theta2, theta3\")\n",
    "\n",
    "f_angles = Matrix([\n",
    "    L1*sin(theta1) + L2*sin(theta2) + L3*sin(theta3),\n",
    "    L1*cos(theta1) + L2*cos(theta2) + L3*cos(theta3) - L4\n",
    "])\n",
    "\n",
    "J_angles = Matrix([\n",
    "    [L2*cos(theta2), L3*cos(theta3)],\n",
    "    [-L2*sin(theta2), -L3*sin(theta3)]\n",
    "])\n",
    "\n",
    "simplify(-J.inv()*f)"
   ]
  },
  {
   "cell_type": "code",
   "execution_count": 51,
   "metadata": {},
   "outputs": [
    {
     "name": "stdout",
     "output_type": "stream",
     "text": [
      "[ 1.45745959 -0.71723596]\n",
      "[ 1.36641216 -0.73041127]\n",
      "[ 1.30918023 -0.73096665]\n",
      "[ 1.27501967 -0.72822456]\n",
      "[ 1.2555326 -0.7255862]\n",
      "[ 1.24477906 -0.72378834]\n",
      "[ 1.23897046 -0.72271478]\n",
      "[ 1.23587227 -0.72211259]\n",
      "[ 1.23423143 -0.7217853 ]\n",
      "[ 1.23336577 -0.72161029]\n",
      "[ 1.23291001 -0.7215175 ]\n",
      "[ 1.23267032 -0.72146852]\n",
      "[ 1.23254434 -0.72144272]\n",
      "[ 1.23247814 -0.72142916]\n",
      "[ 1.23244336 -0.72142203]\n",
      "[ 1.23242509 -0.72141828]\n",
      "[ 1.2324155  -0.72141631]\n",
      "[ 1.23241046 -0.72141528]\n",
      "[ 1.23240781 -0.72141473]\n",
      "[ 1.23240642 -0.72141445]\n",
      "[ 1.23240569 -0.7214143 ]\n",
      "Solution: [1.23240642 5.56177086]\n"
     ]
    }
   ],
   "source": [
    "import numpy as np\n",
    "from numpy import sin, cos, pi\n",
    "\n",
    "L1, L2, L3, L4, theta1 = (1, 2.5, 2.5, 2, 5/4*pi)\n",
    "\n",
    "# Initialize variables and parameters\n",
    "x0 = np.array((1,0))\n",
    "tolerance = 1e-6\n",
    "max_iterations = 100\n",
    "\n",
    "# Newton-Raphson iterations\n",
    "for iteration in range(max_iterations):\n",
    "    theta2, theta3 = x0\n",
    "    h = [\n",
    "        (L1*cos(theta1-theta3) + L2*cos(theta2-theta3) + L3 - L4*cos(theta3)) / (L2*(theta2-theta3)),\n",
    "        (-L1*cos(theta1-theta2) - L2 - L3*cos(theta2-theta3) + L4*cos(theta2)) / (L3*(theta2-theta3))\n",
    "    ]\n",
    "    x_new = x0 + h\n",
    "\n",
    "    print(x_new)\n",
    "\n",
    "    if np.linalg.norm(x_new - x0) < tolerance:\n",
    "        break\n",
    "\n",
    "    x0 = x_new\n",
    "\n",
    "print(\"Solution:\", np.mod(x0, 2*pi))"
   ]
  },
  {
   "cell_type": "code",
   "execution_count": 52,
   "metadata": {},
   "outputs": [
    {
     "name": "stdout",
     "output_type": "stream",
     "text": [
      "[0.1414 0.5414 0.1414 0.5414]\n",
      "[0.155525   0.59548256 0.155525   0.59548256]\n",
      "[0.15671412 0.60003552 0.15671412 0.60003552]\n",
      "[0.15681788 0.60043282 0.15681788 0.60043282]\n",
      "[0.15682696 0.6004676  0.15682696 0.6004676 ]\n",
      "[0.15682776 0.60047065 0.15682776 0.60047065]\n",
      "[0.15682783 0.60047091 0.15682783 0.60047091]\n",
      "Solution: [0.15682776 0.60047065 0.15682776 0.60047065]\n"
     ]
    }
   ],
   "source": [
    "import numpy as np\n",
    "\n",
    "L1, L2, L3, L4, sin1, cos1 = (1, 2.5, 2.5, 2, -0.707, -0.707)\n",
    "\n",
    "def func_sincos(vars):\n",
    "    sin2, cos2, sin3, cos3 = vars\n",
    "    return [\n",
    "        L1*sin1 + L2*sin2 + L3*sin3,\n",
    "        L1*cos1 + L2*cos2 + L3*cos3 - L4, \n",
    "        sin2**2 + cos2**2 - 1,\n",
    "        sin3**2 + cos3**2 - 1,        \n",
    "    ]\n",
    "\n",
    "def jac_sincos(vars):\n",
    "    sin2, cos2, sin3, cos3 = vars\n",
    "    return [\n",
    "        [L2, 0, L3, 0],\n",
    "        [0, L2, 0, L3],\n",
    "        [2*sin2, 2*cos2, 0, 0],\n",
    "        [0, 0, 2*sin3, 2*cos3]\n",
    "    ]\n",
    "\n",
    "def hess_sincos(vars):\n",
    "    sin2, cos2, sin3, cos3 = vars\n",
    "    return [\n",
    "        [L2, 0, L3, 0],\n",
    "        [0, L2, 0, L3],\n",
    "        [2*sin2, 2*cos2, 0, 0],\n",
    "        [0, 0, 2*sin3, 2*cos3]\n",
    "    ]\n",
    "\n",
    "# Initialize variables and parameters\n",
    "x0 = np.zeros(4)\n",
    "tolerance = 1e-6\n",
    "max_iterations = 100\n",
    "\n",
    "# Newton-Raphson iterations\n",
    "for iteration in range(max_iterations):\n",
    "    F = func_sincos(x0)\n",
    "    J = jac_sincos(x0)\n",
    "    J_inv = np.linalg.pinv(J)\n",
    "    x_new = x0 - np.dot(J_inv, F)\n",
    "\n",
    "    print(x_new)\n",
    "\n",
    "    if np.linalg.norm(x_new - x0) < tolerance:\n",
    "        break\n",
    "\n",
    "    x0 = x_new\n",
    "\n",
    "print(\"Solution:\", x0)\n"
   ]
  }
 ],
 "metadata": {
  "kernelspec": {
   "display_name": "Python 3",
   "language": "python",
   "name": "python3"
  },
  "language_info": {
   "codemirror_mode": {
    "name": "ipython",
    "version": 3
   },
   "file_extension": ".py",
   "mimetype": "text/x-python",
   "name": "python",
   "nbconvert_exporter": "python",
   "pygments_lexer": "ipython3",
   "version": "3.11.4"
  },
  "orig_nbformat": 4
 },
 "nbformat": 4,
 "nbformat_minor": 2
}
