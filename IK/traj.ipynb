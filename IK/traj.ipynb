{
 "cells": [
  {
   "cell_type": "code",
   "execution_count": 22,
   "metadata": {},
   "outputs": [
    {
     "data": {
      "application/vnd.jupyter.widget-view+json": {
       "model_id": "74b2805d328c4c61b8c25dea5bf21429",
       "version_major": 2,
       "version_minor": 0
      },
      "text/plain": [
       "interactive(children=(IntSlider(value=0, description='start_index', max=344), IntSlider(value=344, description…"
      ]
     },
     "metadata": {},
     "output_type": "display_data"
    }
   ],
   "source": [
    "import pandas as pd\n",
    "import numpy as np\n",
    "from scipy.stats import trim_mean\n",
    "import glob\n",
    "import os\n",
    "import matplotlib.pyplot as plt\n",
    "from ipywidgets import interact, IntSlider\n",
    "%matplotlib widget\n",
    "\n",
    "list_of_files = [f for f in glob.glob('./traj/*') if not os.path.isdir(f)] #take all files but not folders\n",
    "latest_file = max(list_of_files, key=os.path.getctime)\n",
    "\n",
    "file_path = latest_file\n",
    "# file_path = \"./data/0500um_110mm_c1_2023-12-15_20-56-08.txt\"\n",
    "\n",
    "# Read the text file into a list of lines\n",
    "with open(file_path, 'r') as file:\n",
    "    lines = file.readlines()\n",
    "\n",
    "labels = ['elapsed', 'dxl_pos[0]', 'dxl_pos[1]', 'dxl_pos[2]', 'dxl_pos[3]', 'dxl_pos[4]',]\n",
    "data_dict = {}\n",
    "for label in labels:\n",
    "    data_dict[label] = []\n",
    "\n",
    "for line in lines:\n",
    "    for label in labels:\n",
    "        if(line.startswith(label)):\n",
    "            data_dict[label].append(float(line.split(': ')[1]))\n",
    "    if line.startswith('end'): \n",
    "        break\n",
    "\n",
    "# Create a dataframe from the extracted values\n",
    "df = pd.DataFrame(data_dict)\n",
    "\n",
    "fig, axs = plt.subplots(2, 1, figsize=(10,6))\n",
    "@interact(start_index=IntSlider(min=0, max=len(df)-1, step=1, value=0),\n",
    "          end_index=IntSlider(min=0, max=len(df)-1, step=1, value=len(df)-1))\n",
    "def display_image(start_index, end_index):\n",
    "    if(start_index >= end_index):\n",
    "        return\n",
    "    \n",
    "    axs[0].clear()\n",
    "    axs[0].set_xlabel('elapsed')\n",
    "    axs[0].set_ylabel('dxl_pos')\n",
    "    for i in range(5):\n",
    "        axs[0].plot(df['elapsed'][start_index:end_index], df[f'dxl_pos[{i}]'][start_index:end_index], label=f'{i}')\n",
    "    axs[0].legend()\n",
    "\n",
    "    axs[1].clear()\n",
    "    axs[1].set_xlabel('dxl0')\n",
    "    axs[1].set_ylabel('dxl1')\n",
    "    axs[1].plot(df['dxl_pos[0]'][start_index:end_index], df['dxl_pos[1]'][start_index:end_index], '.', label=f'0 and 1')\n",
    "    axs[1].legend()\n",
    "    # axs[1].set_aspect()\n",
    "    axs[1].set_aspect('equal', adjustable='box')\n",
    "\n",
    "\n",
    "    plt.show()\n"
   ]
  }
 ],
 "metadata": {
  "kernelspec": {
   "display_name": "Python 3",
   "language": "python",
   "name": "python3"
  },
  "language_info": {
   "codemirror_mode": {
    "name": "ipython",
    "version": 3
   },
   "file_extension": ".py",
   "mimetype": "text/x-python",
   "name": "python",
   "nbconvert_exporter": "python",
   "pygments_lexer": "ipython3",
   "version": "3.11.4"
  }
 },
 "nbformat": 4,
 "nbformat_minor": 2
}
