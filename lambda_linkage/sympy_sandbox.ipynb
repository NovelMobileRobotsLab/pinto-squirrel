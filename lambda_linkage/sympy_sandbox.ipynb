{
 "cells": [
  {
   "cell_type": "code",
   "execution_count": 1,
   "metadata": {},
   "outputs": [],
   "source": [
    "from sympy import *"
   ]
  },
  {
   "cell_type": "code",
   "execution_count": 3,
   "metadata": {},
   "outputs": [
    {
     "data": {
      "text/latex": [
       "$\\displaystyle \\frac{T_{2} \\sqrt{k \\left(2 \\tau_{max} x_{a} + \\frac{k x_{l}^{2}}{T_{2}^{2}}\\right)} + k x_{l}}{2 T_{2} k x_{a}}$"
      ],
      "text/plain": [
       "(T2*sqrt(k*(2*tau_max*x_a + k*x_l**2/T2**2)) + k*x_l)/(2*T2*k*x_a)"
      ]
     },
     "metadata": {},
     "output_type": "display_data"
    },
    {
     "data": {
      "text/latex": [
       "$\\displaystyle \\frac{- T_{2} \\sqrt{k \\left(2 \\tau_{max} x_{a} + \\frac{k x_{l}^{2}}{T_{2}^{2}}\\right)} + k x_{l}}{2 T_{2} k x_{a}}$"
      ],
      "text/plain": [
       "(-T2*sqrt(k*(2*tau_max*x_a + k*x_l**2/T2**2)) + k*x_l)/(2*T2*k*x_a)"
      ]
     },
     "metadata": {},
     "output_type": "display_data"
    }
   ],
   "source": [
    "k, x_l, x_a, T2, tau_max = symbols('k, x_l, x_a, T2, tau_max')\n",
    "\n",
    "a = 2*k*x_a\n",
    "b = -2*k*x_l / T2\n",
    "c = -tau_max\n",
    "\n",
    "sol_p = (-b + sqrt(b**2 - 4*a*c)) / (2*a)\n",
    "sol_m = (-b - sqrt(b**2 - 4*a*c)) / (2*a)\n",
    "\n",
    "display(simplify(sol_p), simplify(sol_m))"
   ]
  },
  {
   "cell_type": "code",
   "execution_count": 9,
   "metadata": {},
   "outputs": [
    {
     "data": {
      "text/latex": [
       "$\\displaystyle \\frac{\\sqrt{2} m \\left(\\frac{P t}{m}\\right)^{\\frac{3}{2}}}{P t}$"
      ],
      "text/plain": [
       "sqrt(2)*m*(P*t/m)**(3/2)/(P*t)"
      ]
     },
     "execution_count": 9,
     "metadata": {},
     "output_type": "execute_result"
    }
   ],
   "source": [
    "P, T, t, m = symbols('P, T, t, m')\n",
    "\n",
    "v = sqrt(2*P*t/m)\n",
    "x = integrate(v, t)\n",
    "\n",
    "x.diff(t)"
   ]
  },
  {
   "cell_type": "code",
   "execution_count": 13,
   "metadata": {},
   "outputs": [
    {
     "data": {
      "text/latex": [
       "$\\displaystyle \\frac{2 \\sqrt{2} m \\left(\\frac{P t}{m}\\right)^{\\frac{3}{2}}}{3 P}$"
      ],
      "text/plain": [
       "2*sqrt(2)*m*(P*t/m)**(3/2)/(3*P)"
      ]
     },
     "execution_count": 13,
     "metadata": {},
     "output_type": "execute_result"
    }
   ],
   "source": [
    "x.powsimp()"
   ]
  },
  {
   "cell_type": "code",
   "execution_count": 45,
   "metadata": {},
   "outputs": [
    {
     "data": {
      "application/vnd.jupyter.widget-view+json": {
       "model_id": "e9cffc6623d048d791111a7da92dc9ea",
       "version_major": 2,
       "version_minor": 0
      },
      "text/plain": [
       "interactive(children=(FloatSlider(value=0.4, description='m', max=0.7, min=0.1, step=0.01), FloatSlider(value=…"
      ]
     },
     "metadata": {},
     "output_type": "display_data"
    },
    {
     "data": {
      "text/plain": [
       "<function __main__.plot_v_T(m, P)>"
      ]
     },
     "execution_count": 45,
     "metadata": {},
     "output_type": "execute_result"
    }
   ],
   "source": [
    "P, T, t, m, x = symbols('P, T, t, m, x')\n",
    "\n",
    "\n",
    "v_T = Rational(3,2)*x*(3*x/(2*sqrt(2))*sqrt(m/P))**Rational(2,3)\n",
    "v_T\n",
    "import matplotlib.pyplot as plt\n",
    "import numpy as np\n",
    "from ipywidgets import interact\n",
    "\n",
    "def plot_v_T(m, P):\n",
    "    x_values = np.linspace(0, 0.5, 100)\n",
    "    v_T_values = Rational(3,2)*x_values*(3*x_values/(2*np.sqrt(2))*np.sqrt(m/P))**Rational(2,3)\n",
    "    plt.plot(x_values, v_T_values)\n",
    "    plt.axhline(y=2, color='r', linestyle='--')\n",
    "    plt.xlabel('x')\n",
    "    plt.ylabel('v_T')\n",
    "    plt.title('v_T vs x')\n",
    "    plt.show()\n",
    "\n",
    "interact(plot_v_T, m=(0.1, 0.7, 0.01), P=(1, 15.0, 0.1))\n"
   ]
  },
  {
   "cell_type": "code",
   "execution_count": 126,
   "metadata": {},
   "outputs": [
    {
     "data": {
      "text/latex": [
       "$\\displaystyle \\frac{2 \\sqrt{2} \\sqrt{P} T^{\\frac{3}{2}}}{3 \\sqrt{m}}$"
      ],
      "text/plain": [
       "2*sqrt(2)*sqrt(P)*T**(3/2)/(3*sqrt(m))"
      ]
     },
     "metadata": {},
     "output_type": "display_data"
    },
    {
     "data": {
      "text/latex": [
       "$\\displaystyle \\begin{cases} \\frac{3^{\\frac{2}{3}} \\sqrt[3]{m} x^{\\frac{2}{3}}}{2 \\sqrt[3]{P}} & \\text{for}\\: T_{lim} > \\frac{3^{\\frac{2}{3}} \\sqrt[3]{m} x^{\\frac{2}{3}}}{2 \\sqrt[3]{P}} \\\\T_{lim} & \\text{otherwise} \\end{cases}$"
      ],
      "text/plain": [
       "Piecewise((3**(2/3)*m**(1/3)*x**(2/3)/(2*P**(1/3)), T_lim > 3**(2/3)*m**(1/3)*x**(2/3)/(2*P**(1/3))), (T_lim, True))"
      ]
     },
     "metadata": {},
     "output_type": "display_data"
    },
    {
     "data": {
      "text/latex": [
       "$\\displaystyle \\frac{\\sqrt{2} \\sqrt{P} \\left(\\begin{cases} \\frac{\\sqrt{2} \\cdot \\sqrt[3]{3} \\sqrt[6]{m} \\sqrt[3]{x}}{2 \\sqrt[6]{P}} & \\text{for}\\: T_{lim} > \\frac{3^{\\frac{2}{3}} \\sqrt[3]{m} x^{\\frac{2}{3}}}{2 \\sqrt[3]{P}} \\\\\\sqrt{T_{lim}} & \\text{otherwise} \\end{cases}\\right)}{\\sqrt{m}}$"
      ],
      "text/plain": [
       "sqrt(2)*sqrt(P)*Piecewise((sqrt(2)*3**(1/3)*m**(1/6)*x**(1/3)/(2*P**(1/6)), T_lim > 3**(2/3)*m**(1/3)*x**(2/3)/(2*P**(1/3))), (sqrt(T_lim), True))/sqrt(m)"
      ]
     },
     "metadata": {},
     "output_type": "display_data"
    },
    {
     "data": {
      "application/vnd.jupyter.widget-view+json": {
       "model_id": "07534f3a8b2a472abbd952ba5a8c7020",
       "version_major": 2,
       "version_minor": 0
      },
      "text/plain": [
       "interactive(children=(FloatSlider(value=0.4, description='m_val', max=0.7, min=0.1, step=0.01), FloatSlider(va…"
      ]
     },
     "metadata": {},
     "output_type": "display_data"
    },
    {
     "data": {
      "text/plain": [
       "<function __main__.plot_h(m_val, P_val, T_lim_val, spring_eff_val)>"
      ]
     },
     "execution_count": 126,
     "metadata": {},
     "output_type": "execute_result"
    }
   ],
   "source": [
    "P, T, t, m, x, T_lim = symbols('P, T, t, m, x, T_lim', real=True, positive=True)\n",
    "g = 9.81\n",
    "v = sqrt(2*P*t/m)\n",
    "x_T = integrate(v, t).subs({t: T})\n",
    "T_x = list(solveset(Eq(x, x_T), T, domain=S.Reals))[0]\n",
    "T_f = Piecewise((T_x, T_x < T_lim), (T_lim, T_x >= T_lim))\n",
    "v_T = v.subs({t:T_f})\n",
    "h = v_T**2/(2*g)\n",
    "agility = h / (T_f + sqrt(2*h/g))\n",
    "display(x_T, T_f, v_T)\n",
    "\n",
    "spring_eff = symbols('spring_eff')\n",
    "h_latched = P*T_lim/(m*g) * spring_eff\n",
    "agility_latched = h_latched / (T_lim + sqrt(2*h_latched/g))\n",
    "\n",
    "def plot_h(m_val, P_val, T_lim_val, spring_eff_val):\n",
    "    x_values = np.linspace(0.01, 0.3, 100)\n",
    "    h_values = np.zeros_like(x_values)\n",
    "    agility_values = np.zeros_like(x_values)\n",
    "    h_latched_values = np.zeros_like(x_values)\n",
    "    agility_latched_values = np.zeros_like(x_values)\n",
    "    for i in range(len(x_values)):\n",
    "        h_values[i] = h.subs({x: x_values[i], m:m_val, P:P_val, T_lim:T_lim_val})\n",
    "        agility_values[i] = agility.subs({x: x_values[i], m:m_val, P:P_val, T_lim:T_lim_val})\n",
    "        h_latched_values[i] = h_latched.subs({x: x_values[i], m:m_val, P:P_val, T_lim:T_lim_val, spring_eff:spring_eff_val})\n",
    "        agility_latched_values[i] = agility_latched.subs({x: x_values[i], m:m_val, P:P_val, T_lim:T_lim_val, spring_eff:spring_eff_val})\n",
    "    plt.figure()\n",
    "    plt.plot(x_values, h_values, label='h_direct (m)')\n",
    "    plt.plot(x_values, agility_values, label='agility_direct (m/s)')\n",
    "    plt.plot(x_values, h_latched_values, label='h_latched (m)')\n",
    "    plt.plot(x_values, agility_latched_values, label='agility_latched (m/s)')\n",
    "    # plt.plot(x_values, h_values_latched)\n",
    "    plt.axhline(y=1.8, color='r', linestyle='--', label='salto agility')\n",
    "    plt.xlabel('leg stroke length (m)')\n",
    "    plt.title('Direct drive jump height vs. leg stroke length')\n",
    "    plt.legend()\n",
    "    plt.show()\n",
    "\n",
    "interact(plot_h, m_val=(0.1, 0.7, 0.01), P_val=(1, 80.0, 1), T_lim_val=(0, 1, 0.1), spring_eff_val=(0,1,0.1))"
   ]
  }
 ],
 "metadata": {
  "kernelspec": {
   "display_name": "Python 3",
   "language": "python",
   "name": "python3"
  },
  "language_info": {
   "codemirror_mode": {
    "name": "ipython",
    "version": 3
   },
   "file_extension": ".py",
   "mimetype": "text/x-python",
   "name": "python",
   "nbconvert_exporter": "python",
   "pygments_lexer": "ipython3",
   "version": "3.11.4"
  },
  "orig_nbformat": 4
 },
 "nbformat": 4,
 "nbformat_minor": 2
}
