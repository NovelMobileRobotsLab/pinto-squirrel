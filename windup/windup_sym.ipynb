{
 "cells": [
  {
   "cell_type": "code",
   "execution_count": 2,
   "metadata": {},
   "outputs": [
    {
     "data": {
      "text/latex": [
       "$\\displaystyle L_{spr} = \\sqrt{r_{2}^{2} - 2 r_{2} r_{3} \\cos{\\left(\\theta_{3} + \\operatorname{acos}{\\left(\\frac{r_{1}^{2} - r_{12}^{2} + r_{2}^{2}}{2 r_{1} r_{2}} \\right)} - \\operatorname{acos}{\\left(\\frac{L_{tsa0}^{2} - r_{1}^{2} - r_{tsa}^{2} \\left(\\phi + \\phi_{0}\\right)^{2} - x_{tsa}^{2}}{2 r_{1} x_{tsa}} \\right)} \\right)} + r_{3}^{2}}$"
      ],
      "text/plain": [
       "Eq(L_spr, sqrt(r2**2 - 2*r2*r3*cos(theta3 + acos((r1**2 - r12**2 + r2**2)/(2*r1*r2)) - acos((L_tsa0**2 - r1**2 - r_tsa**2*(phi + phi_0)**2 - x_tsa**2)/(2*r1*x_tsa))) + r3**2))"
      ]
     },
     "metadata": {},
     "output_type": "display_data"
    }
   ],
   "source": [
    "from sympy import *\n",
    "import matplotlib.pyplot as plt\n",
    "import numpy as np\n",
    "\n",
    "phi, phi_0, r_tsa, L_tsa0 = symbols('phi, phi_0, r_tsa, L_tsa0') #twisted string params\n",
    "x_tsa, r1, r2, r12, r3, theta3 = symbols('x_tsa, r1, r2, r12, r3, theta3') #linkage params\n",
    "k, F_spr0 = symbols('k, F_spr0') #spring params\n",
    "\n",
    "\n",
    "# guess = [0.000128, 20, 0.0516, 9.46, 4.6, 0.0263, 0.015, 0.01906, -1.327, 0.0256, 0.0244]\n",
    "guess = [\n",
    "    0.00022327413749841384, \n",
    "    21, \n",
    "    0.07202306, \n",
    "    9.4759629, \n",
    "    4.586, \n",
    "    0.038238, \n",
    "    0.15212, \n",
    "    0.18796, \n",
    "    0, \n",
    "    0.033646, \n",
    "    0.113887\n",
    "]\n",
    "nums = {\n",
    "    r_tsa: guess[0],\n",
    "    phi_0: guess[1],\n",
    "    L_tsa0: guess[2],\n",
    "    F_spr0: guess[3],\n",
    "    k: guess[4],\n",
    "    r1: guess[5],\n",
    "    r2: guess[6],\n",
    "    r3: guess[7],\n",
    "    theta3: guess[8],\n",
    "    x_tsa: guess[9],\n",
    "    r12: guess[10]\n",
    "}\n",
    "\n",
    "t_total, omega_max = symbols('t_total, omega_max')\n",
    "params = {\n",
    "    t_total: 0.2,\n",
    "    omega_max: 3000\n",
    "}\n",
    "\n",
    "L_tsa = sqrt(L_tsa0**2 - (phi + phi_0)**2 * r_tsa**2)\n",
    "\n",
    "theta1 = acos((-r1**2 - x_tsa**2 + L_tsa**2) / (2*r1*x_tsa))\n",
    "theta2 = theta1 - acos((r1**2 + r2**2 - r12**2) / (2*r1*r2))\n",
    "\n",
    "L_spr = sqrt(r2**2 + r3**2 - 2*r2*r3*cos(theta2 - theta3))\n",
    "L_spr\n",
    "display(Eq(symbols('L_spr'), L_spr))"
   ]
  },
  {
   "cell_type": "code",
   "execution_count": 10,
   "metadata": {},
   "outputs": [
    {
     "name": "stdout",
     "output_type": "stream",
     "text": [
      "\\sqrt{r_{2}^{2} - 2 r_{2} r_{3} \\cos{\\left(\\theta_{3} + \\operatorname{acos}{\\left(\\frac{r_{1}^{2} - r_{12}^{2} + r_{2}^{2}}{2 r_{1} r_{2}} \\right)} - \\operatorname{acos}{\\left(\\frac{L_{tsa0}^{2} - r_{1}^{2} - r_{tsa}^{2} \\left(\\phi + \\phi_{0}\\right)^{2} - x_{tsa}^{2}}{2 r_{1} x_{tsa}} \\right)} \\right)} + r_{3}^{2}}\n"
     ]
    }
   ],
   "source": [
    "print(latex(L_spr))"
   ]
  },
  {
   "cell_type": "code",
   "execution_count": 3,
   "metadata": {},
   "outputs": [
    {
     "data": {
      "text/latex": [
       "$\\displaystyle \\sqrt{r_{2}^{2} - 2 r_{2} r_{3} \\cos{\\left(\\theta_{3} + \\operatorname{acos}{\\left(\\frac{r_{1}^{2} - r_{12}^{2} + r_{2}^{2}}{2 r_{1} r_{2}} \\right)} - \\operatorname{acos}{\\left(\\frac{L_{tsa0}^{2} - r_{1}^{2} - r_{tsa}^{2} \\left(\\phi + \\phi_{0}\\right)^{2} - x_{tsa}^{2}}{2 r_{1} x_{tsa}} \\right)} \\right)} + r_{3}^{2}} - \\sqrt{r_{2}^{2} - 2 r_{2} r_{3} \\cos{\\left(\\theta_{3} + \\operatorname{acos}{\\left(\\frac{r_{1}^{2} - r_{12}^{2} + r_{2}^{2}}{2 r_{1} r_{2}} \\right)} - \\operatorname{acos}{\\left(\\frac{L_{tsa0}^{2} - \\phi_{0}^{2} r_{tsa}^{2} - r_{1}^{2} - x_{tsa}^{2}}{2 r_{1} x_{tsa}} \\right)} \\right)} + r_{3}^{2}}$"
      ],
      "text/plain": [
       "sqrt(r2**2 - 2*r2*r3*cos(theta3 + acos((r1**2 - r12**2 + r2**2)/(2*r1*r2)) - acos((L_tsa0**2 - r1**2 - r_tsa**2*(phi + phi_0)**2 - x_tsa**2)/(2*r1*x_tsa))) + r3**2) - sqrt(r2**2 - 2*r2*r3*cos(theta3 + acos((r1**2 - r12**2 + r2**2)/(2*r1*r2)) - acos((L_tsa0**2 - phi_0**2*r_tsa**2 - r1**2 - x_tsa**2)/(2*r1*x_tsa))) + r3**2)"
      ]
     },
     "execution_count": 3,
     "metadata": {},
     "output_type": "execute_result"
    }
   ],
   "source": [
    "L_dspr = L_spr - L_spr.subs(phi,0)\n",
    "L_dspr"
   ]
  },
  {
   "cell_type": "code",
   "execution_count": 4,
   "metadata": {},
   "outputs": [
    {
     "data": {
      "text/latex": [
       "$\\displaystyle F_{spr0} + k \\left(\\sqrt{r_{2}^{2} - 2 r_{2} r_{3} \\cos{\\left(\\theta_{3} + \\operatorname{acos}{\\left(\\frac{r_{1}^{2} - r_{12}^{2} + r_{2}^{2}}{2 r_{1} r_{2}} \\right)} - \\operatorname{acos}{\\left(\\frac{L_{tsa0}^{2} - r_{1}^{2} - r_{tsa}^{2} \\left(\\phi + \\phi_{0}\\right)^{2} - x_{tsa}^{2}}{2 r_{1} x_{tsa}} \\right)} \\right)} + r_{3}^{2}} - \\sqrt{r_{2}^{2} - 2 r_{2} r_{3} \\cos{\\left(\\theta_{3} + \\operatorname{acos}{\\left(\\frac{r_{1}^{2} - r_{12}^{2} + r_{2}^{2}}{2 r_{1} r_{2}} \\right)} - \\operatorname{acos}{\\left(\\frac{L_{tsa0}^{2} - \\phi_{0}^{2} r_{tsa}^{2} - r_{1}^{2} - x_{tsa}^{2}}{2 r_{1} x_{tsa}} \\right)} \\right)} + r_{3}^{2}}\\right)$"
      ],
      "text/plain": [
       "F_spr0 + k*(sqrt(r2**2 - 2*r2*r3*cos(theta3 + acos((r1**2 - r12**2 + r2**2)/(2*r1*r2)) - acos((L_tsa0**2 - r1**2 - r_tsa**2*(phi + phi_0)**2 - x_tsa**2)/(2*r1*x_tsa))) + r3**2) - sqrt(r2**2 - 2*r2*r3*cos(theta3 + acos((r1**2 - r12**2 + r2**2)/(2*r1*r2)) - acos((L_tsa0**2 - phi_0**2*r_tsa**2 - r1**2 - x_tsa**2)/(2*r1*x_tsa))) + r3**2))"
      ]
     },
     "execution_count": 4,
     "metadata": {},
     "output_type": "execute_result"
    }
   ],
   "source": [
    "F_out = k*L_dspr + F_spr0\n",
    "F_out"
   ]
  },
  {
   "cell_type": "code",
   "execution_count": 9,
   "metadata": {},
   "outputs": [
    {
     "name": "stdout",
     "output_type": "stream",
     "text": [
      "T_{1} = - \\frac{r_{2} r_{3} r_{tsa}^{2} \\cdot \\left(2 \\phi + 2 \\phi_{0}\\right) \\sin{\\left(\\theta_{3} + \\operatorname{acos}{\\left(\\frac{r_{1}^{2} - r_{12}^{2} + r_{2}^{2}}{2 r_{1} r_{2}} \\right)} - \\operatorname{acos}{\\left(\\frac{L_{tsa0}^{2} - r_{1}^{2} - r_{tsa}^{2} \\left(\\phi + \\phi_{0}\\right)^{2} - x_{tsa}^{2}}{2 r_{1} x_{tsa}} \\right)} \\right)}}{2 r_{1} x_{tsa} \\sqrt{1 - \\frac{\\left(L_{tsa0}^{2} - r_{1}^{2} - r_{tsa}^{2} \\left(\\phi + \\phi_{0}\\right)^{2} - x_{tsa}^{2}\\right)^{2}}{4 r_{1}^{2} x_{tsa}^{2}}} \\sqrt{r_{2}^{2} - 2 r_{2} r_{3} \\cos{\\left(\\theta_{3} + \\operatorname{acos}{\\left(\\frac{r_{1}^{2} - r_{12}^{2} + r_{2}^{2}}{2 r_{1} r_{2}} \\right)} - \\operatorname{acos}{\\left(\\frac{L_{tsa0}^{2} - r_{1}^{2} - r_{tsa}^{2} \\left(\\phi + \\phi_{0}\\right)^{2} - x_{tsa}^{2}}{2 r_{1} x_{tsa}} \\right)} \\right)} + r_{3}^{2}}}\n"
     ]
    }
   ],
   "source": [
    "print(latex(Eq(symbols('T1'), L_spr.diff(phi))))"
   ]
  },
  {
   "cell_type": "code",
   "execution_count": 6,
   "metadata": {},
   "outputs": [
    {
     "data": {
      "text/latex": [
       "$\\displaystyle - \\frac{r_{2} r_{3} r_{tsa}^{2} \\cdot \\left(2 \\phi + 2 \\phi_{0}\\right) \\sin{\\left(\\theta_{3} + \\operatorname{acos}{\\left(\\frac{r_{1}^{2} - r_{12}^{2} + r_{2}^{2}}{2 r_{1} r_{2}} \\right)} - \\operatorname{acos}{\\left(\\frac{L_{tsa0}^{2} - r_{1}^{2} - r_{tsa}^{2} \\left(\\phi + \\phi_{0}\\right)^{2} - x_{tsa}^{2}}{2 r_{1} x_{tsa}} \\right)} \\right)}}{2 r_{1} x_{tsa} \\sqrt{1 - \\frac{\\left(L_{tsa0}^{2} - r_{1}^{2} - r_{tsa}^{2} \\left(\\phi + \\phi_{0}\\right)^{2} - x_{tsa}^{2}\\right)^{2}}{4 r_{1}^{2} x_{tsa}^{2}}} \\sqrt{r_{2}^{2} - 2 r_{2} r_{3} \\cos{\\left(\\theta_{3} + \\operatorname{acos}{\\left(\\frac{r_{1}^{2} - r_{12}^{2} + r_{2}^{2}}{2 r_{1} r_{2}} \\right)} - \\operatorname{acos}{\\left(\\frac{L_{tsa0}^{2} - r_{1}^{2} - r_{tsa}^{2} \\left(\\phi + \\phi_{0}\\right)^{2} - x_{tsa}^{2}}{2 r_{1} x_{tsa}} \\right)} \\right)} + r_{3}^{2}}}$"
      ],
      "text/plain": [
       "-r2*r3*r_tsa**2*(2*phi + 2*phi_0)*sin(theta3 + acos((r1**2 - r12**2 + r2**2)/(2*r1*r2)) - acos((L_tsa0**2 - r1**2 - r_tsa**2*(phi + phi_0)**2 - x_tsa**2)/(2*r1*x_tsa)))/(2*r1*x_tsa*sqrt(1 - (L_tsa0**2 - r1**2 - r_tsa**2*(phi + phi_0)**2 - x_tsa**2)**2/(4*r1**2*x_tsa**2))*sqrt(r2**2 - 2*r2*r3*cos(theta3 + acos((r1**2 - r12**2 + r2**2)/(2*r1*r2)) - acos((L_tsa0**2 - r1**2 - r_tsa**2*(phi + phi_0)**2 - x_tsa**2)/(2*r1*x_tsa))) + r3**2))"
      ]
     },
     "execution_count": 6,
     "metadata": {},
     "output_type": "execute_result"
    }
   ],
   "source": [
    "T1 = L_dspr.diff(phi)\n",
    "T1"
   ]
  },
  {
   "cell_type": "code",
   "execution_count": 237,
   "metadata": {},
   "outputs": [
    {
     "data": {
      "text/latex": [
       "$\\displaystyle - \\frac{r_{2} r_{3} r_{tsa}^{2} \\left(F_{spr0} + k \\left(\\sqrt{r_{2}^{2} - 2 r_{2} r_{3} \\cos{\\left(\\theta_{3} + \\operatorname{acos}{\\left(\\frac{r_{1}^{2} - r_{12}^{2} + r_{2}^{2}}{2 r_{1} r_{2}} \\right)} - \\operatorname{acos}{\\left(\\frac{L_{tsa0}^{2} - r_{1}^{2} - r_{tsa}^{2} \\left(\\phi + \\phi_{0}\\right)^{2} - x_{tsa}^{2}}{2 r_{1} x_{tsa}} \\right)} \\right)} + r_{3}^{2}} - \\sqrt{r_{2}^{2} - 2 r_{2} r_{3} \\cos{\\left(\\theta_{3} + \\operatorname{acos}{\\left(\\frac{r_{1}^{2} - r_{12}^{2} + r_{2}^{2}}{2 r_{1} r_{2}} \\right)} - \\operatorname{acos}{\\left(\\frac{L_{tsa0}^{2} - \\phi_{0}^{2} r_{tsa}^{2} - r_{1}^{2} - x_{tsa}^{2}}{2 r_{1} x_{tsa}} \\right)} \\right)} + r_{3}^{2}}\\right)\\right) \\left(2 \\phi + 2 \\phi_{0}\\right) \\sin{\\left(\\theta_{3} + \\operatorname{acos}{\\left(\\frac{r_{1}^{2} - r_{12}^{2} + r_{2}^{2}}{2 r_{1} r_{2}} \\right)} - \\operatorname{acos}{\\left(\\frac{L_{tsa0}^{2} - r_{1}^{2} - r_{tsa}^{2} \\left(\\phi + \\phi_{0}\\right)^{2} - x_{tsa}^{2}}{2 r_{1} x_{tsa}} \\right)} \\right)}}{2 r_{1} x_{tsa} \\sqrt{1 - \\frac{\\left(L_{tsa0}^{2} - r_{1}^{2} - r_{tsa}^{2} \\left(\\phi + \\phi_{0}\\right)^{2} - x_{tsa}^{2}\\right)^{2}}{4 r_{1}^{2} x_{tsa}^{2}}} \\sqrt{r_{2}^{2} - 2 r_{2} r_{3} \\cos{\\left(\\theta_{3} + \\operatorname{acos}{\\left(\\frac{r_{1}^{2} - r_{12}^{2} + r_{2}^{2}}{2 r_{1} r_{2}} \\right)} - \\operatorname{acos}{\\left(\\frac{L_{tsa0}^{2} - r_{1}^{2} - r_{tsa}^{2} \\left(\\phi + \\phi_{0}\\right)^{2} - x_{tsa}^{2}}{2 r_{1} x_{tsa}} \\right)} \\right)} + r_{3}^{2}}}$"
      ],
      "text/plain": [
       "-r2*r3*r_tsa**2*(F_spr0 + k*(sqrt(r2**2 - 2*r2*r3*cos(theta3 + acos((r1**2 - r12**2 + r2**2)/(2*r1*r2)) - acos((L_tsa0**2 - r1**2 - r_tsa**2*(phi + phi_0)**2 - x_tsa**2)/(2*r1*x_tsa))) + r3**2) - sqrt(r2**2 - 2*r2*r3*cos(theta3 + acos((r1**2 - r12**2 + r2**2)/(2*r1*r2)) - acos((L_tsa0**2 - phi_0**2*r_tsa**2 - r1**2 - x_tsa**2)/(2*r1*x_tsa))) + r3**2)))*(2*phi + 2*phi_0)*sin(theta3 + acos((r1**2 - r12**2 + r2**2)/(2*r1*r2)) - acos((L_tsa0**2 - r1**2 - r_tsa**2*(phi + phi_0)**2 - x_tsa**2)/(2*r1*x_tsa)))/(2*r1*x_tsa*sqrt(1 - (L_tsa0**2 - r1**2 - r_tsa**2*(phi + phi_0)**2 - x_tsa**2)**2/(4*r1**2*x_tsa**2))*sqrt(r2**2 - 2*r2*r3*cos(theta3 + acos((r1**2 - r12**2 + r2**2)/(2*r1*r2)) - acos((L_tsa0**2 - r1**2 - r_tsa**2*(phi + phi_0)**2 - x_tsa**2)/(2*r1*x_tsa))) + r3**2))"
      ]
     },
     "execution_count": 237,
     "metadata": {},
     "output_type": "execute_result"
    }
   ],
   "source": [
    "F_in = F_out*T1\n",
    "F_in"
   ]
  },
  {
   "cell_type": "code",
   "execution_count": 238,
   "metadata": {},
   "outputs": [
    {
     "data": {
      "text/latex": [
       "$\\displaystyle \\frac{\\left(F_{spr0} + k \\left(\\sqrt{r_{2}^{2} - 2 r_{2} r_{3} \\cos{\\left(\\theta_{3} + \\operatorname{acos}{\\left(\\frac{r_{1}^{2} - r_{12}^{2} + r_{2}^{2}}{2 r_{1} r_{2}} \\right)} - \\operatorname{acos}{\\left(\\frac{L_{tsa0}^{2} - r_{1}^{2} - r_{tsa}^{2} \\left(\\phi + \\phi_{0}\\right)^{2} - x_{tsa}^{2}}{2 r_{1} x_{tsa}} \\right)} \\right)} + r_{3}^{2}} - \\sqrt{r_{2}^{2} - 2 r_{2} r_{3} \\cos{\\left(\\theta_{3} + \\operatorname{acos}{\\left(\\frac{r_{1}^{2} - r_{12}^{2} + r_{2}^{2}}{2 r_{1} r_{2}} \\right)} - \\operatorname{acos}{\\left(\\frac{L_{tsa0}^{2} - \\phi_{0}^{2} r_{tsa}^{2} - r_{1}^{2} - x_{tsa}^{2}}{2 r_{1} x_{tsa}} \\right)} \\right)} + r_{3}^{2}}\\right)\\right)^{2}}{2 k}$"
      ],
      "text/plain": [
       "(F_spr0 + k*(sqrt(r2**2 - 2*r2*r3*cos(theta3 + acos((r1**2 - r12**2 + r2**2)/(2*r1*r2)) - acos((L_tsa0**2 - r1**2 - r_tsa**2*(phi + phi_0)**2 - x_tsa**2)/(2*r1*x_tsa))) + r3**2) - sqrt(r2**2 - 2*r2*r3*cos(theta3 + acos((r1**2 - r12**2 + r2**2)/(2*r1*r2)) - acos((L_tsa0**2 - phi_0**2*r_tsa**2 - r1**2 - x_tsa**2)/(2*r1*x_tsa))) + r3**2)))**2/(2*k)"
      ]
     },
     "execution_count": 238,
     "metadata": {},
     "output_type": "execute_result"
    }
   ],
   "source": [
    "#maximize integral(F_in, phi) from 0 to ω_max*t_total/2\n",
    "#under constraint 0 ≤ F_in ≤ F_max\n",
    "# F_in = (k*L_dspr + F_spr0)*L_dspr.diff(phi)\n",
    "\n",
    "energy = (F_spr0 + k*L_dspr)**2 / (2*k) #integral shortcut\n",
    "energy"
   ]
  },
  {
   "cell_type": "code",
   "execution_count": 239,
   "metadata": {},
   "outputs": [
    {
     "data": {
      "text/latex": [
       "$\\displaystyle \\frac{F_{spr0}^{2}}{2 k}$"
      ],
      "text/plain": [
       "F_spr0**2/(2*k)"
      ]
     },
     "metadata": {},
     "output_type": "display_data"
    },
    {
     "data": {
      "text/latex": [
       "$\\displaystyle \\frac{\\left(F_{spr0} + k \\left(\\sqrt{r_{2}^{2} - 2 r_{2} r_{3} \\cos{\\left(\\theta_{3} + \\operatorname{acos}{\\left(\\frac{r_{1}^{2} - r_{12}^{2} + r_{2}^{2}}{2 r_{1} r_{2}} \\right)} - \\operatorname{acos}{\\left(\\frac{L_{tsa0}^{2} - r_{1}^{2} - r_{tsa}^{2} \\left(\\frac{\\omega_{max} t_{total}}{2} + \\phi_{0}\\right)^{2} - x_{tsa}^{2}}{2 r_{1} x_{tsa}} \\right)} \\right)} + r_{3}^{2}} - \\sqrt{r_{2}^{2} - 2 r_{2} r_{3} \\cos{\\left(\\theta_{3} + \\operatorname{acos}{\\left(\\frac{r_{1}^{2} - r_{12}^{2} + r_{2}^{2}}{2 r_{1} r_{2}} \\right)} - \\operatorname{acos}{\\left(\\frac{L_{tsa0}^{2} - \\phi_{0}^{2} r_{tsa}^{2} - r_{1}^{2} - x_{tsa}^{2}}{2 r_{1} x_{tsa}} \\right)} \\right)} + r_{3}^{2}}\\right)\\right)^{2}}{2 k}$"
      ],
      "text/plain": [
       "(F_spr0 + k*(sqrt(r2**2 - 2*r2*r3*cos(theta3 + acos((r1**2 - r12**2 + r2**2)/(2*r1*r2)) - acos((L_tsa0**2 - r1**2 - r_tsa**2*(omega_max*t_total/2 + phi_0)**2 - x_tsa**2)/(2*r1*x_tsa))) + r3**2) - sqrt(r2**2 - 2*r2*r3*cos(theta3 + acos((r1**2 - r12**2 + r2**2)/(2*r1*r2)) - acos((L_tsa0**2 - phi_0**2*r_tsa**2 - r1**2 - x_tsa**2)/(2*r1*x_tsa))) + r3**2)))**2/(2*k)"
      ]
     },
     "metadata": {},
     "output_type": "display_data"
    }
   ],
   "source": [
    "energy_0 = energy.subs(phi,0) #energy_final - energy_0 is the energy stored\n",
    "energy_final = energy.subs(phi, omega_max*t_total/2)\n",
    "display(energy_0, energy_final)"
   ]
  },
  {
   "cell_type": "code",
   "execution_count": 240,
   "metadata": {},
   "outputs": [
    {
     "data": {
      "text/latex": [
       "$\\displaystyle 0.00392644395590547$"
      ],
      "text/plain": [
       "0.00392644395590547"
      ]
     },
     "execution_count": 240,
     "metadata": {},
     "output_type": "execute_result"
    }
   ],
   "source": [
    "F_in.subs(nums).subs(phi,0)"
   ]
  },
  {
   "cell_type": "code",
   "execution_count": 241,
   "metadata": {},
   "outputs": [
    {
     "data": {
      "text/latex": [
       "$\\displaystyle 12.86995778445$"
      ],
      "text/plain": [
       "12.8699577844500"
      ]
     },
     "execution_count": 241,
     "metadata": {},
     "output_type": "execute_result"
    }
   ],
   "source": [
    "energy_final.subs(nums).subs(params)"
   ]
  },
  {
   "cell_type": "code",
   "execution_count": 242,
   "metadata": {},
   "outputs": [
    {
     "name": "stdout",
     "output_type": "stream",
     "text": [
      "# 100 operations\n",
      "x0 = r_tsa**2\n",
      "x1 = r1**2\n",
      "x2 = x_tsa**2\n",
      "x3 = -L_tsa0**2 + x1 + x2\n",
      "x4 = (1/2)/r1\n",
      "x5 = x4/x_tsa\n",
      "x6 = r2**2\n",
      "x7 = theta3 + math.acos(x4*(-r12**2 + x1 + x6)/r2)\n",
      "x8 = r2*r3\n",
      "x9 = 2*x8\n",
      "x10 = r3**2 + x6\n",
      "x11 = -math.sqrt(x10 - x9*math.cos(x7 - math.acos(x5*(-phi_0**2*x0 - x3))))\n",
      "x12 = -x0*(phi + phi_0)**2 - x3\n",
      "x13 = x7 - math.acos(x12*x5)\n",
      "x14 = math.sqrt(x10 - x9*math.cos(x13))\n",
      "E_f = (1/2)*(F_spr0 + k*(x11 + math.sqrt(x10 - x9*math.cos(x7 - math.acos(x5*(-x0*((1/2)*omega_max*t_total + phi_0)**2 - x3))))))**2/k\n",
      "tau_a = -x0*x5*x8*(F_spr0 + k*(x11 + x14))*(2*phi + 2*phi_0)*math.sin(x13)/(x14*math.sqrt(1 - 1/4*x12**2/(x1*x2)))\n"
     ]
    }
   ],
   "source": [
    "from sympy.codegen.ast import CodeBlock, Assignment\n",
    "\n",
    "E_f, tau_a = symbols('E_f, tau_a')\n",
    "\n",
    "code = CodeBlock(\n",
    "    Assignment(E_f, energy_final),\n",
    "    Assignment(tau_a, F_in),\n",
    ").cse()\n",
    "\n",
    "print(f\"# {count_ops(code)} operations\")\n",
    "print(pycode(code))"
   ]
  },
  {
   "cell_type": "code",
   "execution_count": 243,
   "metadata": {},
   "outputs": [
    {
     "data": {
      "image/png": "[encoded data removed]",
      "text/plain": [
       "<Figure size 640x480 with 1 Axes>"
      ]
     },
     "metadata": {},
     "output_type": "display_data"
    }
   ],
   "source": [
    "phi_max = float((L_tsa0/r_tsa - phi_0).subs(nums))\n",
    "phi_vals = np.linspace(0, phi_max, 100, endpoint=False)\n",
    "\n",
    "F_in_vals = [float(F_in.subs(nums).subs(phi, phi_val)) for phi_val in phi_vals]\n",
    "\n",
    "plt.plot(phi_vals, F_in_vals)\n",
    "plt.ylim(0, 1.05*max(F_in_vals))\n",
    "plt.xlabel('phi')\n",
    "plt.ylabel('F_in')\n",
    "plt.show()"
   ]
  },
  {
   "cell_type": "code",
   "execution_count": 244,
   "metadata": {},
   "outputs": [
    {
     "data": {
      "text/latex": [
       "$\\displaystyle f{\\left(x \\right)}$"
      ],
      "text/plain": [
       "f(x)"
      ]
     },
     "metadata": {},
     "output_type": "display_data"
    },
    {
     "data": {
      "text/latex": [
       "$\\displaystyle \\frac{d}{d x} f{\\left(x \\right)}$"
      ],
      "text/plain": [
       "Derivative(f(x), x)"
      ]
     },
     "metadata": {},
     "output_type": "display_data"
    },
    {
     "data": {
      "text/latex": [
       "$\\displaystyle f{\\left(x \\right)} \\frac{d}{d x} f{\\left(x \\right)}$"
      ],
      "text/plain": [
       "f(x)*Derivative(f(x), x)"
      ]
     },
     "metadata": {},
     "output_type": "display_data"
    },
    {
     "data": {
      "text/latex": [
       "$\\displaystyle \\left(F_{spr0} + k f{\\left(x \\right)}\\right) \\frac{d}{d x} f{\\left(x \\right)}$"
      ],
      "text/plain": [
       "(F_spr0 + k*f(x))*Derivative(f(x), x)"
      ]
     },
     "metadata": {},
     "output_type": "display_data"
    },
    {
     "data": {
      "text/latex": [
       "$\\displaystyle \\begin{cases} \\frac{\\left(F_{spr0} + k f{\\left(x \\right)}\\right)^{2}}{2 k} & \\text{for}\\: k \\neq 0 \\\\F_{spr0} f{\\left(x \\right)} & \\text{otherwise} \\end{cases}$"
      ],
      "text/plain": [
       "Piecewise(((F_spr0 + k*f(x))**2/(2*k), Ne(k, 0)), (F_spr0*f(x), True))"
      ]
     },
     "metadata": {},
     "output_type": "display_data"
    }
   ],
   "source": [
    "x = symbols('x')\n",
    "f = Function('f')(x)\n",
    "\n",
    "df = f.diff(x)\n",
    "integrand = (k*f + F_spr0)*df\n",
    "integrated = integrate(integrand, x)\n",
    "display(f, df, f*df, integrand, integrated)"
   ]
  },
  {
   "cell_type": "code",
   "execution_count": 245,
   "metadata": {},
   "outputs": [
    {
     "data": {
      "text/latex": [
       "$\\displaystyle f{\\left(x \\right)}$"
      ],
      "text/plain": [
       "f(x)"
      ]
     },
     "metadata": {},
     "output_type": "display_data"
    },
    {
     "data": {
      "text/latex": [
       "$\\displaystyle \\frac{d}{d x} f{\\left(x \\right)}$"
      ],
      "text/plain": [
       "Derivative(f(x), x)"
      ]
     },
     "metadata": {},
     "output_type": "display_data"
    },
    {
     "data": {
      "text/latex": [
       "$\\displaystyle \\left(F_{spr0} + k f{\\left(x \\right)}\\right) \\frac{d}{d x} f{\\left(x \\right)}$"
      ],
      "text/plain": [
       "(F_spr0 + k*f(x))*Derivative(f(x), x)"
      ]
     },
     "metadata": {},
     "output_type": "display_data"
    },
    {
     "data": {
      "text/latex": [
       "$\\displaystyle k \\left(\\frac{d}{d x} f{\\left(x \\right)}\\right)^{2} + \\left(F_{spr0} + k f{\\left(x \\right)}\\right) \\frac{d^{2}}{d x^{2}} f{\\left(x \\right)}$"
      ],
      "text/plain": [
       "k*Derivative(f(x), x)**2 + (F_spr0 + k*f(x))*Derivative(f(x), (x, 2))"
      ]
     },
     "metadata": {},
     "output_type": "display_data"
    }
   ],
   "source": [
    "x = symbols('x')\n",
    "f = Function('f')(x)\n",
    "\n",
    "df = f.diff(x)\n",
    "fdf = (k*f + F_spr0)*df\n",
    "diffed = fdf.diff(x)\n",
    "display(f, df, fdf, diffed)"
   ]
  },
  {
   "cell_type": "code",
   "execution_count": 246,
   "metadata": {},
   "outputs": [
    {
     "name": "stdout",
     "output_type": "stream",
     "text": [
      "112\n",
      "x0 = r_tsa**2\n",
      "x1 = r1**2\n",
      "x2 = x_tsa**2\n",
      "x3 = -L_tsa0**2 + x1 + x2\n",
      "x4 = -x0*(phi + phi_0)**2 - x3\n",
      "x5 = 1/x_tsa\n",
      "x6 = 1/r1\n",
      "x7 = (1/2)*x6\n",
      "x8 = x5*x7\n",
      "x9 = r2**2\n",
      "x10 = theta3 + math.acos(x7*(-r12**2 + x1 + x9)/r2)\n",
      "x11 = x10 - math.acos(x4*x8)\n",
      "x12 = math.cos(x11)\n",
      "x13 = r2*r3\n",
      "x14 = 2*x13\n",
      "x15 = r3**2\n",
      "x16 = x15 + x9\n",
      "x17 = -x12*x14 + x16\n",
      "x18 = math.sin(x11)\n",
      "x19 = (1/4)/(x1*x2)\n",
      "x20 = -x19*x4**2 + 1\n",
      "x21 = r_tsa**4*(2*phi + 2*phi_0)**2\n",
      "x22 = x19*x21/x20\n",
      "x23 = x15*x18**2*x22*x9\n",
      "x24 = math.sqrt(x17)\n",
      "x25 = F_spr0 + k*(x24 - math.sqrt(-x14*math.cos(x10 - math.acos(x8*(-phi_0**2*x0 - x3))) + x16))\n",
      "x26 = x13*x25/x24\n",
      "x27 = x18*x26\n",
      "F_in_diff = k*x23/x17 - x0*x27*x5*x6/math.sqrt(x20) + x12*x22*x26 - x23*x25/x17**(3/2) + (1/8)*x21*x27*x4/(r1**3*x20**(3/2)*x_tsa**3)\n"
     ]
    }
   ],
   "source": [
    "F_in_diff = symbols(\"F_in_diff\")\n",
    "code = CodeBlock(Assignment(F_in_diff, F_in.diff(phi))).cse()\n",
    "print(count_ops(code))\n",
    "print(pycode(code))\n"
   ]
  },
  {
   "cell_type": "code",
   "execution_count": null,
   "metadata": {},
   "outputs": [],
   "source": []
  }
 ],
 "metadata": {
  "kernelspec": {
   "display_name": "Python 3",
   "language": "python",
   "name": "python3"
  },
  "language_info": {
   "codemirror_mode": {
    "name": "ipython",
    "version": 3
   },
   "file_extension": ".py",
   "mimetype": "text/x-python",
   "name": "python",
   "nbconvert_exporter": "python",
   "pygments_lexer": "ipython3",
   "version": "3.11.4"
  }
 },
 "nbformat": 4,
 "nbformat_minor": 2
}
