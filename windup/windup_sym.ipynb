{
 "cells": [
  {
   "cell_type": "code",
   "execution_count": 46,
   "metadata": {},
   "outputs": [
    {
     "data": {
      "text/latex": [
       "$\\displaystyle \\sqrt{r_{2}^{2} - 2 r_{2} r_{3} \\cos{\\left(\\theta_{3} + \\operatorname{acos}{\\left(\\frac{r_{1}^{2} - r_{12}^{2} + r_{2}^{2}}{2 r_{1} r_{2}} \\right)} - \\operatorname{acos}{\\left(\\frac{L_{tsa0}^{2} - r_{1}^{2} - r_{tsa}^{2} \\left(\\phi + \\phi_{0}\\right)^{2} - x_{tsa}^{2}}{2 r_{1} x_{tsa}} \\right)} \\right)} + r_{3}^{2}}$"
      ],
      "text/plain": [
       "sqrt(r2**2 - 2*r2*r3*cos(theta3 + acos((r1**2 - r12**2 + r2**2)/(2*r1*r2)) - acos((L_tsa0**2 - r1**2 - r_tsa**2*(phi + phi_0)**2 - x_tsa**2)/(2*r1*x_tsa))) + r3**2)"
      ]
     },
     "execution_count": 46,
     "metadata": {},
     "output_type": "execute_result"
    }
   ],
   "source": [
    "from sympy import *\n",
    "import matplotlib.pyplot as plt\n",
    "import numpy as np\n",
    "\n",
    "phi, phi_0, r_tsa, L_tsa0 = symbols('phi, phi_0, r_tsa, L_tsa0') #twisted string params\n",
    "x_tsa, r1, r2, r12, r3, theta3 = symbols('x_tsa, r1, r2, r12, r3, theta3') #linkage params\n",
    "k, F_spr0 = symbols('k, F_spr0') #spring params\n",
    "\n",
    "L_tsa = sqrt(L_tsa0**2 - (phi + phi_0)**2 * r_tsa**2)\n",
    "\n",
    "theta1 = acos((-r1**2 - x_tsa**2 + L_tsa**2) / (2*r1*x_tsa))\n",
    "theta2 = theta1 - acos((r1**2 + r2**2 - r12**2) / (2*r1*r2))\n",
    "\n",
    "L_spr = sqrt(r2**2 + r3**2 - 2*r2*r3*cos(theta2 - theta3))\n",
    "L_spr"
   ]
  },
  {
   "cell_type": "code",
   "execution_count": 47,
   "metadata": {},
   "outputs": [
    {
     "data": {
      "text/latex": [
       "$\\displaystyle \\sqrt{r_{2}^{2} - 2 r_{2} r_{3} \\cos{\\left(\\theta_{3} + \\operatorname{acos}{\\left(\\frac{r_{1}^{2} - r_{12}^{2} + r_{2}^{2}}{2 r_{1} r_{2}} \\right)} - \\operatorname{acos}{\\left(\\frac{L_{tsa0}^{2} - r_{1}^{2} - r_{tsa}^{2} \\left(\\phi + \\phi_{0}\\right)^{2} - x_{tsa}^{2}}{2 r_{1} x_{tsa}} \\right)} \\right)} + r_{3}^{2}} - \\sqrt{r_{2}^{2} - 2 r_{2} r_{3} \\cos{\\left(\\theta_{3} + \\operatorname{acos}{\\left(\\frac{r_{1}^{2} - r_{12}^{2} + r_{2}^{2}}{2 r_{1} r_{2}} \\right)} - \\operatorname{acos}{\\left(\\frac{L_{tsa0}^{2} - \\phi_{0}^{2} r_{tsa}^{2} - r_{1}^{2} - x_{tsa}^{2}}{2 r_{1} x_{tsa}} \\right)} \\right)} + r_{3}^{2}}$"
      ],
      "text/plain": [
       "sqrt(r2**2 - 2*r2*r3*cos(theta3 + acos((r1**2 - r12**2 + r2**2)/(2*r1*r2)) - acos((L_tsa0**2 - r1**2 - r_tsa**2*(phi + phi_0)**2 - x_tsa**2)/(2*r1*x_tsa))) + r3**2) - sqrt(r2**2 - 2*r2*r3*cos(theta3 + acos((r1**2 - r12**2 + r2**2)/(2*r1*r2)) - acos((L_tsa0**2 - phi_0**2*r_tsa**2 - r1**2 - x_tsa**2)/(2*r1*x_tsa))) + r3**2)"
      ]
     },
     "execution_count": 47,
     "metadata": {},
     "output_type": "execute_result"
    }
   ],
   "source": [
    "L_dspr = L_spr - L_spr.subs(phi,0)\n",
    "L_dspr"
   ]
  },
  {
   "cell_type": "code",
   "execution_count": 48,
   "metadata": {},
   "outputs": [
    {
     "data": {
      "text/latex": [
       "$\\displaystyle F_{spr0} + k \\left(\\sqrt{r_{2}^{2} - 2 r_{2} r_{3} \\cos{\\left(\\theta_{3} + \\operatorname{acos}{\\left(\\frac{r_{1}^{2} - r_{12}^{2} + r_{2}^{2}}{2 r_{1} r_{2}} \\right)} - \\operatorname{acos}{\\left(\\frac{L_{tsa0}^{2} - r_{1}^{2} - r_{tsa}^{2} \\left(\\phi + \\phi_{0}\\right)^{2} - x_{tsa}^{2}}{2 r_{1} x_{tsa}} \\right)} \\right)} + r_{3}^{2}} - \\sqrt{r_{2}^{2} - 2 r_{2} r_{3} \\cos{\\left(\\theta_{3} + \\operatorname{acos}{\\left(\\frac{r_{1}^{2} - r_{12}^{2} + r_{2}^{2}}{2 r_{1} r_{2}} \\right)} - \\operatorname{acos}{\\left(\\frac{L_{tsa0}^{2} - \\phi_{0}^{2} r_{tsa}^{2} - r_{1}^{2} - x_{tsa}^{2}}{2 r_{1} x_{tsa}} \\right)} \\right)} + r_{3}^{2}}\\right)$"
      ],
      "text/plain": [
       "F_spr0 + k*(sqrt(r2**2 - 2*r2*r3*cos(theta3 + acos((r1**2 - r12**2 + r2**2)/(2*r1*r2)) - acos((L_tsa0**2 - r1**2 - r_tsa**2*(phi + phi_0)**2 - x_tsa**2)/(2*r1*x_tsa))) + r3**2) - sqrt(r2**2 - 2*r2*r3*cos(theta3 + acos((r1**2 - r12**2 + r2**2)/(2*r1*r2)) - acos((L_tsa0**2 - phi_0**2*r_tsa**2 - r1**2 - x_tsa**2)/(2*r1*x_tsa))) + r3**2))"
      ]
     },
     "execution_count": 48,
     "metadata": {},
     "output_type": "execute_result"
    }
   ],
   "source": [
    "F_out = k*L_dspr + F_spr0\n",
    "F_out"
   ]
  },
  {
   "cell_type": "code",
   "execution_count": 49,
   "metadata": {},
   "outputs": [
    {
     "data": {
      "text/latex": [
       "$\\displaystyle - \\frac{r_{2} r_{3} r_{tsa}^{2} \\cdot \\left(2 \\phi + 2 \\phi_{0}\\right) \\sin{\\left(\\theta_{3} + \\operatorname{acos}{\\left(\\frac{r_{1}^{2} - r_{12}^{2} + r_{2}^{2}}{2 r_{1} r_{2}} \\right)} - \\operatorname{acos}{\\left(\\frac{L_{tsa0}^{2} - r_{1}^{2} - r_{tsa}^{2} \\left(\\phi + \\phi_{0}\\right)^{2} - x_{tsa}^{2}}{2 r_{1} x_{tsa}} \\right)} \\right)}}{2 r_{1} x_{tsa} \\sqrt{1 - \\frac{\\left(L_{tsa0}^{2} - r_{1}^{2} - r_{tsa}^{2} \\left(\\phi + \\phi_{0}\\right)^{2} - x_{tsa}^{2}\\right)^{2}}{4 r_{1}^{2} x_{tsa}^{2}}} \\sqrt{r_{2}^{2} - 2 r_{2} r_{3} \\cos{\\left(\\theta_{3} + \\operatorname{acos}{\\left(\\frac{r_{1}^{2} - r_{12}^{2} + r_{2}^{2}}{2 r_{1} r_{2}} \\right)} - \\operatorname{acos}{\\left(\\frac{L_{tsa0}^{2} - r_{1}^{2} - r_{tsa}^{2} \\left(\\phi + \\phi_{0}\\right)^{2} - x_{tsa}^{2}}{2 r_{1} x_{tsa}} \\right)} \\right)} + r_{3}^{2}}}$"
      ],
      "text/plain": [
       "-r2*r3*r_tsa**2*(2*phi + 2*phi_0)*sin(theta3 + acos((r1**2 - r12**2 + r2**2)/(2*r1*r2)) - acos((L_tsa0**2 - r1**2 - r_tsa**2*(phi + phi_0)**2 - x_tsa**2)/(2*r1*x_tsa)))/(2*r1*x_tsa*sqrt(1 - (L_tsa0**2 - r1**2 - r_tsa**2*(phi + phi_0)**2 - x_tsa**2)**2/(4*r1**2*x_tsa**2))*sqrt(r2**2 - 2*r2*r3*cos(theta3 + acos((r1**2 - r12**2 + r2**2)/(2*r1*r2)) - acos((L_tsa0**2 - r1**2 - r_tsa**2*(phi + phi_0)**2 - x_tsa**2)/(2*r1*x_tsa))) + r3**2))"
      ]
     },
     "execution_count": 49,
     "metadata": {},
     "output_type": "execute_result"
    }
   ],
   "source": [
    "T1 = L_spr.diff(phi)\n",
    "T1"
   ]
  },
  {
   "cell_type": "code",
   "execution_count": 50,
   "metadata": {},
   "outputs": [
    {
     "data": {
      "text/latex": [
       "$\\displaystyle - \\frac{r_{2} r_{3} r_{tsa}^{2} \\left(F_{spr0} + k \\left(\\sqrt{r_{2}^{2} - 2 r_{2} r_{3} \\cos{\\left(\\theta_{3} + \\operatorname{acos}{\\left(\\frac{r_{1}^{2} - r_{12}^{2} + r_{2}^{2}}{2 r_{1} r_{2}} \\right)} - \\operatorname{acos}{\\left(\\frac{L_{tsa0}^{2} - r_{1}^{2} - r_{tsa}^{2} \\left(\\phi + \\phi_{0}\\right)^{2} - x_{tsa}^{2}}{2 r_{1} x_{tsa}} \\right)} \\right)} + r_{3}^{2}} - \\sqrt{r_{2}^{2} - 2 r_{2} r_{3} \\cos{\\left(\\theta_{3} + \\operatorname{acos}{\\left(\\frac{r_{1}^{2} - r_{12}^{2} + r_{2}^{2}}{2 r_{1} r_{2}} \\right)} - \\operatorname{acos}{\\left(\\frac{L_{tsa0}^{2} - \\phi_{0}^{2} r_{tsa}^{2} - r_{1}^{2} - x_{tsa}^{2}}{2 r_{1} x_{tsa}} \\right)} \\right)} + r_{3}^{2}}\\right)\\right) \\left(2 \\phi + 2 \\phi_{0}\\right) \\sin{\\left(\\theta_{3} + \\operatorname{acos}{\\left(\\frac{r_{1}^{2} - r_{12}^{2} + r_{2}^{2}}{2 r_{1} r_{2}} \\right)} - \\operatorname{acos}{\\left(\\frac{L_{tsa0}^{2} - r_{1}^{2} - r_{tsa}^{2} \\left(\\phi + \\phi_{0}\\right)^{2} - x_{tsa}^{2}}{2 r_{1} x_{tsa}} \\right)} \\right)}}{2 r_{1} x_{tsa} \\sqrt{1 - \\frac{\\left(L_{tsa0}^{2} - r_{1}^{2} - r_{tsa}^{2} \\left(\\phi + \\phi_{0}\\right)^{2} - x_{tsa}^{2}\\right)^{2}}{4 r_{1}^{2} x_{tsa}^{2}}} \\sqrt{r_{2}^{2} - 2 r_{2} r_{3} \\cos{\\left(\\theta_{3} + \\operatorname{acos}{\\left(\\frac{r_{1}^{2} - r_{12}^{2} + r_{2}^{2}}{2 r_{1} r_{2}} \\right)} - \\operatorname{acos}{\\left(\\frac{L_{tsa0}^{2} - r_{1}^{2} - r_{tsa}^{2} \\left(\\phi + \\phi_{0}\\right)^{2} - x_{tsa}^{2}}{2 r_{1} x_{tsa}} \\right)} \\right)} + r_{3}^{2}}}$"
      ],
      "text/plain": [
       "-r2*r3*r_tsa**2*(F_spr0 + k*(sqrt(r2**2 - 2*r2*r3*cos(theta3 + acos((r1**2 - r12**2 + r2**2)/(2*r1*r2)) - acos((L_tsa0**2 - r1**2 - r_tsa**2*(phi + phi_0)**2 - x_tsa**2)/(2*r1*x_tsa))) + r3**2) - sqrt(r2**2 - 2*r2*r3*cos(theta3 + acos((r1**2 - r12**2 + r2**2)/(2*r1*r2)) - acos((L_tsa0**2 - phi_0**2*r_tsa**2 - r1**2 - x_tsa**2)/(2*r1*x_tsa))) + r3**2)))*(2*phi + 2*phi_0)*sin(theta3 + acos((r1**2 - r12**2 + r2**2)/(2*r1*r2)) - acos((L_tsa0**2 - r1**2 - r_tsa**2*(phi + phi_0)**2 - x_tsa**2)/(2*r1*x_tsa)))/(2*r1*x_tsa*sqrt(1 - (L_tsa0**2 - r1**2 - r_tsa**2*(phi + phi_0)**2 - x_tsa**2)**2/(4*r1**2*x_tsa**2))*sqrt(r2**2 - 2*r2*r3*cos(theta3 + acos((r1**2 - r12**2 + r2**2)/(2*r1*r2)) - acos((L_tsa0**2 - r1**2 - r_tsa**2*(phi + phi_0)**2 - x_tsa**2)/(2*r1*x_tsa))) + r3**2))"
      ]
     },
     "execution_count": 50,
     "metadata": {},
     "output_type": "execute_result"
    }
   ],
   "source": [
    "F_in = F_out*T1\n",
    "F_in"
   ]
  },
  {
   "cell_type": "code",
   "execution_count": 70,
   "metadata": {},
   "outputs": [
    {
     "name": "stdout",
     "output_type": "stream",
     "text": [
      "1.3539985278220026\n"
     ]
    },
    {
     "data": {
      "image/png": "[encoded data removed]",
      "text/plain": [
       "<Figure size 640x480 with 1 Axes>"
      ]
     },
     "metadata": {},
     "output_type": "display_data"
    }
   ],
   "source": [
    "nums = {\n",
    "    r_tsa: 0.392,\n",
    "    phi_0: 1.4,\n",
    "    L_tsa0: 2.84,\n",
    "    F_spr0: 3.84,\n",
    "    k: 2.9,\n",
    "    r1: 1.422,\n",
    "    r2: 1.18,\n",
    "    r3: 1.32382,\n",
    "    theta3: -1.3808,\n",
    "    x_tsa: 1.4,\n",
    "    r12: 0.66\n",
    "}\n",
    "\n",
    "\n",
    "phi_max = float((L_tsa0/r_tsa - phi_0).subs(nums))\n",
    "phi_vals = np.linspace(0, phi_max, 100, endpoint=False)\n",
    "\n",
    "F_in_vals = [float(F_in.subs(nums).subs(phi, phi_val)) for phi_val in phi_vals]\n",
    "\n",
    "print(max(F_in_vals))\n",
    "\n",
    "plt.plot(phi_vals, F_in_vals)\n",
    "plt.ylim(0, 1.05*max(F_in_vals))\n",
    "plt.xlabel('phi')\n",
    "plt.ylabel('F_in')\n",
    "plt.show()"
   ]
  },
  {
   "cell_type": "code",
   "execution_count": null,
   "metadata": {},
   "outputs": [],
   "source": []
  }
 ],
 "metadata": {
  "kernelspec": {
   "display_name": "Python 3",
   "language": "python",
   "name": "python3"
  },
  "language_info": {
   "codemirror_mode": {
    "name": "ipython",
    "version": 3
   },
   "file_extension": ".py",
   "mimetype": "text/x-python",
   "name": "python",
   "nbconvert_exporter": "python",
   "pygments_lexer": "ipython3",
   "version": "3.11.4"
  }
 },
 "nbformat": 4,
 "nbformat_minor": 2
}
