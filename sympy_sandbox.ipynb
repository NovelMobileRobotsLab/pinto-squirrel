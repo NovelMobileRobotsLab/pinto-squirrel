{
 "cells": [
  {
   "cell_type": "code",
   "execution_count": 1,
   "metadata": {},
   "outputs": [],
   "source": [
    "from sympy import *"
   ]
  },
  {
   "cell_type": "code",
   "execution_count": 3,
   "metadata": {},
   "outputs": [
    {
     "data": {
      "text/latex": [
       "$\\displaystyle \\frac{T_{2} \\sqrt{k \\left(2 \\tau_{max} x_{a} + \\frac{k x_{l}^{2}}{T_{2}^{2}}\\right)} + k x_{l}}{2 T_{2} k x_{a}}$"
      ],
      "text/plain": [
       "(T2*sqrt(k*(2*tau_max*x_a + k*x_l**2/T2**2)) + k*x_l)/(2*T2*k*x_a)"
      ]
     },
     "metadata": {},
     "output_type": "display_data"
    },
    {
     "data": {
      "text/latex": [
       "$\\displaystyle \\frac{- T_{2} \\sqrt{k \\left(2 \\tau_{max} x_{a} + \\frac{k x_{l}^{2}}{T_{2}^{2}}\\right)} + k x_{l}}{2 T_{2} k x_{a}}$"
      ],
      "text/plain": [
       "(-T2*sqrt(k*(2*tau_max*x_a + k*x_l**2/T2**2)) + k*x_l)/(2*T2*k*x_a)"
      ]
     },
     "metadata": {},
     "output_type": "display_data"
    }
   ],
   "source": [
    "k, x_l, x_a, T2, tau_max = symbols('k, x_l, x_a, T2, tau_max')\n",
    "\n",
    "a = 2*k*x_a\n",
    "b = -2*k*x_l / T2\n",
    "c = -tau_max\n",
    "\n",
    "sol_p = (-b + sqrt(b**2 - 4*a*c)) / (2*a)\n",
    "sol_m = (-b - sqrt(b**2 - 4*a*c)) / (2*a)\n",
    "\n",
    "display(simplify(sol_p), simplify(sol_m))"
   ]
  }
 ],
 "metadata": {
  "kernelspec": {
   "display_name": "Python 3",
   "language": "python",
   "name": "python3"
  },
  "language_info": {
   "codemirror_mode": {
    "name": "ipython",
    "version": 3
   },
   "file_extension": ".py",
   "mimetype": "text/x-python",
   "name": "python",
   "nbconvert_exporter": "python",
   "pygments_lexer": "ipython3",
   "version": "3.11.4"
  },
  "orig_nbformat": 4
 },
 "nbformat": 4,
 "nbformat_minor": 2
}
