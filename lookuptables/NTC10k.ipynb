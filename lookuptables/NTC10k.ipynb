{
 "cells": [
  {
   "cell_type": "code",
   "execution_count": 87,
   "metadata": {},
   "outputs": [],
   "source": [
    "from sympy import *\n",
    "import numpy as np"
   ]
  },
  {
   "cell_type": "code",
   "execution_count": 88,
   "metadata": {},
   "outputs": [
    {
     "data": {
      "text/latex": [
       "$\\displaystyle \\frac{4096000.0}{0.0927556734730098 e^{\\frac{3455}{T}} + 1000}$"
      ],
      "text/plain": [
       "4096000.0/(0.0927556734730098*exp(3455/T) + 1000)"
      ]
     },
     "execution_count": 88,
     "metadata": {},
     "output_type": "execute_result"
    }
   ],
   "source": [
    "R_25 = 10000 #Ω\n",
    "beta = 3455 #K\n",
    "temp_ref = 25 + 273.15 #K\n",
    "R_read = 1000 #Ω\n",
    "V_ref = 3.3 #V\n",
    "adc_resolution = 4096\n",
    "\n",
    "T = symbols('T', real=True) #temperature in K\n",
    "\n",
    "R_ntc = R_25 * exp(beta * (1/temp - 1/temp_ref))\n",
    "V_read = V_ref * R_read / (R_read + R_ntc)\n",
    "adc_read = V_read/V_ref * adc_resolution\n",
    "\n",
    "adc_read"
   ]
  },
  {
   "cell_type": "code",
   "execution_count": 89,
   "metadata": {},
   "outputs": [
    {
     "data": {
      "text/latex": [
       "$\\displaystyle \\frac{4096000.0}{0.0927556734730098 e^{\\frac{3455}{T}} + 1000} = a$"
      ],
      "text/plain": [
       "Eq(4096000.0/(0.0927556734730098*exp(3455/T) + 1000), a)"
      ]
     },
     "metadata": {},
     "output_type": "display_data"
    },
    {
     "data": {
      "text/latex": [
       "$\\displaystyle T = -273.15 + \\frac{3455}{\\log{\\left(-10781.011689716 + \\frac{44159023.8810768}{a} \\right)}}$"
      ],
      "text/plain": [
       "Eq(T, -273.15 + 3455/log(-10781.011689716 + 44159023.8810768/a))"
      ]
     },
     "metadata": {},
     "output_type": "display_data"
    }
   ],
   "source": [
    "a = symbols(\"a\", real=True)\n",
    "eq = Eq(adc_read, a)\n",
    "T_a = solveset(eq, T, domain=S.Reals).args[1].args[0] #K\n",
    "T_a = T_a - 273.15 #convert to celcius\n",
    "display(eq, Eq(T, T_a))"
   ]
  },
  {
   "cell_type": "code",
   "execution_count": 106,
   "metadata": {},
   "outputs": [
    {
     "name": "stdout",
     "output_type": "stream",
     "text": [
      "// assumes 10kΩ β=3455 NTC with 1kΩ low side resistor, Vref=3.3 and 12-bit ADC\n",
      "// find temperature using index i=(adc_val-121)>>5\n",
      "static const uint8_t ntc_lut[] = {\n",
      "    0,\n",
      "    5,\n",
      "    9,\n",
      "    13,\n",
      "    16,\n",
      "    19,\n",
      "    22,\n",
      "    24,\n",
      "    27,\n",
      "    29,\n",
      "    31,\n",
      "    33,\n",
      "    35,\n",
      "    37,\n",
      "    39,\n",
      "    41,\n",
      "    42,\n",
      "    44,\n",
      "    46,\n",
      "    47,\n",
      "    49,\n",
      "    50,\n",
      "    52,\n",
      "    53,\n",
      "    54,\n",
      "    56,\n",
      "    57,\n",
      "    59,\n",
      "    60,\n",
      "    61,\n",
      "    63,\n",
      "    64,\n",
      "    65,\n",
      "    66,\n",
      "    68,\n",
      "    69,\n",
      "    70,\n",
      "    71,\n",
      "    73,\n",
      "    74,\n",
      "    75,\n",
      "    76,\n",
      "    77,\n",
      "    79,\n",
      "    80,\n",
      "    81,\n",
      "    82,\n",
      "    83,\n",
      "    85,\n",
      "    86,\n",
      "    87,\n",
      "    88,\n",
      "    89,\n",
      "    91,\n",
      "    92,\n",
      "    93,\n",
      "    94,\n",
      "    96,\n",
      "    97,\n",
      "    98,\n",
      "    99,\n",
      "    101,\n",
      "    102,\n",
      "    103,\n",
      "    104,\n",
      "    106,\n",
      "    107,\n",
      "    108,\n",
      "    110,\n",
      "    111,\n",
      "    112,\n",
      "    114,\n",
      "    115,\n",
      "    117,\n",
      "    118,\n",
      "    120,\n",
      "    121,\n",
      "    123,\n",
      "    124,\n",
      "    126,\n",
      "    127,\n",
      "    129,\n",
      "    131,\n",
      "    132,\n",
      "    134,\n",
      "    136,\n",
      "    138,\n",
      "    139,\n",
      "    141,\n",
      "    143,\n",
      "    145,\n",
      "    147,\n",
      "    149,\n",
      "    152,\n",
      "    154,\n",
      "    156,\n",
      "    159,\n",
      "    161,\n",
      "    164,\n",
      "    167,\n",
      "    170,\n",
      "    173,\n",
      "    176,\n",
      "    179,\n",
      "    183,\n",
      "    186,\n",
      "    190,\n",
      "    194,\n",
      "    199,\n",
      "};\n"
     ]
    },
    {
     "data": {
      "image/png": "[encoded data removed]",
      "text/plain": [
       "<Figure size 640x480 with 1 Axes>"
      ]
     },
     "metadata": {},
     "output_type": "display_data"
    }
   ],
   "source": [
    "import matplotlib.pyplot as plt\n",
    "\n",
    "adc_step = 1<<5 #32\n",
    "\n",
    "a_values = range(121, 3578, adc_step) #range from 0-200 ºC\n",
    "T_values = []\n",
    "\n",
    "# print(\"i, adcfloor, adcmean, temp\")\n",
    "\n",
    "print(f\"// assumes 10kΩ β=3455 NTC with 1kΩ low side resistor, Vref=3.3 and 12-bit ADC\")\n",
    "print(f\"// find temperature using index i=(adc_val-{a_values[0]})>>{floor(np.log2(adc_step))}\")\n",
    "print(\"static const uint8_t ntc_lut[] = {\")\n",
    "for i in range(len(a_values)):\n",
    "    a_val = a_values[i]\n",
    "    T_val = T_a.subs({a: a_val + adc_step/2 })\n",
    "    T_values.append(T_val)\n",
    "    # print(f\"{i}: {a_val}, {a_val+adc_step//2}, {round(T_val)}\")\n",
    "    print(f\"    {round(T_val)},\")\n",
    "print(\"};\")\n",
    "\n",
    "\n",
    "\n",
    "plt.figure()\n",
    "plt.plot(a_values, T_values)\n",
    "plt.xlabel('a')\n",
    "plt.ylabel('T_a')\n",
    "plt.title('T_a vs a')\n",
    "plt.show()\n"
   ]
  },
  {
   "cell_type": "code",
   "execution_count": null,
   "metadata": {},
   "outputs": [],
   "source": []
  }
 ],
 "metadata": {
  "kernelspec": {
   "display_name": "Python 3",
   "language": "python",
   "name": "python3"
  },
  "language_info": {
   "codemirror_mode": {
    "name": "ipython",
    "version": 3
   },
   "file_extension": ".py",
   "mimetype": "text/x-python",
   "name": "python",
   "nbconvert_exporter": "python",
   "pygments_lexer": "ipython3",
   "version": "3.11.4"
  }
 },
 "nbformat": 4,
 "nbformat_minor": 2
}
