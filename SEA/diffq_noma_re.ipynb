{
 "cells": [
  {
   "cell_type": "code",
   "execution_count": 35,
   "metadata": {},
   "outputs": [
    {
     "name": "stdout",
     "output_type": "stream",
     "text": [
      "set up linear ODE assuming no motor inertia\n"
     ]
    },
    {
     "data": {
      "text/latex": [
       "$\\displaystyle \\dot{x} = \\left[\\begin{matrix}\\omega_{max}\\\\0\\\\0\\end{matrix}\\right] + \\left[\\begin{matrix}- \\frac{T_{1}^{2} k \\omega_{max}}{\\tau_{max}} & \\frac{T_{1} k \\omega_{max}}{T_{2} \\tau_{max}} & 0\\\\0 & 0 & 1\\\\\\frac{T_{1} k}{T_{2} m_{l}} & - \\frac{k}{T_{2}^{2} m_{l}} & 0\\end{matrix}\\right] x$"
      ],
      "text/plain": [
       "Eq(\\dot{x}, Matrix([\n",
       "[omega_max],\n",
       "[        0],\n",
       "[        0]]) + Matrix([\n",
       "[-T1**2*k*omega_max/tau_max, T1*k*omega_max/(T2*tau_max), 0],\n",
       "[                         0,                           0, 1],\n",
       "[             T1*k/(T2*m_l),              -k/(T2**2*m_l), 0]])*x)"
      ]
     },
     "metadata": {},
     "output_type": "display_data"
    }
   ],
   "source": [
    "from sympy import *\n",
    "from sympy.solvers.ode.systems import linodesolve\n",
    "from sympy.codegen.ast import CodeBlock, Assignment\n",
    "\n",
    "\n",
    "print(\"set up linear ODE assuming no motor inertia\")\n",
    "\n",
    "m_l, k = symbols('m_l, k') # mass of load, spring stiffness\n",
    "T1, T2 = symbols('T1, T2') # transmission before and after spring\n",
    "tau_max, omega_max = symbols(\"tau_max, omega_max\") # stall torque, free speed of motor\n",
    "\n",
    "c0, c1, c2, c3 = symbols('c:4')\n",
    "c0 = -k * T1**2 * omega_max / tau_max\n",
    "c1 = k * T1 * omega_max / (tau_max * T2)\n",
    "c2 = k * T1 / (T2 * m_l)\n",
    "c3 = -k / (T2**2 * m_l)\n",
    "\n",
    "# xdot = Ax + b\n",
    "A = Matrix([\n",
    "    [c0, c1, 0],\n",
    "    [0, 0, 1],\n",
    "    [c2, c3, 0],\n",
    "])\n",
    "b = Matrix([omega_max, 0, 0])\n",
    "\n",
    "display(Eq(MatrixSymbol('\\dot{x}', 3, 1), A*MatrixSymbol('x', 3, 1) + b))"
   ]
  },
  {
   "cell_type": "code",
   "execution_count": 36,
   "metadata": {},
   "outputs": [
    {
     "name": "stdout",
     "output_type": "stream",
     "text": [
      "solving linear ODE\n",
      "replacing [_Dummy_812, _Dummy_813, _Dummy_814] with (a0, a1, a2)\n"
     ]
    },
    {
     "data": {
      "text/latex": [
       "$\\displaystyle - \\frac{T_{1}^{2} T_{2}^{2} m_{l} \\omega_{max}^{2}}{\\tau_{max}} - \\frac{T_{1} T_{2} a_{1} m_{l} \\omega_{max} e^{- \\frac{T_{1}^{2} k \\omega_{max} t}{2 \\tau_{max}} - \\frac{t \\sqrt{T_{1}^{4} T_{2}^{2} k^{2} m_{l}^{2} \\omega_{max}^{2} - 4 k m_{l} \\tau_{max}^{2}}}{2 T_{2} m_{l} \\tau_{max}}}}{\\tau_{max}} - \\frac{T_{1} T_{2} a_{2} m_{l} \\omega_{max} e^{- \\frac{T_{1}^{2} k \\omega_{max} t}{2 \\tau_{max}} + \\frac{t \\sqrt{T_{1}^{4} T_{2}^{2} k^{2} m_{l}^{2} \\omega_{max}^{2} - 4 k m_{l} \\tau_{max}^{2}}}{2 T_{2} m_{l} \\tau_{max}}}}{\\tau_{max}} + \\omega_{max} t + \\frac{a_{0}}{T_{1} T_{2}}$"
      ],
      "text/plain": [
       "-T1**2*T2**2*m_l*omega_max**2/tau_max - T1*T2*a1*m_l*omega_max*exp(-T1**2*k*omega_max*t/(2*tau_max) - t*sqrt(T1**4*T2**2*k**2*m_l**2*omega_max**2 - 4*k*m_l*tau_max**2)/(2*T2*m_l*tau_max))/tau_max - T1*T2*a2*m_l*omega_max*exp(-T1**2*k*omega_max*t/(2*tau_max) + t*sqrt(T1**4*T2**2*k**2*m_l**2*omega_max**2 - 4*k*m_l*tau_max**2)/(2*T2*m_l*tau_max))/tau_max + omega_max*t + a0/(T1*T2)"
      ]
     },
     "metadata": {},
     "output_type": "display_data"
    },
    {
     "data": {
      "text/latex": [
       "$\\displaystyle - \\frac{T_{1}^{3} T_{2}^{3} m_{l} \\omega_{max}^{2}}{\\tau_{max}} - \\frac{T_{1}^{2} T_{2}^{2} a_{1} m_{l} \\omega_{max} e^{- \\frac{T_{1}^{2} k \\omega_{max} t}{2 \\tau_{max}} - \\frac{t \\sqrt{T_{1}^{4} T_{2}^{2} k^{2} m_{l}^{2} \\omega_{max}^{2} - 4 k m_{l} \\tau_{max}^{2}}}{2 T_{2} m_{l} \\tau_{max}}}}{2 \\tau_{max}} - \\frac{T_{1}^{2} T_{2}^{2} a_{2} m_{l} \\omega_{max} e^{- \\frac{T_{1}^{2} k \\omega_{max} t}{2 \\tau_{max}} + \\frac{t \\sqrt{T_{1}^{4} T_{2}^{2} k^{2} m_{l}^{2} \\omega_{max}^{2} - 4 k m_{l} \\tau_{max}^{2}}}{2 T_{2} m_{l} \\tau_{max}}}}{2 \\tau_{max}} + T_{1} T_{2} \\omega_{max} t + \\frac{T_{2} a_{1} \\sqrt{T_{1}^{4} T_{2}^{2} k^{2} m_{l}^{2} \\omega_{max}^{2} - 4 k m_{l} \\tau_{max}^{2}} e^{- \\frac{T_{1}^{2} k \\omega_{max} t}{2 \\tau_{max}} - \\frac{t \\sqrt{T_{1}^{4} T_{2}^{2} k^{2} m_{l}^{2} \\omega_{max}^{2} - 4 k m_{l} \\tau_{max}^{2}}}{2 T_{2} m_{l} \\tau_{max}}}}{2 k \\tau_{max}} - \\frac{T_{2} a_{2} \\sqrt{T_{1}^{4} T_{2}^{2} k^{2} m_{l}^{2} \\omega_{max}^{2} - 4 k m_{l} \\tau_{max}^{2}} e^{- \\frac{T_{1}^{2} k \\omega_{max} t}{2 \\tau_{max}} + \\frac{t \\sqrt{T_{1}^{4} T_{2}^{2} k^{2} m_{l}^{2} \\omega_{max}^{2} - 4 k m_{l} \\tau_{max}^{2}}}{2 T_{2} m_{l} \\tau_{max}}}}{2 k \\tau_{max}} + a_{0}$"
      ],
      "text/plain": [
       "-T1**3*T2**3*m_l*omega_max**2/tau_max - T1**2*T2**2*a1*m_l*omega_max*exp(-T1**2*k*omega_max*t/(2*tau_max) - t*sqrt(T1**4*T2**2*k**2*m_l**2*omega_max**2 - 4*k*m_l*tau_max**2)/(2*T2*m_l*tau_max))/(2*tau_max) - T1**2*T2**2*a2*m_l*omega_max*exp(-T1**2*k*omega_max*t/(2*tau_max) + t*sqrt(T1**4*T2**2*k**2*m_l**2*omega_max**2 - 4*k*m_l*tau_max**2)/(2*T2*m_l*tau_max))/(2*tau_max) + T1*T2*omega_max*t + T2*a1*sqrt(T1**4*T2**2*k**2*m_l**2*omega_max**2 - 4*k*m_l*tau_max**2)*exp(-T1**2*k*omega_max*t/(2*tau_max) - t*sqrt(T1**4*T2**2*k**2*m_l**2*omega_max**2 - 4*k*m_l*tau_max**2)/(2*T2*m_l*tau_max))/(2*k*tau_max) - T2*a2*sqrt(T1**4*T2**2*k**2*m_l**2*omega_max**2 - 4*k*m_l*tau_max**2)*exp(-T1**2*k*omega_max*t/(2*tau_max) + t*sqrt(T1**4*T2**2*k**2*m_l**2*omega_max**2 - 4*k*m_l*tau_max**2)/(2*T2*m_l*tau_max))/(2*k*tau_max) + a0"
      ]
     },
     "metadata": {},
     "output_type": "display_data"
    },
    {
     "data": {
      "text/latex": [
       "$\\displaystyle T_{1} T_{2} \\omega_{max} + a_{1} e^{- \\frac{T_{1}^{2} k \\omega_{max} t}{2 \\tau_{max}} - \\frac{t \\sqrt{T_{1}^{4} T_{2}^{2} k^{2} m_{l}^{2} \\omega_{max}^{2} - 4 k m_{l} \\tau_{max}^{2}}}{2 T_{2} m_{l} \\tau_{max}}} + a_{2} e^{- \\frac{T_{1}^{2} k \\omega_{max} t}{2 \\tau_{max}} + \\frac{t \\sqrt{T_{1}^{4} T_{2}^{2} k^{2} m_{l}^{2} \\omega_{max}^{2} - 4 k m_{l} \\tau_{max}^{2}}}{2 T_{2} m_{l} \\tau_{max}}}$"
      ],
      "text/plain": [
       "T1*T2*omega_max + a1*exp(-T1**2*k*omega_max*t/(2*tau_max) - t*sqrt(T1**4*T2**2*k**2*m_l**2*omega_max**2 - 4*k*m_l*tau_max**2)/(2*T2*m_l*tau_max)) + a2*exp(-T1**2*k*omega_max*t/(2*tau_max) + t*sqrt(T1**4*T2**2*k**2*m_l**2*omega_max**2 - 4*k*m_l*tau_max**2)/(2*T2*m_l*tau_max))"
      ]
     },
     "metadata": {},
     "output_type": "display_data"
    }
   ],
   "source": [
    "print(\"solving linear ODE\")\n",
    "\n",
    "t = symbols('t') # time\n",
    "linsol = linodesolve(A, t, b=b)\n",
    "\n",
    "for i in range(3):\n",
    "    linsol[i] = linsol[i].doit(conds='none')\n",
    "    linsol[i] = simplify(linsol[i])\n",
    "\n",
    "dum_syms = []\n",
    "freesyms = list(linsol[0].free_symbols) + list(linsol[1].free_symbols) + list(linsol[2].free_symbols)\n",
    "for freesym in freesyms:\n",
    "    if freesym.name.startswith('Dummy') and not freesym in dum_syms:\n",
    "        dum_syms.append(freesym)\n",
    "dum_syms = sorted(dum_syms, key=lambda x: x.name)\n",
    "\n",
    "a0, a1, a2 = symbols(\"a:3\")\n",
    "a_syms = (a0, a1, a2)\n",
    "dum_syms_dict = {dum_sym: a_sym for dum_sym,a_sym in zip(dum_syms, a_syms)}\n",
    "\n",
    "print(f\"replacing {dum_syms} with {a_syms}\")\n",
    "for i in range(3):\n",
    "    linsol[i] = linsol[i].subs(dum_syms_dict)\n",
    "    display(linsol[i])"
   ]
  },
  {
   "cell_type": "code",
   "execution_count": 37,
   "metadata": {},
   "outputs": [
    {
     "name": "stdout",
     "output_type": "stream",
     "text": [
      "sqrt(radicand) is purely imaginary, so replace it with s*I where s=sqrt(-radicand)\n",
      "replace real part of exponent with r for conciseness\n",
      "expand (a1, a2) into (a_a ± a_b * i) because they are complex conjugates\n"
     ]
    },
    {
     "data": {
      "text/latex": [
       "$\\displaystyle - \\frac{T_{1}^{2} T_{2}^{2} m_{l} \\omega_{max}^{2}}{\\tau_{max}} - \\frac{T_{1} T_{2} m_{l} \\omega_{max} \\left(a_{a} - i a_{b}\\right) e^{- r t + \\frac{i s t}{2 T_{2} m_{l} \\tau_{max}}}}{\\tau_{max}} - \\frac{T_{1} T_{2} m_{l} \\omega_{max} \\left(a_{a} + i a_{b}\\right) e^{- r t - \\frac{i s t}{2 T_{2} m_{l} \\tau_{max}}}}{\\tau_{max}} + \\omega_{max} t + \\frac{a_{0}}{T_{1} T_{2}}$"
      ],
      "text/plain": [
       "-T1**2*T2**2*m_l*omega_max**2/tau_max - T1*T2*m_l*omega_max*(a_a - I*a_b)*exp(-r*t + I*s*t/(2*T2*m_l*tau_max))/tau_max - T1*T2*m_l*omega_max*(a_a + I*a_b)*exp(-r*t - I*s*t/(2*T2*m_l*tau_max))/tau_max + omega_max*t + a0/(T1*T2)"
      ]
     },
     "metadata": {},
     "output_type": "display_data"
    },
    {
     "data": {
      "text/latex": [
       "$\\displaystyle - \\frac{T_{1}^{3} T_{2}^{3} m_{l} \\omega_{max}^{2}}{\\tau_{max}} - \\frac{T_{1}^{2} T_{2}^{2} m_{l} \\omega_{max} \\left(a_{a} - i a_{b}\\right) e^{- r t + \\frac{i s t}{2 T_{2} m_{l} \\tau_{max}}}}{2 \\tau_{max}} - \\frac{T_{1}^{2} T_{2}^{2} m_{l} \\omega_{max} \\left(a_{a} + i a_{b}\\right) e^{- r t - \\frac{i s t}{2 T_{2} m_{l} \\tau_{max}}}}{2 \\tau_{max}} + T_{1} T_{2} \\omega_{max} t - \\frac{i T_{2} s \\left(a_{a} - i a_{b}\\right) e^{- r t + \\frac{i s t}{2 T_{2} m_{l} \\tau_{max}}}}{2 k \\tau_{max}} + \\frac{i T_{2} s \\left(a_{a} + i a_{b}\\right) e^{- r t - \\frac{i s t}{2 T_{2} m_{l} \\tau_{max}}}}{2 k \\tau_{max}} + a_{0}$"
      ],
      "text/plain": [
       "-T1**3*T2**3*m_l*omega_max**2/tau_max - T1**2*T2**2*m_l*omega_max*(a_a - I*a_b)*exp(-r*t + I*s*t/(2*T2*m_l*tau_max))/(2*tau_max) - T1**2*T2**2*m_l*omega_max*(a_a + I*a_b)*exp(-r*t - I*s*t/(2*T2*m_l*tau_max))/(2*tau_max) + T1*T2*omega_max*t - I*T2*s*(a_a - I*a_b)*exp(-r*t + I*s*t/(2*T2*m_l*tau_max))/(2*k*tau_max) + I*T2*s*(a_a + I*a_b)*exp(-r*t - I*s*t/(2*T2*m_l*tau_max))/(2*k*tau_max) + a0"
      ]
     },
     "metadata": {},
     "output_type": "display_data"
    },
    {
     "data": {
      "text/latex": [
       "$\\displaystyle T_{1} T_{2} \\omega_{max} + \\left(a_{a} - i a_{b}\\right) e^{- r t + \\frac{i s t}{2 T_{2} m_{l} \\tau_{max}}} + \\left(a_{a} + i a_{b}\\right) e^{- r t - \\frac{i s t}{2 T_{2} m_{l} \\tau_{max}}}$"
      ],
      "text/plain": [
       "T1*T2*omega_max + (a_a - I*a_b)*exp(-r*t + I*s*t/(2*T2*m_l*tau_max)) + (a_a + I*a_b)*exp(-r*t - I*s*t/(2*T2*m_l*tau_max))"
      ]
     },
     "metadata": {},
     "output_type": "display_data"
    }
   ],
   "source": [
    "print(\"sqrt(radicand) is purely imaginary, so replace it with s*I where s=sqrt(-radicand)\")\n",
    "s = symbols('s')\n",
    "radicand = T1**4*T2**2*k**2*m_l**2*omega_max**2 - 4*k*m_l*tau_max**2 #inside the sqrt\n",
    "sqrt_dict = {sqrt(radicand): s*I}\n",
    "s_dict = {s: sqrt(-radicand)} #subs this into final expression to put back radicand\n",
    "\n",
    "print(\"replace real part of exponent with r for conciseness\")\n",
    "r = symbols('r')\n",
    "realexp = T1**2*k*omega_max/(2*tau_max)\n",
    "realexp_dict = {realexp: r}\n",
    "r_dict = {r: realexp} #subs this into final expression to put back radicand\n",
    "\n",
    "print(f\"expand (a1, a2) into (a_a ± a_b * i) because they are complex conjugates\")\n",
    "a_a, a_b = symbols(\"a_a, a_b\")\n",
    "conj_dict = {\n",
    "    a1:a_a + a_b * I,\n",
    "    a2:a_a - a_b * I\n",
    "}\n",
    "a_syms = (a0, a_a, a_b)\n",
    "\n",
    "\n",
    "linsol_clean = []\n",
    "for i in range(3):\n",
    "    cleaned = linsol[i].subs(sqrt_dict).subs(realexp_dict).subs(conj_dict)\n",
    "    linsol_clean.append(cleaned)\n",
    "    display(linsol_clean[i])"
   ]
  },
  {
   "cell_type": "code",
   "execution_count": 38,
   "metadata": {},
   "outputs": [
    {
     "name": "stdout",
     "output_type": "stream",
     "text": [
      "replace imaginary part of exponential with trig\n"
     ]
    },
    {
     "data": {
      "text/latex": [
       "$\\displaystyle e^{- r t + \\frac{i s t}{2 T_{2} m_{l} \\tau_{max}}} = \\left(i \\sin{\\left(\\frac{s t}{2 T_{2} m_{l} \\tau_{max}} \\right)} + \\cos{\\left(\\frac{s t}{2 T_{2} m_{l} \\tau_{max}} \\right)}\\right) e^{- r t}$"
      ],
      "text/plain": [
       "Eq(exp(-r*t + I*s*t/(2*T2*m_l*tau_max)), (I*sin(s*t/(2*T2*m_l*tau_max)) + cos(s*t/(2*T2*m_l*tau_max)))*exp(-r*t))"
      ]
     },
     "metadata": {},
     "output_type": "display_data"
    },
    {
     "data": {
      "text/latex": [
       "$\\displaystyle e^{- r t - \\frac{i s t}{2 T_{2} m_{l} \\tau_{max}}} = \\left(- i \\sin{\\left(\\frac{s t}{2 T_{2} m_{l} \\tau_{max}} \\right)} + \\cos{\\left(\\frac{s t}{2 T_{2} m_{l} \\tau_{max}} \\right)}\\right) e^{- r t}$"
      ],
      "text/plain": [
       "Eq(exp(-r*t - I*s*t/(2*T2*m_l*tau_max)), (-I*sin(s*t/(2*T2*m_l*tau_max)) + cos(s*t/(2*T2*m_l*tau_max)))*exp(-r*t))"
      ]
     },
     "metadata": {},
     "output_type": "display_data"
    },
    {
     "name": "stdout",
     "output_type": "stream",
     "text": [
      "substitute into solution\n"
     ]
    },
    {
     "data": {
      "text/latex": [
       "$\\displaystyle x_{a} = - \\frac{T_{1}^{2} T_{2}^{2} m_{l} \\omega_{max}^{2}}{\\tau_{max}} - \\frac{2 T_{1} T_{2} a_{a} m_{l} \\omega_{max} e^{- r t} \\cos{\\left(\\frac{s t}{2 T_{2} m_{l} \\tau_{max}} \\right)}}{\\tau_{max}} - \\frac{2 T_{1} T_{2} a_{b} m_{l} \\omega_{max} e^{- r t} \\sin{\\left(\\frac{s t}{2 T_{2} m_{l} \\tau_{max}} \\right)}}{\\tau_{max}} + \\omega_{max} t + \\frac{a_{0}}{T_{1} T_{2}}$"
      ],
      "text/plain": [
       "Eq(x_a, -T1**2*T2**2*m_l*omega_max**2/tau_max - 2*T1*T2*a_a*m_l*omega_max*exp(-r*t)*cos(s*t/(2*T2*m_l*tau_max))/tau_max - 2*T1*T2*a_b*m_l*omega_max*exp(-r*t)*sin(s*t/(2*T2*m_l*tau_max))/tau_max + omega_max*t + a0/(T1*T2))"
      ]
     },
     "metadata": {},
     "output_type": "display_data"
    },
    {
     "data": {
      "text/latex": [
       "$\\displaystyle x_{L} = - \\frac{T_{1}^{3} T_{2}^{3} m_{l} \\omega_{max}^{2}}{\\tau_{max}} - \\frac{T_{1}^{2} T_{2}^{2} a_{a} m_{l} \\omega_{max} e^{- r t} \\cos{\\left(\\frac{s t}{2 T_{2} m_{l} \\tau_{max}} \\right)}}{\\tau_{max}} - \\frac{T_{1}^{2} T_{2}^{2} a_{b} m_{l} \\omega_{max} e^{- r t} \\sin{\\left(\\frac{s t}{2 T_{2} m_{l} \\tau_{max}} \\right)}}{\\tau_{max}} + T_{1} T_{2} \\omega_{max} t + \\frac{T_{2} a_{a} s e^{- r t} \\sin{\\left(\\frac{s t}{2 T_{2} m_{l} \\tau_{max}} \\right)}}{k \\tau_{max}} - \\frac{T_{2} a_{b} s e^{- r t} \\cos{\\left(\\frac{s t}{2 T_{2} m_{l} \\tau_{max}} \\right)}}{k \\tau_{max}} + a_{0}$"
      ],
      "text/plain": [
       "Eq(x_L, -T1**3*T2**3*m_l*omega_max**2/tau_max - T1**2*T2**2*a_a*m_l*omega_max*exp(-r*t)*cos(s*t/(2*T2*m_l*tau_max))/tau_max - T1**2*T2**2*a_b*m_l*omega_max*exp(-r*t)*sin(s*t/(2*T2*m_l*tau_max))/tau_max + T1*T2*omega_max*t + T2*a_a*s*exp(-r*t)*sin(s*t/(2*T2*m_l*tau_max))/(k*tau_max) - T2*a_b*s*exp(-r*t)*cos(s*t/(2*T2*m_l*tau_max))/(k*tau_max) + a0)"
      ]
     },
     "metadata": {},
     "output_type": "display_data"
    },
    {
     "data": {
      "text/latex": [
       "$\\displaystyle v_{L} = T_{1} T_{2} \\omega_{max} + 2 a_{a} e^{- r t} \\cos{\\left(\\frac{s t}{2 T_{2} m_{l} \\tau_{max}} \\right)} + 2 a_{b} e^{- r t} \\sin{\\left(\\frac{s t}{2 T_{2} m_{l} \\tau_{max}} \\right)}$"
      ],
      "text/plain": [
       "Eq(v_L, T1*T2*omega_max + 2*a_a*exp(-r*t)*cos(s*t/(2*T2*m_l*tau_max)) + 2*a_b*exp(-r*t)*sin(s*t/(2*T2*m_l*tau_max)))"
      ]
     },
     "metadata": {},
     "output_type": "display_data"
    }
   ],
   "source": [
    "exp_m = exp(-r*t - I*s*t/(2*T2*m_l*tau_max))\n",
    "exp_p = exp(-r*t + I*s*t/(2*T2*m_l*tau_max))\n",
    "trigh = -sinh(r*t)+cosh(r*t) # simplifes to exp(-R)\n",
    "\n",
    "exp_m_simp = exp_m.factor().rewrite(cos).subs(trigh, trigh.simplify())\n",
    "exp_p_simp = exp_p.factor().rewrite(cos).subs(trigh, trigh.simplify())\n",
    "exp_dict = {exp_m:exp_m_simp, exp_p:exp_p_simp}\n",
    "\n",
    "print(\"replace imaginary part of exponential with trig\")\n",
    "display(Eq(exp_p, exp_p_simp), Eq(exp_m, exp_m_simp))\n",
    "\n",
    "print(\"substitute into solution\")\n",
    "x_a, x_L, v_L = symbols(\"x_a, x_L, v_L\")\n",
    "states = [x_a, x_L, v_L]\n",
    "for i in range(3):\n",
    "    linsol_clean[i] = linsol_clean[i].subs(exp_dict).simplify().expand()\n",
    "    display(Eq(states[i], linsol_clean[i]))"
   ]
  },
  {
   "cell_type": "code",
   "execution_count": 39,
   "metadata": {},
   "outputs": [
    {
     "name": "stdout",
     "output_type": "stream",
     "text": [
      "Represent solution at t=0 in Ax=b form\n",
      "A0:\n"
     ]
    },
    {
     "data": {
      "text/latex": [
       "$\\displaystyle \\left[\\begin{matrix}\\frac{1}{T_{1} T_{2}} & - \\frac{2 T_{1} T_{2} m_{l} \\omega_{max}}{\\tau_{max}} & 0\\\\1 & - \\frac{T_{1}^{2} T_{2}^{2} m_{l} \\omega_{max}}{\\tau_{max}} & - \\frac{T_{2} s}{k \\tau_{max}}\\\\0 & 2 & 0\\end{matrix}\\right]$"
      ],
      "text/plain": [
       "Matrix([\n",
       "[1/(T1*T2),     -2*T1*T2*m_l*omega_max/tau_max,                 0],\n",
       "[        1, -T1**2*T2**2*m_l*omega_max/tau_max, -T2*s/(k*tau_max)],\n",
       "[        0,                                  2,                 0]])"
      ]
     },
     "metadata": {},
     "output_type": "display_data"
    },
    {
     "name": "stdout",
     "output_type": "stream",
     "text": [
      "b0:\n"
     ]
    },
    {
     "data": {
      "text/latex": [
       "$\\displaystyle \\left[\\begin{matrix}\\frac{T_{1}^{2} T_{2}^{2} m_{l} \\omega_{max}^{2}}{\\tau_{max}}\\\\\\frac{T_{1}^{3} T_{2}^{3} m_{l} \\omega_{max}^{2}}{\\tau_{max}}\\\\- T_{1} T_{2} \\omega_{max}\\end{matrix}\\right]$"
      ],
      "text/plain": [
       "Matrix([\n",
       "[T1**2*T2**2*m_l*omega_max**2/tau_max],\n",
       "[T1**3*T2**3*m_l*omega_max**2/tau_max],\n",
       "[                    -T1*T2*omega_max]])"
      ]
     },
     "metadata": {},
     "output_type": "display_data"
    },
    {
     "name": "stdout",
     "output_type": "stream",
     "text": [
      "check if solution is accurately represented:\n"
     ]
    },
    {
     "data": {
      "text/latex": [
       "$\\displaystyle \\left[\\begin{matrix}- \\frac{T_{1}^{2} T_{2}^{2} m_{l} \\omega_{max}^{2}}{\\tau_{max}} - \\frac{2 T_{1} T_{2} a_{a} m_{l} \\omega_{max}}{\\tau_{max}} + \\frac{a_{0}}{T_{1} T_{2}}\\\\- \\frac{T_{1}^{3} T_{2}^{3} m_{l} \\omega_{max}^{2}}{\\tau_{max}} - \\frac{T_{1}^{2} T_{2}^{2} a_{a} m_{l} \\omega_{max}}{\\tau_{max}} - \\frac{T_{2} a_{b} s}{k \\tau_{max}} + a_{0}\\\\T_{1} T_{2} \\omega_{max} + 2 a_{a}\\end{matrix}\\right]$"
      ],
      "text/plain": [
       "Matrix([\n",
       "[                   -T1**2*T2**2*m_l*omega_max**2/tau_max - 2*T1*T2*a_a*m_l*omega_max/tau_max + a0/(T1*T2)],\n",
       "[-T1**3*T2**3*m_l*omega_max**2/tau_max - T1**2*T2**2*a_a*m_l*omega_max/tau_max - T2*a_b*s/(k*tau_max) + a0],\n",
       "[                                                                                  T1*T2*omega_max + 2*a_a]])"
      ]
     },
     "metadata": {},
     "output_type": "display_data"
    },
    {
     "data": {
      "text/latex": [
       "$\\displaystyle \\left[\\begin{matrix}- \\frac{T_{1}^{2} T_{2}^{2} m_{l} \\omega_{max}^{2}}{\\tau_{max}} - \\frac{2 T_{1} T_{2} a_{a} m_{l} \\omega_{max}}{\\tau_{max}} + \\frac{a_{0}}{T_{1} T_{2}}\\\\- \\frac{T_{1}^{3} T_{2}^{3} m_{l} \\omega_{max}^{2}}{\\tau_{max}} - \\frac{T_{1}^{2} T_{2}^{2} a_{a} m_{l} \\omega_{max}}{\\tau_{max}} - \\frac{T_{2} a_{b} s}{k \\tau_{max}} + a_{0}\\\\T_{1} T_{2} \\omega_{max} + 2 a_{a}\\end{matrix}\\right]$"
      ],
      "text/plain": [
       "Matrix([\n",
       "[                   -T1**2*T2**2*m_l*omega_max**2/tau_max - 2*T1*T2*a_a*m_l*omega_max/tau_max + a0/(T1*T2)],\n",
       "[-T1**3*T2**3*m_l*omega_max**2/tau_max - T1**2*T2**2*a_a*m_l*omega_max/tau_max - T2*a_b*s/(k*tau_max) + a0],\n",
       "[                                                                                  T1*T2*omega_max + 2*a_a]])"
      ]
     },
     "execution_count": 39,
     "metadata": {},
     "output_type": "execute_result"
    }
   ],
   "source": [
    "print(\"Represent solution at t=0 in Ax=b form\")\n",
    "mat = linear_eq_to_matrix(linsol_clean, a_syms)\n",
    "A0 = simplify(mat[0].subs({t:0}))\n",
    "A0_inv = simplify(A0.inv())\n",
    "b0 = simplify(mat[1].subs({t:0}))\n",
    "\n",
    "print(\"A0:\")\n",
    "display(A0)\n",
    "print(\"b0:\")\n",
    "display(b0)\n",
    "\n",
    "print(\"check if solution is accurately represented:\")\n",
    "display(Matrix([linsol_clean[i].subs(t,0) for i in range(3)]))\n",
    "\n",
    "A0 @ Matrix(a_syms) - b0 #should be the same as linsol in previous cell"
   ]
  },
  {
   "cell_type": "code",
   "execution_count": 40,
   "metadata": {},
   "outputs": [
    {
     "name": "stdout",
     "output_type": "stream",
     "text": [
      "Solve for (a0, a_a, a_b) using initial conditions\n"
     ]
    },
    {
     "data": {
      "text/latex": [
       "$\\displaystyle \\left[\\begin{matrix}\\frac{T_{1} T_{2} \\left(T_{1} T_{2} m_{l} \\omega_{max} v_{l0} + \\tau_{max} x_{a0}\\right)}{\\tau_{max}}\\\\- \\frac{T_{1} T_{2} \\omega_{max}}{2} + \\frac{v_{l0}}{2}\\\\\\frac{k \\left(- T_{1}^{3} T_{2}^{3} m_{l} \\omega_{max}^{2} + T_{1}^{2} T_{2}^{2} m_{l} \\omega_{max} v_{l0} + 2 T_{1} T_{2} \\tau_{max} x_{a0} - 2 \\tau_{max} x_{l0}\\right)}{2 T_{2} s}\\end{matrix}\\right]$"
      ],
      "text/plain": [
       "Matrix([\n",
       "[                                                            T1*T2*(T1*T2*m_l*omega_max*v_l0 + tau_max*x_a0)/tau_max],\n",
       "[                                                                                        -T1*T2*omega_max/2 + v_l0/2],\n",
       "[k*(-T1**3*T2**3*m_l*omega_max**2 + T1**2*T2**2*m_l*omega_max*v_l0 + 2*T1*T2*tau_max*x_a0 - 2*tau_max*x_l0)/(2*T2*s)]])"
      ]
     },
     "execution_count": 40,
     "metadata": {},
     "output_type": "execute_result"
    }
   ],
   "source": [
    "print(f\"Solve for {a_syms} using initial conditions\")\n",
    "x_a0, x_l0, v_l0 = symbols('x_a0, x_l0, v_l0')\n",
    "ics = Matrix([x_a0, x_l0, v_l0])\n",
    "\n",
    "a_vals = simplify(A0_inv * (ics + b0))\n",
    "a_dict = {a_syms[i]: a_vals[i] for i in range(3)}\n",
    "\n",
    "a_vals"
   ]
  },
  {
   "cell_type": "code",
   "execution_count": 41,
   "metadata": {},
   "outputs": [
    {
     "data": {
      "text/latex": [
       "$\\displaystyle x_{a} = - \\frac{T_{1}^{2} T_{2}^{2} m_{l} \\omega_{max}^{2}}{\\tau_{max}} - \\frac{2 T_{1} T_{2} a_{a} m_{l} \\omega_{max} e^{- r t} \\cos{\\left(\\frac{s t}{2 T_{2} m_{l} \\tau_{max}} \\right)}}{\\tau_{max}} - \\frac{2 T_{1} T_{2} a_{b} m_{l} \\omega_{max} e^{- r t} \\sin{\\left(\\frac{s t}{2 T_{2} m_{l} \\tau_{max}} \\right)}}{\\tau_{max}} + \\omega_{max} t + \\frac{a_{0}}{T_{1} T_{2}}$"
      ],
      "text/plain": [
       "Eq(x_a, -T1**2*T2**2*m_l*omega_max**2/tau_max - 2*T1*T2*a_a*m_l*omega_max*exp(-r*t)*cos(s*t/(2*T2*m_l*tau_max))/tau_max - 2*T1*T2*a_b*m_l*omega_max*exp(-r*t)*sin(s*t/(2*T2*m_l*tau_max))/tau_max + omega_max*t + a0/(T1*T2))"
      ]
     },
     "metadata": {},
     "output_type": "display_data"
    },
    {
     "data": {
      "text/latex": [
       "$\\displaystyle x_{L} = - \\frac{T_{1}^{3} T_{2}^{3} m_{l} \\omega_{max}^{2}}{\\tau_{max}} - \\frac{T_{1}^{2} T_{2}^{2} a_{a} m_{l} \\omega_{max} e^{- r t} \\cos{\\left(\\frac{s t}{2 T_{2} m_{l} \\tau_{max}} \\right)}}{\\tau_{max}} - \\frac{T_{1}^{2} T_{2}^{2} a_{b} m_{l} \\omega_{max} e^{- r t} \\sin{\\left(\\frac{s t}{2 T_{2} m_{l} \\tau_{max}} \\right)}}{\\tau_{max}} + T_{1} T_{2} \\omega_{max} t + \\frac{T_{2} a_{a} s e^{- r t} \\sin{\\left(\\frac{s t}{2 T_{2} m_{l} \\tau_{max}} \\right)}}{k \\tau_{max}} - \\frac{T_{2} a_{b} s e^{- r t} \\cos{\\left(\\frac{s t}{2 T_{2} m_{l} \\tau_{max}} \\right)}}{k \\tau_{max}} + a_{0}$"
      ],
      "text/plain": [
       "Eq(x_L, -T1**3*T2**3*m_l*omega_max**2/tau_max - T1**2*T2**2*a_a*m_l*omega_max*exp(-r*t)*cos(s*t/(2*T2*m_l*tau_max))/tau_max - T1**2*T2**2*a_b*m_l*omega_max*exp(-r*t)*sin(s*t/(2*T2*m_l*tau_max))/tau_max + T1*T2*omega_max*t + T2*a_a*s*exp(-r*t)*sin(s*t/(2*T2*m_l*tau_max))/(k*tau_max) - T2*a_b*s*exp(-r*t)*cos(s*t/(2*T2*m_l*tau_max))/(k*tau_max) + a0)"
      ]
     },
     "metadata": {},
     "output_type": "display_data"
    },
    {
     "data": {
      "text/latex": [
       "$\\displaystyle v_{L} = T_{1} T_{2} \\omega_{max} + 2 a_{a} e^{- r t} \\cos{\\left(\\frac{s t}{2 T_{2} m_{l} \\tau_{max}} \\right)} + 2 a_{b} e^{- r t} \\sin{\\left(\\frac{s t}{2 T_{2} m_{l} \\tau_{max}} \\right)}$"
      ],
      "text/plain": [
       "Eq(v_L, T1*T2*omega_max + 2*a_a*exp(-r*t)*cos(s*t/(2*T2*m_l*tau_max)) + 2*a_b*exp(-r*t)*sin(s*t/(2*T2*m_l*tau_max)))"
      ]
     },
     "metadata": {},
     "output_type": "display_data"
    },
    {
     "name": "stdout",
     "output_type": "stream",
     "text": [
      "where\n"
     ]
    },
    {
     "data": {
      "text/latex": [
       "$\\displaystyle r = \\frac{T_{1}^{2} k \\omega_{max}}{2 \\tau_{max}}$"
      ],
      "text/plain": [
       "Eq(r, T1**2*k*omega_max/(2*tau_max))"
      ]
     },
     "metadata": {},
     "output_type": "display_data"
    },
    {
     "data": {
      "text/latex": [
       "$\\displaystyle s = \\sqrt{- T_{1}^{4} T_{2}^{2} k^{2} m_{l}^{2} \\omega_{max}^{2} + 4 k m_{l} \\tau_{max}^{2}}$"
      ],
      "text/plain": [
       "Eq(s, sqrt(-T1**4*T2**2*k**2*m_l**2*omega_max**2 + 4*k*m_l*tau_max**2))"
      ]
     },
     "metadata": {},
     "output_type": "display_data"
    },
    {
     "data": {
      "text/latex": [
       "$\\displaystyle a_{0} = \\frac{T_{1} T_{2} \\left(T_{1} T_{2} m_{l} \\omega_{max} v_{l0} + \\tau_{max} x_{a0}\\right)}{\\tau_{max}}$"
      ],
      "text/plain": [
       "Eq(a0, T1*T2*(T1*T2*m_l*omega_max*v_l0 + tau_max*x_a0)/tau_max)"
      ]
     },
     "metadata": {},
     "output_type": "display_data"
    },
    {
     "data": {
      "text/latex": [
       "$\\displaystyle a_{a} = - \\frac{T_{1} T_{2} \\omega_{max}}{2} + \\frac{v_{l0}}{2}$"
      ],
      "text/plain": [
       "Eq(a_a, -T1*T2*omega_max/2 + v_l0/2)"
      ]
     },
     "metadata": {},
     "output_type": "display_data"
    },
    {
     "data": {
      "text/latex": [
       "$\\displaystyle a_{b} = \\frac{k \\left(- T_{1}^{3} T_{2}^{3} m_{l} \\omega_{max}^{2} + T_{1}^{2} T_{2}^{2} m_{l} \\omega_{max} v_{l0} + 2 T_{1} T_{2} \\tau_{max} x_{a0} - 2 \\tau_{max} x_{l0}\\right)}{2 T_{2} s}$"
      ],
      "text/plain": [
       "Eq(a_b, k*(-T1**3*T2**3*m_l*omega_max**2 + T1**2*T2**2*m_l*omega_max*v_l0 + 2*T1*T2*tau_max*x_a0 - 2*tau_max*x_l0)/(2*T2*s))"
      ]
     },
     "metadata": {},
     "output_type": "display_data"
    }
   ],
   "source": [
    "for i in range(3):\n",
    "    linsol_clean[i] = linsol_clean[i].subs(exp_dict).simplify().expand()\n",
    "    display(Eq(states[i], linsol_clean[i]))\n",
    "\n",
    "print('where')\n",
    "display(Eq(r, realexp))\n",
    "display(Eq(s, sqrt(-radicand)))\n",
    "\n",
    "initials = [a0, a_a, a_b]\n",
    "for i in range(3):\n",
    "    display(Eq(initials[i], a_vals[i]))\n"
   ]
  },
  {
   "cell_type": "code",
   "execution_count": 42,
   "metadata": {},
   "outputs": [
    {
     "name": "stdout",
     "output_type": "stream",
     "text": [
      "Substitute (a0, a_a, a_b) back and put back full expressions for s and r\n"
     ]
    },
    {
     "data": {
      "text/latex": [
       "$\\displaystyle - \\frac{T_{1}^{2} T_{2}^{2} m_{l} \\omega_{max}^{2}}{\\tau_{max}} - \\frac{2 T_{1} T_{2} m_{l} \\omega_{max} \\left(- \\frac{T_{1} T_{2} \\omega_{max}}{2} + \\frac{v_{l0}}{2}\\right) e^{- \\frac{T_{1}^{2} k \\omega_{max} t}{2 \\tau_{max}}} \\cos{\\left(\\frac{t \\sqrt{- T_{1}^{4} T_{2}^{2} k^{2} m_{l}^{2} \\omega_{max}^{2} + 4 k m_{l} \\tau_{max}^{2}}}{2 T_{2} m_{l} \\tau_{max}} \\right)}}{\\tau_{max}} - \\frac{T_{1} k m_{l} \\omega_{max} \\left(- T_{1}^{3} T_{2}^{3} m_{l} \\omega_{max}^{2} + T_{1}^{2} T_{2}^{2} m_{l} \\omega_{max} v_{l0} + 2 T_{1} T_{2} \\tau_{max} x_{a0} - 2 \\tau_{max} x_{l0}\\right) e^{- \\frac{T_{1}^{2} k \\omega_{max} t}{2 \\tau_{max}}} \\sin{\\left(\\frac{t \\sqrt{- T_{1}^{4} T_{2}^{2} k^{2} m_{l}^{2} \\omega_{max}^{2} + 4 k m_{l} \\tau_{max}^{2}}}{2 T_{2} m_{l} \\tau_{max}} \\right)}}{\\tau_{max} \\sqrt{- T_{1}^{4} T_{2}^{2} k^{2} m_{l}^{2} \\omega_{max}^{2} + 4 k m_{l} \\tau_{max}^{2}}} + \\omega_{max} t + \\frac{T_{1} T_{2} m_{l} \\omega_{max} v_{l0} + \\tau_{max} x_{a0}}{\\tau_{max}}$"
      ],
      "text/plain": [
       "-T1**2*T2**2*m_l*omega_max**2/tau_max - 2*T1*T2*m_l*omega_max*(-T1*T2*omega_max/2 + v_l0/2)*exp(-T1**2*k*omega_max*t/(2*tau_max))*cos(t*sqrt(-T1**4*T2**2*k**2*m_l**2*omega_max**2 + 4*k*m_l*tau_max**2)/(2*T2*m_l*tau_max))/tau_max - T1*k*m_l*omega_max*(-T1**3*T2**3*m_l*omega_max**2 + T1**2*T2**2*m_l*omega_max*v_l0 + 2*T1*T2*tau_max*x_a0 - 2*tau_max*x_l0)*exp(-T1**2*k*omega_max*t/(2*tau_max))*sin(t*sqrt(-T1**4*T2**2*k**2*m_l**2*omega_max**2 + 4*k*m_l*tau_max**2)/(2*T2*m_l*tau_max))/(tau_max*sqrt(-T1**4*T2**2*k**2*m_l**2*omega_max**2 + 4*k*m_l*tau_max**2)) + omega_max*t + (T1*T2*m_l*omega_max*v_l0 + tau_max*x_a0)/tau_max"
      ]
     },
     "metadata": {},
     "output_type": "display_data"
    },
    {
     "data": {
      "text/latex": [
       "$\\displaystyle - \\frac{T_{1}^{3} T_{2}^{3} m_{l} \\omega_{max}^{2}}{\\tau_{max}} - \\frac{T_{1}^{2} T_{2}^{2} m_{l} \\omega_{max} \\left(- \\frac{T_{1} T_{2} \\omega_{max}}{2} + \\frac{v_{l0}}{2}\\right) e^{- \\frac{T_{1}^{2} k \\omega_{max} t}{2 \\tau_{max}}} \\cos{\\left(\\frac{t \\sqrt{- T_{1}^{4} T_{2}^{2} k^{2} m_{l}^{2} \\omega_{max}^{2} + 4 k m_{l} \\tau_{max}^{2}}}{2 T_{2} m_{l} \\tau_{max}} \\right)}}{\\tau_{max}} - \\frac{T_{1}^{2} T_{2} k m_{l} \\omega_{max} \\left(- T_{1}^{3} T_{2}^{3} m_{l} \\omega_{max}^{2} + T_{1}^{2} T_{2}^{2} m_{l} \\omega_{max} v_{l0} + 2 T_{1} T_{2} \\tau_{max} x_{a0} - 2 \\tau_{max} x_{l0}\\right) e^{- \\frac{T_{1}^{2} k \\omega_{max} t}{2 \\tau_{max}}} \\sin{\\left(\\frac{t \\sqrt{- T_{1}^{4} T_{2}^{2} k^{2} m_{l}^{2} \\omega_{max}^{2} + 4 k m_{l} \\tau_{max}^{2}}}{2 T_{2} m_{l} \\tau_{max}} \\right)}}{2 \\tau_{max} \\sqrt{- T_{1}^{4} T_{2}^{2} k^{2} m_{l}^{2} \\omega_{max}^{2} + 4 k m_{l} \\tau_{max}^{2}}} + T_{1} T_{2} \\omega_{max} t + \\frac{T_{1} T_{2} \\left(T_{1} T_{2} m_{l} \\omega_{max} v_{l0} + \\tau_{max} x_{a0}\\right)}{\\tau_{max}} + \\frac{T_{2} \\left(- \\frac{T_{1} T_{2} \\omega_{max}}{2} + \\frac{v_{l0}}{2}\\right) \\sqrt{- T_{1}^{4} T_{2}^{2} k^{2} m_{l}^{2} \\omega_{max}^{2} + 4 k m_{l} \\tau_{max}^{2}} e^{- \\frac{T_{1}^{2} k \\omega_{max} t}{2 \\tau_{max}}} \\sin{\\left(\\frac{t \\sqrt{- T_{1}^{4} T_{2}^{2} k^{2} m_{l}^{2} \\omega_{max}^{2} + 4 k m_{l} \\tau_{max}^{2}}}{2 T_{2} m_{l} \\tau_{max}} \\right)}}{k \\tau_{max}} - \\frac{\\left(- T_{1}^{3} T_{2}^{3} m_{l} \\omega_{max}^{2} + T_{1}^{2} T_{2}^{2} m_{l} \\omega_{max} v_{l0} + 2 T_{1} T_{2} \\tau_{max} x_{a0} - 2 \\tau_{max} x_{l0}\\right) e^{- \\frac{T_{1}^{2} k \\omega_{max} t}{2 \\tau_{max}}} \\cos{\\left(\\frac{t \\sqrt{- T_{1}^{4} T_{2}^{2} k^{2} m_{l}^{2} \\omega_{max}^{2} + 4 k m_{l} \\tau_{max}^{2}}}{2 T_{2} m_{l} \\tau_{max}} \\right)}}{2 \\tau_{max}}$"
      ],
      "text/plain": [
       "-T1**3*T2**3*m_l*omega_max**2/tau_max - T1**2*T2**2*m_l*omega_max*(-T1*T2*omega_max/2 + v_l0/2)*exp(-T1**2*k*omega_max*t/(2*tau_max))*cos(t*sqrt(-T1**4*T2**2*k**2*m_l**2*omega_max**2 + 4*k*m_l*tau_max**2)/(2*T2*m_l*tau_max))/tau_max - T1**2*T2*k*m_l*omega_max*(-T1**3*T2**3*m_l*omega_max**2 + T1**2*T2**2*m_l*omega_max*v_l0 + 2*T1*T2*tau_max*x_a0 - 2*tau_max*x_l0)*exp(-T1**2*k*omega_max*t/(2*tau_max))*sin(t*sqrt(-T1**4*T2**2*k**2*m_l**2*omega_max**2 + 4*k*m_l*tau_max**2)/(2*T2*m_l*tau_max))/(2*tau_max*sqrt(-T1**4*T2**2*k**2*m_l**2*omega_max**2 + 4*k*m_l*tau_max**2)) + T1*T2*omega_max*t + T1*T2*(T1*T2*m_l*omega_max*v_l0 + tau_max*x_a0)/tau_max + T2*(-T1*T2*omega_max/2 + v_l0/2)*sqrt(-T1**4*T2**2*k**2*m_l**2*omega_max**2 + 4*k*m_l*tau_max**2)*exp(-T1**2*k*omega_max*t/(2*tau_max))*sin(t*sqrt(-T1**4*T2**2*k**2*m_l**2*omega_max**2 + 4*k*m_l*tau_max**2)/(2*T2*m_l*tau_max))/(k*tau_max) - (-T1**3*T2**3*m_l*omega_max**2 + T1**2*T2**2*m_l*omega_max*v_l0 + 2*T1*T2*tau_max*x_a0 - 2*tau_max*x_l0)*exp(-T1**2*k*omega_max*t/(2*tau_max))*cos(t*sqrt(-T1**4*T2**2*k**2*m_l**2*omega_max**2 + 4*k*m_l*tau_max**2)/(2*T2*m_l*tau_max))/(2*tau_max)"
      ]
     },
     "metadata": {},
     "output_type": "display_data"
    },
    {
     "data": {
      "text/latex": [
       "$\\displaystyle T_{1} T_{2} \\omega_{max} + 2 \\left(- \\frac{T_{1} T_{2} \\omega_{max}}{2} + \\frac{v_{l0}}{2}\\right) e^{- \\frac{T_{1}^{2} k \\omega_{max} t}{2 \\tau_{max}}} \\cos{\\left(\\frac{t \\sqrt{- T_{1}^{4} T_{2}^{2} k^{2} m_{l}^{2} \\omega_{max}^{2} + 4 k m_{l} \\tau_{max}^{2}}}{2 T_{2} m_{l} \\tau_{max}} \\right)} + \\frac{k \\left(- T_{1}^{3} T_{2}^{3} m_{l} \\omega_{max}^{2} + T_{1}^{2} T_{2}^{2} m_{l} \\omega_{max} v_{l0} + 2 T_{1} T_{2} \\tau_{max} x_{a0} - 2 \\tau_{max} x_{l0}\\right) e^{- \\frac{T_{1}^{2} k \\omega_{max} t}{2 \\tau_{max}}} \\sin{\\left(\\frac{t \\sqrt{- T_{1}^{4} T_{2}^{2} k^{2} m_{l}^{2} \\omega_{max}^{2} + 4 k m_{l} \\tau_{max}^{2}}}{2 T_{2} m_{l} \\tau_{max}} \\right)}}{T_{2} \\sqrt{- T_{1}^{4} T_{2}^{2} k^{2} m_{l}^{2} \\omega_{max}^{2} + 4 k m_{l} \\tau_{max}^{2}}}$"
      ],
      "text/plain": [
       "T1*T2*omega_max + 2*(-T1*T2*omega_max/2 + v_l0/2)*exp(-T1**2*k*omega_max*t/(2*tau_max))*cos(t*sqrt(-T1**4*T2**2*k**2*m_l**2*omega_max**2 + 4*k*m_l*tau_max**2)/(2*T2*m_l*tau_max)) + k*(-T1**3*T2**3*m_l*omega_max**2 + T1**2*T2**2*m_l*omega_max*v_l0 + 2*T1*T2*tau_max*x_a0 - 2*tau_max*x_l0)*exp(-T1**2*k*omega_max*t/(2*tau_max))*sin(t*sqrt(-T1**4*T2**2*k**2*m_l**2*omega_max**2 + 4*k*m_l*tau_max**2)/(2*T2*m_l*tau_max))/(T2*sqrt(-T1**4*T2**2*k**2*m_l**2*omega_max**2 + 4*k*m_l*tau_max**2))"
      ]
     },
     "metadata": {},
     "output_type": "display_data"
    }
   ],
   "source": [
    "print(f\"Substitute {a_syms} back and put back full expressions for s and r\")\n",
    "\n",
    "linsol_ics = []\n",
    "for i in range(3):\n",
    "    temp = linsol_clean[i].subs(a_dict).subs(s_dict).subs(r_dict)\n",
    "    # temp = temp.simplify() #actually increases the operations after cse()\n",
    "    display(temp)\n",
    "    linsol_ics.append(temp)"
   ]
  },
  {
   "cell_type": "code",
   "execution_count": 43,
   "metadata": {},
   "outputs": [
    {
     "name": "stdout",
     "output_type": "stream",
     "text": [
      "# 89 operations\n",
      "x0 = omega_max**2\n",
      "x1 = m_l*x0\n",
      "x2 = 1/tau_max\n",
      "x3 = T1**2\n",
      "x4 = T2**2\n",
      "x5 = x2*x3*x4\n",
      "x6 = T1*T2*omega_max\n",
      "x7 = m_l*v_l0*x6 + tau_max*x_a0\n",
      "x8 = (1/2)*v_l0 - 1/2*x6\n",
      "x9 = 1/T2\n",
      "x10 = math.sqrt(-T1**4*k**2*m_l**2*x0*x4 + 4*k*m_l*tau_max**2)\n",
      "x11 = (1/2)*x2\n",
      "x12 = t*x10*x11*x9/m_l\n",
      "x13 = math.exp(-k*omega_max*t*x11*x3)\n",
      "x14 = x13*math.cos(x12)\n",
      "x15 = x14*x8\n",
      "x16 = 2*x15\n",
      "x17 = T1**3*T2**3*x1\n",
      "x18 = 2*T1*T2*tau_max*x_a0 + m_l*omega_max*v_l0*x3*x4 - 2*tau_max*x_l0 - x17\n",
      "x19 = math.sin(x12)\n",
      "x20 = x13*x19/x10\n",
      "x21 = x18*x20\n",
      "x22 = k*m_l*omega_max\n",
      "x23 = x11*x18\n",
      "x_a_code = -T1*x2*x21*x22 - m_l*x16*x2*x6 + omega_max*t - x1*x5 + x2*x7\n",
      "x_l_code = T1*T2*omega_max*t + T1*T2*x2*x7 - T2*x20*x22*x23*x3 + T2*x10*x13*x19*x2*x8/k - m_l*omega_max*x15*x5 - x14*x23 - x17*x2\n",
      "v_l_code = k*x21*x9 + x16 + x6\n"
     ]
    }
   ],
   "source": [
    "\n",
    "x_a_code, x_l_code, v_l_code = symbols('x_a_code, x_l_code, v_l_code')\n",
    "\n",
    "code = CodeBlock(\n",
    "    Assignment(x_a_code, linsol_ics[0]),\n",
    "    Assignment(x_l_code, linsol_ics[1]),\n",
    "    Assignment(v_l_code, linsol_ics[2]),\n",
    ").cse()\n",
    "\n",
    "print(f\"# {count_ops(code)} operations\")\n",
    "\n",
    "print(pycode(code))"
   ]
  },
  {
   "cell_type": "code",
   "execution_count": 44,
   "metadata": {},
   "outputs": [
    {
     "name": "stdout",
     "output_type": "stream",
     "text": [
      "0.0 0 0 0\n",
      "0.056 126.393235405028 0.0213907875922671 1.07395816697702\n",
      "0.111 219.536892123386 0.135440767714843 3.03457176559861\n",
      "0.167 332.956589345882 0.347911462047590 4.45449095077648\n",
      "0.222 484.802753513958 0.610920471703538 4.84970435073891\n",
      "0.278 664.891792850549 0.872667364121343 4.49177441287424\n",
      "0.333 853.147493807510 1.10607894231219 3.91606683179973\n",
      "0.389 1034.59479825654 1.31133716661766 3.52191649093681\n",
      "0.444 1204.74380468648 1.50311840523074 3.42905409724935\n",
      "0.5 1367.04196832391 1.69625729292704 3.54554751136236\n"
     ]
    }
   ],
   "source": [
    "import numpy as np\n",
    "\n",
    "nums = {\n",
    "    T1: 0.00025, #0.035 m / 140 rad from TSA test\n",
    "    T2: 5, #guess for leg movement/string contract\n",
    "    m_l: 0.5, #mass to push off ground\n",
    "    k: 3000, # no idea honestly\n",
    "    tau_max: 0.05, #N*m stall torque\n",
    "    omega_max: 3000, #about 10,000rpm free speed\n",
    "}\n",
    "\n",
    "ics_n = {x_a0:0, x_l0:0, v_l0:0}\n",
    "\n",
    "for ti in np.linspace(0, 0.5, 10):\n",
    "    x_a_ti = linsol_ics[0].subs(ics_n).subs(nums).subs(t,ti).n()\n",
    "    x_l_ti = linsol_ics[1].subs(ics_n).subs(nums).subs(t,ti).n()\n",
    "    v_l_ti = linsol_ics[2].subs(ics_n).subs(nums).subs(t,ti).n()\n",
    "    print(round(ti, 3), x_a_ti, x_l_ti, v_l_ti)\n"
   ]
  },
  {
   "cell_type": "code",
   "execution_count": 45,
   "metadata": {},
   "outputs": [
    {
     "name": "stdout",
     "output_type": "stream",
     "text": [
      "Represent solution at t=0 in Ax=b form\n",
      "A0:\n"
     ]
    },
    {
     "data": {
      "text/latex": [
       "$\\displaystyle \\left[\\begin{matrix}\\frac{1}{T_{1} T_{2}} & - \\frac{T_{1} T_{2} m_{l} \\omega_{max}}{\\tau_{max}} & - \\frac{T_{1} T_{2} m_{l} \\omega_{max}}{\\tau_{max}}\\\\1 & \\frac{T_{2} \\left(- T_{1}^{2} T_{2} k m_{l} \\omega_{max} + \\sqrt{k m_{l} \\left(T_{1}^{4} T_{2}^{2} k m_{l} \\omega_{max}^{2} - 4 \\tau_{max}^{2}\\right)}\\right)}{2 k \\tau_{max}} & \\frac{T_{2} \\left(- T_{1}^{2} T_{2} k m_{l} \\omega_{max} - \\sqrt{k m_{l} \\left(T_{1}^{4} T_{2}^{2} k m_{l} \\omega_{max}^{2} - 4 \\tau_{max}^{2}\\right)}\\right)}{2 k \\tau_{max}}\\\\0 & 1 & 1\\end{matrix}\\right]$"
      ],
      "text/plain": [
       "Matrix([\n",
       "[1/(T1*T2),                                                                               -T1*T2*m_l*omega_max/tau_max,                                                                               -T1*T2*m_l*omega_max/tau_max],\n",
       "[        1, T2*(-T1**2*T2*k*m_l*omega_max + sqrt(k*m_l*(T1**4*T2**2*k*m_l*omega_max**2 - 4*tau_max**2)))/(2*k*tau_max), T2*(-T1**2*T2*k*m_l*omega_max - sqrt(k*m_l*(T1**4*T2**2*k*m_l*omega_max**2 - 4*tau_max**2)))/(2*k*tau_max)],\n",
       "[        0,                                                                                                          1,                                                                                                          1]])"
      ]
     },
     "metadata": {},
     "output_type": "display_data"
    },
    {
     "name": "stdout",
     "output_type": "stream",
     "text": [
      "b0:\n"
     ]
    },
    {
     "data": {
      "text/latex": [
       "$\\displaystyle \\left[\\begin{matrix}\\frac{T_{1}^{2} T_{2}^{2} m_{l} \\omega_{max}^{2}}{\\tau_{max}}\\\\\\frac{T_{1}^{3} T_{2}^{3} m_{l} \\omega_{max}^{2}}{\\tau_{max}}\\\\- T_{1} T_{2} \\omega_{max}\\end{matrix}\\right]$"
      ],
      "text/plain": [
       "Matrix([\n",
       "[T1**2*T2**2*m_l*omega_max**2/tau_max],\n",
       "[T1**3*T2**3*m_l*omega_max**2/tau_max],\n",
       "[                    -T1*T2*omega_max]])"
      ]
     },
     "metadata": {},
     "output_type": "display_data"
    },
    {
     "name": "stdout",
     "output_type": "stream",
     "text": [
      "check if solution is accurately represented:\n"
     ]
    },
    {
     "data": {
      "text/latex": [
       "$\\displaystyle \\left[\\begin{matrix}- \\frac{T_{1}^{2} T_{2}^{2} m_{l} \\omega_{max}^{2}}{\\tau_{max}} - \\frac{T_{1} T_{2} a_{1} m_{l} \\omega_{max}}{\\tau_{max}} - \\frac{T_{1} T_{2} a_{2} m_{l} \\omega_{max}}{\\tau_{max}} + \\frac{a_{0}}{T_{1} T_{2}}\\\\- \\frac{T_{1}^{3} T_{2}^{3} m_{l} \\omega_{max}^{2}}{\\tau_{max}} - \\frac{T_{1}^{2} T_{2}^{2} a_{1} m_{l} \\omega_{max}}{2 \\tau_{max}} - \\frac{T_{1}^{2} T_{2}^{2} a_{2} m_{l} \\omega_{max}}{2 \\tau_{max}} + \\frac{T_{2} a_{1} \\sqrt{T_{1}^{4} T_{2}^{2} k^{2} m_{l}^{2} \\omega_{max}^{2} - 4 k m_{l} \\tau_{max}^{2}}}{2 k \\tau_{max}} - \\frac{T_{2} a_{2} \\sqrt{T_{1}^{4} T_{2}^{2} k^{2} m_{l}^{2} \\omega_{max}^{2} - 4 k m_{l} \\tau_{max}^{2}}}{2 k \\tau_{max}} + a_{0}\\\\T_{1} T_{2} \\omega_{max} + a_{1} + a_{2}\\end{matrix}\\right]$"
      ],
      "text/plain": [
       "Matrix([\n",
       "[                                                                                                                                                                                        -T1**2*T2**2*m_l*omega_max**2/tau_max - T1*T2*a1*m_l*omega_max/tau_max - T1*T2*a2*m_l*omega_max/tau_max + a0/(T1*T2)],\n",
       "[-T1**3*T2**3*m_l*omega_max**2/tau_max - T1**2*T2**2*a1*m_l*omega_max/(2*tau_max) - T1**2*T2**2*a2*m_l*omega_max/(2*tau_max) + T2*a1*sqrt(T1**4*T2**2*k**2*m_l**2*omega_max**2 - 4*k*m_l*tau_max**2)/(2*k*tau_max) - T2*a2*sqrt(T1**4*T2**2*k**2*m_l**2*omega_max**2 - 4*k*m_l*tau_max**2)/(2*k*tau_max) + a0],\n",
       "[                                                                                                                                                                                                                                                                                   T1*T2*omega_max + a1 + a2]])"
      ]
     },
     "metadata": {},
     "output_type": "display_data"
    },
    {
     "data": {
      "text/latex": [
       "$\\displaystyle \\left[\\begin{matrix}- \\frac{T_{1}^{2} T_{2}^{2} m_{l} \\omega_{max}^{2}}{\\tau_{max}} - \\frac{T_{1} T_{2} a_{1} m_{l} \\omega_{max}}{\\tau_{max}} - \\frac{T_{1} T_{2} a_{2} m_{l} \\omega_{max}}{\\tau_{max}} + \\frac{a_{0}}{T_{1} T_{2}}\\\\- \\frac{T_{1}^{3} T_{2}^{3} m_{l} \\omega_{max}^{2}}{\\tau_{max}} + \\frac{T_{2} a_{1} \\left(- T_{1}^{2} T_{2} k m_{l} \\omega_{max} + \\sqrt{k m_{l} \\left(T_{1}^{4} T_{2}^{2} k m_{l} \\omega_{max}^{2} - 4 \\tau_{max}^{2}\\right)}\\right)}{2 k \\tau_{max}} + \\frac{T_{2} a_{2} \\left(- T_{1}^{2} T_{2} k m_{l} \\omega_{max} - \\sqrt{k m_{l} \\left(T_{1}^{4} T_{2}^{2} k m_{l} \\omega_{max}^{2} - 4 \\tau_{max}^{2}\\right)}\\right)}{2 k \\tau_{max}} + a_{0}\\\\T_{1} T_{2} \\omega_{max} + a_{1} + a_{2}\\end{matrix}\\right]$"
      ],
      "text/plain": [
       "Matrix([\n",
       "[                                                                                                                                                      -T1**2*T2**2*m_l*omega_max**2/tau_max - T1*T2*a1*m_l*omega_max/tau_max - T1*T2*a2*m_l*omega_max/tau_max + a0/(T1*T2)],\n",
       "[-T1**3*T2**3*m_l*omega_max**2/tau_max + T2*a1*(-T1**2*T2*k*m_l*omega_max + sqrt(k*m_l*(T1**4*T2**2*k*m_l*omega_max**2 - 4*tau_max**2)))/(2*k*tau_max) + T2*a2*(-T1**2*T2*k*m_l*omega_max - sqrt(k*m_l*(T1**4*T2**2*k*m_l*omega_max**2 - 4*tau_max**2)))/(2*k*tau_max) + a0],\n",
       "[                                                                                                                                                                                                                                                 T1*T2*omega_max + a1 + a2]])"
      ]
     },
     "execution_count": 45,
     "metadata": {},
     "output_type": "execute_result"
    }
   ],
   "source": [
    "print(\"Represent solution at t=0 in Ax=b form\")\n",
    "a_syms = (a0, a1, a2)\n",
    "mat = linear_eq_to_matrix(linsol, a_syms)\n",
    "A0 = simplify(mat[0].subs({t:0}))\n",
    "A0_inv = simplify(A0.inv())\n",
    "b0 = simplify(mat[1].subs({t:0}))\n",
    "\n",
    "print(\"A0:\")\n",
    "display(A0)\n",
    "print(\"b0:\")\n",
    "display(b0)\n",
    "\n",
    "print(\"check if solution is accurately represented:\")\n",
    "display(Matrix([linsol[i].subs(t,0) for i in range(3)]))\n",
    "\n",
    "A0 @ Matrix(a_syms) - b0 #should be the same as linsol in previous cell"
   ]
  },
  {
   "cell_type": "code",
   "execution_count": 46,
   "metadata": {},
   "outputs": [
    {
     "name": "stdout",
     "output_type": "stream",
     "text": [
      "Solve for (a0, a1, a2) using initial conditions\n"
     ]
    },
    {
     "data": {
      "text/latex": [
       "$\\displaystyle \\left[\\begin{matrix}\\frac{T_{1} T_{2} \\left(T_{1} T_{2} m_{l} \\omega_{max} v_{l0} + \\tau_{max} x_{a0}\\right)}{\\tau_{max}}\\\\\\frac{T_{1}^{3} T_{2}^{3} k m_{l} \\omega_{max}^{2} - T_{1}^{2} T_{2}^{2} k m_{l} \\omega_{max} v_{l0} - T_{1} T_{2}^{2} \\omega_{max} \\sqrt{k m_{l} \\left(T_{1}^{4} T_{2}^{2} k m_{l} \\omega_{max}^{2} - 4 \\tau_{max}^{2}\\right)} - 2 T_{1} T_{2} k \\tau_{max} x_{a0} + T_{2} v_{l0} \\sqrt{k m_{l} \\left(T_{1}^{4} T_{2}^{2} k m_{l} \\omega_{max}^{2} - 4 \\tau_{max}^{2}\\right)} + 2 k \\tau_{max} x_{l0}}{2 T_{2} \\sqrt{k m_{l} \\left(T_{1}^{4} T_{2}^{2} k m_{l} \\omega_{max}^{2} - 4 \\tau_{max}^{2}\\right)}}\\\\\\frac{- T_{1}^{3} T_{2}^{3} k m_{l} \\omega_{max}^{2} + T_{1}^{2} T_{2}^{2} k m_{l} \\omega_{max} v_{l0} - T_{1} T_{2}^{2} \\omega_{max} \\sqrt{k m_{l} \\left(T_{1}^{4} T_{2}^{2} k m_{l} \\omega_{max}^{2} - 4 \\tau_{max}^{2}\\right)} + 2 T_{1} T_{2} k \\tau_{max} x_{a0} + T_{2} v_{l0} \\sqrt{k m_{l} \\left(T_{1}^{4} T_{2}^{2} k m_{l} \\omega_{max}^{2} - 4 \\tau_{max}^{2}\\right)} - 2 k \\tau_{max} x_{l0}}{2 T_{2} \\sqrt{k m_{l} \\left(T_{1}^{4} T_{2}^{2} k m_{l} \\omega_{max}^{2} - 4 \\tau_{max}^{2}\\right)}}\\end{matrix}\\right]$"
      ],
      "text/plain": [
       "Matrix([\n",
       "[                                                                                                                                                                                                                                                                                   T1*T2*(T1*T2*m_l*omega_max*v_l0 + tau_max*x_a0)/tau_max],\n",
       "[ (T1**3*T2**3*k*m_l*omega_max**2 - T1**2*T2**2*k*m_l*omega_max*v_l0 - T1*T2**2*omega_max*sqrt(k*m_l*(T1**4*T2**2*k*m_l*omega_max**2 - 4*tau_max**2)) - 2*T1*T2*k*tau_max*x_a0 + T2*v_l0*sqrt(k*m_l*(T1**4*T2**2*k*m_l*omega_max**2 - 4*tau_max**2)) + 2*k*tau_max*x_l0)/(2*T2*sqrt(k*m_l*(T1**4*T2**2*k*m_l*omega_max**2 - 4*tau_max**2)))],\n",
       "[(-T1**3*T2**3*k*m_l*omega_max**2 + T1**2*T2**2*k*m_l*omega_max*v_l0 - T1*T2**2*omega_max*sqrt(k*m_l*(T1**4*T2**2*k*m_l*omega_max**2 - 4*tau_max**2)) + 2*T1*T2*k*tau_max*x_a0 + T2*v_l0*sqrt(k*m_l*(T1**4*T2**2*k*m_l*omega_max**2 - 4*tau_max**2)) - 2*k*tau_max*x_l0)/(2*T2*sqrt(k*m_l*(T1**4*T2**2*k*m_l*omega_max**2 - 4*tau_max**2)))]])"
      ]
     },
     "execution_count": 46,
     "metadata": {},
     "output_type": "execute_result"
    }
   ],
   "source": [
    "print(f\"Solve for {a_syms} using initial conditions\")\n",
    "x_a0, x_l0, v_l0 = symbols('x_a0, x_l0, v_l0')\n",
    "ics = Matrix([x_a0, x_l0, v_l0])\n",
    "\n",
    "a_vals = simplify(A0_inv * (ics + b0))\n",
    "a_dict = {a_syms[i]: a_vals[i] for i in range(3)}\n",
    "\n",
    "a_vals"
   ]
  },
  {
   "cell_type": "code",
   "execution_count": 47,
   "metadata": {},
   "outputs": [
    {
     "name": "stdout",
     "output_type": "stream",
     "text": [
      "Substitute (a0, a1, a2) back and put back full expressions for s and r\n"
     ]
    },
    {
     "data": {
      "text/latex": [
       "$\\displaystyle - \\frac{T_{1}^{2} T_{2}^{2} m_{l} \\omega_{max}^{2}}{\\tau_{max}} - \\frac{T_{1} m_{l} \\omega_{max} \\left(- T_{1}^{3} T_{2}^{3} k m_{l} \\omega_{max}^{2} + T_{1}^{2} T_{2}^{2} k m_{l} \\omega_{max} v_{l0} - T_{1} T_{2}^{2} \\omega_{max} \\sqrt{k m_{l} \\left(T_{1}^{4} T_{2}^{2} k m_{l} \\omega_{max}^{2} - 4 \\tau_{max}^{2}\\right)} + 2 T_{1} T_{2} k \\tau_{max} x_{a0} + T_{2} v_{l0} \\sqrt{k m_{l} \\left(T_{1}^{4} T_{2}^{2} k m_{l} \\omega_{max}^{2} - 4 \\tau_{max}^{2}\\right)} - 2 k \\tau_{max} x_{l0}\\right) e^{- \\frac{T_{1}^{2} k \\omega_{max} t}{2 \\tau_{max}} + \\frac{t \\sqrt{T_{1}^{4} T_{2}^{2} k^{2} m_{l}^{2} \\omega_{max}^{2} - 4 k m_{l} \\tau_{max}^{2}}}{2 T_{2} m_{l} \\tau_{max}}}}{2 \\tau_{max} \\sqrt{k m_{l} \\left(T_{1}^{4} T_{2}^{2} k m_{l} \\omega_{max}^{2} - 4 \\tau_{max}^{2}\\right)}} - \\frac{T_{1} m_{l} \\omega_{max} \\left(T_{1}^{3} T_{2}^{3} k m_{l} \\omega_{max}^{2} - T_{1}^{2} T_{2}^{2} k m_{l} \\omega_{max} v_{l0} - T_{1} T_{2}^{2} \\omega_{max} \\sqrt{k m_{l} \\left(T_{1}^{4} T_{2}^{2} k m_{l} \\omega_{max}^{2} - 4 \\tau_{max}^{2}\\right)} - 2 T_{1} T_{2} k \\tau_{max} x_{a0} + T_{2} v_{l0} \\sqrt{k m_{l} \\left(T_{1}^{4} T_{2}^{2} k m_{l} \\omega_{max}^{2} - 4 \\tau_{max}^{2}\\right)} + 2 k \\tau_{max} x_{l0}\\right) e^{- \\frac{T_{1}^{2} k \\omega_{max} t}{2 \\tau_{max}} - \\frac{t \\sqrt{T_{1}^{4} T_{2}^{2} k^{2} m_{l}^{2} \\omega_{max}^{2} - 4 k m_{l} \\tau_{max}^{2}}}{2 T_{2} m_{l} \\tau_{max}}}}{2 \\tau_{max} \\sqrt{k m_{l} \\left(T_{1}^{4} T_{2}^{2} k m_{l} \\omega_{max}^{2} - 4 \\tau_{max}^{2}\\right)}} + \\omega_{max} t + \\frac{T_{1} T_{2} m_{l} \\omega_{max} v_{l0} + \\tau_{max} x_{a0}}{\\tau_{max}}$"
      ],
      "text/plain": [
       "-T1**2*T2**2*m_l*omega_max**2/tau_max - T1*m_l*omega_max*(-T1**3*T2**3*k*m_l*omega_max**2 + T1**2*T2**2*k*m_l*omega_max*v_l0 - T1*T2**2*omega_max*sqrt(k*m_l*(T1**4*T2**2*k*m_l*omega_max**2 - 4*tau_max**2)) + 2*T1*T2*k*tau_max*x_a0 + T2*v_l0*sqrt(k*m_l*(T1**4*T2**2*k*m_l*omega_max**2 - 4*tau_max**2)) - 2*k*tau_max*x_l0)*exp(-T1**2*k*omega_max*t/(2*tau_max) + t*sqrt(T1**4*T2**2*k**2*m_l**2*omega_max**2 - 4*k*m_l*tau_max**2)/(2*T2*m_l*tau_max))/(2*tau_max*sqrt(k*m_l*(T1**4*T2**2*k*m_l*omega_max**2 - 4*tau_max**2))) - T1*m_l*omega_max*(T1**3*T2**3*k*m_l*omega_max**2 - T1**2*T2**2*k*m_l*omega_max*v_l0 - T1*T2**2*omega_max*sqrt(k*m_l*(T1**4*T2**2*k*m_l*omega_max**2 - 4*tau_max**2)) - 2*T1*T2*k*tau_max*x_a0 + T2*v_l0*sqrt(k*m_l*(T1**4*T2**2*k*m_l*omega_max**2 - 4*tau_max**2)) + 2*k*tau_max*x_l0)*exp(-T1**2*k*omega_max*t/(2*tau_max) - t*sqrt(T1**4*T2**2*k**2*m_l**2*omega_max**2 - 4*k*m_l*tau_max**2)/(2*T2*m_l*tau_max))/(2*tau_max*sqrt(k*m_l*(T1**4*T2**2*k*m_l*omega_max**2 - 4*tau_max**2))) + omega_max*t + (T1*T2*m_l*omega_max*v_l0 + tau_max*x_a0)/tau_max"
      ]
     },
     "metadata": {},
     "output_type": "display_data"
    },
    {
     "data": {
      "text/latex": [
       "$\\displaystyle - \\frac{T_{1}^{3} T_{2}^{3} m_{l} \\omega_{max}^{2}}{\\tau_{max}} - \\frac{T_{1}^{2} T_{2} m_{l} \\omega_{max} \\left(- T_{1}^{3} T_{2}^{3} k m_{l} \\omega_{max}^{2} + T_{1}^{2} T_{2}^{2} k m_{l} \\omega_{max} v_{l0} - T_{1} T_{2}^{2} \\omega_{max} \\sqrt{k m_{l} \\left(T_{1}^{4} T_{2}^{2} k m_{l} \\omega_{max}^{2} - 4 \\tau_{max}^{2}\\right)} + 2 T_{1} T_{2} k \\tau_{max} x_{a0} + T_{2} v_{l0} \\sqrt{k m_{l} \\left(T_{1}^{4} T_{2}^{2} k m_{l} \\omega_{max}^{2} - 4 \\tau_{max}^{2}\\right)} - 2 k \\tau_{max} x_{l0}\\right) e^{- \\frac{T_{1}^{2} k \\omega_{max} t}{2 \\tau_{max}} + \\frac{t \\sqrt{T_{1}^{4} T_{2}^{2} k^{2} m_{l}^{2} \\omega_{max}^{2} - 4 k m_{l} \\tau_{max}^{2}}}{2 T_{2} m_{l} \\tau_{max}}}}{4 \\tau_{max} \\sqrt{k m_{l} \\left(T_{1}^{4} T_{2}^{2} k m_{l} \\omega_{max}^{2} - 4 \\tau_{max}^{2}\\right)}} - \\frac{T_{1}^{2} T_{2} m_{l} \\omega_{max} \\left(T_{1}^{3} T_{2}^{3} k m_{l} \\omega_{max}^{2} - T_{1}^{2} T_{2}^{2} k m_{l} \\omega_{max} v_{l0} - T_{1} T_{2}^{2} \\omega_{max} \\sqrt{k m_{l} \\left(T_{1}^{4} T_{2}^{2} k m_{l} \\omega_{max}^{2} - 4 \\tau_{max}^{2}\\right)} - 2 T_{1} T_{2} k \\tau_{max} x_{a0} + T_{2} v_{l0} \\sqrt{k m_{l} \\left(T_{1}^{4} T_{2}^{2} k m_{l} \\omega_{max}^{2} - 4 \\tau_{max}^{2}\\right)} + 2 k \\tau_{max} x_{l0}\\right) e^{- \\frac{T_{1}^{2} k \\omega_{max} t}{2 \\tau_{max}} - \\frac{t \\sqrt{T_{1}^{4} T_{2}^{2} k^{2} m_{l}^{2} \\omega_{max}^{2} - 4 k m_{l} \\tau_{max}^{2}}}{2 T_{2} m_{l} \\tau_{max}}}}{4 \\tau_{max} \\sqrt{k m_{l} \\left(T_{1}^{4} T_{2}^{2} k m_{l} \\omega_{max}^{2} - 4 \\tau_{max}^{2}\\right)}} + T_{1} T_{2} \\omega_{max} t + \\frac{T_{1} T_{2} \\left(T_{1} T_{2} m_{l} \\omega_{max} v_{l0} + \\tau_{max} x_{a0}\\right)}{\\tau_{max}} - \\frac{\\sqrt{T_{1}^{4} T_{2}^{2} k^{2} m_{l}^{2} \\omega_{max}^{2} - 4 k m_{l} \\tau_{max}^{2}} \\left(- T_{1}^{3} T_{2}^{3} k m_{l} \\omega_{max}^{2} + T_{1}^{2} T_{2}^{2} k m_{l} \\omega_{max} v_{l0} - T_{1} T_{2}^{2} \\omega_{max} \\sqrt{k m_{l} \\left(T_{1}^{4} T_{2}^{2} k m_{l} \\omega_{max}^{2} - 4 \\tau_{max}^{2}\\right)} + 2 T_{1} T_{2} k \\tau_{max} x_{a0} + T_{2} v_{l0} \\sqrt{k m_{l} \\left(T_{1}^{4} T_{2}^{2} k m_{l} \\omega_{max}^{2} - 4 \\tau_{max}^{2}\\right)} - 2 k \\tau_{max} x_{l0}\\right) e^{- \\frac{T_{1}^{2} k \\omega_{max} t}{2 \\tau_{max}} + \\frac{t \\sqrt{T_{1}^{4} T_{2}^{2} k^{2} m_{l}^{2} \\omega_{max}^{2} - 4 k m_{l} \\tau_{max}^{2}}}{2 T_{2} m_{l} \\tau_{max}}}}{4 k \\tau_{max} \\sqrt{k m_{l} \\left(T_{1}^{4} T_{2}^{2} k m_{l} \\omega_{max}^{2} - 4 \\tau_{max}^{2}\\right)}} + \\frac{\\sqrt{T_{1}^{4} T_{2}^{2} k^{2} m_{l}^{2} \\omega_{max}^{2} - 4 k m_{l} \\tau_{max}^{2}} \\left(T_{1}^{3} T_{2}^{3} k m_{l} \\omega_{max}^{2} - T_{1}^{2} T_{2}^{2} k m_{l} \\omega_{max} v_{l0} - T_{1} T_{2}^{2} \\omega_{max} \\sqrt{k m_{l} \\left(T_{1}^{4} T_{2}^{2} k m_{l} \\omega_{max}^{2} - 4 \\tau_{max}^{2}\\right)} - 2 T_{1} T_{2} k \\tau_{max} x_{a0} + T_{2} v_{l0} \\sqrt{k m_{l} \\left(T_{1}^{4} T_{2}^{2} k m_{l} \\omega_{max}^{2} - 4 \\tau_{max}^{2}\\right)} + 2 k \\tau_{max} x_{l0}\\right) e^{- \\frac{T_{1}^{2} k \\omega_{max} t}{2 \\tau_{max}} - \\frac{t \\sqrt{T_{1}^{4} T_{2}^{2} k^{2} m_{l}^{2} \\omega_{max}^{2} - 4 k m_{l} \\tau_{max}^{2}}}{2 T_{2} m_{l} \\tau_{max}}}}{4 k \\tau_{max} \\sqrt{k m_{l} \\left(T_{1}^{4} T_{2}^{2} k m_{l} \\omega_{max}^{2} - 4 \\tau_{max}^{2}\\right)}}$"
      ],
      "text/plain": [
       "-T1**3*T2**3*m_l*omega_max**2/tau_max - T1**2*T2*m_l*omega_max*(-T1**3*T2**3*k*m_l*omega_max**2 + T1**2*T2**2*k*m_l*omega_max*v_l0 - T1*T2**2*omega_max*sqrt(k*m_l*(T1**4*T2**2*k*m_l*omega_max**2 - 4*tau_max**2)) + 2*T1*T2*k*tau_max*x_a0 + T2*v_l0*sqrt(k*m_l*(T1**4*T2**2*k*m_l*omega_max**2 - 4*tau_max**2)) - 2*k*tau_max*x_l0)*exp(-T1**2*k*omega_max*t/(2*tau_max) + t*sqrt(T1**4*T2**2*k**2*m_l**2*omega_max**2 - 4*k*m_l*tau_max**2)/(2*T2*m_l*tau_max))/(4*tau_max*sqrt(k*m_l*(T1**4*T2**2*k*m_l*omega_max**2 - 4*tau_max**2))) - T1**2*T2*m_l*omega_max*(T1**3*T2**3*k*m_l*omega_max**2 - T1**2*T2**2*k*m_l*omega_max*v_l0 - T1*T2**2*omega_max*sqrt(k*m_l*(T1**4*T2**2*k*m_l*omega_max**2 - 4*tau_max**2)) - 2*T1*T2*k*tau_max*x_a0 + T2*v_l0*sqrt(k*m_l*(T1**4*T2**2*k*m_l*omega_max**2 - 4*tau_max**2)) + 2*k*tau_max*x_l0)*exp(-T1**2*k*omega_max*t/(2*tau_max) - t*sqrt(T1**4*T2**2*k**2*m_l**2*omega_max**2 - 4*k*m_l*tau_max**2)/(2*T2*m_l*tau_max))/(4*tau_max*sqrt(k*m_l*(T1**4*T2**2*k*m_l*omega_max**2 - 4*tau_max**2))) + T1*T2*omega_max*t + T1*T2*(T1*T2*m_l*omega_max*v_l0 + tau_max*x_a0)/tau_max - sqrt(T1**4*T2**2*k**2*m_l**2*omega_max**2 - 4*k*m_l*tau_max**2)*(-T1**3*T2**3*k*m_l*omega_max**2 + T1**2*T2**2*k*m_l*omega_max*v_l0 - T1*T2**2*omega_max*sqrt(k*m_l*(T1**4*T2**2*k*m_l*omega_max**2 - 4*tau_max**2)) + 2*T1*T2*k*tau_max*x_a0 + T2*v_l0*sqrt(k*m_l*(T1**4*T2**2*k*m_l*omega_max**2 - 4*tau_max**2)) - 2*k*tau_max*x_l0)*exp(-T1**2*k*omega_max*t/(2*tau_max) + t*sqrt(T1**4*T2**2*k**2*m_l**2*omega_max**2 - 4*k*m_l*tau_max**2)/(2*T2*m_l*tau_max))/(4*k*tau_max*sqrt(k*m_l*(T1**4*T2**2*k*m_l*omega_max**2 - 4*tau_max**2))) + sqrt(T1**4*T2**2*k**2*m_l**2*omega_max**2 - 4*k*m_l*tau_max**2)*(T1**3*T2**3*k*m_l*omega_max**2 - T1**2*T2**2*k*m_l*omega_max*v_l0 - T1*T2**2*omega_max*sqrt(k*m_l*(T1**4*T2**2*k*m_l*omega_max**2 - 4*tau_max**2)) - 2*T1*T2*k*tau_max*x_a0 + T2*v_l0*sqrt(k*m_l*(T1**4*T2**2*k*m_l*omega_max**2 - 4*tau_max**2)) + 2*k*tau_max*x_l0)*exp(-T1**2*k*omega_max*t/(2*tau_max) - t*sqrt(T1**4*T2**2*k**2*m_l**2*omega_max**2 - 4*k*m_l*tau_max**2)/(2*T2*m_l*tau_max))/(4*k*tau_max*sqrt(k*m_l*(T1**4*T2**2*k*m_l*omega_max**2 - 4*tau_max**2)))"
      ]
     },
     "metadata": {},
     "output_type": "display_data"
    },
    {
     "data": {
      "text/latex": [
       "$\\displaystyle T_{1} T_{2} \\omega_{max} + \\frac{\\left(- T_{1}^{3} T_{2}^{3} k m_{l} \\omega_{max}^{2} + T_{1}^{2} T_{2}^{2} k m_{l} \\omega_{max} v_{l0} - T_{1} T_{2}^{2} \\omega_{max} \\sqrt{k m_{l} \\left(T_{1}^{4} T_{2}^{2} k m_{l} \\omega_{max}^{2} - 4 \\tau_{max}^{2}\\right)} + 2 T_{1} T_{2} k \\tau_{max} x_{a0} + T_{2} v_{l0} \\sqrt{k m_{l} \\left(T_{1}^{4} T_{2}^{2} k m_{l} \\omega_{max}^{2} - 4 \\tau_{max}^{2}\\right)} - 2 k \\tau_{max} x_{l0}\\right) e^{- \\frac{T_{1}^{2} k \\omega_{max} t}{2 \\tau_{max}} + \\frac{t \\sqrt{T_{1}^{4} T_{2}^{2} k^{2} m_{l}^{2} \\omega_{max}^{2} - 4 k m_{l} \\tau_{max}^{2}}}{2 T_{2} m_{l} \\tau_{max}}}}{2 T_{2} \\sqrt{k m_{l} \\left(T_{1}^{4} T_{2}^{2} k m_{l} \\omega_{max}^{2} - 4 \\tau_{max}^{2}\\right)}} + \\frac{\\left(T_{1}^{3} T_{2}^{3} k m_{l} \\omega_{max}^{2} - T_{1}^{2} T_{2}^{2} k m_{l} \\omega_{max} v_{l0} - T_{1} T_{2}^{2} \\omega_{max} \\sqrt{k m_{l} \\left(T_{1}^{4} T_{2}^{2} k m_{l} \\omega_{max}^{2} - 4 \\tau_{max}^{2}\\right)} - 2 T_{1} T_{2} k \\tau_{max} x_{a0} + T_{2} v_{l0} \\sqrt{k m_{l} \\left(T_{1}^{4} T_{2}^{2} k m_{l} \\omega_{max}^{2} - 4 \\tau_{max}^{2}\\right)} + 2 k \\tau_{max} x_{l0}\\right) e^{- \\frac{T_{1}^{2} k \\omega_{max} t}{2 \\tau_{max}} - \\frac{t \\sqrt{T_{1}^{4} T_{2}^{2} k^{2} m_{l}^{2} \\omega_{max}^{2} - 4 k m_{l} \\tau_{max}^{2}}}{2 T_{2} m_{l} \\tau_{max}}}}{2 T_{2} \\sqrt{k m_{l} \\left(T_{1}^{4} T_{2}^{2} k m_{l} \\omega_{max}^{2} - 4 \\tau_{max}^{2}\\right)}}$"
      ],
      "text/plain": [
       "T1*T2*omega_max + (-T1**3*T2**3*k*m_l*omega_max**2 + T1**2*T2**2*k*m_l*omega_max*v_l0 - T1*T2**2*omega_max*sqrt(k*m_l*(T1**4*T2**2*k*m_l*omega_max**2 - 4*tau_max**2)) + 2*T1*T2*k*tau_max*x_a0 + T2*v_l0*sqrt(k*m_l*(T1**4*T2**2*k*m_l*omega_max**2 - 4*tau_max**2)) - 2*k*tau_max*x_l0)*exp(-T1**2*k*omega_max*t/(2*tau_max) + t*sqrt(T1**4*T2**2*k**2*m_l**2*omega_max**2 - 4*k*m_l*tau_max**2)/(2*T2*m_l*tau_max))/(2*T2*sqrt(k*m_l*(T1**4*T2**2*k*m_l*omega_max**2 - 4*tau_max**2))) + (T1**3*T2**3*k*m_l*omega_max**2 - T1**2*T2**2*k*m_l*omega_max*v_l0 - T1*T2**2*omega_max*sqrt(k*m_l*(T1**4*T2**2*k*m_l*omega_max**2 - 4*tau_max**2)) - 2*T1*T2*k*tau_max*x_a0 + T2*v_l0*sqrt(k*m_l*(T1**4*T2**2*k*m_l*omega_max**2 - 4*tau_max**2)) + 2*k*tau_max*x_l0)*exp(-T1**2*k*omega_max*t/(2*tau_max) - t*sqrt(T1**4*T2**2*k**2*m_l**2*omega_max**2 - 4*k*m_l*tau_max**2)/(2*T2*m_l*tau_max))/(2*T2*sqrt(k*m_l*(T1**4*T2**2*k*m_l*omega_max**2 - 4*tau_max**2)))"
      ]
     },
     "metadata": {},
     "output_type": "display_data"
    }
   ],
   "source": [
    "print(f\"Substitute {a_syms} back and put back full expressions for s and r\")\n",
    "\n",
    "linsol_ics_pos = []\n",
    "for i in range(3):\n",
    "    temp = linsol[i].subs(a_dict)\n",
    "    # temp = temp.simplify() #actually increases the operations after cse()\n",
    "    display(temp)\n",
    "    linsol_ics_pos.append(temp)"
   ]
  },
  {
   "cell_type": "code",
   "execution_count": 48,
   "metadata": {},
   "outputs": [
    {
     "name": "stdout",
     "output_type": "stream",
     "text": [
      "# 127 operations\n",
      "x0 = T2**2\n",
      "x1 = omega_max**2\n",
      "x2 = x0*x1\n",
      "x3 = 1/tau_max\n",
      "x4 = T1**2\n",
      "x5 = x3*x4\n",
      "x6 = m_l*x5\n",
      "x7 = tau_max*x_a0\n",
      "x8 = T2*v_l0\n",
      "x9 = T1*omega_max\n",
      "x10 = m_l*x9\n",
      "x11 = x10*x8 + x7\n",
      "x12 = 4*tau_max**2\n",
      "x13 = k*m_l\n",
      "x14 = T1**4*x2\n",
      "x15 = math.sqrt(x13*(-x12 + x13*x14))\n",
      "x16 = 1/x15\n",
      "x17 = x0*x15*x9\n",
      "x18 = 2*k\n",
      "x19 = T1**3*T2**3*x1\n",
      "x20 = -T1*T2*x18*x7 - omega_max*v_l0*x0*x13*x4 + tau_max*x18*x_l0 + x13*x19\n",
      "x21 = (1/2)*k*omega_max*t*x5\n",
      "x22 = (1/2)/T2\n",
      "x23 = math.sqrt(k**2*m_l**2*x14 - x12*x13)\n",
      "x24 = x23*x3\n",
      "x25 = t*x22*x24/m_l\n",
      "x26 = (T2*v_l0*x15 - x17 - x20)*math.exp(-x21 + x25)\n",
      "x27 = x16*x26\n",
      "x28 = (1/2)*x10*x3\n",
      "x29 = x15*x8 - x17 + x20\n",
      "x30 = math.exp(-x21 - x25)\n",
      "x31 = x29*x30\n",
      "x32 = x16*x31\n",
      "x33 = (1/4)*x27\n",
      "x34 = T2*omega_max*x6\n",
      "x35 = 1/k\n",
      "x36 = x16*x22\n",
      "x_a_pos = omega_max*t + x11*x3 - x2*x6 - x27*x28 - x28*x32\n",
      "x_l_pos = T1*T2*omega_max*t + T1*T2*x11*x3 - m_l*x19*x3 + (1/4)*x16*x23*x29*x3*x30*x35 - x24*x33*x35 - 1/4*x32*x34 - x33*x34\n",
      "v_l_pos = T2*x9 + x26*x36 + x31*x36\n"
     ]
    }
   ],
   "source": [
    "from sympy.codegen.ast import CodeBlock, Assignment\n",
    "\n",
    "x_a_pos, x_l_pos, v_l_pos = symbols('x_a_pos, x_l_pos, v_l_pos')\n",
    "\n",
    "code = CodeBlock(\n",
    "    Assignment(x_a_pos, linsol_ics_pos[0]),\n",
    "    Assignment(x_l_pos, linsol_ics_pos[1]),\n",
    "    Assignment(v_l_pos, linsol_ics_pos[2]),\n",
    ").cse()\n",
    "\n",
    "print(f\"# {count_ops(code)} operations\")\n",
    "\n",
    "print(pycode(code))"
   ]
  },
  {
   "cell_type": "code",
   "execution_count": 49,
   "metadata": {},
   "outputs": [
    {
     "name": "stdout",
     "output_type": "stream",
     "text": [
      "# 188 operations\n",
      "x0 = 1/tau_max\n",
      "x1 = T1*T2\n",
      "x2 = omega_max*x1\n",
      "x3 = (1/2)*v_l0 - 1/2*x2\n",
      "x4 = tau_max**2\n",
      "x5 = omega_max**2\n",
      "x6 = T2**2\n",
      "x7 = T1**4*x5*x6\n",
      "x8 = k**2*m_l**2*x7 - 4*k*m_l*x4\n",
      "x9 = math.sqrt(-x8)\n",
      "x10 = 1/T2\n",
      "x11 = (1/2)*x0\n",
      "x12 = t*x10*x11/m_l\n",
      "x13 = x12*x9\n",
      "x14 = T1**2\n",
      "x15 = x0*x14\n",
      "x16 = (1/2)*x15\n",
      "x17 = k*omega_max*t*x16\n",
      "x18 = math.exp(-x17)\n",
      "x19 = x18*math.cos(x13)\n",
      "x20 = x19*x3\n",
      "x21 = 2*x20\n",
      "x22 = T1*omega_max\n",
      "x23 = k*m_l\n",
      "x24 = 2*tau_max*x_l0\n",
      "x25 = m_l*x5\n",
      "x26 = T1**3*T2**3\n",
      "x27 = x25*x26\n",
      "x28 = 2*T1*T2*tau_max*x_a0 + m_l*omega_max*v_l0*x14*x6 - x24 - x27\n",
      "x29 = math.sin(x13)\n",
      "x30 = x18*x28*x29/x9\n",
      "x31 = x23*x30\n",
      "x32 = tau_max*x_a0\n",
      "x33 = m_l*v_l0*x2 + x32\n",
      "x34 = -omega_max*t - x0*x33 + x15*x25*x6\n",
      "x35 = 1/k\n",
      "x36 = omega_max*x6\n",
      "x37 = m_l*x15\n",
      "x38 = T2*omega_max\n",
      "x39 = -T1*T2*omega_max*t - T1*T2*x0*x33 + x0*x27\n",
      "x40 = math.sqrt(x23*(x23*x7 - 4*x4))\n",
      "x41 = 1/x40\n",
      "x42 = T1*x36*x40\n",
      "x43 = -2*k*x1*x32 + k*x24 - v_l0*x14*x23*x36 + x23*x26*x5\n",
      "x44 = math.sqrt(x8)\n",
      "x45 = x12*x44\n",
      "x46 = (T2*v_l0*x40 - x42 - x43)*math.exp(-x17 + x45)\n",
      "x47 = x41*x46\n",
      "x48 = m_l*x11*x22\n",
      "x49 = T2*v_l0*x40 - x42 + x43\n",
      "x50 = math.exp(-x17 - x45)\n",
      "x51 = x49*x50\n",
      "x52 = x41*x51\n",
      "x53 = (1/4)*x47\n",
      "x54 = x37*x38\n",
      "x55 = (1/2)*x10*x41\n",
      "x_a_neg = -m_l*x0*x2*x21 - x0*x22*x31 - x34\n",
      "x_l_neg = T2*x0*x18*x29*x3*x35*x9 - x11*x19*x28 - x16*x31*x38 - x20*x36*x37 - x39\n",
      "v_l_neg = k*x10*x30 + x2 + x21\n",
      "x_a_pos = -x34 - x47*x48 - x48*x52\n",
      "x_l_pos = (1/4)*x0*x35*x41*x44*x49*x50 - x0*x35*x44*x53 - x39 - 1/4*x52*x54 - x53*x54\n",
      "v_l_pos = x2 + x46*x55 + x51*x55\n"
     ]
    }
   ],
   "source": [
    "x_a_neg, x_l_neg, v_l_neg = symbols('x_a_neg, x_l_neg, v_l_neg')\n",
    "\n",
    "code = CodeBlock(\n",
    "    Assignment(x_a_neg, linsol_ics[0]),\n",
    "    Assignment(x_l_neg, linsol_ics[1]),\n",
    "    Assignment(v_l_neg, linsol_ics[2]),\n",
    "    Assignment(x_a_pos, linsol_ics_pos[0]),\n",
    "    Assignment(x_l_pos, linsol_ics_pos[1]),\n",
    "    Assignment(v_l_pos, linsol_ics_pos[2]),\n",
    ").cse()\n",
    "\n",
    "print(f\"# {count_ops(code)} operations\")\n",
    "print(pycode(code))"
   ]
  },
  {
   "cell_type": "code",
   "execution_count": 50,
   "metadata": {},
   "outputs": [
    {
     "data": {
      "text/latex": [
       "$\\displaystyle \\frac{\\left(C_{os} R_{ad} \\left(T_{1}^{2} T_{2}^{2} m_{l} \\omega_{max}^{2} - T_{1} T_{2} m_{l} \\omega_{max} v_{l0}\\right) + R_{ad} \\left(- T_{1}^{2} T_{2}^{2} m_{l} \\omega_{max}^{2} e^{\\frac{T_{1}^{2} k \\omega_{max} t}{2 \\tau_{max}}} + T_{1} T_{2} m_{l} \\omega_{max} v_{l0} e^{\\frac{T_{1}^{2} k \\omega_{max} t}{2 \\tau_{max}}} + \\omega_{max} t \\tau_{max} e^{\\frac{T_{1}^{2} k \\omega_{max} t}{2 \\tau_{max}}} + \\tau_{max} x_{a0} e^{\\frac{T_{1}^{2} k \\omega_{max} t}{2 \\tau_{max}}}\\right) + S_{in} \\left(T_{1}^{4} T_{2}^{3} k m_{l}^{2} \\omega_{max}^{3} - T_{1}^{3} T_{2}^{2} k m_{l}^{2} \\omega_{max}^{2} v_{l0} - 2 T_{1}^{2} T_{2} k m_{l} \\omega_{max} \\tau_{max} x_{a0} + 2 T_{1} k m_{l} \\omega_{max} \\tau_{max} x_{l0}\\right)\\right) e^{- \\frac{T_{1}^{2} k \\omega_{max} t}{2 \\tau_{max}}}}{R_{ad} \\tau_{max}}$"
      ],
      "text/plain": [
       "(C_os*R_ad*(T1**2*T2**2*m_l*omega_max**2 - T1*T2*m_l*omega_max*v_l0) + R_ad*(-T1**2*T2**2*m_l*omega_max**2*exp(T1**2*k*omega_max*t/(2*tau_max)) + T1*T2*m_l*omega_max*v_l0*exp(T1**2*k*omega_max*t/(2*tau_max)) + omega_max*t*tau_max*exp(T1**2*k*omega_max*t/(2*tau_max)) + tau_max*x_a0*exp(T1**2*k*omega_max*t/(2*tau_max))) + S_in*(T1**4*T2**3*k*m_l**2*omega_max**3 - T1**3*T2**2*k*m_l**2*omega_max**2*v_l0 - 2*T1**2*T2*k*m_l*omega_max*tau_max*x_a0 + 2*T1*k*m_l*omega_max*tau_max*x_l0))*exp(-T1**2*k*omega_max*t/(2*tau_max))/(R_ad*tau_max)"
      ]
     },
     "metadata": {},
     "output_type": "display_data"
    },
    {
     "data": {
      "text/latex": [
       "$\\displaystyle \\frac{\\left(C_{os} R_{ad} \\left(2 T_{1}^{3} T_{2}^{3} k m_{l} \\omega_{max}^{2} - 2 T_{1}^{2} T_{2}^{2} k m_{l} \\omega_{max} v_{l0} - 2 T_{1} T_{2} k \\tau_{max} x_{a0} + 2 k \\tau_{max} x_{l0}\\right) + R_{ad}^{2} S_{in} \\left(- T_{1} T_{2}^{2} \\omega_{max} + T_{2} v_{l0}\\right) + R_{ad} \\left(- 2 T_{1}^{3} T_{2}^{3} k m_{l} \\omega_{max}^{2} e^{\\frac{T_{1}^{2} k \\omega_{max} t}{2 \\tau_{max}}} + 2 T_{1}^{2} T_{2}^{2} k m_{l} \\omega_{max} v_{l0} e^{\\frac{T_{1}^{2} k \\omega_{max} t}{2 \\tau_{max}}} + 2 T_{1} T_{2} k \\omega_{max} t \\tau_{max} e^{\\frac{T_{1}^{2} k \\omega_{max} t}{2 \\tau_{max}}} + 2 T_{1} T_{2} k \\tau_{max} x_{a0} e^{\\frac{T_{1}^{2} k \\omega_{max} t}{2 \\tau_{max}}}\\right) + S_{in} \\left(T_{1}^{5} T_{2}^{4} k^{2} m_{l}^{2} \\omega_{max}^{3} - T_{1}^{4} T_{2}^{3} k^{2} m_{l}^{2} \\omega_{max}^{2} v_{l0} - 2 T_{1}^{3} T_{2}^{2} k^{2} m_{l} \\omega_{max} \\tau_{max} x_{a0} + 2 T_{1}^{2} T_{2} k^{2} m_{l} \\omega_{max} \\tau_{max} x_{l0}\\right)\\right) e^{- \\frac{T_{1}^{2} k \\omega_{max} t}{2 \\tau_{max}}}}{2 R_{ad} k \\tau_{max}}$"
      ],
      "text/plain": [
       "(C_os*R_ad*(2*T1**3*T2**3*k*m_l*omega_max**2 - 2*T1**2*T2**2*k*m_l*omega_max*v_l0 - 2*T1*T2*k*tau_max*x_a0 + 2*k*tau_max*x_l0) + R_ad**2*S_in*(-T1*T2**2*omega_max + T2*v_l0) + R_ad*(-2*T1**3*T2**3*k*m_l*omega_max**2*exp(T1**2*k*omega_max*t/(2*tau_max)) + 2*T1**2*T2**2*k*m_l*omega_max*v_l0*exp(T1**2*k*omega_max*t/(2*tau_max)) + 2*T1*T2*k*omega_max*t*tau_max*exp(T1**2*k*omega_max*t/(2*tau_max)) + 2*T1*T2*k*tau_max*x_a0*exp(T1**2*k*omega_max*t/(2*tau_max))) + S_in*(T1**5*T2**4*k**2*m_l**2*omega_max**3 - T1**4*T2**3*k**2*m_l**2*omega_max**2*v_l0 - 2*T1**3*T2**2*k**2*m_l*omega_max*tau_max*x_a0 + 2*T1**2*T2*k**2*m_l*omega_max*tau_max*x_l0))*exp(-T1**2*k*omega_max*t/(2*tau_max))/(2*R_ad*k*tau_max)"
      ]
     },
     "metadata": {},
     "output_type": "display_data"
    },
    {
     "data": {
      "text/latex": [
       "$\\displaystyle \\frac{\\left(C_{os} R_{ad} \\left(- T_{1} T_{2}^{2} \\omega_{max} + T_{2} v_{l0}\\right) + R_{ad} T_{1} T_{2}^{2} \\omega_{max} e^{\\frac{T_{1}^{2} k \\omega_{max} t}{2 \\tau_{max}}} + S_{in} \\left(- T_{1}^{3} T_{2}^{3} k m_{l} \\omega_{max}^{2} + T_{1}^{2} T_{2}^{2} k m_{l} \\omega_{max} v_{l0} + 2 T_{1} T_{2} k \\tau_{max} x_{a0} - 2 k \\tau_{max} x_{l0}\\right)\\right) e^{- \\frac{T_{1}^{2} k \\omega_{max} t}{2 \\tau_{max}}}}{R_{ad} T_{2}}$"
      ],
      "text/plain": [
       "(C_os*R_ad*(-T1*T2**2*omega_max + T2*v_l0) + R_ad*T1*T2**2*omega_max*exp(T1**2*k*omega_max*t/(2*tau_max)) + S_in*(-T1**3*T2**3*k*m_l*omega_max**2 + T1**2*T2**2*k*m_l*omega_max*v_l0 + 2*T1*T2*k*tau_max*x_a0 - 2*k*tau_max*x_l0))*exp(-T1**2*k*omega_max*t/(2*tau_max))/(R_ad*T2)"
      ]
     },
     "metadata": {},
     "output_type": "display_data"
    }
   ],
   "source": [
    "S_in, C_os, R_ad = symbols('S_in, C_os, R_ad')\n",
    "trig_dict = {\n",
    "    sin((t/(2*T2*m_l*tau_max)) * sqrt(-T1**4*T2**2*k**2*m_l**2*omega_max**2 + 4*k*m_l*tau_max**2)): S_in,\n",
    "    cos((t/(2*T2*m_l*tau_max)) * sqrt(-T1**4*T2**2*k**2*m_l**2*omega_max**2 + 4*k*m_l*tau_max**2)): C_os,\n",
    "    sqrt(-T1**4*T2**2*k**2*m_l**2*omega_max**2 + 4*k*m_l*tau_max**2): R_ad,\n",
    "}\n",
    "\n",
    "for i in range(3):\n",
    "    display(factor(linsol_ics[i].subs(trig_dict), [S_in, C_os, R_ad]))\n",
    "    # display(linsol_ics[i].subs(trig_dict))"
   ]
  },
  {
   "cell_type": "code",
   "execution_count": 51,
   "metadata": {},
   "outputs": [
    {
     "data": {
      "text/latex": [
       "$\\displaystyle \\frac{\\left(C_{os} \\left(T_{1}^{2} T_{2}^{2} m_{l} \\omega_{max}^{2} - T_{1} T_{2} m_{l} \\omega_{max} v_{l0}\\right) - T_{1}^{2} T_{2}^{2} m_{l} \\omega_{max}^{2} e^{\\frac{T_{1}^{2} k \\omega_{max} t}{2 \\tau_{max}}} + T_{1} T_{2} m_{l} \\omega_{max} v_{l0} e^{\\frac{T_{1}^{2} k \\omega_{max} t}{2 \\tau_{max}}} + \\omega_{max} t \\tau_{max} e^{\\frac{T_{1}^{2} k \\omega_{max} t}{2 \\tau_{max}}} + \\tau_{max} x_{a0} e^{\\frac{T_{1}^{2} k \\omega_{max} t}{2 \\tau_{max}}} + \\frac{S_{in} \\left(T_{1}^{4} T_{2}^{3} k m_{l}^{2} \\omega_{max}^{3} - T_{1}^{3} T_{2}^{2} k m_{l}^{2} \\omega_{max}^{2} v_{l0} - 2 T_{1}^{2} T_{2} k m_{l} \\omega_{max} \\tau_{max} x_{a0} + 2 T_{1} k m_{l} \\omega_{max} \\tau_{max} x_{l0}\\right)}{R_{ad}}\\right) e^{- \\frac{T_{1}^{2} k \\omega_{max} t}{2 \\tau_{max}}}}{\\tau_{max}}$"
      ],
      "text/plain": [
       "(C_os*(T1**2*T2**2*m_l*omega_max**2 - T1*T2*m_l*omega_max*v_l0) - T1**2*T2**2*m_l*omega_max**2*exp(T1**2*k*omega_max*t/(2*tau_max)) + T1*T2*m_l*omega_max*v_l0*exp(T1**2*k*omega_max*t/(2*tau_max)) + omega_max*t*tau_max*exp(T1**2*k*omega_max*t/(2*tau_max)) + tau_max*x_a0*exp(T1**2*k*omega_max*t/(2*tau_max)) + S_in*(T1**4*T2**3*k*m_l**2*omega_max**3 - T1**3*T2**2*k*m_l**2*omega_max**2*v_l0 - 2*T1**2*T2*k*m_l*omega_max*tau_max*x_a0 + 2*T1*k*m_l*omega_max*tau_max*x_l0)/R_ad)*exp(-T1**2*k*omega_max*t/(2*tau_max))/tau_max"
      ]
     },
     "metadata": {},
     "output_type": "display_data"
    },
    {
     "data": {
      "text/latex": [
       "$\\displaystyle \\frac{\\left(C_{os} \\left(2 T_{1}^{3} T_{2}^{3} k m_{l} \\omega_{max}^{2} - 2 T_{1}^{2} T_{2}^{2} k m_{l} \\omega_{max} v_{l0} - 2 T_{1} T_{2} k \\tau_{max} x_{a0} + 2 k \\tau_{max} x_{l0}\\right) + R_{ad} S_{in} \\left(- T_{1} T_{2}^{2} \\omega_{max} + T_{2} v_{l0}\\right) - 2 T_{1}^{3} T_{2}^{3} k m_{l} \\omega_{max}^{2} e^{\\frac{T_{1}^{2} k \\omega_{max} t}{2 \\tau_{max}}} + 2 T_{1}^{2} T_{2}^{2} k m_{l} \\omega_{max} v_{l0} e^{\\frac{T_{1}^{2} k \\omega_{max} t}{2 \\tau_{max}}} + 2 T_{1} T_{2} k \\omega_{max} t \\tau_{max} e^{\\frac{T_{1}^{2} k \\omega_{max} t}{2 \\tau_{max}}} + 2 T_{1} T_{2} k \\tau_{max} x_{a0} e^{\\frac{T_{1}^{2} k \\omega_{max} t}{2 \\tau_{max}}} + \\frac{S_{in} \\left(T_{1}^{5} T_{2}^{4} k^{2} m_{l}^{2} \\omega_{max}^{3} - T_{1}^{4} T_{2}^{3} k^{2} m_{l}^{2} \\omega_{max}^{2} v_{l0} - 2 T_{1}^{3} T_{2}^{2} k^{2} m_{l} \\omega_{max} \\tau_{max} x_{a0} + 2 T_{1}^{2} T_{2} k^{2} m_{l} \\omega_{max} \\tau_{max} x_{l0}\\right)}{R_{ad}}\\right) e^{- \\frac{T_{1}^{2} k \\omega_{max} t}{2 \\tau_{max}}}}{2 k \\tau_{max}}$"
      ],
      "text/plain": [
       "(C_os*(2*T1**3*T2**3*k*m_l*omega_max**2 - 2*T1**2*T2**2*k*m_l*omega_max*v_l0 - 2*T1*T2*k*tau_max*x_a0 + 2*k*tau_max*x_l0) + R_ad*S_in*(-T1*T2**2*omega_max + T2*v_l0) - 2*T1**3*T2**3*k*m_l*omega_max**2*exp(T1**2*k*omega_max*t/(2*tau_max)) + 2*T1**2*T2**2*k*m_l*omega_max*v_l0*exp(T1**2*k*omega_max*t/(2*tau_max)) + 2*T1*T2*k*omega_max*t*tau_max*exp(T1**2*k*omega_max*t/(2*tau_max)) + 2*T1*T2*k*tau_max*x_a0*exp(T1**2*k*omega_max*t/(2*tau_max)) + S_in*(T1**5*T2**4*k**2*m_l**2*omega_max**3 - T1**4*T2**3*k**2*m_l**2*omega_max**2*v_l0 - 2*T1**3*T2**2*k**2*m_l*omega_max*tau_max*x_a0 + 2*T1**2*T2*k**2*m_l*omega_max*tau_max*x_l0)/R_ad)*exp(-T1**2*k*omega_max*t/(2*tau_max))/(2*k*tau_max)"
      ]
     },
     "metadata": {},
     "output_type": "display_data"
    },
    {
     "data": {
      "text/latex": [
       "$\\displaystyle \\frac{\\left(C_{os} \\left(- T_{1} T_{2}^{2} \\omega_{max} + T_{2} v_{l0}\\right) + T_{1} T_{2}^{2} \\omega_{max} e^{\\frac{T_{1}^{2} k \\omega_{max} t}{2 \\tau_{max}}} + \\frac{S_{in} \\left(- T_{1}^{3} T_{2}^{3} k m_{l} \\omega_{max}^{2} + T_{1}^{2} T_{2}^{2} k m_{l} \\omega_{max} v_{l0} + 2 T_{1} T_{2} k \\tau_{max} x_{a0} - 2 k \\tau_{max} x_{l0}\\right)}{R_{ad}}\\right) e^{- \\frac{T_{1}^{2} k \\omega_{max} t}{2 \\tau_{max}}}}{T_{2}}$"
      ],
      "text/plain": [
       "(C_os*(-T1*T2**2*omega_max + T2*v_l0) + T1*T2**2*omega_max*exp(T1**2*k*omega_max*t/(2*tau_max)) + S_in*(-T1**3*T2**3*k*m_l*omega_max**2 + T1**2*T2**2*k*m_l*omega_max*v_l0 + 2*T1*T2*k*tau_max*x_a0 - 2*k*tau_max*x_l0)/R_ad)*exp(-T1**2*k*omega_max*t/(2*tau_max))/T2"
      ]
     },
     "metadata": {},
     "output_type": "display_data"
    }
   ],
   "source": [
    "linsol_comp = []\n",
    "for i in range(3):\n",
    "    expr = (factor(linsol_ics[i].subs(trig_dict), [S_in, C_os, R_ad])*R_ad)\n",
    "    numer, denom = expr.as_numer_denom()\n",
    "    new_numer = 0\n",
    "    for term in Add.make_args(numer):\n",
    "        new_numer += term/R_ad\n",
    "    new_numer = (new_numer)\n",
    "    new_expr = new_numer / denom\n",
    "    linsol_comp.append(new_expr)\n",
    "    display(new_expr)\n"
   ]
  },
  {
   "cell_type": "code",
   "execution_count": 52,
   "metadata": {},
   "outputs": [
    {
     "name": "stdout",
     "output_type": "stream",
     "text": [
      "152\n",
      "x0 = 1/T2\n",
      "x1 = T2**2\n",
      "x2 = omega_max**2\n",
      "x3 = x1*x2\n",
      "x4 = k**2\n",
      "x5 = m_l**2\n",
      "x6 = T1**4*x5\n",
      "x7 = x4*x6\n",
      "x8 = math.sqrt(4*k*m_l*tau_max**2 - x3*x7)\n",
      "x9 = 1/tau_max\n",
      "x10 = (1/2)*x9\n",
      "x11 = t*x0*x10*x8/m_l\n",
      "x12 = T1**2\n",
      "x13 = omega_max*t\n",
      "x14 = k*x10*x12*x13\n",
      "x15 = math.exp(x14)\n",
      "x16 = tau_max*x15\n",
      "x17 = x16*x_a0\n",
      "x18 = T1*omega_max\n",
      "x19 = T2*m_l*v_l0*x18\n",
      "x20 = m_l*x12\n",
      "x21 = x20*x3\n",
      "x22 = k*m_l\n",
      "x23 = 2*tau_max\n",
      "x24 = x23*x_l0\n",
      "x25 = x12*x22\n",
      "x26 = x23*x_a0\n",
      "x27 = T2*omega_max\n",
      "x28 = T2**3\n",
      "x29 = omega_max**3\n",
      "x30 = T1**3\n",
      "x32 = math.exp(-x14)\n",
      "x33 = x32*x9\n",
      "x34 = x1*x18\n",
      "x35 = T2*v_l0 - x34\n",
      "x36 = 2*k\n",
      "x37 = T1*T2\n",
      "x38 = omega_max*x1\n",
      "x39 = 2*v_l0*x25*x38\n",
      "x40 = x2*x28\n",
      "x41 = x22*x30*x40\n",
      "x42 = 2*x41\n",
      "x43 = tau_max*x36\n",
      "x44 = -x37*x43*x_a0 + x43*x_l0\n",
      "S_in = math.sin(x11)\n",
      "C_os = math.cos(x11)\n",
      "R_ad = x8\n",
      "x31 = S_in/R_ad\n",
      "x_a = x33*(C_os*(-x19 + x21) + x13*x16 + x15*x19 - x15*x21 + x17 + x31*(-k*v_l0*x3*x30*x5 + k*x28*x29*x6 + x18*x22*x24 - x25*x26*x27))\n",
      "x_l = (1/2)*x33*(C_os*(-x39 + x42 + x44) + R_ad*S_in*x35 + T2*t*x16*x18*x36 + x15*x39 - x15*x42 + x17*x36*x37 + x31*(T1**5*T2**4*x29*x4*x5 - m_l*x26*x30*x38*x4 - v_l0*x40*x7 + x20*x24*x27*x4))/k\n",
      "v_l = x0*x32*(C_os*x35 + x15*x34 + x31*(k*m_l*omega_max*v_l0*x1*x12 - x41 - x44))\n"
     ]
    }
   ],
   "source": [
    "x_a, x_l, v_l = symbols('x_a, x_l, v_l')\n",
    "\n",
    "# '''\n",
    "# sin((t/(2*T2*m_l*tau_max)) * sqrt(-T1**4*T2**2*k**2*m_l**2*omega_max**2 + 4*k*m_l*tau_max**2)): S_in,\n",
    "# cos((t/(2*T2*m_l*tau_max)) * sqrt(-T1**4*T2**2*k**2*m_l**2*omega_max**2 + 4*k*m_l*tau_max**2)): C_os,\n",
    "# sqrt(-T1**4*T2**2*k**2*m_l**2*omega_max**2 + 4*k*m_l*tau_max**2): R_ad,\n",
    "#     '''\n",
    "\n",
    "code = CodeBlock(\n",
    "    Assignment(S_in, sin((t/(2*T2*m_l*tau_max)) * sqrt(-T1**4*T2**2*k**2*m_l**2*omega_max**2 + 4*k*m_l*tau_max**2))),\n",
    "    Assignment(C_os, cos((t/(2*T2*m_l*tau_max)) * sqrt(-T1**4*T2**2*k**2*m_l**2*omega_max**2 + 4*k*m_l*tau_max**2))),\n",
    "    Assignment(R_ad, sqrt(-T1**4*T2**2*k**2*m_l**2*omega_max**2 + 4*k*m_l*tau_max**2)),\n",
    "\n",
    "    Assignment(x_a, linsol_comp[0]),\n",
    "    Assignment(x_l, linsol_comp[1]),\n",
    "    Assignment(v_l, linsol_comp[2]),\n",
    ").cse()\n",
    "print(count_ops(code))\n",
    "print(pycode(code))"
   ]
  }
 ],
 "metadata": {
  "kernelspec": {
   "display_name": "Python 3",
   "language": "python",
   "name": "python3"
  },
  "language_info": {
   "codemirror_mode": {
    "name": "ipython",
    "version": 3
   },
   "file_extension": ".py",
   "mimetype": "text/x-python",
   "name": "python",
   "nbconvert_exporter": "python",
   "pygments_lexer": "ipython3",
   "version": "3.11.4"
  },
  "orig_nbformat": 4
 },
 "nbformat": 4,
 "nbformat_minor": 2
}
