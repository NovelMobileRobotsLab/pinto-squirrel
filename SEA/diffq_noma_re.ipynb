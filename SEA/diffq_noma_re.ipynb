{
 "cells": [
  {
   "cell_type": "code",
   "execution_count": 421,
   "metadata": {},
   "outputs": [
    {
     "name": "stdout",
     "output_type": "stream",
     "text": [
      "set up linear ODE assuming no motor inertia\n"
     ]
    },
    {
     "data": {
      "text/latex": [
       "$\\displaystyle \\dot{x} = \\left[\\begin{matrix}\\omega_{max}\\\\0\\\\0\\end{matrix}\\right] + \\left[\\begin{matrix}- \\frac{T_{1}^{2} k \\omega_{max}}{\\tau_{max}} & \\frac{T_{1} k \\omega_{max}}{T_{2} \\tau_{max}} & 0\\\\0 & 0 & 1\\\\\\frac{T_{1} k}{T_{2} m_{l}} & - \\frac{k}{T_{2}^{2} m_{l}} & 0\\end{matrix}\\right] x$"
      ],
      "text/plain": [
       "Eq(\\dot{x}, Matrix([\n",
       "[omega_max],\n",
       "[        0],\n",
       "[        0]]) + Matrix([\n",
       "[-T1**2*k*omega_max/tau_max, T1*k*omega_max/(T2*tau_max), 0],\n",
       "[                         0,                           0, 1],\n",
       "[             T1*k/(T2*m_l),              -k/(T2**2*m_l), 0]])*x)"
      ]
     },
     "metadata": {},
     "output_type": "display_data"
    }
   ],
   "source": [
    "from sympy import *\n",
    "from sympy.solvers.ode.systems import linodesolve\n",
    "\n",
    "print(\"set up linear ODE assuming no motor inertia\")\n",
    "\n",
    "m_l, k = symbols('m_l, k') # mass of load, spring stiffness\n",
    "T1, T2 = symbols('T1, T2') # transmission before and after spring\n",
    "tau_max, omega_max = symbols(\"tau_max, omega_max\") # stall torque, free speed of motor\n",
    "\n",
    "c0, c1, c2, c3 = symbols('c:4')\n",
    "c0 = -k * T1**2 * omega_max / tau_max\n",
    "c1 = k * T1 * omega_max / (tau_max * T2)\n",
    "c2 = k * T1 / (T2 * m_l)\n",
    "c3 = -k / (T2**2 * m_l)\n",
    "\n",
    "# xdot = Ax + b\n",
    "A = Matrix([\n",
    "    [c0, c1, 0],\n",
    "    [0, 0, 1],\n",
    "    [c2, c3, 0],\n",
    "])\n",
    "b = Matrix([omega_max, 0, 0])\n",
    "\n",
    "display(Eq(MatrixSymbol('\\dot{x}', 3, 1), A*MatrixSymbol('x', 3, 1) + b))"
   ]
  },
  {
   "cell_type": "code",
   "execution_count": 422,
   "metadata": {},
   "outputs": [
    {
     "name": "stdout",
     "output_type": "stream",
     "text": [
      "solving linear ODE\n",
      "replacing [_Dummy_7040, _Dummy_7041, _Dummy_7042] with (a0, a1, a2)\n"
     ]
    },
    {
     "data": {
      "text/latex": [
       "$\\displaystyle - \\frac{T_{1}^{2} T_{2}^{2} m_{l} \\omega_{max}^{2}}{\\tau_{max}} - \\frac{T_{1} T_{2} a_{1} m_{l} \\omega_{max} e^{- \\frac{T_{1}^{2} k \\omega_{max} t}{2 \\tau_{max}} - \\frac{t \\sqrt{T_{1}^{4} T_{2}^{2} k^{2} m_{l}^{2} \\omega_{max}^{2} - 4 k m_{l} \\tau_{max}^{2}}}{2 T_{2} m_{l} \\tau_{max}}}}{\\tau_{max}} - \\frac{T_{1} T_{2} a_{2} m_{l} \\omega_{max} e^{- \\frac{T_{1}^{2} k \\omega_{max} t}{2 \\tau_{max}} + \\frac{t \\sqrt{T_{1}^{4} T_{2}^{2} k^{2} m_{l}^{2} \\omega_{max}^{2} - 4 k m_{l} \\tau_{max}^{2}}}{2 T_{2} m_{l} \\tau_{max}}}}{\\tau_{max}} + \\omega_{max} t + \\frac{a_{0}}{T_{1} T_{2}}$"
      ],
      "text/plain": [
       "-T1**2*T2**2*m_l*omega_max**2/tau_max - T1*T2*a1*m_l*omega_max*exp(-T1**2*k*omega_max*t/(2*tau_max) - t*sqrt(T1**4*T2**2*k**2*m_l**2*omega_max**2 - 4*k*m_l*tau_max**2)/(2*T2*m_l*tau_max))/tau_max - T1*T2*a2*m_l*omega_max*exp(-T1**2*k*omega_max*t/(2*tau_max) + t*sqrt(T1**4*T2**2*k**2*m_l**2*omega_max**2 - 4*k*m_l*tau_max**2)/(2*T2*m_l*tau_max))/tau_max + omega_max*t + a0/(T1*T2)"
      ]
     },
     "metadata": {},
     "output_type": "display_data"
    },
    {
     "data": {
      "text/latex": [
       "$\\displaystyle - \\frac{T_{1}^{3} T_{2}^{3} m_{l} \\omega_{max}^{2}}{\\tau_{max}} - \\frac{T_{1}^{2} T_{2}^{2} a_{1} m_{l} \\omega_{max} e^{- \\frac{T_{1}^{2} k \\omega_{max} t}{2 \\tau_{max}} - \\frac{t \\sqrt{T_{1}^{4} T_{2}^{2} k^{2} m_{l}^{2} \\omega_{max}^{2} - 4 k m_{l} \\tau_{max}^{2}}}{2 T_{2} m_{l} \\tau_{max}}}}{2 \\tau_{max}} - \\frac{T_{1}^{2} T_{2}^{2} a_{2} m_{l} \\omega_{max} e^{- \\frac{T_{1}^{2} k \\omega_{max} t}{2 \\tau_{max}} + \\frac{t \\sqrt{T_{1}^{4} T_{2}^{2} k^{2} m_{l}^{2} \\omega_{max}^{2} - 4 k m_{l} \\tau_{max}^{2}}}{2 T_{2} m_{l} \\tau_{max}}}}{2 \\tau_{max}} + T_{1} T_{2} \\omega_{max} t + \\frac{T_{2} a_{1} \\sqrt{T_{1}^{4} T_{2}^{2} k^{2} m_{l}^{2} \\omega_{max}^{2} - 4 k m_{l} \\tau_{max}^{2}} e^{- \\frac{T_{1}^{2} k \\omega_{max} t}{2 \\tau_{max}} - \\frac{t \\sqrt{T_{1}^{4} T_{2}^{2} k^{2} m_{l}^{2} \\omega_{max}^{2} - 4 k m_{l} \\tau_{max}^{2}}}{2 T_{2} m_{l} \\tau_{max}}}}{2 k \\tau_{max}} - \\frac{T_{2} a_{2} \\sqrt{T_{1}^{4} T_{2}^{2} k^{2} m_{l}^{2} \\omega_{max}^{2} - 4 k m_{l} \\tau_{max}^{2}} e^{- \\frac{T_{1}^{2} k \\omega_{max} t}{2 \\tau_{max}} + \\frac{t \\sqrt{T_{1}^{4} T_{2}^{2} k^{2} m_{l}^{2} \\omega_{max}^{2} - 4 k m_{l} \\tau_{max}^{2}}}{2 T_{2} m_{l} \\tau_{max}}}}{2 k \\tau_{max}} + a_{0}$"
      ],
      "text/plain": [
       "-T1**3*T2**3*m_l*omega_max**2/tau_max - T1**2*T2**2*a1*m_l*omega_max*exp(-T1**2*k*omega_max*t/(2*tau_max) - t*sqrt(T1**4*T2**2*k**2*m_l**2*omega_max**2 - 4*k*m_l*tau_max**2)/(2*T2*m_l*tau_max))/(2*tau_max) - T1**2*T2**2*a2*m_l*omega_max*exp(-T1**2*k*omega_max*t/(2*tau_max) + t*sqrt(T1**4*T2**2*k**2*m_l**2*omega_max**2 - 4*k*m_l*tau_max**2)/(2*T2*m_l*tau_max))/(2*tau_max) + T1*T2*omega_max*t + T2*a1*sqrt(T1**4*T2**2*k**2*m_l**2*omega_max**2 - 4*k*m_l*tau_max**2)*exp(-T1**2*k*omega_max*t/(2*tau_max) - t*sqrt(T1**4*T2**2*k**2*m_l**2*omega_max**2 - 4*k*m_l*tau_max**2)/(2*T2*m_l*tau_max))/(2*k*tau_max) - T2*a2*sqrt(T1**4*T2**2*k**2*m_l**2*omega_max**2 - 4*k*m_l*tau_max**2)*exp(-T1**2*k*omega_max*t/(2*tau_max) + t*sqrt(T1**4*T2**2*k**2*m_l**2*omega_max**2 - 4*k*m_l*tau_max**2)/(2*T2*m_l*tau_max))/(2*k*tau_max) + a0"
      ]
     },
     "metadata": {},
     "output_type": "display_data"
    },
    {
     "data": {
      "text/latex": [
       "$\\displaystyle T_{1} T_{2} \\omega_{max} + a_{1} e^{- \\frac{T_{1}^{2} k \\omega_{max} t}{2 \\tau_{max}} - \\frac{t \\sqrt{T_{1}^{4} T_{2}^{2} k^{2} m_{l}^{2} \\omega_{max}^{2} - 4 k m_{l} \\tau_{max}^{2}}}{2 T_{2} m_{l} \\tau_{max}}} + a_{2} e^{- \\frac{T_{1}^{2} k \\omega_{max} t}{2 \\tau_{max}} + \\frac{t \\sqrt{T_{1}^{4} T_{2}^{2} k^{2} m_{l}^{2} \\omega_{max}^{2} - 4 k m_{l} \\tau_{max}^{2}}}{2 T_{2} m_{l} \\tau_{max}}}$"
      ],
      "text/plain": [
       "T1*T2*omega_max + a1*exp(-T1**2*k*omega_max*t/(2*tau_max) - t*sqrt(T1**4*T2**2*k**2*m_l**2*omega_max**2 - 4*k*m_l*tau_max**2)/(2*T2*m_l*tau_max)) + a2*exp(-T1**2*k*omega_max*t/(2*tau_max) + t*sqrt(T1**4*T2**2*k**2*m_l**2*omega_max**2 - 4*k*m_l*tau_max**2)/(2*T2*m_l*tau_max))"
      ]
     },
     "metadata": {},
     "output_type": "display_data"
    }
   ],
   "source": [
    "print(\"solving linear ODE\")\n",
    "\n",
    "t = symbols('t') # time\n",
    "linsol = linodesolve(A, t, b=b)\n",
    "\n",
    "for i in range(3):\n",
    "    linsol[i] = linsol[i].doit(conds='none')\n",
    "    linsol[i] = simplify(linsol[i])\n",
    "\n",
    "dum_syms = []\n",
    "freesyms = list(linsol[0].free_symbols) + list(linsol[1].free_symbols) + list(linsol[2].free_symbols)\n",
    "for freesym in freesyms:\n",
    "    if freesym.name.startswith('Dummy') and not freesym in dum_syms:\n",
    "        dum_syms.append(freesym)\n",
    "dum_syms = sorted(dum_syms, key=lambda x: x.name)\n",
    "\n",
    "a0, a1, a2 = symbols(\"a:3\")\n",
    "a_syms = (a0, a1, a2)\n",
    "dum_syms_dict = {dum_sym: a_sym for dum_sym,a_sym in zip(dum_syms, a_syms)}\n",
    "\n",
    "print(f\"replacing {dum_syms} with {a_syms}\")\n",
    "for i in range(3):\n",
    "    linsol[i] = linsol[i].subs(dum_syms_dict)\n",
    "    display(linsol[i])"
   ]
  },
  {
   "cell_type": "code",
   "execution_count": 423,
   "metadata": {},
   "outputs": [
    {
     "name": "stdout",
     "output_type": "stream",
     "text": [
      "sqrt(radicand) is purely imaginary, so replace it with s*I where s=sqrt(-radicand)\n",
      "replace real part of exponent with r for conciseness\n",
      "expand (a1, a2) into (a_a ± a_b * i) because they are complex conjugates\n"
     ]
    },
    {
     "data": {
      "text/latex": [
       "$\\displaystyle - \\frac{T_{1}^{2} T_{2}^{2} m_{l} \\omega_{max}^{2}}{\\tau_{max}} - \\frac{T_{1} T_{2} m_{l} \\omega_{max} \\left(a_{a} - i a_{b}\\right) e^{- r t + \\frac{i s t}{2 T_{2} m_{l} \\tau_{max}}}}{\\tau_{max}} - \\frac{T_{1} T_{2} m_{l} \\omega_{max} \\left(a_{a} + i a_{b}\\right) e^{- r t - \\frac{i s t}{2 T_{2} m_{l} \\tau_{max}}}}{\\tau_{max}} + \\omega_{max} t + \\frac{a_{0}}{T_{1} T_{2}}$"
      ],
      "text/plain": [
       "-T1**2*T2**2*m_l*omega_max**2/tau_max - T1*T2*m_l*omega_max*(a_a - I*a_b)*exp(-r*t + I*s*t/(2*T2*m_l*tau_max))/tau_max - T1*T2*m_l*omega_max*(a_a + I*a_b)*exp(-r*t - I*s*t/(2*T2*m_l*tau_max))/tau_max + omega_max*t + a0/(T1*T2)"
      ]
     },
     "metadata": {},
     "output_type": "display_data"
    },
    {
     "data": {
      "text/latex": [
       "$\\displaystyle - \\frac{T_{1}^{3} T_{2}^{3} m_{l} \\omega_{max}^{2}}{\\tau_{max}} - \\frac{T_{1}^{2} T_{2}^{2} m_{l} \\omega_{max} \\left(a_{a} - i a_{b}\\right) e^{- r t + \\frac{i s t}{2 T_{2} m_{l} \\tau_{max}}}}{2 \\tau_{max}} - \\frac{T_{1}^{2} T_{2}^{2} m_{l} \\omega_{max} \\left(a_{a} + i a_{b}\\right) e^{- r t - \\frac{i s t}{2 T_{2} m_{l} \\tau_{max}}}}{2 \\tau_{max}} + T_{1} T_{2} \\omega_{max} t - \\frac{i T_{2} s \\left(a_{a} - i a_{b}\\right) e^{- r t + \\frac{i s t}{2 T_{2} m_{l} \\tau_{max}}}}{2 k \\tau_{max}} + \\frac{i T_{2} s \\left(a_{a} + i a_{b}\\right) e^{- r t - \\frac{i s t}{2 T_{2} m_{l} \\tau_{max}}}}{2 k \\tau_{max}} + a_{0}$"
      ],
      "text/plain": [
       "-T1**3*T2**3*m_l*omega_max**2/tau_max - T1**2*T2**2*m_l*omega_max*(a_a - I*a_b)*exp(-r*t + I*s*t/(2*T2*m_l*tau_max))/(2*tau_max) - T1**2*T2**2*m_l*omega_max*(a_a + I*a_b)*exp(-r*t - I*s*t/(2*T2*m_l*tau_max))/(2*tau_max) + T1*T2*omega_max*t - I*T2*s*(a_a - I*a_b)*exp(-r*t + I*s*t/(2*T2*m_l*tau_max))/(2*k*tau_max) + I*T2*s*(a_a + I*a_b)*exp(-r*t - I*s*t/(2*T2*m_l*tau_max))/(2*k*tau_max) + a0"
      ]
     },
     "metadata": {},
     "output_type": "display_data"
    },
    {
     "data": {
      "text/latex": [
       "$\\displaystyle T_{1} T_{2} \\omega_{max} + \\left(a_{a} - i a_{b}\\right) e^{- r t + \\frac{i s t}{2 T_{2} m_{l} \\tau_{max}}} + \\left(a_{a} + i a_{b}\\right) e^{- r t - \\frac{i s t}{2 T_{2} m_{l} \\tau_{max}}}$"
      ],
      "text/plain": [
       "T1*T2*omega_max + (a_a - I*a_b)*exp(-r*t + I*s*t/(2*T2*m_l*tau_max)) + (a_a + I*a_b)*exp(-r*t - I*s*t/(2*T2*m_l*tau_max))"
      ]
     },
     "metadata": {},
     "output_type": "display_data"
    }
   ],
   "source": [
    "print(\"sqrt(radicand) is purely imaginary, so replace it with s*I where s=sqrt(-radicand)\")\n",
    "s = symbols('s')\n",
    "radicand = T1**4*T2**2*k**2*m_l**2*omega_max**2 - 4*k*m_l*tau_max**2 #inside the sqrt\n",
    "sqrt_dict = {sqrt(radicand): s*I}\n",
    "s_dict = {s: sqrt(-radicand)} #subs this into final expression to put back radicand\n",
    "\n",
    "print(\"replace real part of exponent with r for conciseness\")\n",
    "r = symbols('r')\n",
    "realexp = T1**2*k*omega_max/(2*tau_max)\n",
    "realexp_dict = {realexp: r}\n",
    "r_dict = {r: realexp} #subs this into final expression to put back radicand\n",
    "\n",
    "print(f\"expand (a1, a2) into (a_a ± a_b * i) because they are complex conjugates\")\n",
    "a_a, a_b = symbols(\"a_a, a_b\")\n",
    "conj_dict = {\n",
    "    a1:a_a + a_b * I,\n",
    "    a2:a_a - a_b * I\n",
    "}\n",
    "a_syms = (a0, a_a, a_b)\n",
    "\n",
    "\n",
    "linsol_clean = []\n",
    "for i in range(3):\n",
    "    cleaned = linsol[i].subs(sqrt_dict).subs(realexp_dict).subs(conj_expand)\n",
    "    linsol_clean.append(cleaned)\n",
    "    display(linsol_clean[i])"
   ]
  },
  {
   "cell_type": "code",
   "execution_count": 424,
   "metadata": {},
   "outputs": [
    {
     "name": "stdout",
     "output_type": "stream",
     "text": [
      "replace imaginary part of exponential with trig\n"
     ]
    },
    {
     "data": {
      "text/latex": [
       "$\\displaystyle e^{- r t - \\frac{i s t}{2 T_{2} m_{l} \\tau_{max}}} = \\left(- i \\sin{\\left(\\frac{s t}{2 T_{2} m_{l} \\tau_{max}} \\right)} + \\cos{\\left(\\frac{s t}{2 T_{2} m_{l} \\tau_{max}} \\right)}\\right) e^{- r t}$"
      ],
      "text/plain": [
       "Eq(exp(-r*t - I*s*t/(2*T2*m_l*tau_max)), (-I*sin(s*t/(2*T2*m_l*tau_max)) + cos(s*t/(2*T2*m_l*tau_max)))*exp(-r*t))"
      ]
     },
     "metadata": {},
     "output_type": "display_data"
    },
    {
     "data": {
      "text/latex": [
       "$\\displaystyle e^{- r t - \\frac{i s t}{2 T_{2} m_{l} \\tau_{max}}} = \\left(- i \\sin{\\left(\\frac{s t}{2 T_{2} m_{l} \\tau_{max}} \\right)} + \\cos{\\left(\\frac{s t}{2 T_{2} m_{l} \\tau_{max}} \\right)}\\right) e^{- r t}$"
      ],
      "text/plain": [
       "Eq(exp(-r*t - I*s*t/(2*T2*m_l*tau_max)), (-I*sin(s*t/(2*T2*m_l*tau_max)) + cos(s*t/(2*T2*m_l*tau_max)))*exp(-r*t))"
      ]
     },
     "metadata": {},
     "output_type": "display_data"
    },
    {
     "name": "stdout",
     "output_type": "stream",
     "text": [
      "substitute into solution\n"
     ]
    },
    {
     "data": {
      "text/latex": [
       "$\\displaystyle - \\frac{T_{1}^{2} T_{2}^{2} m_{l} \\omega_{max}^{2}}{\\tau_{max}} - \\frac{2 T_{1} T_{2} a_{a} m_{l} \\omega_{max} e^{- r t} \\cos{\\left(\\frac{s t}{2 T_{2} m_{l} \\tau_{max}} \\right)}}{\\tau_{max}} - \\frac{2 T_{1} T_{2} a_{b} m_{l} \\omega_{max} e^{- r t} \\sin{\\left(\\frac{s t}{2 T_{2} m_{l} \\tau_{max}} \\right)}}{\\tau_{max}} + \\omega_{max} t + \\frac{a_{0}}{T_{1} T_{2}}$"
      ],
      "text/plain": [
       "-T1**2*T2**2*m_l*omega_max**2/tau_max - 2*T1*T2*a_a*m_l*omega_max*exp(-r*t)*cos(s*t/(2*T2*m_l*tau_max))/tau_max - 2*T1*T2*a_b*m_l*omega_max*exp(-r*t)*sin(s*t/(2*T2*m_l*tau_max))/tau_max + omega_max*t + a0/(T1*T2)"
      ]
     },
     "metadata": {},
     "output_type": "display_data"
    },
    {
     "data": {
      "text/latex": [
       "$\\displaystyle - \\frac{T_{1}^{3} T_{2}^{3} m_{l} \\omega_{max}^{2}}{\\tau_{max}} - \\frac{T_{1}^{2} T_{2}^{2} a_{a} m_{l} \\omega_{max} e^{- r t} \\cos{\\left(\\frac{s t}{2 T_{2} m_{l} \\tau_{max}} \\right)}}{\\tau_{max}} - \\frac{T_{1}^{2} T_{2}^{2} a_{b} m_{l} \\omega_{max} e^{- r t} \\sin{\\left(\\frac{s t}{2 T_{2} m_{l} \\tau_{max}} \\right)}}{\\tau_{max}} + T_{1} T_{2} \\omega_{max} t + \\frac{T_{2} a_{a} s e^{- r t} \\sin{\\left(\\frac{s t}{2 T_{2} m_{l} \\tau_{max}} \\right)}}{k \\tau_{max}} - \\frac{T_{2} a_{b} s e^{- r t} \\cos{\\left(\\frac{s t}{2 T_{2} m_{l} \\tau_{max}} \\right)}}{k \\tau_{max}} + a_{0}$"
      ],
      "text/plain": [
       "-T1**3*T2**3*m_l*omega_max**2/tau_max - T1**2*T2**2*a_a*m_l*omega_max*exp(-r*t)*cos(s*t/(2*T2*m_l*tau_max))/tau_max - T1**2*T2**2*a_b*m_l*omega_max*exp(-r*t)*sin(s*t/(2*T2*m_l*tau_max))/tau_max + T1*T2*omega_max*t + T2*a_a*s*exp(-r*t)*sin(s*t/(2*T2*m_l*tau_max))/(k*tau_max) - T2*a_b*s*exp(-r*t)*cos(s*t/(2*T2*m_l*tau_max))/(k*tau_max) + a0"
      ]
     },
     "metadata": {},
     "output_type": "display_data"
    },
    {
     "data": {
      "text/latex": [
       "$\\displaystyle T_{1} T_{2} \\omega_{max} + 2 a_{a} e^{- r t} \\cos{\\left(\\frac{s t}{2 T_{2} m_{l} \\tau_{max}} \\right)} + 2 a_{b} e^{- r t} \\sin{\\left(\\frac{s t}{2 T_{2} m_{l} \\tau_{max}} \\right)}$"
      ],
      "text/plain": [
       "T1*T2*omega_max + 2*a_a*exp(-r*t)*cos(s*t/(2*T2*m_l*tau_max)) + 2*a_b*exp(-r*t)*sin(s*t/(2*T2*m_l*tau_max))"
      ]
     },
     "metadata": {},
     "output_type": "display_data"
    }
   ],
   "source": [
    "exp_m = exp(-r*t - I*s*t/(2*T2*m_l*tau_max))\n",
    "exp_p = exp(-r*t + I*s*t/(2*T2*m_l*tau_max))\n",
    "trigh = -sinh(r*t)+cosh(r*t) # simplifes to exp(-R)\n",
    "\n",
    "exp_m_simp = exp_m.factor().rewrite(cos).subs(trigh, trigh.simplify())\n",
    "exp_p_simp = exp_p.factor().rewrite(cos).subs(trigh, trigh.simplify())\n",
    "exp_dict = {exp_m:exp_m_simp, exp_p:exp_p_simp}\n",
    "\n",
    "print(\"replace imaginary part of exponential with trig\")\n",
    "display(Eq(exp_m, exp_m_simp), Eq(exp_m, exp_m_simp))\n",
    "\n",
    "print(\"substitute into solution\")\n",
    "for i in range(3):\n",
    "    linsol_clean[i] = linsol_clean[i].subs(comp_exp_dict).simplify().expand()\n",
    "    display(linsol_clean[i])"
   ]
  },
  {
   "cell_type": "code",
   "execution_count": 425,
   "metadata": {},
   "outputs": [
    {
     "name": "stdout",
     "output_type": "stream",
     "text": [
      "Represent solution at t=0 in Ax=b form\n",
      "A0:\n"
     ]
    },
    {
     "data": {
      "text/latex": [
       "$\\displaystyle \\left[\\begin{matrix}\\frac{1}{T_{1} T_{2}} & - \\frac{2 T_{1} T_{2} m_{l} \\omega_{max}}{\\tau_{max}} & 0\\\\1 & - \\frac{T_{1}^{2} T_{2}^{2} m_{l} \\omega_{max}}{\\tau_{max}} & - \\frac{T_{2} s}{k \\tau_{max}}\\\\0 & 2 & 0\\end{matrix}\\right]$"
      ],
      "text/plain": [
       "Matrix([\n",
       "[1/(T1*T2),     -2*T1*T2*m_l*omega_max/tau_max,                 0],\n",
       "[        1, -T1**2*T2**2*m_l*omega_max/tau_max, -T2*s/(k*tau_max)],\n",
       "[        0,                                  2,                 0]])"
      ]
     },
     "metadata": {},
     "output_type": "display_data"
    },
    {
     "name": "stdout",
     "output_type": "stream",
     "text": [
      "b0:\n"
     ]
    },
    {
     "data": {
      "text/latex": [
       "$\\displaystyle \\left[\\begin{matrix}\\frac{T_{1}^{2} T_{2}^{2} m_{l} \\omega_{max}^{2}}{\\tau_{max}}\\\\\\frac{T_{1}^{3} T_{2}^{3} m_{l} \\omega_{max}^{2}}{\\tau_{max}}\\\\- T_{1} T_{2} \\omega_{max}\\end{matrix}\\right]$"
      ],
      "text/plain": [
       "Matrix([\n",
       "[T1**2*T2**2*m_l*omega_max**2/tau_max],\n",
       "[T1**3*T2**3*m_l*omega_max**2/tau_max],\n",
       "[                    -T1*T2*omega_max]])"
      ]
     },
     "metadata": {},
     "output_type": "display_data"
    },
    {
     "name": "stdout",
     "output_type": "stream",
     "text": [
      "check if solution is accurately represented:\n"
     ]
    },
    {
     "data": {
      "text/latex": [
       "$\\displaystyle \\left[\\begin{matrix}- \\frac{T_{1}^{2} T_{2}^{2} m_{l} \\omega_{max}^{2}}{\\tau_{max}} - \\frac{2 T_{1} T_{2} a_{a} m_{l} \\omega_{max}}{\\tau_{max}} + \\frac{a_{0}}{T_{1} T_{2}}\\\\- \\frac{T_{1}^{3} T_{2}^{3} m_{l} \\omega_{max}^{2}}{\\tau_{max}} - \\frac{T_{1}^{2} T_{2}^{2} a_{a} m_{l} \\omega_{max}}{\\tau_{max}} - \\frac{T_{2} a_{b} s}{k \\tau_{max}} + a_{0}\\\\T_{1} T_{2} \\omega_{max} + 2 a_{a}\\end{matrix}\\right]$"
      ],
      "text/plain": [
       "Matrix([\n",
       "[                   -T1**2*T2**2*m_l*omega_max**2/tau_max - 2*T1*T2*a_a*m_l*omega_max/tau_max + a0/(T1*T2)],\n",
       "[-T1**3*T2**3*m_l*omega_max**2/tau_max - T1**2*T2**2*a_a*m_l*omega_max/tau_max - T2*a_b*s/(k*tau_max) + a0],\n",
       "[                                                                                  T1*T2*omega_max + 2*a_a]])"
      ]
     },
     "metadata": {},
     "output_type": "display_data"
    },
    {
     "data": {
      "text/latex": [
       "$\\displaystyle \\left[\\begin{matrix}- \\frac{T_{1}^{2} T_{2}^{2} m_{l} \\omega_{max}^{2}}{\\tau_{max}} - \\frac{2 T_{1} T_{2} a_{a} m_{l} \\omega_{max}}{\\tau_{max}} + \\frac{a_{0}}{T_{1} T_{2}}\\\\- \\frac{T_{1}^{3} T_{2}^{3} m_{l} \\omega_{max}^{2}}{\\tau_{max}} - \\frac{T_{1}^{2} T_{2}^{2} a_{a} m_{l} \\omega_{max}}{\\tau_{max}} - \\frac{T_{2} a_{b} s}{k \\tau_{max}} + a_{0}\\\\T_{1} T_{2} \\omega_{max} + 2 a_{a}\\end{matrix}\\right]$"
      ],
      "text/plain": [
       "Matrix([\n",
       "[                   -T1**2*T2**2*m_l*omega_max**2/tau_max - 2*T1*T2*a_a*m_l*omega_max/tau_max + a0/(T1*T2)],\n",
       "[-T1**3*T2**3*m_l*omega_max**2/tau_max - T1**2*T2**2*a_a*m_l*omega_max/tau_max - T2*a_b*s/(k*tau_max) + a0],\n",
       "[                                                                                  T1*T2*omega_max + 2*a_a]])"
      ]
     },
     "execution_count": 425,
     "metadata": {},
     "output_type": "execute_result"
    }
   ],
   "source": [
    "print(\"Represent solution at t=0 in Ax=b form\")\n",
    "mat = linear_eq_to_matrix(linsol_clean, a_syms)\n",
    "A0 = simplify(mat[0].subs({t:0}))\n",
    "A0_inv = simplify(A0.inv())\n",
    "b0 = simplify(mat[1].subs({t:0}))\n",
    "\n",
    "print(\"A0:\")\n",
    "display(A0)\n",
    "print(\"b0:\")\n",
    "display(b0)\n",
    "\n",
    "print(\"check if solution is accurately represented:\")\n",
    "display(Matrix([linsol_clean[i].subs(t,0) for i in range(3)]))\n",
    "\n",
    "A_dum @ Matrix(a_syms) - b_dum #should be the same as linsol in previous cell"
   ]
  },
  {
   "cell_type": "code",
   "execution_count": 426,
   "metadata": {},
   "outputs": [
    {
     "name": "stdout",
     "output_type": "stream",
     "text": [
      "Solve for (a0, a_a, a_b) using initial conditions\n"
     ]
    },
    {
     "data": {
      "text/latex": [
       "$\\displaystyle \\left[\\begin{matrix}\\frac{T_{1} T_{2} \\left(T_{1} T_{2} m_{l} \\omega_{max} v_{l0} + \\tau_{max} x_{a0}\\right)}{\\tau_{max}}\\\\- \\frac{T_{1} T_{2} \\omega_{max}}{2} + \\frac{v_{l0}}{2}\\\\\\frac{k \\left(- T_{1}^{3} T_{2}^{3} m_{l} \\omega_{max}^{2} + T_{1}^{2} T_{2}^{2} m_{l} \\omega_{max} v_{l0} + 2 T_{1} T_{2} \\tau_{max} x_{a0} - 2 \\tau_{max} x_{l0}\\right)}{2 T_{2} s}\\end{matrix}\\right]$"
      ],
      "text/plain": [
       "Matrix([\n",
       "[                                                            T1*T2*(T1*T2*m_l*omega_max*v_l0 + tau_max*x_a0)/tau_max],\n",
       "[                                                                                        -T1*T2*omega_max/2 + v_l0/2],\n",
       "[k*(-T1**3*T2**3*m_l*omega_max**2 + T1**2*T2**2*m_l*omega_max*v_l0 + 2*T1*T2*tau_max*x_a0 - 2*tau_max*x_l0)/(2*T2*s)]])"
      ]
     },
     "execution_count": 426,
     "metadata": {},
     "output_type": "execute_result"
    }
   ],
   "source": [
    "print(f\"Solve for {a_syms} using initial conditions\")\n",
    "x_a0, x_l0, v_l0 = symbols('x_a0, x_l0, v_l0')\n",
    "ics = Matrix([x_a0, x_l0, v_l0])\n",
    "\n",
    "a_vals = simplify(A_dum_inv * (ics + b_dum))\n",
    "a_dict = {a_syms[i]: a_vals[i] for i in range(3)}\n",
    "\n",
    "a_vals"
   ]
  },
  {
   "cell_type": "code",
   "execution_count": 427,
   "metadata": {},
   "outputs": [
    {
     "name": "stdout",
     "output_type": "stream",
     "text": [
      "Substitute (a0, a_a, a_b) back and put back full expressions for s and r\n"
     ]
    },
    {
     "data": {
      "text/latex": [
       "$\\displaystyle - \\frac{T_{1}^{2} T_{2}^{2} m_{l} \\omega_{max}^{2}}{\\tau_{max}} - \\frac{2 T_{1} T_{2} m_{l} \\omega_{max} \\left(- \\frac{T_{1} T_{2} \\omega_{max}}{2} + \\frac{v_{l0}}{2}\\right) e^{- \\frac{T_{1}^{2} k \\omega_{max} t}{2 \\tau_{max}}} \\cos{\\left(\\frac{t \\sqrt{- T_{1}^{4} T_{2}^{2} k^{2} m_{l}^{2} \\omega_{max}^{2} + 4 k m_{l} \\tau_{max}^{2}}}{2 T_{2} m_{l} \\tau_{max}} \\right)}}{\\tau_{max}} - \\frac{T_{1} k m_{l} \\omega_{max} \\left(- T_{1}^{3} T_{2}^{3} m_{l} \\omega_{max}^{2} + T_{1}^{2} T_{2}^{2} m_{l} \\omega_{max} v_{l0} + 2 T_{1} T_{2} \\tau_{max} x_{a0} - 2 \\tau_{max} x_{l0}\\right) e^{- \\frac{T_{1}^{2} k \\omega_{max} t}{2 \\tau_{max}}} \\sin{\\left(\\frac{t \\sqrt{- T_{1}^{4} T_{2}^{2} k^{2} m_{l}^{2} \\omega_{max}^{2} + 4 k m_{l} \\tau_{max}^{2}}}{2 T_{2} m_{l} \\tau_{max}} \\right)}}{\\tau_{max} \\sqrt{- T_{1}^{4} T_{2}^{2} k^{2} m_{l}^{2} \\omega_{max}^{2} + 4 k m_{l} \\tau_{max}^{2}}} + \\omega_{max} t + \\frac{T_{1} T_{2} m_{l} \\omega_{max} v_{l0} + \\tau_{max} x_{a0}}{\\tau_{max}}$"
      ],
      "text/plain": [
       "-T1**2*T2**2*m_l*omega_max**2/tau_max - 2*T1*T2*m_l*omega_max*(-T1*T2*omega_max/2 + v_l0/2)*exp(-T1**2*k*omega_max*t/(2*tau_max))*cos(t*sqrt(-T1**4*T2**2*k**2*m_l**2*omega_max**2 + 4*k*m_l*tau_max**2)/(2*T2*m_l*tau_max))/tau_max - T1*k*m_l*omega_max*(-T1**3*T2**3*m_l*omega_max**2 + T1**2*T2**2*m_l*omega_max*v_l0 + 2*T1*T2*tau_max*x_a0 - 2*tau_max*x_l0)*exp(-T1**2*k*omega_max*t/(2*tau_max))*sin(t*sqrt(-T1**4*T2**2*k**2*m_l**2*omega_max**2 + 4*k*m_l*tau_max**2)/(2*T2*m_l*tau_max))/(tau_max*sqrt(-T1**4*T2**2*k**2*m_l**2*omega_max**2 + 4*k*m_l*tau_max**2)) + omega_max*t + (T1*T2*m_l*omega_max*v_l0 + tau_max*x_a0)/tau_max"
      ]
     },
     "metadata": {},
     "output_type": "display_data"
    },
    {
     "data": {
      "text/latex": [
       "$\\displaystyle - \\frac{T_{1}^{3} T_{2}^{3} m_{l} \\omega_{max}^{2}}{\\tau_{max}} - \\frac{T_{1}^{2} T_{2}^{2} m_{l} \\omega_{max} \\left(- \\frac{T_{1} T_{2} \\omega_{max}}{2} + \\frac{v_{l0}}{2}\\right) e^{- \\frac{T_{1}^{2} k \\omega_{max} t}{2 \\tau_{max}}} \\cos{\\left(\\frac{t \\sqrt{- T_{1}^{4} T_{2}^{2} k^{2} m_{l}^{2} \\omega_{max}^{2} + 4 k m_{l} \\tau_{max}^{2}}}{2 T_{2} m_{l} \\tau_{max}} \\right)}}{\\tau_{max}} - \\frac{T_{1}^{2} T_{2} k m_{l} \\omega_{max} \\left(- T_{1}^{3} T_{2}^{3} m_{l} \\omega_{max}^{2} + T_{1}^{2} T_{2}^{2} m_{l} \\omega_{max} v_{l0} + 2 T_{1} T_{2} \\tau_{max} x_{a0} - 2 \\tau_{max} x_{l0}\\right) e^{- \\frac{T_{1}^{2} k \\omega_{max} t}{2 \\tau_{max}}} \\sin{\\left(\\frac{t \\sqrt{- T_{1}^{4} T_{2}^{2} k^{2} m_{l}^{2} \\omega_{max}^{2} + 4 k m_{l} \\tau_{max}^{2}}}{2 T_{2} m_{l} \\tau_{max}} \\right)}}{2 \\tau_{max} \\sqrt{- T_{1}^{4} T_{2}^{2} k^{2} m_{l}^{2} \\omega_{max}^{2} + 4 k m_{l} \\tau_{max}^{2}}} + T_{1} T_{2} \\omega_{max} t + \\frac{T_{1} T_{2} \\left(T_{1} T_{2} m_{l} \\omega_{max} v_{l0} + \\tau_{max} x_{a0}\\right)}{\\tau_{max}} + \\frac{T_{2} \\left(- \\frac{T_{1} T_{2} \\omega_{max}}{2} + \\frac{v_{l0}}{2}\\right) \\sqrt{- T_{1}^{4} T_{2}^{2} k^{2} m_{l}^{2} \\omega_{max}^{2} + 4 k m_{l} \\tau_{max}^{2}} e^{- \\frac{T_{1}^{2} k \\omega_{max} t}{2 \\tau_{max}}} \\sin{\\left(\\frac{t \\sqrt{- T_{1}^{4} T_{2}^{2} k^{2} m_{l}^{2} \\omega_{max}^{2} + 4 k m_{l} \\tau_{max}^{2}}}{2 T_{2} m_{l} \\tau_{max}} \\right)}}{k \\tau_{max}} - \\frac{\\left(- T_{1}^{3} T_{2}^{3} m_{l} \\omega_{max}^{2} + T_{1}^{2} T_{2}^{2} m_{l} \\omega_{max} v_{l0} + 2 T_{1} T_{2} \\tau_{max} x_{a0} - 2 \\tau_{max} x_{l0}\\right) e^{- \\frac{T_{1}^{2} k \\omega_{max} t}{2 \\tau_{max}}} \\cos{\\left(\\frac{t \\sqrt{- T_{1}^{4} T_{2}^{2} k^{2} m_{l}^{2} \\omega_{max}^{2} + 4 k m_{l} \\tau_{max}^{2}}}{2 T_{2} m_{l} \\tau_{max}} \\right)}}{2 \\tau_{max}}$"
      ],
      "text/plain": [
       "-T1**3*T2**3*m_l*omega_max**2/tau_max - T1**2*T2**2*m_l*omega_max*(-T1*T2*omega_max/2 + v_l0/2)*exp(-T1**2*k*omega_max*t/(2*tau_max))*cos(t*sqrt(-T1**4*T2**2*k**2*m_l**2*omega_max**2 + 4*k*m_l*tau_max**2)/(2*T2*m_l*tau_max))/tau_max - T1**2*T2*k*m_l*omega_max*(-T1**3*T2**3*m_l*omega_max**2 + T1**2*T2**2*m_l*omega_max*v_l0 + 2*T1*T2*tau_max*x_a0 - 2*tau_max*x_l0)*exp(-T1**2*k*omega_max*t/(2*tau_max))*sin(t*sqrt(-T1**4*T2**2*k**2*m_l**2*omega_max**2 + 4*k*m_l*tau_max**2)/(2*T2*m_l*tau_max))/(2*tau_max*sqrt(-T1**4*T2**2*k**2*m_l**2*omega_max**2 + 4*k*m_l*tau_max**2)) + T1*T2*omega_max*t + T1*T2*(T1*T2*m_l*omega_max*v_l0 + tau_max*x_a0)/tau_max + T2*(-T1*T2*omega_max/2 + v_l0/2)*sqrt(-T1**4*T2**2*k**2*m_l**2*omega_max**2 + 4*k*m_l*tau_max**2)*exp(-T1**2*k*omega_max*t/(2*tau_max))*sin(t*sqrt(-T1**4*T2**2*k**2*m_l**2*omega_max**2 + 4*k*m_l*tau_max**2)/(2*T2*m_l*tau_max))/(k*tau_max) - (-T1**3*T2**3*m_l*omega_max**2 + T1**2*T2**2*m_l*omega_max*v_l0 + 2*T1*T2*tau_max*x_a0 - 2*tau_max*x_l0)*exp(-T1**2*k*omega_max*t/(2*tau_max))*cos(t*sqrt(-T1**4*T2**2*k**2*m_l**2*omega_max**2 + 4*k*m_l*tau_max**2)/(2*T2*m_l*tau_max))/(2*tau_max)"
      ]
     },
     "metadata": {},
     "output_type": "display_data"
    },
    {
     "data": {
      "text/latex": [
       "$\\displaystyle T_{1} T_{2} \\omega_{max} + 2 \\left(- \\frac{T_{1} T_{2} \\omega_{max}}{2} + \\frac{v_{l0}}{2}\\right) e^{- \\frac{T_{1}^{2} k \\omega_{max} t}{2 \\tau_{max}}} \\cos{\\left(\\frac{t \\sqrt{- T_{1}^{4} T_{2}^{2} k^{2} m_{l}^{2} \\omega_{max}^{2} + 4 k m_{l} \\tau_{max}^{2}}}{2 T_{2} m_{l} \\tau_{max}} \\right)} + \\frac{k \\left(- T_{1}^{3} T_{2}^{3} m_{l} \\omega_{max}^{2} + T_{1}^{2} T_{2}^{2} m_{l} \\omega_{max} v_{l0} + 2 T_{1} T_{2} \\tau_{max} x_{a0} - 2 \\tau_{max} x_{l0}\\right) e^{- \\frac{T_{1}^{2} k \\omega_{max} t}{2 \\tau_{max}}} \\sin{\\left(\\frac{t \\sqrt{- T_{1}^{4} T_{2}^{2} k^{2} m_{l}^{2} \\omega_{max}^{2} + 4 k m_{l} \\tau_{max}^{2}}}{2 T_{2} m_{l} \\tau_{max}} \\right)}}{T_{2} \\sqrt{- T_{1}^{4} T_{2}^{2} k^{2} m_{l}^{2} \\omega_{max}^{2} + 4 k m_{l} \\tau_{max}^{2}}}$"
      ],
      "text/plain": [
       "T1*T2*omega_max + 2*(-T1*T2*omega_max/2 + v_l0/2)*exp(-T1**2*k*omega_max*t/(2*tau_max))*cos(t*sqrt(-T1**4*T2**2*k**2*m_l**2*omega_max**2 + 4*k*m_l*tau_max**2)/(2*T2*m_l*tau_max)) + k*(-T1**3*T2**3*m_l*omega_max**2 + T1**2*T2**2*m_l*omega_max*v_l0 + 2*T1*T2*tau_max*x_a0 - 2*tau_max*x_l0)*exp(-T1**2*k*omega_max*t/(2*tau_max))*sin(t*sqrt(-T1**4*T2**2*k**2*m_l**2*omega_max**2 + 4*k*m_l*tau_max**2)/(2*T2*m_l*tau_max))/(T2*sqrt(-T1**4*T2**2*k**2*m_l**2*omega_max**2 + 4*k*m_l*tau_max**2))"
      ]
     },
     "metadata": {},
     "output_type": "display_data"
    }
   ],
   "source": [
    "print(f\"Substitute {a_syms} back and put back full expressions for s and r\")\n",
    "\n",
    "linsol_ics = []\n",
    "for i in range(3):\n",
    "    temp = linsol_clean[i].subs(a_dict).subs(s_dict).subs(r_dict)\n",
    "    # temp = temp.simplify() #actually increases the operations after cse()\n",
    "    display(temp)\n",
    "    linsol_ics.append(temp)"
   ]
  },
  {
   "cell_type": "code",
   "execution_count": 428,
   "metadata": {},
   "outputs": [
    {
     "name": "stdout",
     "output_type": "stream",
     "text": [
      "# 89 operations\n",
      "x0 = omega_max**2\n",
      "x1 = m_l*x0\n",
      "x2 = 1/tau_max\n",
      "x3 = T1**2\n",
      "x4 = T2**2\n",
      "x5 = x2*x3*x4\n",
      "x6 = T1*T2*omega_max\n",
      "x7 = m_l*v_l0*x6 + tau_max*x_a0\n",
      "x8 = (1/2)*v_l0 - 1/2*x6\n",
      "x9 = 1/T2\n",
      "x10 = math.sqrt(-T1**4*k**2*m_l**2*x0*x4 + 4*k*m_l*tau_max**2)\n",
      "x11 = (1/2)*x2\n",
      "x12 = t*x10*x11*x9/m_l\n",
      "x13 = math.exp(-k*omega_max*t*x11*x3)\n",
      "x14 = x13*math.cos(x12)\n",
      "x15 = x14*x8\n",
      "x16 = 2*x15\n",
      "x17 = T1**3*T2**3*x1\n",
      "x18 = 2*T1*T2*tau_max*x_a0 + m_l*omega_max*v_l0*x3*x4 - 2*tau_max*x_l0 - x17\n",
      "x19 = math.sin(x12)\n",
      "x20 = x13*x19/x10\n",
      "x21 = x18*x20\n",
      "x22 = k*m_l*omega_max\n",
      "x23 = x11*x18\n",
      "x_a_code = -T1*x2*x21*x22 - m_l*x16*x2*x6 + omega_max*t - x1*x5 + x2*x7\n",
      "x_l_code = T1*T2*omega_max*t + T1*T2*x2*x7 - T2*x20*x22*x23*x3 + T2*x10*x13*x19*x2*x8/k - m_l*omega_max*x15*x5 - x14*x23 - x17*x2\n",
      "v_l_code = k*x21*x9 + x16 + x6\n"
     ]
    }
   ],
   "source": [
    "from sympy.codegen.ast import CodeBlock, Assignment\n",
    "\n",
    "x_a_code, x_l_code, v_l_code = symbols('x_a_code, x_l_code, v_l_code')\n",
    "\n",
    "code = CodeBlock(\n",
    "    Assignment(x_a_code, linsol_ics[0]),\n",
    "    Assignment(x_l_code, linsol_ics[1]),\n",
    "    Assignment(v_l_code, linsol_ics[2]),\n",
    ").cse()\n",
    "\n",
    "print(f\"# {count_ops(code)} operations\")\n",
    "\n",
    "print(pycode(code))"
   ]
  },
  {
   "cell_type": "code",
   "execution_count": 429,
   "metadata": {},
   "outputs": [
    {
     "name": "stdout",
     "output_type": "stream",
     "text": [
      "0.0 0 0 0\n",
      "0.056 126.393235405028 0.0213907875922671 1.07395816697702\n",
      "0.111 219.536892123386 0.135440767714843 3.03457176559861\n",
      "0.167 332.956589345882 0.347911462047590 4.45449095077648\n",
      "0.222 484.802753513958 0.610920471703538 4.84970435073891\n",
      "0.278 664.891792850549 0.872667364121343 4.49177441287424\n",
      "0.333 853.147493807510 1.10607894231219 3.91606683179973\n",
      "0.389 1034.59479825654 1.31133716661766 3.52191649093681\n",
      "0.444 1204.74380468648 1.50311840523074 3.42905409724935\n",
      "0.5 1367.04196832391 1.69625729292704 3.54554751136236\n"
     ]
    }
   ],
   "source": [
    "import numpy as np\n",
    "\n",
    "nums = {\n",
    "    T1: 0.00025, #0.035 m / 140 rad from TSA test\n",
    "    T2: 5, #guess for leg movement/string contract\n",
    "    m_a: 1/2 * 0.020 * 0.010**2, #cylinder MOI 20g 10mm radius\n",
    "    m_l: 0.5, #mass to push off ground\n",
    "    k: 3000, # no idea honestly\n",
    "    tau_max: 0.05, #N*m stall torque\n",
    "    omega_max: 3000, #about 10,000rpm free speed\n",
    "}\n",
    "\n",
    "ics_n = {x_a0:0, x_l0:0, v_l0:0}\n",
    "\n",
    "for ti in np.linspace(0, 0.5, 10):\n",
    "    x_a_ti = linsol_ics[0].subs(ics_n).subs(nums).subs(t,ti).n()\n",
    "    x_l_ti = linsol_ics[1].subs(ics_n).subs(nums).subs(t,ti).n()\n",
    "    v_l_ti = linsol_ics[2].subs(ics_n).subs(nums).subs(t,ti).n()\n",
    "    print(round(ti, 3), x_a_ti, x_l_ti, v_l_ti)\n"
   ]
  },
  {
   "cell_type": "code",
   "execution_count": 430,
   "metadata": {},
   "outputs": [
    {
     "name": "stdout",
     "output_type": "stream",
     "text": [
      "T1 = Symbol('T1')\n",
      "T2 = Symbol('T2')\n",
      "omega_max = Symbol('omega_max')\n",
      "v_l0 = Symbol('v_l0')\n",
      "k = Symbol('k')\n",
      "t = Symbol('t')\n",
      "tau_max = Symbol('tau_max')\n",
      "m_l = Symbol('m_l')\n",
      "x_a0 = Symbol('x_a0')\n",
      "x_l0 = Symbol('x_l0')\n",
      "e = T1*T2*omega_max + 2*(-T1*T2*omega_max/2 + v_l0/2)*exp(-T1**2*k*omega_max*t/(2*tau_max))*cos(t*sqrt(-T1**4*T2**2*k**2*m_l**2*omega_max**2 + 4*k*m_l*tau_max**2)/(2*T2*m_l*tau_max)) + k*(-T1**3*T2**3*m_l*omega_max**2 + T1**2*T2**2*m_l*omega_max*v_l0 + 2*T1*T2*tau_max*x_a0 - 2*tau_max*x_l0)*exp(-T1**2*k*omega_max*t/(2*tau_max))*sin(t*sqrt(-T1**4*T2**2*k**2*m_l**2*omega_max**2 + 4*k*m_l*tau_max**2)/(2*T2*m_l*tau_max))/(T2*sqrt(-T1**4*T2**2*k**2*m_l**2*omega_max**2 + 4*k*m_l*tau_max**2))\n"
     ]
    }
   ],
   "source": [
    "print(python(linsol_ics[2]))"
   ]
  },
  {
   "cell_type": "code",
   "execution_count": 431,
   "metadata": {},
   "outputs": [
    {
     "data": {
      "text/latex": [
       "$\\displaystyle \\left(v_{l0} - 3.75\\right) e^{- 5.625 t} \\cos{\\left(2.6353960802885 \\sqrt{30} t \\right)} + 30.3559683488799 \\sqrt{30} \\cdot \\left(0.00234375 v_{l0} + 0.000125 x_{a0} - 0.1 x_{l0} - 0.0087890625\\right) e^{- 5.625 t} \\sin{\\left(2.6353960802885 \\sqrt{30} t \\right)} + 3.75$"
      ],
      "text/plain": [
       "(v_l0 - 3.75)*exp(-5.625*t)*cos(2.6353960802885*sqrt(30)*t) + 30.3559683488799*sqrt(30)*(0.00234375*v_l0 + 0.000125*x_a0 - 0.1*x_l0 - 0.0087890625)*exp(-5.625*t)*sin(2.6353960802885*sqrt(30)*t) + 3.75"
      ]
     },
     "execution_count": 431,
     "metadata": {},
     "output_type": "execute_result"
    }
   ],
   "source": [
    "e = T1*T2*omega_max + 2*(-T1*T2*omega_max/2 + v_l0/2)*exp(-T1**2*k*omega_max*t/(2*tau_max))*cos(t*sqrt(-T1**4*T2**2*k**2*m_l**2*omega_max**2 + 4*k*m_l*tau_max**2)/(2*T2*m_l*tau_max)) + k*(-T1**3*T2**3*m_l*omega_max**2 + T1**2*T2**2*m_l*omega_max*v_l0 + 2*T1*T2*tau_max*x_a0 - 2*tau_max*x_l0)*exp(-T1**2*k*omega_max*t/(2*tau_max))*sin(t*sqrt(-T1**4*T2**2*k**2*m_l**2*omega_max**2 + 4*k*m_l*tau_max**2)/(2*T2*m_l*tau_max))/(T2*sqrt(-T1**4*T2**2*k**2*m_l**2*omega_max**2 + 4*k*m_l*tau_max**2))\n",
    "e.subs(nums)"
   ]
  },
  {
   "cell_type": "code",
   "execution_count": 432,
   "metadata": {},
   "outputs": [
    {
     "name": "stdout",
     "output_type": "stream",
     "text": [
      "x0 = omega_max**2\n",
      "x1 = m_l*x0\n",
      "x2 = 1/tau_max\n",
      "x3 = T1**2\n",
      "x4 = T2**2\n",
      "x5 = x2*x3*x4\n",
      "x6 = T1*T2*omega_max\n",
      "x7 = m_l*v_l0*x6 + tau_max*x_a0\n",
      "x8 = (1/2)*v_l0 - 1/2*x6\n",
      "x9 = 1/T2\n",
      "x10 = math.sqrt(-T1**4*k**2*m_l**2*x0*x4 + 4*k*m_l*tau_max**2)\n",
      "x11 = (1/2)*x2\n",
      "x12 = t*x10*x11*x9/m_l\n",
      "x13 = math.exp(-k*omega_max*t*x11*x3)\n",
      "x14 = x13*math.cos(x12)\n",
      "x15 = x14*x8\n",
      "x16 = 2*x15\n",
      "x17 = T1**3*T2**3*x1\n",
      "x18 = 2*T1*T2*tau_max*x_a0 + m_l*omega_max*v_l0*x3*x4 - 2*tau_max*x_l0 - x17\n",
      "x19 = math.sin(x12)\n",
      "x20 = x13*x19/x10\n",
      "x21 = x18*x20\n",
      "x22 = k*m_l*omega_max\n",
      "x23 = x11*x18\n",
      "x_a_code = -T1*x2*x21*x22 - m_l*x16*x2*x6 + omega_max*t - x1*x5 + x2*x7\n",
      "x_l_code = T1*T2*omega_max*t + T1*T2*x2*x7 - T2*x20*x22*x23*x3 + T2*x10*x13*x19*x2*x8/k - m_l*omega_max*x15*x5 - x14*x23 - x17*x2\n",
      "v_l_code = k*x21*x9 + x16 + x6\n"
     ]
    }
   ],
   "source": [
    "print(pycode(code))"
   ]
  },
  {
   "cell_type": "code",
   "execution_count": 438,
   "metadata": {},
   "outputs": [
    {
     "name": "stdout",
     "output_type": "stream",
     "text": [
      "26.527713687383*v_l0 + 0.559521027193741*x_a0 + 352.383178245007*x_l0 + 200.521073672314 0.0723133285808962*v_l0 + 0.000884257122912769*x_a0 + 0.292594301669785*x_l0 + 0.103825017821639 0.292594301669785*v_l0 + 0.0117461059415002*x_a0 - 9.39688475320018*x_l0 + 2.6527713687383\n"
     ]
    }
   ],
   "source": [
    "import math\n",
    "\n",
    "T1 = 0.00025 #0.035 m / 140 rad from TSA test\n",
    "T2 = 5 #guess for leg movement/string contract\n",
    "m_a = 1/2 * 0.020 * 0.010**2 #cylinder MOI 20g 10mm radius\n",
    "m_l = 0.5 #mass to push off ground\n",
    "k = 3000 # no idea honestly\n",
    "tau_max = 0.05 #N*m stall torque\n",
    "omega_max = 3000 #about 10,000rpm free speed\n",
    "\n",
    "x_a0 = 0\n",
    "x_l0 = 0\n",
    "v_l0 = 0\n",
    "\n",
    "t = 0.1\n",
    "\n",
    "x0 = omega_max**2\n",
    "x1 = m_l*x0\n",
    "x2 = 1/tau_max\n",
    "x3 = T1**2\n",
    "x4 = T2**2\n",
    "x5 = x2*x3*x4\n",
    "x6 = T1*T2*omega_max\n",
    "x7 = m_l*v_l0*x6 + tau_max*x_a0\n",
    "x8 = (1/2)*v_l0 - 1/2*x6\n",
    "x9 = 1/T2\n",
    "x10 = math.sqrt(-T1**4*k**2*m_l**2*x0*x4 + 4*k*m_l*tau_max**2)\n",
    "x11 = (1/2)*x2\n",
    "x12 = t*x10*x11*x9/m_l\n",
    "x13 = math.exp(-k*omega_max*t*x11*x3)\n",
    "x14 = x13*math.cos(x12)\n",
    "x15 = x14*x8\n",
    "x16 = 2*x15\n",
    "x17 = T1**3*T2**3*x1\n",
    "x18 = 2*T1*T2*tau_max*x_a0 + m_l*omega_max*v_l0*x3*x4 - 2*tau_max*x_l0 - x17\n",
    "x19 = math.sin(x12)\n",
    "x20 = x13*x19/x10\n",
    "x21 = x18*x20\n",
    "x22 = k*m_l*omega_max\n",
    "x23 = x11*x18\n",
    "x_a_code = -T1*x2*x21*x22 - m_l*x16*x2*x6 + omega_max*t - x1*x5 + x2*x7\n",
    "x_l_code = T1*T2*omega_max*t + T1*T2*x2*x7 - T2*x20*x22*x23*x3 + T2*x10*x13*x19*x2*x8/k - m_l*omega_max*x15*x5 - x14*x23 - x17*x2\n",
    "v_l_code = k*x21*x9 + x16 + x6\n",
    "\n",
    "print(x_a_code, x_l_code, v_l_code)"
   ]
  },
  {
   "cell_type": "code",
   "execution_count": null,
   "metadata": {},
   "outputs": [],
   "source": []
  }
 ],
 "metadata": {
  "kernelspec": {
   "display_name": "Python 3",
   "language": "python",
   "name": "python3"
  },
  "language_info": {
   "codemirror_mode": {
    "name": "ipython",
    "version": 3
   },
   "file_extension": ".py",
   "mimetype": "text/x-python",
   "name": "python",
   "nbconvert_exporter": "python",
   "pygments_lexer": "ipython3",
   "version": "3.11.4"
  },
  "orig_nbformat": 4
 },
 "nbformat": 4,
 "nbformat_minor": 2
}
