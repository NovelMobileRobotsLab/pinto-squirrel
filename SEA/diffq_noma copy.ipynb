{
 "cells": [
  {
   "cell_type": "code",
   "execution_count": 8,
   "metadata": {},
   "outputs": [
    {
     "data": {
      "text/latex": [
       "$\\displaystyle \\left[\\begin{matrix}- \\frac{T_{1}^{2} k \\omega_{max}}{\\tau_{max}} & \\frac{T_{1} k \\omega_{max}}{T_{2} \\tau_{max}} & 0\\\\0 & 0 & 1\\\\\\frac{T_{1} k}{T_{2} m_{l}} & - \\frac{k}{T_{2}^{2} m_{l}} & 0\\end{matrix}\\right]$"
      ],
      "text/plain": [
       "Matrix([\n",
       "[-T1**2*k*omega_max/tau_max, T1*k*omega_max/(T2*tau_max), 0],\n",
       "[                         0,                           0, 1],\n",
       "[             T1*k/(T2*m_l),              -k/(T2**2*m_l), 0]])"
      ]
     },
     "execution_count": 8,
     "metadata": {},
     "output_type": "execute_result"
    }
   ],
   "source": [
    "from sympy import *\n",
    "from sympy.solvers.ode.systems import linodesolve\n",
    "\n",
    "tau_max, omega_max = symbols(\"tau_max, omega_max\", positive=True, nonzero=True) #stall torque, free speed\n",
    "T1, T2, k, m_a, m_l, k = symbols('T1, T2, k, m_a, m_l, k', positive=True, nonzero=True)\n",
    "c0, c1, c2, c3, c4, c5, c6 = symbols('c:7')\n",
    "t = symbols('t')\n",
    "\n",
    "c1 = -k * T1**2 * omega_max / tau_max\n",
    "c2 = k * T1 * omega_max / (tau_max * T2)\n",
    "c3 = k * T1 / (T2 * m_l)\n",
    "c4 = -k / (T2**2 * m_l)\n",
    "\n",
    "A = Matrix([\n",
    "    [c1, c2, 0],\n",
    "    [0, 0, 1],\n",
    "    [c3, c4, 0],\n",
    "])\n",
    "A"
   ]
  },
  {
   "cell_type": "code",
   "execution_count": 9,
   "metadata": {},
   "outputs": [
    {
     "data": {
      "text/plain": [
       "[_Dummy_3383/(T1*T2) - _Dummy_3384*T1**3*T2**2*k**2*m_l**(5/2)*omega_max**2*exp(-T1**2*k*omega_max*t/(2*tau_max) - sqrt(k)*t*sqrt(T1**4*T2**2*k*m_l*omega_max**2 - 4*tau_max**2)/(2*T2*sqrt(m_l)*tau_max))/(T1**2*T2*k**2*m_l**(3/2)*omega_max*tau_max + k**(3/2)*m_l*tau_max*sqrt(T1**4*T2**2*k*m_l*omega_max**2 - 4*tau_max**2)) - _Dummy_3384*T1*T2*k**(3/2)*m_l**2*omega_max*sqrt(T1**4*T2**2*k*m_l*omega_max**2 - 4*tau_max**2)*exp(-T1**2*k*omega_max*t/(2*tau_max) - sqrt(k)*t*sqrt(T1**4*T2**2*k*m_l*omega_max**2 - 4*tau_max**2)/(2*T2*sqrt(m_l)*tau_max))/(T1**2*T2*k**2*m_l**(3/2)*omega_max*tau_max + k**(3/2)*m_l*tau_max*sqrt(T1**4*T2**2*k*m_l*omega_max**2 - 4*tau_max**2)) - _Dummy_3385*T1**3*T2**2*k**2*m_l**(5/2)*omega_max**2*exp(-T1**2*k*omega_max*t/(2*tau_max) + sqrt(k)*t*sqrt(T1**4*T2**2*k*m_l*omega_max**2 - 4*tau_max**2)/(2*T2*sqrt(m_l)*tau_max))/(T1**2*T2*k**2*m_l**(3/2)*omega_max*tau_max - k**(3/2)*m_l*tau_max*sqrt(T1**4*T2**2*k*m_l*omega_max**2 - 4*tau_max**2)) + _Dummy_3385*T1*T2*k**(3/2)*m_l**2*omega_max*sqrt(T1**4*T2**2*k*m_l*omega_max**2 - 4*tau_max**2)*exp(-T1**2*k*omega_max*t/(2*tau_max) + sqrt(k)*t*sqrt(T1**4*T2**2*k*m_l*omega_max**2 - 4*tau_max**2)/(2*T2*sqrt(m_l)*tau_max))/(T1**2*T2*k**2*m_l**(3/2)*omega_max*tau_max - k**(3/2)*m_l*tau_max*sqrt(T1**4*T2**2*k*m_l*omega_max**2 - 4*tau_max**2)) - T1**3*T2**2*k**2*m_l**(5/2)*omega_max**2*exp(-T1**2*k*omega_max*t/(2*tau_max) - sqrt(k)*t*sqrt(T1**4*T2**2*k*m_l*omega_max**2 - 4*tau_max**2)/(2*T2*sqrt(m_l)*tau_max))*Integral(-T1*sqrt(k)*tau_max*exp(T1**2*k*omega_max*t/(2*tau_max) + sqrt(k)*t*sqrt(T1**4*T2**2*k*m_l*omega_max**2 - 4*tau_max**2)/(2*T2*sqrt(m_l)*tau_max))/(sqrt(m_l)*sqrt(T1**4*T2**2*k*m_l*omega_max**2 - 4*tau_max**2)), t)/(T1**2*T2*k**2*m_l**(3/2)*omega_max*tau_max + k**(3/2)*m_l*tau_max*sqrt(T1**4*T2**2*k*m_l*omega_max**2 - 4*tau_max**2)) - T1**3*T2**2*k**2*m_l**(5/2)*omega_max**2*exp(-T1**2*k*omega_max*t/(2*tau_max) + sqrt(k)*t*sqrt(T1**4*T2**2*k*m_l*omega_max**2 - 4*tau_max**2)/(2*T2*sqrt(m_l)*tau_max))*Integral(T1*sqrt(k)*tau_max*exp(T1**2*k*omega_max*t/(2*tau_max) - sqrt(k)*t*sqrt(T1**4*T2**2*k*m_l*omega_max**2 - 4*tau_max**2)/(2*T2*sqrt(m_l)*tau_max))/(sqrt(m_l)*sqrt(T1**4*T2**2*k*m_l*omega_max**2 - 4*tau_max**2)), t)/(T1**2*T2*k**2*m_l**(3/2)*omega_max*tau_max - k**(3/2)*m_l*tau_max*sqrt(T1**4*T2**2*k*m_l*omega_max**2 - 4*tau_max**2)) - T1*T2*k**(3/2)*m_l**2*omega_max*sqrt(T1**4*T2**2*k*m_l*omega_max**2 - 4*tau_max**2)*exp(-T1**2*k*omega_max*t/(2*tau_max) - sqrt(k)*t*sqrt(T1**4*T2**2*k*m_l*omega_max**2 - 4*tau_max**2)/(2*T2*sqrt(m_l)*tau_max))*Integral(-T1*sqrt(k)*tau_max*exp(T1**2*k*omega_max*t/(2*tau_max) + sqrt(k)*t*sqrt(T1**4*T2**2*k*m_l*omega_max**2 - 4*tau_max**2)/(2*T2*sqrt(m_l)*tau_max))/(sqrt(m_l)*sqrt(T1**4*T2**2*k*m_l*omega_max**2 - 4*tau_max**2)), t)/(T1**2*T2*k**2*m_l**(3/2)*omega_max*tau_max + k**(3/2)*m_l*tau_max*sqrt(T1**4*T2**2*k*m_l*omega_max**2 - 4*tau_max**2)) + T1*T2*k**(3/2)*m_l**2*omega_max*sqrt(T1**4*T2**2*k*m_l*omega_max**2 - 4*tau_max**2)*exp(-T1**2*k*omega_max*t/(2*tau_max) + sqrt(k)*t*sqrt(T1**4*T2**2*k*m_l*omega_max**2 - 4*tau_max**2)/(2*T2*sqrt(m_l)*tau_max))*Integral(T1*sqrt(k)*tau_max*exp(T1**2*k*omega_max*t/(2*tau_max) - sqrt(k)*t*sqrt(T1**4*T2**2*k*m_l*omega_max**2 - 4*tau_max**2)/(2*T2*sqrt(m_l)*tau_max))/(sqrt(m_l)*sqrt(T1**4*T2**2*k*m_l*omega_max**2 - 4*tau_max**2)), t)/(T1**2*T2*k**2*m_l**(3/2)*omega_max*tau_max - k**(3/2)*m_l*tau_max*sqrt(T1**4*T2**2*k*m_l*omega_max**2 - 4*tau_max**2)) + Integral(T1*T2, t)/(T1*T2),\n",
       " _Dummy_3383 - 2*_Dummy_3384*T2*sqrt(m_l)*tau_max*exp(-T1**2*k*omega_max*t/(2*tau_max) - sqrt(k)*t*sqrt(T1**4*T2**2*k*m_l*omega_max**2 - 4*tau_max**2)/(2*T2*sqrt(m_l)*tau_max))/(T1**2*T2*k*sqrt(m_l)*omega_max + sqrt(k)*sqrt(T1**4*T2**2*k*m_l*omega_max**2 - 4*tau_max**2)) - 2*_Dummy_3385*T2*sqrt(m_l)*tau_max*exp(-T1**2*k*omega_max*t/(2*tau_max) + sqrt(k)*t*sqrt(T1**4*T2**2*k*m_l*omega_max**2 - 4*tau_max**2)/(2*T2*sqrt(m_l)*tau_max))/(T1**2*T2*k*sqrt(m_l)*omega_max - sqrt(k)*sqrt(T1**4*T2**2*k*m_l*omega_max**2 - 4*tau_max**2)) - 2*T2*sqrt(m_l)*tau_max*exp(-T1**2*k*omega_max*t/(2*tau_max) - sqrt(k)*t*sqrt(T1**4*T2**2*k*m_l*omega_max**2 - 4*tau_max**2)/(2*T2*sqrt(m_l)*tau_max))*Integral(-T1*sqrt(k)*tau_max*exp(T1**2*k*omega_max*t/(2*tau_max) + sqrt(k)*t*sqrt(T1**4*T2**2*k*m_l*omega_max**2 - 4*tau_max**2)/(2*T2*sqrt(m_l)*tau_max))/(sqrt(m_l)*sqrt(T1**4*T2**2*k*m_l*omega_max**2 - 4*tau_max**2)), t)/(T1**2*T2*k*sqrt(m_l)*omega_max + sqrt(k)*sqrt(T1**4*T2**2*k*m_l*omega_max**2 - 4*tau_max**2)) - 2*T2*sqrt(m_l)*tau_max*exp(-T1**2*k*omega_max*t/(2*tau_max) + sqrt(k)*t*sqrt(T1**4*T2**2*k*m_l*omega_max**2 - 4*tau_max**2)/(2*T2*sqrt(m_l)*tau_max))*Integral(T1*sqrt(k)*tau_max*exp(T1**2*k*omega_max*t/(2*tau_max) - sqrt(k)*t*sqrt(T1**4*T2**2*k*m_l*omega_max**2 - 4*tau_max**2)/(2*T2*sqrt(m_l)*tau_max))/(sqrt(m_l)*sqrt(T1**4*T2**2*k*m_l*omega_max**2 - 4*tau_max**2)), t)/(T1**2*T2*k*sqrt(m_l)*omega_max - sqrt(k)*sqrt(T1**4*T2**2*k*m_l*omega_max**2 - 4*tau_max**2)) + Integral(T1*T2, t),\n",
       " _Dummy_3384*exp(-T1**2*k*omega_max*t/(2*tau_max) - sqrt(k)*t*sqrt(T1**4*T2**2*k*m_l*omega_max**2 - 4*tau_max**2)/(2*T2*sqrt(m_l)*tau_max)) + _Dummy_3385*exp(-T1**2*k*omega_max*t/(2*tau_max) + sqrt(k)*t*sqrt(T1**4*T2**2*k*m_l*omega_max**2 - 4*tau_max**2)/(2*T2*sqrt(m_l)*tau_max)) + exp(-T1**2*k*omega_max*t/(2*tau_max) - sqrt(k)*t*sqrt(T1**4*T2**2*k*m_l*omega_max**2 - 4*tau_max**2)/(2*T2*sqrt(m_l)*tau_max))*Integral(-T1*sqrt(k)*tau_max*exp(T1**2*k*omega_max*t/(2*tau_max) + sqrt(k)*t*sqrt(T1**4*T2**2*k*m_l*omega_max**2 - 4*tau_max**2)/(2*T2*sqrt(m_l)*tau_max))/(sqrt(m_l)*sqrt(T1**4*T2**2*k*m_l*omega_max**2 - 4*tau_max**2)), t) + exp(-T1**2*k*omega_max*t/(2*tau_max) + sqrt(k)*t*sqrt(T1**4*T2**2*k*m_l*omega_max**2 - 4*tau_max**2)/(2*T2*sqrt(m_l)*tau_max))*Integral(T1*sqrt(k)*tau_max*exp(T1**2*k*omega_max*t/(2*tau_max) - sqrt(k)*t*sqrt(T1**4*T2**2*k*m_l*omega_max**2 - 4*tau_max**2)/(2*T2*sqrt(m_l)*tau_max))/(sqrt(m_l)*sqrt(T1**4*T2**2*k*m_l*omega_max**2 - 4*tau_max**2)), t)]"
      ]
     },
     "execution_count": 9,
     "metadata": {},
     "output_type": "execute_result"
    }
   ],
   "source": [
    "b = Matrix([1, 0, 0])\n",
    "linsol = linodesolve(A, t, b=b)\n",
    "linsol"
   ]
  },
  {
   "cell_type": "code",
   "execution_count": 10,
   "metadata": {},
   "outputs": [
    {
     "name": "stdout",
     "output_type": "stream",
     "text": [
      "536\n"
     ]
    },
    {
     "data": {
      "text/latex": [
       "$\\displaystyle \\frac{\\left(Dummy_{3383} T_{1}^{4} T_{2}^{2} k^{4} m_{l}^{3} \\omega_{max}^{2} \\tau_{max} e^{\\frac{t \\left(T_{1}^{2} k \\omega_{max} + \\frac{\\sqrt{k} \\sqrt{T_{1}^{4} T_{2}^{2} k m_{l} \\omega_{max}^{2} - 4 \\tau_{max}^{2}}}{T_{2} \\sqrt{m_{l}}}\\right)}{2 \\tau_{max}}} - 4 Dummy_{3383} k^{3} m_{l}^{2} \\tau_{max}^{3} e^{\\frac{t \\left(T_{1}^{2} k \\omega_{max} + \\frac{\\sqrt{k} \\sqrt{T_{1}^{4} T_{2}^{2} k m_{l} \\omega_{max}^{2} - 4 \\tau_{max}^{2}}}{T_{2} \\sqrt{m_{l}}}\\right)}{2 \\tau_{max}}} - Dummy_{3384} T_{1}^{6} T_{2}^{4} k^{4} m_{l}^{4} \\omega_{max}^{3} + 4 Dummy_{3384} T_{1}^{2} T_{2}^{2} k^{3} m_{l}^{3} \\omega_{max} \\tau_{max}^{2} - Dummy_{3385} T_{1}^{6} T_{2}^{4} k^{4} m_{l}^{4} \\omega_{max}^{3} e^{\\frac{\\sqrt{k} t \\sqrt{T_{1}^{4} T_{2}^{2} k m_{l} \\omega_{max}^{2} - 4 \\tau_{max}^{2}}}{T_{2} \\sqrt{m_{l}} \\tau_{max}}} + 4 Dummy_{3385} T_{1}^{2} T_{2}^{2} k^{3} m_{l}^{3} \\omega_{max} \\tau_{max}^{2} e^{\\frac{\\sqrt{k} t \\sqrt{T_{1}^{4} T_{2}^{2} k m_{l} \\omega_{max}^{2} - 4 \\tau_{max}^{2}}}{T_{2} \\sqrt{m_{l}} \\tau_{max}}} + T_{1}^{5} T_{2}^{3} k^{4} m_{l}^{3} \\omega_{max}^{2} t \\tau_{max} e^{\\frac{t \\left(T_{1}^{2} k \\omega_{max} + \\frac{\\sqrt{k} \\sqrt{T_{1}^{4} T_{2}^{2} k m_{l} \\omega_{max}^{2} - 4 \\tau_{max}^{2}}}{T_{2} \\sqrt{m_{l}}}\\right)}{2 \\tau_{max}}} - T_{1}^{3} T_{2}^{2} k^{\\frac{7}{2}} m_{l}^{\\frac{5}{2}} \\omega_{max} \\tau_{max} \\sqrt{T_{1}^{4} T_{2}^{2} k m_{l} \\omega_{max}^{2} - 4 \\tau_{max}^{2}} \\left(\\begin{cases} \\frac{2 T_{2} \\sqrt{m_{l}} \\tau_{max} e^{\\frac{T_{1}^{2} k \\omega_{max} t}{2 \\tau_{max}} - \\frac{\\sqrt{k} t \\sqrt{T_{1}^{4} T_{2}^{2} k m_{l} \\omega_{max}^{2} - 4 \\tau_{max}^{2}}}{2 T_{2} \\sqrt{m_{l}} \\tau_{max}}}}{T_{1}^{2} T_{2} k \\sqrt{m_{l}} \\omega_{max} - \\sqrt{k} \\sqrt{T_{1}^{4} T_{2}^{2} k m_{l} \\omega_{max}^{2} - 4 \\tau_{max}^{2}}} & \\text{for}\\: T_{1}^{2} T_{2} k \\sqrt{m_{l}} \\omega_{max} - \\sqrt{k} \\sqrt{T_{1}^{4} T_{2}^{2} k m_{l} \\omega_{max}^{2} - 4 \\tau_{max}^{2}} \\neq 0 \\\\t & \\text{otherwise} \\end{cases}\\right) e^{\\frac{\\sqrt{k} t \\sqrt{T_{1}^{4} T_{2}^{2} k m_{l} \\omega_{max}^{2} - 4 \\tau_{max}^{2}}}{T_{2} \\sqrt{m_{l}} \\tau_{max}}} + T_{1}^{3} T_{2}^{2} k^{\\frac{7}{2}} m_{l}^{\\frac{5}{2}} \\omega_{max} \\tau_{max} \\sqrt{T_{1}^{4} T_{2}^{2} k m_{l} \\omega_{max}^{2} - 4 \\tau_{max}^{2}} \\left(\\begin{cases} \\frac{2 T_{2} \\sqrt{m_{l}} \\tau_{max} e^{\\frac{T_{1}^{2} k \\omega_{max} t}{2 \\tau_{max}} + \\frac{\\sqrt{k} t \\sqrt{T_{1}^{4} T_{2}^{2} k m_{l} \\omega_{max}^{2} - 4 \\tau_{max}^{2}}}{2 T_{2} \\sqrt{m_{l}} \\tau_{max}}}}{T_{1}^{2} T_{2} k \\sqrt{m_{l}} \\omega_{max} + \\sqrt{k} \\sqrt{T_{1}^{4} T_{2}^{2} k m_{l} \\omega_{max}^{2} - 4 \\tau_{max}^{2}}} & \\text{for}\\: T_{1}^{2} T_{2} k \\sqrt{m_{l}} \\omega_{max} + \\sqrt{k} \\sqrt{T_{1}^{4} T_{2}^{2} k m_{l} \\omega_{max}^{2} - 4 \\tau_{max}^{2}} \\neq 0 \\\\t & \\text{otherwise} \\end{cases}\\right) - 4 T_{1} T_{2} k^{3} m_{l}^{2} t \\tau_{max}^{3} e^{\\frac{t \\left(T_{1}^{2} k \\omega_{max} + \\frac{\\sqrt{k} \\sqrt{T_{1}^{4} T_{2}^{2} k m_{l} \\omega_{max}^{2} - 4 \\tau_{max}^{2}}}{T_{2} \\sqrt{m_{l}}}\\right)}{2 \\tau_{max}}}\\right) e^{- \\frac{t \\left(T_{1}^{2} k \\omega_{max} + \\frac{\\sqrt{k} \\sqrt{T_{1}^{4} T_{2}^{2} k m_{l} \\omega_{max}^{2} - 4 \\tau_{max}^{2}}}{T_{2} \\sqrt{m_{l}}}\\right)}{2 \\tau_{max}}}}{T_{1} T_{2} k^{3} m_{l}^{2} \\tau_{max} \\left(T_{1}^{4} T_{2}^{2} k m_{l} \\omega_{max}^{2} - 4 \\tau_{max}^{2}\\right)}$"
      ],
      "text/plain": [
       "(_Dummy_3383*T1**4*T2**2*k**4*m_l**3*omega_max**2*tau_max*exp(t*(T1**2*k*omega_max + sqrt(k)*sqrt(T1**4*T2**2*k*m_l*omega_max**2 - 4*tau_max**2)/(T2*sqrt(m_l)))/(2*tau_max)) - 4*_Dummy_3383*k**3*m_l**2*tau_max**3*exp(t*(T1**2*k*omega_max + sqrt(k)*sqrt(T1**4*T2**2*k*m_l*omega_max**2 - 4*tau_max**2)/(T2*sqrt(m_l)))/(2*tau_max)) - _Dummy_3384*T1**6*T2**4*k**4*m_l**4*omega_max**3 + 4*_Dummy_3384*T1**2*T2**2*k**3*m_l**3*omega_max*tau_max**2 - _Dummy_3385*T1**6*T2**4*k**4*m_l**4*omega_max**3*exp(sqrt(k)*t*sqrt(T1**4*T2**2*k*m_l*omega_max**2 - 4*tau_max**2)/(T2*sqrt(m_l)*tau_max)) + 4*_Dummy_3385*T1**2*T2**2*k**3*m_l**3*omega_max*tau_max**2*exp(sqrt(k)*t*sqrt(T1**4*T2**2*k*m_l*omega_max**2 - 4*tau_max**2)/(T2*sqrt(m_l)*tau_max)) + T1**5*T2**3*k**4*m_l**3*omega_max**2*t*tau_max*exp(t*(T1**2*k*omega_max + sqrt(k)*sqrt(T1**4*T2**2*k*m_l*omega_max**2 - 4*tau_max**2)/(T2*sqrt(m_l)))/(2*tau_max)) - T1**3*T2**2*k**(7/2)*m_l**(5/2)*omega_max*tau_max*sqrt(T1**4*T2**2*k*m_l*omega_max**2 - 4*tau_max**2)*Piecewise((2*T2*sqrt(m_l)*tau_max*exp(T1**2*k*omega_max*t/(2*tau_max) - sqrt(k)*t*sqrt(T1**4*T2**2*k*m_l*omega_max**2 - 4*tau_max**2)/(2*T2*sqrt(m_l)*tau_max))/(T1**2*T2*k*sqrt(m_l)*omega_max - sqrt(k)*sqrt(T1**4*T2**2*k*m_l*omega_max**2 - 4*tau_max**2)), Ne(T1**2*T2*k*sqrt(m_l)*omega_max - sqrt(k)*sqrt(T1**4*T2**2*k*m_l*omega_max**2 - 4*tau_max**2), 0)), (t, True))*exp(sqrt(k)*t*sqrt(T1**4*T2**2*k*m_l*omega_max**2 - 4*tau_max**2)/(T2*sqrt(m_l)*tau_max)) + T1**3*T2**2*k**(7/2)*m_l**(5/2)*omega_max*tau_max*sqrt(T1**4*T2**2*k*m_l*omega_max**2 - 4*tau_max**2)*Piecewise((2*T2*sqrt(m_l)*tau_max*exp(T1**2*k*omega_max*t/(2*tau_max) + sqrt(k)*t*sqrt(T1**4*T2**2*k*m_l*omega_max**2 - 4*tau_max**2)/(2*T2*sqrt(m_l)*tau_max))/(T1**2*T2*k*sqrt(m_l)*omega_max + sqrt(k)*sqrt(T1**4*T2**2*k*m_l*omega_max**2 - 4*tau_max**2)), Ne(T1**2*T2*k*sqrt(m_l)*omega_max + sqrt(k)*sqrt(T1**4*T2**2*k*m_l*omega_max**2 - 4*tau_max**2), 0)), (t, True)) - 4*T1*T2*k**3*m_l**2*t*tau_max**3*exp(t*(T1**2*k*omega_max + sqrt(k)*sqrt(T1**4*T2**2*k*m_l*omega_max**2 - 4*tau_max**2)/(T2*sqrt(m_l)))/(2*tau_max)))*exp(-t*(T1**2*k*omega_max + sqrt(k)*sqrt(T1**4*T2**2*k*m_l*omega_max**2 - 4*tau_max**2)/(T2*sqrt(m_l)))/(2*tau_max))/(T1*T2*k**3*m_l**2*tau_max*(T1**4*T2**2*k*m_l*omega_max**2 - 4*tau_max**2))"
      ]
     },
     "metadata": {},
     "output_type": "display_data"
    },
    {
     "ename": "KeyboardInterrupt",
     "evalue": "",
     "output_type": "error",
     "traceback": [
      "\u001b[0;31m---------------------------------------------------------------------------\u001b[0m",
      "\u001b[0;31mKeyboardInterrupt\u001b[0m                         Traceback (most recent call last)",
      "Cell \u001b[0;32mIn[10], line 2\u001b[0m\n\u001b[1;32m      1\u001b[0m \u001b[39mfor\u001b[39;00m row \u001b[39min\u001b[39;00m linsol:\n\u001b[0;32m----> 2\u001b[0m     simprow \u001b[39m=\u001b[39m simplify(row)\n\u001b[1;32m      3\u001b[0m     \u001b[39mprint\u001b[39m(count_ops(simprow))\n\u001b[1;32m      4\u001b[0m     display(simprow)\n",
      "File \u001b[0;32m/Library/Frameworks/Python.framework/Versions/3.11/lib/python3.11/site-packages/sympy/simplify/simplify.py:645\u001b[0m, in \u001b[0;36msimplify\u001b[0;34m(expr, ratio, measure, rational, inverse, doit, **kwargs)\u001b[0m\n\u001b[1;32m    643\u001b[0m expr \u001b[39m=\u001b[39m Mul(\u001b[39m*\u001b[39mpowsimp(expr)\u001b[39m.\u001b[39mas_content_primitive())\n\u001b[1;32m    644\u001b[0m _e \u001b[39m=\u001b[39m cancel(expr)\n\u001b[0;32m--> 645\u001b[0m expr1 \u001b[39m=\u001b[39m shorter(_e, _mexpand(_e)\u001b[39m.\u001b[39;49mcancel())  \u001b[39m# issue 6829\u001b[39;00m\n\u001b[1;32m    646\u001b[0m expr2 \u001b[39m=\u001b[39m shorter(together(expr, deep\u001b[39m=\u001b[39m\u001b[39mTrue\u001b[39;00m), together(expr1, deep\u001b[39m=\u001b[39m\u001b[39mTrue\u001b[39;00m))\n\u001b[1;32m    648\u001b[0m \u001b[39mif\u001b[39;00m ratio \u001b[39mis\u001b[39;00m S\u001b[39m.\u001b[39mInfinity:\n",
      "File \u001b[0;32m/Library/Frameworks/Python.framework/Versions/3.11/lib/python3.11/site-packages/sympy/core/expr.py:3791\u001b[0m, in \u001b[0;36mExpr.cancel\u001b[0;34m(self, *gens, **args)\u001b[0m\n\u001b[1;32m   3789\u001b[0m \u001b[39m\u001b[39m\u001b[39m\"\"\"See the cancel function in sympy.polys\"\"\"\u001b[39;00m\n\u001b[1;32m   3790\u001b[0m \u001b[39mfrom\u001b[39;00m \u001b[39msympy\u001b[39;00m\u001b[39m.\u001b[39;00m\u001b[39mpolys\u001b[39;00m\u001b[39m.\u001b[39;00m\u001b[39mpolytools\u001b[39;00m \u001b[39mimport\u001b[39;00m cancel\n\u001b[0;32m-> 3791\u001b[0m \u001b[39mreturn\u001b[39;00m cancel(\u001b[39mself\u001b[39;49m, \u001b[39m*\u001b[39;49mgens, \u001b[39m*\u001b[39;49m\u001b[39m*\u001b[39;49margs)\n",
      "File \u001b[0;32m/Library/Frameworks/Python.framework/Versions/3.11/lib/python3.11/site-packages/sympy/polys/polytools.py:6890\u001b[0m, in \u001b[0;36mcancel\u001b[0;34m(f, _signsimp, *gens, **args)\u001b[0m\n\u001b[1;32m   6887\u001b[0m                 \u001b[39mpass\u001b[39;00m\n\u001b[1;32m   6888\u001b[0m         \u001b[39mreturn\u001b[39;00m f\u001b[39m.\u001b[39mxreplace(\u001b[39mdict\u001b[39m(reps))\n\u001b[0;32m-> 6890\u001b[0m c, (P, Q) \u001b[39m=\u001b[39m \u001b[39m1\u001b[39m, F\u001b[39m.\u001b[39;49mcancel(G)\n\u001b[1;32m   6891\u001b[0m \u001b[39mif\u001b[39;00m opt\u001b[39m.\u001b[39mget(\u001b[39m'\u001b[39m\u001b[39mpolys\u001b[39m\u001b[39m'\u001b[39m, \u001b[39mFalse\u001b[39;00m) \u001b[39mand\u001b[39;00m \u001b[39m'\u001b[39m\u001b[39mgens\u001b[39m\u001b[39m'\u001b[39m \u001b[39mnot\u001b[39;00m \u001b[39min\u001b[39;00m opt:\n\u001b[1;32m   6892\u001b[0m     opt[\u001b[39m'\u001b[39m\u001b[39mgens\u001b[39m\u001b[39m'\u001b[39m] \u001b[39m=\u001b[39m R\u001b[39m.\u001b[39msymbols\n",
      "File \u001b[0;32m/Library/Frameworks/Python.framework/Versions/3.11/lib/python3.11/site-packages/sympy/polys/rings.py:2242\u001b[0m, in \u001b[0;36mPolyElement.cancel\u001b[0;34m(self, g)\u001b[0m\n\u001b[1;32m   2239\u001b[0m domain \u001b[39m=\u001b[39m ring\u001b[39m.\u001b[39mdomain\n\u001b[1;32m   2241\u001b[0m \u001b[39mif\u001b[39;00m \u001b[39mnot\u001b[39;00m (domain\u001b[39m.\u001b[39mis_Field \u001b[39mand\u001b[39;00m domain\u001b[39m.\u001b[39mhas_assoc_Ring):\n\u001b[0;32m-> 2242\u001b[0m     _, p, q \u001b[39m=\u001b[39m f\u001b[39m.\u001b[39;49mcofactors(g)\n\u001b[1;32m   2243\u001b[0m \u001b[39melse\u001b[39;00m:\n\u001b[1;32m   2244\u001b[0m     new_ring \u001b[39m=\u001b[39m ring\u001b[39m.\u001b[39mclone(domain\u001b[39m=\u001b[39mdomain\u001b[39m.\u001b[39mget_ring())\n",
      "File \u001b[0;32m/Library/Frameworks/Python.framework/Versions/3.11/lib/python3.11/site-packages/sympy/polys/rings.py:2158\u001b[0m, in \u001b[0;36mPolyElement.cofactors\u001b[0;34m(f, g)\u001b[0m\n\u001b[1;32m   2155\u001b[0m     \u001b[39mreturn\u001b[39;00m h, cff, cfg\n\u001b[1;32m   2157\u001b[0m J, (f, g) \u001b[39m=\u001b[39m f\u001b[39m.\u001b[39mdeflate(g)\n\u001b[0;32m-> 2158\u001b[0m h, cff, cfg \u001b[39m=\u001b[39m f\u001b[39m.\u001b[39;49m_gcd(g)\n\u001b[1;32m   2160\u001b[0m \u001b[39mreturn\u001b[39;00m (h\u001b[39m.\u001b[39minflate(J), cff\u001b[39m.\u001b[39minflate(J), cfg\u001b[39m.\u001b[39minflate(J))\n",
      "File \u001b[0;32m/Library/Frameworks/Python.framework/Versions/3.11/lib/python3.11/site-packages/sympy/polys/rings.py:2191\u001b[0m, in \u001b[0;36mPolyElement._gcd\u001b[0;34m(f, g)\u001b[0m\n\u001b[1;32m   2189\u001b[0m     \u001b[39mreturn\u001b[39;00m f\u001b[39m.\u001b[39m_gcd_QQ(g)\n\u001b[1;32m   2190\u001b[0m \u001b[39melif\u001b[39;00m ring\u001b[39m.\u001b[39mdomain\u001b[39m.\u001b[39mis_ZZ:\n\u001b[0;32m-> 2191\u001b[0m     \u001b[39mreturn\u001b[39;00m f\u001b[39m.\u001b[39;49m_gcd_ZZ(g)\n\u001b[1;32m   2192\u001b[0m \u001b[39melse\u001b[39;00m: \u001b[39m# TODO: don't use dense representation (port PRS algorithms)\u001b[39;00m\n\u001b[1;32m   2193\u001b[0m     \u001b[39mreturn\u001b[39;00m ring\u001b[39m.\u001b[39mdmp_inner_gcd(f, g)\n",
      "File \u001b[0;32m/Library/Frameworks/Python.framework/Versions/3.11/lib/python3.11/site-packages/sympy/polys/rings.py:2196\u001b[0m, in \u001b[0;36mPolyElement._gcd_ZZ\u001b[0;34m(f, g)\u001b[0m\n\u001b[1;32m   2195\u001b[0m \u001b[39mdef\u001b[39;00m \u001b[39m_gcd_ZZ\u001b[39m(f, g):\n\u001b[0;32m-> 2196\u001b[0m     \u001b[39mreturn\u001b[39;00m heugcd(f, g)\n",
      "File \u001b[0;32m/Library/Frameworks/Python.framework/Versions/3.11/lib/python3.11/site-packages/sympy/polys/heuristicgcd.py:80\u001b[0m, in \u001b[0;36mheugcd\u001b[0;34m(f, g)\u001b[0m\n\u001b[1;32m     78\u001b[0m     h, cff, cfg \u001b[39m=\u001b[39m domain\u001b[39m.\u001b[39mcofactors(ff, gg)\n\u001b[1;32m     79\u001b[0m \u001b[39melse\u001b[39;00m:\n\u001b[0;32m---> 80\u001b[0m     h, cff, cfg \u001b[39m=\u001b[39m heugcd(ff, gg)\n\u001b[1;32m     82\u001b[0m h \u001b[39m=\u001b[39m _gcd_interpolate(h, x, ring)\n\u001b[1;32m     83\u001b[0m h \u001b[39m=\u001b[39m h\u001b[39m.\u001b[39mprimitive()[\u001b[39m1\u001b[39m]\n",
      "File \u001b[0;32m/Library/Frameworks/Python.framework/Versions/3.11/lib/python3.11/site-packages/sympy/polys/heuristicgcd.py:80\u001b[0m, in \u001b[0;36mheugcd\u001b[0;34m(f, g)\u001b[0m\n\u001b[1;32m     78\u001b[0m     h, cff, cfg \u001b[39m=\u001b[39m domain\u001b[39m.\u001b[39mcofactors(ff, gg)\n\u001b[1;32m     79\u001b[0m \u001b[39melse\u001b[39;00m:\n\u001b[0;32m---> 80\u001b[0m     h, cff, cfg \u001b[39m=\u001b[39m heugcd(ff, gg)\n\u001b[1;32m     82\u001b[0m h \u001b[39m=\u001b[39m _gcd_interpolate(h, x, ring)\n\u001b[1;32m     83\u001b[0m h \u001b[39m=\u001b[39m h\u001b[39m.\u001b[39mprimitive()[\u001b[39m1\u001b[39m]\n",
      "    \u001b[0;31m[... skipping similar frames: heugcd at line 80 (13 times)]\u001b[0m\n",
      "File \u001b[0;32m/Library/Frameworks/Python.framework/Versions/3.11/lib/python3.11/site-packages/sympy/polys/heuristicgcd.py:80\u001b[0m, in \u001b[0;36mheugcd\u001b[0;34m(f, g)\u001b[0m\n\u001b[1;32m     78\u001b[0m     h, cff, cfg \u001b[39m=\u001b[39m domain\u001b[39m.\u001b[39mcofactors(ff, gg)\n\u001b[1;32m     79\u001b[0m \u001b[39melse\u001b[39;00m:\n\u001b[0;32m---> 80\u001b[0m     h, cff, cfg \u001b[39m=\u001b[39m heugcd(ff, gg)\n\u001b[1;32m     82\u001b[0m h \u001b[39m=\u001b[39m _gcd_interpolate(h, x, ring)\n\u001b[1;32m     83\u001b[0m h \u001b[39m=\u001b[39m h\u001b[39m.\u001b[39mprimitive()[\u001b[39m1\u001b[39m]\n",
      "File \u001b[0;32m/Library/Frameworks/Python.framework/Versions/3.11/lib/python3.11/site-packages/sympy/polys/heuristicgcd.py:73\u001b[0m, in \u001b[0;36mheugcd\u001b[0;34m(f, g)\u001b[0m\n\u001b[1;32m     68\u001b[0m x \u001b[39m=\u001b[39m \u001b[39mmax\u001b[39m(\u001b[39mmin\u001b[39m(B, \u001b[39m99\u001b[39m\u001b[39m*\u001b[39mdomain\u001b[39m.\u001b[39msqrt(B)),\n\u001b[1;32m     69\u001b[0m         \u001b[39m2\u001b[39m\u001b[39m*\u001b[39m\u001b[39mmin\u001b[39m(f_norm \u001b[39m/\u001b[39m\u001b[39m/\u001b[39m \u001b[39mabs\u001b[39m(f\u001b[39m.\u001b[39mLC),\n\u001b[1;32m     70\u001b[0m               g_norm \u001b[39m/\u001b[39m\u001b[39m/\u001b[39m \u001b[39mabs\u001b[39m(g\u001b[39m.\u001b[39mLC)) \u001b[39m+\u001b[39m \u001b[39m4\u001b[39m)\n\u001b[1;32m     72\u001b[0m \u001b[39mfor\u001b[39;00m i \u001b[39min\u001b[39;00m \u001b[39mrange\u001b[39m(\u001b[39m0\u001b[39m, HEU_GCD_MAX):\n\u001b[0;32m---> 73\u001b[0m     ff \u001b[39m=\u001b[39m f\u001b[39m.\u001b[39;49mevaluate(x0, x)\n\u001b[1;32m     74\u001b[0m     gg \u001b[39m=\u001b[39m g\u001b[39m.\u001b[39mevaluate(x0, x)\n\u001b[1;32m     76\u001b[0m     \u001b[39mif\u001b[39;00m ff \u001b[39mand\u001b[39;00m gg:\n",
      "File \u001b[0;32m/Library/Frameworks/Python.framework/Versions/3.11/lib/python3.11/site-packages/sympy/polys/rings.py:2339\u001b[0m, in \u001b[0;36mPolyElement.evaluate\u001b[0;34m(self, x, a)\u001b[0m\n\u001b[1;32m   2337\u001b[0m \u001b[39mfor\u001b[39;00m monom, coeff \u001b[39min\u001b[39;00m f\u001b[39m.\u001b[39miterterms():\n\u001b[1;32m   2338\u001b[0m     n, monom \u001b[39m=\u001b[39m monom[i], monom[:i] \u001b[39m+\u001b[39m monom[i\u001b[39m+\u001b[39m\u001b[39m1\u001b[39m:]\n\u001b[0;32m-> 2339\u001b[0m     coeff \u001b[39m=\u001b[39m coeff\u001b[39m*\u001b[39ma\u001b[39m*\u001b[39;49m\u001b[39m*\u001b[39;49mn\n\u001b[1;32m   2341\u001b[0m     \u001b[39mif\u001b[39;00m monom \u001b[39min\u001b[39;00m poly:\n\u001b[1;32m   2342\u001b[0m         coeff \u001b[39m=\u001b[39m coeff \u001b[39m+\u001b[39m poly[monom]\n",
      "\u001b[0;31mKeyboardInterrupt\u001b[0m: "
     ]
    }
   ],
   "source": [
    "for row in linsol:\n",
    "    simprow = simplify(row)\n",
    "    print(count_ops(simprow))\n",
    "    display(simprow)"
   ]
  },
  {
   "cell_type": "code",
   "execution_count": 11,
   "metadata": {},
   "outputs": [
    {
     "data": {
      "text/latex": [
       "$\\displaystyle \\frac{d}{d t} x_{a}{\\left(t \\right)} = - \\frac{T_{1}^{2} k \\omega_{max} x_{a}{\\left(t \\right)}}{\\tau_{max}} + \\frac{T_{1} k \\omega_{max} x_{l}{\\left(t \\right)}}{T_{2} \\tau_{max}} + \\omega_{max}$"
      ],
      "text/plain": [
       "Eq(Derivative(x_a(t), t), -T1**2*k*omega_max*x_a(t)/tau_max + T1*k*omega_max*x_l(t)/(T2*tau_max) + omega_max)"
      ]
     },
     "metadata": {},
     "output_type": "display_data"
    },
    {
     "data": {
      "text/latex": [
       "$\\displaystyle \\frac{d^{2}}{d t^{2}} x_{l}{\\left(t \\right)} = \\frac{T_{1} k x_{a}{\\left(t \\right)}}{T_{2} m_{l}} - \\frac{k x_{l}{\\left(t \\right)}}{T_{2}^{2} m_{l}}$"
      ],
      "text/plain": [
       "Eq(Derivative(x_l(t), (t, 2)), T1*k*x_a(t)/(T2*m_l) - k*x_l(t)/(T2**2*m_l))"
      ]
     },
     "metadata": {},
     "output_type": "display_data"
    },
    {
     "name": "stderr",
     "output_type": "stream",
     "text": [
      "/Library/Frameworks/Python.framework/Versions/3.11/lib/python3.11/site-packages/sympy/simplify/radsimp.py:1131: SymPyDeprecationWarning: \n",
      "\n",
      "Using non-Expr arguments in Mul is deprecated (in this case, one of\n",
      "the arguments has type 'Tuple').\n",
      "\n",
      "If you really did intend to use a multiplication or addition operation with\n",
      "this object, use the * or + operator instead.\n",
      "\n",
      "See https://docs.sympy.org/latest/explanation/active-deprecations.html#non-expr-args-deprecated\n",
      "for details.\n",
      "\n",
      "This has been deprecated since SymPy version 1.7. It\n",
      "will be removed in a future version of SymPy.\n",
      "\n",
      "  return Mul(*numer, evaluate=not exact), Mul(*denom, evaluate=not exact)\n"
     ]
    },
    {
     "data": {
      "text/plain": [
       "[[Eq(x_a(t), -T1**2*T2*k*m_l*omega_max**2*(T1**8*T2**4*k**2*m_l**2*omega_max**4 + T1**6*T2**3*k*m_l*omega_max**3*sqrt(k*m_l*(T1**4*T2**2*k*m_l*omega_max**2 - 4*tau_max**2)) - 4*T1**4*T2**2*k*m_l*omega_max**2*tau_max**2 - 2*T1**2*T2*omega_max*tau_max**2*sqrt(k*m_l*(T1**4*T2**2*k*m_l*omega_max**2 - 4*tau_max**2)) + 2*tau_max**4)*exp(-t*(T1**2*T2*k*m_l*omega_max + sqrt(T1**4*T2**2*k**2*m_l**2*omega_max**2 - 4*k*m_l*tau_max**2))/(2*T2*m_l*tau_max))*Integral(exp(T1**2*k*omega_max*t/(2*tau_max))*exp(t*sqrt(k*m_l*(T1**4*T2**2*k*m_l*omega_max**2 - 4*tau_max**2))/(2*T2*m_l*tau_max)), (t, 0))/(T1**10*T2**5*k**3*m_l**3*omega_max**5 + T1**8*T2**4*k**2*m_l**2*omega_max**4*sqrt(k*m_l*(T1**4*T2**2*k*m_l*omega_max**2 - 4*tau_max**2)) - 6*T1**6*T2**3*k**2*m_l**2*omega_max**3*tau_max**2 - 4*T1**4*T2**2*k*m_l*omega_max**2*tau_max**2*sqrt(k*m_l*(T1**4*T2**2*k*m_l*omega_max**2 - 4*tau_max**2)) + 8*T1**2*T2*k*m_l*omega_max*tau_max**4 + 2*tau_max**4*sqrt(k*m_l*(T1**4*T2**2*k*m_l*omega_max**2 - 4*tau_max**2))) + T1**2*T2*k*m_l*omega_max**2*exp(-t*(T1**2*T2*k*m_l*omega_max + sqrt(T1**4*T2**2*k**2*m_l**2*omega_max**2 - 4*k*m_l*tau_max**2))/(2*T2*m_l*tau_max))*Integral(exp(t*(T1**2*k*omega_max + sqrt(k*m_l*(T1**4*T2**2*k*m_l*omega_max**2 - 4*tau_max**2))/(T2*m_l))/(2*tau_max)), t)/sqrt(k*m_l*(T1**4*T2**2*k*m_l*omega_max**2 - 4*tau_max**2)) - T1**2*T2*k*m_l*omega_max**2*exp(-t*(T1**2*T2*k*m_l*omega_max - sqrt(T1**4*T2**2*k**2*m_l**2*omega_max**2 - 4*k*m_l*tau_max**2))/(2*T2*m_l*tau_max))*Integral(exp(t*(T1**2*k*omega_max - sqrt(k*m_l*(T1**4*T2**2*k*m_l*omega_max**2 - 4*tau_max**2))/(T2*m_l))/(2*tau_max)), t)/sqrt(k*m_l*(T1**4*T2**2*k*m_l*omega_max**2 - 4*tau_max**2)) + T1**2*T2*omega_max**2*(T1**2*T2*k*m_l*omega_max + sqrt(k*m_l*(T1**4*T2**2*k*m_l*omega_max**2 - 4*tau_max**2)))*exp(-t*(T1**2*T2*k*m_l*omega_max - sqrt(T1**4*T2**2*k**2*m_l**2*omega_max**2 - 4*k*m_l*tau_max**2))/(2*T2*m_l*tau_max))*Integral(exp(T1**2*k*omega_max*t/(2*tau_max))*exp(-t*sqrt(k*m_l*(T1**4*T2**2*k*m_l*omega_max**2 - 4*tau_max**2))/(2*T2*m_l*tau_max)), (t, 0))/(T1**4*T2**2*k*m_l*omega_max**2 + T1**2*T2*omega_max*sqrt(k*m_l*(T1**4*T2**2*k*m_l*omega_max**2 - 4*tau_max**2)) - 4*tau_max**2) + omega_max*Integral(1, t) - omega_max*Integral(1, (t, 0))),\n",
       "  Eq(x_l(t), -2*T1*T2*k*m_l*omega_max*tau_max**2*(T1**8*T2**4*k**2*m_l**2*omega_max**4 + T1**6*T2**3*k*m_l*omega_max**3*sqrt(k*m_l*(T1**4*T2**2*k*m_l*omega_max**2 - 4*tau_max**2)) - 4*T1**4*T2**2*k*m_l*omega_max**2*tau_max**2 - 2*T1**2*T2*omega_max*tau_max**2*sqrt(k*m_l*(T1**4*T2**2*k*m_l*omega_max**2 - 4*tau_max**2)) + 2*tau_max**4)*exp(-t*(T1**2*T2*k*m_l*omega_max + sqrt(T1**4*T2**2*k**2*m_l**2*omega_max**2 - 4*k*m_l*tau_max**2))/(2*T2*m_l*tau_max))*Integral(exp(T1**2*k*omega_max*t/(2*tau_max))*exp(t*sqrt(k*m_l*(T1**4*T2**2*k*m_l*omega_max**2 - 4*tau_max**2))/(2*T2*m_l*tau_max)), (t, 0))/((T1**2*T2*k*m_l*omega_max + sqrt(k*m_l*(T1**4*T2**2*k*m_l*omega_max**2 - 4*tau_max**2)))*(T1**10*T2**5*k**3*m_l**3*omega_max**5 + T1**8*T2**4*k**2*m_l**2*omega_max**4*sqrt(k*m_l*(T1**4*T2**2*k*m_l*omega_max**2 - 4*tau_max**2)) - 6*T1**6*T2**3*k**2*m_l**2*omega_max**3*tau_max**2 - 4*T1**4*T2**2*k*m_l*omega_max**2*tau_max**2*sqrt(k*m_l*(T1**4*T2**2*k*m_l*omega_max**2 - 4*tau_max**2)) + 8*T1**2*T2*k*m_l*omega_max*tau_max**4 + 2*tau_max**4*sqrt(k*m_l*(T1**4*T2**2*k*m_l*omega_max**2 - 4*tau_max**2)))) + 2*T1*T2*k*m_l*omega_max*tau_max**2*exp(-t*(T1**2*T2*k*m_l*omega_max + sqrt(T1**4*T2**2*k**2*m_l**2*omega_max**2 - 4*k*m_l*tau_max**2))/(2*T2*m_l*tau_max))*Integral(exp(t*(T1**2*k*omega_max + sqrt(k*m_l*(T1**4*T2**2*k*m_l*omega_max**2 - 4*tau_max**2))/(T2*m_l))/(2*tau_max)), t)/(sqrt(k*m_l*(T1**4*T2**2*k*m_l*omega_max**2 - 4*tau_max**2))*(T1**2*T2*k*m_l*omega_max + sqrt(k*m_l*(T1**4*T2**2*k*m_l*omega_max**2 - 4*tau_max**2)))) - 2*T1*T2*k*m_l*omega_max*tau_max**2*exp(-t*(T1**2*T2*k*m_l*omega_max - sqrt(T1**4*T2**2*k**2*m_l**2*omega_max**2 - 4*k*m_l*tau_max**2))/(2*T2*m_l*tau_max))*Integral(exp(t*(T1**2*k*omega_max - sqrt(k*m_l*(T1**4*T2**2*k*m_l*omega_max**2 - 4*tau_max**2))/(T2*m_l))/(2*tau_max)), t)/(sqrt(k*m_l*(T1**4*T2**2*k*m_l*omega_max**2 - 4*tau_max**2))*(T1**2*T2*k*m_l*omega_max - sqrt(k*m_l*(T1**4*T2**2*k*m_l*omega_max**2 - 4*tau_max**2)))) + 2*T1*T2*omega_max*tau_max**2*(T1**2*T2*k*m_l*omega_max + sqrt(k*m_l*(T1**4*T2**2*k*m_l*omega_max**2 - 4*tau_max**2)))*exp(-t*(T1**2*T2*k*m_l*omega_max - sqrt(T1**4*T2**2*k**2*m_l**2*omega_max**2 - 4*k*m_l*tau_max**2))/(2*T2*m_l*tau_max))*Integral(exp(T1**2*k*omega_max*t/(2*tau_max))*exp(-t*sqrt(k*m_l*(T1**4*T2**2*k*m_l*omega_max**2 - 4*tau_max**2))/(2*T2*m_l*tau_max)), (t, 0))/((T1**2*T2*k*m_l*omega_max - sqrt(k*m_l*(T1**4*T2**2*k*m_l*omega_max**2 - 4*tau_max**2)))*(T1**4*T2**2*k*m_l*omega_max**2 + T1**2*T2*omega_max*sqrt(k*m_l*(T1**4*T2**2*k*m_l*omega_max**2 - 4*tau_max**2)) - 4*tau_max**2)) + T1*T2*omega_max*Integral(1, t) - T1*T2*omega_max*Integral(1, (t, 0)))]]"
      ]
     },
     "execution_count": 11,
     "metadata": {},
     "output_type": "execute_result"
    }
   ],
   "source": [
    "from sympy.solvers.ode.systems import dsolve_system\n",
    "\n",
    "tau_max, omega_max = symbols(\"tau_max, omega_max\") #stall torque, free speed\n",
    "\n",
    "T1, T2, k, m_a, m_l = symbols('T1, T2, k, m_a, m_l')\n",
    "c0, c1, c2, c3, c4, c5, c6 = symbols('c:7')\n",
    "\n",
    "x_a, x_l = symbols(\"x_a x_l\", cls=Function)\n",
    "t = symbols('t')\n",
    "\n",
    "c1 = -k * T1**2 * omega_max / tau_max\n",
    "c2 = k * T1 * omega_max / (tau_max * T2)\n",
    "c3 = k * T1 / (T2 * m_l)\n",
    "c4 = -k / (T2**2 * m_l)\n",
    "\n",
    "eqs = [\n",
    "    Eq(x_a(t).diff(t), c1*x_a(t) + c2*x_l(t) + omega_max), \n",
    "    Eq(x_l(t).diff(t).diff(t), c3*x_a(t) + c4*x_l(t))\n",
    "]\n",
    "display(eqs[0], eqs[1])\n",
    "\n",
    "# sol = dsolve_system(eqs)\n",
    "sol = dsolve_system(eqs, ics={x_a(0):0, x_l(0):0, x_l(t).diff(t).subs(t,0):0})\n",
    "sol"
   ]
  },
  {
   "cell_type": "code",
   "execution_count": 47,
   "metadata": {},
   "outputs": [
    {
     "name": "stdout",
     "output_type": "stream",
     "text": [
      "  # Not supported in Python:\n",
      "  # Integral\n",
      "  # Integral\n",
      "  # Integral\n",
      "  # Integral\n",
      "  # Integral\n",
      "  # Integral\n",
      "x0 = T1**2\n",
      "x1 = omega_max**2\n",
      "x2 = tau_max**2\n",
      "x3 = 4*x2\n",
      "x4 = k*m_l\n",
      "x5 = x1*x4\n",
      "x6 = T1**4*T2**2\n",
      "x7 = -x3 + x5*x6\n",
      "x8 = math.sqrt(x4*x7)\n",
      "x9 = 1/x8\n",
      "x10 = omega_max*x0\n",
      "x11 = k*x10\n",
      "x12 = 1/(T2*m_l)\n",
      "x13 = x12*x8\n",
      "x14 = (1/2)*t/tau_max\n",
      "x15 = T2*x10\n",
      "x16 = x15*x4\n",
      "x17 = x3*x4\n",
      "x18 = k**2*m_l**2\n",
      "x19 = x1*x6\n",
      "x20 = math.sqrt(-x17 + x18*x19)\n",
      "x21 = x12*x14\n",
      "x22 = math.exp(-x21*(x16 + x20))\n",
      "x23 = math.exp(-x21*(x16 - x20))\n",
      "x24 = T2*x0\n",
      "x25 = x15*x8\n",
      "x26 = math.exp(x11*x14)\n",
      "x27 = x13*x14\n",
      "x28 = tau_max**4\n",
      "x29 = T1**6*T2**3*omega_max**3\n",
      "x30 = 2*x28\n",
      "x31 = T1**8*T2**4*omega_max**4*x18\n",
      "x32 = x17*x19\n",
      "n = T2*k*m_l*x0*x1*x22*x9*Integral(exp(x14*(x11 + x13)), t) + T2*x0*x1*x23*(x16 + x8)*Integral(x26*exp(-x27), (t, 0))/(x25 + x7) + omega_max*Integral(1, t) - omega_max*Integral(1, (t, 0)) - x22*x24*x5*(-2*x2*x25 + x29*x4*x8 + x30 + x31 - x32)*Integral(x26*exp(x27), (t, 0))/(T1**10*T2**5*k**3*m_l**3*omega_max**5 + 8*x16*x28 - 6*x18*x2*x29 + x30*x8 + x31*x8 - x32*x8) - x23*x24*x5*x9*Integral(exp(x14*(x11 - x13)), t)\n"
     ]
    }
   ],
   "source": [
    "from sympy.codegen.ast import CodeBlock, Assignment\n",
    "\n",
    "# print(python(sol[0][0].rhs))\n",
    "\n",
    "n = Symbol('n')\n",
    "print(pycode(CodeBlock(Assignment(n, sol[0][0].rhs)).cse()))"
   ]
  },
  {
   "cell_type": "code",
   "execution_count": 48,
   "metadata": {},
   "outputs": [
    {
     "data": {
      "text/latex": [
       "$\\displaystyle \\int e^{\\frac{t \\left(T_{1}^{2} k \\omega_{max} - \\frac{\\sqrt{k m_{l} \\left(T_{1}^{4} T_{2}^{2} k m_{l} \\omega_{max}^{2} - 4 \\tau_{max}^{2}\\right)}}{T_{2} m_{l}}\\right)}{2 \\tau_{max}}}\\, dt$"
      ],
      "text/plain": [
       "Integral(exp(t*(T1**2*k*omega_max - sqrt(k*m_l*(T1**4*T2**2*k*m_l*omega_max**2 - 4*tau_max**2))/(T2*m_l))/(2*tau_max)), t)"
      ]
     },
     "metadata": {},
     "output_type": "display_data"
    },
    {
     "data": {
      "text/latex": [
       "$\\displaystyle \\begin{cases} \\frac{2 T_{2} m_{l} \\tau_{max} e^{\\frac{t \\left(T_{1}^{2} T_{2} k m_{l} \\omega_{max} - \\sqrt{k m_{l} \\left(T_{1}^{4} T_{2}^{2} k m_{l} \\omega_{max}^{2} - 4 \\tau_{max}^{2}\\right)}\\right)}{2 T_{2} m_{l} \\tau_{max}}}}{T_{1}^{2} T_{2} k m_{l} \\omega_{max} - \\sqrt{T_{1}^{4} T_{2}^{2} k^{2} m_{l}^{2} \\omega_{max}^{2} - 4 k m_{l} \\tau_{max}^{2}}} & \\text{for}\\: T_{1}^{2} T_{2} k m_{l} \\omega_{max} - \\sqrt{T_{1}^{4} T_{2}^{2} k^{2} m_{l}^{2} \\omega_{max}^{2} - 4 k m_{l} \\tau_{max}^{2}} \\neq 0 \\\\t & \\text{otherwise} \\end{cases}$"
      ],
      "text/plain": [
       "Piecewise((2*T2*m_l*tau_max*exp(t*(T1**2*T2*k*m_l*omega_max - sqrt(k*m_l*(T1**4*T2**2*k*m_l*omega_max**2 - 4*tau_max**2)))/(2*T2*m_l*tau_max))/(T1**2*T2*k*m_l*omega_max - sqrt(T1**4*T2**2*k**2*m_l**2*omega_max**2 - 4*k*m_l*tau_max**2)), Ne(T1**2*T2*k*m_l*omega_max - sqrt(T1**4*T2**2*k**2*m_l**2*omega_max**2 - 4*k*m_l*tau_max**2), 0)), (t, True))"
      ]
     },
     "metadata": {},
     "output_type": "display_data"
    }
   ],
   "source": [
    "integ = Integral(exp(t*(T1**2*k*omega_max - sqrt(k*m_l*(T1**4*T2**2*k*m_l*omega_max**2 - 4*tau_max**2))/(T2*m_l))/(2*tau_max)), t)\n",
    "display(integ, simplify(integ + 1)-1)"
   ]
  },
  {
   "cell_type": "code",
   "execution_count": 197,
   "metadata": {},
   "outputs": [
    {
     "data": {
      "text/latex": [
       "$\\displaystyle x_{a}{\\left(t \\right)} = - \\frac{T_{1}^{2} T_{2} k m_{l} \\omega_{max}^{2} \\left(T_{1}^{8} T_{2}^{4} k^{2} m_{l}^{2} \\omega_{max}^{4} + T_{1}^{6} T_{2}^{3} k m_{l} \\omega_{max}^{3} \\sqrt{k m_{l} \\left(T_{1}^{4} T_{2}^{2} k m_{l} \\omega_{max}^{2} - 4 \\tau_{max}^{2}\\right)} - 4 T_{1}^{4} T_{2}^{2} k m_{l} \\omega_{max}^{2} \\tau_{max}^{2} - 2 T_{1}^{2} T_{2} \\omega_{max} \\tau_{max}^{2} \\sqrt{k m_{l} \\left(T_{1}^{4} T_{2}^{2} k m_{l} \\omega_{max}^{2} - 4 \\tau_{max}^{2}\\right)} + 2 \\tau_{max}^{4}\\right) \\left(\\begin{cases} \\frac{2 T_{2} m_{l} \\tau_{max}}{T_{1}^{2} T_{2} k m_{l} \\omega_{max} + \\sqrt{T_{1}^{4} T_{2}^{2} k^{2} m_{l}^{2} \\omega_{max}^{2} - 4 k m_{l} \\tau_{max}^{2}}} & \\text{for}\\: k \\neq 0 \\\\0 & \\text{otherwise} \\end{cases}\\right) e^{- \\frac{t \\left(T_{1}^{2} T_{2} k m_{l} \\omega_{max} + \\sqrt{T_{1}^{4} T_{2}^{2} k^{2} m_{l}^{2} \\omega_{max}^{2} - 4 k m_{l} \\tau_{max}^{2}}\\right)}{2 T_{2} m_{l} \\tau_{max}}}}{T_{1}^{10} T_{2}^{5} k^{3} m_{l}^{3} \\omega_{max}^{5} + T_{1}^{8} T_{2}^{4} k^{2} m_{l}^{2} \\omega_{max}^{4} \\sqrt{k m_{l} \\left(T_{1}^{4} T_{2}^{2} k m_{l} \\omega_{max}^{2} - 4 \\tau_{max}^{2}\\right)} - 6 T_{1}^{6} T_{2}^{3} k^{2} m_{l}^{2} \\omega_{max}^{3} \\tau_{max}^{2} - 4 T_{1}^{4} T_{2}^{2} k m_{l} \\omega_{max}^{2} \\tau_{max}^{2} \\sqrt{k m_{l} \\left(T_{1}^{4} T_{2}^{2} k m_{l} \\omega_{max}^{2} - 4 \\tau_{max}^{2}\\right)} + 8 T_{1}^{2} T_{2} k m_{l} \\omega_{max} \\tau_{max}^{4} + 2 \\tau_{max}^{4} \\sqrt{k m_{l} \\left(T_{1}^{4} T_{2}^{2} k m_{l} \\omega_{max}^{2} - 4 \\tau_{max}^{2}\\right)}} - \\frac{T_{1}^{2} T_{2} k m_{l} \\omega_{max}^{2} \\left(\\begin{cases} \\frac{2 T_{2} m_{l} \\tau_{max} e^{\\frac{t \\left(T_{1}^{2} k \\omega_{max} - \\frac{\\sqrt{k m_{l} \\left(T_{1}^{4} T_{2}^{2} k m_{l} \\omega_{max}^{2} - 4 \\tau_{max}^{2}\\right)}}{T_{2} m_{l}}\\right)}{2 \\tau_{max}}}}{T_{1}^{2} T_{2} k m_{l} \\omega_{max} - \\sqrt{T_{1}^{4} T_{2}^{2} k^{2} m_{l}^{2} \\omega_{max}^{2} - 4 k m_{l} \\tau_{max}^{2}}} & \\text{for}\\: T_{1}^{2} T_{2} k m_{l} \\omega_{max} - \\sqrt{T_{1}^{4} T_{2}^{2} k^{2} m_{l}^{2} \\omega_{max}^{2} - 4 k m_{l} \\tau_{max}^{2}} \\neq 0 \\\\t & \\text{otherwise} \\end{cases}\\right) e^{- \\frac{t \\left(T_{1}^{2} T_{2} k m_{l} \\omega_{max} - \\sqrt{T_{1}^{4} T_{2}^{2} k^{2} m_{l}^{2} \\omega_{max}^{2} - 4 k m_{l} \\tau_{max}^{2}}\\right)}{2 T_{2} m_{l} \\tau_{max}}}}{\\sqrt{k m_{l} \\left(T_{1}^{4} T_{2}^{2} k m_{l} \\omega_{max}^{2} - 4 \\tau_{max}^{2}\\right)}} + \\frac{T_{1}^{2} T_{2} k m_{l} \\omega_{max}^{2} \\left(\\begin{cases} \\frac{2 T_{2} m_{l} \\tau_{max} e^{\\frac{t \\left(T_{1}^{2} k \\omega_{max} + \\frac{\\sqrt{k m_{l} \\left(T_{1}^{4} T_{2}^{2} k m_{l} \\omega_{max}^{2} - 4 \\tau_{max}^{2}\\right)}}{T_{2} m_{l}}\\right)}{2 \\tau_{max}}}}{T_{1}^{2} T_{2} k m_{l} \\omega_{max} + \\sqrt{T_{1}^{4} T_{2}^{2} k^{2} m_{l}^{2} \\omega_{max}^{2} - 4 k m_{l} \\tau_{max}^{2}}} & \\text{for}\\: T_{1}^{2} T_{2} k m_{l} \\omega_{max} + \\sqrt{T_{1}^{4} T_{2}^{2} k^{2} m_{l}^{2} \\omega_{max}^{2} - 4 k m_{l} \\tau_{max}^{2}} \\neq 0 \\\\t & \\text{otherwise} \\end{cases}\\right) e^{- \\frac{t \\left(T_{1}^{2} T_{2} k m_{l} \\omega_{max} + \\sqrt{T_{1}^{4} T_{2}^{2} k^{2} m_{l}^{2} \\omega_{max}^{2} - 4 k m_{l} \\tau_{max}^{2}}\\right)}{2 T_{2} m_{l} \\tau_{max}}}}{\\sqrt{k m_{l} \\left(T_{1}^{4} T_{2}^{2} k m_{l} \\omega_{max}^{2} - 4 \\tau_{max}^{2}\\right)}} + \\frac{T_{1}^{2} T_{2} \\omega_{max}^{2} \\left(T_{1}^{2} T_{2} k m_{l} \\omega_{max} + \\sqrt{k m_{l} \\left(T_{1}^{4} T_{2}^{2} k m_{l} \\omega_{max}^{2} - 4 \\tau_{max}^{2}\\right)}\\right) \\left(\\begin{cases} \\frac{2 T_{2} m_{l} \\tau_{max}}{T_{1}^{2} T_{2} k m_{l} \\omega_{max} - \\sqrt{T_{1}^{4} T_{2}^{2} k^{2} m_{l}^{2} \\omega_{max}^{2} - 4 k m_{l} \\tau_{max}^{2}}} & \\text{for}\\: k \\neq 0 \\\\0 & \\text{otherwise} \\end{cases}\\right) e^{- \\frac{t \\left(T_{1}^{2} T_{2} k m_{l} \\omega_{max} - \\sqrt{T_{1}^{4} T_{2}^{2} k^{2} m_{l}^{2} \\omega_{max}^{2} - 4 k m_{l} \\tau_{max}^{2}}\\right)}{2 T_{2} m_{l} \\tau_{max}}}}{T_{1}^{4} T_{2}^{2} k m_{l} \\omega_{max}^{2} + T_{1}^{2} T_{2} \\omega_{max} \\sqrt{k m_{l} \\left(T_{1}^{4} T_{2}^{2} k m_{l} \\omega_{max}^{2} - 4 \\tau_{max}^{2}\\right)} - 4 \\tau_{max}^{2}} + \\omega_{max} t$"
      ],
      "text/plain": [
       "Eq(x_a(t), -T1**2*T2*k*m_l*omega_max**2*(T1**8*T2**4*k**2*m_l**2*omega_max**4 + T1**6*T2**3*k*m_l*omega_max**3*sqrt(k*m_l*(T1**4*T2**2*k*m_l*omega_max**2 - 4*tau_max**2)) - 4*T1**4*T2**2*k*m_l*omega_max**2*tau_max**2 - 2*T1**2*T2*omega_max*tau_max**2*sqrt(k*m_l*(T1**4*T2**2*k*m_l*omega_max**2 - 4*tau_max**2)) + 2*tau_max**4)*Piecewise((2*T2*m_l*tau_max/(T1**2*T2*k*m_l*omega_max + sqrt(T1**4*T2**2*k**2*m_l**2*omega_max**2 - 4*k*m_l*tau_max**2)), Ne(k, 0)), (0, True))*exp(-t*(T1**2*T2*k*m_l*omega_max + sqrt(T1**4*T2**2*k**2*m_l**2*omega_max**2 - 4*k*m_l*tau_max**2))/(2*T2*m_l*tau_max))/(T1**10*T2**5*k**3*m_l**3*omega_max**5 + T1**8*T2**4*k**2*m_l**2*omega_max**4*sqrt(k*m_l*(T1**4*T2**2*k*m_l*omega_max**2 - 4*tau_max**2)) - 6*T1**6*T2**3*k**2*m_l**2*omega_max**3*tau_max**2 - 4*T1**4*T2**2*k*m_l*omega_max**2*tau_max**2*sqrt(k*m_l*(T1**4*T2**2*k*m_l*omega_max**2 - 4*tau_max**2)) + 8*T1**2*T2*k*m_l*omega_max*tau_max**4 + 2*tau_max**4*sqrt(k*m_l*(T1**4*T2**2*k*m_l*omega_max**2 - 4*tau_max**2))) - T1**2*T2*k*m_l*omega_max**2*Piecewise((2*T2*m_l*tau_max*exp(t*(T1**2*k*omega_max - sqrt(k*m_l*(T1**4*T2**2*k*m_l*omega_max**2 - 4*tau_max**2))/(T2*m_l))/(2*tau_max))/(T1**2*T2*k*m_l*omega_max - sqrt(T1**4*T2**2*k**2*m_l**2*omega_max**2 - 4*k*m_l*tau_max**2)), Ne(T1**2*T2*k*m_l*omega_max - sqrt(T1**4*T2**2*k**2*m_l**2*omega_max**2 - 4*k*m_l*tau_max**2), 0)), (t, True))*exp(-t*(T1**2*T2*k*m_l*omega_max - sqrt(T1**4*T2**2*k**2*m_l**2*omega_max**2 - 4*k*m_l*tau_max**2))/(2*T2*m_l*tau_max))/sqrt(k*m_l*(T1**4*T2**2*k*m_l*omega_max**2 - 4*tau_max**2)) + T1**2*T2*k*m_l*omega_max**2*Piecewise((2*T2*m_l*tau_max*exp(t*(T1**2*k*omega_max + sqrt(k*m_l*(T1**4*T2**2*k*m_l*omega_max**2 - 4*tau_max**2))/(T2*m_l))/(2*tau_max))/(T1**2*T2*k*m_l*omega_max + sqrt(T1**4*T2**2*k**2*m_l**2*omega_max**2 - 4*k*m_l*tau_max**2)), Ne(T1**2*T2*k*m_l*omega_max + sqrt(T1**4*T2**2*k**2*m_l**2*omega_max**2 - 4*k*m_l*tau_max**2), 0)), (t, True))*exp(-t*(T1**2*T2*k*m_l*omega_max + sqrt(T1**4*T2**2*k**2*m_l**2*omega_max**2 - 4*k*m_l*tau_max**2))/(2*T2*m_l*tau_max))/sqrt(k*m_l*(T1**4*T2**2*k*m_l*omega_max**2 - 4*tau_max**2)) + T1**2*T2*omega_max**2*(T1**2*T2*k*m_l*omega_max + sqrt(k*m_l*(T1**4*T2**2*k*m_l*omega_max**2 - 4*tau_max**2)))*Piecewise((2*T2*m_l*tau_max/(T1**2*T2*k*m_l*omega_max - sqrt(T1**4*T2**2*k**2*m_l**2*omega_max**2 - 4*k*m_l*tau_max**2)), Ne(k, 0)), (0, True))*exp(-t*(T1**2*T2*k*m_l*omega_max - sqrt(T1**4*T2**2*k**2*m_l**2*omega_max**2 - 4*k*m_l*tau_max**2))/(2*T2*m_l*tau_max))/(T1**4*T2**2*k*m_l*omega_max**2 + T1**2*T2*omega_max*sqrt(k*m_l*(T1**4*T2**2*k*m_l*omega_max**2 - 4*tau_max**2)) - 4*tau_max**2) + omega_max*t)"
      ]
     },
     "metadata": {},
     "output_type": "display_data"
    },
    {
     "data": {
      "text/latex": [
       "$\\displaystyle x_{l}{\\left(t \\right)} = - \\frac{2 T_{1} T_{2} k m_{l} \\omega_{max} \\tau_{max}^{2} \\left(T_{1}^{8} T_{2}^{4} k^{2} m_{l}^{2} \\omega_{max}^{4} + T_{1}^{6} T_{2}^{3} k m_{l} \\omega_{max}^{3} \\sqrt{k m_{l} \\left(T_{1}^{4} T_{2}^{2} k m_{l} \\omega_{max}^{2} - 4 \\tau_{max}^{2}\\right)} - 4 T_{1}^{4} T_{2}^{2} k m_{l} \\omega_{max}^{2} \\tau_{max}^{2} - 2 T_{1}^{2} T_{2} \\omega_{max} \\tau_{max}^{2} \\sqrt{k m_{l} \\left(T_{1}^{4} T_{2}^{2} k m_{l} \\omega_{max}^{2} - 4 \\tau_{max}^{2}\\right)} + 2 \\tau_{max}^{4}\\right) \\left(\\begin{cases} \\frac{2 T_{2} m_{l} \\tau_{max}}{T_{1}^{2} T_{2} k m_{l} \\omega_{max} + \\sqrt{T_{1}^{4} T_{2}^{2} k^{2} m_{l}^{2} \\omega_{max}^{2} - 4 k m_{l} \\tau_{max}^{2}}} & \\text{for}\\: k \\neq 0 \\\\0 & \\text{otherwise} \\end{cases}\\right) e^{- \\frac{t \\left(T_{1}^{2} T_{2} k m_{l} \\omega_{max} + \\sqrt{T_{1}^{4} T_{2}^{2} k^{2} m_{l}^{2} \\omega_{max}^{2} - 4 k m_{l} \\tau_{max}^{2}}\\right)}{2 T_{2} m_{l} \\tau_{max}}}}{\\left(T_{1}^{2} T_{2} k m_{l} \\omega_{max} + \\sqrt{k m_{l} \\left(T_{1}^{4} T_{2}^{2} k m_{l} \\omega_{max}^{2} - 4 \\tau_{max}^{2}\\right)}\\right) \\left(T_{1}^{10} T_{2}^{5} k^{3} m_{l}^{3} \\omega_{max}^{5} + T_{1}^{8} T_{2}^{4} k^{2} m_{l}^{2} \\omega_{max}^{4} \\sqrt{k m_{l} \\left(T_{1}^{4} T_{2}^{2} k m_{l} \\omega_{max}^{2} - 4 \\tau_{max}^{2}\\right)} - 6 T_{1}^{6} T_{2}^{3} k^{2} m_{l}^{2} \\omega_{max}^{3} \\tau_{max}^{2} - 4 T_{1}^{4} T_{2}^{2} k m_{l} \\omega_{max}^{2} \\tau_{max}^{2} \\sqrt{k m_{l} \\left(T_{1}^{4} T_{2}^{2} k m_{l} \\omega_{max}^{2} - 4 \\tau_{max}^{2}\\right)} + 8 T_{1}^{2} T_{2} k m_{l} \\omega_{max} \\tau_{max}^{4} + 2 \\tau_{max}^{4} \\sqrt{k m_{l} \\left(T_{1}^{4} T_{2}^{2} k m_{l} \\omega_{max}^{2} - 4 \\tau_{max}^{2}\\right)}\\right)} + \\frac{2 T_{1} T_{2} k m_{l} \\omega_{max} \\tau_{max}^{2} \\left(\\begin{cases} \\frac{2 T_{2} m_{l} \\tau_{max} e^{\\frac{t \\left(T_{1}^{2} k \\omega_{max} + \\frac{\\sqrt{k m_{l} \\left(T_{1}^{4} T_{2}^{2} k m_{l} \\omega_{max}^{2} - 4 \\tau_{max}^{2}\\right)}}{T_{2} m_{l}}\\right)}{2 \\tau_{max}}}}{T_{1}^{2} T_{2} k m_{l} \\omega_{max} + \\sqrt{T_{1}^{4} T_{2}^{2} k^{2} m_{l}^{2} \\omega_{max}^{2} - 4 k m_{l} \\tau_{max}^{2}}} & \\text{for}\\: T_{1}^{2} T_{2} k m_{l} \\omega_{max} + \\sqrt{T_{1}^{4} T_{2}^{2} k^{2} m_{l}^{2} \\omega_{max}^{2} - 4 k m_{l} \\tau_{max}^{2}} \\neq 0 \\\\t & \\text{otherwise} \\end{cases}\\right) e^{- \\frac{t \\left(T_{1}^{2} T_{2} k m_{l} \\omega_{max} + \\sqrt{T_{1}^{4} T_{2}^{2} k^{2} m_{l}^{2} \\omega_{max}^{2} - 4 k m_{l} \\tau_{max}^{2}}\\right)}{2 T_{2} m_{l} \\tau_{max}}}}{\\sqrt{k m_{l} \\left(T_{1}^{4} T_{2}^{2} k m_{l} \\omega_{max}^{2} - 4 \\tau_{max}^{2}\\right)} \\left(T_{1}^{2} T_{2} k m_{l} \\omega_{max} + \\sqrt{k m_{l} \\left(T_{1}^{4} T_{2}^{2} k m_{l} \\omega_{max}^{2} - 4 \\tau_{max}^{2}\\right)}\\right)} - \\frac{2 T_{1} T_{2} k m_{l} \\omega_{max} \\tau_{max}^{2} \\left(\\begin{cases} \\frac{2 T_{2} m_{l} \\tau_{max} e^{\\frac{t \\left(T_{1}^{2} k \\omega_{max} - \\frac{\\sqrt{k m_{l} \\left(T_{1}^{4} T_{2}^{2} k m_{l} \\omega_{max}^{2} - 4 \\tau_{max}^{2}\\right)}}{T_{2} m_{l}}\\right)}{2 \\tau_{max}}}}{T_{1}^{2} T_{2} k m_{l} \\omega_{max} - \\sqrt{T_{1}^{4} T_{2}^{2} k^{2} m_{l}^{2} \\omega_{max}^{2} - 4 k m_{l} \\tau_{max}^{2}}} & \\text{for}\\: T_{1}^{2} T_{2} k m_{l} \\omega_{max} - \\sqrt{T_{1}^{4} T_{2}^{2} k^{2} m_{l}^{2} \\omega_{max}^{2} - 4 k m_{l} \\tau_{max}^{2}} \\neq 0 \\\\t & \\text{otherwise} \\end{cases}\\right) e^{- \\frac{t \\left(T_{1}^{2} T_{2} k m_{l} \\omega_{max} - \\sqrt{T_{1}^{4} T_{2}^{2} k^{2} m_{l}^{2} \\omega_{max}^{2} - 4 k m_{l} \\tau_{max}^{2}}\\right)}{2 T_{2} m_{l} \\tau_{max}}}}{\\sqrt{k m_{l} \\left(T_{1}^{4} T_{2}^{2} k m_{l} \\omega_{max}^{2} - 4 \\tau_{max}^{2}\\right)} \\left(T_{1}^{2} T_{2} k m_{l} \\omega_{max} - \\sqrt{k m_{l} \\left(T_{1}^{4} T_{2}^{2} k m_{l} \\omega_{max}^{2} - 4 \\tau_{max}^{2}\\right)}\\right)} + T_{1} T_{2} \\omega_{max} t + \\frac{2 T_{1} T_{2} \\omega_{max} \\tau_{max}^{2} \\left(T_{1}^{2} T_{2} k m_{l} \\omega_{max} + \\sqrt{k m_{l} \\left(T_{1}^{4} T_{2}^{2} k m_{l} \\omega_{max}^{2} - 4 \\tau_{max}^{2}\\right)}\\right) \\left(\\begin{cases} \\frac{2 T_{2} m_{l} \\tau_{max}}{T_{1}^{2} T_{2} k m_{l} \\omega_{max} - \\sqrt{T_{1}^{4} T_{2}^{2} k^{2} m_{l}^{2} \\omega_{max}^{2} - 4 k m_{l} \\tau_{max}^{2}}} & \\text{for}\\: k \\neq 0 \\\\0 & \\text{otherwise} \\end{cases}\\right) e^{- \\frac{t \\left(T_{1}^{2} T_{2} k m_{l} \\omega_{max} - \\sqrt{T_{1}^{4} T_{2}^{2} k^{2} m_{l}^{2} \\omega_{max}^{2} - 4 k m_{l} \\tau_{max}^{2}}\\right)}{2 T_{2} m_{l} \\tau_{max}}}}{\\left(T_{1}^{2} T_{2} k m_{l} \\omega_{max} - \\sqrt{k m_{l} \\left(T_{1}^{4} T_{2}^{2} k m_{l} \\omega_{max}^{2} - 4 \\tau_{max}^{2}\\right)}\\right) \\left(T_{1}^{4} T_{2}^{2} k m_{l} \\omega_{max}^{2} + T_{1}^{2} T_{2} \\omega_{max} \\sqrt{k m_{l} \\left(T_{1}^{4} T_{2}^{2} k m_{l} \\omega_{max}^{2} - 4 \\tau_{max}^{2}\\right)} - 4 \\tau_{max}^{2}\\right)}$"
      ],
      "text/plain": [
       "Eq(x_l(t), -2*T1*T2*k*m_l*omega_max*tau_max**2*(T1**8*T2**4*k**2*m_l**2*omega_max**4 + T1**6*T2**3*k*m_l*omega_max**3*sqrt(k*m_l*(T1**4*T2**2*k*m_l*omega_max**2 - 4*tau_max**2)) - 4*T1**4*T2**2*k*m_l*omega_max**2*tau_max**2 - 2*T1**2*T2*omega_max*tau_max**2*sqrt(k*m_l*(T1**4*T2**2*k*m_l*omega_max**2 - 4*tau_max**2)) + 2*tau_max**4)*Piecewise((2*T2*m_l*tau_max/(T1**2*T2*k*m_l*omega_max + sqrt(T1**4*T2**2*k**2*m_l**2*omega_max**2 - 4*k*m_l*tau_max**2)), Ne(k, 0)), (0, True))*exp(-t*(T1**2*T2*k*m_l*omega_max + sqrt(T1**4*T2**2*k**2*m_l**2*omega_max**2 - 4*k*m_l*tau_max**2))/(2*T2*m_l*tau_max))/((T1**2*T2*k*m_l*omega_max + sqrt(k*m_l*(T1**4*T2**2*k*m_l*omega_max**2 - 4*tau_max**2)))*(T1**10*T2**5*k**3*m_l**3*omega_max**5 + T1**8*T2**4*k**2*m_l**2*omega_max**4*sqrt(k*m_l*(T1**4*T2**2*k*m_l*omega_max**2 - 4*tau_max**2)) - 6*T1**6*T2**3*k**2*m_l**2*omega_max**3*tau_max**2 - 4*T1**4*T2**2*k*m_l*omega_max**2*tau_max**2*sqrt(k*m_l*(T1**4*T2**2*k*m_l*omega_max**2 - 4*tau_max**2)) + 8*T1**2*T2*k*m_l*omega_max*tau_max**4 + 2*tau_max**4*sqrt(k*m_l*(T1**4*T2**2*k*m_l*omega_max**2 - 4*tau_max**2)))) + 2*T1*T2*k*m_l*omega_max*tau_max**2*Piecewise((2*T2*m_l*tau_max*exp(t*(T1**2*k*omega_max + sqrt(k*m_l*(T1**4*T2**2*k*m_l*omega_max**2 - 4*tau_max**2))/(T2*m_l))/(2*tau_max))/(T1**2*T2*k*m_l*omega_max + sqrt(T1**4*T2**2*k**2*m_l**2*omega_max**2 - 4*k*m_l*tau_max**2)), Ne(T1**2*T2*k*m_l*omega_max + sqrt(T1**4*T2**2*k**2*m_l**2*omega_max**2 - 4*k*m_l*tau_max**2), 0)), (t, True))*exp(-t*(T1**2*T2*k*m_l*omega_max + sqrt(T1**4*T2**2*k**2*m_l**2*omega_max**2 - 4*k*m_l*tau_max**2))/(2*T2*m_l*tau_max))/(sqrt(k*m_l*(T1**4*T2**2*k*m_l*omega_max**2 - 4*tau_max**2))*(T1**2*T2*k*m_l*omega_max + sqrt(k*m_l*(T1**4*T2**2*k*m_l*omega_max**2 - 4*tau_max**2)))) - 2*T1*T2*k*m_l*omega_max*tau_max**2*Piecewise((2*T2*m_l*tau_max*exp(t*(T1**2*k*omega_max - sqrt(k*m_l*(T1**4*T2**2*k*m_l*omega_max**2 - 4*tau_max**2))/(T2*m_l))/(2*tau_max))/(T1**2*T2*k*m_l*omega_max - sqrt(T1**4*T2**2*k**2*m_l**2*omega_max**2 - 4*k*m_l*tau_max**2)), Ne(T1**2*T2*k*m_l*omega_max - sqrt(T1**4*T2**2*k**2*m_l**2*omega_max**2 - 4*k*m_l*tau_max**2), 0)), (t, True))*exp(-t*(T1**2*T2*k*m_l*omega_max - sqrt(T1**4*T2**2*k**2*m_l**2*omega_max**2 - 4*k*m_l*tau_max**2))/(2*T2*m_l*tau_max))/(sqrt(k*m_l*(T1**4*T2**2*k*m_l*omega_max**2 - 4*tau_max**2))*(T1**2*T2*k*m_l*omega_max - sqrt(k*m_l*(T1**4*T2**2*k*m_l*omega_max**2 - 4*tau_max**2)))) + T1*T2*omega_max*t + 2*T1*T2*omega_max*tau_max**2*(T1**2*T2*k*m_l*omega_max + sqrt(k*m_l*(T1**4*T2**2*k*m_l*omega_max**2 - 4*tau_max**2)))*Piecewise((2*T2*m_l*tau_max/(T1**2*T2*k*m_l*omega_max - sqrt(T1**4*T2**2*k**2*m_l**2*omega_max**2 - 4*k*m_l*tau_max**2)), Ne(k, 0)), (0, True))*exp(-t*(T1**2*T2*k*m_l*omega_max - sqrt(T1**4*T2**2*k**2*m_l**2*omega_max**2 - 4*k*m_l*tau_max**2))/(2*T2*m_l*tau_max))/((T1**2*T2*k*m_l*omega_max - sqrt(k*m_l*(T1**4*T2**2*k*m_l*omega_max**2 - 4*tau_max**2)))*(T1**4*T2**2*k*m_l*omega_max**2 + T1**2*T2*omega_max*sqrt(k*m_l*(T1**4*T2**2*k*m_l*omega_max**2 - 4*tau_max**2)) - 4*tau_max**2)))"
      ]
     },
     "metadata": {},
     "output_type": "display_data"
    }
   ],
   "source": [
    "x_a_eq = simplify(sol[0][0])\n",
    "x_l_eq = simplify(sol[0][1])\n",
    "display(x_a_eq, x_l_eq)"
   ]
  },
  {
   "cell_type": "code",
   "execution_count": 5,
   "metadata": {},
   "outputs": [
    {
     "ename": "NameError",
     "evalue": "name 'x_l_eq' is not defined",
     "output_type": "error",
     "traceback": [
      "\u001b[0;31m---------------------------------------------------------------------------\u001b[0m",
      "\u001b[0;31mNameError\u001b[0m                                 Traceback (most recent call last)",
      "Cell \u001b[0;32mIn[5], line 1\u001b[0m\n\u001b[0;32m----> 1\u001b[0m x_l_eq\u001b[39m.\u001b[39mrhs\n",
      "\u001b[0;31mNameError\u001b[0m: name 'x_l_eq' is not defined"
     ]
    }
   ],
   "source": [
    "x_l_eq.rhs"
   ]
  },
  {
   "cell_type": "code",
   "execution_count": 224,
   "metadata": {},
   "outputs": [
    {
     "ename": "KeyboardInterrupt",
     "evalue": "",
     "output_type": "error",
     "traceback": [
      "\u001b[0;31m---------------------------------------------------------------------------\u001b[0m",
      "\u001b[0;31mKeyError\u001b[0m                                  Traceback (most recent call last)",
      "File \u001b[0;32m/Library/Frameworks/Python.framework/Versions/3.11/lib/python3.11/site-packages/sympy/core/assumptions.py:499\u001b[0m, in \u001b[0;36mmake_property.<locals>.getit\u001b[0;34m(self)\u001b[0m\n\u001b[1;32m    498\u001b[0m \u001b[39mtry\u001b[39;00m:\n\u001b[0;32m--> 499\u001b[0m     \u001b[39mreturn\u001b[39;00m \u001b[39mself\u001b[39;49m\u001b[39m.\u001b[39;49m_assumptions[fact]\n\u001b[1;32m    500\u001b[0m \u001b[39mexcept\u001b[39;00m \u001b[39mKeyError\u001b[39;00m:\n",
      "\u001b[0;31mKeyError\u001b[0m: 'infinite'",
      "\nDuring handling of the above exception, another exception occurred:\n",
      "\u001b[0;31mKeyboardInterrupt\u001b[0m                         Traceback (most recent call last)",
      "Cell \u001b[0;32mIn[224], line 2\u001b[0m\n\u001b[1;32m      1\u001b[0m x_l_expr \u001b[39m=\u001b[39m x_l_eq\u001b[39m.\u001b[39mrhs\n\u001b[0;32m----> 2\u001b[0m x_l_refined \u001b[39m=\u001b[39m refine(x_l_expr, Q\u001b[39m.\u001b[39;49mnonzero(k))\n",
      "File \u001b[0;32m/Library/Frameworks/Python.framework/Versions/3.11/lib/python3.11/site-packages/sympy/assumptions/refine.py:52\u001b[0m, in \u001b[0;36mrefine\u001b[0;34m(expr, assumptions)\u001b[0m\n\u001b[1;32m     49\u001b[0m     \u001b[39mreturn\u001b[39;00m expr\n\u001b[1;32m     51\u001b[0m \u001b[39mif\u001b[39;00m \u001b[39mnot\u001b[39;00m expr\u001b[39m.\u001b[39mis_Atom:\n\u001b[0;32m---> 52\u001b[0m     args \u001b[39m=\u001b[39m [refine(arg, assumptions) \u001b[39mfor\u001b[39;49;00m arg \u001b[39min\u001b[39;49;00m expr\u001b[39m.\u001b[39;49margs]\n\u001b[1;32m     53\u001b[0m     \u001b[39m# TODO: this will probably not work with Integral or Polynomial\u001b[39;00m\n\u001b[1;32m     54\u001b[0m     expr \u001b[39m=\u001b[39m expr\u001b[39m.\u001b[39mfunc(\u001b[39m*\u001b[39margs)\n",
      "File \u001b[0;32m/Library/Frameworks/Python.framework/Versions/3.11/lib/python3.11/site-packages/sympy/assumptions/refine.py:52\u001b[0m, in \u001b[0;36m<listcomp>\u001b[0;34m(.0)\u001b[0m\n\u001b[1;32m     49\u001b[0m     \u001b[39mreturn\u001b[39;00m expr\n\u001b[1;32m     51\u001b[0m \u001b[39mif\u001b[39;00m \u001b[39mnot\u001b[39;00m expr\u001b[39m.\u001b[39mis_Atom:\n\u001b[0;32m---> 52\u001b[0m     args \u001b[39m=\u001b[39m [refine(arg, assumptions) \u001b[39mfor\u001b[39;00m arg \u001b[39min\u001b[39;00m expr\u001b[39m.\u001b[39margs]\n\u001b[1;32m     53\u001b[0m     \u001b[39m# TODO: this will probably not work with Integral or Polynomial\u001b[39;00m\n\u001b[1;32m     54\u001b[0m     expr \u001b[39m=\u001b[39m expr\u001b[39m.\u001b[39mfunc(\u001b[39m*\u001b[39margs)\n",
      "File \u001b[0;32m/Library/Frameworks/Python.framework/Versions/3.11/lib/python3.11/site-packages/sympy/assumptions/refine.py:52\u001b[0m, in \u001b[0;36mrefine\u001b[0;34m(expr, assumptions)\u001b[0m\n\u001b[1;32m     49\u001b[0m     \u001b[39mreturn\u001b[39;00m expr\n\u001b[1;32m     51\u001b[0m \u001b[39mif\u001b[39;00m \u001b[39mnot\u001b[39;00m expr\u001b[39m.\u001b[39mis_Atom:\n\u001b[0;32m---> 52\u001b[0m     args \u001b[39m=\u001b[39m [refine(arg, assumptions) \u001b[39mfor\u001b[39;49;00m arg \u001b[39min\u001b[39;49;00m expr\u001b[39m.\u001b[39;49margs]\n\u001b[1;32m     53\u001b[0m     \u001b[39m# TODO: this will probably not work with Integral or Polynomial\u001b[39;00m\n\u001b[1;32m     54\u001b[0m     expr \u001b[39m=\u001b[39m expr\u001b[39m.\u001b[39mfunc(\u001b[39m*\u001b[39margs)\n",
      "File \u001b[0;32m/Library/Frameworks/Python.framework/Versions/3.11/lib/python3.11/site-packages/sympy/assumptions/refine.py:52\u001b[0m, in \u001b[0;36m<listcomp>\u001b[0;34m(.0)\u001b[0m\n\u001b[1;32m     49\u001b[0m     \u001b[39mreturn\u001b[39;00m expr\n\u001b[1;32m     51\u001b[0m \u001b[39mif\u001b[39;00m \u001b[39mnot\u001b[39;00m expr\u001b[39m.\u001b[39mis_Atom:\n\u001b[0;32m---> 52\u001b[0m     args \u001b[39m=\u001b[39m [refine(arg, assumptions) \u001b[39mfor\u001b[39;00m arg \u001b[39min\u001b[39;00m expr\u001b[39m.\u001b[39margs]\n\u001b[1;32m     53\u001b[0m     \u001b[39m# TODO: this will probably not work with Integral or Polynomial\u001b[39;00m\n\u001b[1;32m     54\u001b[0m     expr \u001b[39m=\u001b[39m expr\u001b[39m.\u001b[39mfunc(\u001b[39m*\u001b[39margs)\n",
      "    \u001b[0;31m[... skipping similar frames: <listcomp> at line 52 (1 times), refine at line 52 (1 times)]\u001b[0m\n",
      "File \u001b[0;32m/Library/Frameworks/Python.framework/Versions/3.11/lib/python3.11/site-packages/sympy/assumptions/refine.py:52\u001b[0m, in \u001b[0;36mrefine\u001b[0;34m(expr, assumptions)\u001b[0m\n\u001b[1;32m     49\u001b[0m     \u001b[39mreturn\u001b[39;00m expr\n\u001b[1;32m     51\u001b[0m \u001b[39mif\u001b[39;00m \u001b[39mnot\u001b[39;00m expr\u001b[39m.\u001b[39mis_Atom:\n\u001b[0;32m---> 52\u001b[0m     args \u001b[39m=\u001b[39m [refine(arg, assumptions) \u001b[39mfor\u001b[39;49;00m arg \u001b[39min\u001b[39;49;00m expr\u001b[39m.\u001b[39;49margs]\n\u001b[1;32m     53\u001b[0m     \u001b[39m# TODO: this will probably not work with Integral or Polynomial\u001b[39;00m\n\u001b[1;32m     54\u001b[0m     expr \u001b[39m=\u001b[39m expr\u001b[39m.\u001b[39mfunc(\u001b[39m*\u001b[39margs)\n",
      "File \u001b[0;32m/Library/Frameworks/Python.framework/Versions/3.11/lib/python3.11/site-packages/sympy/assumptions/refine.py:52\u001b[0m, in \u001b[0;36m<listcomp>\u001b[0;34m(.0)\u001b[0m\n\u001b[1;32m     49\u001b[0m     \u001b[39mreturn\u001b[39;00m expr\n\u001b[1;32m     51\u001b[0m \u001b[39mif\u001b[39;00m \u001b[39mnot\u001b[39;00m expr\u001b[39m.\u001b[39mis_Atom:\n\u001b[0;32m---> 52\u001b[0m     args \u001b[39m=\u001b[39m [refine(arg, assumptions) \u001b[39mfor\u001b[39;00m arg \u001b[39min\u001b[39;00m expr\u001b[39m.\u001b[39margs]\n\u001b[1;32m     53\u001b[0m     \u001b[39m# TODO: this will probably not work with Integral or Polynomial\u001b[39;00m\n\u001b[1;32m     54\u001b[0m     expr \u001b[39m=\u001b[39m expr\u001b[39m.\u001b[39mfunc(\u001b[39m*\u001b[39margs)\n",
      "File \u001b[0;32m/Library/Frameworks/Python.framework/Versions/3.11/lib/python3.11/site-packages/sympy/assumptions/refine.py:56\u001b[0m, in \u001b[0;36mrefine\u001b[0;34m(expr, assumptions)\u001b[0m\n\u001b[1;32m     54\u001b[0m     expr \u001b[39m=\u001b[39m expr\u001b[39m.\u001b[39mfunc(\u001b[39m*\u001b[39margs)\n\u001b[1;32m     55\u001b[0m \u001b[39mif\u001b[39;00m \u001b[39mhasattr\u001b[39m(expr, \u001b[39m'\u001b[39m\u001b[39m_eval_refine\u001b[39m\u001b[39m'\u001b[39m):\n\u001b[0;32m---> 56\u001b[0m     ref_expr \u001b[39m=\u001b[39m expr\u001b[39m.\u001b[39;49m_eval_refine(assumptions)\n\u001b[1;32m     57\u001b[0m     \u001b[39mif\u001b[39;00m ref_expr \u001b[39mis\u001b[39;00m \u001b[39mnot\u001b[39;00m \u001b[39mNone\u001b[39;00m:\n\u001b[1;32m     58\u001b[0m         \u001b[39mreturn\u001b[39;00m ref_expr\n",
      "File \u001b[0;32m/Library/Frameworks/Python.framework/Versions/3.11/lib/python3.11/site-packages/sympy/logic/boolalg.py:193\u001b[0m, in \u001b[0;36mBoolean._eval_refine\u001b[0;34m(self, assumptions)\u001b[0m\n\u001b[1;32m    191\u001b[0m \u001b[39mdef\u001b[39;00m \u001b[39m_eval_refine\u001b[39m(\u001b[39mself\u001b[39m, assumptions):\n\u001b[1;32m    192\u001b[0m     \u001b[39mfrom\u001b[39;00m \u001b[39msympy\u001b[39;00m\u001b[39m.\u001b[39;00m\u001b[39massumptions\u001b[39;00m \u001b[39mimport\u001b[39;00m ask\n\u001b[0;32m--> 193\u001b[0m     ret \u001b[39m=\u001b[39m ask(\u001b[39mself\u001b[39;49m, assumptions)\n\u001b[1;32m    194\u001b[0m     \u001b[39mif\u001b[39;00m ret \u001b[39mis\u001b[39;00m \u001b[39mTrue\u001b[39;00m:\n\u001b[1;32m    195\u001b[0m         \u001b[39mreturn\u001b[39;00m true\n",
      "File \u001b[0;32m/Library/Frameworks/Python.framework/Versions/3.11/lib/python3.11/site-packages/sympy/assumptions/ask.py:490\u001b[0m, in \u001b[0;36mask\u001b[0;34m(proposition, assumptions, context)\u001b[0m\n\u001b[1;32m    487\u001b[0m     \u001b[39mreturn\u001b[39;00m res\n\u001b[1;32m    489\u001b[0m \u001b[39m# direct resolution method, no logic\u001b[39;00m\n\u001b[0;32m--> 490\u001b[0m res \u001b[39m=\u001b[39m key(\u001b[39m*\u001b[39;49margs)\u001b[39m.\u001b[39;49m_eval_ask(assumptions)\n\u001b[1;32m    491\u001b[0m \u001b[39mif\u001b[39;00m res \u001b[39mis\u001b[39;00m \u001b[39mnot\u001b[39;00m \u001b[39mNone\u001b[39;00m:\n\u001b[1;32m    492\u001b[0m     \u001b[39mreturn\u001b[39;00m \u001b[39mbool\u001b[39m(res)\n",
      "File \u001b[0;32m/Library/Frameworks/Python.framework/Versions/3.11/lib/python3.11/site-packages/sympy/assumptions/relation/binrel.py:200\u001b[0m, in \u001b[0;36mAppliedBinaryRelation._eval_ask\u001b[0;34m(self, assumptions)\u001b[0m\n\u001b[1;32m    197\u001b[0m     \u001b[39mreturn\u001b[39;00m \u001b[39mFalse\u001b[39;00m\n\u001b[1;32m    199\u001b[0m \u001b[39m# evaluation using multipledispatching\u001b[39;00m\n\u001b[0;32m--> 200\u001b[0m ret \u001b[39m=\u001b[39m \u001b[39mself\u001b[39;49m\u001b[39m.\u001b[39;49mfunction\u001b[39m.\u001b[39;49meval(\u001b[39mself\u001b[39;49m\u001b[39m.\u001b[39;49marguments, assumptions)\n\u001b[1;32m    201\u001b[0m \u001b[39mif\u001b[39;00m ret \u001b[39mis\u001b[39;00m \u001b[39mnot\u001b[39;00m \u001b[39mNone\u001b[39;00m:\n\u001b[1;32m    202\u001b[0m     \u001b[39mreturn\u001b[39;00m ret\n",
      "File \u001b[0;32m/Library/Frameworks/Python.framework/Versions/3.11/lib/python3.11/site-packages/sympy/assumptions/relation/equality.py:110\u001b[0m, in \u001b[0;36mUnequalityPredicate.eval\u001b[0;34m(self, args, assumptions)\u001b[0m\n\u001b[1;32m    107\u001b[0m \u001b[39mif\u001b[39;00m assumptions \u001b[39m==\u001b[39m \u001b[39mTrue\u001b[39;00m:\n\u001b[1;32m    108\u001b[0m     \u001b[39m# default assumptions for is_neq is None\u001b[39;00m\n\u001b[1;32m    109\u001b[0m     assumptions \u001b[39m=\u001b[39m \u001b[39mNone\u001b[39;00m\n\u001b[0;32m--> 110\u001b[0m \u001b[39mreturn\u001b[39;00m is_neq(\u001b[39m*\u001b[39;49margs, assumptions)\n",
      "File \u001b[0;32m/Library/Frameworks/Python.framework/Versions/3.11/lib/python3.11/site-packages/sympy/core/relational.py:1393\u001b[0m, in \u001b[0;36mis_neq\u001b[0;34m(lhs, rhs, assumptions)\u001b[0m\n\u001b[1;32m   1388\u001b[0m \u001b[39mdef\u001b[39;00m \u001b[39mis_neq\u001b[39m(lhs, rhs, assumptions\u001b[39m=\u001b[39m\u001b[39mNone\u001b[39;00m):\n\u001b[1;32m   1389\u001b[0m \u001b[39m    \u001b[39m\u001b[39m\"\"\"Fuzzy bool for lhs does not equal rhs.\u001b[39;00m\n\u001b[1;32m   1390\u001b[0m \n\u001b[1;32m   1391\u001b[0m \u001b[39m    See the docstring for :func:`~.is_eq` for more.\u001b[39;00m\n\u001b[1;32m   1392\u001b[0m \u001b[39m    \"\"\"\u001b[39;00m\n\u001b[0;32m-> 1393\u001b[0m     \u001b[39mreturn\u001b[39;00m fuzzy_not(is_eq(lhs, rhs, assumptions))\n",
      "File \u001b[0;32m/Library/Frameworks/Python.framework/Versions/3.11/lib/python3.11/site-packages/sympy/core/relational.py:1512\u001b[0m, in \u001b[0;36mis_eq\u001b[0;34m(lhs, rhs, assumptions)\u001b[0m\n\u001b[1;32m   1509\u001b[0m _lhs \u001b[39m=\u001b[39m AssumptionsWrapper(lhs, assumptions)\n\u001b[1;32m   1510\u001b[0m _rhs \u001b[39m=\u001b[39m AssumptionsWrapper(rhs, assumptions)\n\u001b[0;32m-> 1512\u001b[0m \u001b[39mif\u001b[39;00m _lhs\u001b[39m.\u001b[39;49mis_infinite \u001b[39mor\u001b[39;00m _rhs\u001b[39m.\u001b[39mis_infinite:\n\u001b[1;32m   1513\u001b[0m     \u001b[39mif\u001b[39;00m fuzzy_xor([_lhs\u001b[39m.\u001b[39mis_infinite, _rhs\u001b[39m.\u001b[39mis_infinite]):\n\u001b[1;32m   1514\u001b[0m         \u001b[39mreturn\u001b[39;00m \u001b[39mFalse\u001b[39;00m\n",
      "File \u001b[0;32m/Library/Frameworks/Python.framework/Versions/3.11/lib/python3.11/site-packages/sympy/core/assumptions.py:503\u001b[0m, in \u001b[0;36mmake_property.<locals>.getit\u001b[0;34m(self)\u001b[0m\n\u001b[1;32m    501\u001b[0m \u001b[39mif\u001b[39;00m \u001b[39mself\u001b[39m\u001b[39m.\u001b[39m_assumptions \u001b[39mis\u001b[39;00m \u001b[39mself\u001b[39m\u001b[39m.\u001b[39mdefault_assumptions:\n\u001b[1;32m    502\u001b[0m     \u001b[39mself\u001b[39m\u001b[39m.\u001b[39m_assumptions \u001b[39m=\u001b[39m \u001b[39mself\u001b[39m\u001b[39m.\u001b[39mdefault_assumptions\u001b[39m.\u001b[39mcopy()\n\u001b[0;32m--> 503\u001b[0m \u001b[39mreturn\u001b[39;00m _ask(fact, \u001b[39mself\u001b[39;49m)\n",
      "File \u001b[0;32m/Library/Frameworks/Python.framework/Versions/3.11/lib/python3.11/site-packages/sympy/core/assumptions.py:559\u001b[0m, in \u001b[0;36m_ask\u001b[0;34m(fact, obj)\u001b[0m\n\u001b[1;32m    557\u001b[0m handler_i \u001b[39m=\u001b[39m handler_map\u001b[39m.\u001b[39mget(fact_i)\n\u001b[1;32m    558\u001b[0m \u001b[39mif\u001b[39;00m handler_i \u001b[39mis\u001b[39;00m \u001b[39mnot\u001b[39;00m \u001b[39mNone\u001b[39;00m:\n\u001b[0;32m--> 559\u001b[0m     fact_i_value \u001b[39m=\u001b[39m handler_i(obj)\n\u001b[1;32m    561\u001b[0m \u001b[39m# If we get a new value for fact_i then we should update our knowledge\u001b[39;00m\n\u001b[1;32m    562\u001b[0m \u001b[39m# of fact_i as well as any related facts that can be inferred using the\u001b[39;00m\n\u001b[1;32m    563\u001b[0m \u001b[39m# inference rules connecting the fact_i and any other fact values that\u001b[39;00m\n\u001b[1;32m    564\u001b[0m \u001b[39m# are already known.\u001b[39;00m\n\u001b[1;32m    565\u001b[0m \u001b[39mif\u001b[39;00m fact_i_value \u001b[39mis\u001b[39;00m \u001b[39mnot\u001b[39;00m \u001b[39mNone\u001b[39;00m:\n",
      "File \u001b[0;32m/Library/Frameworks/Python.framework/Versions/3.11/lib/python3.11/site-packages/sympy/assumptions/wrapper.py:55\u001b[0m, in \u001b[0;36mmake_eval_method.<locals>.getit\u001b[0;34m(self)\u001b[0m\n\u001b[1;32m     53\u001b[0m \u001b[39mtry\u001b[39;00m:\n\u001b[1;32m     54\u001b[0m     pred \u001b[39m=\u001b[39m \u001b[39mgetattr\u001b[39m(Q, fact)\n\u001b[0;32m---> 55\u001b[0m     ret \u001b[39m=\u001b[39m ask(pred(\u001b[39mself\u001b[39;49m\u001b[39m.\u001b[39;49mexpr), \u001b[39mself\u001b[39;49m\u001b[39m.\u001b[39;49massumptions)\n\u001b[1;32m     56\u001b[0m     \u001b[39mreturn\u001b[39;00m ret\n\u001b[1;32m     57\u001b[0m \u001b[39mexcept\u001b[39;00m \u001b[39mAttributeError\u001b[39;00m:\n",
      "File \u001b[0;32m/Library/Frameworks/Python.framework/Versions/3.11/lib/python3.11/site-packages/sympy/assumptions/ask.py:490\u001b[0m, in \u001b[0;36mask\u001b[0;34m(proposition, assumptions, context)\u001b[0m\n\u001b[1;32m    487\u001b[0m     \u001b[39mreturn\u001b[39;00m res\n\u001b[1;32m    489\u001b[0m \u001b[39m# direct resolution method, no logic\u001b[39;00m\n\u001b[0;32m--> 490\u001b[0m res \u001b[39m=\u001b[39m key(\u001b[39m*\u001b[39;49margs)\u001b[39m.\u001b[39;49m_eval_ask(assumptions)\n\u001b[1;32m    491\u001b[0m \u001b[39mif\u001b[39;00m res \u001b[39mis\u001b[39;00m \u001b[39mnot\u001b[39;00m \u001b[39mNone\u001b[39;00m:\n\u001b[1;32m    492\u001b[0m     \u001b[39mreturn\u001b[39;00m \u001b[39mbool\u001b[39m(res)\n",
      "File \u001b[0;32m/Library/Frameworks/Python.framework/Versions/3.11/lib/python3.11/site-packages/sympy/assumptions/assume.py:156\u001b[0m, in \u001b[0;36mAppliedPredicate._eval_ask\u001b[0;34m(self, assumptions)\u001b[0m\n\u001b[1;32m    155\u001b[0m \u001b[39mdef\u001b[39;00m \u001b[39m_eval_ask\u001b[39m(\u001b[39mself\u001b[39m, assumptions):\n\u001b[0;32m--> 156\u001b[0m     \u001b[39mreturn\u001b[39;00m \u001b[39mself\u001b[39;49m\u001b[39m.\u001b[39;49mfunction\u001b[39m.\u001b[39;49meval(\u001b[39mself\u001b[39;49m\u001b[39m.\u001b[39;49marguments, assumptions)\n",
      "File \u001b[0;32m/Library/Frameworks/Python.framework/Versions/3.11/lib/python3.11/site-packages/sympy/assumptions/assume.py:348\u001b[0m, in \u001b[0;36mPredicate.eval\u001b[0;34m(self, args, assumptions)\u001b[0m\n\u001b[1;32m    346\u001b[0m result \u001b[39m=\u001b[39m \u001b[39mNone\u001b[39;00m\n\u001b[1;32m    347\u001b[0m \u001b[39mtry\u001b[39;00m:\n\u001b[0;32m--> 348\u001b[0m     result \u001b[39m=\u001b[39m \u001b[39mself\u001b[39;49m\u001b[39m.\u001b[39;49mhandler(\u001b[39m*\u001b[39;49margs, assumptions\u001b[39m=\u001b[39;49massumptions)\n\u001b[1;32m    349\u001b[0m \u001b[39mexcept\u001b[39;00m \u001b[39mNotImplementedError\u001b[39;00m:\n\u001b[1;32m    350\u001b[0m     \u001b[39mpass\u001b[39;00m\n",
      "File \u001b[0;32m/Library/Frameworks/Python.framework/Versions/3.11/lib/python3.11/site-packages/sympy/multipledispatch/dispatcher.py:243\u001b[0m, in \u001b[0;36mDispatcher.__call__\u001b[0;34m(self, *args, **kwargs)\u001b[0m\n\u001b[1;32m    241\u001b[0m     \u001b[39mself\u001b[39m\u001b[39m.\u001b[39m_cache[types] \u001b[39m=\u001b[39m func\n\u001b[1;32m    242\u001b[0m \u001b[39mtry\u001b[39;00m:\n\u001b[0;32m--> 243\u001b[0m     \u001b[39mreturn\u001b[39;00m func(\u001b[39m*\u001b[39;49margs, \u001b[39m*\u001b[39;49m\u001b[39m*\u001b[39;49mkwargs)\n\u001b[1;32m    245\u001b[0m \u001b[39mexcept\u001b[39;00m MDNotImplementedError:\n\u001b[1;32m    246\u001b[0m     funcs \u001b[39m=\u001b[39m \u001b[39mself\u001b[39m\u001b[39m.\u001b[39mdispatch_iter(\u001b[39m*\u001b[39mtypes)\n",
      "File \u001b[0;32m/Library/Frameworks/Python.framework/Versions/3.11/lib/python3.11/site-packages/sympy/assumptions/handlers/calculus.py:97\u001b[0m, in \u001b[0;36m_\u001b[0;34m(expr, assumptions)\u001b[0m\n\u001b[1;32m     95\u001b[0m result \u001b[39m=\u001b[39m \u001b[39mTrue\u001b[39;00m\n\u001b[1;32m     96\u001b[0m \u001b[39mfor\u001b[39;00m arg \u001b[39min\u001b[39;00m expr\u001b[39m.\u001b[39margs:\n\u001b[0;32m---> 97\u001b[0m     _bounded \u001b[39m=\u001b[39m ask(Q\u001b[39m.\u001b[39;49mfinite(arg), assumptions)\n\u001b[1;32m     98\u001b[0m     \u001b[39mif\u001b[39;00m _bounded:\n\u001b[1;32m     99\u001b[0m         \u001b[39mcontinue\u001b[39;00m\n",
      "File \u001b[0;32m/Library/Frameworks/Python.framework/Versions/3.11/lib/python3.11/site-packages/sympy/assumptions/ask.py:490\u001b[0m, in \u001b[0;36mask\u001b[0;34m(proposition, assumptions, context)\u001b[0m\n\u001b[1;32m    487\u001b[0m     \u001b[39mreturn\u001b[39;00m res\n\u001b[1;32m    489\u001b[0m \u001b[39m# direct resolution method, no logic\u001b[39;00m\n\u001b[0;32m--> 490\u001b[0m res \u001b[39m=\u001b[39m key(\u001b[39m*\u001b[39;49margs)\u001b[39m.\u001b[39;49m_eval_ask(assumptions)\n\u001b[1;32m    491\u001b[0m \u001b[39mif\u001b[39;00m res \u001b[39mis\u001b[39;00m \u001b[39mnot\u001b[39;00m \u001b[39mNone\u001b[39;00m:\n\u001b[1;32m    492\u001b[0m     \u001b[39mreturn\u001b[39;00m \u001b[39mbool\u001b[39m(res)\n",
      "File \u001b[0;32m/Library/Frameworks/Python.framework/Versions/3.11/lib/python3.11/site-packages/sympy/assumptions/assume.py:156\u001b[0m, in \u001b[0;36mAppliedPredicate._eval_ask\u001b[0;34m(self, assumptions)\u001b[0m\n\u001b[1;32m    155\u001b[0m \u001b[39mdef\u001b[39;00m \u001b[39m_eval_ask\u001b[39m(\u001b[39mself\u001b[39m, assumptions):\n\u001b[0;32m--> 156\u001b[0m     \u001b[39mreturn\u001b[39;00m \u001b[39mself\u001b[39;49m\u001b[39m.\u001b[39;49mfunction\u001b[39m.\u001b[39;49meval(\u001b[39mself\u001b[39;49m\u001b[39m.\u001b[39;49marguments, assumptions)\n",
      "File \u001b[0;32m/Library/Frameworks/Python.framework/Versions/3.11/lib/python3.11/site-packages/sympy/assumptions/assume.py:348\u001b[0m, in \u001b[0;36mPredicate.eval\u001b[0;34m(self, args, assumptions)\u001b[0m\n\u001b[1;32m    346\u001b[0m result \u001b[39m=\u001b[39m \u001b[39mNone\u001b[39;00m\n\u001b[1;32m    347\u001b[0m \u001b[39mtry\u001b[39;00m:\n\u001b[0;32m--> 348\u001b[0m     result \u001b[39m=\u001b[39m \u001b[39mself\u001b[39;49m\u001b[39m.\u001b[39;49mhandler(\u001b[39m*\u001b[39;49margs, assumptions\u001b[39m=\u001b[39;49massumptions)\n\u001b[1;32m    349\u001b[0m \u001b[39mexcept\u001b[39;00m \u001b[39mNotImplementedError\u001b[39;00m:\n\u001b[1;32m    350\u001b[0m     \u001b[39mpass\u001b[39;00m\n",
      "File \u001b[0;32m/Library/Frameworks/Python.framework/Versions/3.11/lib/python3.11/site-packages/sympy/multipledispatch/dispatcher.py:243\u001b[0m, in \u001b[0;36mDispatcher.__call__\u001b[0;34m(self, *args, **kwargs)\u001b[0m\n\u001b[1;32m    241\u001b[0m     \u001b[39mself\u001b[39m\u001b[39m.\u001b[39m_cache[types] \u001b[39m=\u001b[39m func\n\u001b[1;32m    242\u001b[0m \u001b[39mtry\u001b[39;00m:\n\u001b[0;32m--> 243\u001b[0m     \u001b[39mreturn\u001b[39;00m func(\u001b[39m*\u001b[39;49margs, \u001b[39m*\u001b[39;49m\u001b[39m*\u001b[39;49mkwargs)\n\u001b[1;32m    245\u001b[0m \u001b[39mexcept\u001b[39;00m MDNotImplementedError:\n\u001b[1;32m    246\u001b[0m     funcs \u001b[39m=\u001b[39m \u001b[39mself\u001b[39m\u001b[39m.\u001b[39mdispatch_iter(\u001b[39m*\u001b[39mtypes)\n",
      "File \u001b[0;32m/Library/Frameworks/Python.framework/Versions/3.11/lib/python3.11/site-packages/sympy/assumptions/handlers/calculus.py:161\u001b[0m, in \u001b[0;36m_\u001b[0;34m(expr, assumptions)\u001b[0m\n\u001b[1;32m    159\u001b[0m \u001b[39mif\u001b[39;00m result \u001b[39mis\u001b[39;00m \u001b[39mNone\u001b[39;00m:\n\u001b[1;32m    160\u001b[0m     \u001b[39mreturn\u001b[39;00m \u001b[39mNone\u001b[39;00m\n\u001b[0;32m--> 161\u001b[0m \u001b[39mif\u001b[39;00m ask(Q\u001b[39m.\u001b[39;49mextended_nonzero(arg), assumptions) \u001b[39mis\u001b[39;00m \u001b[39mNone\u001b[39;00m:\n\u001b[1;32m    162\u001b[0m     \u001b[39mreturn\u001b[39;00m \u001b[39mNone\u001b[39;00m\n\u001b[1;32m    163\u001b[0m \u001b[39mif\u001b[39;00m result \u001b[39mis\u001b[39;00m \u001b[39mnot\u001b[39;00m \u001b[39mFalse\u001b[39;00m:\n",
      "File \u001b[0;32m/Library/Frameworks/Python.framework/Versions/3.11/lib/python3.11/site-packages/sympy/assumptions/ask.py:490\u001b[0m, in \u001b[0;36mask\u001b[0;34m(proposition, assumptions, context)\u001b[0m\n\u001b[1;32m    487\u001b[0m     \u001b[39mreturn\u001b[39;00m res\n\u001b[1;32m    489\u001b[0m \u001b[39m# direct resolution method, no logic\u001b[39;00m\n\u001b[0;32m--> 490\u001b[0m res \u001b[39m=\u001b[39m key(\u001b[39m*\u001b[39;49margs)\u001b[39m.\u001b[39;49m_eval_ask(assumptions)\n\u001b[1;32m    491\u001b[0m \u001b[39mif\u001b[39;00m res \u001b[39mis\u001b[39;00m \u001b[39mnot\u001b[39;00m \u001b[39mNone\u001b[39;00m:\n\u001b[1;32m    492\u001b[0m     \u001b[39mreturn\u001b[39;00m \u001b[39mbool\u001b[39m(res)\n",
      "File \u001b[0;32m/Library/Frameworks/Python.framework/Versions/3.11/lib/python3.11/site-packages/sympy/assumptions/assume.py:156\u001b[0m, in \u001b[0;36mAppliedPredicate._eval_ask\u001b[0;34m(self, assumptions)\u001b[0m\n\u001b[1;32m    155\u001b[0m \u001b[39mdef\u001b[39;00m \u001b[39m_eval_ask\u001b[39m(\u001b[39mself\u001b[39m, assumptions):\n\u001b[0;32m--> 156\u001b[0m     \u001b[39mreturn\u001b[39;00m \u001b[39mself\u001b[39;49m\u001b[39m.\u001b[39;49mfunction\u001b[39m.\u001b[39;49meval(\u001b[39mself\u001b[39;49m\u001b[39m.\u001b[39;49marguments, assumptions)\n",
      "File \u001b[0;32m/Library/Frameworks/Python.framework/Versions/3.11/lib/python3.11/site-packages/sympy/assumptions/assume.py:348\u001b[0m, in \u001b[0;36mPredicate.eval\u001b[0;34m(self, args, assumptions)\u001b[0m\n\u001b[1;32m    346\u001b[0m result \u001b[39m=\u001b[39m \u001b[39mNone\u001b[39;00m\n\u001b[1;32m    347\u001b[0m \u001b[39mtry\u001b[39;00m:\n\u001b[0;32m--> 348\u001b[0m     result \u001b[39m=\u001b[39m \u001b[39mself\u001b[39;49m\u001b[39m.\u001b[39;49mhandler(\u001b[39m*\u001b[39;49margs, assumptions\u001b[39m=\u001b[39;49massumptions)\n\u001b[1;32m    349\u001b[0m \u001b[39mexcept\u001b[39;00m \u001b[39mNotImplementedError\u001b[39;00m:\n\u001b[1;32m    350\u001b[0m     \u001b[39mpass\u001b[39;00m\n",
      "File \u001b[0;32m/Library/Frameworks/Python.framework/Versions/3.11/lib/python3.11/site-packages/sympy/multipledispatch/dispatcher.py:243\u001b[0m, in \u001b[0;36mDispatcher.__call__\u001b[0;34m(self, *args, **kwargs)\u001b[0m\n\u001b[1;32m    241\u001b[0m     \u001b[39mself\u001b[39m\u001b[39m.\u001b[39m_cache[types] \u001b[39m=\u001b[39m func\n\u001b[1;32m    242\u001b[0m \u001b[39mtry\u001b[39;00m:\n\u001b[0;32m--> 243\u001b[0m     \u001b[39mreturn\u001b[39;00m func(\u001b[39m*\u001b[39;49margs, \u001b[39m*\u001b[39;49m\u001b[39m*\u001b[39;49mkwargs)\n\u001b[1;32m    245\u001b[0m \u001b[39mexcept\u001b[39;00m MDNotImplementedError:\n\u001b[1;32m    246\u001b[0m     funcs \u001b[39m=\u001b[39m \u001b[39mself\u001b[39m\u001b[39m.\u001b[39mdispatch_iter(\u001b[39m*\u001b[39mtypes)\n",
      "File \u001b[0;32m/Library/Frameworks/Python.framework/Versions/3.11/lib/python3.11/site-packages/sympy/assumptions/handlers/order.py:416\u001b[0m, in \u001b[0;36m_\u001b[0;34m(expr, assumptions)\u001b[0m\n\u001b[1;32m    414\u001b[0m \u001b[39m@ExtendedNonZeroPredicate\u001b[39m\u001b[39m.\u001b[39mregister(\u001b[39mobject\u001b[39m)\n\u001b[1;32m    415\u001b[0m \u001b[39mdef\u001b[39;00m \u001b[39m_\u001b[39m(expr, assumptions):\n\u001b[0;32m--> 416\u001b[0m     \u001b[39mreturn\u001b[39;00m ask(\n\u001b[1;32m    417\u001b[0m         Q\u001b[39m.\u001b[39;49mnegative_infinite(expr) \u001b[39m|\u001b[39;49m Q\u001b[39m.\u001b[39;49mnegative(expr) \u001b[39m|\u001b[39;49m Q\u001b[39m.\u001b[39;49mpositive(expr) \u001b[39m|\u001b[39;49m Q\u001b[39m.\u001b[39;49mpositive_infinite(expr),\n\u001b[1;32m    418\u001b[0m         assumptions)\n",
      "File \u001b[0;32m/Library/Frameworks/Python.framework/Versions/3.11/lib/python3.11/site-packages/sympy/assumptions/ask.py:490\u001b[0m, in \u001b[0;36mask\u001b[0;34m(proposition, assumptions, context)\u001b[0m\n\u001b[1;32m    487\u001b[0m     \u001b[39mreturn\u001b[39;00m res\n\u001b[1;32m    489\u001b[0m \u001b[39m# direct resolution method, no logic\u001b[39;00m\n\u001b[0;32m--> 490\u001b[0m res \u001b[39m=\u001b[39m key(\u001b[39m*\u001b[39;49margs)\u001b[39m.\u001b[39;49m_eval_ask(assumptions)\n\u001b[1;32m    491\u001b[0m \u001b[39mif\u001b[39;00m res \u001b[39mis\u001b[39;00m \u001b[39mnot\u001b[39;00m \u001b[39mNone\u001b[39;00m:\n\u001b[1;32m    492\u001b[0m     \u001b[39mreturn\u001b[39;00m \u001b[39mbool\u001b[39m(res)\n",
      "File \u001b[0;32m/Library/Frameworks/Python.framework/Versions/3.11/lib/python3.11/site-packages/sympy/assumptions/assume.py:156\u001b[0m, in \u001b[0;36mAppliedPredicate._eval_ask\u001b[0;34m(self, assumptions)\u001b[0m\n\u001b[1;32m    155\u001b[0m \u001b[39mdef\u001b[39;00m \u001b[39m_eval_ask\u001b[39m(\u001b[39mself\u001b[39m, assumptions):\n\u001b[0;32m--> 156\u001b[0m     \u001b[39mreturn\u001b[39;00m \u001b[39mself\u001b[39;49m\u001b[39m.\u001b[39;49mfunction\u001b[39m.\u001b[39;49meval(\u001b[39mself\u001b[39;49m\u001b[39m.\u001b[39;49marguments, assumptions)\n",
      "File \u001b[0;32m/Library/Frameworks/Python.framework/Versions/3.11/lib/python3.11/site-packages/sympy/assumptions/assume.py:348\u001b[0m, in \u001b[0;36mPredicate.eval\u001b[0;34m(self, args, assumptions)\u001b[0m\n\u001b[1;32m    346\u001b[0m result \u001b[39m=\u001b[39m \u001b[39mNone\u001b[39;00m\n\u001b[1;32m    347\u001b[0m \u001b[39mtry\u001b[39;00m:\n\u001b[0;32m--> 348\u001b[0m     result \u001b[39m=\u001b[39m \u001b[39mself\u001b[39;49m\u001b[39m.\u001b[39;49mhandler(\u001b[39m*\u001b[39;49margs, assumptions\u001b[39m=\u001b[39;49massumptions)\n\u001b[1;32m    349\u001b[0m \u001b[39mexcept\u001b[39;00m \u001b[39mNotImplementedError\u001b[39;00m:\n\u001b[1;32m    350\u001b[0m     \u001b[39mpass\u001b[39;00m\n",
      "File \u001b[0;32m/Library/Frameworks/Python.framework/Versions/3.11/lib/python3.11/site-packages/sympy/multipledispatch/dispatcher.py:243\u001b[0m, in \u001b[0;36mDispatcher.__call__\u001b[0;34m(self, *args, **kwargs)\u001b[0m\n\u001b[1;32m    241\u001b[0m     \u001b[39mself\u001b[39m\u001b[39m.\u001b[39m_cache[types] \u001b[39m=\u001b[39m func\n\u001b[1;32m    242\u001b[0m \u001b[39mtry\u001b[39;00m:\n\u001b[0;32m--> 243\u001b[0m     \u001b[39mreturn\u001b[39;00m func(\u001b[39m*\u001b[39;49margs, \u001b[39m*\u001b[39;49m\u001b[39m*\u001b[39;49mkwargs)\n\u001b[1;32m    245\u001b[0m \u001b[39mexcept\u001b[39;00m MDNotImplementedError:\n\u001b[1;32m    246\u001b[0m     funcs \u001b[39m=\u001b[39m \u001b[39mself\u001b[39m\u001b[39m.\u001b[39mdispatch_iter(\u001b[39m*\u001b[39mtypes)\n",
      "File \u001b[0;32m/Library/Frameworks/Python.framework/Versions/3.11/lib/python3.11/site-packages/sympy/assumptions/handlers/common.py:114\u001b[0m, in \u001b[0;36m_\u001b[0;34m(expr, assumptions)\u001b[0m\n\u001b[1;32m    112\u001b[0m result \u001b[39m=\u001b[39m \u001b[39mFalse\u001b[39;00m\n\u001b[1;32m    113\u001b[0m \u001b[39mfor\u001b[39;00m arg \u001b[39min\u001b[39;00m expr\u001b[39m.\u001b[39margs:\n\u001b[0;32m--> 114\u001b[0m     p \u001b[39m=\u001b[39m ask(arg, assumptions\u001b[39m=\u001b[39;49massumptions)\n\u001b[1;32m    115\u001b[0m     \u001b[39mif\u001b[39;00m p \u001b[39mis\u001b[39;00m \u001b[39mTrue\u001b[39;00m:\n\u001b[1;32m    116\u001b[0m         \u001b[39mreturn\u001b[39;00m \u001b[39mTrue\u001b[39;00m\n",
      "File \u001b[0;32m/Library/Frameworks/Python.framework/Versions/3.11/lib/python3.11/site-packages/sympy/assumptions/ask.py:495\u001b[0m, in \u001b[0;36mask\u001b[0;34m(proposition, assumptions, context)\u001b[0m\n\u001b[1;32m    492\u001b[0m     \u001b[39mreturn\u001b[39;00m \u001b[39mbool\u001b[39m(res)\n\u001b[1;32m    494\u001b[0m \u001b[39m# using satask (still costly)\u001b[39;00m\n\u001b[0;32m--> 495\u001b[0m res \u001b[39m=\u001b[39m satask(proposition, assumptions\u001b[39m=\u001b[39;49massumptions, context\u001b[39m=\u001b[39;49mcontext)\n\u001b[1;32m    496\u001b[0m \u001b[39mreturn\u001b[39;00m res\n",
      "File \u001b[0;32m/Library/Frameworks/Python.framework/Versions/3.11/lib/python3.11/site-packages/sympy/assumptions/satask.py:74\u001b[0m, in \u001b[0;36msatask\u001b[0;34m(proposition, assumptions, context, use_known_facts, iterations)\u001b[0m\n\u001b[1;32m     71\u001b[0m \u001b[39mif\u001b[39;00m context:\n\u001b[1;32m     72\u001b[0m     context_cnf \u001b[39m=\u001b[39m context_cnf\u001b[39m.\u001b[39mextend(context)\n\u001b[0;32m---> 74\u001b[0m sat \u001b[39m=\u001b[39m get_all_relevant_facts(props, assumptions, context_cnf,\n\u001b[1;32m     75\u001b[0m     use_known_facts\u001b[39m=\u001b[39;49muse_known_facts, iterations\u001b[39m=\u001b[39;49miterations)\n\u001b[1;32m     76\u001b[0m sat\u001b[39m.\u001b[39madd_from_cnf(assumptions)\n\u001b[1;32m     77\u001b[0m \u001b[39mif\u001b[39;00m context:\n",
      "File \u001b[0;32m/Library/Frameworks/Python.framework/Versions/3.11/lib/python3.11/site-packages/sympy/assumptions/satask.py:359\u001b[0m, in \u001b[0;36mget_all_relevant_facts\u001b[0;34m(proposition, assumptions, context, use_known_facts, iterations)\u001b[0m\n\u001b[1;32m    356\u001b[0m \u001b[39melse\u001b[39;00m:\n\u001b[1;32m    357\u001b[0m     ctx \u001b[39m=\u001b[39m EncodedCNF()\n\u001b[0;32m--> 359\u001b[0m ctx\u001b[39m.\u001b[39;49madd_from_cnf(relevant_facts)\n\u001b[1;32m    361\u001b[0m \u001b[39mreturn\u001b[39;00m ctx\n",
      "File \u001b[0;32m/Library/Frameworks/Python.framework/Versions/3.11/lib/python3.11/site-packages/sympy/assumptions/cnf.py:437\u001b[0m, in \u001b[0;36mEncodedCNF.add_from_cnf\u001b[0;34m(self, cnf)\u001b[0m\n\u001b[1;32m    436\u001b[0m \u001b[39mdef\u001b[39;00m \u001b[39madd_from_cnf\u001b[39m(\u001b[39mself\u001b[39m, cnf):\n\u001b[0;32m--> 437\u001b[0m     clauses \u001b[39m=\u001b[39m [\u001b[39mself\u001b[39;49m\u001b[39m.\u001b[39;49mencode(clause) \u001b[39mfor\u001b[39;49;00m clause \u001b[39min\u001b[39;49;00m cnf\u001b[39m.\u001b[39;49mclauses]\n\u001b[1;32m    438\u001b[0m     \u001b[39mself\u001b[39m\u001b[39m.\u001b[39mdata \u001b[39m+\u001b[39m\u001b[39m=\u001b[39m clauses\n",
      "File \u001b[0;32m/Library/Frameworks/Python.framework/Versions/3.11/lib/python3.11/site-packages/sympy/assumptions/cnf.py:437\u001b[0m, in \u001b[0;36m<listcomp>\u001b[0;34m(.0)\u001b[0m\n\u001b[1;32m    436\u001b[0m \u001b[39mdef\u001b[39;00m \u001b[39madd_from_cnf\u001b[39m(\u001b[39mself\u001b[39m, cnf):\n\u001b[0;32m--> 437\u001b[0m     clauses \u001b[39m=\u001b[39m [\u001b[39mself\u001b[39;49m\u001b[39m.\u001b[39;49mencode(clause) \u001b[39mfor\u001b[39;00m clause \u001b[39min\u001b[39;00m cnf\u001b[39m.\u001b[39mclauses]\n\u001b[1;32m    438\u001b[0m     \u001b[39mself\u001b[39m\u001b[39m.\u001b[39mdata \u001b[39m+\u001b[39m\u001b[39m=\u001b[39m clauses\n",
      "File \u001b[0;32m/Library/Frameworks/Python.framework/Versions/3.11/lib/python3.11/site-packages/sympy/assumptions/cnf.py:453\u001b[0m, in \u001b[0;36mEncodedCNF.encode\u001b[0;34m(self, clause)\u001b[0m\n\u001b[1;32m    452\u001b[0m \u001b[39mdef\u001b[39;00m \u001b[39mencode\u001b[39m(\u001b[39mself\u001b[39m, clause):\n\u001b[0;32m--> 453\u001b[0m     \u001b[39mreturn\u001b[39;00m {\u001b[39mself\u001b[39;49m\u001b[39m.\u001b[39;49mencode_arg(arg) \u001b[39mif\u001b[39;49;00m \u001b[39mnot\u001b[39;49;00m arg\u001b[39m.\u001b[39;49mlit \u001b[39m==\u001b[39;49m S\u001b[39m.\u001b[39;49mfalse \u001b[39melse\u001b[39;49;00m \u001b[39m0\u001b[39;49m \u001b[39mfor\u001b[39;49;00m arg \u001b[39min\u001b[39;49;00m clause}\n",
      "File \u001b[0;32m/Library/Frameworks/Python.framework/Versions/3.11/lib/python3.11/site-packages/sympy/assumptions/cnf.py:453\u001b[0m, in \u001b[0;36m<setcomp>\u001b[0;34m(.0)\u001b[0m\n\u001b[1;32m    452\u001b[0m \u001b[39mdef\u001b[39;00m \u001b[39mencode\u001b[39m(\u001b[39mself\u001b[39m, clause):\n\u001b[0;32m--> 453\u001b[0m     \u001b[39mreturn\u001b[39;00m {\u001b[39mself\u001b[39;49m\u001b[39m.\u001b[39;49mencode_arg(arg) \u001b[39mif\u001b[39;00m \u001b[39mnot\u001b[39;00m arg\u001b[39m.\u001b[39mlit \u001b[39m==\u001b[39m S\u001b[39m.\u001b[39mfalse \u001b[39melse\u001b[39;00m \u001b[39m0\u001b[39m \u001b[39mfor\u001b[39;00m arg \u001b[39min\u001b[39;00m clause}\n",
      "File \u001b[0;32m/Library/Frameworks/Python.framework/Versions/3.11/lib/python3.11/site-packages/sympy/assumptions/cnf.py:440\u001b[0m, in \u001b[0;36mEncodedCNF.encode_arg\u001b[0;34m(self, arg)\u001b[0m\n\u001b[1;32m    437\u001b[0m     clauses \u001b[39m=\u001b[39m [\u001b[39mself\u001b[39m\u001b[39m.\u001b[39mencode(clause) \u001b[39mfor\u001b[39;00m clause \u001b[39min\u001b[39;00m cnf\u001b[39m.\u001b[39mclauses]\n\u001b[1;32m    438\u001b[0m     \u001b[39mself\u001b[39m\u001b[39m.\u001b[39mdata \u001b[39m+\u001b[39m\u001b[39m=\u001b[39m clauses\n\u001b[0;32m--> 440\u001b[0m \u001b[39mdef\u001b[39;00m \u001b[39mencode_arg\u001b[39m(\u001b[39mself\u001b[39m, arg):\n\u001b[1;32m    441\u001b[0m     literal \u001b[39m=\u001b[39m arg\u001b[39m.\u001b[39mlit\n\u001b[1;32m    442\u001b[0m     value \u001b[39m=\u001b[39m \u001b[39mself\u001b[39m\u001b[39m.\u001b[39mencoding\u001b[39m.\u001b[39mget(literal, \u001b[39mNone\u001b[39;00m)\n",
      "\u001b[0;31mKeyboardInterrupt\u001b[0m: "
     ]
    }
   ],
   "source": [
    "x_l_expr = x_l_eq.rhs\n",
    "x_l_refined = refine(x_l_expr, Q.nonzero(k))"
   ]
  },
  {
   "cell_type": "code",
   "execution_count": 223,
   "metadata": {},
   "outputs": [
    {
     "name": "stdout",
     "output_type": "stream",
     "text": [
      "operations:  154\n",
      "x0 = T1*T2*omega_max;\n",
      "x1 = pow(tau_max, 2);\n",
      "x2 = 4*x1;\n",
      "x3 = k*m_l;\n",
      "x4 = pow(T1, 4)*pow(T2, 2)*pow(omega_max, 2);\n",
      "x5 = -x2 + x3*x4;\n",
      "x6 = sqrt(x3*x5);\n",
      "x7 = pow(T1, 2)*omega_max;\n",
      "x8 = T2*x7;\n",
      "x9 = x6*x8;\n",
      "x10 = x3*x8;\n",
      "x11 = x10 + x6;\n",
      "x12 = x2*x3;\n",
      "x13 = pow(k, 2)*pow(m_l, 2);\n",
      "x14 = sqrt(-x12 + x13*x4);\n",
      "x15 = x10 - x14;\n",
      "x16 = 2*T2*m_l*tau_max;\n",
      "x17 = x16/x15;\n",
      "x18 = k != 0;\n",
      "x19 = 1/(T2*m_l);\n",
      "x20 = (1.0/2.0)*t/tau_max;\n",
      "x21 = x19*x20;\n",
      "x22 = 2*x1;\n",
      "x23 = x0*x22;\n",
      "x24 = x23*exp(-x15*x21)/(x10 - x6);\n",
      "x25 = k*x7;\n",
      "x26 = x19*x6;\n",
      "x27 = x10 + x14;\n",
      "x28 = x16/x27;\n",
      "x29 = x3/x6;\n",
      "x30 = x23*exp(-x21*x27)/x11;\n",
      "x31 = pow(tau_max, 4);\n",
      "x32 = pow(T1, 6)*pow(T2, 3)*pow(omega_max, 3);\n",
      "x33 = 2*x31;\n",
      "x34 = pow(T1, 8)*pow(T2, 4)*pow(omega_max, 4)*x13;\n",
      "x35 = x12*x4;\n",
      "x_lcode = t*x0 + x11*x24*((x18) ? (\n",
      "   x17\n",
      ")\n",
      ": (\n",
      "   0\n",
      "))/(x5 + x9) - x24*x29*((x15 != 0) ? (\n",
      "   x17*exp(x20*(x25 - x26))\n",
      ")\n",
      ": (\n",
      "   t\n",
      ")) + x29*x30*((x27 != 0) ? (\n",
      "   x28*exp(x20*(x25 + x26))\n",
      ")\n",
      ": (\n",
      "   t\n",
      ")) - x3*x30*(-x22*x9 + x3*x32*x6 + x33 + x34 - x35)*((x18) ? (\n",
      "   x28\n",
      ")\n",
      ": (\n",
      "   0\n",
      "))/(pow(T1, 10)*pow(T2, 5)*pow(k, 3)*pow(m_l, 3)*pow(omega_max, 5) - 6*x1*x13*x32 + 8*x10*x31 + x33*x6 + x34*x6 - x35*x6);\n"
     ]
    }
   ],
   "source": [
    "from sympy.codegen.ast import CodeBlock, Assignment\n",
    "\n",
    "x_a_expr = (x_a_eq.rhs)\n",
    "x_l_expr = (x_l_eq.rhs)\n",
    "\n",
    "x_acode = symbols('x_acode')\n",
    "x_lcode = symbols('x_lcode')\n",
    "c = CodeBlock(Assignment(x_lcode, x_l_expr))\n",
    "\n",
    "print(\"operations: \", count_ops(c.cse()))\n",
    "\n",
    "print(ccode(c.cse()))"
   ]
  },
  {
   "cell_type": "code",
   "execution_count": 204,
   "metadata": {},
   "outputs": [
    {
     "name": "stdout",
     "output_type": "stream",
     "text": [
      "x0 = T1*T2*omega_max\n",
      "x1 = tau_max**2\n",
      "x2 = 4*x1\n",
      "x3 = k*m_l\n",
      "x4 = T1**4*T2**2*omega_max**2\n",
      "x5 = -x2 + x3*x4\n",
      "x6 = math.sqrt(x3*x5)\n",
      "x7 = T1**2*omega_max\n",
      "x8 = T2*x7\n",
      "x9 = x6*x8\n",
      "x10 = x3*x8\n",
      "x11 = x10 + x6\n",
      "x12 = x2*x3\n",
      "x13 = k**2*m_l**2\n",
      "x14 = math.sqrt(-x12 + x13*x4)\n",
      "x15 = x10 - x14\n",
      "x16 = 2*T2*m_l*tau_max\n",
      "x17 = x16/x15\n",
      "x18 = (k != 0)\n",
      "x19 = 1/(T2*m_l)\n",
      "x20 = (1/2)*t/tau_max\n",
      "x21 = x19*x20\n",
      "x22 = 2*x1\n",
      "x23 = x0*x22\n",
      "x24 = x23*math.exp(-x15*x21)/(x10 - x6)\n",
      "x25 = k*x7\n",
      "x26 = x19*x6\n",
      "x27 = x10 + x14\n",
      "x28 = x16/x27\n",
      "x29 = x3/x6\n",
      "x30 = x23*math.exp(-x21*x27)/x11\n",
      "x31 = tau_max**4\n",
      "x32 = T1**6*T2**3*omega_max**3\n",
      "x33 = 2*x31\n",
      "x34 = T1**8*T2**4*omega_max**4*x13\n",
      "x35 = x12*x4\n",
      "x_lcode = t*x0 + x11*x24*((x17) if x18 else (0))/(x5 + x9) - x24*x29*((x17*math.exp(x20*(x25 - x26))) if (x15 != 0) else (t)) + x29*x30*((x28*math.exp(x20*(x25 + x26))) if (x27 != 0) else (t)) - x3*x30*(-x22*x9 + x3*x32*x6 + x33 + x34 - x35)*((x28) if x18 else (0))/(T1**10*T2**5*k**3*m_l**3*omega_max**5 - 6*x1*x13*x32 + 8*x10*x31 + x33*x6 + x34*x6 - x35*x6)\n"
     ]
    }
   ],
   "source": [
    "print(pycode(c.cse()))"
   ]
  }
 ],
 "metadata": {
  "kernelspec": {
   "display_name": "Python 3",
   "language": "python",
   "name": "python3"
  },
  "language_info": {
   "codemirror_mode": {
    "name": "ipython",
    "version": 3
   },
   "file_extension": ".py",
   "mimetype": "text/x-python",
   "name": "python",
   "nbconvert_exporter": "python",
   "pygments_lexer": "ipython3",
   "version": "3.11.4"
  },
  "orig_nbformat": 4
 },
 "nbformat": 4,
 "nbformat_minor": 2
}
