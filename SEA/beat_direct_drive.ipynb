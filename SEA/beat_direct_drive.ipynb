{
 "cells": [
  {
   "cell_type": "code",
   "execution_count": 44,
   "metadata": {},
   "outputs": [],
   "source": [
    "from sympy import *\n",
    "import matplotlib.pyplot as plt\n",
    "import numpy as np\n",
    "from ipywidgets import interact, FloatSlider\n",
    "\n",
    "P, T, t, m, x, T_lim = symbols('P, T, t, m, x, T_lim', real=True, positive=True)\n",
    "g = 9.81\n",
    "v = sqrt(2*P*t/m)\n",
    "x_T = integrate(v, t).subs({t: T})\n",
    "T_x = list(solveset(Eq(x, x_T), T, domain=S.Reals))[0]\n",
    "T_f = Piecewise((T_x, T_x < T_lim), (T_lim, T_x >= T_lim))\n",
    "v_T = v.subs({t:T_f})\n",
    "h = v_T**2/(2*g)\n",
    "agility = h / (T_f + sqrt(2*h/g))\n",
    "# display(x_T, T_f, v_T)\n",
    "\n",
    "spring_eff = symbols('spring_eff')\n",
    "h_latched = P*T_lim/(m*g) * spring_eff\n",
    "agility_latched = h_latched / (T_lim + sqrt(2*h_latched/g))"
   ]
  },
  {
   "cell_type": "code",
   "execution_count": 73,
   "metadata": {},
   "outputs": [
    {
     "data": {
      "application/vnd.jupyter.widget-view+json": {
       "model_id": "1cc27f43325c44c1893922f129c51d19",
       "version_major": 2,
       "version_minor": 0
      },
      "text/plain": [
       "interactive(children=(FloatSlider(value=0.15, description='x_val', max=0.3, step=0.01), FloatSlider(value=0.4,…"
      ]
     },
     "metadata": {},
     "output_type": "display_data"
    },
    {
     "data": {
      "text/plain": [
       "<function __main__.plot_sliders(x_val, m_val, P_val, T_lim_val, spring_eff_val)>"
      ]
     },
     "execution_count": 73,
     "metadata": {},
     "output_type": "execute_result"
    }
   ],
   "source": [
    "def plot_sliders(x_val, m_val, P_val, T_lim_val, spring_eff_val):\n",
    "    fig, ((ax1, ax2), (ax3, ax4)) = plt.subplots(2, 2, figsize=(12, 8), sharey=True)\n",
    "    # fig.tight_layout()    \n",
    "\n",
    "    x_vals = np.linspace(0.01, 0.3, 100)\n",
    "    h_vals = np.zeros_like(x_vals)\n",
    "    agility_vals = np.zeros_like(x_vals)\n",
    "    h_latched_vals = np.zeros_like(x_vals)\n",
    "    agility_latched_vals = np.zeros_like(x_vals)\n",
    "    for i in range(len(x_vals)):\n",
    "        h_vals[i] = h.subs({x: x_vals[i], m:m_val, P:P_val, T_lim:T_lim_val})\n",
    "        agility_vals[i] = agility.subs({x: x_vals[i], m:m_val, P:P_val, T_lim:T_lim_val})\n",
    "        h_latched_vals[i] = h_latched.subs({x: x_vals[i], m:m_val, P:P_val, T_lim:T_lim_val, spring_eff:spring_eff_val})\n",
    "        agility_latched_vals[i] = agility_latched.subs({x: x_vals[i], m:m_val, P:P_val, T_lim:T_lim_val, spring_eff:spring_eff_val})\n",
    "    ax1.plot(x_vals, h_vals, color='red')\n",
    "    ax1.plot(x_vals, agility_vals, color='orange')\n",
    "    ax1.plot(x_vals, h_latched_vals, color='blue')\n",
    "    ax1.plot(x_vals, agility_latched_vals, color='green')\n",
    "    ax1.axvline(x=x_val, color='k', linestyle='--')\n",
    "    ax1.set_xlabel('leg stroke length (m)')\n",
    "    # ax1.set_title('wrt leg length')\n",
    "\n",
    "    P_vals = np.linspace(1, 80, 100)\n",
    "    h_vals = np.zeros_like(P_vals)\n",
    "    agility_vals = np.zeros_like(P_vals)\n",
    "    h_latched_vals = np.zeros_like(P_vals)\n",
    "    agility_latched_vals = np.zeros_like(P_vals)\n",
    "    for i in range(len(P_vals)):\n",
    "        h_vals[i] = h.subs({x: x_val, m:m_val, P:P_vals[i], T_lim:T_lim_val})\n",
    "        agility_vals[i] = agility.subs({x: x_val, m:m_val, P:P_vals[i], T_lim:T_lim_val})\n",
    "        h_latched_vals[i] = h_latched.subs({x: x_val, m:m_val, P:P_vals[i], T_lim:T_lim_val, spring_eff:spring_eff_val})\n",
    "        agility_latched_vals[i] = agility_latched.subs({x: x_val, m:m_val, P:P_vals[i], T_lim:T_lim_val, spring_eff:spring_eff_val})\n",
    "    ax2.plot(P_vals, h_vals, color='red')\n",
    "    ax2.plot(P_vals, agility_vals, color='orange')\n",
    "    ax2.plot(P_vals, h_latched_vals, color='blue')\n",
    "    ax2.plot(P_vals, agility_latched_vals, color='green')\n",
    "    ax2.axvline(x=P_val, color='k', linestyle='--')\n",
    "    ax2.set_xlabel('power (W)')\n",
    "    # ax2.set_title('wrt leg length')\n",
    "\n",
    "    T_lim_vals = np.linspace(0.01, 0.3, 100)\n",
    "    h_vals = np.zeros_like(T_lim_vals)\n",
    "    agility_vals = np.zeros_like(T_lim_vals)\n",
    "    h_latched_vals = np.zeros_like(T_lim_vals)\n",
    "    agility_latched_vals = np.zeros_like(T_lim_vals)\n",
    "    for i in range(len(T_lim_vals)):\n",
    "        h_vals[i] = h.subs({x: x_val, m:m_val, P:P_val, T_lim:T_lim_vals[i]})\n",
    "        agility_vals[i] = agility.subs({x: x_val, m:m_val, P:P_val, T_lim:T_lim_vals[i]})\n",
    "        h_latched_vals[i] = h_latched.subs({x: x_val, m:m_val, P:P_val, T_lim:T_lim_vals[i], spring_eff:spring_eff_val})\n",
    "        agility_latched_vals[i] = agility_latched.subs({x: x_val, m:m_val, P:P_val, T_lim:T_lim_vals[i], spring_eff:spring_eff_val})\n",
    "    ax3.plot(T_lim_vals, h_vals, color='red')\n",
    "    ax3.plot(T_lim_vals, agility_vals, color='orange')\n",
    "    ax3.plot(T_lim_vals, h_latched_vals, color='blue')\n",
    "    ax3.plot(T_lim_vals, agility_latched_vals, color='green')\n",
    "    ax3.axvline(x=T_lim_val, color='k', linestyle='--')\n",
    "    ax3.set_xlabel('time limit (s)')\n",
    "    # ax3.set_title('wrt leg length')\n",
    "\n",
    "    spring_eff_vals = np.linspace(0, 1, 100)\n",
    "    h_vals = np.zeros_like(spring_eff_vals)\n",
    "    agility_vals = np.zeros_like(spring_eff_vals)\n",
    "    h_latched_vals = np.zeros_like(spring_eff_vals)\n",
    "    agility_latched_vals = np.zeros_like(spring_eff_vals)\n",
    "    for i in range(len(spring_eff_vals)):\n",
    "        h_vals[i] = h.subs({x: x_val, m:m_val, P:P_val, T_lim:T_lim_val})\n",
    "        agility_vals[i] = agility.subs({x: x_val, m:m_val, P:P_val, T_lim:T_lim_val})\n",
    "        h_latched_vals[i] = h_latched.subs({x: x_val, m:m_val, P:P_val, T_lim:T_lim_val, spring_eff:spring_eff_vals[i]})\n",
    "        agility_latched_vals[i] = agility_latched.subs({x: x_val, m:m_val, P:P_val, T_lim:T_lim_val, spring_eff:spring_eff_vals[i]})\n",
    "    latched_joules = str(m_val * g * h_latched.subs({x: x_val, m:m_val, P:P_val, T_lim:T_lim_val, spring_eff:spring_eff_val}) / spring_eff_val).rstrip('0').rstrip('.')\n",
    "    ax4.plot(spring_eff_vals, h_vals, label='direct height (m)', color='red')\n",
    "    ax4.plot(spring_eff_vals, agility_vals, label='direct agility (m/s)', color='orange')\n",
    "    ax4.plot(spring_eff_vals, h_latched_vals, label=f'latched height (m) {latched_joules}J', color='blue')\n",
    "    ax4.plot(spring_eff_vals, agility_latched_vals, label='latched agility (m/s)', color='green')\n",
    "    ax4.axvline(x=spring_eff_val, color='k', linestyle='--')\n",
    "    ax4.set_xlabel('spring eff')\n",
    "    # ax4.set_title('wrt time limit')\n",
    "\n",
    "    \n",
    "    plt.legend()\n",
    "    plt.show()\n",
    "\n",
    "interact(\n",
    "    plot_sliders, \n",
    "    x_val=FloatSlider(min=0, max=0.3, step=0.01, value=0.15), \n",
    "    m_val=FloatSlider(min=0.1, max=0.7, step=0.01, value=0.4), \n",
    "    P_val=FloatSlider(min=1, max=80.0, step=1, value=50), \n",
    "    T_lim_val=FloatSlider(min=0, max=0.5, step=0.01, value=0.2), \n",
    "    spring_eff_val=FloatSlider(min=0, max=1, step=0.1, value=0.5)\n",
    ")"
   ]
  }
 ],
 "metadata": {
  "kernelspec": {
   "display_name": "Python 3",
   "language": "python",
   "name": "python3"
  },
  "language_info": {
   "codemirror_mode": {
    "name": "ipython",
    "version": 3
   },
   "file_extension": ".py",
   "mimetype": "text/x-python",
   "name": "python",
   "nbconvert_exporter": "python",
   "pygments_lexer": "ipython3",
   "version": "3.11.4"
  }
 },
 "nbformat": 4,
 "nbformat_minor": 2
}
