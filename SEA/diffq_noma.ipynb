{
 "cells": [
  {
   "cell_type": "code",
   "execution_count": 255,
   "metadata": {},
   "outputs": [
    {
     "data": {
      "text/latex": [
       "$\\displaystyle \\left[\\begin{matrix}- \\frac{T_{1}^{2} k \\omega_{max}}{\\tau_{max}} & \\frac{T_{1} k \\omega_{max}}{T_{2} \\tau_{max}} & 0\\\\0 & 0 & 1\\\\\\frac{T_{1} k}{T_{2} m_{l}} & - \\frac{k}{T_{2}^{2} m_{l}} & 0\\end{matrix}\\right]$"
      ],
      "text/plain": [
       "Matrix([\n",
       "[-T1**2*k*omega_max/tau_max, T1*k*omega_max/(T2*tau_max), 0],\n",
       "[                         0,                           0, 1],\n",
       "[             T1*k/(T2*m_l),              -k/(T2**2*m_l), 0]])"
      ]
     },
     "metadata": {},
     "output_type": "display_data"
    },
    {
     "data": {
      "text/latex": [
       "$\\displaystyle \\left[\\begin{matrix}\\omega_{max}\\\\0\\\\0\\end{matrix}\\right]$"
      ],
      "text/plain": [
       "Matrix([\n",
       "[omega_max],\n",
       "[        0],\n",
       "[        0]])"
      ]
     },
     "metadata": {},
     "output_type": "display_data"
    }
   ],
   "source": [
    "from sympy import *\n",
    "from sympy.solvers.ode.systems import linodesolve\n",
    "\n",
    "# tau_s = 0.1 #N*m\n",
    "# omega_f = 1000 #about 10,000rpm\n",
    "\n",
    "tau_max, omega_max = symbols(\"tau_max, omega_max\") #stall torque, free speed\n",
    "# free_speed = 1000 #about 10,000rpm\n",
    "\n",
    "\n",
    "T1, T2, k, m_a, m_l, k = symbols('T1, T2, k, m_a, m_l, k')\n",
    "c0, c1, c2, c3, c4, c5, c6 = symbols('c:7')\n",
    "\n",
    "t = symbols('t')\n",
    "\n",
    "c1 = -k * T1**2 * omega_max / tau_max\n",
    "c2 = k * T1 * omega_max / (tau_max * T2)\n",
    "c3 = k * T1 / (T2 * m_l)\n",
    "c4 = -k / (T2**2 * m_l)\n",
    "\n",
    "\n",
    "A = Matrix([\n",
    "    [c1, c2, 0],\n",
    "    [0, 0, 1],\n",
    "    [c3, c4, 0],\n",
    "])\n",
    "b = Matrix([omega_max, 0, 0])\n",
    "\n",
    "display(A, b)"
   ]
  },
  {
   "cell_type": "code",
   "execution_count": 403,
   "metadata": {},
   "outputs": [
    {
     "data": {
      "text/latex": [
       "$\\displaystyle \\frac{Dummy_{44063}}{T_{1} T_{2}} - \\frac{Dummy_{44064} T_{1} T_{2} m_{l} \\omega_{max} e^{- \\frac{T_{1}^{2} k \\omega_{max} t}{2 \\tau_{max}} - \\frac{t \\sqrt{T_{1}^{4} T_{2}^{2} k^{2} m_{l}^{2} \\omega_{max}^{2} - 4 k m_{l} \\tau_{max}^{2}}}{2 T_{2} m_{l} \\tau_{max}}}}{\\tau_{max}} - \\frac{Dummy_{44065} T_{1} T_{2} m_{l} \\omega_{max} e^{- \\frac{T_{1}^{2} k \\omega_{max} t}{2 \\tau_{max}} + \\frac{t \\sqrt{T_{1}^{4} T_{2}^{2} k^{2} m_{l}^{2} \\omega_{max}^{2} - 4 k m_{l} \\tau_{max}^{2}}}{2 T_{2} m_{l} \\tau_{max}}}}{\\tau_{max}} - \\frac{T_{1}^{2} T_{2}^{2} m_{l} \\omega_{max}^{2}}{\\tau_{max}} + \\omega_{max} t$"
      ],
      "text/plain": [
       "_Dummy_44063/(T1*T2) - _Dummy_44064*T1*T2*m_l*omega_max*exp(-T1**2*k*omega_max*t/(2*tau_max) - t*sqrt(T1**4*T2**2*k**2*m_l**2*omega_max**2 - 4*k*m_l*tau_max**2)/(2*T2*m_l*tau_max))/tau_max - _Dummy_44065*T1*T2*m_l*omega_max*exp(-T1**2*k*omega_max*t/(2*tau_max) + t*sqrt(T1**4*T2**2*k**2*m_l**2*omega_max**2 - 4*k*m_l*tau_max**2)/(2*T2*m_l*tau_max))/tau_max - T1**2*T2**2*m_l*omega_max**2/tau_max + omega_max*t"
      ]
     },
     "metadata": {},
     "output_type": "display_data"
    },
    {
     "data": {
      "text/latex": [
       "$\\displaystyle Dummy_{44063} - \\frac{Dummy_{44064} T_{1}^{2} T_{2}^{2} m_{l} \\omega_{max} e^{- \\frac{T_{1}^{2} k \\omega_{max} t}{2 \\tau_{max}} - \\frac{t \\sqrt{T_{1}^{4} T_{2}^{2} k^{2} m_{l}^{2} \\omega_{max}^{2} - 4 k m_{l} \\tau_{max}^{2}}}{2 T_{2} m_{l} \\tau_{max}}}}{2 \\tau_{max}} + \\frac{Dummy_{44064} T_{2} \\sqrt{T_{1}^{4} T_{2}^{2} k^{2} m_{l}^{2} \\omega_{max}^{2} - 4 k m_{l} \\tau_{max}^{2}} e^{- \\frac{T_{1}^{2} k \\omega_{max} t}{2 \\tau_{max}} - \\frac{t \\sqrt{T_{1}^{4} T_{2}^{2} k^{2} m_{l}^{2} \\omega_{max}^{2} - 4 k m_{l} \\tau_{max}^{2}}}{2 T_{2} m_{l} \\tau_{max}}}}{2 k \\tau_{max}} - \\frac{Dummy_{44065} T_{1}^{2} T_{2}^{2} m_{l} \\omega_{max} e^{- \\frac{T_{1}^{2} k \\omega_{max} t}{2 \\tau_{max}} + \\frac{t \\sqrt{T_{1}^{4} T_{2}^{2} k^{2} m_{l}^{2} \\omega_{max}^{2} - 4 k m_{l} \\tau_{max}^{2}}}{2 T_{2} m_{l} \\tau_{max}}}}{2 \\tau_{max}} - \\frac{Dummy_{44065} T_{2} \\sqrt{T_{1}^{4} T_{2}^{2} k^{2} m_{l}^{2} \\omega_{max}^{2} - 4 k m_{l} \\tau_{max}^{2}} e^{- \\frac{T_{1}^{2} k \\omega_{max} t}{2 \\tau_{max}} + \\frac{t \\sqrt{T_{1}^{4} T_{2}^{2} k^{2} m_{l}^{2} \\omega_{max}^{2} - 4 k m_{l} \\tau_{max}^{2}}}{2 T_{2} m_{l} \\tau_{max}}}}{2 k \\tau_{max}} - \\frac{T_{1}^{3} T_{2}^{3} m_{l} \\omega_{max}^{2}}{\\tau_{max}} + T_{1} T_{2} \\omega_{max} t$"
      ],
      "text/plain": [
       "_Dummy_44063 - _Dummy_44064*T1**2*T2**2*m_l*omega_max*exp(-T1**2*k*omega_max*t/(2*tau_max) - t*sqrt(T1**4*T2**2*k**2*m_l**2*omega_max**2 - 4*k*m_l*tau_max**2)/(2*T2*m_l*tau_max))/(2*tau_max) + _Dummy_44064*T2*sqrt(T1**4*T2**2*k**2*m_l**2*omega_max**2 - 4*k*m_l*tau_max**2)*exp(-T1**2*k*omega_max*t/(2*tau_max) - t*sqrt(T1**4*T2**2*k**2*m_l**2*omega_max**2 - 4*k*m_l*tau_max**2)/(2*T2*m_l*tau_max))/(2*k*tau_max) - _Dummy_44065*T1**2*T2**2*m_l*omega_max*exp(-T1**2*k*omega_max*t/(2*tau_max) + t*sqrt(T1**4*T2**2*k**2*m_l**2*omega_max**2 - 4*k*m_l*tau_max**2)/(2*T2*m_l*tau_max))/(2*tau_max) - _Dummy_44065*T2*sqrt(T1**4*T2**2*k**2*m_l**2*omega_max**2 - 4*k*m_l*tau_max**2)*exp(-T1**2*k*omega_max*t/(2*tau_max) + t*sqrt(T1**4*T2**2*k**2*m_l**2*omega_max**2 - 4*k*m_l*tau_max**2)/(2*T2*m_l*tau_max))/(2*k*tau_max) - T1**3*T2**3*m_l*omega_max**2/tau_max + T1*T2*omega_max*t"
      ]
     },
     "metadata": {},
     "output_type": "display_data"
    },
    {
     "data": {
      "text/latex": [
       "$\\displaystyle Dummy_{44064} e^{- \\frac{T_{1}^{2} k \\omega_{max} t}{2 \\tau_{max}} - \\frac{t \\sqrt{T_{1}^{4} T_{2}^{2} k^{2} m_{l}^{2} \\omega_{max}^{2} - 4 k m_{l} \\tau_{max}^{2}}}{2 T_{2} m_{l} \\tau_{max}}} + Dummy_{44065} e^{- \\frac{T_{1}^{2} k \\omega_{max} t}{2 \\tau_{max}} + \\frac{t \\sqrt{T_{1}^{4} T_{2}^{2} k^{2} m_{l}^{2} \\omega_{max}^{2} - 4 k m_{l} \\tau_{max}^{2}}}{2 T_{2} m_{l} \\tau_{max}}} + T_{1} T_{2} \\omega_{max}$"
      ],
      "text/plain": [
       "_Dummy_44064*exp(-T1**2*k*omega_max*t/(2*tau_max) - t*sqrt(T1**4*T2**2*k**2*m_l**2*omega_max**2 - 4*k*m_l*tau_max**2)/(2*T2*m_l*tau_max)) + _Dummy_44065*exp(-T1**2*k*omega_max*t/(2*tau_max) + t*sqrt(T1**4*T2**2*k**2*m_l**2*omega_max**2 - 4*k*m_l*tau_max**2)/(2*T2*m_l*tau_max)) + T1*T2*omega_max"
      ]
     },
     "metadata": {},
     "output_type": "display_data"
    }
   ],
   "source": [
    "linsol = linodesolve(A, t, b=b)\n",
    "\n",
    "for i in range(3):\n",
    "    linsol[i] = linsol[i].doit(conds='none')\n",
    "    linsol[i] = simplify(linsol[i])\n",
    "    display(linsol[i])"
   ]
  },
  {
   "cell_type": "code",
   "execution_count": 404,
   "metadata": {},
   "outputs": [
    {
     "data": {
      "text/plain": [
       "[_Dummy_44063, _Dummy_44065, _Dummy_44064]"
      ]
     },
     "execution_count": 404,
     "metadata": {},
     "output_type": "execute_result"
    }
   ],
   "source": [
    "dum_syms = []\n",
    "freesyms = list(linsol[0].free_symbols) + list(linsol[1].free_symbols) + list(linsol[2].free_symbols)\n",
    "for freesym in freesyms:\n",
    "    if freesym.name.startswith('Dummy') and not freesym in dum_syms:\n",
    "        dum_syms.append(freesym)\n",
    "dum_syms"
   ]
  },
  {
   "cell_type": "code",
   "execution_count": 407,
   "metadata": {},
   "outputs": [
    {
     "data": {
      "text/latex": [
       "$\\displaystyle \\left[\\begin{matrix}\\frac{1}{T_{1} T_{2}} & - \\frac{T_{1} T_{2} m_{l} \\omega_{max}}{\\tau_{max}} & - \\frac{T_{1} T_{2} m_{l} \\omega_{max}}{\\tau_{max}}\\\\1 & \\frac{T_{2} \\left(- T_{1}^{2} T_{2} k m_{l} \\omega_{max} - \\sqrt{k m_{l} \\left(T_{1}^{4} T_{2}^{2} k m_{l} \\omega_{max}^{2} - 4 \\tau_{max}^{2}\\right)}\\right)}{2 k \\tau_{max}} & \\frac{T_{2} \\left(- T_{1}^{2} T_{2} k m_{l} \\omega_{max} + \\sqrt{k m_{l} \\left(T_{1}^{4} T_{2}^{2} k m_{l} \\omega_{max}^{2} - 4 \\tau_{max}^{2}\\right)}\\right)}{2 k \\tau_{max}}\\\\0 & 1 & 1\\end{matrix}\\right]$"
      ],
      "text/plain": [
       "Matrix([\n",
       "[1/(T1*T2),                                                                               -T1*T2*m_l*omega_max/tau_max,                                                                               -T1*T2*m_l*omega_max/tau_max],\n",
       "[        1, T2*(-T1**2*T2*k*m_l*omega_max - sqrt(k*m_l*(T1**4*T2**2*k*m_l*omega_max**2 - 4*tau_max**2)))/(2*k*tau_max), T2*(-T1**2*T2*k*m_l*omega_max + sqrt(k*m_l*(T1**4*T2**2*k*m_l*omega_max**2 - 4*tau_max**2)))/(2*k*tau_max)],\n",
       "[        0,                                                                                                          1,                                                                                                          1]])"
      ]
     },
     "metadata": {},
     "output_type": "display_data"
    },
    {
     "data": {
      "text/latex": [
       "$\\displaystyle \\left[\\begin{matrix}T_{1} T_{2} & 0 & \\frac{T_{1}^{2} T_{2}^{2} m_{l} \\omega_{max}}{\\tau_{max}}\\\\\\frac{T_{1} k \\tau_{max}}{\\sqrt{k m_{l} \\left(T_{1}^{4} T_{2}^{2} k m_{l} \\omega_{max}^{2} - 4 \\tau_{max}^{2}\\right)}} & - \\frac{k \\tau_{max}}{T_{2} \\sqrt{k m_{l} \\left(T_{1}^{4} T_{2}^{2} k m_{l} \\omega_{max}^{2} - 4 \\tau_{max}^{2}\\right)}} & \\frac{T_{1}^{2} T_{2} k m_{l} \\omega_{max}}{2 \\sqrt{T_{1}^{4} T_{2}^{2} k^{2} m_{l}^{2} \\omega_{max}^{2} - 4 k m_{l} \\tau_{max}^{2}}} + \\frac{1}{2}\\\\- \\frac{T_{1} k \\tau_{max}}{\\sqrt{k m_{l} \\left(T_{1}^{4} T_{2}^{2} k m_{l} \\omega_{max}^{2} - 4 \\tau_{max}^{2}\\right)}} & \\frac{k \\tau_{max}}{T_{2} \\sqrt{k m_{l} \\left(T_{1}^{4} T_{2}^{2} k m_{l} \\omega_{max}^{2} - 4 \\tau_{max}^{2}\\right)}} & - \\frac{T_{1}^{2} T_{2} k m_{l} \\omega_{max}}{2 \\sqrt{T_{1}^{4} T_{2}^{2} k^{2} m_{l}^{2} \\omega_{max}^{2} - 4 k m_{l} \\tau_{max}^{2}}} + \\frac{1}{2}\\end{matrix}\\right]$"
      ],
      "text/plain": [
       "Matrix([\n",
       "[                                                                    T1*T2,                                                                           0,                                                                   T1**2*T2**2*m_l*omega_max/tau_max],\n",
       "[ T1*k*tau_max/sqrt(k*m_l*(T1**4*T2**2*k*m_l*omega_max**2 - 4*tau_max**2)), -k*tau_max/(T2*sqrt(k*m_l*(T1**4*T2**2*k*m_l*omega_max**2 - 4*tau_max**2))),  T1**2*T2*k*m_l*omega_max/(2*sqrt(T1**4*T2**2*k**2*m_l**2*omega_max**2 - 4*k*m_l*tau_max**2)) + 1/2],\n",
       "[-T1*k*tau_max/sqrt(k*m_l*(T1**4*T2**2*k*m_l*omega_max**2 - 4*tau_max**2)),  k*tau_max/(T2*sqrt(k*m_l*(T1**4*T2**2*k*m_l*omega_max**2 - 4*tau_max**2))), -T1**2*T2*k*m_l*omega_max/(2*sqrt(T1**4*T2**2*k**2*m_l**2*omega_max**2 - 4*k*m_l*tau_max**2)) + 1/2]])"
      ]
     },
     "metadata": {},
     "output_type": "display_data"
    },
    {
     "data": {
      "text/latex": [
       "$\\displaystyle \\left[\\begin{matrix}\\frac{T_{1}^{2} T_{2}^{2} m_{l} \\omega_{max}^{2}}{\\tau_{max}}\\\\\\frac{T_{1}^{3} T_{2}^{3} m_{l} \\omega_{max}^{2}}{\\tau_{max}}\\\\- T_{1} T_{2} \\omega_{max}\\end{matrix}\\right]$"
      ],
      "text/plain": [
       "Matrix([\n",
       "[T1**2*T2**2*m_l*omega_max**2/tau_max],\n",
       "[T1**3*T2**3*m_l*omega_max**2/tau_max],\n",
       "[                    -T1*T2*omega_max]])"
      ]
     },
     "metadata": {},
     "output_type": "display_data"
    }
   ],
   "source": [
    "mat = linear_eq_to_matrix(linsol, dum_syms)\n",
    "A_dum = simplify(mat[0].subs({t:0}))\n",
    "A_dum_inv = simplify(A_dum.inv())\n",
    "b_dum = simplify(mat[1].subs({t:0}))\n",
    "display(A_dum, A_dum_inv, b_dum)"
   ]
  },
  {
   "cell_type": "code",
   "execution_count": 421,
   "metadata": {},
   "outputs": [
    {
     "data": {
      "text/latex": [
       "$\\displaystyle \\frac{Dummy_{44063}}{T_{1} T_{2}} - \\frac{Dummy_{44064} T_{1} T_{2} m_{l} \\omega_{max}}{\\tau_{max}} - \\frac{Dummy_{44065} T_{1} T_{2} m_{l} \\omega_{max}}{\\tau_{max}} - \\frac{T_{1}^{2} T_{2}^{2} m_{l} \\omega_{max}^{2}}{\\tau_{max}}$"
      ],
      "text/plain": [
       "_Dummy_44063/(T1*T2) - _Dummy_44064*T1*T2*m_l*omega_max/tau_max - _Dummy_44065*T1*T2*m_l*omega_max/tau_max - T1**2*T2**2*m_l*omega_max**2/tau_max"
      ]
     },
     "metadata": {},
     "output_type": "display_data"
    },
    {
     "data": {
      "text/latex": [
       "$\\displaystyle Dummy_{44063} - \\frac{Dummy_{44064} T_{1}^{2} T_{2}^{2} m_{l} \\omega_{max}}{2 \\tau_{max}} + \\frac{Dummy_{44064} T_{2} \\sqrt{T_{1}^{4} T_{2}^{2} k^{2} m_{l}^{2} \\omega_{max}^{2} - 4 k m_{l} \\tau_{max}^{2}}}{2 k \\tau_{max}} - \\frac{Dummy_{44065} T_{1}^{2} T_{2}^{2} m_{l} \\omega_{max}}{2 \\tau_{max}} - \\frac{Dummy_{44065} T_{2} \\sqrt{T_{1}^{4} T_{2}^{2} k^{2} m_{l}^{2} \\omega_{max}^{2} - 4 k m_{l} \\tau_{max}^{2}}}{2 k \\tau_{max}} - \\frac{T_{1}^{3} T_{2}^{3} m_{l} \\omega_{max}^{2}}{\\tau_{max}}$"
      ],
      "text/plain": [
       "_Dummy_44063 - _Dummy_44064*T1**2*T2**2*m_l*omega_max/(2*tau_max) + _Dummy_44064*T2*sqrt(T1**4*T2**2*k**2*m_l**2*omega_max**2 - 4*k*m_l*tau_max**2)/(2*k*tau_max) - _Dummy_44065*T1**2*T2**2*m_l*omega_max/(2*tau_max) - _Dummy_44065*T2*sqrt(T1**4*T2**2*k**2*m_l**2*omega_max**2 - 4*k*m_l*tau_max**2)/(2*k*tau_max) - T1**3*T2**3*m_l*omega_max**2/tau_max"
      ]
     },
     "metadata": {},
     "output_type": "display_data"
    },
    {
     "data": {
      "text/latex": [
       "$\\displaystyle Dummy_{44064} + Dummy_{44065} + T_{1} T_{2} \\omega_{max}$"
      ],
      "text/plain": [
       "_Dummy_44064 + _Dummy_44065 + T1*T2*omega_max"
      ]
     },
     "metadata": {},
     "output_type": "display_data"
    }
   ],
   "source": [
    "for i in range(3):\n",
    "    display(linsol[i].subs(t,0))"
   ]
  },
  {
   "cell_type": "code",
   "execution_count": 422,
   "metadata": {},
   "outputs": [
    {
     "data": {
      "text/latex": [
       "$\\displaystyle \\left[\\begin{matrix}\\frac{Dummy_{44063}}{T_{1} T_{2}} - \\frac{Dummy_{44064} T_{1} T_{2} m_{l} \\omega_{max}}{\\tau_{max}} - \\frac{Dummy_{44065} T_{1} T_{2} m_{l} \\omega_{max}}{\\tau_{max}} - \\frac{T_{1}^{2} T_{2}^{2} m_{l} \\omega_{max}^{2}}{\\tau_{max}}\\\\Dummy_{44063} + \\frac{Dummy_{44064} T_{2} \\left(- T_{1}^{2} T_{2} k m_{l} \\omega_{max} + \\sqrt{k m_{l} \\left(T_{1}^{4} T_{2}^{2} k m_{l} \\omega_{max}^{2} - 4 \\tau_{max}^{2}\\right)}\\right)}{2 k \\tau_{max}} + \\frac{Dummy_{44065} T_{2} \\left(- T_{1}^{2} T_{2} k m_{l} \\omega_{max} - \\sqrt{k m_{l} \\left(T_{1}^{4} T_{2}^{2} k m_{l} \\omega_{max}^{2} - 4 \\tau_{max}^{2}\\right)}\\right)}{2 k \\tau_{max}} - \\frac{T_{1}^{3} T_{2}^{3} m_{l} \\omega_{max}^{2}}{\\tau_{max}}\\\\Dummy_{44064} + Dummy_{44065} + T_{1} T_{2} \\omega_{max}\\end{matrix}\\right]$"
      ],
      "text/plain": [
       "Matrix([\n",
       "[                                                                                                                                                      _Dummy_44063/(T1*T2) - _Dummy_44064*T1*T2*m_l*omega_max/tau_max - _Dummy_44065*T1*T2*m_l*omega_max/tau_max - T1**2*T2**2*m_l*omega_max**2/tau_max],\n",
       "[_Dummy_44063 + _Dummy_44064*T2*(-T1**2*T2*k*m_l*omega_max + sqrt(k*m_l*(T1**4*T2**2*k*m_l*omega_max**2 - 4*tau_max**2)))/(2*k*tau_max) + _Dummy_44065*T2*(-T1**2*T2*k*m_l*omega_max - sqrt(k*m_l*(T1**4*T2**2*k*m_l*omega_max**2 - 4*tau_max**2)))/(2*k*tau_max) - T1**3*T2**3*m_l*omega_max**2/tau_max],\n",
       "[                                                                                                                                                                                                                                                          _Dummy_44064 + _Dummy_44065 + T1*T2*omega_max]])"
      ]
     },
     "execution_count": 422,
     "metadata": {},
     "output_type": "execute_result"
    }
   ],
   "source": [
    "A_dum @ Matrix(dum_syms) - b_dum"
   ]
  },
  {
   "cell_type": "code",
   "execution_count": 423,
   "metadata": {},
   "outputs": [
    {
     "data": {
      "text/latex": [
       "$\\displaystyle \\left[\\begin{matrix}\\frac{T_{1} T_{2} \\left(T_{1} T_{2} m_{l} \\omega_{max} v_{l0} + \\tau_{max} x_{a0}\\right)}{\\tau_{max}}\\\\\\frac{- T_{1}^{3} T_{2}^{3} k m_{l} \\omega_{max}^{2} + T_{1}^{2} T_{2}^{2} k m_{l} \\omega_{max} v_{l0} - T_{1} T_{2}^{2} \\omega_{max} \\sqrt{k m_{l} \\left(T_{1}^{4} T_{2}^{2} k m_{l} \\omega_{max}^{2} - 4 \\tau_{max}^{2}\\right)} + 2 T_{1} T_{2} k \\tau_{max} x_{a0} + T_{2} v_{l0} \\sqrt{k m_{l} \\left(T_{1}^{4} T_{2}^{2} k m_{l} \\omega_{max}^{2} - 4 \\tau_{max}^{2}\\right)} - 2 k \\tau_{max} x_{l0}}{2 T_{2} \\sqrt{k m_{l} \\left(T_{1}^{4} T_{2}^{2} k m_{l} \\omega_{max}^{2} - 4 \\tau_{max}^{2}\\right)}}\\\\\\frac{T_{1}^{3} T_{2}^{3} k m_{l} \\omega_{max}^{2} - T_{1}^{2} T_{2}^{2} k m_{l} \\omega_{max} v_{l0} - T_{1} T_{2}^{2} \\omega_{max} \\sqrt{k m_{l} \\left(T_{1}^{4} T_{2}^{2} k m_{l} \\omega_{max}^{2} - 4 \\tau_{max}^{2}\\right)} - 2 T_{1} T_{2} k \\tau_{max} x_{a0} + T_{2} v_{l0} \\sqrt{k m_{l} \\left(T_{1}^{4} T_{2}^{2} k m_{l} \\omega_{max}^{2} - 4 \\tau_{max}^{2}\\right)} + 2 k \\tau_{max} x_{l0}}{2 T_{2} \\sqrt{k m_{l} \\left(T_{1}^{4} T_{2}^{2} k m_{l} \\omega_{max}^{2} - 4 \\tau_{max}^{2}\\right)}}\\end{matrix}\\right]$"
      ],
      "text/plain": [
       "Matrix([\n",
       "[                                                                                                                                                                                                                                                                                   T1*T2*(T1*T2*m_l*omega_max*v_l0 + tau_max*x_a0)/tau_max],\n",
       "[(-T1**3*T2**3*k*m_l*omega_max**2 + T1**2*T2**2*k*m_l*omega_max*v_l0 - T1*T2**2*omega_max*sqrt(k*m_l*(T1**4*T2**2*k*m_l*omega_max**2 - 4*tau_max**2)) + 2*T1*T2*k*tau_max*x_a0 + T2*v_l0*sqrt(k*m_l*(T1**4*T2**2*k*m_l*omega_max**2 - 4*tau_max**2)) - 2*k*tau_max*x_l0)/(2*T2*sqrt(k*m_l*(T1**4*T2**2*k*m_l*omega_max**2 - 4*tau_max**2)))],\n",
       "[ (T1**3*T2**3*k*m_l*omega_max**2 - T1**2*T2**2*k*m_l*omega_max*v_l0 - T1*T2**2*omega_max*sqrt(k*m_l*(T1**4*T2**2*k*m_l*omega_max**2 - 4*tau_max**2)) - 2*T1*T2*k*tau_max*x_a0 + T2*v_l0*sqrt(k*m_l*(T1**4*T2**2*k*m_l*omega_max**2 - 4*tau_max**2)) + 2*k*tau_max*x_l0)/(2*T2*sqrt(k*m_l*(T1**4*T2**2*k*m_l*omega_max**2 - 4*tau_max**2)))]])"
      ]
     },
     "execution_count": 423,
     "metadata": {},
     "output_type": "execute_result"
    }
   ],
   "source": [
    "x_a0, x_l0, v_l0 = symbols('x_a0, x_l0, v_l0')\n",
    "ics = Matrix([x_a0, x_l0, v_l0])\n",
    "\n",
    "dum_vals = simplify(A_dum_inv * (ics + b_dum))\n",
    "\n",
    "dum_dict = {dum_syms[i]: dum_vals[i] for i in range(len(dum_syms))}\n",
    "\n",
    "dum_vals"
   ]
  },
  {
   "cell_type": "code",
   "execution_count": 426,
   "metadata": {},
   "outputs": [
    {
     "name": "stdout",
     "output_type": "stream",
     "text": [
      "0.0 1.00000000000006 7.20522996323282e-18 -5.21720806768577e-16\n",
      "0.026 69.2278149966828 0.00261526159973791 0.285854757983197\n",
      "0.053 121.771293026584 0.0187159703650022 0.989958501747237\n",
      "0.079 166.395808417065 0.0565635673875210 1.90523458256248\n",
      "0.105 210.000403021977 0.119216993896373 2.84770855099290\n",
      "0.132 257.860935742362 0.205431832169837 3.67669083634403\n",
      "0.158 313.297476680877 0.310939609098674 4.30364623587837\n",
      "0.184 377.704423287139 0.429828334955987 4.69139081760612\n",
      "0.211 450.846117422693 0.555802462114866 4.84620879855275\n",
      "0.237 531.307985546753 0.683174397131732 4.80582213980589\n",
      "0.263 616.999340296641 0.807515678416770 4.62598250437028\n",
      "0.289 705.623266662001 0.925962640397299 4.36794095918875\n",
      "0.316 795.055359005118 1.03722173436943 4.08834832126703\n",
      "0.342 883.600930099247 1.14135071459462 3.83239624998498\n",
      "0.368 970.125340613486 1.23940417030520 3.63034179416668\n",
      "0.395 1054.07147074337 1.33302845783086 3.49704148193132\n",
      "0.421 1135.39077509676 1.42407647098068 3.43378985706882\n",
      "0.447 1214.41984734315 1.51429182323162 3.43161108839316\n",
      "0.474 1291.73397109392 1.60508946368262 3.47516427960069\n",
      "0.5 1368.00433282148 1.69743914209749 3.54655112476058\n"
     ]
    }
   ],
   "source": [
    "nums = {\n",
    "    T1: 0.00025, #0.035 m / 140 rad from TSA test\n",
    "    T2: 5, #guess for leg movement/string contract\n",
    "    m_a: 1/2 * 0.020 * 0.010**2, #cylinder MOI 20g 10mm radius\n",
    "    m_l: 0.5, #mass to push off ground\n",
    "    k: 3000, # no idea honestly\n",
    "    tau_max: 0.05, #N*m stall torque\n",
    "    omega_max: 3000, #about 10,000rpm free speed\n",
    "}\n",
    "\n",
    "ics_n = {x_a0:1, x_l0:0, v_l0:0}\n",
    "\n",
    "for ti in np.linspace(0, 0.5, 20):\n",
    "    temp0 = linsol[0].subs(dum_dict).subs(ics_n).subs(nums).subs(t,ti).n()\n",
    "    temp1 = linsol[1].subs(dum_dict).subs(ics_n).subs(nums).subs(t,ti).n()\n",
    "    temp2 = linsol[2].subs(dum_dict).subs(ics_n).subs(nums).subs(t,ti).n()\n",
    "    print(round(ti, 3), re(temp0), re(temp1), re(temp2))\n"
   ]
  },
  {
   "cell_type": "code",
   "execution_count": 425,
   "metadata": {},
   "outputs": [
    {
     "name": "stdout",
     "output_type": "stream",
     "text": [
      "x0 = 1/tau_max\n",
      "x1 = k*m_l\n",
      "x2 = T2**2\n",
      "x3 = omega_max**2\n",
      "x4 = x2*x3\n",
      "x5 = T1**4*x1*x4 - 4*tau_max**2\n",
      "x6 = math.sqrt(x1*x5)\n",
      "x7 = 2*x6\n",
      "x8 = t*tau_max\n",
      "x9 = tau_max*x_a0\n",
      "x10 = T2*v_l0\n",
      "x11 = T1*omega_max\n",
      "x12 = m_l*x11\n",
      "x13 = T1**2\n",
      "x14 = -m_l*x13*x4 + x10*x12 + x9\n",
      "x15 = omega_max*x1*x13\n",
      "x16 = T2*x15\n",
      "x17 = 1/T2\n",
      "x18 = (1/2)*t*x0*x17/m_l\n",
      "x19 = math.exp(-x18*(x16 + x6))\n",
      "x20 = x10*x6\n",
      "x21 = x11*x2\n",
      "x22 = x21*x6\n",
      "x23 = 2*k\n",
      "x24 = T1*T2\n",
      "x25 = T1**3*T2**3*x1*x3 + tau_max*x23*x_l0 - v_l0*x15*x2 - x23*x24*x9\n",
      "x26 = x20 - x22 + x25\n",
      "x27 = x19*x26\n",
      "x28 = math.exp(x18*(-x16 + x6))\n",
      "x29 = -x20 + x22 + x25\n",
      "x30 = (1/2)/x6\n",
      "x31 = k*x5\n",
      "x32 = x28*x29\n",
      "x_a_code = x0*x30*(omega_max*x7*x8 + x12*(-x27 + x28*x29) + x14*x7)\n",
      "x_l_code = x0*((1/4)*T2*omega_max*x13*x6*(-x19*x26 + x32) + T2*x11*x31*x8 + x14*x24*x31 + (1/4)*x5*(x27 + x32))/(k*x5)\n",
      "v_l_code = x17*x30*(x21*x7 + x27 - x28*x29)\n"
     ]
    }
   ],
   "source": [
    "from sympy.codegen.ast import CodeBlock, Assignment\n",
    "\n",
    "x_a_code, x_l_code, v_l_code = symbols('x_a_code, x_l_code, v_l_code')\n",
    "\n",
    "solved = []\n",
    "for i in range(3):\n",
    "    subbed = (linsol[i].subs(dum_dict))\n",
    "    solved.append(simplify(subbed))\n",
    "\n",
    "solcode = CodeBlock(\n",
    "    Assignment(x_a_code, solved[0]),\n",
    "    Assignment(x_l_code, solved[1]),\n",
    "    Assignment(v_l_code, solved[2]),\n",
    ").cse()\n",
    "\n",
    "print(pycode(solcode))"
   ]
  }
 ],
 "metadata": {
  "kernelspec": {
   "display_name": "Python 3",
   "language": "python",
   "name": "python3"
  },
  "language_info": {
   "codemirror_mode": {
    "name": "ipython",
    "version": 3
   },
   "file_extension": ".py",
   "mimetype": "text/x-python",
   "name": "python",
   "nbconvert_exporter": "python",
   "pygments_lexer": "ipython3",
   "version": "3.11.4"
  },
  "orig_nbformat": 4
 },
 "nbformat": 4,
 "nbformat_minor": 2
}
