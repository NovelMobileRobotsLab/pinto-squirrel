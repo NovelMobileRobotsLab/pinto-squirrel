{
 "cells": [
  {
   "cell_type": "code",
   "execution_count": 60,
   "metadata": {},
   "outputs": [
    {
     "data": {
      "text/latex": [
       "$\\displaystyle \\left[\\begin{matrix}\\frac{T_{1}^{2} \\omega_{max}}{\\tau_{max}} & - \\frac{T_{1} \\omega_{max}}{T_{2} \\tau_{max}} & 0\\\\0 & 0 & 1\\\\- \\frac{T_{1}}{T_{2} m_{l}} & \\frac{1}{T_{2}^{2} m_{l}} & 0\\end{matrix}\\right]$"
      ],
      "text/plain": [
       "Matrix([\n",
       "[T1**2*omega_max/tau_max, -T1*omega_max/(T2*tau_max), 0],\n",
       "[                      0,                          0, 1],\n",
       "[           -T1/(T2*m_l),              1/(T2**2*m_l), 0]])"
      ]
     },
     "execution_count": 60,
     "metadata": {},
     "output_type": "execute_result"
    }
   ],
   "source": [
    "from sympy import *\n",
    "from sympy.solvers.ode.systems import linodesolve\n",
    "\n",
    "# tau_s = 0.1 #N*m\n",
    "# omega_f = 1000 #about 10,000rpm\n",
    "\n",
    "tau_max, omega_max = symbols(\"tau_max, omega_max\") #stall torque, free speed\n",
    "# free_speed = 1000 #about 10,000rpm\n",
    "\n",
    "\n",
    "T1, T2, k, m_a, m_l = symbols('T1, T2, k, m_a, m_l')\n",
    "c0, c1, c2, c3, c4, c5, c6 = symbols('c:7')\n",
    "\n",
    "t = symbols('t')\n",
    "\n",
    "c1 = omega_max*T1**2 / tau_max\n",
    "c2 = -omega_max*T1 / (tau_max*T2)\n",
    "c3 = -T1 / (T2*m_l)\n",
    "c4 = 1 / (T2**2 * m_l)\n",
    "\n",
    "\n",
    "A = Matrix([\n",
    "    [c1, c2, 0],\n",
    "    [0, 0, 1],\n",
    "    [c3, c4, 0],\n",
    "])\n",
    "\n",
    "A"
   ]
  },
  {
   "cell_type": "code",
   "execution_count": 71,
   "metadata": {},
   "outputs": [
    {
     "data": {
      "text/latex": [
       "$\\displaystyle \\frac{T_{1}^{2} T_{2}^{2} m_{l} \\omega_{max} \\left(- Dummy_{10272} e^{\\frac{t \\left(T_{1}^{2} T_{2} m_{l} \\omega_{max} - \\sqrt{m_{l} \\left(T_{1}^{4} T_{2}^{2} m_{l} \\omega_{max}^{2} + 4 \\tau_{max}^{2}\\right)}\\right)}{2 T_{2} m_{l} \\tau_{max}}} - Dummy_{10273} e^{\\frac{t \\left(T_{1}^{2} T_{2} m_{l} \\omega_{max} + \\sqrt{m_{l} \\left(T_{1}^{4} T_{2}^{2} m_{l} \\omega_{max}^{2} + 4 \\tau_{max}^{2}\\right)}\\right)}{2 T_{2} m_{l} \\tau_{max}}} - \\frac{T_{1} \\tau_{max} \\left(\\begin{cases} - \\frac{2 T_{2} m_{l} \\tau_{max} e^{\\frac{t \\left(- T_{1}^{2} T_{2} m_{l} \\omega_{max} + \\sqrt{m_{l} \\left(T_{1}^{4} T_{2}^{2} m_{l} \\omega_{max}^{2} + 4 \\tau_{max}^{2}\\right)}\\right)}{2 T_{2} m_{l} \\tau_{max}}}}{T_{1}^{2} T_{2} m_{l} \\omega_{max} - \\sqrt{T_{1}^{4} T_{2}^{2} m_{l}^{2} \\omega_{max}^{2} + 4 m_{l} \\tau_{max}^{2}}} & \\text{for}\\: T_{1}^{2} T_{2} m_{l} \\omega_{max} - \\sqrt{T_{1}^{4} T_{2}^{2} m_{l}^{2} \\omega_{max}^{2} + 4 m_{l} \\tau_{max}^{2}} \\neq 0 \\\\t & \\text{otherwise} \\end{cases}\\right) e^{\\frac{t \\left(T_{1}^{2} T_{2} m_{l} \\omega_{max} - \\sqrt{m_{l} \\left(T_{1}^{4} T_{2}^{2} m_{l} \\omega_{max}^{2} + 4 \\tau_{max}^{2}\\right)}\\right)}{2 T_{2} m_{l} \\tau_{max}}}}{\\sqrt{m_{l} \\left(T_{1}^{4} T_{2}^{2} m_{l} \\omega_{max}^{2} + 4 \\tau_{max}^{2}\\right)}} + \\frac{T_{1} \\tau_{max} \\left(\\begin{cases} - \\frac{2 T_{2} m_{l} \\tau_{max} e^{- \\frac{t \\left(T_{1}^{2} T_{2} m_{l} \\omega_{max} + \\sqrt{m_{l} \\left(T_{1}^{4} T_{2}^{2} m_{l} \\omega_{max}^{2} + 4 \\tau_{max}^{2}\\right)}\\right)}{2 T_{2} m_{l} \\tau_{max}}}}{T_{1}^{2} T_{2} m_{l} \\omega_{max} + \\sqrt{T_{1}^{4} T_{2}^{2} m_{l}^{2} \\omega_{max}^{2} + 4 m_{l} \\tau_{max}^{2}}} & \\text{for}\\: T_{1}^{2} T_{2} m_{l} \\omega_{max} + \\sqrt{T_{1}^{4} T_{2}^{2} m_{l}^{2} \\omega_{max}^{2} + 4 m_{l} \\tau_{max}^{2}} \\neq 0 \\\\t & \\text{otherwise} \\end{cases}\\right) e^{\\frac{t \\left(T_{1}^{2} T_{2} m_{l} \\omega_{max} + \\sqrt{m_{l} \\left(T_{1}^{4} T_{2}^{2} m_{l} \\omega_{max}^{2} + 4 \\tau_{max}^{2}\\right)}\\right)}{2 T_{2} m_{l} \\tau_{max}}}}{\\sqrt{m_{l} \\left(T_{1}^{4} T_{2}^{2} m_{l} \\omega_{max}^{2} + 4 \\tau_{max}^{2}\\right)}}\\right) + \\tau_{max} \\left(Dummy_{10271} + T_{1} T_{2} t\\right)}{T_{1} T_{2} \\tau_{max}}$"
      ],
      "text/plain": [
       "(T1**2*T2**2*m_l*omega_max*(-_Dummy_10272*exp(t*(T1**2*T2*m_l*omega_max - sqrt(m_l*(T1**4*T2**2*m_l*omega_max**2 + 4*tau_max**2)))/(2*T2*m_l*tau_max)) - _Dummy_10273*exp(t*(T1**2*T2*m_l*omega_max + sqrt(m_l*(T1**4*T2**2*m_l*omega_max**2 + 4*tau_max**2)))/(2*T2*m_l*tau_max)) - T1*tau_max*Piecewise((-2*T2*m_l*tau_max*exp(t*(-T1**2*T2*m_l*omega_max + sqrt(m_l*(T1**4*T2**2*m_l*omega_max**2 + 4*tau_max**2)))/(2*T2*m_l*tau_max))/(T1**2*T2*m_l*omega_max - sqrt(T1**4*T2**2*m_l**2*omega_max**2 + 4*m_l*tau_max**2)), Ne(T1**2*T2*m_l*omega_max - sqrt(T1**4*T2**2*m_l**2*omega_max**2 + 4*m_l*tau_max**2), 0)), (t, True))*exp(t*(T1**2*T2*m_l*omega_max - sqrt(m_l*(T1**4*T2**2*m_l*omega_max**2 + 4*tau_max**2)))/(2*T2*m_l*tau_max))/sqrt(m_l*(T1**4*T2**2*m_l*omega_max**2 + 4*tau_max**2)) + T1*tau_max*Piecewise((-2*T2*m_l*tau_max*exp(-t*(T1**2*T2*m_l*omega_max + sqrt(m_l*(T1**4*T2**2*m_l*omega_max**2 + 4*tau_max**2)))/(2*T2*m_l*tau_max))/(T1**2*T2*m_l*omega_max + sqrt(T1**4*T2**2*m_l**2*omega_max**2 + 4*m_l*tau_max**2)), Ne(T1**2*T2*m_l*omega_max + sqrt(T1**4*T2**2*m_l**2*omega_max**2 + 4*m_l*tau_max**2), 0)), (t, True))*exp(t*(T1**2*T2*m_l*omega_max + sqrt(m_l*(T1**4*T2**2*m_l*omega_max**2 + 4*tau_max**2)))/(2*T2*m_l*tau_max))/sqrt(m_l*(T1**4*T2**2*m_l*omega_max**2 + 4*tau_max**2))) + tau_max*(_Dummy_10271 + T1*T2*t))/(T1*T2*tau_max)"
      ]
     },
     "execution_count": 71,
     "metadata": {},
     "output_type": "execute_result"
    }
   ],
   "source": [
    "b = Matrix([1, 0, 0])\n",
    "linsol = linodesolve(A, t, b=b)\n",
    "simplify(linsol[0])"
   ]
  },
  {
   "cell_type": "code",
   "execution_count": 80,
   "metadata": {},
   "outputs": [
    {
     "name": "stdout",
     "output_type": "stream",
     "text": [
      "275\n"
     ]
    },
    {
     "data": {
      "text/latex": [
       "$\\displaystyle \\frac{T_{1}^{2} T_{2}^{2} m_{l} \\omega_{max} \\left(- Dummy_{10272} e^{\\frac{t \\left(T_{1}^{2} T_{2} m_{l} \\omega_{max} - \\sqrt{m_{l} \\left(T_{1}^{4} T_{2}^{2} m_{l} \\omega_{max}^{2} + 4 \\tau_{max}^{2}\\right)}\\right)}{2 T_{2} m_{l} \\tau_{max}}} - Dummy_{10273} e^{\\frac{t \\left(T_{1}^{2} T_{2} m_{l} \\omega_{max} + \\sqrt{m_{l} \\left(T_{1}^{4} T_{2}^{2} m_{l} \\omega_{max}^{2} + 4 \\tau_{max}^{2}\\right)}\\right)}{2 T_{2} m_{l} \\tau_{max}}} - \\frac{T_{1} \\tau_{max} \\left(\\begin{cases} - \\frac{2 T_{2} m_{l} \\tau_{max} e^{\\frac{t \\left(- T_{1}^{2} T_{2} m_{l} \\omega_{max} + \\sqrt{m_{l} \\left(T_{1}^{4} T_{2}^{2} m_{l} \\omega_{max}^{2} + 4 \\tau_{max}^{2}\\right)}\\right)}{2 T_{2} m_{l} \\tau_{max}}}}{T_{1}^{2} T_{2} m_{l} \\omega_{max} - \\sqrt{T_{1}^{4} T_{2}^{2} m_{l}^{2} \\omega_{max}^{2} + 4 m_{l} \\tau_{max}^{2}}} & \\text{for}\\: T_{1}^{2} T_{2} m_{l} \\omega_{max} - \\sqrt{T_{1}^{4} T_{2}^{2} m_{l}^{2} \\omega_{max}^{2} + 4 m_{l} \\tau_{max}^{2}} \\neq 0 \\\\t & \\text{otherwise} \\end{cases}\\right) e^{\\frac{t \\left(T_{1}^{2} T_{2} m_{l} \\omega_{max} - \\sqrt{m_{l} \\left(T_{1}^{4} T_{2}^{2} m_{l} \\omega_{max}^{2} + 4 \\tau_{max}^{2}\\right)}\\right)}{2 T_{2} m_{l} \\tau_{max}}}}{\\sqrt{m_{l} \\left(T_{1}^{4} T_{2}^{2} m_{l} \\omega_{max}^{2} + 4 \\tau_{max}^{2}\\right)}} + \\frac{T_{1} \\tau_{max} \\left(\\begin{cases} - \\frac{2 T_{2} m_{l} \\tau_{max} e^{- \\frac{t \\left(T_{1}^{2} T_{2} m_{l} \\omega_{max} + \\sqrt{m_{l} \\left(T_{1}^{4} T_{2}^{2} m_{l} \\omega_{max}^{2} + 4 \\tau_{max}^{2}\\right)}\\right)}{2 T_{2} m_{l} \\tau_{max}}}}{T_{1}^{2} T_{2} m_{l} \\omega_{max} + \\sqrt{T_{1}^{4} T_{2}^{2} m_{l}^{2} \\omega_{max}^{2} + 4 m_{l} \\tau_{max}^{2}}} & \\text{for}\\: T_{1}^{2} T_{2} m_{l} \\omega_{max} + \\sqrt{T_{1}^{4} T_{2}^{2} m_{l}^{2} \\omega_{max}^{2} + 4 m_{l} \\tau_{max}^{2}} \\neq 0 \\\\t & \\text{otherwise} \\end{cases}\\right) e^{\\frac{t \\left(T_{1}^{2} T_{2} m_{l} \\omega_{max} + \\sqrt{m_{l} \\left(T_{1}^{4} T_{2}^{2} m_{l} \\omega_{max}^{2} + 4 \\tau_{max}^{2}\\right)}\\right)}{2 T_{2} m_{l} \\tau_{max}}}}{\\sqrt{m_{l} \\left(T_{1}^{4} T_{2}^{2} m_{l} \\omega_{max}^{2} + 4 \\tau_{max}^{2}\\right)}}\\right) + \\tau_{max} \\left(Dummy_{10271} + T_{1} T_{2} t\\right)}{T_{1} T_{2} \\tau_{max}}$"
      ],
      "text/plain": [
       "(T1**2*T2**2*m_l*omega_max*(-_Dummy_10272*exp(t*(T1**2*T2*m_l*omega_max - sqrt(m_l*(T1**4*T2**2*m_l*omega_max**2 + 4*tau_max**2)))/(2*T2*m_l*tau_max)) - _Dummy_10273*exp(t*(T1**2*T2*m_l*omega_max + sqrt(m_l*(T1**4*T2**2*m_l*omega_max**2 + 4*tau_max**2)))/(2*T2*m_l*tau_max)) - T1*tau_max*Piecewise((-2*T2*m_l*tau_max*exp(t*(-T1**2*T2*m_l*omega_max + sqrt(m_l*(T1**4*T2**2*m_l*omega_max**2 + 4*tau_max**2)))/(2*T2*m_l*tau_max))/(T1**2*T2*m_l*omega_max - sqrt(T1**4*T2**2*m_l**2*omega_max**2 + 4*m_l*tau_max**2)), Ne(T1**2*T2*m_l*omega_max - sqrt(T1**4*T2**2*m_l**2*omega_max**2 + 4*m_l*tau_max**2), 0)), (t, True))*exp(t*(T1**2*T2*m_l*omega_max - sqrt(m_l*(T1**4*T2**2*m_l*omega_max**2 + 4*tau_max**2)))/(2*T2*m_l*tau_max))/sqrt(m_l*(T1**4*T2**2*m_l*omega_max**2 + 4*tau_max**2)) + T1*tau_max*Piecewise((-2*T2*m_l*tau_max*exp(-t*(T1**2*T2*m_l*omega_max + sqrt(m_l*(T1**4*T2**2*m_l*omega_max**2 + 4*tau_max**2)))/(2*T2*m_l*tau_max))/(T1**2*T2*m_l*omega_max + sqrt(T1**4*T2**2*m_l**2*omega_max**2 + 4*m_l*tau_max**2)), Ne(T1**2*T2*m_l*omega_max + sqrt(T1**4*T2**2*m_l**2*omega_max**2 + 4*m_l*tau_max**2), 0)), (t, True))*exp(t*(T1**2*T2*m_l*omega_max + sqrt(m_l*(T1**4*T2**2*m_l*omega_max**2 + 4*tau_max**2)))/(2*T2*m_l*tau_max))/sqrt(m_l*(T1**4*T2**2*m_l*omega_max**2 + 4*tau_max**2))) + tau_max*(_Dummy_10271 + T1*T2*t))/(T1*T2*tau_max)"
      ]
     },
     "metadata": {},
     "output_type": "display_data"
    },
    {
     "name": "stdout",
     "output_type": "stream",
     "text": [
      "333\n"
     ]
    },
    {
     "data": {
      "text/latex": [
       "$\\displaystyle \\frac{2 T_{2} m_{l} \\tau_{max} \\left(Dummy_{10272} + \\frac{T_{1} \\tau_{max} \\left(\\begin{cases} - \\frac{2 T_{2} m_{l} \\tau_{max} e^{\\frac{t \\left(- T_{1}^{2} T_{2} m_{l} \\omega_{max} + \\sqrt{m_{l} \\left(T_{1}^{4} T_{2}^{2} m_{l} \\omega_{max}^{2} + 4 \\tau_{max}^{2}\\right)}\\right)}{2 T_{2} m_{l} \\tau_{max}}}}{T_{1}^{2} T_{2} m_{l} \\omega_{max} - \\sqrt{T_{1}^{4} T_{2}^{2} m_{l}^{2} \\omega_{max}^{2} + 4 m_{l} \\tau_{max}^{2}}} & \\text{for}\\: T_{1}^{2} T_{2} m_{l} \\omega_{max} - \\sqrt{T_{1}^{4} T_{2}^{2} m_{l}^{2} \\omega_{max}^{2} + 4 m_{l} \\tau_{max}^{2}} \\neq 0 \\\\t & \\text{otherwise} \\end{cases}\\right)}{\\sqrt{m_{l} \\left(T_{1}^{4} T_{2}^{2} m_{l} \\omega_{max}^{2} + 4 \\tau_{max}^{2}\\right)}}\\right) \\left(T_{1}^{2} T_{2} m_{l} \\omega_{max} + \\sqrt{m_{l} \\left(T_{1}^{4} T_{2}^{2} m_{l} \\omega_{max}^{2} + 4 \\tau_{max}^{2}\\right)}\\right) e^{\\frac{t \\left(T_{1}^{2} T_{2} m_{l} \\omega_{max} - \\sqrt{m_{l} \\left(T_{1}^{4} T_{2}^{2} m_{l} \\omega_{max}^{2} + 4 \\tau_{max}^{2}\\right)}\\right)}{2 T_{2} m_{l} \\tau_{max}}} + 2 T_{2} m_{l} \\tau_{max} \\left(Dummy_{10273} - \\frac{T_{1} \\tau_{max} \\left(\\begin{cases} - \\frac{2 T_{2} m_{l} \\tau_{max} e^{- \\frac{t \\left(T_{1}^{2} T_{2} m_{l} \\omega_{max} + \\sqrt{m_{l} \\left(T_{1}^{4} T_{2}^{2} m_{l} \\omega_{max}^{2} + 4 \\tau_{max}^{2}\\right)}\\right)}{2 T_{2} m_{l} \\tau_{max}}}}{T_{1}^{2} T_{2} m_{l} \\omega_{max} + \\sqrt{T_{1}^{4} T_{2}^{2} m_{l}^{2} \\omega_{max}^{2} + 4 m_{l} \\tau_{max}^{2}}} & \\text{for}\\: T_{1}^{2} T_{2} m_{l} \\omega_{max} + \\sqrt{T_{1}^{4} T_{2}^{2} m_{l}^{2} \\omega_{max}^{2} + 4 m_{l} \\tau_{max}^{2}} \\neq 0 \\\\t & \\text{otherwise} \\end{cases}\\right)}{\\sqrt{m_{l} \\left(T_{1}^{4} T_{2}^{2} m_{l} \\omega_{max}^{2} + 4 \\tau_{max}^{2}\\right)}}\\right) \\left(T_{1}^{2} T_{2} m_{l} \\omega_{max} - \\sqrt{m_{l} \\left(T_{1}^{4} T_{2}^{2} m_{l} \\omega_{max}^{2} + 4 \\tau_{max}^{2}\\right)}\\right) e^{\\frac{t \\left(T_{1}^{2} T_{2} m_{l} \\omega_{max} + \\sqrt{m_{l} \\left(T_{1}^{4} T_{2}^{2} m_{l} \\omega_{max}^{2} + 4 \\tau_{max}^{2}\\right)}\\right)}{2 T_{2} m_{l} \\tau_{max}}} + \\left(Dummy_{10271} + T_{1} T_{2} t\\right) \\left(T_{1}^{2} T_{2} m_{l} \\omega_{max} - \\sqrt{m_{l} \\left(T_{1}^{4} T_{2}^{2} m_{l} \\omega_{max}^{2} + 4 \\tau_{max}^{2}\\right)}\\right) \\left(T_{1}^{2} T_{2} m_{l} \\omega_{max} + \\sqrt{m_{l} \\left(T_{1}^{4} T_{2}^{2} m_{l} \\omega_{max}^{2} + 4 \\tau_{max}^{2}\\right)}\\right)}{\\left(T_{1}^{2} T_{2} m_{l} \\omega_{max} - \\sqrt{m_{l} \\left(T_{1}^{4} T_{2}^{2} m_{l} \\omega_{max}^{2} + 4 \\tau_{max}^{2}\\right)}\\right) \\left(T_{1}^{2} T_{2} m_{l} \\omega_{max} + \\sqrt{m_{l} \\left(T_{1}^{4} T_{2}^{2} m_{l} \\omega_{max}^{2} + 4 \\tau_{max}^{2}\\right)}\\right)}$"
      ],
      "text/plain": [
       "(2*T2*m_l*tau_max*(_Dummy_10272 + T1*tau_max*Piecewise((-2*T2*m_l*tau_max*exp(t*(-T1**2*T2*m_l*omega_max + sqrt(m_l*(T1**4*T2**2*m_l*omega_max**2 + 4*tau_max**2)))/(2*T2*m_l*tau_max))/(T1**2*T2*m_l*omega_max - sqrt(T1**4*T2**2*m_l**2*omega_max**2 + 4*m_l*tau_max**2)), Ne(T1**2*T2*m_l*omega_max - sqrt(T1**4*T2**2*m_l**2*omega_max**2 + 4*m_l*tau_max**2), 0)), (t, True))/sqrt(m_l*(T1**4*T2**2*m_l*omega_max**2 + 4*tau_max**2)))*(T1**2*T2*m_l*omega_max + sqrt(m_l*(T1**4*T2**2*m_l*omega_max**2 + 4*tau_max**2)))*exp(t*(T1**2*T2*m_l*omega_max - sqrt(m_l*(T1**4*T2**2*m_l*omega_max**2 + 4*tau_max**2)))/(2*T2*m_l*tau_max)) + 2*T2*m_l*tau_max*(_Dummy_10273 - T1*tau_max*Piecewise((-2*T2*m_l*tau_max*exp(-t*(T1**2*T2*m_l*omega_max + sqrt(m_l*(T1**4*T2**2*m_l*omega_max**2 + 4*tau_max**2)))/(2*T2*m_l*tau_max))/(T1**2*T2*m_l*omega_max + sqrt(T1**4*T2**2*m_l**2*omega_max**2 + 4*m_l*tau_max**2)), Ne(T1**2*T2*m_l*omega_max + sqrt(T1**4*T2**2*m_l**2*omega_max**2 + 4*m_l*tau_max**2), 0)), (t, True))/sqrt(m_l*(T1**4*T2**2*m_l*omega_max**2 + 4*tau_max**2)))*(T1**2*T2*m_l*omega_max - sqrt(m_l*(T1**4*T2**2*m_l*omega_max**2 + 4*tau_max**2)))*exp(t*(T1**2*T2*m_l*omega_max + sqrt(m_l*(T1**4*T2**2*m_l*omega_max**2 + 4*tau_max**2)))/(2*T2*m_l*tau_max)) + (_Dummy_10271 + T1*T2*t)*(T1**2*T2*m_l*omega_max - sqrt(m_l*(T1**4*T2**2*m_l*omega_max**2 + 4*tau_max**2)))*(T1**2*T2*m_l*omega_max + sqrt(m_l*(T1**4*T2**2*m_l*omega_max**2 + 4*tau_max**2))))/((T1**2*T2*m_l*omega_max - sqrt(m_l*(T1**4*T2**2*m_l*omega_max**2 + 4*tau_max**2)))*(T1**2*T2*m_l*omega_max + sqrt(m_l*(T1**4*T2**2*m_l*omega_max**2 + 4*tau_max**2))))"
      ]
     },
     "metadata": {},
     "output_type": "display_data"
    },
    {
     "name": "stdout",
     "output_type": "stream",
     "text": [
      "239\n"
     ]
    },
    {
     "data": {
      "text/latex": [
       "$\\displaystyle \\frac{\\left(Dummy_{10272} \\sqrt{m_{l} \\left(T_{1}^{4} T_{2}^{2} m_{l} \\omega_{max}^{2} + 4 \\tau_{max}^{2}\\right)} + Dummy_{10273} \\sqrt{m_{l} \\left(T_{1}^{4} T_{2}^{2} m_{l} \\omega_{max}^{2} + 4 \\tau_{max}^{2}\\right)} e^{\\frac{t \\sqrt{m_{l} \\left(T_{1}^{4} T_{2}^{2} m_{l} \\omega_{max}^{2} + 4 \\tau_{max}^{2}\\right)}}{T_{2} m_{l} \\tau_{max}}} + T_{1} \\tau_{max} \\left(\\begin{cases} - \\frac{2 T_{2} m_{l} \\tau_{max} e^{- \\frac{T_{1}^{2} \\omega_{max} t}{2 \\tau_{max}} + \\frac{t \\sqrt{m_{l} \\left(T_{1}^{4} T_{2}^{2} m_{l} \\omega_{max}^{2} + 4 \\tau_{max}^{2}\\right)}}{2 T_{2} m_{l} \\tau_{max}}}}{T_{1}^{2} T_{2} m_{l} \\omega_{max} - \\sqrt{T_{1}^{4} T_{2}^{2} m_{l}^{2} \\omega_{max}^{2} + 4 m_{l} \\tau_{max}^{2}}} & \\text{for}\\: T_{1}^{2} T_{2} m_{l} \\omega_{max} - \\sqrt{T_{1}^{4} T_{2}^{2} m_{l}^{2} \\omega_{max}^{2} + 4 m_{l} \\tau_{max}^{2}} \\neq 0 \\\\t & \\text{otherwise} \\end{cases}\\right) - T_{1} \\tau_{max} \\left(\\begin{cases} - \\frac{2 T_{2} m_{l} \\tau_{max} e^{- \\frac{T_{1}^{2} \\omega_{max} t}{2 \\tau_{max}} - \\frac{t \\sqrt{m_{l} \\left(T_{1}^{4} T_{2}^{2} m_{l} \\omega_{max}^{2} + 4 \\tau_{max}^{2}\\right)}}{2 T_{2} m_{l} \\tau_{max}}}}{T_{1}^{2} T_{2} m_{l} \\omega_{max} + \\sqrt{T_{1}^{4} T_{2}^{2} m_{l}^{2} \\omega_{max}^{2} + 4 m_{l} \\tau_{max}^{2}}} & \\text{for}\\: T_{1}^{2} T_{2} m_{l} \\omega_{max} + \\sqrt{T_{1}^{4} T_{2}^{2} m_{l}^{2} \\omega_{max}^{2} + 4 m_{l} \\tau_{max}^{2}} \\neq 0 \\\\t & \\text{otherwise} \\end{cases}\\right) e^{\\frac{t \\sqrt{m_{l} \\left(T_{1}^{4} T_{2}^{2} m_{l} \\omega_{max}^{2} + 4 \\tau_{max}^{2}\\right)}}{T_{2} m_{l} \\tau_{max}}}\\right) e^{\\frac{t \\left(T_{1}^{2} \\omega_{max} - \\frac{\\sqrt{m_{l} \\left(T_{1}^{4} T_{2}^{2} m_{l} \\omega_{max}^{2} + 4 \\tau_{max}^{2}\\right)}}{T_{2} m_{l}}\\right)}{2 \\tau_{max}}}}{\\sqrt{m_{l} \\left(T_{1}^{4} T_{2}^{2} m_{l} \\omega_{max}^{2} + 4 \\tau_{max}^{2}\\right)}}$"
      ],
      "text/plain": [
       "(_Dummy_10272*sqrt(m_l*(T1**4*T2**2*m_l*omega_max**2 + 4*tau_max**2)) + _Dummy_10273*sqrt(m_l*(T1**4*T2**2*m_l*omega_max**2 + 4*tau_max**2))*exp(t*sqrt(m_l*(T1**4*T2**2*m_l*omega_max**2 + 4*tau_max**2))/(T2*m_l*tau_max)) + T1*tau_max*Piecewise((-2*T2*m_l*tau_max*exp(-T1**2*omega_max*t/(2*tau_max) + t*sqrt(m_l*(T1**4*T2**2*m_l*omega_max**2 + 4*tau_max**2))/(2*T2*m_l*tau_max))/(T1**2*T2*m_l*omega_max - sqrt(T1**4*T2**2*m_l**2*omega_max**2 + 4*m_l*tau_max**2)), Ne(T1**2*T2*m_l*omega_max - sqrt(T1**4*T2**2*m_l**2*omega_max**2 + 4*m_l*tau_max**2), 0)), (t, True)) - T1*tau_max*Piecewise((-2*T2*m_l*tau_max*exp(-T1**2*omega_max*t/(2*tau_max) - t*sqrt(m_l*(T1**4*T2**2*m_l*omega_max**2 + 4*tau_max**2))/(2*T2*m_l*tau_max))/(T1**2*T2*m_l*omega_max + sqrt(T1**4*T2**2*m_l**2*omega_max**2 + 4*m_l*tau_max**2)), Ne(T1**2*T2*m_l*omega_max + sqrt(T1**4*T2**2*m_l**2*omega_max**2 + 4*m_l*tau_max**2), 0)), (t, True))*exp(t*sqrt(m_l*(T1**4*T2**2*m_l*omega_max**2 + 4*tau_max**2))/(T2*m_l*tau_max)))*exp(t*(T1**2*omega_max - sqrt(m_l*(T1**4*T2**2*m_l*omega_max**2 + 4*tau_max**2))/(T2*m_l))/(2*tau_max))/sqrt(m_l*(T1**4*T2**2*m_l*omega_max**2 + 4*tau_max**2))"
      ]
     },
     "metadata": {},
     "output_type": "display_data"
    }
   ],
   "source": [
    "for row in linsol:\n",
    "    simprow = simplify(row)\n",
    "    print(count_ops(simprow))\n",
    "    display(simprow)"
   ]
  },
  {
   "cell_type": "code",
   "execution_count": 54,
   "metadata": {},
   "outputs": [
    {
     "name": "stdout",
     "output_type": "stream",
     "text": [
      "1423\n"
     ]
    },
    {
     "data": {
      "text/latex": [
       "$\\displaystyle \\left[\\begin{matrix}\\frac{- T_{1}^{2} T_{2} m_{l} \\omega_{max} e^{\\frac{t \\left(T_{1}^{2} T_{2} m_{l} \\omega_{max} - \\sqrt{m_{l} \\left(T_{1}^{4} T_{2}^{2} m_{l} \\omega_{max}^{2} + 4 \\tau_{max}^{2}\\right)}\\right)}{2 T_{2} m_{l} \\tau_{max}}} + T_{1}^{2} T_{2} m_{l} \\omega_{max} e^{\\frac{t \\left(T_{1}^{2} T_{2} m_{l} \\omega_{max} + \\sqrt{m_{l} \\left(T_{1}^{4} T_{2}^{2} m_{l} \\omega_{max}^{2} + 4 \\tau_{max}^{2}\\right)}\\right)}{2 T_{2} m_{l} \\tau_{max}}} + \\sqrt{m_{l} \\left(T_{1}^{4} T_{2}^{2} m_{l} \\omega_{max}^{2} + 4 \\tau_{max}^{2}\\right)}}{\\sqrt{m_{l} \\left(T_{1}^{4} T_{2}^{2} m_{l} \\omega_{max}^{2} + 4 \\tau_{max}^{2}\\right)}} & \\frac{T_{1} m_{l} \\omega_{max} \\left(1 - e^{\\frac{t \\sqrt{m_{l} \\left(T_{1}^{4} T_{2}^{2} m_{l} \\omega_{max}^{2} + 4 \\tau_{max}^{2}\\right)}}{T_{2} m_{l} \\tau_{max}}}\\right) e^{\\frac{t \\left(T_{1}^{2} \\omega_{max} - \\frac{\\sqrt{m_{l} \\left(T_{1}^{4} T_{2}^{2} m_{l} \\omega_{max}^{2} + 4 \\tau_{max}^{2}\\right)}}{T_{2} m_{l}}\\right)}{2 \\tau_{max}}}}{\\sqrt{m_{l} \\left(T_{1}^{4} T_{2}^{2} m_{l} \\omega_{max}^{2} + 4 \\tau_{max}^{2}\\right)}} & - \\frac{T_{1} T_{2} m_{l} \\omega_{max} \\left(T_{1}^{2} T_{2} m_{l} \\omega_{max} \\tau_{max}^{2} - \\tau_{max}^{2} \\sqrt{T_{1}^{4} T_{2}^{2} m_{l}^{2} \\omega_{max}^{2} + 4 m_{l} \\tau_{max}^{2}}\\right) e^{t \\left(\\frac{T_{1}^{2} \\omega_{max}}{2 \\tau_{max}} - \\frac{\\sqrt{m_{l} \\left(T_{1}^{4} T_{2}^{2} m_{l} \\omega_{max}^{2} + 4 \\tau_{max}^{2}\\right)}}{2 T_{2} m_{l} \\tau_{max}}\\right)}}{\\tau_{max} \\left(T_{1}^{6} T_{2}^{3} m_{l}^{2} \\omega_{max}^{3} - T_{1}^{4} T_{2}^{2} m_{l} \\omega_{max}^{2} \\sqrt{T_{1}^{4} T_{2}^{2} m_{l}^{2} \\omega_{max}^{2} + 4 m_{l} \\tau_{max}^{2}} + 4 T_{1}^{2} T_{2} m_{l} \\omega_{max} \\tau_{max}^{2} - 2 \\tau_{max}^{2} \\sqrt{T_{1}^{4} T_{2}^{2} m_{l}^{2} \\omega_{max}^{2} + 4 m_{l} \\tau_{max}^{2}}\\right)} - \\frac{T_{1} T_{2} m_{l} \\omega_{max} \\left(T_{1}^{4} T_{2}^{2} m_{l} \\omega_{max}^{2} - T_{1}^{2} T_{2} \\omega_{max} \\sqrt{T_{1}^{4} T_{2}^{2} m_{l}^{2} \\omega_{max}^{2} + 4 m_{l} \\tau_{max}^{2}} + 2 \\tau_{max}^{2}\\right) e^{t \\left(\\frac{T_{1}^{2} \\omega_{max}}{2 \\tau_{max}} + \\frac{\\sqrt{m_{l} \\left(T_{1}^{4} T_{2}^{2} m_{l} \\omega_{max}^{2} + 4 \\tau_{max}^{2}\\right)}}{2 T_{2} m_{l} \\tau_{max}}\\right)}}{\\tau_{max} \\left(T_{1}^{4} T_{2}^{2} m_{l} \\omega_{max}^{2} - T_{1}^{2} T_{2} \\omega_{max} \\sqrt{T_{1}^{4} T_{2}^{2} m_{l}^{2} \\omega_{max}^{2} + 4 m_{l} \\tau_{max}^{2}} + 4 \\tau_{max}^{2}\\right)} + \\frac{T_{1} T_{2} m_{l} \\omega_{max}}{\\tau_{max}}\\\\\\frac{T_{1} T_{2} \\left(- 2 \\tau_{max}^{2} \\sqrt{m_{l} \\left(T_{1}^{4} T_{2}^{2} m_{l} \\omega_{max}^{2} + 4 \\tau_{max}^{2}\\right)} \\left(T_{1}^{2} T_{2} m_{l} \\omega_{max} - \\sqrt{m_{l} \\left(T_{1}^{4} T_{2}^{2} m_{l} \\omega_{max}^{2} + 4 \\tau_{max}^{2}\\right)}\\right) e^{\\frac{t \\left(T_{1}^{2} T_{2} m_{l} \\omega_{max} + \\sqrt{m_{l} \\left(T_{1}^{4} T_{2}^{2} m_{l} \\omega_{max}^{2} + 4 \\tau_{max}^{2}\\right)}\\right)}{2 T_{2} m_{l} \\tau_{max}}} + 2 \\tau_{max}^{2} \\sqrt{m_{l} \\left(T_{1}^{4} T_{2}^{2} m_{l} \\omega_{max}^{2} + 4 \\tau_{max}^{2}\\right)} \\left(T_{1}^{2} T_{2} m_{l} \\omega_{max} + \\sqrt{m_{l} \\left(T_{1}^{4} T_{2}^{2} m_{l} \\omega_{max}^{2} + 4 \\tau_{max}^{2}\\right)}\\right) e^{\\frac{t \\left(T_{1}^{2} T_{2} m_{l} \\omega_{max} - \\sqrt{m_{l} \\left(T_{1}^{4} T_{2}^{2} m_{l} \\omega_{max}^{2} + 4 \\tau_{max}^{2}\\right)}\\right)}{2 T_{2} m_{l} \\tau_{max}}} + \\left(T_{1}^{2} T_{2} m_{l} \\omega_{max} - \\sqrt{m_{l} \\left(T_{1}^{4} T_{2}^{2} m_{l} \\omega_{max}^{2} + 4 \\tau_{max}^{2}\\right)}\\right) \\left(T_{1}^{2} T_{2} m_{l} \\omega_{max} + \\sqrt{m_{l} \\left(T_{1}^{4} T_{2}^{2} m_{l} \\omega_{max}^{2} + 4 \\tau_{max}^{2}\\right)}\\right) \\left(T_{1}^{4} T_{2}^{2} m_{l} \\omega_{max}^{2} + 4 \\tau_{max}^{2}\\right)\\right)}{\\left(T_{1}^{2} T_{2} m_{l} \\omega_{max} - \\sqrt{m_{l} \\left(T_{1}^{4} T_{2}^{2} m_{l} \\omega_{max}^{2} + 4 \\tau_{max}^{2}\\right)}\\right) \\left(T_{1}^{2} T_{2} m_{l} \\omega_{max} + \\sqrt{m_{l} \\left(T_{1}^{4} T_{2}^{2} m_{l} \\omega_{max}^{2} + 4 \\tau_{max}^{2}\\right)}\\right) \\left(T_{1}^{4} T_{2}^{2} m_{l} \\omega_{max}^{2} + 4 \\tau_{max}^{2}\\right)} & \\frac{\\left(T_{1}^{4} T_{2}^{2} m_{l} \\omega_{max}^{2} e^{\\frac{t \\sqrt{m_{l} \\left(T_{1}^{4} T_{2}^{2} m_{l} \\omega_{max}^{2} + 4 \\tau_{max}^{2}\\right)}}{T_{2} m_{l} \\tau_{max}}} + T_{1}^{4} T_{2}^{2} m_{l} \\omega_{max}^{2} - T_{1}^{2} T_{2} \\omega_{max} \\sqrt{m_{l} \\left(T_{1}^{4} T_{2}^{2} m_{l} \\omega_{max}^{2} + 4 \\tau_{max}^{2}\\right)} e^{\\frac{t \\sqrt{m_{l} \\left(T_{1}^{4} T_{2}^{2} m_{l} \\omega_{max}^{2} + 4 \\tau_{max}^{2}\\right)}}{T_{2} m_{l} \\tau_{max}}} + T_{1}^{2} T_{2} \\omega_{max} \\sqrt{m_{l} \\left(T_{1}^{4} T_{2}^{2} m_{l} \\omega_{max}^{2} + 4 \\tau_{max}^{2}\\right)} + 4 \\tau_{max}^{2} e^{\\frac{t \\sqrt{m_{l} \\left(T_{1}^{4} T_{2}^{2} m_{l} \\omega_{max}^{2} + 4 \\tau_{max}^{2}\\right)}}{T_{2} m_{l} \\tau_{max}}} + 4 \\tau_{max}^{2}\\right) e^{\\frac{t \\left(T_{1}^{2} \\omega_{max} - \\frac{\\sqrt{m_{l} \\left(T_{1}^{4} T_{2}^{2} m_{l} \\omega_{max}^{2} + 4 \\tau_{max}^{2}\\right)}}{T_{2} m_{l}}\\right)}{2 \\tau_{max}}}}{2 \\left(T_{1}^{4} T_{2}^{2} m_{l} \\omega_{max}^{2} + 4 \\tau_{max}^{2}\\right)} & \\frac{T_{2} m_{l} \\left(T_{1}^{2} T_{2} \\omega_{max} \\left(T_{1}^{2} T_{2} m_{l} \\omega_{max} + \\sqrt{m_{l} \\left(T_{1}^{4} T_{2}^{2} m_{l} \\omega_{max}^{2} + 4 \\tau_{max}^{2}\\right)}\\right) \\left(T_{1}^{4} T_{2}^{2} m_{l} \\omega_{max}^{2} - T_{1}^{2} T_{2} \\omega_{max} \\sqrt{m_{l} \\left(T_{1}^{4} T_{2}^{2} m_{l} \\omega_{max}^{2} + 4 \\tau_{max}^{2}\\right)} + 4 \\tau_{max}^{2}\\right) \\left(T_{1}^{6} T_{2}^{3} m_{l}^{2} \\omega_{max}^{3} - T_{1}^{4} T_{2}^{2} m_{l} \\omega_{max}^{2} \\sqrt{m_{l} \\left(T_{1}^{4} T_{2}^{2} m_{l} \\omega_{max}^{2} + 4 \\tau_{max}^{2}\\right)} + 4 T_{1}^{2} T_{2} m_{l} \\omega_{max} \\tau_{max}^{2} - 2 \\tau_{max}^{2} \\sqrt{m_{l} \\left(T_{1}^{4} T_{2}^{2} m_{l} \\omega_{max}^{2} + 4 \\tau_{max}^{2}\\right)}\\right) + 2 \\tau_{max}^{4} \\left(T_{1}^{2} T_{2} m_{l} \\omega_{max} + \\sqrt{m_{l} \\left(T_{1}^{4} T_{2}^{2} m_{l} \\omega_{max}^{2} + 4 \\tau_{max}^{2}\\right)}\\right) \\left(T_{1}^{4} T_{2}^{2} m_{l} \\omega_{max}^{2} - T_{1}^{2} T_{2} \\omega_{max} \\sqrt{m_{l} \\left(T_{1}^{4} T_{2}^{2} m_{l} \\omega_{max}^{2} + 4 \\tau_{max}^{2}\\right)} + 4 \\tau_{max}^{2}\\right) e^{\\frac{t \\left(T_{1}^{2} T_{2} m_{l} \\omega_{max} - \\sqrt{m_{l} \\left(T_{1}^{4} T_{2}^{2} m_{l} \\omega_{max}^{2} + 4 \\tau_{max}^{2}\\right)}\\right)}{2 T_{2} m_{l} \\tau_{max}}} + 2 \\tau_{max}^{2} \\left(T_{1}^{4} T_{2}^{2} m_{l} \\omega_{max}^{2} - T_{1}^{2} T_{2} \\omega_{max} \\sqrt{m_{l} \\left(T_{1}^{4} T_{2}^{2} m_{l} \\omega_{max}^{2} + 4 \\tau_{max}^{2}\\right)} + 2 \\tau_{max}^{2}\\right) \\left(T_{1}^{6} T_{2}^{3} m_{l}^{2} \\omega_{max}^{3} - T_{1}^{4} T_{2}^{2} m_{l} \\omega_{max}^{2} \\sqrt{m_{l} \\left(T_{1}^{4} T_{2}^{2} m_{l} \\omega_{max}^{2} + 4 \\tau_{max}^{2}\\right)} + 4 T_{1}^{2} T_{2} m_{l} \\omega_{max} \\tau_{max}^{2} - 2 \\tau_{max}^{2} \\sqrt{m_{l} \\left(T_{1}^{4} T_{2}^{2} m_{l} \\omega_{max}^{2} + 4 \\tau_{max}^{2}\\right)}\\right) e^{\\frac{t \\left(T_{1}^{2} T_{2} m_{l} \\omega_{max} + \\sqrt{m_{l} \\left(T_{1}^{4} T_{2}^{2} m_{l} \\omega_{max}^{2} + 4 \\tau_{max}^{2}\\right)}\\right)}{2 T_{2} m_{l} \\tau_{max}}}\\right)}{\\tau_{max} \\left(T_{1}^{2} T_{2} m_{l} \\omega_{max} + \\sqrt{m_{l} \\left(T_{1}^{4} T_{2}^{2} m_{l} \\omega_{max}^{2} + 4 \\tau_{max}^{2}\\right)}\\right) \\left(T_{1}^{4} T_{2}^{2} m_{l} \\omega_{max}^{2} - T_{1}^{2} T_{2} \\omega_{max} \\sqrt{m_{l} \\left(T_{1}^{4} T_{2}^{2} m_{l} \\omega_{max}^{2} + 4 \\tau_{max}^{2}\\right)} + 4 \\tau_{max}^{2}\\right) \\left(T_{1}^{6} T_{2}^{3} m_{l}^{2} \\omega_{max}^{3} - T_{1}^{4} T_{2}^{2} m_{l} \\omega_{max}^{2} \\sqrt{m_{l} \\left(T_{1}^{4} T_{2}^{2} m_{l} \\omega_{max}^{2} + 4 \\tau_{max}^{2}\\right)} + 4 T_{1}^{2} T_{2} m_{l} \\omega_{max} \\tau_{max}^{2} - 2 \\tau_{max}^{2} \\sqrt{m_{l} \\left(T_{1}^{4} T_{2}^{2} m_{l} \\omega_{max}^{2} + 4 \\tau_{max}^{2}\\right)}\\right)}\\\\\\frac{T_{1} \\tau_{max} \\left(1 - e^{\\frac{t \\sqrt{m_{l} \\left(T_{1}^{4} T_{2}^{2} m_{l} \\omega_{max}^{2} + 4 \\tau_{max}^{2}\\right)}}{T_{2} m_{l} \\tau_{max}}}\\right) e^{\\frac{t \\left(T_{1}^{2} \\omega_{max} - \\frac{\\sqrt{m_{l} \\left(T_{1}^{4} T_{2}^{2} m_{l} \\omega_{max}^{2} + 4 \\tau_{max}^{2}\\right)}}{T_{2} m_{l}}\\right)}{2 \\tau_{max}}}}{\\sqrt{m_{l} \\left(T_{1}^{4} T_{2}^{2} m_{l} \\omega_{max}^{2} + 4 \\tau_{max}^{2}\\right)}} & \\frac{\\tau_{max} \\left(e^{\\frac{t \\sqrt{m_{l} \\left(T_{1}^{4} T_{2}^{2} m_{l} \\omega_{max}^{2} + 4 \\tau_{max}^{2}\\right)}}{T_{2} m_{l} \\tau_{max}}} - 1\\right) e^{\\frac{t \\left(T_{1}^{2} \\omega_{max} - \\frac{\\sqrt{m_{l} \\left(T_{1}^{4} T_{2}^{2} m_{l} \\omega_{max}^{2} + 4 \\tau_{max}^{2}\\right)}}{T_{2} m_{l}}\\right)}{2 \\tau_{max}}}}{T_{2} \\sqrt{m_{l} \\left(T_{1}^{4} T_{2}^{2} m_{l} \\omega_{max}^{2} + 4 \\tau_{max}^{2}\\right)}} & \\frac{\\tau_{max}^{2} \\left(T_{1}^{2} T_{2} m_{l} \\omega_{max} - \\sqrt{m_{l} \\left(T_{1}^{4} T_{2}^{2} m_{l} \\omega_{max}^{2} + 4 \\tau_{max}^{2}\\right)}\\right) \\left(T_{1}^{4} T_{2}^{2} m_{l} \\omega_{max}^{2} - T_{1}^{2} T_{2} \\omega_{max} \\sqrt{m_{l} \\left(T_{1}^{4} T_{2}^{2} m_{l} \\omega_{max}^{2} + 4 \\tau_{max}^{2}\\right)} + 4 \\tau_{max}^{2}\\right) e^{\\frac{t \\left(T_{1}^{2} T_{2} m_{l} \\omega_{max} - \\sqrt{m_{l} \\left(T_{1}^{4} T_{2}^{2} m_{l} \\omega_{max}^{2} + 4 \\tau_{max}^{2}\\right)}\\right)}{2 T_{2} m_{l} \\tau_{max}}} + \\left(T_{1}^{4} T_{2}^{2} m_{l} \\omega_{max}^{2} - T_{1}^{2} T_{2} \\omega_{max} \\sqrt{m_{l} \\left(T_{1}^{4} T_{2}^{2} m_{l} \\omega_{max}^{2} + 4 \\tau_{max}^{2}\\right)} + 2 \\tau_{max}^{2}\\right) \\left(T_{1}^{6} T_{2}^{3} m_{l}^{2} \\omega_{max}^{3} - T_{1}^{4} T_{2}^{2} m_{l} \\omega_{max}^{2} \\sqrt{m_{l} \\left(T_{1}^{4} T_{2}^{2} m_{l} \\omega_{max}^{2} + 4 \\tau_{max}^{2}\\right)} + 4 T_{1}^{2} T_{2} m_{l} \\omega_{max} \\tau_{max}^{2} - 2 \\tau_{max}^{2} \\sqrt{m_{l} \\left(T_{1}^{4} T_{2}^{2} m_{l} \\omega_{max}^{2} + 4 \\tau_{max}^{2}\\right)}\\right) e^{\\frac{t \\left(T_{1}^{2} T_{2} m_{l} \\omega_{max} + \\sqrt{m_{l} \\left(T_{1}^{4} T_{2}^{2} m_{l} \\omega_{max}^{2} + 4 \\tau_{max}^{2}\\right)}\\right)}{2 T_{2} m_{l} \\tau_{max}}}}{\\left(T_{1}^{4} T_{2}^{2} m_{l} \\omega_{max}^{2} - T_{1}^{2} T_{2} \\omega_{max} \\sqrt{m_{l} \\left(T_{1}^{4} T_{2}^{2} m_{l} \\omega_{max}^{2} + 4 \\tau_{max}^{2}\\right)} + 4 \\tau_{max}^{2}\\right) \\left(T_{1}^{6} T_{2}^{3} m_{l}^{2} \\omega_{max}^{3} - T_{1}^{4} T_{2}^{2} m_{l} \\omega_{max}^{2} \\sqrt{m_{l} \\left(T_{1}^{4} T_{2}^{2} m_{l} \\omega_{max}^{2} + 4 \\tau_{max}^{2}\\right)} + 4 T_{1}^{2} T_{2} m_{l} \\omega_{max} \\tau_{max}^{2} - 2 \\tau_{max}^{2} \\sqrt{m_{l} \\left(T_{1}^{4} T_{2}^{2} m_{l} \\omega_{max}^{2} + 4 \\tau_{max}^{2}\\right)}\\right)}\\end{matrix}\\right]$"
      ],
      "text/plain": [
       "Matrix([\n",
       "[                                                                                                                                                                                                                                                                                                                                                                                                                                                                                                                                                                                                  (-T1**2*T2*m_l*omega_max*exp(t*(T1**2*T2*m_l*omega_max - sqrt(m_l*(T1**4*T2**2*m_l*omega_max**2 + 4*tau_max**2)))/(2*T2*m_l*tau_max)) + T1**2*T2*m_l*omega_max*exp(t*(T1**2*T2*m_l*omega_max + sqrt(m_l*(T1**4*T2**2*m_l*omega_max**2 + 4*tau_max**2)))/(2*T2*m_l*tau_max)) + sqrt(m_l*(T1**4*T2**2*m_l*omega_max**2 + 4*tau_max**2)))/sqrt(m_l*(T1**4*T2**2*m_l*omega_max**2 + 4*tau_max**2)),                                                                                                                                                                                                                                                                                                                                                                                          T1*m_l*omega_max*(1 - exp(t*sqrt(m_l*(T1**4*T2**2*m_l*omega_max**2 + 4*tau_max**2))/(T2*m_l*tau_max)))*exp(t*(T1**2*omega_max - sqrt(m_l*(T1**4*T2**2*m_l*omega_max**2 + 4*tau_max**2))/(T2*m_l))/(2*tau_max))/sqrt(m_l*(T1**4*T2**2*m_l*omega_max**2 + 4*tau_max**2)),                                                                                                                                                                                                                                                                                                                                                                                                                                                                                                                                                                                                                                                                                                                                                                                                                                           -T1*T2*m_l*omega_max*(T1**2*T2*m_l*omega_max*tau_max**2 - tau_max**2*sqrt(T1**4*T2**2*m_l**2*omega_max**2 + 4*m_l*tau_max**2))*exp(t*(T1**2*omega_max/(2*tau_max) - sqrt(m_l*(T1**4*T2**2*m_l*omega_max**2 + 4*tau_max**2))/(2*T2*m_l*tau_max)))/(tau_max*(T1**6*T2**3*m_l**2*omega_max**3 - T1**4*T2**2*m_l*omega_max**2*sqrt(T1**4*T2**2*m_l**2*omega_max**2 + 4*m_l*tau_max**2) + 4*T1**2*T2*m_l*omega_max*tau_max**2 - 2*tau_max**2*sqrt(T1**4*T2**2*m_l**2*omega_max**2 + 4*m_l*tau_max**2))) - T1*T2*m_l*omega_max*(T1**4*T2**2*m_l*omega_max**2 - T1**2*T2*omega_max*sqrt(T1**4*T2**2*m_l**2*omega_max**2 + 4*m_l*tau_max**2) + 2*tau_max**2)*exp(t*(T1**2*omega_max/(2*tau_max) + sqrt(m_l*(T1**4*T2**2*m_l*omega_max**2 + 4*tau_max**2))/(2*T2*m_l*tau_max)))/(tau_max*(T1**4*T2**2*m_l*omega_max**2 - T1**2*T2*omega_max*sqrt(T1**4*T2**2*m_l**2*omega_max**2 + 4*m_l*tau_max**2) + 4*tau_max**2)) + T1*T2*m_l*omega_max/tau_max],\n",
       "[T1*T2*(-2*tau_max**2*sqrt(m_l*(T1**4*T2**2*m_l*omega_max**2 + 4*tau_max**2))*(T1**2*T2*m_l*omega_max - sqrt(m_l*(T1**4*T2**2*m_l*omega_max**2 + 4*tau_max**2)))*exp(t*(T1**2*T2*m_l*omega_max + sqrt(m_l*(T1**4*T2**2*m_l*omega_max**2 + 4*tau_max**2)))/(2*T2*m_l*tau_max)) + 2*tau_max**2*sqrt(m_l*(T1**4*T2**2*m_l*omega_max**2 + 4*tau_max**2))*(T1**2*T2*m_l*omega_max + sqrt(m_l*(T1**4*T2**2*m_l*omega_max**2 + 4*tau_max**2)))*exp(t*(T1**2*T2*m_l*omega_max - sqrt(m_l*(T1**4*T2**2*m_l*omega_max**2 + 4*tau_max**2)))/(2*T2*m_l*tau_max)) + (T1**2*T2*m_l*omega_max - sqrt(m_l*(T1**4*T2**2*m_l*omega_max**2 + 4*tau_max**2)))*(T1**2*T2*m_l*omega_max + sqrt(m_l*(T1**4*T2**2*m_l*omega_max**2 + 4*tau_max**2)))*(T1**4*T2**2*m_l*omega_max**2 + 4*tau_max**2))/((T1**2*T2*m_l*omega_max - sqrt(m_l*(T1**4*T2**2*m_l*omega_max**2 + 4*tau_max**2)))*(T1**2*T2*m_l*omega_max + sqrt(m_l*(T1**4*T2**2*m_l*omega_max**2 + 4*tau_max**2)))*(T1**4*T2**2*m_l*omega_max**2 + 4*tau_max**2)), (T1**4*T2**2*m_l*omega_max**2*exp(t*sqrt(m_l*(T1**4*T2**2*m_l*omega_max**2 + 4*tau_max**2))/(T2*m_l*tau_max)) + T1**4*T2**2*m_l*omega_max**2 - T1**2*T2*omega_max*sqrt(m_l*(T1**4*T2**2*m_l*omega_max**2 + 4*tau_max**2))*exp(t*sqrt(m_l*(T1**4*T2**2*m_l*omega_max**2 + 4*tau_max**2))/(T2*m_l*tau_max)) + T1**2*T2*omega_max*sqrt(m_l*(T1**4*T2**2*m_l*omega_max**2 + 4*tau_max**2)) + 4*tau_max**2*exp(t*sqrt(m_l*(T1**4*T2**2*m_l*omega_max**2 + 4*tau_max**2))/(T2*m_l*tau_max)) + 4*tau_max**2)*exp(t*(T1**2*omega_max - sqrt(m_l*(T1**4*T2**2*m_l*omega_max**2 + 4*tau_max**2))/(T2*m_l))/(2*tau_max))/(2*(T1**4*T2**2*m_l*omega_max**2 + 4*tau_max**2)), T2*m_l*(T1**2*T2*omega_max*(T1**2*T2*m_l*omega_max + sqrt(m_l*(T1**4*T2**2*m_l*omega_max**2 + 4*tau_max**2)))*(T1**4*T2**2*m_l*omega_max**2 - T1**2*T2*omega_max*sqrt(m_l*(T1**4*T2**2*m_l*omega_max**2 + 4*tau_max**2)) + 4*tau_max**2)*(T1**6*T2**3*m_l**2*omega_max**3 - T1**4*T2**2*m_l*omega_max**2*sqrt(m_l*(T1**4*T2**2*m_l*omega_max**2 + 4*tau_max**2)) + 4*T1**2*T2*m_l*omega_max*tau_max**2 - 2*tau_max**2*sqrt(m_l*(T1**4*T2**2*m_l*omega_max**2 + 4*tau_max**2))) + 2*tau_max**4*(T1**2*T2*m_l*omega_max + sqrt(m_l*(T1**4*T2**2*m_l*omega_max**2 + 4*tau_max**2)))*(T1**4*T2**2*m_l*omega_max**2 - T1**2*T2*omega_max*sqrt(m_l*(T1**4*T2**2*m_l*omega_max**2 + 4*tau_max**2)) + 4*tau_max**2)*exp(t*(T1**2*T2*m_l*omega_max - sqrt(m_l*(T1**4*T2**2*m_l*omega_max**2 + 4*tau_max**2)))/(2*T2*m_l*tau_max)) + 2*tau_max**2*(T1**4*T2**2*m_l*omega_max**2 - T1**2*T2*omega_max*sqrt(m_l*(T1**4*T2**2*m_l*omega_max**2 + 4*tau_max**2)) + 2*tau_max**2)*(T1**6*T2**3*m_l**2*omega_max**3 - T1**4*T2**2*m_l*omega_max**2*sqrt(m_l*(T1**4*T2**2*m_l*omega_max**2 + 4*tau_max**2)) + 4*T1**2*T2*m_l*omega_max*tau_max**2 - 2*tau_max**2*sqrt(m_l*(T1**4*T2**2*m_l*omega_max**2 + 4*tau_max**2)))*exp(t*(T1**2*T2*m_l*omega_max + sqrt(m_l*(T1**4*T2**2*m_l*omega_max**2 + 4*tau_max**2)))/(2*T2*m_l*tau_max)))/(tau_max*(T1**2*T2*m_l*omega_max + sqrt(m_l*(T1**4*T2**2*m_l*omega_max**2 + 4*tau_max**2)))*(T1**4*T2**2*m_l*omega_max**2 - T1**2*T2*omega_max*sqrt(m_l*(T1**4*T2**2*m_l*omega_max**2 + 4*tau_max**2)) + 4*tau_max**2)*(T1**6*T2**3*m_l**2*omega_max**3 - T1**4*T2**2*m_l*omega_max**2*sqrt(m_l*(T1**4*T2**2*m_l*omega_max**2 + 4*tau_max**2)) + 4*T1**2*T2*m_l*omega_max*tau_max**2 - 2*tau_max**2*sqrt(m_l*(T1**4*T2**2*m_l*omega_max**2 + 4*tau_max**2))))],\n",
       "[                                                                                                                                                                                                                                                                                                                                                                                                                                                                                                                                                                                                                                                                                                                                T1*tau_max*(1 - exp(t*sqrt(m_l*(T1**4*T2**2*m_l*omega_max**2 + 4*tau_max**2))/(T2*m_l*tau_max)))*exp(t*(T1**2*omega_max - sqrt(m_l*(T1**4*T2**2*m_l*omega_max**2 + 4*tau_max**2))/(T2*m_l))/(2*tau_max))/sqrt(m_l*(T1**4*T2**2*m_l*omega_max**2 + 4*tau_max**2)),                                                                                                                                                                                                                                                                                                                                                                                              tau_max*(exp(t*sqrt(m_l*(T1**4*T2**2*m_l*omega_max**2 + 4*tau_max**2))/(T2*m_l*tau_max)) - 1)*exp(t*(T1**2*omega_max - sqrt(m_l*(T1**4*T2**2*m_l*omega_max**2 + 4*tau_max**2))/(T2*m_l))/(2*tau_max))/(T2*sqrt(m_l*(T1**4*T2**2*m_l*omega_max**2 + 4*tau_max**2))),                                                                                                                                                                                                                                                                                                                                                                                                                                                                                                                                                                                           (tau_max**2*(T1**2*T2*m_l*omega_max - sqrt(m_l*(T1**4*T2**2*m_l*omega_max**2 + 4*tau_max**2)))*(T1**4*T2**2*m_l*omega_max**2 - T1**2*T2*omega_max*sqrt(m_l*(T1**4*T2**2*m_l*omega_max**2 + 4*tau_max**2)) + 4*tau_max**2)*exp(t*(T1**2*T2*m_l*omega_max - sqrt(m_l*(T1**4*T2**2*m_l*omega_max**2 + 4*tau_max**2)))/(2*T2*m_l*tau_max)) + (T1**4*T2**2*m_l*omega_max**2 - T1**2*T2*omega_max*sqrt(m_l*(T1**4*T2**2*m_l*omega_max**2 + 4*tau_max**2)) + 2*tau_max**2)*(T1**6*T2**3*m_l**2*omega_max**3 - T1**4*T2**2*m_l*omega_max**2*sqrt(m_l*(T1**4*T2**2*m_l*omega_max**2 + 4*tau_max**2)) + 4*T1**2*T2*m_l*omega_max*tau_max**2 - 2*tau_max**2*sqrt(m_l*(T1**4*T2**2*m_l*omega_max**2 + 4*tau_max**2)))*exp(t*(T1**2*T2*m_l*omega_max + sqrt(m_l*(T1**4*T2**2*m_l*omega_max**2 + 4*tau_max**2)))/(2*T2*m_l*tau_max)))/((T1**4*T2**2*m_l*omega_max**2 - T1**2*T2*omega_max*sqrt(m_l*(T1**4*T2**2*m_l*omega_max**2 + 4*tau_max**2)) + 4*tau_max**2)*(T1**6*T2**3*m_l**2*omega_max**3 - T1**4*T2**2*m_l*omega_max**2*sqrt(m_l*(T1**4*T2**2*m_l*omega_max**2 + 4*tau_max**2)) + 4*T1**2*T2*m_l*omega_max*tau_max**2 - 2*tau_max**2*sqrt(m_l*(T1**4*T2**2*m_l*omega_max**2 + 4*tau_max**2))))]])"
      ]
     },
     "execution_count": 54,
     "metadata": {},
     "output_type": "execute_result"
    }
   ],
   "source": [
    "xsol = simplify((A*t).exp())\n",
    "print(count_ops(xsol))\n",
    "xsol"
   ]
  },
  {
   "cell_type": "code",
   "execution_count": 57,
   "metadata": {},
   "outputs": [
    {
     "name": "stdout",
     "output_type": "stream",
     "text": [
      "1423\n"
     ]
    },
    {
     "data": {
      "text/latex": [
       "$\\displaystyle \\left[\\begin{matrix}\\frac{- T_{1}^{2} T_{2} m_{l} \\omega_{max} e^{\\frac{t \\left(T_{1}^{2} T_{2} m_{l} \\omega_{max} - \\sqrt{m_{l} \\left(T_{1}^{4} T_{2}^{2} m_{l} \\omega_{max}^{2} + 4 \\tau_{max}^{2}\\right)}\\right)}{2 T_{2} m_{l} \\tau_{max}}} + T_{1}^{2} T_{2} m_{l} \\omega_{max} e^{\\frac{t \\left(T_{1}^{2} T_{2} m_{l} \\omega_{max} + \\sqrt{m_{l} \\left(T_{1}^{4} T_{2}^{2} m_{l} \\omega_{max}^{2} + 4 \\tau_{max}^{2}\\right)}\\right)}{2 T_{2} m_{l} \\tau_{max}}} + \\sqrt{m_{l} \\left(T_{1}^{4} T_{2}^{2} m_{l} \\omega_{max}^{2} + 4 \\tau_{max}^{2}\\right)}}{\\sqrt{m_{l} \\left(T_{1}^{4} T_{2}^{2} m_{l} \\omega_{max}^{2} + 4 \\tau_{max}^{2}\\right)}} & \\frac{T_{1} m_{l} \\omega_{max} \\left(1 - e^{\\frac{t \\sqrt{m_{l} \\left(T_{1}^{4} T_{2}^{2} m_{l} \\omega_{max}^{2} + 4 \\tau_{max}^{2}\\right)}}{T_{2} m_{l} \\tau_{max}}}\\right) e^{\\frac{t \\left(T_{1}^{2} \\omega_{max} - \\frac{\\sqrt{m_{l} \\left(T_{1}^{4} T_{2}^{2} m_{l} \\omega_{max}^{2} + 4 \\tau_{max}^{2}\\right)}}{T_{2} m_{l}}\\right)}{2 \\tau_{max}}}}{\\sqrt{m_{l} \\left(T_{1}^{4} T_{2}^{2} m_{l} \\omega_{max}^{2} + 4 \\tau_{max}^{2}\\right)}} & - \\frac{T_{1} T_{2} m_{l} \\omega_{max} \\left(T_{1}^{2} T_{2} m_{l} \\omega_{max} \\tau_{max}^{2} - \\tau_{max}^{2} \\sqrt{T_{1}^{4} T_{2}^{2} m_{l}^{2} \\omega_{max}^{2} + 4 m_{l} \\tau_{max}^{2}}\\right) e^{t \\left(\\frac{T_{1}^{2} \\omega_{max}}{2 \\tau_{max}} - \\frac{\\sqrt{m_{l} \\left(T_{1}^{4} T_{2}^{2} m_{l} \\omega_{max}^{2} + 4 \\tau_{max}^{2}\\right)}}{2 T_{2} m_{l} \\tau_{max}}\\right)}}{\\tau_{max} \\left(T_{1}^{6} T_{2}^{3} m_{l}^{2} \\omega_{max}^{3} - T_{1}^{4} T_{2}^{2} m_{l} \\omega_{max}^{2} \\sqrt{T_{1}^{4} T_{2}^{2} m_{l}^{2} \\omega_{max}^{2} + 4 m_{l} \\tau_{max}^{2}} + 4 T_{1}^{2} T_{2} m_{l} \\omega_{max} \\tau_{max}^{2} - 2 \\tau_{max}^{2} \\sqrt{T_{1}^{4} T_{2}^{2} m_{l}^{2} \\omega_{max}^{2} + 4 m_{l} \\tau_{max}^{2}}\\right)} - \\frac{T_{1} T_{2} m_{l} \\omega_{max} \\left(T_{1}^{4} T_{2}^{2} m_{l} \\omega_{max}^{2} - T_{1}^{2} T_{2} \\omega_{max} \\sqrt{T_{1}^{4} T_{2}^{2} m_{l}^{2} \\omega_{max}^{2} + 4 m_{l} \\tau_{max}^{2}} + 2 \\tau_{max}^{2}\\right) e^{t \\left(\\frac{T_{1}^{2} \\omega_{max}}{2 \\tau_{max}} + \\frac{\\sqrt{m_{l} \\left(T_{1}^{4} T_{2}^{2} m_{l} \\omega_{max}^{2} + 4 \\tau_{max}^{2}\\right)}}{2 T_{2} m_{l} \\tau_{max}}\\right)}}{\\tau_{max} \\left(T_{1}^{4} T_{2}^{2} m_{l} \\omega_{max}^{2} - T_{1}^{2} T_{2} \\omega_{max} \\sqrt{T_{1}^{4} T_{2}^{2} m_{l}^{2} \\omega_{max}^{2} + 4 m_{l} \\tau_{max}^{2}} + 4 \\tau_{max}^{2}\\right)} + \\frac{T_{1} T_{2} m_{l} \\omega_{max}}{\\tau_{max}}\\\\\\frac{T_{1} T_{2} \\left(- 2 \\tau_{max}^{2} \\sqrt{m_{l} \\left(T_{1}^{4} T_{2}^{2} m_{l} \\omega_{max}^{2} + 4 \\tau_{max}^{2}\\right)} \\left(T_{1}^{2} T_{2} m_{l} \\omega_{max} - \\sqrt{m_{l} \\left(T_{1}^{4} T_{2}^{2} m_{l} \\omega_{max}^{2} + 4 \\tau_{max}^{2}\\right)}\\right) e^{\\frac{t \\left(T_{1}^{2} T_{2} m_{l} \\omega_{max} + \\sqrt{m_{l} \\left(T_{1}^{4} T_{2}^{2} m_{l} \\omega_{max}^{2} + 4 \\tau_{max}^{2}\\right)}\\right)}{2 T_{2} m_{l} \\tau_{max}}} + 2 \\tau_{max}^{2} \\sqrt{m_{l} \\left(T_{1}^{4} T_{2}^{2} m_{l} \\omega_{max}^{2} + 4 \\tau_{max}^{2}\\right)} \\left(T_{1}^{2} T_{2} m_{l} \\omega_{max} + \\sqrt{m_{l} \\left(T_{1}^{4} T_{2}^{2} m_{l} \\omega_{max}^{2} + 4 \\tau_{max}^{2}\\right)}\\right) e^{\\frac{t \\left(T_{1}^{2} T_{2} m_{l} \\omega_{max} - \\sqrt{m_{l} \\left(T_{1}^{4} T_{2}^{2} m_{l} \\omega_{max}^{2} + 4 \\tau_{max}^{2}\\right)}\\right)}{2 T_{2} m_{l} \\tau_{max}}} + \\left(T_{1}^{2} T_{2} m_{l} \\omega_{max} - \\sqrt{m_{l} \\left(T_{1}^{4} T_{2}^{2} m_{l} \\omega_{max}^{2} + 4 \\tau_{max}^{2}\\right)}\\right) \\left(T_{1}^{2} T_{2} m_{l} \\omega_{max} + \\sqrt{m_{l} \\left(T_{1}^{4} T_{2}^{2} m_{l} \\omega_{max}^{2} + 4 \\tau_{max}^{2}\\right)}\\right) \\left(T_{1}^{4} T_{2}^{2} m_{l} \\omega_{max}^{2} + 4 \\tau_{max}^{2}\\right)\\right)}{\\left(T_{1}^{2} T_{2} m_{l} \\omega_{max} - \\sqrt{m_{l} \\left(T_{1}^{4} T_{2}^{2} m_{l} \\omega_{max}^{2} + 4 \\tau_{max}^{2}\\right)}\\right) \\left(T_{1}^{2} T_{2} m_{l} \\omega_{max} + \\sqrt{m_{l} \\left(T_{1}^{4} T_{2}^{2} m_{l} \\omega_{max}^{2} + 4 \\tau_{max}^{2}\\right)}\\right) \\left(T_{1}^{4} T_{2}^{2} m_{l} \\omega_{max}^{2} + 4 \\tau_{max}^{2}\\right)} & \\frac{\\left(T_{1}^{4} T_{2}^{2} m_{l} \\omega_{max}^{2} e^{\\frac{t \\sqrt{m_{l} \\left(T_{1}^{4} T_{2}^{2} m_{l} \\omega_{max}^{2} + 4 \\tau_{max}^{2}\\right)}}{T_{2} m_{l} \\tau_{max}}} + T_{1}^{4} T_{2}^{2} m_{l} \\omega_{max}^{2} - T_{1}^{2} T_{2} \\omega_{max} \\sqrt{m_{l} \\left(T_{1}^{4} T_{2}^{2} m_{l} \\omega_{max}^{2} + 4 \\tau_{max}^{2}\\right)} e^{\\frac{t \\sqrt{m_{l} \\left(T_{1}^{4} T_{2}^{2} m_{l} \\omega_{max}^{2} + 4 \\tau_{max}^{2}\\right)}}{T_{2} m_{l} \\tau_{max}}} + T_{1}^{2} T_{2} \\omega_{max} \\sqrt{m_{l} \\left(T_{1}^{4} T_{2}^{2} m_{l} \\omega_{max}^{2} + 4 \\tau_{max}^{2}\\right)} + 4 \\tau_{max}^{2} e^{\\frac{t \\sqrt{m_{l} \\left(T_{1}^{4} T_{2}^{2} m_{l} \\omega_{max}^{2} + 4 \\tau_{max}^{2}\\right)}}{T_{2} m_{l} \\tau_{max}}} + 4 \\tau_{max}^{2}\\right) e^{\\frac{t \\left(T_{1}^{2} \\omega_{max} - \\frac{\\sqrt{m_{l} \\left(T_{1}^{4} T_{2}^{2} m_{l} \\omega_{max}^{2} + 4 \\tau_{max}^{2}\\right)}}{T_{2} m_{l}}\\right)}{2 \\tau_{max}}}}{2 \\left(T_{1}^{4} T_{2}^{2} m_{l} \\omega_{max}^{2} + 4 \\tau_{max}^{2}\\right)} & \\frac{T_{2} m_{l} \\left(T_{1}^{2} T_{2} \\omega_{max} \\left(T_{1}^{2} T_{2} m_{l} \\omega_{max} + \\sqrt{m_{l} \\left(T_{1}^{4} T_{2}^{2} m_{l} \\omega_{max}^{2} + 4 \\tau_{max}^{2}\\right)}\\right) \\left(T_{1}^{4} T_{2}^{2} m_{l} \\omega_{max}^{2} - T_{1}^{2} T_{2} \\omega_{max} \\sqrt{m_{l} \\left(T_{1}^{4} T_{2}^{2} m_{l} \\omega_{max}^{2} + 4 \\tau_{max}^{2}\\right)} + 4 \\tau_{max}^{2}\\right) \\left(T_{1}^{6} T_{2}^{3} m_{l}^{2} \\omega_{max}^{3} - T_{1}^{4} T_{2}^{2} m_{l} \\omega_{max}^{2} \\sqrt{m_{l} \\left(T_{1}^{4} T_{2}^{2} m_{l} \\omega_{max}^{2} + 4 \\tau_{max}^{2}\\right)} + 4 T_{1}^{2} T_{2} m_{l} \\omega_{max} \\tau_{max}^{2} - 2 \\tau_{max}^{2} \\sqrt{m_{l} \\left(T_{1}^{4} T_{2}^{2} m_{l} \\omega_{max}^{2} + 4 \\tau_{max}^{2}\\right)}\\right) + 2 \\tau_{max}^{4} \\left(T_{1}^{2} T_{2} m_{l} \\omega_{max} + \\sqrt{m_{l} \\left(T_{1}^{4} T_{2}^{2} m_{l} \\omega_{max}^{2} + 4 \\tau_{max}^{2}\\right)}\\right) \\left(T_{1}^{4} T_{2}^{2} m_{l} \\omega_{max}^{2} - T_{1}^{2} T_{2} \\omega_{max} \\sqrt{m_{l} \\left(T_{1}^{4} T_{2}^{2} m_{l} \\omega_{max}^{2} + 4 \\tau_{max}^{2}\\right)} + 4 \\tau_{max}^{2}\\right) e^{\\frac{t \\left(T_{1}^{2} T_{2} m_{l} \\omega_{max} - \\sqrt{m_{l} \\left(T_{1}^{4} T_{2}^{2} m_{l} \\omega_{max}^{2} + 4 \\tau_{max}^{2}\\right)}\\right)}{2 T_{2} m_{l} \\tau_{max}}} + 2 \\tau_{max}^{2} \\left(T_{1}^{4} T_{2}^{2} m_{l} \\omega_{max}^{2} - T_{1}^{2} T_{2} \\omega_{max} \\sqrt{m_{l} \\left(T_{1}^{4} T_{2}^{2} m_{l} \\omega_{max}^{2} + 4 \\tau_{max}^{2}\\right)} + 2 \\tau_{max}^{2}\\right) \\left(T_{1}^{6} T_{2}^{3} m_{l}^{2} \\omega_{max}^{3} - T_{1}^{4} T_{2}^{2} m_{l} \\omega_{max}^{2} \\sqrt{m_{l} \\left(T_{1}^{4} T_{2}^{2} m_{l} \\omega_{max}^{2} + 4 \\tau_{max}^{2}\\right)} + 4 T_{1}^{2} T_{2} m_{l} \\omega_{max} \\tau_{max}^{2} - 2 \\tau_{max}^{2} \\sqrt{m_{l} \\left(T_{1}^{4} T_{2}^{2} m_{l} \\omega_{max}^{2} + 4 \\tau_{max}^{2}\\right)}\\right) e^{\\frac{t \\left(T_{1}^{2} T_{2} m_{l} \\omega_{max} + \\sqrt{m_{l} \\left(T_{1}^{4} T_{2}^{2} m_{l} \\omega_{max}^{2} + 4 \\tau_{max}^{2}\\right)}\\right)}{2 T_{2} m_{l} \\tau_{max}}}\\right)}{\\tau_{max} \\left(T_{1}^{2} T_{2} m_{l} \\omega_{max} + \\sqrt{m_{l} \\left(T_{1}^{4} T_{2}^{2} m_{l} \\omega_{max}^{2} + 4 \\tau_{max}^{2}\\right)}\\right) \\left(T_{1}^{4} T_{2}^{2} m_{l} \\omega_{max}^{2} - T_{1}^{2} T_{2} \\omega_{max} \\sqrt{m_{l} \\left(T_{1}^{4} T_{2}^{2} m_{l} \\omega_{max}^{2} + 4 \\tau_{max}^{2}\\right)} + 4 \\tau_{max}^{2}\\right) \\left(T_{1}^{6} T_{2}^{3} m_{l}^{2} \\omega_{max}^{3} - T_{1}^{4} T_{2}^{2} m_{l} \\omega_{max}^{2} \\sqrt{m_{l} \\left(T_{1}^{4} T_{2}^{2} m_{l} \\omega_{max}^{2} + 4 \\tau_{max}^{2}\\right)} + 4 T_{1}^{2} T_{2} m_{l} \\omega_{max} \\tau_{max}^{2} - 2 \\tau_{max}^{2} \\sqrt{m_{l} \\left(T_{1}^{4} T_{2}^{2} m_{l} \\omega_{max}^{2} + 4 \\tau_{max}^{2}\\right)}\\right)}\\\\\\frac{T_{1} \\tau_{max} \\left(1 - e^{\\frac{t \\sqrt{m_{l} \\left(T_{1}^{4} T_{2}^{2} m_{l} \\omega_{max}^{2} + 4 \\tau_{max}^{2}\\right)}}{T_{2} m_{l} \\tau_{max}}}\\right) e^{\\frac{t \\left(T_{1}^{2} \\omega_{max} - \\frac{\\sqrt{m_{l} \\left(T_{1}^{4} T_{2}^{2} m_{l} \\omega_{max}^{2} + 4 \\tau_{max}^{2}\\right)}}{T_{2} m_{l}}\\right)}{2 \\tau_{max}}}}{\\sqrt{m_{l} \\left(T_{1}^{4} T_{2}^{2} m_{l} \\omega_{max}^{2} + 4 \\tau_{max}^{2}\\right)}} & \\frac{\\tau_{max} \\left(e^{\\frac{t \\sqrt{m_{l} \\left(T_{1}^{4} T_{2}^{2} m_{l} \\omega_{max}^{2} + 4 \\tau_{max}^{2}\\right)}}{T_{2} m_{l} \\tau_{max}}} - 1\\right) e^{\\frac{t \\left(T_{1}^{2} \\omega_{max} - \\frac{\\sqrt{m_{l} \\left(T_{1}^{4} T_{2}^{2} m_{l} \\omega_{max}^{2} + 4 \\tau_{max}^{2}\\right)}}{T_{2} m_{l}}\\right)}{2 \\tau_{max}}}}{T_{2} \\sqrt{m_{l} \\left(T_{1}^{4} T_{2}^{2} m_{l} \\omega_{max}^{2} + 4 \\tau_{max}^{2}\\right)}} & \\frac{\\tau_{max}^{2} \\left(T_{1}^{2} T_{2} m_{l} \\omega_{max} - \\sqrt{m_{l} \\left(T_{1}^{4} T_{2}^{2} m_{l} \\omega_{max}^{2} + 4 \\tau_{max}^{2}\\right)}\\right) \\left(T_{1}^{4} T_{2}^{2} m_{l} \\omega_{max}^{2} - T_{1}^{2} T_{2} \\omega_{max} \\sqrt{m_{l} \\left(T_{1}^{4} T_{2}^{2} m_{l} \\omega_{max}^{2} + 4 \\tau_{max}^{2}\\right)} + 4 \\tau_{max}^{2}\\right) e^{\\frac{t \\left(T_{1}^{2} T_{2} m_{l} \\omega_{max} - \\sqrt{m_{l} \\left(T_{1}^{4} T_{2}^{2} m_{l} \\omega_{max}^{2} + 4 \\tau_{max}^{2}\\right)}\\right)}{2 T_{2} m_{l} \\tau_{max}}} + \\left(T_{1}^{4} T_{2}^{2} m_{l} \\omega_{max}^{2} - T_{1}^{2} T_{2} \\omega_{max} \\sqrt{m_{l} \\left(T_{1}^{4} T_{2}^{2} m_{l} \\omega_{max}^{2} + 4 \\tau_{max}^{2}\\right)} + 2 \\tau_{max}^{2}\\right) \\left(T_{1}^{6} T_{2}^{3} m_{l}^{2} \\omega_{max}^{3} - T_{1}^{4} T_{2}^{2} m_{l} \\omega_{max}^{2} \\sqrt{m_{l} \\left(T_{1}^{4} T_{2}^{2} m_{l} \\omega_{max}^{2} + 4 \\tau_{max}^{2}\\right)} + 4 T_{1}^{2} T_{2} m_{l} \\omega_{max} \\tau_{max}^{2} - 2 \\tau_{max}^{2} \\sqrt{m_{l} \\left(T_{1}^{4} T_{2}^{2} m_{l} \\omega_{max}^{2} + 4 \\tau_{max}^{2}\\right)}\\right) e^{\\frac{t \\left(T_{1}^{2} T_{2} m_{l} \\omega_{max} + \\sqrt{m_{l} \\left(T_{1}^{4} T_{2}^{2} m_{l} \\omega_{max}^{2} + 4 \\tau_{max}^{2}\\right)}\\right)}{2 T_{2} m_{l} \\tau_{max}}}}{\\left(T_{1}^{4} T_{2}^{2} m_{l} \\omega_{max}^{2} - T_{1}^{2} T_{2} \\omega_{max} \\sqrt{m_{l} \\left(T_{1}^{4} T_{2}^{2} m_{l} \\omega_{max}^{2} + 4 \\tau_{max}^{2}\\right)} + 4 \\tau_{max}^{2}\\right) \\left(T_{1}^{6} T_{2}^{3} m_{l}^{2} \\omega_{max}^{3} - T_{1}^{4} T_{2}^{2} m_{l} \\omega_{max}^{2} \\sqrt{m_{l} \\left(T_{1}^{4} T_{2}^{2} m_{l} \\omega_{max}^{2} + 4 \\tau_{max}^{2}\\right)} + 4 T_{1}^{2} T_{2} m_{l} \\omega_{max} \\tau_{max}^{2} - 2 \\tau_{max}^{2} \\sqrt{m_{l} \\left(T_{1}^{4} T_{2}^{2} m_{l} \\omega_{max}^{2} + 4 \\tau_{max}^{2}\\right)}\\right)}\\end{matrix}\\right]$"
      ],
      "text/plain": [
       "Matrix([\n",
       "[                                                                                                                                                                                                                                                                                                                                                                                                                                                                                                                                                                                                  (-T1**2*T2*m_l*omega_max*exp(t*(T1**2*T2*m_l*omega_max - sqrt(m_l*(T1**4*T2**2*m_l*omega_max**2 + 4*tau_max**2)))/(2*T2*m_l*tau_max)) + T1**2*T2*m_l*omega_max*exp(t*(T1**2*T2*m_l*omega_max + sqrt(m_l*(T1**4*T2**2*m_l*omega_max**2 + 4*tau_max**2)))/(2*T2*m_l*tau_max)) + sqrt(m_l*(T1**4*T2**2*m_l*omega_max**2 + 4*tau_max**2)))/sqrt(m_l*(T1**4*T2**2*m_l*omega_max**2 + 4*tau_max**2)),                                                                                                                                                                                                                                                                                                                                                                                          T1*m_l*omega_max*(1 - exp(t*sqrt(m_l*(T1**4*T2**2*m_l*omega_max**2 + 4*tau_max**2))/(T2*m_l*tau_max)))*exp(t*(T1**2*omega_max - sqrt(m_l*(T1**4*T2**2*m_l*omega_max**2 + 4*tau_max**2))/(T2*m_l))/(2*tau_max))/sqrt(m_l*(T1**4*T2**2*m_l*omega_max**2 + 4*tau_max**2)),                                                                                                                                                                                                                                                                                                                                                                                                                                                                                                                                                                                                                                                                                                                                                                                                                                           -T1*T2*m_l*omega_max*(T1**2*T2*m_l*omega_max*tau_max**2 - tau_max**2*sqrt(T1**4*T2**2*m_l**2*omega_max**2 + 4*m_l*tau_max**2))*exp(t*(T1**2*omega_max/(2*tau_max) - sqrt(m_l*(T1**4*T2**2*m_l*omega_max**2 + 4*tau_max**2))/(2*T2*m_l*tau_max)))/(tau_max*(T1**6*T2**3*m_l**2*omega_max**3 - T1**4*T2**2*m_l*omega_max**2*sqrt(T1**4*T2**2*m_l**2*omega_max**2 + 4*m_l*tau_max**2) + 4*T1**2*T2*m_l*omega_max*tau_max**2 - 2*tau_max**2*sqrt(T1**4*T2**2*m_l**2*omega_max**2 + 4*m_l*tau_max**2))) - T1*T2*m_l*omega_max*(T1**4*T2**2*m_l*omega_max**2 - T1**2*T2*omega_max*sqrt(T1**4*T2**2*m_l**2*omega_max**2 + 4*m_l*tau_max**2) + 2*tau_max**2)*exp(t*(T1**2*omega_max/(2*tau_max) + sqrt(m_l*(T1**4*T2**2*m_l*omega_max**2 + 4*tau_max**2))/(2*T2*m_l*tau_max)))/(tau_max*(T1**4*T2**2*m_l*omega_max**2 - T1**2*T2*omega_max*sqrt(T1**4*T2**2*m_l**2*omega_max**2 + 4*m_l*tau_max**2) + 4*tau_max**2)) + T1*T2*m_l*omega_max/tau_max],\n",
       "[T1*T2*(-2*tau_max**2*sqrt(m_l*(T1**4*T2**2*m_l*omega_max**2 + 4*tau_max**2))*(T1**2*T2*m_l*omega_max - sqrt(m_l*(T1**4*T2**2*m_l*omega_max**2 + 4*tau_max**2)))*exp(t*(T1**2*T2*m_l*omega_max + sqrt(m_l*(T1**4*T2**2*m_l*omega_max**2 + 4*tau_max**2)))/(2*T2*m_l*tau_max)) + 2*tau_max**2*sqrt(m_l*(T1**4*T2**2*m_l*omega_max**2 + 4*tau_max**2))*(T1**2*T2*m_l*omega_max + sqrt(m_l*(T1**4*T2**2*m_l*omega_max**2 + 4*tau_max**2)))*exp(t*(T1**2*T2*m_l*omega_max - sqrt(m_l*(T1**4*T2**2*m_l*omega_max**2 + 4*tau_max**2)))/(2*T2*m_l*tau_max)) + (T1**2*T2*m_l*omega_max - sqrt(m_l*(T1**4*T2**2*m_l*omega_max**2 + 4*tau_max**2)))*(T1**2*T2*m_l*omega_max + sqrt(m_l*(T1**4*T2**2*m_l*omega_max**2 + 4*tau_max**2)))*(T1**4*T2**2*m_l*omega_max**2 + 4*tau_max**2))/((T1**2*T2*m_l*omega_max - sqrt(m_l*(T1**4*T2**2*m_l*omega_max**2 + 4*tau_max**2)))*(T1**2*T2*m_l*omega_max + sqrt(m_l*(T1**4*T2**2*m_l*omega_max**2 + 4*tau_max**2)))*(T1**4*T2**2*m_l*omega_max**2 + 4*tau_max**2)), (T1**4*T2**2*m_l*omega_max**2*exp(t*sqrt(m_l*(T1**4*T2**2*m_l*omega_max**2 + 4*tau_max**2))/(T2*m_l*tau_max)) + T1**4*T2**2*m_l*omega_max**2 - T1**2*T2*omega_max*sqrt(m_l*(T1**4*T2**2*m_l*omega_max**2 + 4*tau_max**2))*exp(t*sqrt(m_l*(T1**4*T2**2*m_l*omega_max**2 + 4*tau_max**2))/(T2*m_l*tau_max)) + T1**2*T2*omega_max*sqrt(m_l*(T1**4*T2**2*m_l*omega_max**2 + 4*tau_max**2)) + 4*tau_max**2*exp(t*sqrt(m_l*(T1**4*T2**2*m_l*omega_max**2 + 4*tau_max**2))/(T2*m_l*tau_max)) + 4*tau_max**2)*exp(t*(T1**2*omega_max - sqrt(m_l*(T1**4*T2**2*m_l*omega_max**2 + 4*tau_max**2))/(T2*m_l))/(2*tau_max))/(2*(T1**4*T2**2*m_l*omega_max**2 + 4*tau_max**2)), T2*m_l*(T1**2*T2*omega_max*(T1**2*T2*m_l*omega_max + sqrt(m_l*(T1**4*T2**2*m_l*omega_max**2 + 4*tau_max**2)))*(T1**4*T2**2*m_l*omega_max**2 - T1**2*T2*omega_max*sqrt(m_l*(T1**4*T2**2*m_l*omega_max**2 + 4*tau_max**2)) + 4*tau_max**2)*(T1**6*T2**3*m_l**2*omega_max**3 - T1**4*T2**2*m_l*omega_max**2*sqrt(m_l*(T1**4*T2**2*m_l*omega_max**2 + 4*tau_max**2)) + 4*T1**2*T2*m_l*omega_max*tau_max**2 - 2*tau_max**2*sqrt(m_l*(T1**4*T2**2*m_l*omega_max**2 + 4*tau_max**2))) + 2*tau_max**4*(T1**2*T2*m_l*omega_max + sqrt(m_l*(T1**4*T2**2*m_l*omega_max**2 + 4*tau_max**2)))*(T1**4*T2**2*m_l*omega_max**2 - T1**2*T2*omega_max*sqrt(m_l*(T1**4*T2**2*m_l*omega_max**2 + 4*tau_max**2)) + 4*tau_max**2)*exp(t*(T1**2*T2*m_l*omega_max - sqrt(m_l*(T1**4*T2**2*m_l*omega_max**2 + 4*tau_max**2)))/(2*T2*m_l*tau_max)) + 2*tau_max**2*(T1**4*T2**2*m_l*omega_max**2 - T1**2*T2*omega_max*sqrt(m_l*(T1**4*T2**2*m_l*omega_max**2 + 4*tau_max**2)) + 2*tau_max**2)*(T1**6*T2**3*m_l**2*omega_max**3 - T1**4*T2**2*m_l*omega_max**2*sqrt(m_l*(T1**4*T2**2*m_l*omega_max**2 + 4*tau_max**2)) + 4*T1**2*T2*m_l*omega_max*tau_max**2 - 2*tau_max**2*sqrt(m_l*(T1**4*T2**2*m_l*omega_max**2 + 4*tau_max**2)))*exp(t*(T1**2*T2*m_l*omega_max + sqrt(m_l*(T1**4*T2**2*m_l*omega_max**2 + 4*tau_max**2)))/(2*T2*m_l*tau_max)))/(tau_max*(T1**2*T2*m_l*omega_max + sqrt(m_l*(T1**4*T2**2*m_l*omega_max**2 + 4*tau_max**2)))*(T1**4*T2**2*m_l*omega_max**2 - T1**2*T2*omega_max*sqrt(m_l*(T1**4*T2**2*m_l*omega_max**2 + 4*tau_max**2)) + 4*tau_max**2)*(T1**6*T2**3*m_l**2*omega_max**3 - T1**4*T2**2*m_l*omega_max**2*sqrt(m_l*(T1**4*T2**2*m_l*omega_max**2 + 4*tau_max**2)) + 4*T1**2*T2*m_l*omega_max*tau_max**2 - 2*tau_max**2*sqrt(m_l*(T1**4*T2**2*m_l*omega_max**2 + 4*tau_max**2))))],\n",
       "[                                                                                                                                                                                                                                                                                                                                                                                                                                                                                                                                                                                                                                                                                                                                T1*tau_max*(1 - exp(t*sqrt(m_l*(T1**4*T2**2*m_l*omega_max**2 + 4*tau_max**2))/(T2*m_l*tau_max)))*exp(t*(T1**2*omega_max - sqrt(m_l*(T1**4*T2**2*m_l*omega_max**2 + 4*tau_max**2))/(T2*m_l))/(2*tau_max))/sqrt(m_l*(T1**4*T2**2*m_l*omega_max**2 + 4*tau_max**2)),                                                                                                                                                                                                                                                                                                                                                                                              tau_max*(exp(t*sqrt(m_l*(T1**4*T2**2*m_l*omega_max**2 + 4*tau_max**2))/(T2*m_l*tau_max)) - 1)*exp(t*(T1**2*omega_max - sqrt(m_l*(T1**4*T2**2*m_l*omega_max**2 + 4*tau_max**2))/(T2*m_l))/(2*tau_max))/(T2*sqrt(m_l*(T1**4*T2**2*m_l*omega_max**2 + 4*tau_max**2))),                                                                                                                                                                                                                                                                                                                                                                                                                                                                                                                                                                                           (tau_max**2*(T1**2*T2*m_l*omega_max - sqrt(m_l*(T1**4*T2**2*m_l*omega_max**2 + 4*tau_max**2)))*(T1**4*T2**2*m_l*omega_max**2 - T1**2*T2*omega_max*sqrt(m_l*(T1**4*T2**2*m_l*omega_max**2 + 4*tau_max**2)) + 4*tau_max**2)*exp(t*(T1**2*T2*m_l*omega_max - sqrt(m_l*(T1**4*T2**2*m_l*omega_max**2 + 4*tau_max**2)))/(2*T2*m_l*tau_max)) + (T1**4*T2**2*m_l*omega_max**2 - T1**2*T2*omega_max*sqrt(m_l*(T1**4*T2**2*m_l*omega_max**2 + 4*tau_max**2)) + 2*tau_max**2)*(T1**6*T2**3*m_l**2*omega_max**3 - T1**4*T2**2*m_l*omega_max**2*sqrt(m_l*(T1**4*T2**2*m_l*omega_max**2 + 4*tau_max**2)) + 4*T1**2*T2*m_l*omega_max*tau_max**2 - 2*tau_max**2*sqrt(m_l*(T1**4*T2**2*m_l*omega_max**2 + 4*tau_max**2)))*exp(t*(T1**2*T2*m_l*omega_max + sqrt(m_l*(T1**4*T2**2*m_l*omega_max**2 + 4*tau_max**2)))/(2*T2*m_l*tau_max)))/((T1**4*T2**2*m_l*omega_max**2 - T1**2*T2*omega_max*sqrt(m_l*(T1**4*T2**2*m_l*omega_max**2 + 4*tau_max**2)) + 4*tau_max**2)*(T1**6*T2**3*m_l**2*omega_max**3 - T1**4*T2**2*m_l*omega_max**2*sqrt(m_l*(T1**4*T2**2*m_l*omega_max**2 + 4*tau_max**2)) + 4*T1**2*T2*m_l*omega_max*tau_max**2 - 2*tau_max**2*sqrt(m_l*(T1**4*T2**2*m_l*omega_max**2 + 4*tau_max**2))))]])"
      ]
     },
     "execution_count": 57,
     "metadata": {},
     "output_type": "execute_result"
    }
   ],
   "source": [
    "from sympy.solvers.ode.systems import matrix_exp\n",
    "matexp = simplify(matrix_exp(A,t))\n",
    "print(count_ops(matexp))\n",
    "matexp"
   ]
  },
  {
   "cell_type": "code",
   "execution_count": 46,
   "metadata": {},
   "outputs": [
    {
     "data": {
      "text/latex": [
       "$\\displaystyle \\left[\\begin{matrix}1 & - \\frac{1}{T_{1} T_{2}} & 0\\\\0 & 0 & 1\\\\0 & 0 & 0\\end{matrix}\\right]$"
      ],
      "text/plain": [
       "Matrix([\n",
       "[1, -1/(T1*T2), 0],\n",
       "[0,          0, 1],\n",
       "[0,          0, 0]])"
      ]
     },
     "execution_count": 46,
     "metadata": {},
     "output_type": "execute_result"
    }
   ],
   "source": [
    "A.rref()[0]"
   ]
  },
  {
   "cell_type": "code",
   "execution_count": 47,
   "metadata": {},
   "outputs": [
    {
     "data": {
      "text/plain": [
       "[(0,\n",
       "  1,\n",
       "  [Matrix([\n",
       "   [1/(T1*T2)],\n",
       "   [        1],\n",
       "   [        0]])]),\n",
       " (T1**2*omega_max/(2*tau_max) - sqrt(m_l*(T1**4*T2**2*m_l*omega_max**2 + 4*tau_max**2))/(2*T2*m_l*tau_max),\n",
       "  1,\n",
       "  [Matrix([\n",
       "   [                                                                                                                             -T1*T2*m_l*omega_max/tau_max],\n",
       "   [-T1**2*T2**2*m_l*omega_max/tau_max + T2**2*m_l*(T1**2*omega_max/(2*tau_max) - sqrt(m_l*(T1**4*T2**2*m_l*omega_max**2 + 4*tau_max**2))/(2*T2*m_l*tau_max))],\n",
       "   [                                                                                                                                                        1]])]),\n",
       " (T1**2*omega_max/(2*tau_max) + sqrt(m_l*(T1**4*T2**2*m_l*omega_max**2 + 4*tau_max**2))/(2*T2*m_l*tau_max),\n",
       "  1,\n",
       "  [Matrix([\n",
       "   [                                                                                                                             -T1*T2*m_l*omega_max/tau_max],\n",
       "   [-T1**2*T2**2*m_l*omega_max/tau_max + T2**2*m_l*(T1**2*omega_max/(2*tau_max) + sqrt(m_l*(T1**4*T2**2*m_l*omega_max**2 + 4*tau_max**2))/(2*T2*m_l*tau_max))],\n",
       "   [                                                                                                                                                        1]])])]"
      ]
     },
     "execution_count": 47,
     "metadata": {},
     "output_type": "execute_result"
    }
   ],
   "source": [
    "A.eigenvects()"
   ]
  },
  {
   "cell_type": "code",
   "execution_count": 37,
   "metadata": {},
   "outputs": [
    {
     "data": {
      "text/plain": [
       "1423"
      ]
     },
     "execution_count": 37,
     "metadata": {},
     "output_type": "execute_result"
    }
   ],
   "source": [
    "count_ops(xsol)"
   ]
  },
  {
   "cell_type": "code",
   "execution_count": 29,
   "metadata": {},
   "outputs": [
    {
     "data": {
      "image/png": "[encoded data removed]",
      "text/plain": [
       "<Figure size 1000x600 with 3 Axes>"
      ]
     },
     "metadata": {},
     "output_type": "display_data"
    }
   ],
   "source": [
    "import numpy as np\n",
    "import matplotlib.pyplot as plt\n",
    "\n",
    "nums = {\n",
    "    T1: 0.00025, #0.035 m / 140 rad from TSA test\n",
    "    T2: 3, #guess for leg movement/string contract\n",
    "    m_a: 1/2 * 0.020 * 0.010**2, #cylinder MOI 20g 10mm radius\n",
    "    m_l: 0.1, #mass to push off ground\n",
    "    k: 3000, # no idea honestly\n",
    "    tau_max: 0.1, #N*m stall torque\n",
    "    omega_max: 3000, #about 10,000rpm free speed\n",
    "}\n",
    "\n",
    "xoft = xsol.subs(nums)\n",
    "\n",
    "X = Matrix([0, 0.1, 0])\n",
    "\n",
    "ts = np.linspace(0, 10, 10)\n",
    "Xs = []\n",
    "\n",
    "for ti in ts:\n",
    "    Xs.append(xoft.subs(t,ti) @ X)\n",
    "\n",
    "\n",
    "Xs = np.array(Xs).reshape((-1,3)).T\n",
    "\n",
    "fig, axs = plt.subplots(3, 1, sharex=True, figsize=(10,6))\n",
    "\n",
    "axs[0].plot(ts, Xs[0], label='xa')\n",
    "axs[1].plot(ts, Xs[1], label='xl')\n",
    "axs[2].plot(ts, Xs[2], label='xldot')\n",
    "\n",
    "for i in range(len(axs)):\n",
    "    axs[i].legend()\n",
    "\n",
    "plt.show()"
   ]
  },
  {
   "cell_type": "code",
   "execution_count": 36,
   "metadata": {},
   "outputs": [
    {
     "data": {
      "text/plain": [
       "[(1.37476835471162e-19,\n",
       "  1,\n",
       "  [Matrix([\n",
       "   [   -0.999999718750119],\n",
       "   [-0.000749999789062589],\n",
       "   [-1.03107597604364e-22]])]),\n",
       " (1.05503047029122,\n",
       "  1,\n",
       "  [Matrix([\n",
       "   [-1.00031632783376],\n",
       "   [0.421395445071901],\n",
       "   [0.444585034592784]])]),\n",
       " (-1.05315547029122,\n",
       "  1,\n",
       "  [Matrix([\n",
       "   [-0.999683872166222],\n",
       "   [ -0.42187877831763],\n",
       "   [ 0.444303943184988]])])]"
      ]
     },
     "execution_count": 36,
     "metadata": {},
     "output_type": "execute_result"
    }
   ],
   "source": [
    "A.subs(nums).eigenvects()"
   ]
  },
  {
   "cell_type": "code",
   "execution_count": 6,
   "metadata": {},
   "outputs": [
    {
     "data": {
      "text/latex": [
       "$\\displaystyle 0$"
      ],
      "text/plain": [
       "0"
      ]
     },
     "metadata": {},
     "output_type": "display_data"
    },
    {
     "data": {
      "text/latex": [
       "$\\displaystyle \\left[\\begin{matrix}\\frac{1}{T_{1} T_{2}}\\\\1\\\\0\\end{matrix}\\right]$"
      ],
      "text/plain": [
       "Matrix([\n",
       "[1/(T1*T2)],\n",
       "[        1],\n",
       "[        0]])"
      ]
     },
     "metadata": {},
     "output_type": "display_data"
    },
    {
     "data": {
      "text/latex": [
       "$\\displaystyle \\frac{T_{1}^{2} \\omega_{max}}{2 \\tau_{max}} - \\frac{\\sqrt{m_{l} \\left(T_{1}^{4} T_{2}^{2} m_{l} \\omega_{max}^{2} + 4 \\tau_{max}^{2}\\right)}}{2 T_{2} m_{l} \\tau_{max}}$"
      ],
      "text/plain": [
       "T1**2*omega_max/(2*tau_max) - sqrt(m_l*(T1**4*T2**2*m_l*omega_max**2 + 4*tau_max**2))/(2*T2*m_l*tau_max)"
      ]
     },
     "metadata": {},
     "output_type": "display_data"
    },
    {
     "data": {
      "text/latex": [
       "$\\displaystyle \\left[\\begin{matrix}- \\frac{T_{1} T_{2} m_{l} \\omega_{max}}{\\tau_{max}}\\\\- \\frac{T_{1}^{2} T_{2}^{2} m_{l} \\omega_{max}}{\\tau_{max}} + T_{2}^{2} m_{l} \\left(\\frac{T_{1}^{2} \\omega_{max}}{2 \\tau_{max}} - \\frac{\\sqrt{m_{l} \\left(T_{1}^{4} T_{2}^{2} m_{l} \\omega_{max}^{2} + 4 \\tau_{max}^{2}\\right)}}{2 T_{2} m_{l} \\tau_{max}}\\right)\\\\1\\end{matrix}\\right]$"
      ],
      "text/plain": [
       "Matrix([\n",
       "[                                                                                                                             -T1*T2*m_l*omega_max/tau_max],\n",
       "[-T1**2*T2**2*m_l*omega_max/tau_max + T2**2*m_l*(T1**2*omega_max/(2*tau_max) - sqrt(m_l*(T1**4*T2**2*m_l*omega_max**2 + 4*tau_max**2))/(2*T2*m_l*tau_max))],\n",
       "[                                                                                                                                                        1]])"
      ]
     },
     "metadata": {},
     "output_type": "display_data"
    },
    {
     "data": {
      "text/latex": [
       "$\\displaystyle \\frac{T_{1}^{2} \\omega_{max}}{2 \\tau_{max}} + \\frac{\\sqrt{m_{l} \\left(T_{1}^{4} T_{2}^{2} m_{l} \\omega_{max}^{2} + 4 \\tau_{max}^{2}\\right)}}{2 T_{2} m_{l} \\tau_{max}}$"
      ],
      "text/plain": [
       "T1**2*omega_max/(2*tau_max) + sqrt(m_l*(T1**4*T2**2*m_l*omega_max**2 + 4*tau_max**2))/(2*T2*m_l*tau_max)"
      ]
     },
     "metadata": {},
     "output_type": "display_data"
    },
    {
     "data": {
      "text/latex": [
       "$\\displaystyle \\left[\\begin{matrix}- \\frac{T_{1} T_{2} m_{l} \\omega_{max}}{\\tau_{max}}\\\\- \\frac{T_{1}^{2} T_{2}^{2} m_{l} \\omega_{max}}{\\tau_{max}} + T_{2}^{2} m_{l} \\left(\\frac{T_{1}^{2} \\omega_{max}}{2 \\tau_{max}} + \\frac{\\sqrt{m_{l} \\left(T_{1}^{4} T_{2}^{2} m_{l} \\omega_{max}^{2} + 4 \\tau_{max}^{2}\\right)}}{2 T_{2} m_{l} \\tau_{max}}\\right)\\\\1\\end{matrix}\\right]$"
      ],
      "text/plain": [
       "Matrix([\n",
       "[                                                                                                                             -T1*T2*m_l*omega_max/tau_max],\n",
       "[-T1**2*T2**2*m_l*omega_max/tau_max + T2**2*m_l*(T1**2*omega_max/(2*tau_max) + sqrt(m_l*(T1**4*T2**2*m_l*omega_max**2 + 4*tau_max**2))/(2*T2*m_l*tau_max))],\n",
       "[                                                                                                                                                        1]])"
      ]
     },
     "metadata": {},
     "output_type": "display_data"
    }
   ],
   "source": [
    "eigs = A.eigenvects()\n",
    "for eig in eigs:\n",
    "    display(eig[0], eig[2][0])"
   ]
  },
  {
   "cell_type": "code",
   "execution_count": 88,
   "metadata": {},
   "outputs": [
    {
     "data": {
      "text/latex": [
       "$\\displaystyle \\frac{d}{d t} x_{a}{\\left(t \\right)} = \\frac{T_{1}^{2} \\omega_{max} x_{a}{\\left(t \\right)}}{\\tau_{max}} - \\frac{T_{1} \\omega_{max} x_{l}{\\left(t \\right)}}{T_{2} \\tau_{max}} + \\omega_{max}$"
      ],
      "text/plain": [
       "Eq(Derivative(x_a(t), t), T1**2*omega_max*x_a(t)/tau_max - T1*omega_max*x_l(t)/(T2*tau_max) + omega_max)"
      ]
     },
     "metadata": {},
     "output_type": "display_data"
    },
    {
     "data": {
      "text/latex": [
       "$\\displaystyle \\frac{d^{2}}{d t^{2}} x_{l}{\\left(t \\right)} = - \\frac{T_{1} x_{a}{\\left(t \\right)}}{T_{2} m_{l}} + \\frac{x_{l}{\\left(t \\right)}}{T_{2}^{2} m_{l}}$"
      ],
      "text/plain": [
       "Eq(Derivative(x_l(t), (t, 2)), -T1*x_a(t)/(T2*m_l) + x_l(t)/(T2**2*m_l))"
      ]
     },
     "metadata": {},
     "output_type": "display_data"
    },
    {
     "name": "stderr",
     "output_type": "stream",
     "text": [
      "/Library/Frameworks/Python.framework/Versions/3.11/lib/python3.11/site-packages/sympy/simplify/radsimp.py:1131: SymPyDeprecationWarning: \n",
      "\n",
      "Using non-Expr arguments in Mul is deprecated (in this case, one of\n",
      "the arguments has type 'Tuple').\n",
      "\n",
      "If you really did intend to use a multiplication or addition operation with\n",
      "this object, use the * or + operator instead.\n",
      "\n",
      "See https://docs.sympy.org/latest/explanation/active-deprecations.html#non-expr-args-deprecated\n",
      "for details.\n",
      "\n",
      "This has been deprecated since SymPy version 1.7. It\n",
      "will be removed in a future version of SymPy.\n",
      "\n",
      "  return Mul(*numer, evaluate=not exact), Mul(*denom, evaluate=not exact)\n"
     ]
    },
    {
     "data": {
      "text/latex": [
       "$\\displaystyle x_{a}{\\left(t \\right)} = \\frac{2 T_{1}^{2} T_{2}^{2} m_{l}^{2} \\omega_{max}^{2} \\tau_{max} \\left(T_{1}^{8} T_{2}^{4} m_{l}^{2} \\omega_{max}^{4} - T_{1}^{6} T_{2}^{3} m_{l} \\omega_{max}^{3} \\sqrt{m_{l} \\left(T_{1}^{4} T_{2}^{2} m_{l} \\omega_{max}^{2} + 4 \\tau_{max}^{2}\\right)} + 4 T_{1}^{4} T_{2}^{2} m_{l} \\omega_{max}^{2} \\tau_{max}^{2} - 2 T_{1}^{2} T_{2} \\omega_{max} \\tau_{max}^{2} \\sqrt{m_{l} \\left(T_{1}^{4} T_{2}^{2} m_{l} \\omega_{max}^{2} + 4 \\tau_{max}^{2}\\right)} + 2 \\tau_{max}^{4}\\right) e^{\\frac{t \\left(T_{1}^{2} T_{2} m_{l} \\omega_{max} - \\sqrt{T_{1}^{4} T_{2}^{2} m_{l}^{2} \\omega_{max}^{2} + 4 m_{l} \\tau_{max}^{2}}\\right)}{2 T_{2} m_{l} \\tau_{max}}}}{\\left(T_{1}^{2} T_{2} m_{l} \\omega_{max} - \\sqrt{T_{1}^{4} T_{2}^{2} m_{l}^{2} \\omega_{max}^{2} + 4 m_{l} \\tau_{max}^{2}}\\right) \\left(T_{1}^{10} T_{2}^{5} m_{l}^{3} \\omega_{max}^{5} - T_{1}^{8} T_{2}^{4} m_{l}^{2} \\omega_{max}^{4} \\sqrt{m_{l} \\left(T_{1}^{4} T_{2}^{2} m_{l} \\omega_{max}^{2} + 4 \\tau_{max}^{2}\\right)} + 6 T_{1}^{6} T_{2}^{3} m_{l}^{2} \\omega_{max}^{3} \\tau_{max}^{2} - 4 T_{1}^{4} T_{2}^{2} m_{l} \\omega_{max}^{2} \\tau_{max}^{2} \\sqrt{m_{l} \\left(T_{1}^{4} T_{2}^{2} m_{l} \\omega_{max}^{2} + 4 \\tau_{max}^{2}\\right)} + 8 T_{1}^{2} T_{2} m_{l} \\omega_{max} \\tau_{max}^{4} - 2 \\tau_{max}^{4} \\sqrt{m_{l} \\left(T_{1}^{4} T_{2}^{2} m_{l} \\omega_{max}^{2} + 4 \\tau_{max}^{2}\\right)}\\right)} - \\frac{2 T_{1}^{2} T_{2}^{2} m_{l} \\omega_{max}^{2} \\tau_{max} \\left(T_{1}^{2} T_{2} m_{l} \\omega_{max} - \\sqrt{m_{l} \\left(T_{1}^{4} T_{2}^{2} m_{l} \\omega_{max}^{2} + 4 \\tau_{max}^{2}\\right)}\\right) e^{\\frac{t \\left(T_{1}^{2} T_{2} m_{l} \\omega_{max} + \\sqrt{T_{1}^{4} T_{2}^{2} m_{l}^{2} \\omega_{max}^{2} + 4 m_{l} \\tau_{max}^{2}}\\right)}{2 T_{2} m_{l} \\tau_{max}}}}{\\left(T_{1}^{2} T_{2} m_{l} \\omega_{max} + \\sqrt{T_{1}^{4} T_{2}^{2} m_{l}^{2} \\omega_{max}^{2} + 4 m_{l} \\tau_{max}^{2}}\\right) \\left(T_{1}^{4} T_{2}^{2} m_{l} \\omega_{max}^{2} - T_{1}^{2} T_{2} \\omega_{max} \\sqrt{m_{l} \\left(T_{1}^{4} T_{2}^{2} m_{l} \\omega_{max}^{2} + 4 \\tau_{max}^{2}\\right)} + 4 \\tau_{max}^{2}\\right)} - \\frac{T_{1}^{2} T_{2} m_{l} \\omega_{max}^{2} \\left(\\begin{cases} - \\frac{2 T_{2} m_{l} \\tau_{max} e^{- \\frac{t \\left(T_{1}^{2} \\omega_{max} - \\frac{\\sqrt{m_{l} \\left(T_{1}^{4} T_{2}^{2} m_{l} \\omega_{max}^{2} + 4 \\tau_{max}^{2}\\right)}}{T_{2} m_{l}}\\right)}{2 \\tau_{max}}}}{T_{1}^{2} T_{2} m_{l} \\omega_{max} - \\sqrt{T_{1}^{4} T_{2}^{2} m_{l}^{2} \\omega_{max}^{2} + 4 m_{l} \\tau_{max}^{2}}} & \\text{for}\\: T_{1}^{2} T_{2} m_{l} \\omega_{max} - \\sqrt{T_{1}^{4} T_{2}^{2} m_{l}^{2} \\omega_{max}^{2} + 4 m_{l} \\tau_{max}^{2}} \\neq 0 \\\\t & \\text{otherwise} \\end{cases}\\right) e^{\\frac{t \\left(T_{1}^{2} T_{2} m_{l} \\omega_{max} - \\sqrt{T_{1}^{4} T_{2}^{2} m_{l}^{2} \\omega_{max}^{2} + 4 m_{l} \\tau_{max}^{2}}\\right)}{2 T_{2} m_{l} \\tau_{max}}}}{\\sqrt{m_{l} \\left(T_{1}^{4} T_{2}^{2} m_{l} \\omega_{max}^{2} + 4 \\tau_{max}^{2}\\right)}} + \\frac{T_{1}^{2} T_{2} m_{l} \\omega_{max}^{2} \\left(\\begin{cases} - \\frac{2 T_{2} m_{l} \\tau_{max} e^{- \\frac{t \\left(T_{1}^{2} \\omega_{max} + \\frac{\\sqrt{m_{l} \\left(T_{1}^{4} T_{2}^{2} m_{l} \\omega_{max}^{2} + 4 \\tau_{max}^{2}\\right)}}{T_{2} m_{l}}\\right)}{2 \\tau_{max}}}}{T_{1}^{2} T_{2} m_{l} \\omega_{max} + \\sqrt{T_{1}^{4} T_{2}^{2} m_{l}^{2} \\omega_{max}^{2} + 4 m_{l} \\tau_{max}^{2}}} & \\text{for}\\: T_{1}^{2} T_{2} m_{l} \\omega_{max} + \\sqrt{T_{1}^{4} T_{2}^{2} m_{l}^{2} \\omega_{max}^{2} + 4 m_{l} \\tau_{max}^{2}} \\neq 0 \\\\t & \\text{otherwise} \\end{cases}\\right) e^{\\frac{t \\left(T_{1}^{2} T_{2} m_{l} \\omega_{max} + \\sqrt{T_{1}^{4} T_{2}^{2} m_{l}^{2} \\omega_{max}^{2} + 4 m_{l} \\tau_{max}^{2}}\\right)}{2 T_{2} m_{l} \\tau_{max}}}}{\\sqrt{m_{l} \\left(T_{1}^{4} T_{2}^{2} m_{l} \\omega_{max}^{2} + 4 \\tau_{max}^{2}\\right)}} + \\omega_{max} t$"
      ],
      "text/plain": [
       "Eq(x_a(t), 2*T1**2*T2**2*m_l**2*omega_max**2*tau_max*(T1**8*T2**4*m_l**2*omega_max**4 - T1**6*T2**3*m_l*omega_max**3*sqrt(m_l*(T1**4*T2**2*m_l*omega_max**2 + 4*tau_max**2)) + 4*T1**4*T2**2*m_l*omega_max**2*tau_max**2 - 2*T1**2*T2*omega_max*tau_max**2*sqrt(m_l*(T1**4*T2**2*m_l*omega_max**2 + 4*tau_max**2)) + 2*tau_max**4)*exp(t*(T1**2*T2*m_l*omega_max - sqrt(T1**4*T2**2*m_l**2*omega_max**2 + 4*m_l*tau_max**2))/(2*T2*m_l*tau_max))/((T1**2*T2*m_l*omega_max - sqrt(T1**4*T2**2*m_l**2*omega_max**2 + 4*m_l*tau_max**2))*(T1**10*T2**5*m_l**3*omega_max**5 - T1**8*T2**4*m_l**2*omega_max**4*sqrt(m_l*(T1**4*T2**2*m_l*omega_max**2 + 4*tau_max**2)) + 6*T1**6*T2**3*m_l**2*omega_max**3*tau_max**2 - 4*T1**4*T2**2*m_l*omega_max**2*tau_max**2*sqrt(m_l*(T1**4*T2**2*m_l*omega_max**2 + 4*tau_max**2)) + 8*T1**2*T2*m_l*omega_max*tau_max**4 - 2*tau_max**4*sqrt(m_l*(T1**4*T2**2*m_l*omega_max**2 + 4*tau_max**2)))) - 2*T1**2*T2**2*m_l*omega_max**2*tau_max*(T1**2*T2*m_l*omega_max - sqrt(m_l*(T1**4*T2**2*m_l*omega_max**2 + 4*tau_max**2)))*exp(t*(T1**2*T2*m_l*omega_max + sqrt(T1**4*T2**2*m_l**2*omega_max**2 + 4*m_l*tau_max**2))/(2*T2*m_l*tau_max))/((T1**2*T2*m_l*omega_max + sqrt(T1**4*T2**2*m_l**2*omega_max**2 + 4*m_l*tau_max**2))*(T1**4*T2**2*m_l*omega_max**2 - T1**2*T2*omega_max*sqrt(m_l*(T1**4*T2**2*m_l*omega_max**2 + 4*tau_max**2)) + 4*tau_max**2)) - T1**2*T2*m_l*omega_max**2*Piecewise((-2*T2*m_l*tau_max*exp(-t*(T1**2*omega_max - sqrt(m_l*(T1**4*T2**2*m_l*omega_max**2 + 4*tau_max**2))/(T2*m_l))/(2*tau_max))/(T1**2*T2*m_l*omega_max - sqrt(T1**4*T2**2*m_l**2*omega_max**2 + 4*m_l*tau_max**2)), Ne(T1**2*T2*m_l*omega_max - sqrt(T1**4*T2**2*m_l**2*omega_max**2 + 4*m_l*tau_max**2), 0)), (t, True))*exp(t*(T1**2*T2*m_l*omega_max - sqrt(T1**4*T2**2*m_l**2*omega_max**2 + 4*m_l*tau_max**2))/(2*T2*m_l*tau_max))/sqrt(m_l*(T1**4*T2**2*m_l*omega_max**2 + 4*tau_max**2)) + T1**2*T2*m_l*omega_max**2*Piecewise((-2*T2*m_l*tau_max*exp(-t*(T1**2*omega_max + sqrt(m_l*(T1**4*T2**2*m_l*omega_max**2 + 4*tau_max**2))/(T2*m_l))/(2*tau_max))/(T1**2*T2*m_l*omega_max + sqrt(T1**4*T2**2*m_l**2*omega_max**2 + 4*m_l*tau_max**2)), Ne(T1**2*T2*m_l*omega_max + sqrt(T1**4*T2**2*m_l**2*omega_max**2 + 4*m_l*tau_max**2), 0)), (t, True))*exp(t*(T1**2*T2*m_l*omega_max + sqrt(T1**4*T2**2*m_l**2*omega_max**2 + 4*m_l*tau_max**2))/(2*T2*m_l*tau_max))/sqrt(m_l*(T1**4*T2**2*m_l*omega_max**2 + 4*tau_max**2)) + omega_max*t)"
      ]
     },
     "metadata": {},
     "output_type": "display_data"
    },
    {
     "data": {
      "text/latex": [
       "$\\displaystyle x_{l}{\\left(t \\right)} = - \\frac{4 T_{1} T_{2}^{2} m_{l}^{2} \\omega_{max} \\tau_{max}^{3} \\left(T_{1}^{8} T_{2}^{4} m_{l}^{2} \\omega_{max}^{4} - T_{1}^{6} T_{2}^{3} m_{l} \\omega_{max}^{3} \\sqrt{m_{l} \\left(T_{1}^{4} T_{2}^{2} m_{l} \\omega_{max}^{2} + 4 \\tau_{max}^{2}\\right)} + 4 T_{1}^{4} T_{2}^{2} m_{l} \\omega_{max}^{2} \\tau_{max}^{2} - 2 T_{1}^{2} T_{2} \\omega_{max} \\tau_{max}^{2} \\sqrt{m_{l} \\left(T_{1}^{4} T_{2}^{2} m_{l} \\omega_{max}^{2} + 4 \\tau_{max}^{2}\\right)} + 2 \\tau_{max}^{4}\\right) e^{\\frac{t \\left(T_{1}^{2} T_{2} m_{l} \\omega_{max} - \\sqrt{T_{1}^{4} T_{2}^{2} m_{l}^{2} \\omega_{max}^{2} + 4 m_{l} \\tau_{max}^{2}}\\right)}{2 T_{2} m_{l} \\tau_{max}}}}{\\left(T_{1}^{2} T_{2} m_{l} \\omega_{max} - \\sqrt{m_{l} \\left(T_{1}^{4} T_{2}^{2} m_{l} \\omega_{max}^{2} + 4 \\tau_{max}^{2}\\right)}\\right) \\left(T_{1}^{2} T_{2} m_{l} \\omega_{max} - \\sqrt{T_{1}^{4} T_{2}^{2} m_{l}^{2} \\omega_{max}^{2} + 4 m_{l} \\tau_{max}^{2}}\\right) \\left(T_{1}^{10} T_{2}^{5} m_{l}^{3} \\omega_{max}^{5} - T_{1}^{8} T_{2}^{4} m_{l}^{2} \\omega_{max}^{4} \\sqrt{m_{l} \\left(T_{1}^{4} T_{2}^{2} m_{l} \\omega_{max}^{2} + 4 \\tau_{max}^{2}\\right)} + 6 T_{1}^{6} T_{2}^{3} m_{l}^{2} \\omega_{max}^{3} \\tau_{max}^{2} - 4 T_{1}^{4} T_{2}^{2} m_{l} \\omega_{max}^{2} \\tau_{max}^{2} \\sqrt{m_{l} \\left(T_{1}^{4} T_{2}^{2} m_{l} \\omega_{max}^{2} + 4 \\tau_{max}^{2}\\right)} + 8 T_{1}^{2} T_{2} m_{l} \\omega_{max} \\tau_{max}^{4} - 2 \\tau_{max}^{4} \\sqrt{m_{l} \\left(T_{1}^{4} T_{2}^{2} m_{l} \\omega_{max}^{2} + 4 \\tau_{max}^{2}\\right)}\\right)} + \\frac{4 T_{1} T_{2}^{2} m_{l} \\omega_{max} \\tau_{max}^{3} \\left(T_{1}^{2} T_{2} m_{l} \\omega_{max} - \\sqrt{m_{l} \\left(T_{1}^{4} T_{2}^{2} m_{l} \\omega_{max}^{2} + 4 \\tau_{max}^{2}\\right)}\\right) e^{\\frac{t \\left(T_{1}^{2} T_{2} m_{l} \\omega_{max} + \\sqrt{T_{1}^{4} T_{2}^{2} m_{l}^{2} \\omega_{max}^{2} + 4 m_{l} \\tau_{max}^{2}}\\right)}{2 T_{2} m_{l} \\tau_{max}}}}{\\left(T_{1}^{2} T_{2} m_{l} \\omega_{max} + \\sqrt{m_{l} \\left(T_{1}^{4} T_{2}^{2} m_{l} \\omega_{max}^{2} + 4 \\tau_{max}^{2}\\right)}\\right) \\left(T_{1}^{2} T_{2} m_{l} \\omega_{max} + \\sqrt{T_{1}^{4} T_{2}^{2} m_{l}^{2} \\omega_{max}^{2} + 4 m_{l} \\tau_{max}^{2}}\\right) \\left(T_{1}^{4} T_{2}^{2} m_{l} \\omega_{max}^{2} - T_{1}^{2} T_{2} \\omega_{max} \\sqrt{m_{l} \\left(T_{1}^{4} T_{2}^{2} m_{l} \\omega_{max}^{2} + 4 \\tau_{max}^{2}\\right)} + 4 \\tau_{max}^{2}\\right)} - \\frac{2 T_{1} T_{2} m_{l} \\omega_{max} \\tau_{max}^{2} \\left(\\begin{cases} - \\frac{2 T_{2} m_{l} \\tau_{max} e^{- \\frac{t \\left(T_{1}^{2} \\omega_{max} + \\frac{\\sqrt{m_{l} \\left(T_{1}^{4} T_{2}^{2} m_{l} \\omega_{max}^{2} + 4 \\tau_{max}^{2}\\right)}}{T_{2} m_{l}}\\right)}{2 \\tau_{max}}}}{T_{1}^{2} T_{2} m_{l} \\omega_{max} + \\sqrt{T_{1}^{4} T_{2}^{2} m_{l}^{2} \\omega_{max}^{2} + 4 m_{l} \\tau_{max}^{2}}} & \\text{for}\\: T_{1}^{2} T_{2} m_{l} \\omega_{max} + \\sqrt{T_{1}^{4} T_{2}^{2} m_{l}^{2} \\omega_{max}^{2} + 4 m_{l} \\tau_{max}^{2}} \\neq 0 \\\\t & \\text{otherwise} \\end{cases}\\right) e^{\\frac{t \\left(T_{1}^{2} T_{2} m_{l} \\omega_{max} + \\sqrt{T_{1}^{4} T_{2}^{2} m_{l}^{2} \\omega_{max}^{2} + 4 m_{l} \\tau_{max}^{2}}\\right)}{2 T_{2} m_{l} \\tau_{max}}}}{\\sqrt{m_{l} \\left(T_{1}^{4} T_{2}^{2} m_{l} \\omega_{max}^{2} + 4 \\tau_{max}^{2}\\right)} \\left(T_{1}^{2} T_{2} m_{l} \\omega_{max} + \\sqrt{m_{l} \\left(T_{1}^{4} T_{2}^{2} m_{l} \\omega_{max}^{2} + 4 \\tau_{max}^{2}\\right)}\\right)} + \\frac{2 T_{1} T_{2} m_{l} \\omega_{max} \\tau_{max}^{2} \\left(\\begin{cases} - \\frac{2 T_{2} m_{l} \\tau_{max} e^{- \\frac{t \\left(T_{1}^{2} \\omega_{max} - \\frac{\\sqrt{m_{l} \\left(T_{1}^{4} T_{2}^{2} m_{l} \\omega_{max}^{2} + 4 \\tau_{max}^{2}\\right)}}{T_{2} m_{l}}\\right)}{2 \\tau_{max}}}}{T_{1}^{2} T_{2} m_{l} \\omega_{max} - \\sqrt{T_{1}^{4} T_{2}^{2} m_{l}^{2} \\omega_{max}^{2} + 4 m_{l} \\tau_{max}^{2}}} & \\text{for}\\: T_{1}^{2} T_{2} m_{l} \\omega_{max} - \\sqrt{T_{1}^{4} T_{2}^{2} m_{l}^{2} \\omega_{max}^{2} + 4 m_{l} \\tau_{max}^{2}} \\neq 0 \\\\t & \\text{otherwise} \\end{cases}\\right) e^{\\frac{t \\left(T_{1}^{2} T_{2} m_{l} \\omega_{max} - \\sqrt{T_{1}^{4} T_{2}^{2} m_{l}^{2} \\omega_{max}^{2} + 4 m_{l} \\tau_{max}^{2}}\\right)}{2 T_{2} m_{l} \\tau_{max}}}}{\\sqrt{m_{l} \\left(T_{1}^{4} T_{2}^{2} m_{l} \\omega_{max}^{2} + 4 \\tau_{max}^{2}\\right)} \\left(T_{1}^{2} T_{2} m_{l} \\omega_{max} - \\sqrt{m_{l} \\left(T_{1}^{4} T_{2}^{2} m_{l} \\omega_{max}^{2} + 4 \\tau_{max}^{2}\\right)}\\right)} + T_{1} T_{2} \\omega_{max} t$"
      ],
      "text/plain": [
       "Eq(x_l(t), -4*T1*T2**2*m_l**2*omega_max*tau_max**3*(T1**8*T2**4*m_l**2*omega_max**4 - T1**6*T2**3*m_l*omega_max**3*sqrt(m_l*(T1**4*T2**2*m_l*omega_max**2 + 4*tau_max**2)) + 4*T1**4*T2**2*m_l*omega_max**2*tau_max**2 - 2*T1**2*T2*omega_max*tau_max**2*sqrt(m_l*(T1**4*T2**2*m_l*omega_max**2 + 4*tau_max**2)) + 2*tau_max**4)*exp(t*(T1**2*T2*m_l*omega_max - sqrt(T1**4*T2**2*m_l**2*omega_max**2 + 4*m_l*tau_max**2))/(2*T2*m_l*tau_max))/((T1**2*T2*m_l*omega_max - sqrt(m_l*(T1**4*T2**2*m_l*omega_max**2 + 4*tau_max**2)))*(T1**2*T2*m_l*omega_max - sqrt(T1**4*T2**2*m_l**2*omega_max**2 + 4*m_l*tau_max**2))*(T1**10*T2**5*m_l**3*omega_max**5 - T1**8*T2**4*m_l**2*omega_max**4*sqrt(m_l*(T1**4*T2**2*m_l*omega_max**2 + 4*tau_max**2)) + 6*T1**6*T2**3*m_l**2*omega_max**3*tau_max**2 - 4*T1**4*T2**2*m_l*omega_max**2*tau_max**2*sqrt(m_l*(T1**4*T2**2*m_l*omega_max**2 + 4*tau_max**2)) + 8*T1**2*T2*m_l*omega_max*tau_max**4 - 2*tau_max**4*sqrt(m_l*(T1**4*T2**2*m_l*omega_max**2 + 4*tau_max**2)))) + 4*T1*T2**2*m_l*omega_max*tau_max**3*(T1**2*T2*m_l*omega_max - sqrt(m_l*(T1**4*T2**2*m_l*omega_max**2 + 4*tau_max**2)))*exp(t*(T1**2*T2*m_l*omega_max + sqrt(T1**4*T2**2*m_l**2*omega_max**2 + 4*m_l*tau_max**2))/(2*T2*m_l*tau_max))/((T1**2*T2*m_l*omega_max + sqrt(m_l*(T1**4*T2**2*m_l*omega_max**2 + 4*tau_max**2)))*(T1**2*T2*m_l*omega_max + sqrt(T1**4*T2**2*m_l**2*omega_max**2 + 4*m_l*tau_max**2))*(T1**4*T2**2*m_l*omega_max**2 - T1**2*T2*omega_max*sqrt(m_l*(T1**4*T2**2*m_l*omega_max**2 + 4*tau_max**2)) + 4*tau_max**2)) - 2*T1*T2*m_l*omega_max*tau_max**2*Piecewise((-2*T2*m_l*tau_max*exp(-t*(T1**2*omega_max + sqrt(m_l*(T1**4*T2**2*m_l*omega_max**2 + 4*tau_max**2))/(T2*m_l))/(2*tau_max))/(T1**2*T2*m_l*omega_max + sqrt(T1**4*T2**2*m_l**2*omega_max**2 + 4*m_l*tau_max**2)), Ne(T1**2*T2*m_l*omega_max + sqrt(T1**4*T2**2*m_l**2*omega_max**2 + 4*m_l*tau_max**2), 0)), (t, True))*exp(t*(T1**2*T2*m_l*omega_max + sqrt(T1**4*T2**2*m_l**2*omega_max**2 + 4*m_l*tau_max**2))/(2*T2*m_l*tau_max))/(sqrt(m_l*(T1**4*T2**2*m_l*omega_max**2 + 4*tau_max**2))*(T1**2*T2*m_l*omega_max + sqrt(m_l*(T1**4*T2**2*m_l*omega_max**2 + 4*tau_max**2)))) + 2*T1*T2*m_l*omega_max*tau_max**2*Piecewise((-2*T2*m_l*tau_max*exp(-t*(T1**2*omega_max - sqrt(m_l*(T1**4*T2**2*m_l*omega_max**2 + 4*tau_max**2))/(T2*m_l))/(2*tau_max))/(T1**2*T2*m_l*omega_max - sqrt(T1**4*T2**2*m_l**2*omega_max**2 + 4*m_l*tau_max**2)), Ne(T1**2*T2*m_l*omega_max - sqrt(T1**4*T2**2*m_l**2*omega_max**2 + 4*m_l*tau_max**2), 0)), (t, True))*exp(t*(T1**2*T2*m_l*omega_max - sqrt(T1**4*T2**2*m_l**2*omega_max**2 + 4*m_l*tau_max**2))/(2*T2*m_l*tau_max))/(sqrt(m_l*(T1**4*T2**2*m_l*omega_max**2 + 4*tau_max**2))*(T1**2*T2*m_l*omega_max - sqrt(m_l*(T1**4*T2**2*m_l*omega_max**2 + 4*tau_max**2)))) + T1*T2*omega_max*t)"
      ]
     },
     "metadata": {},
     "output_type": "display_data"
    }
   ],
   "source": [
    "from sympy.solvers.ode.systems import dsolve_system, linear_ode_to_matrix\n",
    "\n",
    "tau_max, omega_max = symbols(\"tau_max, omega_max\") #stall torque, free speed\n",
    "\n",
    "T1, T2, k, m_a, m_l = symbols('T1, T2, k, m_a, m_l')\n",
    "c0, c1, c2, c3, c4, c5, c6 = symbols('c:7')\n",
    "\n",
    "x_a, x_l = symbols(\"x_a x_l\", cls=Function)\n",
    "t = symbols('t')\n",
    "\n",
    "c1 = omega_max*T1**2 / tau_max\n",
    "c2 = -omega_max*T1 / (tau_max*T2)\n",
    "c3 = -T1 / (T2*m_l)\n",
    "c4 = 1 / (T2**2 * m_l)\n",
    "\n",
    "eqs = [\n",
    "    Eq(x_a(t).diff(t), c1*x_a(t) + c2*x_l(t) + omega_max), \n",
    "    Eq(x_l(t).diff(t).diff(t), c3*x_a(t) + c4*x_l(t))\n",
    "]\n",
    "display(eqs[0], eqs[1])\n",
    "\n",
    "# sol = dsolve_system(eqs)\n",
    "sol = dsolve_system(eqs, ics={x_a(0):0, x_l(0):0, x_l(t).diff(t).subs(t,0):0})\n",
    "\n",
    "x_a_eq = simplify(sol[0][0])\n",
    "x_l_eq = simplify(sol[0][1])\n",
    "display(x_a_eq, x_l_eq)\n",
    "\n",
    "\n",
    "\n",
    "# sol = dsolve_system(eqs, ics={x(0):0, y(0):0, x(t).diff(t).subs(t,0):0, y(t).diff(t).subs(t,0):0})\n",
    "# sol = dsolve_system(eqs)"
   ]
  },
  {
   "cell_type": "code",
   "execution_count": 89,
   "metadata": {},
   "outputs": [
    {
     "data": {
      "text/latex": [
       "$\\displaystyle x_{a}{\\left(t \\right)} = \\frac{2 T_{1}^{2} T_{2}^{2} m_{l}^{2} \\omega_{max}^{2} \\tau_{max} \\left(T_{1}^{8} T_{2}^{4} m_{l}^{2} \\omega_{max}^{4} - T_{1}^{6} T_{2}^{3} m_{l} \\omega_{max}^{3} \\sqrt{m_{l} \\left(T_{1}^{4} T_{2}^{2} m_{l} \\omega_{max}^{2} + 4 \\tau_{max}^{2}\\right)} + 4 T_{1}^{4} T_{2}^{2} m_{l} \\omega_{max}^{2} \\tau_{max}^{2} - 2 T_{1}^{2} T_{2} \\omega_{max} \\tau_{max}^{2} \\sqrt{m_{l} \\left(T_{1}^{4} T_{2}^{2} m_{l} \\omega_{max}^{2} + 4 \\tau_{max}^{2}\\right)} + 2 \\tau_{max}^{4}\\right) e^{\\frac{t \\left(T_{1}^{2} T_{2} m_{l} \\omega_{max} - \\sqrt{T_{1}^{4} T_{2}^{2} m_{l}^{2} \\omega_{max}^{2} + 4 m_{l} \\tau_{max}^{2}}\\right)}{2 T_{2} m_{l} \\tau_{max}}}}{\\left(T_{1}^{2} T_{2} m_{l} \\omega_{max} - \\sqrt{T_{1}^{4} T_{2}^{2} m_{l}^{2} \\omega_{max}^{2} + 4 m_{l} \\tau_{max}^{2}}\\right) \\left(T_{1}^{10} T_{2}^{5} m_{l}^{3} \\omega_{max}^{5} - T_{1}^{8} T_{2}^{4} m_{l}^{2} \\omega_{max}^{4} \\sqrt{m_{l} \\left(T_{1}^{4} T_{2}^{2} m_{l} \\omega_{max}^{2} + 4 \\tau_{max}^{2}\\right)} + 6 T_{1}^{6} T_{2}^{3} m_{l}^{2} \\omega_{max}^{3} \\tau_{max}^{2} - 4 T_{1}^{4} T_{2}^{2} m_{l} \\omega_{max}^{2} \\tau_{max}^{2} \\sqrt{m_{l} \\left(T_{1}^{4} T_{2}^{2} m_{l} \\omega_{max}^{2} + 4 \\tau_{max}^{2}\\right)} + 8 T_{1}^{2} T_{2} m_{l} \\omega_{max} \\tau_{max}^{4} - 2 \\tau_{max}^{4} \\sqrt{m_{l} \\left(T_{1}^{4} T_{2}^{2} m_{l} \\omega_{max}^{2} + 4 \\tau_{max}^{2}\\right)}\\right)} - \\frac{2 T_{1}^{2} T_{2}^{2} m_{l} \\omega_{max}^{2} \\tau_{max} \\left(T_{1}^{2} T_{2} m_{l} \\omega_{max} - \\sqrt{m_{l} \\left(T_{1}^{4} T_{2}^{2} m_{l} \\omega_{max}^{2} + 4 \\tau_{max}^{2}\\right)}\\right) e^{\\frac{t \\left(T_{1}^{2} T_{2} m_{l} \\omega_{max} + \\sqrt{T_{1}^{4} T_{2}^{2} m_{l}^{2} \\omega_{max}^{2} + 4 m_{l} \\tau_{max}^{2}}\\right)}{2 T_{2} m_{l} \\tau_{max}}}}{\\left(T_{1}^{2} T_{2} m_{l} \\omega_{max} + \\sqrt{T_{1}^{4} T_{2}^{2} m_{l}^{2} \\omega_{max}^{2} + 4 m_{l} \\tau_{max}^{2}}\\right) \\left(T_{1}^{4} T_{2}^{2} m_{l} \\omega_{max}^{2} - T_{1}^{2} T_{2} \\omega_{max} \\sqrt{m_{l} \\left(T_{1}^{4} T_{2}^{2} m_{l} \\omega_{max}^{2} + 4 \\tau_{max}^{2}\\right)} + 4 \\tau_{max}^{2}\\right)} - \\frac{T_{1}^{2} T_{2} m_{l} \\omega_{max}^{2} \\left(\\begin{cases} - \\frac{2 T_{2} m_{l} \\tau_{max} e^{- \\frac{t \\left(T_{1}^{2} \\omega_{max} - \\frac{\\sqrt{m_{l} \\left(T_{1}^{4} T_{2}^{2} m_{l} \\omega_{max}^{2} + 4 \\tau_{max}^{2}\\right)}}{T_{2} m_{l}}\\right)}{2 \\tau_{max}}}}{T_{1}^{2} T_{2} m_{l} \\omega_{max} - \\sqrt{T_{1}^{4} T_{2}^{2} m_{l}^{2} \\omega_{max}^{2} + 4 m_{l} \\tau_{max}^{2}}} & \\text{for}\\: T_{1}^{2} T_{2} m_{l} \\omega_{max} - \\sqrt{T_{1}^{4} T_{2}^{2} m_{l}^{2} \\omega_{max}^{2} + 4 m_{l} \\tau_{max}^{2}} \\neq 0 \\\\t & \\text{otherwise} \\end{cases}\\right) e^{\\frac{t \\left(T_{1}^{2} T_{2} m_{l} \\omega_{max} - \\sqrt{T_{1}^{4} T_{2}^{2} m_{l}^{2} \\omega_{max}^{2} + 4 m_{l} \\tau_{max}^{2}}\\right)}{2 T_{2} m_{l} \\tau_{max}}}}{\\sqrt{m_{l} \\left(T_{1}^{4} T_{2}^{2} m_{l} \\omega_{max}^{2} + 4 \\tau_{max}^{2}\\right)}} + \\frac{T_{1}^{2} T_{2} m_{l} \\omega_{max}^{2} \\left(\\begin{cases} - \\frac{2 T_{2} m_{l} \\tau_{max} e^{- \\frac{t \\left(T_{1}^{2} \\omega_{max} + \\frac{\\sqrt{m_{l} \\left(T_{1}^{4} T_{2}^{2} m_{l} \\omega_{max}^{2} + 4 \\tau_{max}^{2}\\right)}}{T_{2} m_{l}}\\right)}{2 \\tau_{max}}}}{T_{1}^{2} T_{2} m_{l} \\omega_{max} + \\sqrt{T_{1}^{4} T_{2}^{2} m_{l}^{2} \\omega_{max}^{2} + 4 m_{l} \\tau_{max}^{2}}} & \\text{for}\\: T_{1}^{2} T_{2} m_{l} \\omega_{max} + \\sqrt{T_{1}^{4} T_{2}^{2} m_{l}^{2} \\omega_{max}^{2} + 4 m_{l} \\tau_{max}^{2}} \\neq 0 \\\\t & \\text{otherwise} \\end{cases}\\right) e^{\\frac{t \\left(T_{1}^{2} T_{2} m_{l} \\omega_{max} + \\sqrt{T_{1}^{4} T_{2}^{2} m_{l}^{2} \\omega_{max}^{2} + 4 m_{l} \\tau_{max}^{2}}\\right)}{2 T_{2} m_{l} \\tau_{max}}}}{\\sqrt{m_{l} \\left(T_{1}^{4} T_{2}^{2} m_{l} \\omega_{max}^{2} + 4 \\tau_{max}^{2}\\right)}} + \\omega_{max} t$"
      ],
      "text/plain": [
       "Eq(x_a(t), 2*T1**2*T2**2*m_l**2*omega_max**2*tau_max*(T1**8*T2**4*m_l**2*omega_max**4 - T1**6*T2**3*m_l*omega_max**3*sqrt(m_l*(T1**4*T2**2*m_l*omega_max**2 + 4*tau_max**2)) + 4*T1**4*T2**2*m_l*omega_max**2*tau_max**2 - 2*T1**2*T2*omega_max*tau_max**2*sqrt(m_l*(T1**4*T2**2*m_l*omega_max**2 + 4*tau_max**2)) + 2*tau_max**4)*exp(t*(T1**2*T2*m_l*omega_max - sqrt(T1**4*T2**2*m_l**2*omega_max**2 + 4*m_l*tau_max**2))/(2*T2*m_l*tau_max))/((T1**2*T2*m_l*omega_max - sqrt(T1**4*T2**2*m_l**2*omega_max**2 + 4*m_l*tau_max**2))*(T1**10*T2**5*m_l**3*omega_max**5 - T1**8*T2**4*m_l**2*omega_max**4*sqrt(m_l*(T1**4*T2**2*m_l*omega_max**2 + 4*tau_max**2)) + 6*T1**6*T2**3*m_l**2*omega_max**3*tau_max**2 - 4*T1**4*T2**2*m_l*omega_max**2*tau_max**2*sqrt(m_l*(T1**4*T2**2*m_l*omega_max**2 + 4*tau_max**2)) + 8*T1**2*T2*m_l*omega_max*tau_max**4 - 2*tau_max**4*sqrt(m_l*(T1**4*T2**2*m_l*omega_max**2 + 4*tau_max**2)))) - 2*T1**2*T2**2*m_l*omega_max**2*tau_max*(T1**2*T2*m_l*omega_max - sqrt(m_l*(T1**4*T2**2*m_l*omega_max**2 + 4*tau_max**2)))*exp(t*(T1**2*T2*m_l*omega_max + sqrt(T1**4*T2**2*m_l**2*omega_max**2 + 4*m_l*tau_max**2))/(2*T2*m_l*tau_max))/((T1**2*T2*m_l*omega_max + sqrt(T1**4*T2**2*m_l**2*omega_max**2 + 4*m_l*tau_max**2))*(T1**4*T2**2*m_l*omega_max**2 - T1**2*T2*omega_max*sqrt(m_l*(T1**4*T2**2*m_l*omega_max**2 + 4*tau_max**2)) + 4*tau_max**2)) - T1**2*T2*m_l*omega_max**2*Piecewise((-2*T2*m_l*tau_max*exp(-t*(T1**2*omega_max - sqrt(m_l*(T1**4*T2**2*m_l*omega_max**2 + 4*tau_max**2))/(T2*m_l))/(2*tau_max))/(T1**2*T2*m_l*omega_max - sqrt(T1**4*T2**2*m_l**2*omega_max**2 + 4*m_l*tau_max**2)), Ne(T1**2*T2*m_l*omega_max - sqrt(T1**4*T2**2*m_l**2*omega_max**2 + 4*m_l*tau_max**2), 0)), (t, True))*exp(t*(T1**2*T2*m_l*omega_max - sqrt(T1**4*T2**2*m_l**2*omega_max**2 + 4*m_l*tau_max**2))/(2*T2*m_l*tau_max))/sqrt(m_l*(T1**4*T2**2*m_l*omega_max**2 + 4*tau_max**2)) + T1**2*T2*m_l*omega_max**2*Piecewise((-2*T2*m_l*tau_max*exp(-t*(T1**2*omega_max + sqrt(m_l*(T1**4*T2**2*m_l*omega_max**2 + 4*tau_max**2))/(T2*m_l))/(2*tau_max))/(T1**2*T2*m_l*omega_max + sqrt(T1**4*T2**2*m_l**2*omega_max**2 + 4*m_l*tau_max**2)), Ne(T1**2*T2*m_l*omega_max + sqrt(T1**4*T2**2*m_l**2*omega_max**2 + 4*m_l*tau_max**2), 0)), (t, True))*exp(t*(T1**2*T2*m_l*omega_max + sqrt(T1**4*T2**2*m_l**2*omega_max**2 + 4*m_l*tau_max**2))/(2*T2*m_l*tau_max))/sqrt(m_l*(T1**4*T2**2*m_l*omega_max**2 + 4*tau_max**2)) + omega_max*t)"
      ]
     },
     "execution_count": 89,
     "metadata": {},
     "output_type": "execute_result"
    }
   ],
   "source": [
    "x_a_eq"
   ]
  },
  {
   "cell_type": "code",
   "execution_count": 97,
   "metadata": {},
   "outputs": [
    {
     "name": "stdout",
     "output_type": "stream",
     "text": [
      "T1 = Symbol('T1')\n",
      "T2 = Symbol('T2')\n",
      "m_l = Symbol('m_l')\n",
      "omega_max = Symbol('omega_max')\n",
      "tau_max = Symbol('tau_max')\n",
      "t = Symbol('t')\n",
      "e = 2*T1**2*T2**2*m_l**2*omega_max**2*tau_max*(T1**8*T2**4*m_l**2*omega_max**4 - T1**6*T2**3*m_l*omega_max**3*sqrt(m_l*(T1**4*T2**2*m_l*omega_max**2 + 4*tau_max**2)) + 4*T1**4*T2**2*m_l*omega_max**2*tau_max**2 - 2*T1**2*T2*omega_max*tau_max**2*sqrt(m_l*(T1**4*T2**2*m_l*omega_max**2 + 4*tau_max**2)) + 2*tau_max**4)*exp(t*(T1**2*T2*m_l*omega_max - sqrt(T1**4*T2**2*m_l**2*omega_max**2 + 4*m_l*tau_max**2))/(2*T2*m_l*tau_max))/((T1**2*T2*m_l*omega_max - sqrt(T1**4*T2**2*m_l**2*omega_max**2 + 4*m_l*tau_max**2))*(T1**10*T2**5*m_l**3*omega_max**5 - T1**8*T2**4*m_l**2*omega_max**4*sqrt(m_l*(T1**4*T2**2*m_l*omega_max**2 + 4*tau_max**2)) + 6*T1**6*T2**3*m_l**2*omega_max**3*tau_max**2 - 4*T1**4*T2**2*m_l*omega_max**2*tau_max**2*sqrt(m_l*(T1**4*T2**2*m_l*omega_max**2 + 4*tau_max**2)) + 8*T1**2*T2*m_l*omega_max*tau_max**4 - 2*tau_max**4*sqrt(m_l*(T1**4*T2**2*m_l*omega_max**2 + 4*tau_max**2)))) - 2*T1**2*T2**2*m_l*omega_max**2*tau_max*(T1**2*T2*m_l*omega_max - sqrt(m_l*(T1**4*T2**2*m_l*omega_max**2 + 4*tau_max**2)))*exp(t*(T1**2*T2*m_l*omega_max + sqrt(T1**4*T2**2*m_l**2*omega_max**2 + 4*m_l*tau_max**2))/(2*T2*m_l*tau_max))/((T1**2*T2*m_l*omega_max + sqrt(T1**4*T2**2*m_l**2*omega_max**2 + 4*m_l*tau_max**2))*(T1**4*T2**2*m_l*omega_max**2 - T1**2*T2*omega_max*sqrt(m_l*(T1**4*T2**2*m_l*omega_max**2 + 4*tau_max**2)) + 4*tau_max**2)) - T1**2*T2*m_l*omega_max**2*Piecewise((-2*T2*m_l*tau_max*exp(-t*(T1**2*omega_max - sqrt(m_l*(T1**4*T2**2*m_l*omega_max**2 + 4*tau_max**2))/(T2*m_l))/(2*tau_max))/(T1**2*T2*m_l*omega_max - sqrt(T1**4*T2**2*m_l**2*omega_max**2 + 4*m_l*tau_max**2)), Ne(T1**2*T2*m_l*omega_max - sqrt(T1**4*T2**2*m_l**2*omega_max**2 + 4*m_l*tau_max**2), 0)), (t, true))*exp(t*(T1**2*T2*m_l*omega_max - sqrt(T1**4*T2**2*m_l**2*omega_max**2 + 4*m_l*tau_max**2))/(2*T2*m_l*tau_max))/sqrt(m_l*(T1**4*T2**2*m_l*omega_max**2 + 4*tau_max**2)) + T1**2*T2*m_l*omega_max**2*Piecewise((-2*T2*m_l*tau_max*exp(-t*(T1**2*omega_max + sqrt(m_l*(T1**4*T2**2*m_l*omega_max**2 + 4*tau_max**2))/(T2*m_l))/(2*tau_max))/(T1**2*T2*m_l*omega_max + sqrt(T1**4*T2**2*m_l**2*omega_max**2 + 4*m_l*tau_max**2)), Ne(T1**2*T2*m_l*omega_max + sqrt(T1**4*T2**2*m_l**2*omega_max**2 + 4*m_l*tau_max**2), 0)), (t, true))*exp(t*(T1**2*T2*m_l*omega_max + sqrt(T1**4*T2**2*m_l**2*omega_max**2 + 4*m_l*tau_max**2))/(2*T2*m_l*tau_max))/sqrt(m_l*(T1**4*T2**2*m_l*omega_max**2 + 4*tau_max**2)) + omega_max*t\n"
     ]
    }
   ],
   "source": [
    "print(python(x_a_eq.rhs))"
   ]
  },
  {
   "cell_type": "code",
   "execution_count": 128,
   "metadata": {},
   "outputs": [
    {
     "data": {
      "text/latex": [
       "$\\displaystyle \\left[\\begin{matrix}0.422350505394236\\\\0.243654338328522\\\\0.94354940677872\\end{matrix}\\right]$"
      ],
      "text/plain": [
       "Matrix([\n",
       "[0.422350505394236],\n",
       "[0.243654338328522],\n",
       "[ 0.94354940677872]])"
      ]
     },
     "metadata": {},
     "output_type": "display_data"
    },
    {
     "name": "stdout",
     "output_type": "stream",
     "text": [
      "10\n"
     ]
    },
    {
     "data": {
      "text/latex": [
       "$\\displaystyle \\left[\\begin{matrix}\\frac{0.422350505394236 T_{1}^{2} \\omega_{max} t}{\\tau_{max}} - \\frac{0.243654338328522 T_{1} \\omega_{max} t}{T_{2} \\tau_{max}}\\\\0.94354940677872 t\\\\- \\frac{0.422350505394236 T_{1} t}{T_{2} m_{l}} + \\frac{0.243654338328522 t}{T_{2}^{2} m_{l}}\\end{matrix}\\right]$"
      ],
      "text/plain": [
       "Matrix([\n",
       "[0.422350505394236*T1**2*omega_max*t/tau_max - 0.243654338328522*T1*omega_max*t/(T2*tau_max)],\n",
       "[                                                                         0.94354940677872*t],\n",
       "[                         -0.422350505394236*T1*t/(T2*m_l) + 0.243654338328522*t/(T2**2*m_l)]])"
      ]
     },
     "execution_count": 128,
     "metadata": {},
     "output_type": "execute_result"
    }
   ],
   "source": [
    "Xi = Matrix(np.random.random(3))\n",
    "display(Xi)\n",
    "print(count_ops(A*t*X))\n",
    "A*t*Xi"
   ]
  }
 ],
 "metadata": {
  "kernelspec": {
   "display_name": "Python 3",
   "language": "python",
   "name": "python3"
  },
  "language_info": {
   "codemirror_mode": {
    "name": "ipython",
    "version": 3
   },
   "file_extension": ".py",
   "mimetype": "text/x-python",
   "name": "python",
   "nbconvert_exporter": "python",
   "pygments_lexer": "ipython3",
   "version": "3.11.4"
  },
  "orig_nbformat": 4
 },
 "nbformat": 4,
 "nbformat_minor": 2
}
