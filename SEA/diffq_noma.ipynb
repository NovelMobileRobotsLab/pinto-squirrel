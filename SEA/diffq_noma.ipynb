{
 "cells": [
  {
   "cell_type": "code",
   "execution_count": 255,
   "metadata": {},
   "outputs": [
    {
     "data": {
      "text/latex": [
       "$\\displaystyle \\left[\\begin{matrix}- \\frac{T_{1}^{2} k \\omega_{max}}{\\tau_{max}} & \\frac{T_{1} k \\omega_{max}}{T_{2} \\tau_{max}} & 0\\\\0 & 0 & 1\\\\\\frac{T_{1} k}{T_{2} m_{l}} & - \\frac{k}{T_{2}^{2} m_{l}} & 0\\end{matrix}\\right]$"
      ],
      "text/plain": [
       "Matrix([\n",
       "[-T1**2*k*omega_max/tau_max, T1*k*omega_max/(T2*tau_max), 0],\n",
       "[                         0,                           0, 1],\n",
       "[             T1*k/(T2*m_l),              -k/(T2**2*m_l), 0]])"
      ]
     },
     "metadata": {},
     "output_type": "display_data"
    },
    {
     "data": {
      "text/latex": [
       "$\\displaystyle \\left[\\begin{matrix}\\omega_{max}\\\\0\\\\0\\end{matrix}\\right]$"
      ],
      "text/plain": [
       "Matrix([\n",
       "[omega_max],\n",
       "[        0],\n",
       "[        0]])"
      ]
     },
     "metadata": {},
     "output_type": "display_data"
    }
   ],
   "source": [
    "from sympy import *\n",
    "from sympy.solvers.ode.systems import linodesolve\n",
    "\n",
    "# tau_s = 0.1 #N*m\n",
    "# omega_f = 1000 #about 10,000rpm\n",
    "\n",
    "tau_max, omega_max = symbols(\"tau_max, omega_max\") #stall torque, free speed\n",
    "# free_speed = 1000 #about 10,000rpm\n",
    "\n",
    "\n",
    "T1, T2, k, m_a, m_l, k = symbols('T1, T2, k, m_a, m_l, k')\n",
    "c0, c1, c2, c3, c4, c5, c6 = symbols('c:7')\n",
    "\n",
    "t = symbols('t')\n",
    "\n",
    "c1 = -k * T1**2 * omega_max / tau_max\n",
    "c2 = k * T1 * omega_max / (tau_max * T2)\n",
    "c3 = k * T1 / (T2 * m_l)\n",
    "c4 = -k / (T2**2 * m_l)\n",
    "\n",
    "\n",
    "A = Matrix([\n",
    "    [c1, c2, 0],\n",
    "    [0, 0, 1],\n",
    "    [c3, c4, 0],\n",
    "])\n",
    "b = Matrix([omega_max, 0, 0])\n",
    "\n",
    "display(A, b)"
   ]
  },
  {
   "cell_type": "code",
   "execution_count": 403,
   "metadata": {},
   "outputs": [
    {
     "data": {
      "text/latex": [
       "$\\displaystyle \\frac{Dummy_{44063}}{T_{1} T_{2}} - \\frac{Dummy_{44064} T_{1} T_{2} m_{l} \\omega_{max} e^{- \\frac{T_{1}^{2} k \\omega_{max} t}{2 \\tau_{max}} - \\frac{t \\sqrt{T_{1}^{4} T_{2}^{2} k^{2} m_{l}^{2} \\omega_{max}^{2} - 4 k m_{l} \\tau_{max}^{2}}}{2 T_{2} m_{l} \\tau_{max}}}}{\\tau_{max}} - \\frac{Dummy_{44065} T_{1} T_{2} m_{l} \\omega_{max} e^{- \\frac{T_{1}^{2} k \\omega_{max} t}{2 \\tau_{max}} + \\frac{t \\sqrt{T_{1}^{4} T_{2}^{2} k^{2} m_{l}^{2} \\omega_{max}^{2} - 4 k m_{l} \\tau_{max}^{2}}}{2 T_{2} m_{l} \\tau_{max}}}}{\\tau_{max}} - \\frac{T_{1}^{2} T_{2}^{2} m_{l} \\omega_{max}^{2}}{\\tau_{max}} + \\omega_{max} t$"
      ],
      "text/plain": [
       "_Dummy_44063/(T1*T2) - _Dummy_44064*T1*T2*m_l*omega_max*exp(-T1**2*k*omega_max*t/(2*tau_max) - t*sqrt(T1**4*T2**2*k**2*m_l**2*omega_max**2 - 4*k*m_l*tau_max**2)/(2*T2*m_l*tau_max))/tau_max - _Dummy_44065*T1*T2*m_l*omega_max*exp(-T1**2*k*omega_max*t/(2*tau_max) + t*sqrt(T1**4*T2**2*k**2*m_l**2*omega_max**2 - 4*k*m_l*tau_max**2)/(2*T2*m_l*tau_max))/tau_max - T1**2*T2**2*m_l*omega_max**2/tau_max + omega_max*t"
      ]
     },
     "metadata": {},
     "output_type": "display_data"
    },
    {
     "data": {
      "text/latex": [
       "$\\displaystyle Dummy_{44063} - \\frac{Dummy_{44064} T_{1}^{2} T_{2}^{2} m_{l} \\omega_{max} e^{- \\frac{T_{1}^{2} k \\omega_{max} t}{2 \\tau_{max}} - \\frac{t \\sqrt{T_{1}^{4} T_{2}^{2} k^{2} m_{l}^{2} \\omega_{max}^{2} - 4 k m_{l} \\tau_{max}^{2}}}{2 T_{2} m_{l} \\tau_{max}}}}{2 \\tau_{max}} + \\frac{Dummy_{44064} T_{2} \\sqrt{T_{1}^{4} T_{2}^{2} k^{2} m_{l}^{2} \\omega_{max}^{2} - 4 k m_{l} \\tau_{max}^{2}} e^{- \\frac{T_{1}^{2} k \\omega_{max} t}{2 \\tau_{max}} - \\frac{t \\sqrt{T_{1}^{4} T_{2}^{2} k^{2} m_{l}^{2} \\omega_{max}^{2} - 4 k m_{l} \\tau_{max}^{2}}}{2 T_{2} m_{l} \\tau_{max}}}}{2 k \\tau_{max}} - \\frac{Dummy_{44065} T_{1}^{2} T_{2}^{2} m_{l} \\omega_{max} e^{- \\frac{T_{1}^{2} k \\omega_{max} t}{2 \\tau_{max}} + \\frac{t \\sqrt{T_{1}^{4} T_{2}^{2} k^{2} m_{l}^{2} \\omega_{max}^{2} - 4 k m_{l} \\tau_{max}^{2}}}{2 T_{2} m_{l} \\tau_{max}}}}{2 \\tau_{max}} - \\frac{Dummy_{44065} T_{2} \\sqrt{T_{1}^{4} T_{2}^{2} k^{2} m_{l}^{2} \\omega_{max}^{2} - 4 k m_{l} \\tau_{max}^{2}} e^{- \\frac{T_{1}^{2} k \\omega_{max} t}{2 \\tau_{max}} + \\frac{t \\sqrt{T_{1}^{4} T_{2}^{2} k^{2} m_{l}^{2} \\omega_{max}^{2} - 4 k m_{l} \\tau_{max}^{2}}}{2 T_{2} m_{l} \\tau_{max}}}}{2 k \\tau_{max}} - \\frac{T_{1}^{3} T_{2}^{3} m_{l} \\omega_{max}^{2}}{\\tau_{max}} + T_{1} T_{2} \\omega_{max} t$"
      ],
      "text/plain": [
       "_Dummy_44063 - _Dummy_44064*T1**2*T2**2*m_l*omega_max*exp(-T1**2*k*omega_max*t/(2*tau_max) - t*sqrt(T1**4*T2**2*k**2*m_l**2*omega_max**2 - 4*k*m_l*tau_max**2)/(2*T2*m_l*tau_max))/(2*tau_max) + _Dummy_44064*T2*sqrt(T1**4*T2**2*k**2*m_l**2*omega_max**2 - 4*k*m_l*tau_max**2)*exp(-T1**2*k*omega_max*t/(2*tau_max) - t*sqrt(T1**4*T2**2*k**2*m_l**2*omega_max**2 - 4*k*m_l*tau_max**2)/(2*T2*m_l*tau_max))/(2*k*tau_max) - _Dummy_44065*T1**2*T2**2*m_l*omega_max*exp(-T1**2*k*omega_max*t/(2*tau_max) + t*sqrt(T1**4*T2**2*k**2*m_l**2*omega_max**2 - 4*k*m_l*tau_max**2)/(2*T2*m_l*tau_max))/(2*tau_max) - _Dummy_44065*T2*sqrt(T1**4*T2**2*k**2*m_l**2*omega_max**2 - 4*k*m_l*tau_max**2)*exp(-T1**2*k*omega_max*t/(2*tau_max) + t*sqrt(T1**4*T2**2*k**2*m_l**2*omega_max**2 - 4*k*m_l*tau_max**2)/(2*T2*m_l*tau_max))/(2*k*tau_max) - T1**3*T2**3*m_l*omega_max**2/tau_max + T1*T2*omega_max*t"
      ]
     },
     "metadata": {},
     "output_type": "display_data"
    },
    {
     "data": {
      "text/latex": [
       "$\\displaystyle Dummy_{44064} e^{- \\frac{T_{1}^{2} k \\omega_{max} t}{2 \\tau_{max}} - \\frac{t \\sqrt{T_{1}^{4} T_{2}^{2} k^{2} m_{l}^{2} \\omega_{max}^{2} - 4 k m_{l} \\tau_{max}^{2}}}{2 T_{2} m_{l} \\tau_{max}}} + Dummy_{44065} e^{- \\frac{T_{1}^{2} k \\omega_{max} t}{2 \\tau_{max}} + \\frac{t \\sqrt{T_{1}^{4} T_{2}^{2} k^{2} m_{l}^{2} \\omega_{max}^{2} - 4 k m_{l} \\tau_{max}^{2}}}{2 T_{2} m_{l} \\tau_{max}}} + T_{1} T_{2} \\omega_{max}$"
      ],
      "text/plain": [
       "_Dummy_44064*exp(-T1**2*k*omega_max*t/(2*tau_max) - t*sqrt(T1**4*T2**2*k**2*m_l**2*omega_max**2 - 4*k*m_l*tau_max**2)/(2*T2*m_l*tau_max)) + _Dummy_44065*exp(-T1**2*k*omega_max*t/(2*tau_max) + t*sqrt(T1**4*T2**2*k**2*m_l**2*omega_max**2 - 4*k*m_l*tau_max**2)/(2*T2*m_l*tau_max)) + T1*T2*omega_max"
      ]
     },
     "metadata": {},
     "output_type": "display_data"
    }
   ],
   "source": [
    "linsol = linodesolve(A, t, b=b)\n",
    "\n",
    "for i in range(3):\n",
    "    linsol[i] = linsol[i].doit(conds='none')\n",
    "    linsol[i] = simplify(linsol[i])\n",
    "    display(linsol[i])"
   ]
  },
  {
   "cell_type": "code",
   "execution_count": 404,
   "metadata": {},
   "outputs": [
    {
     "data": {
      "text/plain": [
       "[_Dummy_44063, _Dummy_44065, _Dummy_44064]"
      ]
     },
     "execution_count": 404,
     "metadata": {},
     "output_type": "execute_result"
    }
   ],
   "source": [
    "dum_syms = []\n",
    "freesyms = list(linsol[0].free_symbols) + list(linsol[1].free_symbols) + list(linsol[2].free_symbols)\n",
    "for freesym in freesyms:\n",
    "    if freesym.name.startswith('Dummy') and not freesym in dum_syms:\n",
    "        dum_syms.append(freesym)\n",
    "dum_syms"
   ]
  },
  {
   "cell_type": "code",
   "execution_count": 407,
   "metadata": {},
   "outputs": [
    {
     "data": {
      "text/latex": [
       "$\\displaystyle \\left[\\begin{matrix}\\frac{1}{T_{1} T_{2}} & - \\frac{T_{1} T_{2} m_{l} \\omega_{max}}{\\tau_{max}} & - \\frac{T_{1} T_{2} m_{l} \\omega_{max}}{\\tau_{max}}\\\\1 & \\frac{T_{2} \\left(- T_{1}^{2} T_{2} k m_{l} \\omega_{max} - \\sqrt{k m_{l} \\left(T_{1}^{4} T_{2}^{2} k m_{l} \\omega_{max}^{2} - 4 \\tau_{max}^{2}\\right)}\\right)}{2 k \\tau_{max}} & \\frac{T_{2} \\left(- T_{1}^{2} T_{2} k m_{l} \\omega_{max} + \\sqrt{k m_{l} \\left(T_{1}^{4} T_{2}^{2} k m_{l} \\omega_{max}^{2} - 4 \\tau_{max}^{2}\\right)}\\right)}{2 k \\tau_{max}}\\\\0 & 1 & 1\\end{matrix}\\right]$"
      ],
      "text/plain": [
       "Matrix([\n",
       "[1/(T1*T2),                                                                               -T1*T2*m_l*omega_max/tau_max,                                                                               -T1*T2*m_l*omega_max/tau_max],\n",
       "[        1, T2*(-T1**2*T2*k*m_l*omega_max - sqrt(k*m_l*(T1**4*T2**2*k*m_l*omega_max**2 - 4*tau_max**2)))/(2*k*tau_max), T2*(-T1**2*T2*k*m_l*omega_max + sqrt(k*m_l*(T1**4*T2**2*k*m_l*omega_max**2 - 4*tau_max**2)))/(2*k*tau_max)],\n",
       "[        0,                                                                                                          1,                                                                                                          1]])"
      ]
     },
     "metadata": {},
     "output_type": "display_data"
    },
    {
     "data": {
      "text/latex": [
       "$\\displaystyle \\left[\\begin{matrix}T_{1} T_{2} & 0 & \\frac{T_{1}^{2} T_{2}^{2} m_{l} \\omega_{max}}{\\tau_{max}}\\\\\\frac{T_{1} k \\tau_{max}}{\\sqrt{k m_{l} \\left(T_{1}^{4} T_{2}^{2} k m_{l} \\omega_{max}^{2} - 4 \\tau_{max}^{2}\\right)}} & - \\frac{k \\tau_{max}}{T_{2} \\sqrt{k m_{l} \\left(T_{1}^{4} T_{2}^{2} k m_{l} \\omega_{max}^{2} - 4 \\tau_{max}^{2}\\right)}} & \\frac{T_{1}^{2} T_{2} k m_{l} \\omega_{max}}{2 \\sqrt{T_{1}^{4} T_{2}^{2} k^{2} m_{l}^{2} \\omega_{max}^{2} - 4 k m_{l} \\tau_{max}^{2}}} + \\frac{1}{2}\\\\- \\frac{T_{1} k \\tau_{max}}{\\sqrt{k m_{l} \\left(T_{1}^{4} T_{2}^{2} k m_{l} \\omega_{max}^{2} - 4 \\tau_{max}^{2}\\right)}} & \\frac{k \\tau_{max}}{T_{2} \\sqrt{k m_{l} \\left(T_{1}^{4} T_{2}^{2} k m_{l} \\omega_{max}^{2} - 4 \\tau_{max}^{2}\\right)}} & - \\frac{T_{1}^{2} T_{2} k m_{l} \\omega_{max}}{2 \\sqrt{T_{1}^{4} T_{2}^{2} k^{2} m_{l}^{2} \\omega_{max}^{2} - 4 k m_{l} \\tau_{max}^{2}}} + \\frac{1}{2}\\end{matrix}\\right]$"
      ],
      "text/plain": [
       "Matrix([\n",
       "[                                                                    T1*T2,                                                                           0,                                                                   T1**2*T2**2*m_l*omega_max/tau_max],\n",
       "[ T1*k*tau_max/sqrt(k*m_l*(T1**4*T2**2*k*m_l*omega_max**2 - 4*tau_max**2)), -k*tau_max/(T2*sqrt(k*m_l*(T1**4*T2**2*k*m_l*omega_max**2 - 4*tau_max**2))),  T1**2*T2*k*m_l*omega_max/(2*sqrt(T1**4*T2**2*k**2*m_l**2*omega_max**2 - 4*k*m_l*tau_max**2)) + 1/2],\n",
       "[-T1*k*tau_max/sqrt(k*m_l*(T1**4*T2**2*k*m_l*omega_max**2 - 4*tau_max**2)),  k*tau_max/(T2*sqrt(k*m_l*(T1**4*T2**2*k*m_l*omega_max**2 - 4*tau_max**2))), -T1**2*T2*k*m_l*omega_max/(2*sqrt(T1**4*T2**2*k**2*m_l**2*omega_max**2 - 4*k*m_l*tau_max**2)) + 1/2]])"
      ]
     },
     "metadata": {},
     "output_type": "display_data"
    },
    {
     "data": {
      "text/latex": [
       "$\\displaystyle \\left[\\begin{matrix}\\frac{T_{1}^{2} T_{2}^{2} m_{l} \\omega_{max}^{2}}{\\tau_{max}}\\\\\\frac{T_{1}^{3} T_{2}^{3} m_{l} \\omega_{max}^{2}}{\\tau_{max}}\\\\- T_{1} T_{2} \\omega_{max}\\end{matrix}\\right]$"
      ],
      "text/plain": [
       "Matrix([\n",
       "[T1**2*T2**2*m_l*omega_max**2/tau_max],\n",
       "[T1**3*T2**3*m_l*omega_max**2/tau_max],\n",
       "[                    -T1*T2*omega_max]])"
      ]
     },
     "metadata": {},
     "output_type": "display_data"
    }
   ],
   "source": [
    "mat = linear_eq_to_matrix(linsol, dum_syms)\n",
    "A_dum = simplify(mat[0].subs({t:0}))\n",
    "A_dum_inv = simplify(A_dum.inv())\n",
    "b_dum = simplify(mat[1].subs({t:0}))\n",
    "display(A_dum, A_dum_inv, b_dum)"
   ]
  },
  {
   "cell_type": "code",
   "execution_count": 421,
   "metadata": {},
   "outputs": [
    {
     "data": {
      "text/latex": [
       "$\\displaystyle \\frac{Dummy_{44063}}{T_{1} T_{2}} - \\frac{Dummy_{44064} T_{1} T_{2} m_{l} \\omega_{max}}{\\tau_{max}} - \\frac{Dummy_{44065} T_{1} T_{2} m_{l} \\omega_{max}}{\\tau_{max}} - \\frac{T_{1}^{2} T_{2}^{2} m_{l} \\omega_{max}^{2}}{\\tau_{max}}$"
      ],
      "text/plain": [
       "_Dummy_44063/(T1*T2) - _Dummy_44064*T1*T2*m_l*omega_max/tau_max - _Dummy_44065*T1*T2*m_l*omega_max/tau_max - T1**2*T2**2*m_l*omega_max**2/tau_max"
      ]
     },
     "metadata": {},
     "output_type": "display_data"
    },
    {
     "data": {
      "text/latex": [
       "$\\displaystyle Dummy_{44063} - \\frac{Dummy_{44064} T_{1}^{2} T_{2}^{2} m_{l} \\omega_{max}}{2 \\tau_{max}} + \\frac{Dummy_{44064} T_{2} \\sqrt{T_{1}^{4} T_{2}^{2} k^{2} m_{l}^{2} \\omega_{max}^{2} - 4 k m_{l} \\tau_{max}^{2}}}{2 k \\tau_{max}} - \\frac{Dummy_{44065} T_{1}^{2} T_{2}^{2} m_{l} \\omega_{max}}{2 \\tau_{max}} - \\frac{Dummy_{44065} T_{2} \\sqrt{T_{1}^{4} T_{2}^{2} k^{2} m_{l}^{2} \\omega_{max}^{2} - 4 k m_{l} \\tau_{max}^{2}}}{2 k \\tau_{max}} - \\frac{T_{1}^{3} T_{2}^{3} m_{l} \\omega_{max}^{2}}{\\tau_{max}}$"
      ],
      "text/plain": [
       "_Dummy_44063 - _Dummy_44064*T1**2*T2**2*m_l*omega_max/(2*tau_max) + _Dummy_44064*T2*sqrt(T1**4*T2**2*k**2*m_l**2*omega_max**2 - 4*k*m_l*tau_max**2)/(2*k*tau_max) - _Dummy_44065*T1**2*T2**2*m_l*omega_max/(2*tau_max) - _Dummy_44065*T2*sqrt(T1**4*T2**2*k**2*m_l**2*omega_max**2 - 4*k*m_l*tau_max**2)/(2*k*tau_max) - T1**3*T2**3*m_l*omega_max**2/tau_max"
      ]
     },
     "metadata": {},
     "output_type": "display_data"
    },
    {
     "data": {
      "text/latex": [
       "$\\displaystyle Dummy_{44064} + Dummy_{44065} + T_{1} T_{2} \\omega_{max}$"
      ],
      "text/plain": [
       "_Dummy_44064 + _Dummy_44065 + T1*T2*omega_max"
      ]
     },
     "metadata": {},
     "output_type": "display_data"
    }
   ],
   "source": [
    "for i in range(3):\n",
    "    display(linsol[i].subs(t,0))"
   ]
  },
  {
   "cell_type": "code",
   "execution_count": 422,
   "metadata": {},
   "outputs": [
    {
     "data": {
      "text/latex": [
       "$\\displaystyle \\left[\\begin{matrix}\\frac{Dummy_{44063}}{T_{1} T_{2}} - \\frac{Dummy_{44064} T_{1} T_{2} m_{l} \\omega_{max}}{\\tau_{max}} - \\frac{Dummy_{44065} T_{1} T_{2} m_{l} \\omega_{max}}{\\tau_{max}} - \\frac{T_{1}^{2} T_{2}^{2} m_{l} \\omega_{max}^{2}}{\\tau_{max}}\\\\Dummy_{44063} + \\frac{Dummy_{44064} T_{2} \\left(- T_{1}^{2} T_{2} k m_{l} \\omega_{max} + \\sqrt{k m_{l} \\left(T_{1}^{4} T_{2}^{2} k m_{l} \\omega_{max}^{2} - 4 \\tau_{max}^{2}\\right)}\\right)}{2 k \\tau_{max}} + \\frac{Dummy_{44065} T_{2} \\left(- T_{1}^{2} T_{2} k m_{l} \\omega_{max} - \\sqrt{k m_{l} \\left(T_{1}^{4} T_{2}^{2} k m_{l} \\omega_{max}^{2} - 4 \\tau_{max}^{2}\\right)}\\right)}{2 k \\tau_{max}} - \\frac{T_{1}^{3} T_{2}^{3} m_{l} \\omega_{max}^{2}}{\\tau_{max}}\\\\Dummy_{44064} + Dummy_{44065} + T_{1} T_{2} \\omega_{max}\\end{matrix}\\right]$"
      ],
      "text/plain": [
       "Matrix([\n",
       "[                                                                                                                                                      _Dummy_44063/(T1*T2) - _Dummy_44064*T1*T2*m_l*omega_max/tau_max - _Dummy_44065*T1*T2*m_l*omega_max/tau_max - T1**2*T2**2*m_l*omega_max**2/tau_max],\n",
       "[_Dummy_44063 + _Dummy_44064*T2*(-T1**2*T2*k*m_l*omega_max + sqrt(k*m_l*(T1**4*T2**2*k*m_l*omega_max**2 - 4*tau_max**2)))/(2*k*tau_max) + _Dummy_44065*T2*(-T1**2*T2*k*m_l*omega_max - sqrt(k*m_l*(T1**4*T2**2*k*m_l*omega_max**2 - 4*tau_max**2)))/(2*k*tau_max) - T1**3*T2**3*m_l*omega_max**2/tau_max],\n",
       "[                                                                                                                                                                                                                                                          _Dummy_44064 + _Dummy_44065 + T1*T2*omega_max]])"
      ]
     },
     "execution_count": 422,
     "metadata": {},
     "output_type": "execute_result"
    }
   ],
   "source": [
    "A_dum @ Matrix(dum_syms) - b_dum"
   ]
  },
  {
   "cell_type": "code",
   "execution_count": 423,
   "metadata": {},
   "outputs": [
    {
     "data": {
      "text/latex": [
       "$\\displaystyle \\left[\\begin{matrix}\\frac{T_{1} T_{2} \\left(T_{1} T_{2} m_{l} \\omega_{max} v_{l0} + \\tau_{max} x_{a0}\\right)}{\\tau_{max}}\\\\\\frac{- T_{1}^{3} T_{2}^{3} k m_{l} \\omega_{max}^{2} + T_{1}^{2} T_{2}^{2} k m_{l} \\omega_{max} v_{l0} - T_{1} T_{2}^{2} \\omega_{max} \\sqrt{k m_{l} \\left(T_{1}^{4} T_{2}^{2} k m_{l} \\omega_{max}^{2} - 4 \\tau_{max}^{2}\\right)} + 2 T_{1} T_{2} k \\tau_{max} x_{a0} + T_{2} v_{l0} \\sqrt{k m_{l} \\left(T_{1}^{4} T_{2}^{2} k m_{l} \\omega_{max}^{2} - 4 \\tau_{max}^{2}\\right)} - 2 k \\tau_{max} x_{l0}}{2 T_{2} \\sqrt{k m_{l} \\left(T_{1}^{4} T_{2}^{2} k m_{l} \\omega_{max}^{2} - 4 \\tau_{max}^{2}\\right)}}\\\\\\frac{T_{1}^{3} T_{2}^{3} k m_{l} \\omega_{max}^{2} - T_{1}^{2} T_{2}^{2} k m_{l} \\omega_{max} v_{l0} - T_{1} T_{2}^{2} \\omega_{max} \\sqrt{k m_{l} \\left(T_{1}^{4} T_{2}^{2} k m_{l} \\omega_{max}^{2} - 4 \\tau_{max}^{2}\\right)} - 2 T_{1} T_{2} k \\tau_{max} x_{a0} + T_{2} v_{l0} \\sqrt{k m_{l} \\left(T_{1}^{4} T_{2}^{2} k m_{l} \\omega_{max}^{2} - 4 \\tau_{max}^{2}\\right)} + 2 k \\tau_{max} x_{l0}}{2 T_{2} \\sqrt{k m_{l} \\left(T_{1}^{4} T_{2}^{2} k m_{l} \\omega_{max}^{2} - 4 \\tau_{max}^{2}\\right)}}\\end{matrix}\\right]$"
      ],
      "text/plain": [
       "Matrix([\n",
       "[                                                                                                                                                                                                                                                                                   T1*T2*(T1*T2*m_l*omega_max*v_l0 + tau_max*x_a0)/tau_max],\n",
       "[(-T1**3*T2**3*k*m_l*omega_max**2 + T1**2*T2**2*k*m_l*omega_max*v_l0 - T1*T2**2*omega_max*sqrt(k*m_l*(T1**4*T2**2*k*m_l*omega_max**2 - 4*tau_max**2)) + 2*T1*T2*k*tau_max*x_a0 + T2*v_l0*sqrt(k*m_l*(T1**4*T2**2*k*m_l*omega_max**2 - 4*tau_max**2)) - 2*k*tau_max*x_l0)/(2*T2*sqrt(k*m_l*(T1**4*T2**2*k*m_l*omega_max**2 - 4*tau_max**2)))],\n",
       "[ (T1**3*T2**3*k*m_l*omega_max**2 - T1**2*T2**2*k*m_l*omega_max*v_l0 - T1*T2**2*omega_max*sqrt(k*m_l*(T1**4*T2**2*k*m_l*omega_max**2 - 4*tau_max**2)) - 2*T1*T2*k*tau_max*x_a0 + T2*v_l0*sqrt(k*m_l*(T1**4*T2**2*k*m_l*omega_max**2 - 4*tau_max**2)) + 2*k*tau_max*x_l0)/(2*T2*sqrt(k*m_l*(T1**4*T2**2*k*m_l*omega_max**2 - 4*tau_max**2)))]])"
      ]
     },
     "execution_count": 423,
     "metadata": {},
     "output_type": "execute_result"
    }
   ],
   "source": [
    "x_a0, x_l0, v_l0 = symbols('x_a0, x_l0, v_l0')\n",
    "ics = Matrix([x_a0, x_l0, v_l0])\n",
    "\n",
    "dum_vals = simplify(A_dum_inv * (ics + b_dum))\n",
    "\n",
    "dum_dict = {dum_syms[i]: dum_vals[i] for i in range(len(dum_syms))}\n",
    "\n",
    "dum_vals"
   ]
  },
  {
   "cell_type": "code",
   "execution_count": 424,
   "metadata": {},
   "outputs": [
    {
     "name": "stdout",
     "output_type": "stream",
     "text": [
      "0.0 6.18084388619821e-14 2.10830177710473e-17 -5.21720806768577e-16\n",
      "0.026 68.4770373106280 0.00252219198986746 0.279208829611323\n",
      "0.053 121.170513855058 0.0183895328273396 0.979312612987918\n",
      "0.079 165.849948144634 0.0559325259909119 1.89312418982729\n",
      "0.105 209.430954346269 0.118271584835592 2.83622718234512\n",
      "0.132 257.212855761260 0.204209396735668 3.66730630250676\n",
      "0.158 312.540983695153 0.309507224860175 4.29715271549767\n",
      "0.184 376.832749060043 0.428265678690322 4.68796879699534\n",
      "0.211 449.870570231440 0.554187276540315 4.84555672365283\n",
      "0.237 530.251713604098 0.681571956223417 4.80732272494335\n",
      "0.263 615.891013432985 0.805972721343192 4.62887122073444\n",
      "0.289 704.491593669308 0.924505489650967 4.37145223899390\n",
      "0.316 793.925004392927 1.03585779288801 4.09182444425878\n",
      "0.342 882.490050999738 1.14007226358597 3.83535302597189\n",
      "0.368 969.044678138383 1.23819333937403 3.63249279350276\n",
      "0.395 1053.02472638180 1.33186236183145 3.49828799823965\n",
      "0.421 1134.37588945609 1.42293174204486 3.43418680748680\n",
      "0.447 1213.43076857547 1.51314804994644 3.43131985553132\n",
      "0.474 1290.76253661772 1.60393132950519 3.47440253229933\n",
      "0.5 1367.04196832391 1.69625729292704 3.54554751136236\n"
     ]
    }
   ],
   "source": [
    "nums = {\n",
    "    T1: 0.00025, #0.035 m / 140 rad from TSA test\n",
    "    T2: 5, #guess for leg movement/string contract\n",
    "    m_a: 1/2 * 0.020 * 0.010**2, #cylinder MOI 20g 10mm radius\n",
    "    m_l: 0.5, #mass to push off ground\n",
    "    k: 3000, # no idea honestly\n",
    "    tau_max: 0.05, #N*m stall torque\n",
    "    omega_max: 3000, #about 10,000rpm free speed\n",
    "}\n",
    "\n",
    "ics_n = {x_a0:0, x_l0:0, v_l0:0}\n",
    "\n",
    "for ti in np.linspace(0, 0.5, 20):\n",
    "    temp0 = linsol[0].subs(dum_dict).subs(ics_n).subs(nums).subs(t,ti).n()\n",
    "    temp1 = linsol[1].subs(dum_dict).subs(ics_n).subs(nums).subs(t,ti).n()\n",
    "    temp2 = linsol[2].subs(dum_dict).subs(ics_n).subs(nums).subs(t,ti).n()\n",
    "    print(round(ti, 3), re(temp0), re(temp1), re(temp2))\n"
   ]
  },
  {
   "cell_type": "code",
   "execution_count": 425,
   "metadata": {},
   "outputs": [
    {
     "name": "stdout",
     "output_type": "stream",
     "text": [
      "x0 = 1/tau_max\n",
      "x1 = k*m_l\n",
      "x2 = T2**2\n",
      "x3 = omega_max**2\n",
      "x4 = x2*x3\n",
      "x5 = T1**4*x1*x4 - 4*tau_max**2\n",
      "x6 = math.sqrt(x1*x5)\n",
      "x7 = 2*x6\n",
      "x8 = t*tau_max\n",
      "x9 = tau_max*x_a0\n",
      "x10 = T2*v_l0\n",
      "x11 = T1*omega_max\n",
      "x12 = m_l*x11\n",
      "x13 = T1**2\n",
      "x14 = -m_l*x13*x4 + x10*x12 + x9\n",
      "x15 = omega_max*x1*x13\n",
      "x16 = T2*x15\n",
      "x17 = 1/T2\n",
      "x18 = (1/2)*t*x0*x17/m_l\n",
      "x19 = math.exp(-x18*(x16 + x6))\n",
      "x20 = x10*x6\n",
      "x21 = x11*x2\n",
      "x22 = x21*x6\n",
      "x23 = 2*k\n",
      "x24 = T1*T2\n",
      "x25 = T1**3*T2**3*x1*x3 + tau_max*x23*x_l0 - v_l0*x15*x2 - x23*x24*x9\n",
      "x26 = x20 - x22 + x25\n",
      "x27 = x19*x26\n",
      "x28 = math.exp(x18*(-x16 + x6))\n",
      "x29 = -x20 + x22 + x25\n",
      "x30 = (1/2)/x6\n",
      "x31 = k*x5\n",
      "x32 = x28*x29\n",
      "x_a_code = x0*x30*(omega_max*x7*x8 + x12*(-x27 + x28*x29) + x14*x7)\n",
      "x_l_code = x0*((1/4)*T2*omega_max*x13*x6*(-x19*x26 + x32) + T2*x11*x31*x8 + x14*x24*x31 + (1/4)*x5*(x27 + x32))/(k*x5)\n",
      "v_l_code = x17*x30*(x21*x7 + x27 - x28*x29)\n"
     ]
    }
   ],
   "source": [
    "from sympy.codegen.ast import CodeBlock, Assignment\n",
    "\n",
    "x_a_code, x_l_code, v_l_code = symbols('x_a_code, x_l_code, v_l_code')\n",
    "\n",
    "solved = []\n",
    "for i in range(3):\n",
    "    subbed = (linsol[i].subs(dum_dict))\n",
    "    solved.append(simplify(subbed))\n",
    "\n",
    "solcode = CodeBlock(\n",
    "    Assignment(x_a_code, solved[0]),\n",
    "    Assignment(x_l_code, solved[1]),\n",
    "    Assignment(v_l_code, solved[2]),\n",
    ").cse()\n",
    "\n",
    "print(pycode(solcode))"
   ]
  },
  {
   "cell_type": "code",
   "execution_count": null,
   "metadata": {},
   "outputs": [],
   "source": []
  },
  {
   "cell_type": "code",
   "execution_count": 196,
   "metadata": {},
   "outputs": [
    {
     "data": {
      "text/latex": [
       "$\\displaystyle \\frac{d}{d t} x_{a}{\\left(t \\right)} = - \\frac{T_{1}^{2} k \\omega_{max} x_{a}{\\left(t \\right)}}{\\tau_{max}} + \\frac{T_{1} k \\omega_{max} x_{l}{\\left(t \\right)}}{T_{2} \\tau_{max}} + \\omega_{max}$"
      ],
      "text/plain": [
       "Eq(Derivative(x_a(t), t), -T1**2*k*omega_max*x_a(t)/tau_max + T1*k*omega_max*x_l(t)/(T2*tau_max) + omega_max)"
      ]
     },
     "metadata": {},
     "output_type": "display_data"
    },
    {
     "data": {
      "text/latex": [
       "$\\displaystyle \\frac{d^{2}}{d t^{2}} x_{l}{\\left(t \\right)} = \\frac{T_{1} k x_{a}{\\left(t \\right)}}{T_{2} m_{l}} - \\frac{k x_{l}{\\left(t \\right)}}{T_{2}^{2} m_{l}}$"
      ],
      "text/plain": [
       "Eq(Derivative(x_l(t), (t, 2)), T1*k*x_a(t)/(T2*m_l) - k*x_l(t)/(T2**2*m_l))"
      ]
     },
     "metadata": {},
     "output_type": "display_data"
    },
    {
     "name": "stderr",
     "output_type": "stream",
     "text": [
      "/Library/Frameworks/Python.framework/Versions/3.11/lib/python3.11/site-packages/sympy/simplify/radsimp.py:1131: SymPyDeprecationWarning: \n",
      "\n",
      "Using non-Expr arguments in Mul is deprecated (in this case, one of\n",
      "the arguments has type 'Tuple').\n",
      "\n",
      "If you really did intend to use a multiplication or addition operation with\n",
      "this object, use the * or + operator instead.\n",
      "\n",
      "See https://docs.sympy.org/latest/explanation/active-deprecations.html#non-expr-args-deprecated\n",
      "for details.\n",
      "\n",
      "This has been deprecated since SymPy version 1.7. It\n",
      "will be removed in a future version of SymPy.\n",
      "\n",
      "  return Mul(*numer, evaluate=not exact), Mul(*denom, evaluate=not exact)\n"
     ]
    },
    {
     "data": {
      "text/plain": [
       "[[Eq(x_a(t), -T1**2*T2*k*m_l*omega_max**2*(T1**8*T2**4*k**2*m_l**2*omega_max**4 + T1**6*T2**3*k*m_l*omega_max**3*sqrt(k*m_l*(T1**4*T2**2*k*m_l*omega_max**2 - 4*tau_max**2)) - 4*T1**4*T2**2*k*m_l*omega_max**2*tau_max**2 - 2*T1**2*T2*omega_max*tau_max**2*sqrt(k*m_l*(T1**4*T2**2*k*m_l*omega_max**2 - 4*tau_max**2)) + 2*tau_max**4)*exp(-t*(T1**2*T2*k*m_l*omega_max + sqrt(T1**4*T2**2*k**2*m_l**2*omega_max**2 - 4*k*m_l*tau_max**2))/(2*T2*m_l*tau_max))*Integral(exp(T1**2*k*omega_max*t/(2*tau_max))*exp(t*sqrt(k*m_l*(T1**4*T2**2*k*m_l*omega_max**2 - 4*tau_max**2))/(2*T2*m_l*tau_max)), (t, 0))/(T1**10*T2**5*k**3*m_l**3*omega_max**5 + T1**8*T2**4*k**2*m_l**2*omega_max**4*sqrt(k*m_l*(T1**4*T2**2*k*m_l*omega_max**2 - 4*tau_max**2)) - 6*T1**6*T2**3*k**2*m_l**2*omega_max**3*tau_max**2 - 4*T1**4*T2**2*k*m_l*omega_max**2*tau_max**2*sqrt(k*m_l*(T1**4*T2**2*k*m_l*omega_max**2 - 4*tau_max**2)) + 8*T1**2*T2*k*m_l*omega_max*tau_max**4 + 2*tau_max**4*sqrt(k*m_l*(T1**4*T2**2*k*m_l*omega_max**2 - 4*tau_max**2))) + T1**2*T2*k*m_l*omega_max**2*exp(-t*(T1**2*T2*k*m_l*omega_max + sqrt(T1**4*T2**2*k**2*m_l**2*omega_max**2 - 4*k*m_l*tau_max**2))/(2*T2*m_l*tau_max))*Integral(exp(t*(T1**2*k*omega_max + sqrt(k*m_l*(T1**4*T2**2*k*m_l*omega_max**2 - 4*tau_max**2))/(T2*m_l))/(2*tau_max)), t)/sqrt(k*m_l*(T1**4*T2**2*k*m_l*omega_max**2 - 4*tau_max**2)) - T1**2*T2*k*m_l*omega_max**2*exp(-t*(T1**2*T2*k*m_l*omega_max - sqrt(T1**4*T2**2*k**2*m_l**2*omega_max**2 - 4*k*m_l*tau_max**2))/(2*T2*m_l*tau_max))*Integral(exp(t*(T1**2*k*omega_max - sqrt(k*m_l*(T1**4*T2**2*k*m_l*omega_max**2 - 4*tau_max**2))/(T2*m_l))/(2*tau_max)), t)/sqrt(k*m_l*(T1**4*T2**2*k*m_l*omega_max**2 - 4*tau_max**2)) + T1**2*T2*omega_max**2*(T1**2*T2*k*m_l*omega_max + sqrt(k*m_l*(T1**4*T2**2*k*m_l*omega_max**2 - 4*tau_max**2)))*exp(-t*(T1**2*T2*k*m_l*omega_max - sqrt(T1**4*T2**2*k**2*m_l**2*omega_max**2 - 4*k*m_l*tau_max**2))/(2*T2*m_l*tau_max))*Integral(exp(T1**2*k*omega_max*t/(2*tau_max))*exp(-t*sqrt(k*m_l*(T1**4*T2**2*k*m_l*omega_max**2 - 4*tau_max**2))/(2*T2*m_l*tau_max)), (t, 0))/(T1**4*T2**2*k*m_l*omega_max**2 + T1**2*T2*omega_max*sqrt(k*m_l*(T1**4*T2**2*k*m_l*omega_max**2 - 4*tau_max**2)) - 4*tau_max**2) + omega_max*Integral(1, t) - omega_max*Integral(1, (t, 0))),\n",
       "  Eq(x_l(t), -2*T1*T2*k*m_l*omega_max*tau_max**2*(T1**8*T2**4*k**2*m_l**2*omega_max**4 + T1**6*T2**3*k*m_l*omega_max**3*sqrt(k*m_l*(T1**4*T2**2*k*m_l*omega_max**2 - 4*tau_max**2)) - 4*T1**4*T2**2*k*m_l*omega_max**2*tau_max**2 - 2*T1**2*T2*omega_max*tau_max**2*sqrt(k*m_l*(T1**4*T2**2*k*m_l*omega_max**2 - 4*tau_max**2)) + 2*tau_max**4)*exp(-t*(T1**2*T2*k*m_l*omega_max + sqrt(T1**4*T2**2*k**2*m_l**2*omega_max**2 - 4*k*m_l*tau_max**2))/(2*T2*m_l*tau_max))*Integral(exp(T1**2*k*omega_max*t/(2*tau_max))*exp(t*sqrt(k*m_l*(T1**4*T2**2*k*m_l*omega_max**2 - 4*tau_max**2))/(2*T2*m_l*tau_max)), (t, 0))/((T1**2*T2*k*m_l*omega_max + sqrt(k*m_l*(T1**4*T2**2*k*m_l*omega_max**2 - 4*tau_max**2)))*(T1**10*T2**5*k**3*m_l**3*omega_max**5 + T1**8*T2**4*k**2*m_l**2*omega_max**4*sqrt(k*m_l*(T1**4*T2**2*k*m_l*omega_max**2 - 4*tau_max**2)) - 6*T1**6*T2**3*k**2*m_l**2*omega_max**3*tau_max**2 - 4*T1**4*T2**2*k*m_l*omega_max**2*tau_max**2*sqrt(k*m_l*(T1**4*T2**2*k*m_l*omega_max**2 - 4*tau_max**2)) + 8*T1**2*T2*k*m_l*omega_max*tau_max**4 + 2*tau_max**4*sqrt(k*m_l*(T1**4*T2**2*k*m_l*omega_max**2 - 4*tau_max**2)))) + 2*T1*T2*k*m_l*omega_max*tau_max**2*exp(-t*(T1**2*T2*k*m_l*omega_max + sqrt(T1**4*T2**2*k**2*m_l**2*omega_max**2 - 4*k*m_l*tau_max**2))/(2*T2*m_l*tau_max))*Integral(exp(t*(T1**2*k*omega_max + sqrt(k*m_l*(T1**4*T2**2*k*m_l*omega_max**2 - 4*tau_max**2))/(T2*m_l))/(2*tau_max)), t)/(sqrt(k*m_l*(T1**4*T2**2*k*m_l*omega_max**2 - 4*tau_max**2))*(T1**2*T2*k*m_l*omega_max + sqrt(k*m_l*(T1**4*T2**2*k*m_l*omega_max**2 - 4*tau_max**2)))) - 2*T1*T2*k*m_l*omega_max*tau_max**2*exp(-t*(T1**2*T2*k*m_l*omega_max - sqrt(T1**4*T2**2*k**2*m_l**2*omega_max**2 - 4*k*m_l*tau_max**2))/(2*T2*m_l*tau_max))*Integral(exp(t*(T1**2*k*omega_max - sqrt(k*m_l*(T1**4*T2**2*k*m_l*omega_max**2 - 4*tau_max**2))/(T2*m_l))/(2*tau_max)), t)/(sqrt(k*m_l*(T1**4*T2**2*k*m_l*omega_max**2 - 4*tau_max**2))*(T1**2*T2*k*m_l*omega_max - sqrt(k*m_l*(T1**4*T2**2*k*m_l*omega_max**2 - 4*tau_max**2)))) + 2*T1*T2*omega_max*tau_max**2*(T1**2*T2*k*m_l*omega_max + sqrt(k*m_l*(T1**4*T2**2*k*m_l*omega_max**2 - 4*tau_max**2)))*exp(-t*(T1**2*T2*k*m_l*omega_max - sqrt(T1**4*T2**2*k**2*m_l**2*omega_max**2 - 4*k*m_l*tau_max**2))/(2*T2*m_l*tau_max))*Integral(exp(T1**2*k*omega_max*t/(2*tau_max))*exp(-t*sqrt(k*m_l*(T1**4*T2**2*k*m_l*omega_max**2 - 4*tau_max**2))/(2*T2*m_l*tau_max)), (t, 0))/((T1**2*T2*k*m_l*omega_max - sqrt(k*m_l*(T1**4*T2**2*k*m_l*omega_max**2 - 4*tau_max**2)))*(T1**4*T2**2*k*m_l*omega_max**2 + T1**2*T2*omega_max*sqrt(k*m_l*(T1**4*T2**2*k*m_l*omega_max**2 - 4*tau_max**2)) - 4*tau_max**2)) + T1*T2*omega_max*Integral(1, t) - T1*T2*omega_max*Integral(1, (t, 0)))]]"
      ]
     },
     "execution_count": 196,
     "metadata": {},
     "output_type": "execute_result"
    }
   ],
   "source": [
    "from sympy.solvers.ode.systems import dsolve_system\n",
    "\n",
    "tau_max, omega_max = symbols(\"tau_max, omega_max\") #stall torque, free speed\n",
    "\n",
    "T1, T2, k, m_a, m_l = symbols('T1, T2, k, m_a, m_l')\n",
    "c0, c1, c2, c3, c4, c5, c6 = symbols('c:7')\n",
    "\n",
    "x_a, x_l = symbols(\"x_a x_l\", cls=Function)\n",
    "t = symbols('t')\n",
    "\n",
    "c1 = -k * T1**2 * omega_max / tau_max\n",
    "c2 = k * T1 * omega_max / (tau_max * T2)\n",
    "c3 = k * T1 / (T2 * m_l)\n",
    "c4 = -k / (T2**2 * m_l)\n",
    "\n",
    "eqs = [\n",
    "    Eq(x_a(t).diff(t), c1*x_a(t) + c2*x_l(t) + omega_max), \n",
    "    Eq(x_l(t).diff(t).diff(t), c3*x_a(t) + c4*x_l(t))\n",
    "]\n",
    "display(eqs[0], eqs[1])\n",
    "\n",
    "# sol = dsolve_system(eqs)\n",
    "sol = dsolve_system(eqs, ics={x_a(0):0, x_l(0):0, x_l(t).diff(t).subs(t,0):0})\n",
    "sol"
   ]
  },
  {
   "cell_type": "code",
   "execution_count": 244,
   "metadata": {},
   "outputs": [
    {
     "data": {
      "text/latex": [
       "$\\displaystyle x_{a}{\\left(t \\right)} = - \\frac{2 T_{1}^{2} T_{2}^{2} k m_{l}^{2} \\omega_{max}^{2} \\tau_{max} \\left(T_{1}^{8} T_{2}^{4} k^{2} m_{l}^{2} \\omega_{max}^{4} + T_{1}^{6} T_{2}^{3} k m_{l} \\omega_{max}^{3} \\sqrt{k m_{l} \\left(T_{1}^{4} T_{2}^{2} k m_{l} \\omega_{max}^{2} - 4 \\tau_{max}^{2}\\right)} - 4 T_{1}^{4} T_{2}^{2} k m_{l} \\omega_{max}^{2} \\tau_{max}^{2} - 2 T_{1}^{2} T_{2} \\omega_{max} \\tau_{max}^{2} \\sqrt{k m_{l} \\left(T_{1}^{4} T_{2}^{2} k m_{l} \\omega_{max}^{2} - 4 \\tau_{max}^{2}\\right)} + 2 \\tau_{max}^{4}\\right) e^{- \\frac{t \\left(T_{1}^{2} T_{2} k m_{l} \\omega_{max} + \\sqrt{T_{1}^{4} T_{2}^{2} k^{2} m_{l}^{2} \\omega_{max}^{2} - 4 k m_{l} \\tau_{max}^{2}}\\right)}{2 T_{2} m_{l} \\tau_{max}}}}{\\left(T_{1}^{2} T_{2} k m_{l} \\omega_{max} + \\sqrt{T_{1}^{4} T_{2}^{2} k^{2} m_{l}^{2} \\omega_{max}^{2} - 4 k m_{l} \\tau_{max}^{2}}\\right) \\left(T_{1}^{10} T_{2}^{5} k^{3} m_{l}^{3} \\omega_{max}^{5} + T_{1}^{8} T_{2}^{4} k^{2} m_{l}^{2} \\omega_{max}^{4} \\sqrt{k m_{l} \\left(T_{1}^{4} T_{2}^{2} k m_{l} \\omega_{max}^{2} - 4 \\tau_{max}^{2}\\right)} - 6 T_{1}^{6} T_{2}^{3} k^{2} m_{l}^{2} \\omega_{max}^{3} \\tau_{max}^{2} - 4 T_{1}^{4} T_{2}^{2} k m_{l} \\omega_{max}^{2} \\tau_{max}^{2} \\sqrt{k m_{l} \\left(T_{1}^{4} T_{2}^{2} k m_{l} \\omega_{max}^{2} - 4 \\tau_{max}^{2}\\right)} + 8 T_{1}^{2} T_{2} k m_{l} \\omega_{max} \\tau_{max}^{4} + 2 \\tau_{max}^{4} \\sqrt{k m_{l} \\left(T_{1}^{4} T_{2}^{2} k m_{l} \\omega_{max}^{2} - 4 \\tau_{max}^{2}\\right)}\\right)} + \\frac{2 T_{1}^{2} T_{2}^{2} k m_{l}^{2} \\omega_{max}^{2} \\tau_{max} e^{\\frac{t \\left(T_{1}^{2} k \\omega_{max} + \\frac{\\sqrt{k m_{l} \\left(T_{1}^{4} T_{2}^{2} k m_{l} \\omega_{max}^{2} - 4 \\tau_{max}^{2}\\right)}}{T_{2} m_{l}}\\right)}{2 \\tau_{max}}} e^{- \\frac{t \\left(T_{1}^{2} T_{2} k m_{l} \\omega_{max} + \\sqrt{T_{1}^{4} T_{2}^{2} k^{2} m_{l}^{2} \\omega_{max}^{2} - 4 k m_{l} \\tau_{max}^{2}}\\right)}{2 T_{2} m_{l} \\tau_{max}}}}{\\sqrt{k m_{l} \\left(T_{1}^{4} T_{2}^{2} k m_{l} \\omega_{max}^{2} - 4 \\tau_{max}^{2}\\right)} \\left(T_{1}^{2} T_{2} k m_{l} \\omega_{max} + \\sqrt{T_{1}^{4} T_{2}^{2} k^{2} m_{l}^{2} \\omega_{max}^{2} - 4 k m_{l} \\tau_{max}^{2}}\\right)} - \\frac{2 T_{1}^{2} T_{2}^{2} k m_{l}^{2} \\omega_{max}^{2} \\tau_{max} e^{\\frac{t \\left(T_{1}^{2} k \\omega_{max} - \\frac{\\sqrt{k m_{l} \\left(T_{1}^{4} T_{2}^{2} k m_{l} \\omega_{max}^{2} - 4 \\tau_{max}^{2}\\right)}}{T_{2} m_{l}}\\right)}{2 \\tau_{max}}} e^{- \\frac{t \\left(T_{1}^{2} T_{2} k m_{l} \\omega_{max} - \\sqrt{T_{1}^{4} T_{2}^{2} k^{2} m_{l}^{2} \\omega_{max}^{2} - 4 k m_{l} \\tau_{max}^{2}}\\right)}{2 T_{2} m_{l} \\tau_{max}}}}{\\sqrt{k m_{l} \\left(T_{1}^{4} T_{2}^{2} k m_{l} \\omega_{max}^{2} - 4 \\tau_{max}^{2}\\right)} \\left(T_{1}^{2} T_{2} k m_{l} \\omega_{max} - \\sqrt{T_{1}^{4} T_{2}^{2} k^{2} m_{l}^{2} \\omega_{max}^{2} - 4 k m_{l} \\tau_{max}^{2}}\\right)} + \\frac{2 T_{1}^{2} T_{2}^{2} m_{l} \\omega_{max}^{2} \\tau_{max} \\left(T_{1}^{2} T_{2} k m_{l} \\omega_{max} + \\sqrt{k m_{l} \\left(T_{1}^{4} T_{2}^{2} k m_{l} \\omega_{max}^{2} - 4 \\tau_{max}^{2}\\right)}\\right) e^{- \\frac{t \\left(T_{1}^{2} T_{2} k m_{l} \\omega_{max} - \\sqrt{T_{1}^{4} T_{2}^{2} k^{2} m_{l}^{2} \\omega_{max}^{2} - 4 k m_{l} \\tau_{max}^{2}}\\right)}{2 T_{2} m_{l} \\tau_{max}}}}{\\left(T_{1}^{2} T_{2} k m_{l} \\omega_{max} - \\sqrt{T_{1}^{4} T_{2}^{2} k^{2} m_{l}^{2} \\omega_{max}^{2} - 4 k m_{l} \\tau_{max}^{2}}\\right) \\left(T_{1}^{4} T_{2}^{2} k m_{l} \\omega_{max}^{2} + T_{1}^{2} T_{2} \\omega_{max} \\sqrt{k m_{l} \\left(T_{1}^{4} T_{2}^{2} k m_{l} \\omega_{max}^{2} - 4 \\tau_{max}^{2}\\right)} - 4 \\tau_{max}^{2}\\right)} + \\omega_{max} t$"
      ],
      "text/plain": [
       "Eq(x_a(t), -2*T1**2*T2**2*k*m_l**2*omega_max**2*tau_max*(T1**8*T2**4*k**2*m_l**2*omega_max**4 + T1**6*T2**3*k*m_l*omega_max**3*sqrt(k*m_l*(T1**4*T2**2*k*m_l*omega_max**2 - 4*tau_max**2)) - 4*T1**4*T2**2*k*m_l*omega_max**2*tau_max**2 - 2*T1**2*T2*omega_max*tau_max**2*sqrt(k*m_l*(T1**4*T2**2*k*m_l*omega_max**2 - 4*tau_max**2)) + 2*tau_max**4)*exp(-t*(T1**2*T2*k*m_l*omega_max + sqrt(T1**4*T2**2*k**2*m_l**2*omega_max**2 - 4*k*m_l*tau_max**2))/(2*T2*m_l*tau_max))/((T1**2*T2*k*m_l*omega_max + sqrt(T1**4*T2**2*k**2*m_l**2*omega_max**2 - 4*k*m_l*tau_max**2))*(T1**10*T2**5*k**3*m_l**3*omega_max**5 + T1**8*T2**4*k**2*m_l**2*omega_max**4*sqrt(k*m_l*(T1**4*T2**2*k*m_l*omega_max**2 - 4*tau_max**2)) - 6*T1**6*T2**3*k**2*m_l**2*omega_max**3*tau_max**2 - 4*T1**4*T2**2*k*m_l*omega_max**2*tau_max**2*sqrt(k*m_l*(T1**4*T2**2*k*m_l*omega_max**2 - 4*tau_max**2)) + 8*T1**2*T2*k*m_l*omega_max*tau_max**4 + 2*tau_max**4*sqrt(k*m_l*(T1**4*T2**2*k*m_l*omega_max**2 - 4*tau_max**2)))) + 2*T1**2*T2**2*k*m_l**2*omega_max**2*tau_max*exp(t*(T1**2*k*omega_max + sqrt(k*m_l*(T1**4*T2**2*k*m_l*omega_max**2 - 4*tau_max**2))/(T2*m_l))/(2*tau_max))*exp(-t*(T1**2*T2*k*m_l*omega_max + sqrt(T1**4*T2**2*k**2*m_l**2*omega_max**2 - 4*k*m_l*tau_max**2))/(2*T2*m_l*tau_max))/(sqrt(k*m_l*(T1**4*T2**2*k*m_l*omega_max**2 - 4*tau_max**2))*(T1**2*T2*k*m_l*omega_max + sqrt(T1**4*T2**2*k**2*m_l**2*omega_max**2 - 4*k*m_l*tau_max**2))) - 2*T1**2*T2**2*k*m_l**2*omega_max**2*tau_max*exp(t*(T1**2*k*omega_max - sqrt(k*m_l*(T1**4*T2**2*k*m_l*omega_max**2 - 4*tau_max**2))/(T2*m_l))/(2*tau_max))*exp(-t*(T1**2*T2*k*m_l*omega_max - sqrt(T1**4*T2**2*k**2*m_l**2*omega_max**2 - 4*k*m_l*tau_max**2))/(2*T2*m_l*tau_max))/(sqrt(k*m_l*(T1**4*T2**2*k*m_l*omega_max**2 - 4*tau_max**2))*(T1**2*T2*k*m_l*omega_max - sqrt(T1**4*T2**2*k**2*m_l**2*omega_max**2 - 4*k*m_l*tau_max**2))) + 2*T1**2*T2**2*m_l*omega_max**2*tau_max*(T1**2*T2*k*m_l*omega_max + sqrt(k*m_l*(T1**4*T2**2*k*m_l*omega_max**2 - 4*tau_max**2)))*exp(-t*(T1**2*T2*k*m_l*omega_max - sqrt(T1**4*T2**2*k**2*m_l**2*omega_max**2 - 4*k*m_l*tau_max**2))/(2*T2*m_l*tau_max))/((T1**2*T2*k*m_l*omega_max - sqrt(T1**4*T2**2*k**2*m_l**2*omega_max**2 - 4*k*m_l*tau_max**2))*(T1**4*T2**2*k*m_l*omega_max**2 + T1**2*T2*omega_max*sqrt(k*m_l*(T1**4*T2**2*k*m_l*omega_max**2 - 4*tau_max**2)) - 4*tau_max**2)) + omega_max*t)"
      ]
     },
     "metadata": {},
     "output_type": "display_data"
    },
    {
     "data": {
      "text/latex": [
       "$\\displaystyle x_{l}{\\left(t \\right)} = - \\frac{4 T_{1} T_{2}^{2} k m_{l}^{2} \\omega_{max} \\tau_{max}^{3} \\left(T_{1}^{8} T_{2}^{4} k^{2} m_{l}^{2} \\omega_{max}^{4} + T_{1}^{6} T_{2}^{3} k m_{l} \\omega_{max}^{3} \\sqrt{k m_{l} \\left(T_{1}^{4} T_{2}^{2} k m_{l} \\omega_{max}^{2} - 4 \\tau_{max}^{2}\\right)} - 4 T_{1}^{4} T_{2}^{2} k m_{l} \\omega_{max}^{2} \\tau_{max}^{2} - 2 T_{1}^{2} T_{2} \\omega_{max} \\tau_{max}^{2} \\sqrt{k m_{l} \\left(T_{1}^{4} T_{2}^{2} k m_{l} \\omega_{max}^{2} - 4 \\tau_{max}^{2}\\right)} + 2 \\tau_{max}^{4}\\right) e^{- \\frac{t \\left(T_{1}^{2} T_{2} k m_{l} \\omega_{max} + \\sqrt{T_{1}^{4} T_{2}^{2} k^{2} m_{l}^{2} \\omega_{max}^{2} - 4 k m_{l} \\tau_{max}^{2}}\\right)}{2 T_{2} m_{l} \\tau_{max}}}}{\\left(T_{1}^{2} T_{2} k m_{l} \\omega_{max} + \\sqrt{k m_{l} \\left(T_{1}^{4} T_{2}^{2} k m_{l} \\omega_{max}^{2} - 4 \\tau_{max}^{2}\\right)}\\right) \\left(T_{1}^{2} T_{2} k m_{l} \\omega_{max} + \\sqrt{T_{1}^{4} T_{2}^{2} k^{2} m_{l}^{2} \\omega_{max}^{2} - 4 k m_{l} \\tau_{max}^{2}}\\right) \\left(T_{1}^{10} T_{2}^{5} k^{3} m_{l}^{3} \\omega_{max}^{5} + T_{1}^{8} T_{2}^{4} k^{2} m_{l}^{2} \\omega_{max}^{4} \\sqrt{k m_{l} \\left(T_{1}^{4} T_{2}^{2} k m_{l} \\omega_{max}^{2} - 4 \\tau_{max}^{2}\\right)} - 6 T_{1}^{6} T_{2}^{3} k^{2} m_{l}^{2} \\omega_{max}^{3} \\tau_{max}^{2} - 4 T_{1}^{4} T_{2}^{2} k m_{l} \\omega_{max}^{2} \\tau_{max}^{2} \\sqrt{k m_{l} \\left(T_{1}^{4} T_{2}^{2} k m_{l} \\omega_{max}^{2} - 4 \\tau_{max}^{2}\\right)} + 8 T_{1}^{2} T_{2} k m_{l} \\omega_{max} \\tau_{max}^{4} + 2 \\tau_{max}^{4} \\sqrt{k m_{l} \\left(T_{1}^{4} T_{2}^{2} k m_{l} \\omega_{max}^{2} - 4 \\tau_{max}^{2}\\right)}\\right)} + \\frac{4 T_{1} T_{2}^{2} k m_{l}^{2} \\omega_{max} \\tau_{max}^{3} e^{\\frac{t \\left(T_{1}^{2} k \\omega_{max} + \\frac{\\sqrt{k m_{l} \\left(T_{1}^{4} T_{2}^{2} k m_{l} \\omega_{max}^{2} - 4 \\tau_{max}^{2}\\right)}}{T_{2} m_{l}}\\right)}{2 \\tau_{max}}} e^{- \\frac{t \\left(T_{1}^{2} T_{2} k m_{l} \\omega_{max} + \\sqrt{T_{1}^{4} T_{2}^{2} k^{2} m_{l}^{2} \\omega_{max}^{2} - 4 k m_{l} \\tau_{max}^{2}}\\right)}{2 T_{2} m_{l} \\tau_{max}}}}{\\sqrt{k m_{l} \\left(T_{1}^{4} T_{2}^{2} k m_{l} \\omega_{max}^{2} - 4 \\tau_{max}^{2}\\right)} \\left(T_{1}^{2} T_{2} k m_{l} \\omega_{max} + \\sqrt{k m_{l} \\left(T_{1}^{4} T_{2}^{2} k m_{l} \\omega_{max}^{2} - 4 \\tau_{max}^{2}\\right)}\\right) \\left(T_{1}^{2} T_{2} k m_{l} \\omega_{max} + \\sqrt{T_{1}^{4} T_{2}^{2} k^{2} m_{l}^{2} \\omega_{max}^{2} - 4 k m_{l} \\tau_{max}^{2}}\\right)} - \\frac{4 T_{1} T_{2}^{2} k m_{l}^{2} \\omega_{max} \\tau_{max}^{3} e^{\\frac{t \\left(T_{1}^{2} k \\omega_{max} - \\frac{\\sqrt{k m_{l} \\left(T_{1}^{4} T_{2}^{2} k m_{l} \\omega_{max}^{2} - 4 \\tau_{max}^{2}\\right)}}{T_{2} m_{l}}\\right)}{2 \\tau_{max}}} e^{- \\frac{t \\left(T_{1}^{2} T_{2} k m_{l} \\omega_{max} - \\sqrt{T_{1}^{4} T_{2}^{2} k^{2} m_{l}^{2} \\omega_{max}^{2} - 4 k m_{l} \\tau_{max}^{2}}\\right)}{2 T_{2} m_{l} \\tau_{max}}}}{\\sqrt{k m_{l} \\left(T_{1}^{4} T_{2}^{2} k m_{l} \\omega_{max}^{2} - 4 \\tau_{max}^{2}\\right)} \\left(T_{1}^{2} T_{2} k m_{l} \\omega_{max} - \\sqrt{k m_{l} \\left(T_{1}^{4} T_{2}^{2} k m_{l} \\omega_{max}^{2} - 4 \\tau_{max}^{2}\\right)}\\right) \\left(T_{1}^{2} T_{2} k m_{l} \\omega_{max} - \\sqrt{T_{1}^{4} T_{2}^{2} k^{2} m_{l}^{2} \\omega_{max}^{2} - 4 k m_{l} \\tau_{max}^{2}}\\right)} + \\frac{4 T_{1} T_{2}^{2} m_{l} \\omega_{max} \\tau_{max}^{3} \\left(T_{1}^{2} T_{2} k m_{l} \\omega_{max} + \\sqrt{k m_{l} \\left(T_{1}^{4} T_{2}^{2} k m_{l} \\omega_{max}^{2} - 4 \\tau_{max}^{2}\\right)}\\right) e^{- \\frac{t \\left(T_{1}^{2} T_{2} k m_{l} \\omega_{max} - \\sqrt{T_{1}^{4} T_{2}^{2} k^{2} m_{l}^{2} \\omega_{max}^{2} - 4 k m_{l} \\tau_{max}^{2}}\\right)}{2 T_{2} m_{l} \\tau_{max}}}}{\\left(T_{1}^{2} T_{2} k m_{l} \\omega_{max} - \\sqrt{k m_{l} \\left(T_{1}^{4} T_{2}^{2} k m_{l} \\omega_{max}^{2} - 4 \\tau_{max}^{2}\\right)}\\right) \\left(T_{1}^{2} T_{2} k m_{l} \\omega_{max} - \\sqrt{T_{1}^{4} T_{2}^{2} k^{2} m_{l}^{2} \\omega_{max}^{2} - 4 k m_{l} \\tau_{max}^{2}}\\right) \\left(T_{1}^{4} T_{2}^{2} k m_{l} \\omega_{max}^{2} + T_{1}^{2} T_{2} \\omega_{max} \\sqrt{k m_{l} \\left(T_{1}^{4} T_{2}^{2} k m_{l} \\omega_{max}^{2} - 4 \\tau_{max}^{2}\\right)} - 4 \\tau_{max}^{2}\\right)} + T_{1} T_{2} \\omega_{max} t$"
      ],
      "text/plain": [
       "Eq(x_l(t), -4*T1*T2**2*k*m_l**2*omega_max*tau_max**3*(T1**8*T2**4*k**2*m_l**2*omega_max**4 + T1**6*T2**3*k*m_l*omega_max**3*sqrt(k*m_l*(T1**4*T2**2*k*m_l*omega_max**2 - 4*tau_max**2)) - 4*T1**4*T2**2*k*m_l*omega_max**2*tau_max**2 - 2*T1**2*T2*omega_max*tau_max**2*sqrt(k*m_l*(T1**4*T2**2*k*m_l*omega_max**2 - 4*tau_max**2)) + 2*tau_max**4)*exp(-t*(T1**2*T2*k*m_l*omega_max + sqrt(T1**4*T2**2*k**2*m_l**2*omega_max**2 - 4*k*m_l*tau_max**2))/(2*T2*m_l*tau_max))/((T1**2*T2*k*m_l*omega_max + sqrt(k*m_l*(T1**4*T2**2*k*m_l*omega_max**2 - 4*tau_max**2)))*(T1**2*T2*k*m_l*omega_max + sqrt(T1**4*T2**2*k**2*m_l**2*omega_max**2 - 4*k*m_l*tau_max**2))*(T1**10*T2**5*k**3*m_l**3*omega_max**5 + T1**8*T2**4*k**2*m_l**2*omega_max**4*sqrt(k*m_l*(T1**4*T2**2*k*m_l*omega_max**2 - 4*tau_max**2)) - 6*T1**6*T2**3*k**2*m_l**2*omega_max**3*tau_max**2 - 4*T1**4*T2**2*k*m_l*omega_max**2*tau_max**2*sqrt(k*m_l*(T1**4*T2**2*k*m_l*omega_max**2 - 4*tau_max**2)) + 8*T1**2*T2*k*m_l*omega_max*tau_max**4 + 2*tau_max**4*sqrt(k*m_l*(T1**4*T2**2*k*m_l*omega_max**2 - 4*tau_max**2)))) + 4*T1*T2**2*k*m_l**2*omega_max*tau_max**3*exp(t*(T1**2*k*omega_max + sqrt(k*m_l*(T1**4*T2**2*k*m_l*omega_max**2 - 4*tau_max**2))/(T2*m_l))/(2*tau_max))*exp(-t*(T1**2*T2*k*m_l*omega_max + sqrt(T1**4*T2**2*k**2*m_l**2*omega_max**2 - 4*k*m_l*tau_max**2))/(2*T2*m_l*tau_max))/(sqrt(k*m_l*(T1**4*T2**2*k*m_l*omega_max**2 - 4*tau_max**2))*(T1**2*T2*k*m_l*omega_max + sqrt(k*m_l*(T1**4*T2**2*k*m_l*omega_max**2 - 4*tau_max**2)))*(T1**2*T2*k*m_l*omega_max + sqrt(T1**4*T2**2*k**2*m_l**2*omega_max**2 - 4*k*m_l*tau_max**2))) - 4*T1*T2**2*k*m_l**2*omega_max*tau_max**3*exp(t*(T1**2*k*omega_max - sqrt(k*m_l*(T1**4*T2**2*k*m_l*omega_max**2 - 4*tau_max**2))/(T2*m_l))/(2*tau_max))*exp(-t*(T1**2*T2*k*m_l*omega_max - sqrt(T1**4*T2**2*k**2*m_l**2*omega_max**2 - 4*k*m_l*tau_max**2))/(2*T2*m_l*tau_max))/(sqrt(k*m_l*(T1**4*T2**2*k*m_l*omega_max**2 - 4*tau_max**2))*(T1**2*T2*k*m_l*omega_max - sqrt(k*m_l*(T1**4*T2**2*k*m_l*omega_max**2 - 4*tau_max**2)))*(T1**2*T2*k*m_l*omega_max - sqrt(T1**4*T2**2*k**2*m_l**2*omega_max**2 - 4*k*m_l*tau_max**2))) + 4*T1*T2**2*m_l*omega_max*tau_max**3*(T1**2*T2*k*m_l*omega_max + sqrt(k*m_l*(T1**4*T2**2*k*m_l*omega_max**2 - 4*tau_max**2)))*exp(-t*(T1**2*T2*k*m_l*omega_max - sqrt(T1**4*T2**2*k**2*m_l**2*omega_max**2 - 4*k*m_l*tau_max**2))/(2*T2*m_l*tau_max))/((T1**2*T2*k*m_l*omega_max - sqrt(k*m_l*(T1**4*T2**2*k*m_l*omega_max**2 - 4*tau_max**2)))*(T1**2*T2*k*m_l*omega_max - sqrt(T1**4*T2**2*k**2*m_l**2*omega_max**2 - 4*k*m_l*tau_max**2))*(T1**4*T2**2*k*m_l*omega_max**2 + T1**2*T2*omega_max*sqrt(k*m_l*(T1**4*T2**2*k*m_l*omega_max**2 - 4*tau_max**2)) - 4*tau_max**2)) + T1*T2*omega_max*t)"
      ]
     },
     "metadata": {},
     "output_type": "display_data"
    }
   ],
   "source": [
    "x_a_eq = sol[0][0].doit(conds='none') #evaluates integrals without piecewise outputs\n",
    "x_l_eq = sol[0][1].doit(conds='none')\n",
    "display(x_a_eq, x_l_eq)"
   ]
  },
  {
   "cell_type": "code",
   "execution_count": 249,
   "metadata": {},
   "outputs": [
    {
     "data": {
      "text/latex": [
       "$\\displaystyle - \\frac{2 T_{1} T_{2}^{2} k m_{l}^{2} \\omega_{max} \\tau_{max}^{2} \\left(T_{1}^{2} k \\omega_{max} - \\frac{\\sqrt{k m_{l} \\left(T_{1}^{4} T_{2}^{2} k m_{l} \\omega_{max}^{2} - 4 \\tau_{max}^{2}\\right)}}{T_{2} m_{l}}\\right) e^{\\frac{t \\left(T_{1}^{2} k \\omega_{max} - \\frac{\\sqrt{k m_{l} \\left(T_{1}^{4} T_{2}^{2} k m_{l} \\omega_{max}^{2} - 4 \\tau_{max}^{2}\\right)}}{T_{2} m_{l}}\\right)}{2 \\tau_{max}}} e^{- \\frac{t \\left(T_{1}^{2} T_{2} k m_{l} \\omega_{max} - \\sqrt{T_{1}^{4} T_{2}^{2} k^{2} m_{l}^{2} \\omega_{max}^{2} - 4 k m_{l} \\tau_{max}^{2}}\\right)}{2 T_{2} m_{l} \\tau_{max}}}}{\\sqrt{k m_{l} \\left(T_{1}^{4} T_{2}^{2} k m_{l} \\omega_{max}^{2} - 4 \\tau_{max}^{2}\\right)} \\left(T_{1}^{2} T_{2} k m_{l} \\omega_{max} - \\sqrt{k m_{l} \\left(T_{1}^{4} T_{2}^{2} k m_{l} \\omega_{max}^{2} - 4 \\tau_{max}^{2}\\right)}\\right) \\left(T_{1}^{2} T_{2} k m_{l} \\omega_{max} - \\sqrt{T_{1}^{4} T_{2}^{2} k^{2} m_{l}^{2} \\omega_{max}^{2} - 4 k m_{l} \\tau_{max}^{2}}\\right)} + \\frac{2 T_{1} T_{2}^{2} k m_{l}^{2} \\omega_{max} \\tau_{max}^{2} \\left(T_{1}^{2} k \\omega_{max} + \\frac{\\sqrt{k m_{l} \\left(T_{1}^{4} T_{2}^{2} k m_{l} \\omega_{max}^{2} - 4 \\tau_{max}^{2}\\right)}}{T_{2} m_{l}}\\right) e^{\\frac{t \\left(T_{1}^{2} k \\omega_{max} + \\frac{\\sqrt{k m_{l} \\left(T_{1}^{4} T_{2}^{2} k m_{l} \\omega_{max}^{2} - 4 \\tau_{max}^{2}\\right)}}{T_{2} m_{l}}\\right)}{2 \\tau_{max}}} e^{- \\frac{t \\left(T_{1}^{2} T_{2} k m_{l} \\omega_{max} + \\sqrt{T_{1}^{4} T_{2}^{2} k^{2} m_{l}^{2} \\omega_{max}^{2} - 4 k m_{l} \\tau_{max}^{2}}\\right)}{2 T_{2} m_{l} \\tau_{max}}}}{\\sqrt{k m_{l} \\left(T_{1}^{4} T_{2}^{2} k m_{l} \\omega_{max}^{2} - 4 \\tau_{max}^{2}\\right)} \\left(T_{1}^{2} T_{2} k m_{l} \\omega_{max} + \\sqrt{k m_{l} \\left(T_{1}^{4} T_{2}^{2} k m_{l} \\omega_{max}^{2} - 4 \\tau_{max}^{2}\\right)}\\right) \\left(T_{1}^{2} T_{2} k m_{l} \\omega_{max} + \\sqrt{T_{1}^{4} T_{2}^{2} k^{2} m_{l}^{2} \\omega_{max}^{2} - 4 k m_{l} \\tau_{max}^{2}}\\right)} + \\frac{2 T_{1} T_{2} k m_{l} \\omega_{max} \\tau_{max}^{2} \\left(T_{1}^{8} T_{2}^{4} k^{2} m_{l}^{2} \\omega_{max}^{4} + T_{1}^{6} T_{2}^{3} k m_{l} \\omega_{max}^{3} \\sqrt{k m_{l} \\left(T_{1}^{4} T_{2}^{2} k m_{l} \\omega_{max}^{2} - 4 \\tau_{max}^{2}\\right)} - 4 T_{1}^{4} T_{2}^{2} k m_{l} \\omega_{max}^{2} \\tau_{max}^{2} - 2 T_{1}^{2} T_{2} \\omega_{max} \\tau_{max}^{2} \\sqrt{k m_{l} \\left(T_{1}^{4} T_{2}^{2} k m_{l} \\omega_{max}^{2} - 4 \\tau_{max}^{2}\\right)} + 2 \\tau_{max}^{4}\\right) e^{- \\frac{t \\left(T_{1}^{2} T_{2} k m_{l} \\omega_{max} + \\sqrt{T_{1}^{4} T_{2}^{2} k^{2} m_{l}^{2} \\omega_{max}^{2} - 4 k m_{l} \\tau_{max}^{2}}\\right)}{2 T_{2} m_{l} \\tau_{max}}}}{\\left(T_{1}^{2} T_{2} k m_{l} \\omega_{max} + \\sqrt{k m_{l} \\left(T_{1}^{4} T_{2}^{2} k m_{l} \\omega_{max}^{2} - 4 \\tau_{max}^{2}\\right)}\\right) \\left(T_{1}^{10} T_{2}^{5} k^{3} m_{l}^{3} \\omega_{max}^{5} + T_{1}^{8} T_{2}^{4} k^{2} m_{l}^{2} \\omega_{max}^{4} \\sqrt{k m_{l} \\left(T_{1}^{4} T_{2}^{2} k m_{l} \\omega_{max}^{2} - 4 \\tau_{max}^{2}\\right)} - 6 T_{1}^{6} T_{2}^{3} k^{2} m_{l}^{2} \\omega_{max}^{3} \\tau_{max}^{2} - 4 T_{1}^{4} T_{2}^{2} k m_{l} \\omega_{max}^{2} \\tau_{max}^{2} \\sqrt{k m_{l} \\left(T_{1}^{4} T_{2}^{2} k m_{l} \\omega_{max}^{2} - 4 \\tau_{max}^{2}\\right)} + 8 T_{1}^{2} T_{2} k m_{l} \\omega_{max} \\tau_{max}^{4} + 2 \\tau_{max}^{4} \\sqrt{k m_{l} \\left(T_{1}^{4} T_{2}^{2} k m_{l} \\omega_{max}^{2} - 4 \\tau_{max}^{2}\\right)}\\right)} - \\frac{2 T_{1} T_{2} k m_{l} \\omega_{max} \\tau_{max}^{2} e^{\\frac{t \\left(T_{1}^{2} k \\omega_{max} + \\frac{\\sqrt{k m_{l} \\left(T_{1}^{4} T_{2}^{2} k m_{l} \\omega_{max}^{2} - 4 \\tau_{max}^{2}\\right)}}{T_{2} m_{l}}\\right)}{2 \\tau_{max}}} e^{- \\frac{t \\left(T_{1}^{2} T_{2} k m_{l} \\omega_{max} + \\sqrt{T_{1}^{4} T_{2}^{2} k^{2} m_{l}^{2} \\omega_{max}^{2} - 4 k m_{l} \\tau_{max}^{2}}\\right)}{2 T_{2} m_{l} \\tau_{max}}}}{\\sqrt{k m_{l} \\left(T_{1}^{4} T_{2}^{2} k m_{l} \\omega_{max}^{2} - 4 \\tau_{max}^{2}\\right)} \\left(T_{1}^{2} T_{2} k m_{l} \\omega_{max} + \\sqrt{k m_{l} \\left(T_{1}^{4} T_{2}^{2} k m_{l} \\omega_{max}^{2} - 4 \\tau_{max}^{2}\\right)}\\right)} + \\frac{2 T_{1} T_{2} k m_{l} \\omega_{max} \\tau_{max}^{2} e^{\\frac{t \\left(T_{1}^{2} k \\omega_{max} - \\frac{\\sqrt{k m_{l} \\left(T_{1}^{4} T_{2}^{2} k m_{l} \\omega_{max}^{2} - 4 \\tau_{max}^{2}\\right)}}{T_{2} m_{l}}\\right)}{2 \\tau_{max}}} e^{- \\frac{t \\left(T_{1}^{2} T_{2} k m_{l} \\omega_{max} - \\sqrt{T_{1}^{4} T_{2}^{2} k^{2} m_{l}^{2} \\omega_{max}^{2} - 4 k m_{l} \\tau_{max}^{2}}\\right)}{2 T_{2} m_{l} \\tau_{max}}}}{\\sqrt{k m_{l} \\left(T_{1}^{4} T_{2}^{2} k m_{l} \\omega_{max}^{2} - 4 \\tau_{max}^{2}\\right)} \\left(T_{1}^{2} T_{2} k m_{l} \\omega_{max} - \\sqrt{k m_{l} \\left(T_{1}^{4} T_{2}^{2} k m_{l} \\omega_{max}^{2} - 4 \\tau_{max}^{2}\\right)}\\right)} - \\frac{2 T_{1} T_{2} \\omega_{max} \\tau_{max}^{2} \\left(T_{1}^{2} T_{2} k m_{l} \\omega_{max} + \\sqrt{k m_{l} \\left(T_{1}^{4} T_{2}^{2} k m_{l} \\omega_{max}^{2} - 4 \\tau_{max}^{2}\\right)}\\right) e^{- \\frac{t \\left(T_{1}^{2} T_{2} k m_{l} \\omega_{max} - \\sqrt{T_{1}^{4} T_{2}^{2} k^{2} m_{l}^{2} \\omega_{max}^{2} - 4 k m_{l} \\tau_{max}^{2}}\\right)}{2 T_{2} m_{l} \\tau_{max}}}}{\\left(T_{1}^{2} T_{2} k m_{l} \\omega_{max} - \\sqrt{k m_{l} \\left(T_{1}^{4} T_{2}^{2} k m_{l} \\omega_{max}^{2} - 4 \\tau_{max}^{2}\\right)}\\right) \\left(T_{1}^{4} T_{2}^{2} k m_{l} \\omega_{max}^{2} + T_{1}^{2} T_{2} \\omega_{max} \\sqrt{k m_{l} \\left(T_{1}^{4} T_{2}^{2} k m_{l} \\omega_{max}^{2} - 4 \\tau_{max}^{2}\\right)} - 4 \\tau_{max}^{2}\\right)} + T_{1} T_{2} \\omega_{max}$"
      ],
      "text/plain": [
       "-2*T1*T2**2*k*m_l**2*omega_max*tau_max**2*(T1**2*k*omega_max - sqrt(k*m_l*(T1**4*T2**2*k*m_l*omega_max**2 - 4*tau_max**2))/(T2*m_l))*exp(t*(T1**2*k*omega_max - sqrt(k*m_l*(T1**4*T2**2*k*m_l*omega_max**2 - 4*tau_max**2))/(T2*m_l))/(2*tau_max))*exp(-t*(T1**2*T2*k*m_l*omega_max - sqrt(T1**4*T2**2*k**2*m_l**2*omega_max**2 - 4*k*m_l*tau_max**2))/(2*T2*m_l*tau_max))/(sqrt(k*m_l*(T1**4*T2**2*k*m_l*omega_max**2 - 4*tau_max**2))*(T1**2*T2*k*m_l*omega_max - sqrt(k*m_l*(T1**4*T2**2*k*m_l*omega_max**2 - 4*tau_max**2)))*(T1**2*T2*k*m_l*omega_max - sqrt(T1**4*T2**2*k**2*m_l**2*omega_max**2 - 4*k*m_l*tau_max**2))) + 2*T1*T2**2*k*m_l**2*omega_max*tau_max**2*(T1**2*k*omega_max + sqrt(k*m_l*(T1**4*T2**2*k*m_l*omega_max**2 - 4*tau_max**2))/(T2*m_l))*exp(t*(T1**2*k*omega_max + sqrt(k*m_l*(T1**4*T2**2*k*m_l*omega_max**2 - 4*tau_max**2))/(T2*m_l))/(2*tau_max))*exp(-t*(T1**2*T2*k*m_l*omega_max + sqrt(T1**4*T2**2*k**2*m_l**2*omega_max**2 - 4*k*m_l*tau_max**2))/(2*T2*m_l*tau_max))/(sqrt(k*m_l*(T1**4*T2**2*k*m_l*omega_max**2 - 4*tau_max**2))*(T1**2*T2*k*m_l*omega_max + sqrt(k*m_l*(T1**4*T2**2*k*m_l*omega_max**2 - 4*tau_max**2)))*(T1**2*T2*k*m_l*omega_max + sqrt(T1**4*T2**2*k**2*m_l**2*omega_max**2 - 4*k*m_l*tau_max**2))) + 2*T1*T2*k*m_l*omega_max*tau_max**2*(T1**8*T2**4*k**2*m_l**2*omega_max**4 + T1**6*T2**3*k*m_l*omega_max**3*sqrt(k*m_l*(T1**4*T2**2*k*m_l*omega_max**2 - 4*tau_max**2)) - 4*T1**4*T2**2*k*m_l*omega_max**2*tau_max**2 - 2*T1**2*T2*omega_max*tau_max**2*sqrt(k*m_l*(T1**4*T2**2*k*m_l*omega_max**2 - 4*tau_max**2)) + 2*tau_max**4)*exp(-t*(T1**2*T2*k*m_l*omega_max + sqrt(T1**4*T2**2*k**2*m_l**2*omega_max**2 - 4*k*m_l*tau_max**2))/(2*T2*m_l*tau_max))/((T1**2*T2*k*m_l*omega_max + sqrt(k*m_l*(T1**4*T2**2*k*m_l*omega_max**2 - 4*tau_max**2)))*(T1**10*T2**5*k**3*m_l**3*omega_max**5 + T1**8*T2**4*k**2*m_l**2*omega_max**4*sqrt(k*m_l*(T1**4*T2**2*k*m_l*omega_max**2 - 4*tau_max**2)) - 6*T1**6*T2**3*k**2*m_l**2*omega_max**3*tau_max**2 - 4*T1**4*T2**2*k*m_l*omega_max**2*tau_max**2*sqrt(k*m_l*(T1**4*T2**2*k*m_l*omega_max**2 - 4*tau_max**2)) + 8*T1**2*T2*k*m_l*omega_max*tau_max**4 + 2*tau_max**4*sqrt(k*m_l*(T1**4*T2**2*k*m_l*omega_max**2 - 4*tau_max**2)))) - 2*T1*T2*k*m_l*omega_max*tau_max**2*exp(t*(T1**2*k*omega_max + sqrt(k*m_l*(T1**4*T2**2*k*m_l*omega_max**2 - 4*tau_max**2))/(T2*m_l))/(2*tau_max))*exp(-t*(T1**2*T2*k*m_l*omega_max + sqrt(T1**4*T2**2*k**2*m_l**2*omega_max**2 - 4*k*m_l*tau_max**2))/(2*T2*m_l*tau_max))/(sqrt(k*m_l*(T1**4*T2**2*k*m_l*omega_max**2 - 4*tau_max**2))*(T1**2*T2*k*m_l*omega_max + sqrt(k*m_l*(T1**4*T2**2*k*m_l*omega_max**2 - 4*tau_max**2)))) + 2*T1*T2*k*m_l*omega_max*tau_max**2*exp(t*(T1**2*k*omega_max - sqrt(k*m_l*(T1**4*T2**2*k*m_l*omega_max**2 - 4*tau_max**2))/(T2*m_l))/(2*tau_max))*exp(-t*(T1**2*T2*k*m_l*omega_max - sqrt(T1**4*T2**2*k**2*m_l**2*omega_max**2 - 4*k*m_l*tau_max**2))/(2*T2*m_l*tau_max))/(sqrt(k*m_l*(T1**4*T2**2*k*m_l*omega_max**2 - 4*tau_max**2))*(T1**2*T2*k*m_l*omega_max - sqrt(k*m_l*(T1**4*T2**2*k*m_l*omega_max**2 - 4*tau_max**2)))) - 2*T1*T2*omega_max*tau_max**2*(T1**2*T2*k*m_l*omega_max + sqrt(k*m_l*(T1**4*T2**2*k*m_l*omega_max**2 - 4*tau_max**2)))*exp(-t*(T1**2*T2*k*m_l*omega_max - sqrt(T1**4*T2**2*k**2*m_l**2*omega_max**2 - 4*k*m_l*tau_max**2))/(2*T2*m_l*tau_max))/((T1**2*T2*k*m_l*omega_max - sqrt(k*m_l*(T1**4*T2**2*k*m_l*omega_max**2 - 4*tau_max**2)))*(T1**4*T2**2*k*m_l*omega_max**2 + T1**2*T2*omega_max*sqrt(k*m_l*(T1**4*T2**2*k*m_l*omega_max**2 - 4*tau_max**2)) - 4*tau_max**2)) + T1*T2*omega_max"
      ]
     },
     "execution_count": 249,
     "metadata": {},
     "output_type": "execute_result"
    }
   ],
   "source": [
    "x_l_eq.rhs.diff(t)"
   ]
  },
  {
   "cell_type": "code",
   "execution_count": 223,
   "metadata": {},
   "outputs": [
    {
     "name": "stdout",
     "output_type": "stream",
     "text": [
      "operations:  154\n",
      "x0 = T1*T2*omega_max;\n",
      "x1 = pow(tau_max, 2);\n",
      "x2 = 4*x1;\n",
      "x3 = k*m_l;\n",
      "x4 = pow(T1, 4)*pow(T2, 2)*pow(omega_max, 2);\n",
      "x5 = -x2 + x3*x4;\n",
      "x6 = sqrt(x3*x5);\n",
      "x7 = pow(T1, 2)*omega_max;\n",
      "x8 = T2*x7;\n",
      "x9 = x6*x8;\n",
      "x10 = x3*x8;\n",
      "x11 = x10 + x6;\n",
      "x12 = x2*x3;\n",
      "x13 = pow(k, 2)*pow(m_l, 2);\n",
      "x14 = sqrt(-x12 + x13*x4);\n",
      "x15 = x10 - x14;\n",
      "x16 = 2*T2*m_l*tau_max;\n",
      "x17 = x16/x15;\n",
      "x18 = k != 0;\n",
      "x19 = 1/(T2*m_l);\n",
      "x20 = (1.0/2.0)*t/tau_max;\n",
      "x21 = x19*x20;\n",
      "x22 = 2*x1;\n",
      "x23 = x0*x22;\n",
      "x24 = x23*exp(-x15*x21)/(x10 - x6);\n",
      "x25 = k*x7;\n",
      "x26 = x19*x6;\n",
      "x27 = x10 + x14;\n",
      "x28 = x16/x27;\n",
      "x29 = x3/x6;\n",
      "x30 = x23*exp(-x21*x27)/x11;\n",
      "x31 = pow(tau_max, 4);\n",
      "x32 = pow(T1, 6)*pow(T2, 3)*pow(omega_max, 3);\n",
      "x33 = 2*x31;\n",
      "x34 = pow(T1, 8)*pow(T2, 4)*pow(omega_max, 4)*x13;\n",
      "x35 = x12*x4;\n",
      "x_lcode = t*x0 + x11*x24*((x18) ? (\n",
      "   x17\n",
      ")\n",
      ": (\n",
      "   0\n",
      "))/(x5 + x9) - x24*x29*((x15 != 0) ? (\n",
      "   x17*exp(x20*(x25 - x26))\n",
      ")\n",
      ": (\n",
      "   t\n",
      ")) + x29*x30*((x27 != 0) ? (\n",
      "   x28*exp(x20*(x25 + x26))\n",
      ")\n",
      ": (\n",
      "   t\n",
      ")) - x3*x30*(-x22*x9 + x3*x32*x6 + x33 + x34 - x35)*((x18) ? (\n",
      "   x28\n",
      ")\n",
      ": (\n",
      "   0\n",
      "))/(pow(T1, 10)*pow(T2, 5)*pow(k, 3)*pow(m_l, 3)*pow(omega_max, 5) - 6*x1*x13*x32 + 8*x10*x31 + x33*x6 + x34*x6 - x35*x6);\n"
     ]
    }
   ],
   "source": [
    "from sympy.codegen.ast import CodeBlock, Assignment\n",
    "\n",
    "x_a_expr = (x_a_eq.rhs)\n",
    "x_l_expr = (x_l_eq.rhs)\n",
    "\n",
    "x_acode = symbols('x_acode')\n",
    "x_lcode = symbols('x_lcode')\n",
    "c = CodeBlock(Assignment(x_lcode, x_l_expr))\n",
    "\n",
    "print(\"operations: \", count_ops(c.cse()))\n",
    "\n",
    "print(ccode(c.cse()))"
   ]
  },
  {
   "cell_type": "code",
   "execution_count": 204,
   "metadata": {},
   "outputs": [
    {
     "name": "stdout",
     "output_type": "stream",
     "text": [
      "x0 = T1*T2*omega_max\n",
      "x1 = tau_max**2\n",
      "x2 = 4*x1\n",
      "x3 = k*m_l\n",
      "x4 = T1**4*T2**2*omega_max**2\n",
      "x5 = -x2 + x3*x4\n",
      "x6 = math.sqrt(x3*x5)\n",
      "x7 = T1**2*omega_max\n",
      "x8 = T2*x7\n",
      "x9 = x6*x8\n",
      "x10 = x3*x8\n",
      "x11 = x10 + x6\n",
      "x12 = x2*x3\n",
      "x13 = k**2*m_l**2\n",
      "x14 = math.sqrt(-x12 + x13*x4)\n",
      "x15 = x10 - x14\n",
      "x16 = 2*T2*m_l*tau_max\n",
      "x17 = x16/x15\n",
      "x18 = (k != 0)\n",
      "x19 = 1/(T2*m_l)\n",
      "x20 = (1/2)*t/tau_max\n",
      "x21 = x19*x20\n",
      "x22 = 2*x1\n",
      "x23 = x0*x22\n",
      "x24 = x23*math.exp(-x15*x21)/(x10 - x6)\n",
      "x25 = k*x7\n",
      "x26 = x19*x6\n",
      "x27 = x10 + x14\n",
      "x28 = x16/x27\n",
      "x29 = x3/x6\n",
      "x30 = x23*math.exp(-x21*x27)/x11\n",
      "x31 = tau_max**4\n",
      "x32 = T1**6*T2**3*omega_max**3\n",
      "x33 = 2*x31\n",
      "x34 = T1**8*T2**4*omega_max**4*x13\n",
      "x35 = x12*x4\n",
      "x_lcode = t*x0 + x11*x24*((x17) if x18 else (0))/(x5 + x9) - x24*x29*((x17*math.exp(x20*(x25 - x26))) if (x15 != 0) else (t)) + x29*x30*((x28*math.exp(x20*(x25 + x26))) if (x27 != 0) else (t)) - x3*x30*(-x22*x9 + x3*x32*x6 + x33 + x34 - x35)*((x28) if x18 else (0))/(T1**10*T2**5*k**3*m_l**3*omega_max**5 - 6*x1*x13*x32 + 8*x10*x31 + x33*x6 + x34*x6 - x35*x6)\n"
     ]
    }
   ],
   "source": [
    "print(pycode(c.cse()))"
   ]
  }
 ],
 "metadata": {
  "kernelspec": {
   "display_name": "Python 3",
   "language": "python",
   "name": "python3"
  },
  "language_info": {
   "codemirror_mode": {
    "name": "ipython",
    "version": 3
   },
   "file_extension": ".py",
   "mimetype": "text/x-python",
   "name": "python",
   "nbconvert_exporter": "python",
   "pygments_lexer": "ipython3",
   "version": "3.11.4"
  },
  "orig_nbformat": 4
 },
 "nbformat": 4,
 "nbformat_minor": 2
}
