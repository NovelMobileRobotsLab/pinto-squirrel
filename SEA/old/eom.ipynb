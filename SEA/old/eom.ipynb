{
 "cells": [
  {
   "cell_type": "code",
   "execution_count": 39,
   "metadata": {},
   "outputs": [
    {
     "data": {
      "text/latex": [
       "$\\displaystyle \\frac{m_{a} \\dot{q}_{0, 0}^{2}}{2} + \\frac{m_{l} \\dot{q}_{1, 0}^{2}}{2}$"
      ],
      "text/plain": [
       "m_a*\\dot{q}[0, 0]**2/2 + m_l*\\dot{q}[1, 0]**2/2"
      ]
     },
     "metadata": {},
     "output_type": "display_data"
    },
    {
     "data": {
      "text/latex": [
       "$\\displaystyle \\frac{k \\left(T_{1} q_{0, 0} - \\frac{q_{1, 0}}{T_{2}}\\right)^{2}}{2}$"
      ],
      "text/plain": [
       "k*(T1*q[0, 0] - q[1, 0]/T2)**2/2"
      ]
     },
     "metadata": {},
     "output_type": "display_data"
    },
    {
     "data": {
      "text/latex": [
       "$\\displaystyle \\frac{T_{2}^{2} \\left(m_{a} \\dot{q}_{0, 0}^{2} + m_{l} \\dot{q}_{1, 0}^{2}\\right) - k \\left(T_{1} T_{2} q_{0, 0} - q_{1, 0}\\right)^{2}}{2 T_{2}^{2}}$"
      ],
      "text/plain": [
       "(T2**2*(m_a*\\dot{q}[0, 0]**2 + m_l*\\dot{q}[1, 0]**2) - k*(T1*T2*q[0, 0] - q[1, 0])**2)/(2*T2**2)"
      ]
     },
     "metadata": {},
     "output_type": "display_data"
    }
   ],
   "source": [
    "from sympy import *\n",
    "\n",
    "m_a, m_l = symbols('m_a m_l') #mass of actuator, load\n",
    "x_a, x_l = symbols('x_a x_l') #position of actuator, load\n",
    "xd_a, xd_l = symbols('\\dot{x_a} \\dot{x_l}') #position of actuator, load\n",
    "x1, x2 = symbols('x1 x2') #position of ends of spring\n",
    "T1, T2 = symbols('T1 T2') #transmission ratios of transmissions before and after spring\n",
    "k = symbols('k') #spring stiffness\n",
    "\n",
    "q = MatrixSymbol('q', 2, 1)\n",
    "qd = MatrixSymbol('\\dot{q}', 2, 1)\n",
    "qdd = MatrixSymbol('\\ddot{q}', 2, 1)\n",
    "def derivative(x):\n",
    "    x = Matrix([x])\n",
    "    derivmat = x.jacobian(Matrix([q,qd])) * Matrix([qd,qdd])\n",
    "    if len(x) == 1:\n",
    "        return derivmat[0]\n",
    "    return derivmat\n",
    "\n",
    "x_a = q[0]\n",
    "x_l = q[1]\n",
    "xd_a = derivative(x_a)\n",
    "xd_l = derivative(x_l)\n",
    "\n",
    "x1 = T1*x_a\n",
    "x2 = 1/T2*x_l\n",
    "\n",
    "# Kinetic energy\n",
    "K = (m_a*xd_a*xd_a + m_l*xd_l*xd_l)/2\n",
    "\n",
    "# Potential energy\n",
    "P = (k*(x1-x2)**2)/2\n",
    "\n",
    "# Define Lagrangian\n",
    "Lag = K - P\n",
    "Lag = simplify(nsimplify(Lag))\n",
    "\n",
    "display(K, P, Lag)"
   ]
  },
  {
   "cell_type": "code",
   "execution_count": 40,
   "metadata": {},
   "outputs": [
    {
     "data": {
      "text/latex": [
       "$\\displaystyle \\left[\\begin{matrix}\\frac{T_{1} k \\left(T_{1} T_{2} q_{0, 0} - q_{1, 0}\\right) + T_{2} m_{a} \\ddot{q}_{0, 0}}{T_{2}}\\\\- \\frac{T_{1} k q_{0, 0}}{T_{2}} + m_{l} \\ddot{q}_{1, 0} + \\frac{k q_{1, 0}}{T_{2}^{2}}\\end{matrix}\\right]$"
      ],
      "text/plain": [
       "Matrix([\n",
       "[(T1*k*(T1*T2*q[0, 0] - q[1, 0]) + T2*m_a*\\ddot{q}[0, 0])/T2],\n",
       "[    -T1*k*q[0, 0]/T2 + m_l*\\ddot{q}[1, 0] + k*q[1, 0]/T2**2]])"
      ]
     },
     "metadata": {},
     "output_type": "display_data"
    },
    {
     "data": {
      "text/latex": [
       "$\\displaystyle \\left[\\begin{matrix}- \\frac{T_{1} k \\left(- T_{1} T_{2} q_{0, 0} + q_{1, 0}\\right)}{T_{2}} + m_{a} \\ddot{q}_{0, 0}\\\\m_{l} \\ddot{q}_{1, 0} - \\frac{k \\left(T_{1} T_{2} q_{0, 0} - q_{1, 0}\\right)}{T_{2}^{2}}\\end{matrix}\\right]$"
      ],
      "text/plain": [
       "Matrix([\n",
       "[-T1*k*(-T1*T2*q[0, 0] + q[1, 0])/T2 + m_a*\\ddot{q}[0, 0]],\n",
       "[  m_l*\\ddot{q}[1, 0] - k*(T1*T2*q[0, 0] - q[1, 0])/T2**2]])"
      ]
     },
     "metadata": {},
     "output_type": "display_data"
    }
   ],
   "source": [
    "# Euler-Lagrangian Equation of Motion (EoM)\n",
    "EoM_LHS = zeros(2, 1)\n",
    "for i in range(2):\n",
    "    partial_dq_ = simplify(diff(Lag, qd[i]))\n",
    "    partial_q_ = simplify(diff(Lag, q[i]))\n",
    "    EoM_LHS[i] = derivative(partial_dq_) - partial_q_\n",
    "\n",
    "display(simplify(EoM_LHS))\n",
    "display(EoM_LHS)"
   ]
  },
  {
   "cell_type": "code",
   "execution_count": 41,
   "metadata": {},
   "outputs": [
    {
     "data": {
      "text/latex": [
       "$\\displaystyle \\left[\\begin{matrix}m_{a} & 0\\\\0 & m_{l}\\end{matrix}\\right]$"
      ],
      "text/plain": [
       "Matrix([\n",
       "[m_a,   0],\n",
       "[  0, m_l]])"
      ]
     },
     "metadata": {},
     "output_type": "display_data"
    },
    {
     "data": {
      "text/latex": [
       "$\\displaystyle \\left[\\begin{matrix}\\frac{1}{m_{a}} & 0\\\\0 & \\frac{1}{m_{l}}\\end{matrix}\\right]$"
      ],
      "text/plain": [
       "Matrix([\n",
       "[1/m_a,     0],\n",
       "[    0, 1/m_l]])"
      ]
     },
     "metadata": {},
     "output_type": "display_data"
    }
   ],
   "source": [
    "M = simplify(EoM_LHS.jacobian(qdd))\n",
    "Minv = M.inv()\n",
    "display(M, Minv)"
   ]
  },
  {
   "cell_type": "code",
   "execution_count": 43,
   "metadata": {},
   "outputs": [
    {
     "data": {
      "text/latex": [
       "$\\displaystyle \\left[\\begin{matrix}\\frac{T_{1} k \\left(T_{1} T_{2} q_{0, 0} - q_{1, 0}\\right)}{T_{2}}\\\\\\frac{k \\left(- T_{1} T_{2} q_{0, 0} + q_{1, 0}\\right)}{T_{2}^{2}}\\end{matrix}\\right]$"
      ],
      "text/plain": [
       "Matrix([\n",
       "[ T1*k*(T1*T2*q[0, 0] - q[1, 0])/T2],\n",
       "[k*(-T1*T2*q[0, 0] + q[1, 0])/T2**2]])"
      ]
     },
     "metadata": {},
     "output_type": "display_data"
    }
   ],
   "source": [
    "CG = simplify(EoM_LHS.subs({qdd:Matrix([0,0])}))\n",
    "display(CG)"
   ]
  },
  {
   "cell_type": "code",
   "execution_count": 72,
   "metadata": {},
   "outputs": [
    {
     "data": {
      "text/latex": [
       "$\\displaystyle \\frac{- T_{1} k \\left(T_{1} T_{2} q_{0, 0} - q_{1, 0}\\right) + T_{2} f}{T_{2} m_{a}}$"
      ],
      "text/plain": [
       "(-T1*k*(T1*T2*q[0, 0] - q[1, 0]) + T2*f)/(T2*m_a)"
      ]
     },
     "metadata": {},
     "output_type": "display_data"
    },
    {
     "data": {
      "text/latex": [
       "$\\displaystyle \\frac{k \\left(T_{1} T_{2} q_{0, 0} - q_{1, 0}\\right)}{T_{2}^{2} m_{l}}$"
      ],
      "text/plain": [
       "k*(T1*T2*q[0, 0] - q[1, 0])/(T2**2*m_l)"
      ]
     },
     "metadata": {},
     "output_type": "display_data"
    }
   ],
   "source": [
    "motorforce = symbols('f')\n",
    "tau = Matrix([motorforce, 0])\n",
    "\n",
    "qdd_sim = simplify(Minv*(tau - CG))\n",
    "display(qdd_sim[0], qdd_sim[1])"
   ]
  }
 ],
 "metadata": {
  "kernelspec": {
   "display_name": "Python 3",
   "language": "python",
   "name": "python3"
  },
  "language_info": {
   "codemirror_mode": {
    "name": "ipython",
    "version": 3
   },
   "file_extension": ".py",
   "mimetype": "text/x-python",
   "name": "python",
   "nbconvert_exporter": "python",
   "pygments_lexer": "ipython3",
   "version": "3.11.4"
  },
  "orig_nbformat": 4
 },
 "nbformat": 4,
 "nbformat_minor": 2
}
