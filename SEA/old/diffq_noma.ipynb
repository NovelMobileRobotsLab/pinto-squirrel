{
 "cells": [
  {
   "cell_type": "code",
   "execution_count": 527,
   "metadata": {},
   "outputs": [
    {
     "data": {
      "text/latex": [
       "$\\displaystyle \\left[\\begin{matrix}- \\frac{T_{1}^{2} k \\omega_{max}}{\\tau_{max}} & \\frac{T_{1} k \\omega_{max}}{T_{2} \\tau_{max}} & 0\\\\0 & 0 & 1\\\\\\frac{T_{1} k}{T_{2} m_{l}} & - \\frac{k}{T_{2}^{2} m_{l}} & 0\\end{matrix}\\right]$"
      ],
      "text/plain": [
       "Matrix([\n",
       "[-T1**2*k*omega_max/tau_max, T1*k*omega_max/(T2*tau_max), 0],\n",
       "[                         0,                           0, 1],\n",
       "[             T1*k/(T2*m_l),              -k/(T2**2*m_l), 0]])"
      ]
     },
     "metadata": {},
     "output_type": "display_data"
    },
    {
     "data": {
      "text/latex": [
       "$\\displaystyle \\left[\\begin{matrix}\\omega_{max}\\\\0\\\\0\\end{matrix}\\right]$"
      ],
      "text/plain": [
       "Matrix([\n",
       "[omega_max],\n",
       "[        0],\n",
       "[        0]])"
      ]
     },
     "metadata": {},
     "output_type": "display_data"
    }
   ],
   "source": [
    "from sympy import *\n",
    "from sympy.solvers.ode.systems import linodesolve\n",
    "\n",
    "# tau_s = 0.1 #N*m\n",
    "# omega_f = 1000 #about 10,000rpm\n",
    "\n",
    "tau_max, omega_max = symbols(\"tau_max, omega_max\") #stall torque, free speed\n",
    "# free_speed = 1000 #about 10,000rpm\n",
    "\n",
    "\n",
    "T1, T2, k, m_a, m_l, k = symbols('T1, T2, k, m_a, m_l, k')\n",
    "c0, c1, c2, c3, c4, c5, c6 = symbols('c:7')\n",
    "\n",
    "t = symbols('t')\n",
    "\n",
    "c1 = -k * T1**2 * omega_max / tau_max\n",
    "c2 = k * T1 * omega_max / (tau_max * T2)\n",
    "c3 = k * T1 / (T2 * m_l)\n",
    "c4 = -k / (T2**2 * m_l)\n",
    "\n",
    "\n",
    "A = Matrix([\n",
    "    [c1, c2, 0],\n",
    "    [0, 0, 1],\n",
    "    [c3, c4, 0],\n",
    "])\n",
    "b = Matrix([omega_max, 0, 0])\n",
    "\n",
    "display(A, b)"
   ]
  },
  {
   "cell_type": "code",
   "execution_count": 528,
   "metadata": {},
   "outputs": [
    {
     "data": {
      "text/latex": [
       "$\\displaystyle \\frac{Dummy_{56743}}{T_{1} T_{2}} - \\frac{Dummy_{56744} T_{1} T_{2} m_{l} \\omega_{max} e^{- \\frac{T_{1}^{2} k \\omega_{max} t}{2 \\tau_{max}} - \\frac{t \\sqrt{T_{1}^{4} T_{2}^{2} k^{2} m_{l}^{2} \\omega_{max}^{2} - 4 k m_{l} \\tau_{max}^{2}}}{2 T_{2} m_{l} \\tau_{max}}}}{\\tau_{max}} - \\frac{Dummy_{56745} T_{1} T_{2} m_{l} \\omega_{max} e^{- \\frac{T_{1}^{2} k \\omega_{max} t}{2 \\tau_{max}} + \\frac{t \\sqrt{T_{1}^{4} T_{2}^{2} k^{2} m_{l}^{2} \\omega_{max}^{2} - 4 k m_{l} \\tau_{max}^{2}}}{2 T_{2} m_{l} \\tau_{max}}}}{\\tau_{max}} - \\frac{T_{1}^{2} T_{2}^{2} m_{l} \\omega_{max}^{2}}{\\tau_{max}} + \\omega_{max} t$"
      ],
      "text/plain": [
       "_Dummy_56743/(T1*T2) - _Dummy_56744*T1*T2*m_l*omega_max*exp(-T1**2*k*omega_max*t/(2*tau_max) - t*sqrt(T1**4*T2**2*k**2*m_l**2*omega_max**2 - 4*k*m_l*tau_max**2)/(2*T2*m_l*tau_max))/tau_max - _Dummy_56745*T1*T2*m_l*omega_max*exp(-T1**2*k*omega_max*t/(2*tau_max) + t*sqrt(T1**4*T2**2*k**2*m_l**2*omega_max**2 - 4*k*m_l*tau_max**2)/(2*T2*m_l*tau_max))/tau_max - T1**2*T2**2*m_l*omega_max**2/tau_max + omega_max*t"
      ]
     },
     "metadata": {},
     "output_type": "display_data"
    },
    {
     "data": {
      "text/latex": [
       "$\\displaystyle Dummy_{56743} - \\frac{Dummy_{56744} T_{1}^{2} T_{2}^{2} m_{l} \\omega_{max} e^{- \\frac{T_{1}^{2} k \\omega_{max} t}{2 \\tau_{max}} - \\frac{t \\sqrt{T_{1}^{4} T_{2}^{2} k^{2} m_{l}^{2} \\omega_{max}^{2} - 4 k m_{l} \\tau_{max}^{2}}}{2 T_{2} m_{l} \\tau_{max}}}}{2 \\tau_{max}} + \\frac{Dummy_{56744} T_{2} \\sqrt{T_{1}^{4} T_{2}^{2} k^{2} m_{l}^{2} \\omega_{max}^{2} - 4 k m_{l} \\tau_{max}^{2}} e^{- \\frac{T_{1}^{2} k \\omega_{max} t}{2 \\tau_{max}} - \\frac{t \\sqrt{T_{1}^{4} T_{2}^{2} k^{2} m_{l}^{2} \\omega_{max}^{2} - 4 k m_{l} \\tau_{max}^{2}}}{2 T_{2} m_{l} \\tau_{max}}}}{2 k \\tau_{max}} - \\frac{Dummy_{56745} T_{1}^{2} T_{2}^{2} m_{l} \\omega_{max} e^{- \\frac{T_{1}^{2} k \\omega_{max} t}{2 \\tau_{max}} + \\frac{t \\sqrt{T_{1}^{4} T_{2}^{2} k^{2} m_{l}^{2} \\omega_{max}^{2} - 4 k m_{l} \\tau_{max}^{2}}}{2 T_{2} m_{l} \\tau_{max}}}}{2 \\tau_{max}} - \\frac{Dummy_{56745} T_{2} \\sqrt{T_{1}^{4} T_{2}^{2} k^{2} m_{l}^{2} \\omega_{max}^{2} - 4 k m_{l} \\tau_{max}^{2}} e^{- \\frac{T_{1}^{2} k \\omega_{max} t}{2 \\tau_{max}} + \\frac{t \\sqrt{T_{1}^{4} T_{2}^{2} k^{2} m_{l}^{2} \\omega_{max}^{2} - 4 k m_{l} \\tau_{max}^{2}}}{2 T_{2} m_{l} \\tau_{max}}}}{2 k \\tau_{max}} - \\frac{T_{1}^{3} T_{2}^{3} m_{l} \\omega_{max}^{2}}{\\tau_{max}} + T_{1} T_{2} \\omega_{max} t$"
      ],
      "text/plain": [
       "_Dummy_56743 - _Dummy_56744*T1**2*T2**2*m_l*omega_max*exp(-T1**2*k*omega_max*t/(2*tau_max) - t*sqrt(T1**4*T2**2*k**2*m_l**2*omega_max**2 - 4*k*m_l*tau_max**2)/(2*T2*m_l*tau_max))/(2*tau_max) + _Dummy_56744*T2*sqrt(T1**4*T2**2*k**2*m_l**2*omega_max**2 - 4*k*m_l*tau_max**2)*exp(-T1**2*k*omega_max*t/(2*tau_max) - t*sqrt(T1**4*T2**2*k**2*m_l**2*omega_max**2 - 4*k*m_l*tau_max**2)/(2*T2*m_l*tau_max))/(2*k*tau_max) - _Dummy_56745*T1**2*T2**2*m_l*omega_max*exp(-T1**2*k*omega_max*t/(2*tau_max) + t*sqrt(T1**4*T2**2*k**2*m_l**2*omega_max**2 - 4*k*m_l*tau_max**2)/(2*T2*m_l*tau_max))/(2*tau_max) - _Dummy_56745*T2*sqrt(T1**4*T2**2*k**2*m_l**2*omega_max**2 - 4*k*m_l*tau_max**2)*exp(-T1**2*k*omega_max*t/(2*tau_max) + t*sqrt(T1**4*T2**2*k**2*m_l**2*omega_max**2 - 4*k*m_l*tau_max**2)/(2*T2*m_l*tau_max))/(2*k*tau_max) - T1**3*T2**3*m_l*omega_max**2/tau_max + T1*T2*omega_max*t"
      ]
     },
     "metadata": {},
     "output_type": "display_data"
    },
    {
     "data": {
      "text/latex": [
       "$\\displaystyle Dummy_{56744} e^{- \\frac{T_{1}^{2} k \\omega_{max} t}{2 \\tau_{max}} - \\frac{t \\sqrt{T_{1}^{4} T_{2}^{2} k^{2} m_{l}^{2} \\omega_{max}^{2} - 4 k m_{l} \\tau_{max}^{2}}}{2 T_{2} m_{l} \\tau_{max}}} + Dummy_{56745} e^{- \\frac{T_{1}^{2} k \\omega_{max} t}{2 \\tau_{max}} + \\frac{t \\sqrt{T_{1}^{4} T_{2}^{2} k^{2} m_{l}^{2} \\omega_{max}^{2} - 4 k m_{l} \\tau_{max}^{2}}}{2 T_{2} m_{l} \\tau_{max}}} + T_{1} T_{2} \\omega_{max}$"
      ],
      "text/plain": [
       "_Dummy_56744*exp(-T1**2*k*omega_max*t/(2*tau_max) - t*sqrt(T1**4*T2**2*k**2*m_l**2*omega_max**2 - 4*k*m_l*tau_max**2)/(2*T2*m_l*tau_max)) + _Dummy_56745*exp(-T1**2*k*omega_max*t/(2*tau_max) + t*sqrt(T1**4*T2**2*k**2*m_l**2*omega_max**2 - 4*k*m_l*tau_max**2)/(2*T2*m_l*tau_max)) + T1*T2*omega_max"
      ]
     },
     "metadata": {},
     "output_type": "display_data"
    }
   ],
   "source": [
    "linsol = linodesolve(A, t, b=b)\n",
    "\n",
    "for i in range(3):\n",
    "    linsol[i] = linsol[i].doit(conds='none')\n",
    "    linsol[i] = simplify(linsol[i])\n",
    "    display(linsol[i])"
   ]
  },
  {
   "cell_type": "code",
   "execution_count": 451,
   "metadata": {},
   "outputs": [
    {
     "data": {
      "text/plain": [
       "[_Dummy_44596, _Dummy_44595, _Dummy_44597]"
      ]
     },
     "execution_count": 451,
     "metadata": {},
     "output_type": "execute_result"
    }
   ],
   "source": [
    "dum_syms = []\n",
    "freesyms = list(linsol[0].free_symbols) + list(linsol[1].free_symbols) + list(linsol[2].free_symbols)\n",
    "for freesym in freesyms:\n",
    "    if freesym.name.startswith('Dummy') and not freesym in dum_syms:\n",
    "        dum_syms.append(freesym)\n",
    "dum_syms"
   ]
  },
  {
   "cell_type": "code",
   "execution_count": 452,
   "metadata": {},
   "outputs": [
    {
     "data": {
      "text/latex": [
       "$\\displaystyle \\left[\\begin{matrix}- \\frac{T_{1} T_{2} m_{l} \\omega_{max}}{\\tau_{max}} & \\frac{1}{T_{1} T_{2}} & - \\frac{T_{1} T_{2} m_{l} \\omega_{max}}{\\tau_{max}}\\\\\\frac{T_{2} \\left(- T_{1}^{2} T_{2} k m_{l} \\omega_{max} + \\sqrt{k m_{l} \\left(T_{1}^{4} T_{2}^{2} k m_{l} \\omega_{max}^{2} - 4 \\tau_{max}^{2}\\right)}\\right)}{2 k \\tau_{max}} & 1 & \\frac{T_{2} \\left(- T_{1}^{2} T_{2} k m_{l} \\omega_{max} - \\sqrt{k m_{l} \\left(T_{1}^{4} T_{2}^{2} k m_{l} \\omega_{max}^{2} - 4 \\tau_{max}^{2}\\right)}\\right)}{2 k \\tau_{max}}\\\\1 & 0 & 1\\end{matrix}\\right]$"
      ],
      "text/plain": [
       "Matrix([\n",
       "[                                                                              -T1*T2*m_l*omega_max/tau_max, 1/(T1*T2),                                                                               -T1*T2*m_l*omega_max/tau_max],\n",
       "[T2*(-T1**2*T2*k*m_l*omega_max + sqrt(k*m_l*(T1**4*T2**2*k*m_l*omega_max**2 - 4*tau_max**2)))/(2*k*tau_max),         1, T2*(-T1**2*T2*k*m_l*omega_max - sqrt(k*m_l*(T1**4*T2**2*k*m_l*omega_max**2 - 4*tau_max**2)))/(2*k*tau_max)],\n",
       "[                                                                                                         1,         0,                                                                                                          1]])"
      ]
     },
     "metadata": {},
     "output_type": "display_data"
    },
    {
     "data": {
      "text/latex": [
       "$\\displaystyle \\left[\\begin{matrix}- \\frac{T_{1} k \\tau_{max}}{\\sqrt{k m_{l} \\left(T_{1}^{4} T_{2}^{2} k m_{l} \\omega_{max}^{2} - 4 \\tau_{max}^{2}\\right)}} & \\frac{k \\tau_{max}}{T_{2} \\sqrt{k m_{l} \\left(T_{1}^{4} T_{2}^{2} k m_{l} \\omega_{max}^{2} - 4 \\tau_{max}^{2}\\right)}} & - \\frac{T_{1}^{2} T_{2} k m_{l} \\omega_{max}}{2 \\sqrt{T_{1}^{4} T_{2}^{2} k^{2} m_{l}^{2} \\omega_{max}^{2} - 4 k m_{l} \\tau_{max}^{2}}} + \\frac{1}{2}\\\\T_{1} T_{2} & 0 & \\frac{T_{1}^{2} T_{2}^{2} m_{l} \\omega_{max}}{\\tau_{max}}\\\\\\frac{T_{1} k \\tau_{max}}{\\sqrt{k m_{l} \\left(T_{1}^{4} T_{2}^{2} k m_{l} \\omega_{max}^{2} - 4 \\tau_{max}^{2}\\right)}} & - \\frac{k \\tau_{max}}{T_{2} \\sqrt{k m_{l} \\left(T_{1}^{4} T_{2}^{2} k m_{l} \\omega_{max}^{2} - 4 \\tau_{max}^{2}\\right)}} & \\frac{T_{1}^{2} T_{2} k m_{l} \\omega_{max}}{2 \\sqrt{T_{1}^{4} T_{2}^{2} k^{2} m_{l}^{2} \\omega_{max}^{2} - 4 k m_{l} \\tau_{max}^{2}}} + \\frac{1}{2}\\end{matrix}\\right]$"
      ],
      "text/plain": [
       "Matrix([\n",
       "[-T1*k*tau_max/sqrt(k*m_l*(T1**4*T2**2*k*m_l*omega_max**2 - 4*tau_max**2)),  k*tau_max/(T2*sqrt(k*m_l*(T1**4*T2**2*k*m_l*omega_max**2 - 4*tau_max**2))), -T1**2*T2*k*m_l*omega_max/(2*sqrt(T1**4*T2**2*k**2*m_l**2*omega_max**2 - 4*k*m_l*tau_max**2)) + 1/2],\n",
       "[                                                                    T1*T2,                                                                           0,                                                                   T1**2*T2**2*m_l*omega_max/tau_max],\n",
       "[ T1*k*tau_max/sqrt(k*m_l*(T1**4*T2**2*k*m_l*omega_max**2 - 4*tau_max**2)), -k*tau_max/(T2*sqrt(k*m_l*(T1**4*T2**2*k*m_l*omega_max**2 - 4*tau_max**2))),  T1**2*T2*k*m_l*omega_max/(2*sqrt(T1**4*T2**2*k**2*m_l**2*omega_max**2 - 4*k*m_l*tau_max**2)) + 1/2]])"
      ]
     },
     "metadata": {},
     "output_type": "display_data"
    },
    {
     "data": {
      "text/latex": [
       "$\\displaystyle \\left[\\begin{matrix}\\frac{T_{1}^{2} T_{2}^{2} m_{l} \\omega_{max}^{2}}{\\tau_{max}}\\\\\\frac{T_{1}^{3} T_{2}^{3} m_{l} \\omega_{max}^{2}}{\\tau_{max}}\\\\- T_{1} T_{2} \\omega_{max}\\end{matrix}\\right]$"
      ],
      "text/plain": [
       "Matrix([\n",
       "[T1**2*T2**2*m_l*omega_max**2/tau_max],\n",
       "[T1**3*T2**3*m_l*omega_max**2/tau_max],\n",
       "[                    -T1*T2*omega_max]])"
      ]
     },
     "metadata": {},
     "output_type": "display_data"
    }
   ],
   "source": [
    "mat = linear_eq_to_matrix(linsol, dum_syms)\n",
    "A_dum = simplify(mat[0].subs({t:0}))\n",
    "A_dum_inv = simplify(A_dum.inv())\n",
    "b_dum = simplify(mat[1].subs({t:0}))\n",
    "display(A_dum, A_dum_inv, b_dum)"
   ]
  },
  {
   "cell_type": "code",
   "execution_count": 453,
   "metadata": {},
   "outputs": [
    {
     "data": {
      "text/latex": [
       "$\\displaystyle \\frac{Dummy_{44595}}{T_{1} T_{2}} - \\frac{Dummy_{44596} T_{1} T_{2} m_{l} \\omega_{max}}{\\tau_{max}} - \\frac{Dummy_{44597} T_{1} T_{2} m_{l} \\omega_{max}}{\\tau_{max}} - \\frac{T_{1}^{2} T_{2}^{2} m_{l} \\omega_{max}^{2}}{\\tau_{max}}$"
      ],
      "text/plain": [
       "_Dummy_44595/(T1*T2) - _Dummy_44596*T1*T2*m_l*omega_max/tau_max - _Dummy_44597*T1*T2*m_l*omega_max/tau_max - T1**2*T2**2*m_l*omega_max**2/tau_max"
      ]
     },
     "metadata": {},
     "output_type": "display_data"
    },
    {
     "data": {
      "text/latex": [
       "$\\displaystyle Dummy_{44595} - \\frac{Dummy_{44596} T_{1}^{2} T_{2}^{2} m_{l} \\omega_{max}}{2 \\tau_{max}} + \\frac{Dummy_{44596} T_{2} \\sqrt{T_{1}^{4} T_{2}^{2} k^{2} m_{l}^{2} \\omega_{max}^{2} - 4 k m_{l} \\tau_{max}^{2}}}{2 k \\tau_{max}} - \\frac{Dummy_{44597} T_{1}^{2} T_{2}^{2} m_{l} \\omega_{max}}{2 \\tau_{max}} - \\frac{Dummy_{44597} T_{2} \\sqrt{T_{1}^{4} T_{2}^{2} k^{2} m_{l}^{2} \\omega_{max}^{2} - 4 k m_{l} \\tau_{max}^{2}}}{2 k \\tau_{max}} - \\frac{T_{1}^{3} T_{2}^{3} m_{l} \\omega_{max}^{2}}{\\tau_{max}}$"
      ],
      "text/plain": [
       "_Dummy_44595 - _Dummy_44596*T1**2*T2**2*m_l*omega_max/(2*tau_max) + _Dummy_44596*T2*sqrt(T1**4*T2**2*k**2*m_l**2*omega_max**2 - 4*k*m_l*tau_max**2)/(2*k*tau_max) - _Dummy_44597*T1**2*T2**2*m_l*omega_max/(2*tau_max) - _Dummy_44597*T2*sqrt(T1**4*T2**2*k**2*m_l**2*omega_max**2 - 4*k*m_l*tau_max**2)/(2*k*tau_max) - T1**3*T2**3*m_l*omega_max**2/tau_max"
      ]
     },
     "metadata": {},
     "output_type": "display_data"
    },
    {
     "data": {
      "text/latex": [
       "$\\displaystyle Dummy_{44596} + Dummy_{44597} + T_{1} T_{2} \\omega_{max}$"
      ],
      "text/plain": [
       "_Dummy_44596 + _Dummy_44597 + T1*T2*omega_max"
      ]
     },
     "metadata": {},
     "output_type": "display_data"
    }
   ],
   "source": [
    "for i in range(3):\n",
    "    display(linsol[i].subs(t,0))"
   ]
  },
  {
   "cell_type": "code",
   "execution_count": 454,
   "metadata": {},
   "outputs": [
    {
     "data": {
      "text/latex": [
       "$\\displaystyle \\left[\\begin{matrix}\\frac{Dummy_{44595}}{T_{1} T_{2}} - \\frac{Dummy_{44596} T_{1} T_{2} m_{l} \\omega_{max}}{\\tau_{max}} - \\frac{Dummy_{44597} T_{1} T_{2} m_{l} \\omega_{max}}{\\tau_{max}} - \\frac{T_{1}^{2} T_{2}^{2} m_{l} \\omega_{max}^{2}}{\\tau_{max}}\\\\Dummy_{44595} + \\frac{Dummy_{44596} T_{2} \\left(- T_{1}^{2} T_{2} k m_{l} \\omega_{max} + \\sqrt{k m_{l} \\left(T_{1}^{4} T_{2}^{2} k m_{l} \\omega_{max}^{2} - 4 \\tau_{max}^{2}\\right)}\\right)}{2 k \\tau_{max}} + \\frac{Dummy_{44597} T_{2} \\left(- T_{1}^{2} T_{2} k m_{l} \\omega_{max} - \\sqrt{k m_{l} \\left(T_{1}^{4} T_{2}^{2} k m_{l} \\omega_{max}^{2} - 4 \\tau_{max}^{2}\\right)}\\right)}{2 k \\tau_{max}} - \\frac{T_{1}^{3} T_{2}^{3} m_{l} \\omega_{max}^{2}}{\\tau_{max}}\\\\Dummy_{44596} + Dummy_{44597} + T_{1} T_{2} \\omega_{max}\\end{matrix}\\right]$"
      ],
      "text/plain": [
       "Matrix([\n",
       "[                                                                                                                                                      _Dummy_44595/(T1*T2) - _Dummy_44596*T1*T2*m_l*omega_max/tau_max - _Dummy_44597*T1*T2*m_l*omega_max/tau_max - T1**2*T2**2*m_l*omega_max**2/tau_max],\n",
       "[_Dummy_44595 + _Dummy_44596*T2*(-T1**2*T2*k*m_l*omega_max + sqrt(k*m_l*(T1**4*T2**2*k*m_l*omega_max**2 - 4*tau_max**2)))/(2*k*tau_max) + _Dummy_44597*T2*(-T1**2*T2*k*m_l*omega_max - sqrt(k*m_l*(T1**4*T2**2*k*m_l*omega_max**2 - 4*tau_max**2)))/(2*k*tau_max) - T1**3*T2**3*m_l*omega_max**2/tau_max],\n",
       "[                                                                                                                                                                                                                                                          _Dummy_44596 + _Dummy_44597 + T1*T2*omega_max]])"
      ]
     },
     "execution_count": 454,
     "metadata": {},
     "output_type": "execute_result"
    }
   ],
   "source": [
    "A_dum @ Matrix(dum_syms) - b_dum #should be the same as linsol in previous cell"
   ]
  },
  {
   "cell_type": "code",
   "execution_count": 455,
   "metadata": {},
   "outputs": [
    {
     "data": {
      "text/latex": [
       "$\\displaystyle \\left[\\begin{matrix}\\frac{T_{1}^{3} T_{2}^{3} k m_{l} \\omega_{max}^{2} - T_{1}^{2} T_{2}^{2} k m_{l} \\omega_{max} v_{l0} - T_{1} T_{2}^{2} \\omega_{max} \\sqrt{k m_{l} \\left(T_{1}^{4} T_{2}^{2} k m_{l} \\omega_{max}^{2} - 4 \\tau_{max}^{2}\\right)} - 2 T_{1} T_{2} k \\tau_{max} x_{a0} + T_{2} v_{l0} \\sqrt{k m_{l} \\left(T_{1}^{4} T_{2}^{2} k m_{l} \\omega_{max}^{2} - 4 \\tau_{max}^{2}\\right)} + 2 k \\tau_{max} x_{l0}}{2 T_{2} \\sqrt{k m_{l} \\left(T_{1}^{4} T_{2}^{2} k m_{l} \\omega_{max}^{2} - 4 \\tau_{max}^{2}\\right)}}\\\\\\frac{T_{1} T_{2} \\left(T_{1} T_{2} m_{l} \\omega_{max} v_{l0} + \\tau_{max} x_{a0}\\right)}{\\tau_{max}}\\\\\\frac{- T_{1}^{3} T_{2}^{3} k m_{l} \\omega_{max}^{2} + T_{1}^{2} T_{2}^{2} k m_{l} \\omega_{max} v_{l0} - T_{1} T_{2}^{2} \\omega_{max} \\sqrt{k m_{l} \\left(T_{1}^{4} T_{2}^{2} k m_{l} \\omega_{max}^{2} - 4 \\tau_{max}^{2}\\right)} + 2 T_{1} T_{2} k \\tau_{max} x_{a0} + T_{2} v_{l0} \\sqrt{k m_{l} \\left(T_{1}^{4} T_{2}^{2} k m_{l} \\omega_{max}^{2} - 4 \\tau_{max}^{2}\\right)} - 2 k \\tau_{max} x_{l0}}{2 T_{2} \\sqrt{k m_{l} \\left(T_{1}^{4} T_{2}^{2} k m_{l} \\omega_{max}^{2} - 4 \\tau_{max}^{2}\\right)}}\\end{matrix}\\right]$"
      ],
      "text/plain": [
       "Matrix([\n",
       "[ (T1**3*T2**3*k*m_l*omega_max**2 - T1**2*T2**2*k*m_l*omega_max*v_l0 - T1*T2**2*omega_max*sqrt(k*m_l*(T1**4*T2**2*k*m_l*omega_max**2 - 4*tau_max**2)) - 2*T1*T2*k*tau_max*x_a0 + T2*v_l0*sqrt(k*m_l*(T1**4*T2**2*k*m_l*omega_max**2 - 4*tau_max**2)) + 2*k*tau_max*x_l0)/(2*T2*sqrt(k*m_l*(T1**4*T2**2*k*m_l*omega_max**2 - 4*tau_max**2)))],\n",
       "[                                                                                                                                                                                                                                                                                   T1*T2*(T1*T2*m_l*omega_max*v_l0 + tau_max*x_a0)/tau_max],\n",
       "[(-T1**3*T2**3*k*m_l*omega_max**2 + T1**2*T2**2*k*m_l*omega_max*v_l0 - T1*T2**2*omega_max*sqrt(k*m_l*(T1**4*T2**2*k*m_l*omega_max**2 - 4*tau_max**2)) + 2*T1*T2*k*tau_max*x_a0 + T2*v_l0*sqrt(k*m_l*(T1**4*T2**2*k*m_l*omega_max**2 - 4*tau_max**2)) - 2*k*tau_max*x_l0)/(2*T2*sqrt(k*m_l*(T1**4*T2**2*k*m_l*omega_max**2 - 4*tau_max**2)))]])"
      ]
     },
     "execution_count": 455,
     "metadata": {},
     "output_type": "execute_result"
    }
   ],
   "source": [
    "x_a0, x_l0, v_l0 = symbols('x_a0, x_l0, v_l0')\n",
    "ics = Matrix([x_a0, x_l0, v_l0])\n",
    "\n",
    "dum_vals = simplify(A_dum_inv * (ics + b_dum))\n",
    "dum_dict = {dum_syms[i]: dum_vals[i] for i in range(len(dum_syms))}\n",
    "\n",
    "dum_vals"
   ]
  },
  {
   "cell_type": "code",
   "execution_count": 456,
   "metadata": {},
   "outputs": [
    {
     "name": "stdout",
     "output_type": "stream",
     "text": [
      "0.0 1.00000000000006 7.20522996323282e-18 -5.21720806768577e-16\n",
      "0.026 69.2278149966828 0.00261526159973791 0.285854757983197\n",
      "0.053 121.771293026584 0.0187159703650022 0.989958501747237\n",
      "0.079 166.395808417065 0.0565635673875210 1.90523458256248\n",
      "0.105 210.000403021977 0.119216993896373 2.84770855099290\n",
      "0.132 257.860935742362 0.205431832169837 3.67669083634403\n",
      "0.158 313.297476680877 0.310939609098674 4.30364623587837\n",
      "0.184 377.704423287139 0.429828334955987 4.69139081760612\n",
      "0.211 450.846117422693 0.555802462114866 4.84620879855275\n",
      "0.237 531.307985546753 0.683174397131732 4.80582213980589\n",
      "0.263 616.999340296641 0.807515678416770 4.62598250437028\n",
      "0.289 705.623266662001 0.925962640397299 4.36794095918875\n",
      "0.316 795.055359005118 1.03722173436943 4.08834832126703\n",
      "0.342 883.600930099247 1.14135071459462 3.83239624998498\n",
      "0.368 970.125340613486 1.23940417030520 3.63034179416668\n",
      "0.395 1054.07147074337 1.33302845783086 3.49704148193132\n",
      "0.421 1135.39077509676 1.42407647098068 3.43378985706882\n",
      "0.447 1214.41984734315 1.51429182323162 3.43161108839316\n",
      "0.474 1291.73397109392 1.60508946368262 3.47516427960069\n",
      "0.5 1368.00433282148 1.69743914209749 3.54655112476058\n"
     ]
    }
   ],
   "source": [
    "nums = {\n",
    "    T1: 0.00025, #0.035 m / 140 rad from TSA test\n",
    "    T2: 5, #guess for leg movement/string contract\n",
    "    m_a: 1/2 * 0.020 * 0.010**2, #cylinder MOI 20g 10mm radius\n",
    "    m_l: 0.5, #mass to push off ground\n",
    "    k: 3000, # no idea honestly\n",
    "    tau_max: 0.05, #N*m stall torque\n",
    "    omega_max: 3000, #about 10,000rpm free speed\n",
    "}\n",
    "\n",
    "ics_n = {x_a0:1, x_l0:0, v_l0:0}\n",
    "\n",
    "for ti in np.linspace(0, 0.5, 20):\n",
    "    temp0 = linsol[0].subs(dum_dict).subs(ics_n).subs(nums).subs(t,ti).n()\n",
    "    temp1 = linsol[1].subs(dum_dict).subs(ics_n).subs(nums).subs(t,ti).n()\n",
    "    temp2 = linsol[2].subs(dum_dict).subs(ics_n).subs(nums).subs(t,ti).n()\n",
    "    print(round(ti, 3), re(temp0), re(temp1), re(temp2))\n"
   ]
  },
  {
   "cell_type": "code",
   "execution_count": 506,
   "metadata": {},
   "outputs": [
    {
     "name": "stdout",
     "output_type": "stream",
     "text": [
      "x0 = 1/tau_max\n",
      "x1 = k*m_l\n",
      "x2 = T2**2\n",
      "x3 = omega_max**2\n",
      "x4 = x2*x3\n",
      "x5 = T1**4*x1*x4 - 4*tau_max**2\n",
      "x6 = math.sqrt(x1*x5)\n",
      "x7 = 2*x6\n",
      "x8 = t*tau_max\n",
      "x9 = tau_max*x_a0\n",
      "x10 = T2*v_l0\n",
      "x11 = T1*omega_max\n",
      "x12 = m_l*x11\n",
      "x13 = T1**2\n",
      "x14 = -m_l*x13*x4 + x10*x12 + x9\n",
      "x15 = omega_max*x1*x13\n",
      "x16 = T2*x15\n",
      "x17 = 1/T2\n",
      "x18 = (1/2)*t*x0*x17/m_l\n",
      "x19 = math.exp(-x18*(x16 + x6))\n",
      "x20 = x10*x6\n",
      "x21 = x11*x2\n",
      "x22 = x21*x6\n",
      "x23 = 2*k\n",
      "x24 = T1*T2\n",
      "x25 = T1**3*T2**3*x1*x3 + tau_max*x23*x_l0 - v_l0*x15*x2 - x23*x24*x9\n",
      "x26 = x20 - x22 + x25\n",
      "x27 = x19*x26\n",
      "x28 = math.exp(x18*(-x16 + x6))\n",
      "x29 = -x20 + x22 + x25\n",
      "x30 = (1/2)/x6\n",
      "x31 = k*x5\n",
      "x32 = x28*x29\n",
      "x_a_code = x0*x30*(omega_max*x7*x8 + x12*(-x27 + x28*x29) + x14*x7)\n",
      "x_l_code = x0*((1/4)*T2*omega_max*x13*x6*(-x19*x26 + x32) + T2*x11*x31*x8 + x14*x24*x31 + (1/4)*x5*(x27 + x32))/(k*x5)\n",
      "v_l_code = x17*x30*(x21*x7 + x27 - x28*x29)\n"
     ]
    }
   ],
   "source": [
    "from sympy.codegen.ast import CodeBlock, Assignment\n",
    "\n",
    "x_a_code, x_l_code, v_l_code = symbols('x_a_code, x_l_code, v_l_code')\n",
    "\n",
    "solved = []\n",
    "for i in range(3):\n",
    "    subbed = (linsol[i].subs(dum_dict))\n",
    "    solved.append(simplify(subbed))\n",
    "\n",
    "solcode = CodeBlock(\n",
    "    Assignment(x_a_code, solved[0]),\n",
    "    Assignment(x_l_code, solved[1]),\n",
    "    Assignment(v_l_code, solved[2]),\n",
    ").cse()\n",
    "\n",
    "print(pycode(solcode))"
   ]
  },
  {
   "cell_type": "code",
   "execution_count": 471,
   "metadata": {},
   "outputs": [
    {
     "data": {
      "text/plain": [
       "114"
      ]
     },
     "execution_count": 471,
     "metadata": {},
     "output_type": "execute_result"
    }
   ],
   "source": [
    "count_ops(solcode)"
   ]
  },
  {
   "cell_type": "code",
   "execution_count": 478,
   "metadata": {},
   "outputs": [
    {
     "data": {
      "text/plain": [
       "\"T1 = Symbol('T1')\\nm_l = Symbol('m_l')\\nomega_max = Symbol('omega_max')\\nT2 = Symbol('T2')\\nk = Symbol('k')\\nv_l0 = Symbol('v_l0')\\ntau_max = Symbol('tau_max')\\nx_a0 = Symbol('x_a0')\\nx_l0 = Symbol('x_l0')\\nt = Symbol('t')\\ne = (T1*m_l*omega_max*(-(T1**3*T2**3*k*m_l*omega_max**2 - T1**2*T2**2*k*m_l*omega_max*v_l0 - T1*T2**2*omega_max*sqrt(k*m_l*(T1**4*T2**2*k*m_l*omega_max**2 - 4*tau_max**2)) - 2*T1*T2*k*tau_max*x_a0 + T2*v_l0*sqrt(k*m_l*(T1**4*T2**2*k*m_l*omega_max**2 - 4*tau_max**2)) + 2*k*tau_max*x_l0)*exp(-t*(T1**2*T2*k*m_l*omega_max + sqrt(k*m_l*(T1**4*T2**2*k*m_l*omega_max**2 - 4*tau_max**2)))/(2*T2*m_l*tau_max)) + (T1**3*T2**3*k*m_l*omega_max**2 - T1**2*T2**2*k*m_l*omega_max*v_l0 + T1*T2**2*omega_max*sqrt(k*m_l*(T1**4*T2**2*k*m_l*omega_max**2 - 4*tau_max**2)) - 2*T1*T2*k*tau_max*x_a0 - T2*v_l0*sqrt(k*m_l*(T1**4*T2**2*k*m_l*omega_max**2 - 4*tau_max**2)) + 2*k*tau_max*x_l0)*exp(t*(-T1**2*T2*k*m_l*omega_max + sqrt(k*m_l*(T1**4*T2**2*k*m_l*omega_max**2 - 4*tau_max**2)))/(2*T2*m_l*tau_max))) + 2*omega_max*t*tau_max*sqrt(k*m_l*(T1**4*T2**2*k*m_l*omega_max**2 - 4*tau_max**2)) + 2*sqrt(k*m_l*(T1**4*T2**2*k*m_l*omega_max**2 - 4*tau_max**2))*(-T1**2*T2**2*m_l*omega_max**2 + T1*T2*m_l*omega_max*v_l0 + tau_max*x_a0))/(2*tau_max*sqrt(k*m_l*(T1**4*T2**2*k*m_l*omega_max**2 - 4*tau_max**2)))\""
      ]
     },
     "execution_count": 478,
     "metadata": {},
     "output_type": "execute_result"
    }
   ],
   "source": [
    "python(solved[0])"
   ]
  },
  {
   "cell_type": "code",
   "execution_count": 481,
   "metadata": {},
   "outputs": [
    {
     "data": {
      "text/latex": [
       "$\\displaystyle \\frac{T_{1} m_{l} \\omega_{max} \\left(- \\left(T_{1}^{3} T_{2}^{3} k m_{l} \\omega_{max}^{2} - T_{1}^{2} T_{2}^{2} k m_{l} \\omega_{max} v_{l0} - T_{1} T_{2}^{2} \\omega_{max} \\sqrt{k m_{l} \\left(T_{1}^{4} T_{2}^{2} k m_{l} \\omega_{max}^{2} - 4 \\tau_{max}^{2}\\right)} - 2 T_{1} T_{2} k \\tau_{max} x_{a0} + T_{2} v_{l0} \\sqrt{k m_{l} \\left(T_{1}^{4} T_{2}^{2} k m_{l} \\omega_{max}^{2} - 4 \\tau_{max}^{2}\\right)} + 2 k \\tau_{max} x_{l0}\\right) e^{- \\frac{t \\left(T_{1}^{2} T_{2} k m_{l} \\omega_{max} + \\sqrt{k m_{l} \\left(T_{1}^{4} T_{2}^{2} k m_{l} \\omega_{max}^{2} - 4 \\tau_{max}^{2}\\right)}\\right)}{2 T_{2} m_{l} \\tau_{max}}} + \\left(T_{1}^{3} T_{2}^{3} k m_{l} \\omega_{max}^{2} - T_{1}^{2} T_{2}^{2} k m_{l} \\omega_{max} v_{l0} + T_{1} T_{2}^{2} \\omega_{max} \\sqrt{k m_{l} \\left(T_{1}^{4} T_{2}^{2} k m_{l} \\omega_{max}^{2} - 4 \\tau_{max}^{2}\\right)} - 2 T_{1} T_{2} k \\tau_{max} x_{a0} - T_{2} v_{l0} \\sqrt{k m_{l} \\left(T_{1}^{4} T_{2}^{2} k m_{l} \\omega_{max}^{2} - 4 \\tau_{max}^{2}\\right)} + 2 k \\tau_{max} x_{l0}\\right) e^{\\frac{t \\left(- T_{1}^{2} T_{2} k m_{l} \\omega_{max} + \\sqrt{k m_{l} \\left(T_{1}^{4} T_{2}^{2} k m_{l} \\omega_{max}^{2} - 4 \\tau_{max}^{2}\\right)}\\right)}{2 T_{2} m_{l} \\tau_{max}}}\\right) + 2 \\omega_{max} t \\tau_{max} \\sqrt{k m_{l} \\left(T_{1}^{4} T_{2}^{2} k m_{l} \\omega_{max}^{2} - 4 \\tau_{max}^{2}\\right)} + 2 \\sqrt{k m_{l} \\left(T_{1}^{4} T_{2}^{2} k m_{l} \\omega_{max}^{2} - 4 \\tau_{max}^{2}\\right)} \\left(- T_{1}^{2} T_{2}^{2} m_{l} \\omega_{max}^{2} + T_{1} T_{2} m_{l} \\omega_{max} v_{l0} + \\tau_{max} x_{a0}\\right)}{2 \\tau_{max} \\sqrt{k m_{l} \\left(T_{1}^{4} T_{2}^{2} k m_{l} \\omega_{max}^{2} - 4 \\tau_{max}^{2}\\right)}}$"
      ],
      "text/plain": [
       "(T1*m_l*omega_max*(-(T1**3*T2**3*k*m_l*omega_max**2 - T1**2*T2**2*k*m_l*omega_max*v_l0 - T1*T2**2*omega_max*sqrt(k*m_l*(T1**4*T2**2*k*m_l*omega_max**2 - 4*tau_max**2)) - 2*T1*T2*k*tau_max*x_a0 + T2*v_l0*sqrt(k*m_l*(T1**4*T2**2*k*m_l*omega_max**2 - 4*tau_max**2)) + 2*k*tau_max*x_l0)*exp(-t*(T1**2*T2*k*m_l*omega_max + sqrt(k*m_l*(T1**4*T2**2*k*m_l*omega_max**2 - 4*tau_max**2)))/(2*T2*m_l*tau_max)) + (T1**3*T2**3*k*m_l*omega_max**2 - T1**2*T2**2*k*m_l*omega_max*v_l0 + T1*T2**2*omega_max*sqrt(k*m_l*(T1**4*T2**2*k*m_l*omega_max**2 - 4*tau_max**2)) - 2*T1*T2*k*tau_max*x_a0 - T2*v_l0*sqrt(k*m_l*(T1**4*T2**2*k*m_l*omega_max**2 - 4*tau_max**2)) + 2*k*tau_max*x_l0)*exp(t*(-T1**2*T2*k*m_l*omega_max + sqrt(k*m_l*(T1**4*T2**2*k*m_l*omega_max**2 - 4*tau_max**2)))/(2*T2*m_l*tau_max))) + 2*omega_max*t*tau_max*sqrt(k*m_l*(T1**4*T2**2*k*m_l*omega_max**2 - 4*tau_max**2)) + 2*sqrt(k*m_l*(T1**4*T2**2*k*m_l*omega_max**2 - 4*tau_max**2))*(-T1**2*T2**2*m_l*omega_max**2 + T1*T2*m_l*omega_max*v_l0 + tau_max*x_a0))/(2*tau_max*sqrt(k*m_l*(T1**4*T2**2*k*m_l*omega_max**2 - 4*tau_max**2)))"
      ]
     },
     "execution_count": 481,
     "metadata": {},
     "output_type": "execute_result"
    }
   ],
   "source": [
    "solved[0]"
   ]
  },
  {
   "cell_type": "code",
   "execution_count": 484,
   "metadata": {},
   "outputs": [
    {
     "data": {
      "text/latex": [
       "$\\displaystyle \\sqrt{k m_{l} \\left(T_{1}^{4} T_{2}^{2} k m_{l} \\omega_{max}^{2} - 4 \\tau_{max}^{2}\\right)}$"
      ],
      "text/plain": [
       "sqrt(k*m_l*(T1**4*T2**2*k*m_l*omega_max**2 - 4*tau_max**2))"
      ]
     },
     "execution_count": 484,
     "metadata": {},
     "output_type": "execute_result"
    }
   ],
   "source": [
    "comp_sqrt"
   ]
  },
  {
   "cell_type": "code",
   "execution_count": 485,
   "metadata": {},
   "outputs": [
    {
     "data": {
      "text/latex": [
       "$\\displaystyle 0.0025$"
      ],
      "text/plain": [
       "0.00250000000000000"
      ]
     },
     "execution_count": 485,
     "metadata": {},
     "output_type": "execute_result"
    }
   ],
   "source": [
    "(tau_max**2).subs(nums)"
   ]
  },
  {
   "cell_type": "code",
   "execution_count": 486,
   "metadata": {},
   "outputs": [
    {
     "data": {
      "text/latex": [
       "$\\displaystyle 0.001318359375$"
      ],
      "text/plain": [
       "0.00131835937500000"
      ]
     },
     "execution_count": 486,
     "metadata": {},
     "output_type": "execute_result"
    }
   ],
   "source": [
    "(T1**4*T2**2*k*m_l*omega_max**2).subs(nums)"
   ]
  },
  {
   "cell_type": "code",
   "execution_count": 520,
   "metadata": {},
   "outputs": [
    {
     "ename": "KeyboardInterrupt",
     "evalue": "",
     "output_type": "error",
     "traceback": [
      "\u001b[0;31m---------------------------------------------------------------------------\u001b[0m",
      "\u001b[0;31mKeyboardInterrupt\u001b[0m                         Traceback (most recent call last)",
      "Cell \u001b[0;32mIn[520], line 3\u001b[0m\n\u001b[1;32m      1\u001b[0m comp_sqrt \u001b[39m=\u001b[39m sqrt(k\u001b[39m*\u001b[39mm_l\u001b[39m*\u001b[39m(T1\u001b[39m*\u001b[39m\u001b[39m*\u001b[39m\u001b[39m4\u001b[39m\u001b[39m*\u001b[39mT2\u001b[39m*\u001b[39m\u001b[39m*\u001b[39m\u001b[39m2\u001b[39m\u001b[39m*\u001b[39mk\u001b[39m*\u001b[39mm_l\u001b[39m*\u001b[39momega_max\u001b[39m*\u001b[39m\u001b[39m*\u001b[39m\u001b[39m2\u001b[39m \u001b[39m-\u001b[39m \u001b[39m4\u001b[39m\u001b[39m*\u001b[39mtau_max\u001b[39m*\u001b[39m\u001b[39m*\u001b[39m\u001b[39m2\u001b[39m))\n\u001b[1;32m      2\u001b[0m F \u001b[39m=\u001b[39m symbols(\u001b[39m\"\u001b[39m\u001b[39mF\u001b[39m\u001b[39m\"\u001b[39m)\n\u001b[0;32m----> 3\u001b[0m solve0simp \u001b[39m=\u001b[39m solved[\u001b[39m0\u001b[39;49m]\u001b[39m.\u001b[39;49msubs(comp_sqrt, \u001b[39m-\u001b[39;49mcomp_sqrt\u001b[39m*\u001b[39;49mI)\u001b[39m.\u001b[39;49mrewrite(cos)\u001b[39m.\u001b[39;49msimplify()\n\u001b[1;32m      4\u001b[0m solve0simp\n",
      "File \u001b[0;32m/Library/Frameworks/Python.framework/Versions/3.11/lib/python3.11/site-packages/sympy/core/basic.py:1853\u001b[0m, in \u001b[0;36mBasic.simplify\u001b[0;34m(self, **kwargs)\u001b[0m\n\u001b[1;32m   1851\u001b[0m \u001b[39m\u001b[39m\u001b[39m\"\"\"See the simplify function in sympy.simplify\"\"\"\u001b[39;00m\n\u001b[1;32m   1852\u001b[0m \u001b[39mfrom\u001b[39;00m \u001b[39msympy\u001b[39;00m\u001b[39m.\u001b[39;00m\u001b[39msimplify\u001b[39;00m\u001b[39m.\u001b[39;00m\u001b[39msimplify\u001b[39;00m \u001b[39mimport\u001b[39;00m simplify\n\u001b[0;32m-> 1853\u001b[0m \u001b[39mreturn\u001b[39;00m simplify(\u001b[39mself\u001b[39;49m, \u001b[39m*\u001b[39;49m\u001b[39m*\u001b[39;49mkwargs)\n",
      "File \u001b[0;32m/Library/Frameworks/Python.framework/Versions/3.11/lib/python3.11/site-packages/sympy/simplify/simplify.py:645\u001b[0m, in \u001b[0;36msimplify\u001b[0;34m(expr, ratio, measure, rational, inverse, doit, **kwargs)\u001b[0m\n\u001b[1;32m    643\u001b[0m expr \u001b[39m=\u001b[39m Mul(\u001b[39m*\u001b[39mpowsimp(expr)\u001b[39m.\u001b[39mas_content_primitive())\n\u001b[1;32m    644\u001b[0m _e \u001b[39m=\u001b[39m cancel(expr)\n\u001b[0;32m--> 645\u001b[0m expr1 \u001b[39m=\u001b[39m shorter(_e, _mexpand(_e)\u001b[39m.\u001b[39;49mcancel())  \u001b[39m# issue 6829\u001b[39;00m\n\u001b[1;32m    646\u001b[0m expr2 \u001b[39m=\u001b[39m shorter(together(expr, deep\u001b[39m=\u001b[39m\u001b[39mTrue\u001b[39;00m), together(expr1, deep\u001b[39m=\u001b[39m\u001b[39mTrue\u001b[39;00m))\n\u001b[1;32m    648\u001b[0m \u001b[39mif\u001b[39;00m ratio \u001b[39mis\u001b[39;00m S\u001b[39m.\u001b[39mInfinity:\n",
      "File \u001b[0;32m/Library/Frameworks/Python.framework/Versions/3.11/lib/python3.11/site-packages/sympy/core/expr.py:3791\u001b[0m, in \u001b[0;36mExpr.cancel\u001b[0;34m(self, *gens, **args)\u001b[0m\n\u001b[1;32m   3789\u001b[0m \u001b[39m\u001b[39m\u001b[39m\"\"\"See the cancel function in sympy.polys\"\"\"\u001b[39;00m\n\u001b[1;32m   3790\u001b[0m \u001b[39mfrom\u001b[39;00m \u001b[39msympy\u001b[39;00m\u001b[39m.\u001b[39;00m\u001b[39mpolys\u001b[39;00m\u001b[39m.\u001b[39;00m\u001b[39mpolytools\u001b[39;00m \u001b[39mimport\u001b[39;00m cancel\n\u001b[0;32m-> 3791\u001b[0m \u001b[39mreturn\u001b[39;00m cancel(\u001b[39mself\u001b[39;49m, \u001b[39m*\u001b[39;49mgens, \u001b[39m*\u001b[39;49m\u001b[39m*\u001b[39;49margs)\n",
      "File \u001b[0;32m/Library/Frameworks/Python.framework/Versions/3.11/lib/python3.11/site-packages/sympy/polys/polytools.py:6890\u001b[0m, in \u001b[0;36mcancel\u001b[0;34m(f, _signsimp, *gens, **args)\u001b[0m\n\u001b[1;32m   6887\u001b[0m                 \u001b[39mpass\u001b[39;00m\n\u001b[1;32m   6888\u001b[0m         \u001b[39mreturn\u001b[39;00m f\u001b[39m.\u001b[39mxreplace(\u001b[39mdict\u001b[39m(reps))\n\u001b[0;32m-> 6890\u001b[0m c, (P, Q) \u001b[39m=\u001b[39m \u001b[39m1\u001b[39m, F\u001b[39m.\u001b[39;49mcancel(G)\n\u001b[1;32m   6891\u001b[0m \u001b[39mif\u001b[39;00m opt\u001b[39m.\u001b[39mget(\u001b[39m'\u001b[39m\u001b[39mpolys\u001b[39m\u001b[39m'\u001b[39m, \u001b[39mFalse\u001b[39;00m) \u001b[39mand\u001b[39;00m \u001b[39m'\u001b[39m\u001b[39mgens\u001b[39m\u001b[39m'\u001b[39m \u001b[39mnot\u001b[39;00m \u001b[39min\u001b[39;00m opt:\n\u001b[1;32m   6892\u001b[0m     opt[\u001b[39m'\u001b[39m\u001b[39mgens\u001b[39m\u001b[39m'\u001b[39m] \u001b[39m=\u001b[39m R\u001b[39m.\u001b[39msymbols\n",
      "File \u001b[0;32m/Library/Frameworks/Python.framework/Versions/3.11/lib/python3.11/site-packages/sympy/polys/rings.py:2242\u001b[0m, in \u001b[0;36mPolyElement.cancel\u001b[0;34m(self, g)\u001b[0m\n\u001b[1;32m   2239\u001b[0m domain \u001b[39m=\u001b[39m ring\u001b[39m.\u001b[39mdomain\n\u001b[1;32m   2241\u001b[0m \u001b[39mif\u001b[39;00m \u001b[39mnot\u001b[39;00m (domain\u001b[39m.\u001b[39mis_Field \u001b[39mand\u001b[39;00m domain\u001b[39m.\u001b[39mhas_assoc_Ring):\n\u001b[0;32m-> 2242\u001b[0m     _, p, q \u001b[39m=\u001b[39m f\u001b[39m.\u001b[39;49mcofactors(g)\n\u001b[1;32m   2243\u001b[0m \u001b[39melse\u001b[39;00m:\n\u001b[1;32m   2244\u001b[0m     new_ring \u001b[39m=\u001b[39m ring\u001b[39m.\u001b[39mclone(domain\u001b[39m=\u001b[39mdomain\u001b[39m.\u001b[39mget_ring())\n",
      "File \u001b[0;32m/Library/Frameworks/Python.framework/Versions/3.11/lib/python3.11/site-packages/sympy/polys/rings.py:2158\u001b[0m, in \u001b[0;36mPolyElement.cofactors\u001b[0;34m(f, g)\u001b[0m\n\u001b[1;32m   2155\u001b[0m     \u001b[39mreturn\u001b[39;00m h, cff, cfg\n\u001b[1;32m   2157\u001b[0m J, (f, g) \u001b[39m=\u001b[39m f\u001b[39m.\u001b[39mdeflate(g)\n\u001b[0;32m-> 2158\u001b[0m h, cff, cfg \u001b[39m=\u001b[39m f\u001b[39m.\u001b[39;49m_gcd(g)\n\u001b[1;32m   2160\u001b[0m \u001b[39mreturn\u001b[39;00m (h\u001b[39m.\u001b[39minflate(J), cff\u001b[39m.\u001b[39minflate(J), cfg\u001b[39m.\u001b[39minflate(J))\n",
      "File \u001b[0;32m/Library/Frameworks/Python.framework/Versions/3.11/lib/python3.11/site-packages/sympy/polys/rings.py:2193\u001b[0m, in \u001b[0;36mPolyElement._gcd\u001b[0;34m(f, g)\u001b[0m\n\u001b[1;32m   2191\u001b[0m     \u001b[39mreturn\u001b[39;00m f\u001b[39m.\u001b[39m_gcd_ZZ(g)\n\u001b[1;32m   2192\u001b[0m \u001b[39melse\u001b[39;00m: \u001b[39m# TODO: don't use dense representation (port PRS algorithms)\u001b[39;00m\n\u001b[0;32m-> 2193\u001b[0m     \u001b[39mreturn\u001b[39;00m ring\u001b[39m.\u001b[39;49mdmp_inner_gcd(f, g)\n",
      "File \u001b[0;32m/Library/Frameworks/Python.framework/Versions/3.11/lib/python3.11/site-packages/sympy/polys/compatibility.py:663\u001b[0m, in \u001b[0;36mIPolys.dmp_inner_gcd\u001b[0;34m(self, f, g)\u001b[0m\n\u001b[1;32m    662\u001b[0m \u001b[39mdef\u001b[39;00m \u001b[39mdmp_inner_gcd\u001b[39m(\u001b[39mself\u001b[39m, f, g):\n\u001b[0;32m--> 663\u001b[0m     H, F, G \u001b[39m=\u001b[39m dmp_inner_gcd(\u001b[39mself\u001b[39;49m\u001b[39m.\u001b[39;49mto_dense(f), \u001b[39mself\u001b[39;49m\u001b[39m.\u001b[39;49mto_dense(g), \u001b[39mself\u001b[39;49m\u001b[39m.\u001b[39;49mngens\u001b[39m-\u001b[39;49m\u001b[39m1\u001b[39;49m, \u001b[39mself\u001b[39;49m\u001b[39m.\u001b[39;49mdomain)\n\u001b[1;32m    664\u001b[0m     \u001b[39mreturn\u001b[39;00m (\u001b[39mself\u001b[39m\u001b[39m.\u001b[39mfrom_dense(H), \u001b[39mself\u001b[39m\u001b[39m.\u001b[39mfrom_dense(F), \u001b[39mself\u001b[39m\u001b[39m.\u001b[39mfrom_dense(G))\n",
      "File \u001b[0;32m/Library/Frameworks/Python.framework/Versions/3.11/lib/python3.11/site-packages/sympy/polys/euclidtools.py:1584\u001b[0m, in \u001b[0;36mdmp_inner_gcd\u001b[0;34m(f, g, u, K)\u001b[0m\n\u001b[1;32m   1581\u001b[0m     \u001b[39mreturn\u001b[39;00m dup_inner_gcd(f, g, K)\n\u001b[1;32m   1583\u001b[0m J, (f, g) \u001b[39m=\u001b[39m dmp_multi_deflate((f, g), u, K)\n\u001b[0;32m-> 1584\u001b[0m h, cff, cfg \u001b[39m=\u001b[39m _dmp_inner_gcd(f, g, u, K)\n\u001b[1;32m   1586\u001b[0m \u001b[39mreturn\u001b[39;00m (dmp_inflate(h, J, u, K),\n\u001b[1;32m   1587\u001b[0m         dmp_inflate(cff, J, u, K),\n\u001b[1;32m   1588\u001b[0m         dmp_inflate(cfg, J, u, K))\n",
      "File \u001b[0;32m/Library/Frameworks/Python.framework/Versions/3.11/lib/python3.11/site-packages/sympy/polys/euclidtools.py:1557\u001b[0m, in \u001b[0;36m_dmp_inner_gcd\u001b[0;34m(f, g, u, K)\u001b[0m\n\u001b[1;32m   1554\u001b[0m     \u001b[39mexcept\u001b[39;00m HeuristicGCDFailed:\n\u001b[1;32m   1555\u001b[0m         \u001b[39mpass\u001b[39;00m\n\u001b[0;32m-> 1557\u001b[0m \u001b[39mreturn\u001b[39;00m dmp_rr_prs_gcd(f, g, u, K)\n",
      "File \u001b[0;32m/Library/Frameworks/Python.framework/Versions/3.11/lib/python3.11/site-packages/sympy/polys/euclidtools.py:1060\u001b[0m, in \u001b[0;36mdmp_rr_prs_gcd\u001b[0;34m(f, g, u, K)\u001b[0m\n\u001b[1;32m   1057\u001b[0m \u001b[39mif\u001b[39;00m \u001b[39mnot\u001b[39;00m u:\n\u001b[1;32m   1058\u001b[0m     \u001b[39mreturn\u001b[39;00m dup_rr_prs_gcd(f, g, K)\n\u001b[0;32m-> 1060\u001b[0m result \u001b[39m=\u001b[39m _dmp_rr_trivial_gcd(f, g, u, K)\n\u001b[1;32m   1062\u001b[0m \u001b[39mif\u001b[39;00m result \u001b[39mis\u001b[39;00m \u001b[39mnot\u001b[39;00m \u001b[39mNone\u001b[39;00m:\n\u001b[1;32m   1063\u001b[0m     \u001b[39mreturn\u001b[39;00m result\n",
      "File \u001b[0;32m/Library/Frameworks/Python.framework/Versions/3.11/lib/python3.11/site-packages/sympy/polys/euclidtools.py:912\u001b[0m, in \u001b[0;36m_dmp_rr_trivial_gcd\u001b[0;34m(f, g, u, K)\u001b[0m\n\u001b[1;32m    910\u001b[0m     \u001b[39mreturn\u001b[39;00m dmp_one(u, K), f, g\n\u001b[1;32m    911\u001b[0m \u001b[39melif\u001b[39;00m query(\u001b[39m'\u001b[39m\u001b[39mUSE_SIMPLIFY_GCD\u001b[39m\u001b[39m'\u001b[39m):\n\u001b[0;32m--> 912\u001b[0m     \u001b[39mreturn\u001b[39;00m _dmp_simplify_gcd(f, g, u, K)\n\u001b[1;32m    913\u001b[0m \u001b[39melse\u001b[39;00m:\n\u001b[1;32m    914\u001b[0m     \u001b[39mreturn\u001b[39;00m \u001b[39mNone\u001b[39;00m\n",
      "File \u001b[0;32m/Library/Frameworks/Python.framework/Versions/3.11/lib/python3.11/site-packages/sympy/polys/euclidtools.py:954\u001b[0m, in \u001b[0;36m_dmp_simplify_gcd\u001b[0;34m(f, g, u, K)\u001b[0m\n\u001b[1;32m    952\u001b[0m         G \u001b[39m=\u001b[39m dmp_content(g, u, K)\n\u001b[1;32m    953\u001b[0m     \u001b[39melse\u001b[39;00m:\n\u001b[0;32m--> 954\u001b[0m         F \u001b[39m=\u001b[39m dmp_content(f, u, K)\n\u001b[1;32m    955\u001b[0m         G \u001b[39m=\u001b[39m dmp_LC(g, K)\n\u001b[1;32m    957\u001b[0m v \u001b[39m=\u001b[39m u \u001b[39m-\u001b[39m \u001b[39m1\u001b[39m\n",
      "File \u001b[0;32m/Library/Frameworks/Python.framework/Versions/3.11/lib/python3.11/site-packages/sympy/polys/euclidtools.py:1793\u001b[0m, in \u001b[0;36mdmp_content\u001b[0;34m(f, u, K)\u001b[0m\n\u001b[1;32m   1790\u001b[0m     \u001b[39mreturn\u001b[39;00m cont\n\u001b[1;32m   1792\u001b[0m \u001b[39mfor\u001b[39;00m c \u001b[39min\u001b[39;00m f[\u001b[39m1\u001b[39m:]:\n\u001b[0;32m-> 1793\u001b[0m     cont \u001b[39m=\u001b[39m dmp_gcd(cont, c, v, K)\n\u001b[1;32m   1795\u001b[0m     \u001b[39mif\u001b[39;00m dmp_one_p(cont, v, K):\n\u001b[1;32m   1796\u001b[0m         \u001b[39mbreak\u001b[39;00m\n",
      "File \u001b[0;32m/Library/Frameworks/Python.framework/Versions/3.11/lib/python3.11/site-packages/sympy/polys/euclidtools.py:1625\u001b[0m, in \u001b[0;36mdmp_gcd\u001b[0;34m(f, g, u, K)\u001b[0m\n\u001b[1;32m   1608\u001b[0m \u001b[39mdef\u001b[39;00m \u001b[39mdmp_gcd\u001b[39m(f, g, u, K):\n\u001b[1;32m   1609\u001b[0m \u001b[39m    \u001b[39m\u001b[39m\"\"\"\u001b[39;00m\n\u001b[1;32m   1610\u001b[0m \u001b[39m    Computes polynomial GCD of `f` and `g` in `K[X]`.\u001b[39;00m\n\u001b[1;32m   1611\u001b[0m \n\u001b[0;32m   (...)\u001b[0m\n\u001b[1;32m   1623\u001b[0m \n\u001b[1;32m   1624\u001b[0m \u001b[39m    \"\"\"\u001b[39;00m\n\u001b[0;32m-> 1625\u001b[0m     \u001b[39mreturn\u001b[39;00m dmp_inner_gcd(f, g, u, K)[\u001b[39m0\u001b[39m]\n",
      "File \u001b[0;32m/Library/Frameworks/Python.framework/Versions/3.11/lib/python3.11/site-packages/sympy/polys/euclidtools.py:1584\u001b[0m, in \u001b[0;36mdmp_inner_gcd\u001b[0;34m(f, g, u, K)\u001b[0m\n\u001b[1;32m   1581\u001b[0m     \u001b[39mreturn\u001b[39;00m dup_inner_gcd(f, g, K)\n\u001b[1;32m   1583\u001b[0m J, (f, g) \u001b[39m=\u001b[39m dmp_multi_deflate((f, g), u, K)\n\u001b[0;32m-> 1584\u001b[0m h, cff, cfg \u001b[39m=\u001b[39m _dmp_inner_gcd(f, g, u, K)\n\u001b[1;32m   1586\u001b[0m \u001b[39mreturn\u001b[39;00m (dmp_inflate(h, J, u, K),\n\u001b[1;32m   1587\u001b[0m         dmp_inflate(cff, J, u, K),\n\u001b[1;32m   1588\u001b[0m         dmp_inflate(cfg, J, u, K))\n",
      "File \u001b[0;32m/Library/Frameworks/Python.framework/Versions/3.11/lib/python3.11/site-packages/sympy/polys/euclidtools.py:1557\u001b[0m, in \u001b[0;36m_dmp_inner_gcd\u001b[0;34m(f, g, u, K)\u001b[0m\n\u001b[1;32m   1554\u001b[0m     \u001b[39mexcept\u001b[39;00m HeuristicGCDFailed:\n\u001b[1;32m   1555\u001b[0m         \u001b[39mpass\u001b[39;00m\n\u001b[0;32m-> 1557\u001b[0m \u001b[39mreturn\u001b[39;00m dmp_rr_prs_gcd(f, g, u, K)\n",
      "File \u001b[0;32m/Library/Frameworks/Python.framework/Versions/3.11/lib/python3.11/site-packages/sympy/polys/euclidtools.py:1066\u001b[0m, in \u001b[0;36mdmp_rr_prs_gcd\u001b[0;34m(f, g, u, K)\u001b[0m\n\u001b[1;32m   1063\u001b[0m     \u001b[39mreturn\u001b[39;00m result\n\u001b[1;32m   1065\u001b[0m fc, F \u001b[39m=\u001b[39m dmp_primitive(f, u, K)\n\u001b[0;32m-> 1066\u001b[0m gc, G \u001b[39m=\u001b[39m dmp_primitive(g, u, K)\n\u001b[1;32m   1068\u001b[0m h \u001b[39m=\u001b[39m dmp_subresultants(F, G, u, K)[\u001b[39m-\u001b[39m\u001b[39m1\u001b[39m]\n\u001b[1;32m   1069\u001b[0m c, _, _ \u001b[39m=\u001b[39m dmp_rr_prs_gcd(fc, gc, u \u001b[39m-\u001b[39m \u001b[39m1\u001b[39m, K)\n",
      "File \u001b[0;32m/Library/Frameworks/Python.framework/Versions/3.11/lib/python3.11/site-packages/sympy/polys/euclidtools.py:1818\u001b[0m, in \u001b[0;36mdmp_primitive\u001b[0;34m(f, u, K)\u001b[0m\n\u001b[1;32m   1804\u001b[0m \u001b[39mdef\u001b[39;00m \u001b[39mdmp_primitive\u001b[39m(f, u, K):\n\u001b[1;32m   1805\u001b[0m \u001b[39m    \u001b[39m\u001b[39m\"\"\"\u001b[39;00m\n\u001b[1;32m   1806\u001b[0m \u001b[39m    Returns multivariate content and a primitive polynomial.\u001b[39;00m\n\u001b[1;32m   1807\u001b[0m \n\u001b[0;32m   (...)\u001b[0m\n\u001b[1;32m   1816\u001b[0m \n\u001b[1;32m   1817\u001b[0m \u001b[39m    \"\"\"\u001b[39;00m\n\u001b[0;32m-> 1818\u001b[0m     cont, v \u001b[39m=\u001b[39m dmp_content(f, u, K), u \u001b[39m-\u001b[39m \u001b[39m1\u001b[39m\n\u001b[1;32m   1820\u001b[0m     \u001b[39mif\u001b[39;00m dmp_zero_p(f, u) \u001b[39mor\u001b[39;00m dmp_one_p(cont, v, K):\n\u001b[1;32m   1821\u001b[0m         \u001b[39mreturn\u001b[39;00m cont, f\n",
      "File \u001b[0;32m/Library/Frameworks/Python.framework/Versions/3.11/lib/python3.11/site-packages/sympy/polys/euclidtools.py:1793\u001b[0m, in \u001b[0;36mdmp_content\u001b[0;34m(f, u, K)\u001b[0m\n\u001b[1;32m   1790\u001b[0m     \u001b[39mreturn\u001b[39;00m cont\n\u001b[1;32m   1792\u001b[0m \u001b[39mfor\u001b[39;00m c \u001b[39min\u001b[39;00m f[\u001b[39m1\u001b[39m:]:\n\u001b[0;32m-> 1793\u001b[0m     cont \u001b[39m=\u001b[39m dmp_gcd(cont, c, v, K)\n\u001b[1;32m   1795\u001b[0m     \u001b[39mif\u001b[39;00m dmp_one_p(cont, v, K):\n\u001b[1;32m   1796\u001b[0m         \u001b[39mbreak\u001b[39;00m\n",
      "File \u001b[0;32m/Library/Frameworks/Python.framework/Versions/3.11/lib/python3.11/site-packages/sympy/polys/euclidtools.py:1625\u001b[0m, in \u001b[0;36mdmp_gcd\u001b[0;34m(f, g, u, K)\u001b[0m\n\u001b[1;32m   1608\u001b[0m \u001b[39mdef\u001b[39;00m \u001b[39mdmp_gcd\u001b[39m(f, g, u, K):\n\u001b[1;32m   1609\u001b[0m \u001b[39m    \u001b[39m\u001b[39m\"\"\"\u001b[39;00m\n\u001b[1;32m   1610\u001b[0m \u001b[39m    Computes polynomial GCD of `f` and `g` in `K[X]`.\u001b[39;00m\n\u001b[1;32m   1611\u001b[0m \n\u001b[0;32m   (...)\u001b[0m\n\u001b[1;32m   1623\u001b[0m \n\u001b[1;32m   1624\u001b[0m \u001b[39m    \"\"\"\u001b[39;00m\n\u001b[0;32m-> 1625\u001b[0m     \u001b[39mreturn\u001b[39;00m dmp_inner_gcd(f, g, u, K)[\u001b[39m0\u001b[39m]\n",
      "File \u001b[0;32m/Library/Frameworks/Python.framework/Versions/3.11/lib/python3.11/site-packages/sympy/polys/euclidtools.py:1584\u001b[0m, in \u001b[0;36mdmp_inner_gcd\u001b[0;34m(f, g, u, K)\u001b[0m\n\u001b[1;32m   1581\u001b[0m     \u001b[39mreturn\u001b[39;00m dup_inner_gcd(f, g, K)\n\u001b[1;32m   1583\u001b[0m J, (f, g) \u001b[39m=\u001b[39m dmp_multi_deflate((f, g), u, K)\n\u001b[0;32m-> 1584\u001b[0m h, cff, cfg \u001b[39m=\u001b[39m _dmp_inner_gcd(f, g, u, K)\n\u001b[1;32m   1586\u001b[0m \u001b[39mreturn\u001b[39;00m (dmp_inflate(h, J, u, K),\n\u001b[1;32m   1587\u001b[0m         dmp_inflate(cff, J, u, K),\n\u001b[1;32m   1588\u001b[0m         dmp_inflate(cfg, J, u, K))\n",
      "File \u001b[0;32m/Library/Frameworks/Python.framework/Versions/3.11/lib/python3.11/site-packages/sympy/polys/euclidtools.py:1557\u001b[0m, in \u001b[0;36m_dmp_inner_gcd\u001b[0;34m(f, g, u, K)\u001b[0m\n\u001b[1;32m   1554\u001b[0m     \u001b[39mexcept\u001b[39;00m HeuristicGCDFailed:\n\u001b[1;32m   1555\u001b[0m         \u001b[39mpass\u001b[39;00m\n\u001b[0;32m-> 1557\u001b[0m \u001b[39mreturn\u001b[39;00m dmp_rr_prs_gcd(f, g, u, K)\n",
      "File \u001b[0;32m/Library/Frameworks/Python.framework/Versions/3.11/lib/python3.11/site-packages/sympy/polys/euclidtools.py:1068\u001b[0m, in \u001b[0;36mdmp_rr_prs_gcd\u001b[0;34m(f, g, u, K)\u001b[0m\n\u001b[1;32m   1065\u001b[0m fc, F \u001b[39m=\u001b[39m dmp_primitive(f, u, K)\n\u001b[1;32m   1066\u001b[0m gc, G \u001b[39m=\u001b[39m dmp_primitive(g, u, K)\n\u001b[0;32m-> 1068\u001b[0m h \u001b[39m=\u001b[39m dmp_subresultants(F, G, u, K)[\u001b[39m-\u001b[39m\u001b[39m1\u001b[39m]\n\u001b[1;32m   1069\u001b[0m c, _, _ \u001b[39m=\u001b[39m dmp_rr_prs_gcd(fc, gc, u \u001b[39m-\u001b[39m \u001b[39m1\u001b[39m, K)\n\u001b[1;32m   1071\u001b[0m \u001b[39mif\u001b[39;00m K\u001b[39m.\u001b[39mis_negative(dmp_ground_LC(h, u, K)):\n",
      "File \u001b[0;32m/Library/Frameworks/Python.framework/Versions/3.11/lib/python3.11/site-packages/sympy/polys/euclidtools.py:549\u001b[0m, in \u001b[0;36mdmp_subresultants\u001b[0;34m(f, g, u, K)\u001b[0m\n\u001b[1;32m    529\u001b[0m \u001b[39mdef\u001b[39;00m \u001b[39mdmp_subresultants\u001b[39m(f, g, u, K):\n\u001b[1;32m    530\u001b[0m \u001b[39m    \u001b[39m\u001b[39m\"\"\"\u001b[39;00m\n\u001b[1;32m    531\u001b[0m \u001b[39m    Computes subresultant PRS of two polynomials in `K[X]`.\u001b[39;00m\n\u001b[1;32m    532\u001b[0m \n\u001b[0;32m   (...)\u001b[0m\n\u001b[1;32m    547\u001b[0m \n\u001b[1;32m    548\u001b[0m \u001b[39m    \"\"\"\u001b[39;00m\n\u001b[0;32m--> 549\u001b[0m     \u001b[39mreturn\u001b[39;00m dmp_inner_subresultants(f, g, u, K)[\u001b[39m0\u001b[39m]\n",
      "File \u001b[0;32m/Library/Frameworks/Python.framework/Versions/3.11/lib/python3.11/site-packages/sympy/polys/euclidtools.py:512\u001b[0m, in \u001b[0;36mdmp_inner_subresultants\u001b[0;34m(f, g, u, K)\u001b[0m\n\u001b[1;32m    507\u001b[0m f, g, m, d \u001b[39m=\u001b[39m g, h, k, m \u001b[39m-\u001b[39m k\n\u001b[1;32m    509\u001b[0m b \u001b[39m=\u001b[39m dmp_mul(dmp_neg(lc, v, K),\n\u001b[1;32m    510\u001b[0m             dmp_pow(c, d, v, K), v, K)\n\u001b[0;32m--> 512\u001b[0m h \u001b[39m=\u001b[39m dmp_prem(f, g, u, K)\n\u001b[1;32m    513\u001b[0m h \u001b[39m=\u001b[39m [ dmp_quo(ch, b, v, K) \u001b[39mfor\u001b[39;00m ch \u001b[39min\u001b[39;00m h ]\n\u001b[1;32m    515\u001b[0m lc \u001b[39m=\u001b[39m dmp_LC(g, K)\n",
      "File \u001b[0;32m/Library/Frameworks/Python.framework/Versions/3.11/lib/python3.11/site-packages/sympy/polys/densearith.py:1237\u001b[0m, in \u001b[0;36mdmp_prem\u001b[0;34m(f, g, u, K)\u001b[0m\n\u001b[1;32m   1234\u001b[0m lc_r \u001b[39m=\u001b[39m dmp_LC(r, K)\n\u001b[1;32m   1235\u001b[0m j, N \u001b[39m=\u001b[39m dr \u001b[39m-\u001b[39m dg, N \u001b[39m-\u001b[39m \u001b[39m1\u001b[39m\n\u001b[0;32m-> 1237\u001b[0m R \u001b[39m=\u001b[39m dmp_mul_term(r, lc_g, \u001b[39m0\u001b[39;49m, u, K)\n\u001b[1;32m   1238\u001b[0m G \u001b[39m=\u001b[39m dmp_mul_term(g, lc_r, j, u, K)\n\u001b[1;32m   1239\u001b[0m r \u001b[39m=\u001b[39m dmp_sub(R, G, u, K)\n",
      "File \u001b[0;32m/Library/Frameworks/Python.framework/Versions/3.11/lib/python3.11/site-packages/sympy/polys/densearith.py:184\u001b[0m, in \u001b[0;36mdmp_mul_term\u001b[0;34m(f, c, i, u, K)\u001b[0m\n\u001b[1;32m    182\u001b[0m     \u001b[39mreturn\u001b[39;00m dmp_zero(u)\n\u001b[1;32m    183\u001b[0m \u001b[39melse\u001b[39;00m:\n\u001b[0;32m--> 184\u001b[0m     \u001b[39mreturn\u001b[39;00m [ dmp_mul(cf, c, v, K) \u001b[39mfor\u001b[39;49;00m cf \u001b[39min\u001b[39;49;00m f ] \u001b[39m+\u001b[39m dmp_zeros(i, v, K)\n",
      "File \u001b[0;32m/Library/Frameworks/Python.framework/Versions/3.11/lib/python3.11/site-packages/sympy/polys/densearith.py:184\u001b[0m, in \u001b[0;36m<listcomp>\u001b[0;34m(.0)\u001b[0m\n\u001b[1;32m    182\u001b[0m     \u001b[39mreturn\u001b[39;00m dmp_zero(u)\n\u001b[1;32m    183\u001b[0m \u001b[39melse\u001b[39;00m:\n\u001b[0;32m--> 184\u001b[0m     \u001b[39mreturn\u001b[39;00m [ dmp_mul(cf, c, v, K) \u001b[39mfor\u001b[39;00m cf \u001b[39min\u001b[39;00m f ] \u001b[39m+\u001b[39m dmp_zeros(i, v, K)\n",
      "File \u001b[0;32m/Library/Frameworks/Python.framework/Versions/3.11/lib/python3.11/site-packages/sympy/polys/densearith.py:828\u001b[0m, in \u001b[0;36mdmp_mul\u001b[0;34m(f, g, u, K)\u001b[0m\n\u001b[1;32m    825\u001b[0m     coeff \u001b[39m=\u001b[39m dmp_zero(v)\n\u001b[1;32m    827\u001b[0m     \u001b[39mfor\u001b[39;00m j \u001b[39min\u001b[39;00m \u001b[39mrange\u001b[39m(\u001b[39mmax\u001b[39m(\u001b[39m0\u001b[39m, i \u001b[39m-\u001b[39m dg), \u001b[39mmin\u001b[39m(df, i) \u001b[39m+\u001b[39m \u001b[39m1\u001b[39m):\n\u001b[0;32m--> 828\u001b[0m         coeff \u001b[39m=\u001b[39m dmp_add(coeff, dmp_mul(f[j], g[i \u001b[39m-\u001b[39;49m j], v, K), v, K)\n\u001b[1;32m    830\u001b[0m     h\u001b[39m.\u001b[39mappend(coeff)\n\u001b[1;32m    832\u001b[0m \u001b[39mreturn\u001b[39;00m dmp_strip(h, u)\n",
      "File \u001b[0;32m/Library/Frameworks/Python.framework/Versions/3.11/lib/python3.11/site-packages/sympy/polys/densearith.py:828\u001b[0m, in \u001b[0;36mdmp_mul\u001b[0;34m(f, g, u, K)\u001b[0m\n\u001b[1;32m    825\u001b[0m     coeff \u001b[39m=\u001b[39m dmp_zero(v)\n\u001b[1;32m    827\u001b[0m     \u001b[39mfor\u001b[39;00m j \u001b[39min\u001b[39;00m \u001b[39mrange\u001b[39m(\u001b[39mmax\u001b[39m(\u001b[39m0\u001b[39m, i \u001b[39m-\u001b[39m dg), \u001b[39mmin\u001b[39m(df, i) \u001b[39m+\u001b[39m \u001b[39m1\u001b[39m):\n\u001b[0;32m--> 828\u001b[0m         coeff \u001b[39m=\u001b[39m dmp_add(coeff, dmp_mul(f[j], g[i \u001b[39m-\u001b[39;49m j], v, K), v, K)\n\u001b[1;32m    830\u001b[0m     h\u001b[39m.\u001b[39mappend(coeff)\n\u001b[1;32m    832\u001b[0m \u001b[39mreturn\u001b[39;00m dmp_strip(h, u)\n",
      "    \u001b[0;31m[... skipping similar frames: dmp_mul at line 828 (6 times)]\u001b[0m\n",
      "File \u001b[0;32m/Library/Frameworks/Python.framework/Versions/3.11/lib/python3.11/site-packages/sympy/polys/densearith.py:828\u001b[0m, in \u001b[0;36mdmp_mul\u001b[0;34m(f, g, u, K)\u001b[0m\n\u001b[1;32m    825\u001b[0m     coeff \u001b[39m=\u001b[39m dmp_zero(v)\n\u001b[1;32m    827\u001b[0m     \u001b[39mfor\u001b[39;00m j \u001b[39min\u001b[39;00m \u001b[39mrange\u001b[39m(\u001b[39mmax\u001b[39m(\u001b[39m0\u001b[39m, i \u001b[39m-\u001b[39m dg), \u001b[39mmin\u001b[39m(df, i) \u001b[39m+\u001b[39m \u001b[39m1\u001b[39m):\n\u001b[0;32m--> 828\u001b[0m         coeff \u001b[39m=\u001b[39m dmp_add(coeff, dmp_mul(f[j], g[i \u001b[39m-\u001b[39;49m j], v, K), v, K)\n\u001b[1;32m    830\u001b[0m     h\u001b[39m.\u001b[39mappend(coeff)\n\u001b[1;32m    832\u001b[0m \u001b[39mreturn\u001b[39;00m dmp_strip(h, u)\n",
      "File \u001b[0;32m/Library/Frameworks/Python.framework/Versions/3.11/lib/python3.11/site-packages/sympy/polys/densearith.py:810\u001b[0m, in \u001b[0;36mdmp_mul\u001b[0;34m(f, g, u, K)\u001b[0m\n\u001b[1;32m    807\u001b[0m     \u001b[39mreturn\u001b[39;00m dup_mul(f, g, K)\n\u001b[1;32m    809\u001b[0m \u001b[39mif\u001b[39;00m f \u001b[39m==\u001b[39m g:\n\u001b[0;32m--> 810\u001b[0m     \u001b[39mreturn\u001b[39;00m dmp_sqr(f, u, K)\n\u001b[1;32m    812\u001b[0m df \u001b[39m=\u001b[39m dmp_degree(f, u)\n\u001b[1;32m    814\u001b[0m \u001b[39mif\u001b[39;00m df \u001b[39m<\u001b[39m \u001b[39m0\u001b[39m:\n",
      "File \u001b[0;32m/Library/Frameworks/Python.framework/Versions/3.11/lib/python3.11/site-packages/sympy/polys/densearith.py:894\u001b[0m, in \u001b[0;36mdmp_sqr\u001b[0;34m(f, u, K)\u001b[0m\n\u001b[1;32m    890\u001b[0m     \u001b[39mreturn\u001b[39;00m dup_sqr(f, K)\n\u001b[1;32m    892\u001b[0m df \u001b[39m=\u001b[39m dmp_degree(f, u)\n\u001b[0;32m--> 894\u001b[0m \u001b[39mif\u001b[39;00m df \u001b[39m<\u001b[39;49m \u001b[39m0\u001b[39;49m:\n\u001b[1;32m    895\u001b[0m     \u001b[39mreturn\u001b[39;00m f\n\u001b[1;32m    897\u001b[0m h, v \u001b[39m=\u001b[39m [], u \u001b[39m-\u001b[39m \u001b[39m1\u001b[39m\n",
      "File \u001b[0;32m/Library/Frameworks/Python.framework/Versions/3.11/lib/python3.11/site-packages/sympy/core/decorators.py:236\u001b[0m, in \u001b[0;36m_SympifyWrapper.make_wrapped.<locals>._func\u001b[0;34m(self, other)\u001b[0m\n\u001b[1;32m    234\u001b[0m \u001b[39mif\u001b[39;00m \u001b[39mnot\u001b[39;00m \u001b[39misinstance\u001b[39m(other, expectedcls):\n\u001b[1;32m    235\u001b[0m     \u001b[39mreturn\u001b[39;00m retval\n\u001b[0;32m--> 236\u001b[0m \u001b[39mreturn\u001b[39;00m func(\u001b[39mself\u001b[39;49m, other)\n",
      "File \u001b[0;32m/Library/Frameworks/Python.framework/Versions/3.11/lib/python3.11/site-packages/sympy/core/expr.py:376\u001b[0m, in \u001b[0;36mExpr.__lt__\u001b[0;34m(self, other)\u001b[0m\n\u001b[1;32m    373\u001b[0m \u001b[39m@sympify_return\u001b[39m([(\u001b[39m'\u001b[39m\u001b[39mother\u001b[39m\u001b[39m'\u001b[39m, \u001b[39m'\u001b[39m\u001b[39mExpr\u001b[39m\u001b[39m'\u001b[39m)], \u001b[39mNotImplemented\u001b[39m)\n\u001b[1;32m    374\u001b[0m \u001b[39mdef\u001b[39;00m \u001b[39m__lt__\u001b[39m(\u001b[39mself\u001b[39m, other):\n\u001b[1;32m    375\u001b[0m     \u001b[39mfrom\u001b[39;00m \u001b[39m.\u001b[39;00m\u001b[39mrelational\u001b[39;00m \u001b[39mimport\u001b[39;00m StrictLessThan\n\u001b[0;32m--> 376\u001b[0m     \u001b[39mreturn\u001b[39;00m StrictLessThan(\u001b[39mself\u001b[39;49m, other)\n",
      "File \u001b[0;32m/Library/Frameworks/Python.framework/Versions/3.11/lib/python3.11/site-packages/sympy/core/relational.py:833\u001b[0m, in \u001b[0;36m_Inequality.__new__\u001b[0;34m(cls, lhs, rhs, **options)\u001b[0m\n\u001b[1;32m    824\u001b[0m             \u001b[39mraise\u001b[39;00m \u001b[39mTypeError\u001b[39;00m(\u001b[39m\"\u001b[39m\u001b[39mInvalid NaN comparison\u001b[39m\u001b[39m\"\u001b[39m)\n\u001b[1;32m    825\u001b[0m     \u001b[39m# First we invoke the appropriate inequality method of `lhs`\u001b[39;00m\n\u001b[1;32m    826\u001b[0m     \u001b[39m# (e.g., `lhs.__lt__`).  That method will try to reduce to\u001b[39;00m\n\u001b[1;32m    827\u001b[0m     \u001b[39m# boolean or raise an exception.  It may keep calling\u001b[39;00m\n\u001b[0;32m   (...)\u001b[0m\n\u001b[1;32m    831\u001b[0m     \u001b[39m# exception).  In that case, it must call us with\u001b[39;00m\n\u001b[1;32m    832\u001b[0m     \u001b[39m# `evaluate=False` to prevent infinite recursion.\u001b[39;00m\n\u001b[0;32m--> 833\u001b[0m     \u001b[39mreturn\u001b[39;00m \u001b[39mcls\u001b[39;49m\u001b[39m.\u001b[39;49m_eval_relation(lhs, rhs, \u001b[39m*\u001b[39;49m\u001b[39m*\u001b[39;49moptions)\n\u001b[1;32m    835\u001b[0m \u001b[39m# make a \"non-evaluated\" Expr for the inequality\u001b[39;00m\n\u001b[1;32m    836\u001b[0m \u001b[39mreturn\u001b[39;00m Relational\u001b[39m.\u001b[39m\u001b[39m__new__\u001b[39m(\u001b[39mcls\u001b[39m, lhs, rhs, \u001b[39m*\u001b[39m\u001b[39m*\u001b[39moptions)\n",
      "File \u001b[0;32m/Library/Frameworks/Python.framework/Versions/3.11/lib/python3.11/site-packages/sympy/core/relational.py:840\u001b[0m, in \u001b[0;36m_Inequality._eval_relation\u001b[0;34m(cls, lhs, rhs, **options)\u001b[0m\n\u001b[1;32m    838\u001b[0m \u001b[39m@classmethod\u001b[39m\n\u001b[1;32m    839\u001b[0m \u001b[39mdef\u001b[39;00m \u001b[39m_eval_relation\u001b[39m(\u001b[39mcls\u001b[39m, lhs, rhs, \u001b[39m*\u001b[39m\u001b[39m*\u001b[39moptions):\n\u001b[0;32m--> 840\u001b[0m     val \u001b[39m=\u001b[39m \u001b[39mcls\u001b[39;49m\u001b[39m.\u001b[39;49m_eval_fuzzy_relation(lhs, rhs)\n\u001b[1;32m    841\u001b[0m     \u001b[39mif\u001b[39;00m val \u001b[39mis\u001b[39;00m \u001b[39mNone\u001b[39;00m:\n\u001b[1;32m    842\u001b[0m         \u001b[39mreturn\u001b[39;00m \u001b[39mcls\u001b[39m(lhs, rhs, evaluate\u001b[39m=\u001b[39m\u001b[39mFalse\u001b[39;00m)\n",
      "File \u001b[0;32m/Library/Frameworks/Python.framework/Versions/3.11/lib/python3.11/site-packages/sympy/core/relational.py:1167\u001b[0m, in \u001b[0;36mStrictLessThan._eval_fuzzy_relation\u001b[0;34m(cls, lhs, rhs)\u001b[0m\n\u001b[1;32m   1165\u001b[0m \u001b[39m@classmethod\u001b[39m\n\u001b[1;32m   1166\u001b[0m \u001b[39mdef\u001b[39;00m \u001b[39m_eval_fuzzy_relation\u001b[39m(\u001b[39mcls\u001b[39m, lhs, rhs):\n\u001b[0;32m-> 1167\u001b[0m     \u001b[39mreturn\u001b[39;00m is_lt(lhs, rhs)\n",
      "File \u001b[0;32m/Library/Frameworks/Python.framework/Versions/3.11/lib/python3.11/site-packages/sympy/core/relational.py:1246\u001b[0m, in \u001b[0;36mis_lt\u001b[0;34m(lhs, rhs, assumptions)\u001b[0m\n\u001b[1;32m   1241\u001b[0m \u001b[39mdef\u001b[39;00m \u001b[39mis_lt\u001b[39m(lhs, rhs, assumptions\u001b[39m=\u001b[39m\u001b[39mNone\u001b[39;00m):\n\u001b[1;32m   1242\u001b[0m \u001b[39m    \u001b[39m\u001b[39m\"\"\"Fuzzy bool for lhs is strictly less than rhs.\u001b[39;00m\n\u001b[1;32m   1243\u001b[0m \n\u001b[1;32m   1244\u001b[0m \u001b[39m    See the docstring for :func:`~.is_ge` for more.\u001b[39;00m\n\u001b[1;32m   1245\u001b[0m \u001b[39m    \"\"\"\u001b[39;00m\n\u001b[0;32m-> 1246\u001b[0m     \u001b[39mreturn\u001b[39;00m fuzzy_not(is_ge(lhs, rhs, assumptions))\n",
      "File \u001b[0;32m/Library/Frameworks/Python.framework/Versions/3.11/lib/python3.11/site-packages/sympy/core/relational.py:1368\u001b[0m, in \u001b[0;36mis_ge\u001b[0;34m(lhs, rhs, assumptions)\u001b[0m\n\u001b[1;32m   1366\u001b[0m     \u001b[39mreturn\u001b[39;00m retval\n\u001b[1;32m   1367\u001b[0m \u001b[39melse\u001b[39;00m:\n\u001b[0;32m-> 1368\u001b[0m     n2 \u001b[39m=\u001b[39m _n2(lhs, rhs)\n\u001b[1;32m   1369\u001b[0m     \u001b[39mif\u001b[39;00m n2 \u001b[39mis\u001b[39;00m \u001b[39mnot\u001b[39;00m \u001b[39mNone\u001b[39;00m:\n\u001b[1;32m   1370\u001b[0m         \u001b[39m# use float comparison for infinity.\u001b[39;00m\n\u001b[1;32m   1371\u001b[0m         \u001b[39m# otherwise get stuck in infinite recursion\u001b[39;00m\n\u001b[1;32m   1372\u001b[0m         \u001b[39mif\u001b[39;00m n2 \u001b[39min\u001b[39;00m (S\u001b[39m.\u001b[39mInfinity, S\u001b[39m.\u001b[39mNegativeInfinity):\n",
      "File \u001b[0;32m/Library/Frameworks/Python.framework/Versions/3.11/lib/python3.11/site-packages/sympy/core/relational.py:1203\u001b[0m, in \u001b[0;36m_n2\u001b[0;34m(a, b)\u001b[0m\n\u001b[1;32m   1200\u001b[0m \u001b[39m# /!\\ it is very important (see issue 8245) not to\u001b[39;00m\n\u001b[1;32m   1201\u001b[0m \u001b[39m# use a re-evaluated number in the calculation of dif\u001b[39;00m\n\u001b[1;32m   1202\u001b[0m \u001b[39mif\u001b[39;00m a\u001b[39m.\u001b[39mis_comparable \u001b[39mand\u001b[39;00m b\u001b[39m.\u001b[39mis_comparable:\n\u001b[0;32m-> 1203\u001b[0m     dif \u001b[39m=\u001b[39m (a \u001b[39m-\u001b[39;49m b)\u001b[39m.\u001b[39mevalf(\u001b[39m2\u001b[39m)\n\u001b[1;32m   1204\u001b[0m     \u001b[39mif\u001b[39;00m dif\u001b[39m.\u001b[39mis_comparable:\n\u001b[1;32m   1205\u001b[0m         \u001b[39mreturn\u001b[39;00m dif\n",
      "File \u001b[0;32m/Library/Frameworks/Python.framework/Versions/3.11/lib/python3.11/site-packages/sympy/core/decorators.py:65\u001b[0m, in \u001b[0;36m__sympifyit.<locals>.__sympifyit_wrapper\u001b[0;34m(a, b)\u001b[0m\n\u001b[1;32m     63\u001b[0m     \u001b[39mif\u001b[39;00m \u001b[39mnot\u001b[39;00m \u001b[39mhasattr\u001b[39m(b, \u001b[39m'\u001b[39m\u001b[39m_op_priority\u001b[39m\u001b[39m'\u001b[39m):\n\u001b[1;32m     64\u001b[0m         b \u001b[39m=\u001b[39m sympify(b, strict\u001b[39m=\u001b[39m\u001b[39mTrue\u001b[39;00m)\n\u001b[0;32m---> 65\u001b[0m     \u001b[39mreturn\u001b[39;00m func(a, b)\n\u001b[1;32m     66\u001b[0m \u001b[39mexcept\u001b[39;00m SympifyError:\n\u001b[1;32m     67\u001b[0m     \u001b[39mreturn\u001b[39;00m retval\n",
      "File \u001b[0;32m/Library/Frameworks/Python.framework/Versions/3.11/lib/python3.11/site-packages/sympy/core/numbers.py:3503\u001b[0m, in \u001b[0;36mNegativeInfinity.__sub__\u001b[0;34m(self, other)\u001b[0m\n\u001b[1;32m   3500\u001b[0m \u001b[39m@_sympifyit\u001b[39m(\u001b[39m'\u001b[39m\u001b[39mother\u001b[39m\u001b[39m'\u001b[39m, \u001b[39mNotImplemented\u001b[39m)\n\u001b[1;32m   3501\u001b[0m \u001b[39mdef\u001b[39;00m \u001b[39m__sub__\u001b[39m(\u001b[39mself\u001b[39m, other):\n\u001b[1;32m   3502\u001b[0m     \u001b[39mif\u001b[39;00m \u001b[39misinstance\u001b[39m(other, Number) \u001b[39mand\u001b[39;00m global_parameters\u001b[39m.\u001b[39mevaluate:\n\u001b[0;32m-> 3503\u001b[0m         \u001b[39mif\u001b[39;00m other \u001b[39min\u001b[39;49;00m (S\u001b[39m.\u001b[39;49mNegativeInfinity, S\u001b[39m.\u001b[39;49mNaN):\n\u001b[1;32m   3504\u001b[0m             \u001b[39mreturn\u001b[39;00m S\u001b[39m.\u001b[39mNaN\n\u001b[1;32m   3505\u001b[0m         \u001b[39mreturn\u001b[39;00m \u001b[39mself\u001b[39m\n",
      "File \u001b[0;32m/Library/Frameworks/Python.framework/Versions/3.11/lib/python3.11/site-packages/sympy/core/numbers.py:3590\u001b[0m, in \u001b[0;36mNegativeInfinity.__eq__\u001b[0;34m(self, other)\u001b[0m\n\u001b[1;32m   3587\u001b[0m \u001b[39mdef\u001b[39;00m \u001b[39m__hash__\u001b[39m(\u001b[39mself\u001b[39m):\n\u001b[1;32m   3588\u001b[0m     \u001b[39mreturn\u001b[39;00m \u001b[39msuper\u001b[39m()\u001b[39m.\u001b[39m\u001b[39m__hash__\u001b[39m()\n\u001b[0;32m-> 3590\u001b[0m \u001b[39mdef\u001b[39;00m \u001b[39m__eq__\u001b[39m(\u001b[39mself\u001b[39m, other):\n\u001b[1;32m   3591\u001b[0m     \u001b[39mreturn\u001b[39;00m other \u001b[39mis\u001b[39;00m S\u001b[39m.\u001b[39mNegativeInfinity \u001b[39mor\u001b[39;00m other \u001b[39m==\u001b[39m \u001b[39mfloat\u001b[39m(\u001b[39m'\u001b[39m\u001b[39m-inf\u001b[39m\u001b[39m'\u001b[39m)\n\u001b[1;32m   3593\u001b[0m \u001b[39mdef\u001b[39;00m \u001b[39m__ne__\u001b[39m(\u001b[39mself\u001b[39m, other):\n",
      "\u001b[0;31mKeyboardInterrupt\u001b[0m: "
     ]
    }
   ],
   "source": [
    "comp_sqrt = sqrt(k*m_l*(T1**4*T2**2*k*m_l*omega_max**2 - 4*tau_max**2))\n",
    "F = symbols(\"F\")\n",
    "solve0simp = solved[0].subs(comp_sqrt, -comp_sqrt*I).rewrite(cos).simplify()\n",
    "solve0simp"
   ]
  },
  {
   "cell_type": "code",
   "execution_count": 516,
   "metadata": {},
   "outputs": [
    {
     "data": {
      "text/latex": [
       "$\\displaystyle \\frac{\\frac{F T_{1}^{2} T_{2} \\omega_{max} \\left(\\left(F T_{1} T_{2}^{2} \\omega_{max} - F T_{2} v_{l0} - T_{1}^{3} T_{2}^{3} k m_{l} \\omega_{max}^{2} + T_{1}^{2} T_{2}^{2} k m_{l} \\omega_{max} v_{l0} + 2 T_{1} T_{2} k \\tau_{max} x_{a0} - 2 k \\tau_{max} x_{l0}\\right) e^{- \\frac{t \\left(F + T_{1}^{2} T_{2} k m_{l} \\omega_{max}\\right)}{2 T_{2} m_{l} \\tau_{max}}} + \\left(F T_{1} T_{2}^{2} \\omega_{max} - F T_{2} v_{l0} + T_{1}^{3} T_{2}^{3} k m_{l} \\omega_{max}^{2} - T_{1}^{2} T_{2}^{2} k m_{l} \\omega_{max} v_{l0} - 2 T_{1} T_{2} k \\tau_{max} x_{a0} + 2 k \\tau_{max} x_{l0}\\right) e^{\\frac{t \\left(F - T_{1}^{2} T_{2} k m_{l} \\omega_{max}\\right)}{2 T_{2} m_{l} \\tau_{max}}}\\right)}{4} + T_{1} T_{2} k \\omega_{max} t \\tau_{max} \\left(T_{1}^{4} T_{2}^{2} k m_{l} \\omega_{max}^{2} - 4 \\tau_{max}^{2}\\right) + T_{1} T_{2} k \\left(T_{1}^{4} T_{2}^{2} k m_{l} \\omega_{max}^{2} - 4 \\tau_{max}^{2}\\right) \\left(- T_{1}^{2} T_{2}^{2} m_{l} \\omega_{max}^{2} + T_{1} T_{2} m_{l} \\omega_{max} v_{l0} + \\tau_{max} x_{a0}\\right) + \\frac{\\left(\\left(- F T_{1} T_{2}^{2} \\omega_{max} + F T_{2} v_{l0} + T_{1}^{3} T_{2}^{3} k m_{l} \\omega_{max}^{2} - T_{1}^{2} T_{2}^{2} k m_{l} \\omega_{max} v_{l0} - 2 T_{1} T_{2} k \\tau_{max} x_{a0} + 2 k \\tau_{max} x_{l0}\\right) e^{- \\frac{t \\left(F + T_{1}^{2} T_{2} k m_{l} \\omega_{max}\\right)}{2 T_{2} m_{l} \\tau_{max}}} + \\left(F T_{1} T_{2}^{2} \\omega_{max} - F T_{2} v_{l0} + T_{1}^{3} T_{2}^{3} k m_{l} \\omega_{max}^{2} - T_{1}^{2} T_{2}^{2} k m_{l} \\omega_{max} v_{l0} - 2 T_{1} T_{2} k \\tau_{max} x_{a0} + 2 k \\tau_{max} x_{l0}\\right) e^{\\frac{t \\left(F - T_{1}^{2} T_{2} k m_{l} \\omega_{max}\\right)}{2 T_{2} m_{l} \\tau_{max}}}\\right) \\left(T_{1}^{4} T_{2}^{2} k m_{l} \\omega_{max}^{2} - 4 \\tau_{max}^{2}\\right)}{4}}{k \\tau_{max} \\left(T_{1}^{4} T_{2}^{2} k m_{l} \\omega_{max}^{2} - 4 \\tau_{max}^{2}\\right)}$"
      ],
      "text/plain": [
       "(F*T1**2*T2*omega_max*((F*T1*T2**2*omega_max - F*T2*v_l0 - T1**3*T2**3*k*m_l*omega_max**2 + T1**2*T2**2*k*m_l*omega_max*v_l0 + 2*T1*T2*k*tau_max*x_a0 - 2*k*tau_max*x_l0)*exp(-t*(F + T1**2*T2*k*m_l*omega_max)/(2*T2*m_l*tau_max)) + (F*T1*T2**2*omega_max - F*T2*v_l0 + T1**3*T2**3*k*m_l*omega_max**2 - T1**2*T2**2*k*m_l*omega_max*v_l0 - 2*T1*T2*k*tau_max*x_a0 + 2*k*tau_max*x_l0)*exp(t*(F - T1**2*T2*k*m_l*omega_max)/(2*T2*m_l*tau_max)))/4 + T1*T2*k*omega_max*t*tau_max*(T1**4*T2**2*k*m_l*omega_max**2 - 4*tau_max**2) + T1*T2*k*(T1**4*T2**2*k*m_l*omega_max**2 - 4*tau_max**2)*(-T1**2*T2**2*m_l*omega_max**2 + T1*T2*m_l*omega_max*v_l0 + tau_max*x_a0) + ((-F*T1*T2**2*omega_max + F*T2*v_l0 + T1**3*T2**3*k*m_l*omega_max**2 - T1**2*T2**2*k*m_l*omega_max*v_l0 - 2*T1*T2*k*tau_max*x_a0 + 2*k*tau_max*x_l0)*exp(-t*(F + T1**2*T2*k*m_l*omega_max)/(2*T2*m_l*tau_max)) + (F*T1*T2**2*omega_max - F*T2*v_l0 + T1**3*T2**3*k*m_l*omega_max**2 - T1**2*T2**2*k*m_l*omega_max*v_l0 - 2*T1*T2*k*tau_max*x_a0 + 2*k*tau_max*x_l0)*exp(t*(F - T1**2*T2*k*m_l*omega_max)/(2*T2*m_l*tau_max)))*(T1**4*T2**2*k*m_l*omega_max**2 - 4*tau_max**2)/4)/(k*tau_max*(T1**4*T2**2*k*m_l*omega_max**2 - 4*tau_max**2))"
      ]
     },
     "execution_count": 516,
     "metadata": {},
     "output_type": "execute_result"
    }
   ],
   "source": [
    "solved[1].subs(comp_sqrt, F)"
   ]
  },
  {
   "cell_type": "code",
   "execution_count": 512,
   "metadata": {},
   "outputs": [
    {
     "ename": "KeyboardInterrupt",
     "evalue": "",
     "output_type": "error",
     "traceback": [
      "\u001b[0;31m---------------------------------------------------------------------------\u001b[0m",
      "\u001b[0;31mKeyboardInterrupt\u001b[0m                         Traceback (most recent call last)",
      "Cell \u001b[0;32mIn[512], line 1\u001b[0m\n\u001b[0;32m----> 1\u001b[0m solved[\u001b[39m0\u001b[39;49m]\u001b[39m.\u001b[39;49mexpand(\u001b[39mcomplex\u001b[39;49m\u001b[39m=\u001b[39;49m\u001b[39mTrue\u001b[39;49;00m)\n",
      "File \u001b[0;32m/Library/Frameworks/Python.framework/Versions/3.11/lib/python3.11/site-packages/sympy/core/cache.py:72\u001b[0m, in \u001b[0;36m__cacheit.<locals>.func_wrapper.<locals>.wrapper\u001b[0;34m(*args, **kwargs)\u001b[0m\n\u001b[1;32m     69\u001b[0m \u001b[39m@wraps\u001b[39m(func)\n\u001b[1;32m     70\u001b[0m \u001b[39mdef\u001b[39;00m \u001b[39mwrapper\u001b[39m(\u001b[39m*\u001b[39margs, \u001b[39m*\u001b[39m\u001b[39m*\u001b[39mkwargs):\n\u001b[1;32m     71\u001b[0m     \u001b[39mtry\u001b[39;00m:\n\u001b[0;32m---> 72\u001b[0m         retval \u001b[39m=\u001b[39m cfunc(\u001b[39m*\u001b[39;49margs, \u001b[39m*\u001b[39;49m\u001b[39m*\u001b[39;49mkwargs)\n\u001b[1;32m     73\u001b[0m     \u001b[39mexcept\u001b[39;00m \u001b[39mTypeError\u001b[39;00m \u001b[39mas\u001b[39;00m e:\n\u001b[1;32m     74\u001b[0m         \u001b[39mif\u001b[39;00m \u001b[39mnot\u001b[39;00m e\u001b[39m.\u001b[39margs \u001b[39mor\u001b[39;00m \u001b[39mnot\u001b[39;00m e\u001b[39m.\u001b[39margs[\u001b[39m0\u001b[39m]\u001b[39m.\u001b[39mstartswith(\u001b[39m'\u001b[39m\u001b[39munhashable type:\u001b[39m\u001b[39m'\u001b[39m):\n",
      "File \u001b[0;32m/Library/Frameworks/Python.framework/Versions/3.11/lib/python3.11/site-packages/sympy/core/expr.py:3682\u001b[0m, in \u001b[0;36mExpr.expand\u001b[0;34m(self, deep, modulus, power_base, power_exp, mul, log, multinomial, basic, **hints)\u001b[0m\n\u001b[1;32m   3680\u001b[0m     \u001b[39mif\u001b[39;00m use_hint:\n\u001b[1;32m   3681\u001b[0m         hint \u001b[39m=\u001b[39m \u001b[39m'\u001b[39m\u001b[39m_eval_expand_\u001b[39m\u001b[39m'\u001b[39m \u001b[39m+\u001b[39m hint\n\u001b[0;32m-> 3682\u001b[0m         expr, hit \u001b[39m=\u001b[39m Expr\u001b[39m.\u001b[39;49m_expand_hint(expr, hint, deep\u001b[39m=\u001b[39;49mdeep, \u001b[39m*\u001b[39;49m\u001b[39m*\u001b[39;49mhints)\n\u001b[1;32m   3684\u001b[0m \u001b[39mwhile\u001b[39;00m \u001b[39mTrue\u001b[39;00m:\n\u001b[1;32m   3685\u001b[0m     was \u001b[39m=\u001b[39m expr\n",
      "File \u001b[0;32m/Library/Frameworks/Python.framework/Versions/3.11/lib/python3.11/site-packages/sympy/core/expr.py:3615\u001b[0m, in \u001b[0;36mExpr._expand_hint\u001b[0;34m(expr, hint, deep, **hints)\u001b[0m\n\u001b[1;32m   3613\u001b[0m sargs \u001b[39m=\u001b[39m []\n\u001b[1;32m   3614\u001b[0m \u001b[39mfor\u001b[39;00m arg \u001b[39min\u001b[39;00m expr\u001b[39m.\u001b[39margs:\n\u001b[0;32m-> 3615\u001b[0m     arg, arghit \u001b[39m=\u001b[39m Expr\u001b[39m.\u001b[39;49m_expand_hint(arg, hint, \u001b[39m*\u001b[39;49m\u001b[39m*\u001b[39;49mhints)\n\u001b[1;32m   3616\u001b[0m     hit \u001b[39m|\u001b[39m\u001b[39m=\u001b[39m arghit\n\u001b[1;32m   3617\u001b[0m     sargs\u001b[39m.\u001b[39mappend(arg)\n",
      "File \u001b[0;32m/Library/Frameworks/Python.framework/Versions/3.11/lib/python3.11/site-packages/sympy/core/expr.py:3615\u001b[0m, in \u001b[0;36mExpr._expand_hint\u001b[0;34m(expr, hint, deep, **hints)\u001b[0m\n\u001b[1;32m   3613\u001b[0m sargs \u001b[39m=\u001b[39m []\n\u001b[1;32m   3614\u001b[0m \u001b[39mfor\u001b[39;00m arg \u001b[39min\u001b[39;00m expr\u001b[39m.\u001b[39margs:\n\u001b[0;32m-> 3615\u001b[0m     arg, arghit \u001b[39m=\u001b[39m Expr\u001b[39m.\u001b[39;49m_expand_hint(arg, hint, \u001b[39m*\u001b[39;49m\u001b[39m*\u001b[39;49mhints)\n\u001b[1;32m   3616\u001b[0m     hit \u001b[39m|\u001b[39m\u001b[39m=\u001b[39m arghit\n\u001b[1;32m   3617\u001b[0m     sargs\u001b[39m.\u001b[39mappend(arg)\n",
      "File \u001b[0;32m/Library/Frameworks/Python.framework/Versions/3.11/lib/python3.11/site-packages/sympy/core/expr.py:3623\u001b[0m, in \u001b[0;36mExpr._expand_hint\u001b[0;34m(expr, hint, deep, **hints)\u001b[0m\n\u001b[1;32m   3620\u001b[0m         expr \u001b[39m=\u001b[39m expr\u001b[39m.\u001b[39mfunc(\u001b[39m*\u001b[39msargs)\n\u001b[1;32m   3622\u001b[0m \u001b[39mif\u001b[39;00m \u001b[39mhasattr\u001b[39m(expr, hint):\n\u001b[0;32m-> 3623\u001b[0m     newexpr \u001b[39m=\u001b[39m \u001b[39mgetattr\u001b[39;49m(expr, hint)(\u001b[39m*\u001b[39;49m\u001b[39m*\u001b[39;49mhints)\n\u001b[1;32m   3624\u001b[0m     \u001b[39mif\u001b[39;00m newexpr \u001b[39m!=\u001b[39m expr:\n\u001b[1;32m   3625\u001b[0m         \u001b[39mreturn\u001b[39;00m (newexpr, \u001b[39mTrue\u001b[39;00m)\n",
      "File \u001b[0;32m/Library/Frameworks/Python.framework/Versions/3.11/lib/python3.11/site-packages/sympy/core/expr.py:3596\u001b[0m, in \u001b[0;36mExpr._eval_expand_complex\u001b[0;34m(self, **hints)\u001b[0m\n\u001b[1;32m   3595\u001b[0m \u001b[39mdef\u001b[39;00m \u001b[39m_eval_expand_complex\u001b[39m(\u001b[39mself\u001b[39m, \u001b[39m*\u001b[39m\u001b[39m*\u001b[39mhints):\n\u001b[0;32m-> 3596\u001b[0m     real, imag \u001b[39m=\u001b[39m \u001b[39mself\u001b[39;49m\u001b[39m.\u001b[39;49mas_real_imag(\u001b[39m*\u001b[39;49m\u001b[39m*\u001b[39;49mhints)\n\u001b[1;32m   3597\u001b[0m     \u001b[39mreturn\u001b[39;00m real \u001b[39m+\u001b[39m S\u001b[39m.\u001b[39mImaginaryUnit\u001b[39m*\u001b[39mimag\n",
      "File \u001b[0;32m/Library/Frameworks/Python.framework/Versions/3.11/lib/python3.11/site-packages/sympy/core/mul.py:890\u001b[0m, in \u001b[0;36mMul.as_real_imag\u001b[0;34m(self, deep, **hints)\u001b[0m\n\u001b[1;32m    888\u001b[0m     \u001b[39mreturn\u001b[39;00m (\u001b[39m-\u001b[39mimco\u001b[39m*\u001b[39mi, imco\u001b[39m*\u001b[39mr)\n\u001b[1;32m    889\u001b[0m \u001b[39mfrom\u001b[39;00m \u001b[39m.\u001b[39;00m\u001b[39mfunction\u001b[39;00m \u001b[39mimport\u001b[39;00m expand_mul\n\u001b[0;32m--> 890\u001b[0m addre, addim \u001b[39m=\u001b[39m expand_mul(addterms, deep\u001b[39m=\u001b[39;49m\u001b[39mFalse\u001b[39;49;00m)\u001b[39m.\u001b[39;49mas_real_imag()\n\u001b[1;32m    891\u001b[0m \u001b[39mif\u001b[39;00m imco \u001b[39mis\u001b[39;00m S\u001b[39m.\u001b[39mZero:\n\u001b[1;32m    892\u001b[0m     \u001b[39mreturn\u001b[39;00m (r\u001b[39m*\u001b[39maddre \u001b[39m-\u001b[39m i\u001b[39m*\u001b[39maddim, i\u001b[39m*\u001b[39maddre \u001b[39m+\u001b[39m r\u001b[39m*\u001b[39maddim)\n",
      "File \u001b[0;32m/Library/Frameworks/Python.framework/Versions/3.11/lib/python3.11/site-packages/sympy/core/add.py:1013\u001b[0m, in \u001b[0;36mAdd.as_real_imag\u001b[0;34m(self, deep, **hints)\u001b[0m\n\u001b[1;32m   1011\u001b[0m re_part, im_part \u001b[39m=\u001b[39m [], []\n\u001b[1;32m   1012\u001b[0m \u001b[39mfor\u001b[39;00m term \u001b[39min\u001b[39;00m sargs:\n\u001b[0;32m-> 1013\u001b[0m     re, im \u001b[39m=\u001b[39m term\u001b[39m.\u001b[39;49mas_real_imag(deep\u001b[39m=\u001b[39;49mdeep)\n\u001b[1;32m   1014\u001b[0m     re_part\u001b[39m.\u001b[39mappend(re)\n\u001b[1;32m   1015\u001b[0m     im_part\u001b[39m.\u001b[39mappend(im)\n",
      "File \u001b[0;32m/Library/Frameworks/Python.framework/Versions/3.11/lib/python3.11/site-packages/sympy/core/mul.py:849\u001b[0m, in \u001b[0;36mMul.as_real_imag\u001b[0;34m(self, deep, **hints)\u001b[0m\n\u001b[1;32m    847\u001b[0m addterms \u001b[39m=\u001b[39m S\u001b[39m.\u001b[39mOne\n\u001b[1;32m    848\u001b[0m \u001b[39mfor\u001b[39;00m a \u001b[39min\u001b[39;00m \u001b[39mself\u001b[39m\u001b[39m.\u001b[39margs:\n\u001b[0;32m--> 849\u001b[0m     r, i \u001b[39m=\u001b[39m a\u001b[39m.\u001b[39;49mas_real_imag()\n\u001b[1;32m    850\u001b[0m     \u001b[39mif\u001b[39;00m i\u001b[39m.\u001b[39mis_zero:\n\u001b[1;32m    851\u001b[0m         coeffr\u001b[39m.\u001b[39mappend(r)\n",
      "File \u001b[0;32m/Library/Frameworks/Python.framework/Versions/3.11/lib/python3.11/site-packages/sympy/core/power.py:1340\u001b[0m, in \u001b[0;36mPow.as_real_imag\u001b[0;34m(self, deep, **hints)\u001b[0m\n\u001b[1;32m   1337\u001b[0m \u001b[39mfrom\u001b[39;00m \u001b[39msympy\u001b[39;00m\u001b[39m.\u001b[39;00m\u001b[39mfunctions\u001b[39;00m\u001b[39m.\u001b[39;00m\u001b[39melementary\u001b[39;00m\u001b[39m.\u001b[39;00m\u001b[39mtrigonometric\u001b[39;00m \u001b[39mimport\u001b[39;00m atan2, cos, sin\n\u001b[1;32m   1339\u001b[0m \u001b[39mif\u001b[39;00m \u001b[39mself\u001b[39m\u001b[39m.\u001b[39mexp\u001b[39m.\u001b[39mis_Rational:\n\u001b[0;32m-> 1340\u001b[0m     re_e, im_e \u001b[39m=\u001b[39m \u001b[39mself\u001b[39;49m\u001b[39m.\u001b[39;49mbase\u001b[39m.\u001b[39;49mas_real_imag(deep\u001b[39m=\u001b[39;49mdeep)\n\u001b[1;32m   1342\u001b[0m     \u001b[39mif\u001b[39;00m im_e\u001b[39m.\u001b[39mis_zero \u001b[39mand\u001b[39;00m \u001b[39mself\u001b[39m\u001b[39m.\u001b[39mexp \u001b[39mis\u001b[39;00m S\u001b[39m.\u001b[39mHalf:\n\u001b[1;32m   1343\u001b[0m         \u001b[39mif\u001b[39;00m re_e\u001b[39m.\u001b[39mis_extended_nonnegative:\n",
      "File \u001b[0;32m/Library/Frameworks/Python.framework/Versions/3.11/lib/python3.11/site-packages/sympy/core/add.py:1013\u001b[0m, in \u001b[0;36mAdd.as_real_imag\u001b[0;34m(self, deep, **hints)\u001b[0m\n\u001b[1;32m   1011\u001b[0m re_part, im_part \u001b[39m=\u001b[39m [], []\n\u001b[1;32m   1012\u001b[0m \u001b[39mfor\u001b[39;00m term \u001b[39min\u001b[39;00m sargs:\n\u001b[0;32m-> 1013\u001b[0m     re, im \u001b[39m=\u001b[39m term\u001b[39m.\u001b[39;49mas_real_imag(deep\u001b[39m=\u001b[39;49mdeep)\n\u001b[1;32m   1014\u001b[0m     re_part\u001b[39m.\u001b[39mappend(re)\n\u001b[1;32m   1015\u001b[0m     im_part\u001b[39m.\u001b[39mappend(im)\n",
      "File \u001b[0;32m/Library/Frameworks/Python.framework/Versions/3.11/lib/python3.11/site-packages/sympy/core/power.py:1301\u001b[0m, in \u001b[0;36mPow.as_real_imag\u001b[0;34m(self, deep, **hints)\u001b[0m\n\u001b[1;32m   1298\u001b[0m \u001b[39mfrom\u001b[39;00m \u001b[39msympy\u001b[39;00m\u001b[39m.\u001b[39;00m\u001b[39mpolys\u001b[39;00m\u001b[39m.\u001b[39;00m\u001b[39mpolytools\u001b[39;00m \u001b[39mimport\u001b[39;00m poly\n\u001b[1;32m   1300\u001b[0m exp \u001b[39m=\u001b[39m \u001b[39mself\u001b[39m\u001b[39m.\u001b[39mexp\n\u001b[0;32m-> 1301\u001b[0m re_e, im_e \u001b[39m=\u001b[39m \u001b[39mself\u001b[39;49m\u001b[39m.\u001b[39;49mbase\u001b[39m.\u001b[39;49mas_real_imag(deep\u001b[39m=\u001b[39;49mdeep)\n\u001b[1;32m   1302\u001b[0m \u001b[39mif\u001b[39;00m \u001b[39mnot\u001b[39;00m im_e:\n\u001b[1;32m   1303\u001b[0m     \u001b[39mreturn\u001b[39;00m \u001b[39mself\u001b[39m, S\u001b[39m.\u001b[39mZero\n",
      "File \u001b[0;32m/Library/Frameworks/Python.framework/Versions/3.11/lib/python3.11/site-packages/sympy/core/add.py:1013\u001b[0m, in \u001b[0;36mAdd.as_real_imag\u001b[0;34m(self, deep, **hints)\u001b[0m\n\u001b[1;32m   1011\u001b[0m re_part, im_part \u001b[39m=\u001b[39m [], []\n\u001b[1;32m   1012\u001b[0m \u001b[39mfor\u001b[39;00m term \u001b[39min\u001b[39;00m sargs:\n\u001b[0;32m-> 1013\u001b[0m     re, im \u001b[39m=\u001b[39m term\u001b[39m.\u001b[39;49mas_real_imag(deep\u001b[39m=\u001b[39;49mdeep)\n\u001b[1;32m   1014\u001b[0m     re_part\u001b[39m.\u001b[39mappend(re)\n\u001b[1;32m   1015\u001b[0m     im_part\u001b[39m.\u001b[39mappend(im)\n",
      "File \u001b[0;32m/Library/Frameworks/Python.framework/Versions/3.11/lib/python3.11/site-packages/sympy/core/mul.py:878\u001b[0m, in \u001b[0;36mMul.as_real_imag\u001b[0;34m(self, deep, **hints)\u001b[0m\n\u001b[1;32m    874\u001b[0m     \u001b[39m# all other pairs make a real factor; they will be\u001b[39;00m\n\u001b[1;32m    875\u001b[0m     \u001b[39m# put into reco below\u001b[39;00m\n\u001b[1;32m    876\u001b[0m \u001b[39melse\u001b[39;00m:\n\u001b[1;32m    877\u001b[0m     imco \u001b[39m=\u001b[39m S\u001b[39m.\u001b[39mZero\n\u001b[0;32m--> 878\u001b[0m reco \u001b[39m=\u001b[39m \u001b[39mself\u001b[39;49m\u001b[39m.\u001b[39;49mfunc(\u001b[39m*\u001b[39;49m(coeffr \u001b[39m+\u001b[39;49m coeffi))\n\u001b[1;32m    879\u001b[0m r, i \u001b[39m=\u001b[39m (reco\u001b[39m*\u001b[39mre(m), reco\u001b[39m*\u001b[39mim(m))\n\u001b[1;32m    880\u001b[0m \u001b[39mif\u001b[39;00m addterms \u001b[39m==\u001b[39m \u001b[39m1\u001b[39m:\n",
      "File \u001b[0;32m/Library/Frameworks/Python.framework/Versions/3.11/lib/python3.11/site-packages/sympy/core/cache.py:72\u001b[0m, in \u001b[0;36m__cacheit.<locals>.func_wrapper.<locals>.wrapper\u001b[0;34m(*args, **kwargs)\u001b[0m\n\u001b[1;32m     69\u001b[0m \u001b[39m@wraps\u001b[39m(func)\n\u001b[1;32m     70\u001b[0m \u001b[39mdef\u001b[39;00m \u001b[39mwrapper\u001b[39m(\u001b[39m*\u001b[39margs, \u001b[39m*\u001b[39m\u001b[39m*\u001b[39mkwargs):\n\u001b[1;32m     71\u001b[0m     \u001b[39mtry\u001b[39;00m:\n\u001b[0;32m---> 72\u001b[0m         retval \u001b[39m=\u001b[39m cfunc(\u001b[39m*\u001b[39;49margs, \u001b[39m*\u001b[39;49m\u001b[39m*\u001b[39;49mkwargs)\n\u001b[1;32m     73\u001b[0m     \u001b[39mexcept\u001b[39;00m \u001b[39mTypeError\u001b[39;00m \u001b[39mas\u001b[39;00m e:\n\u001b[1;32m     74\u001b[0m         \u001b[39mif\u001b[39;00m \u001b[39mnot\u001b[39;00m e\u001b[39m.\u001b[39margs \u001b[39mor\u001b[39;00m \u001b[39mnot\u001b[39;00m e\u001b[39m.\u001b[39margs[\u001b[39m0\u001b[39m]\u001b[39m.\u001b[39mstartswith(\u001b[39m'\u001b[39m\u001b[39munhashable type:\u001b[39m\u001b[39m'\u001b[39m):\n",
      "File \u001b[0;32m/Library/Frameworks/Python.framework/Versions/3.11/lib/python3.11/site-packages/sympy/core/operations.py:57\u001b[0m, in \u001b[0;36mAssocOp.__new__\u001b[0;34m(cls, evaluate, _sympify, *args)\u001b[0m\n\u001b[1;32m     52\u001b[0m \u001b[39m@cacheit\u001b[39m\n\u001b[1;32m     53\u001b[0m \u001b[39mdef\u001b[39;00m \u001b[39m__new__\u001b[39m(\u001b[39mcls\u001b[39m, \u001b[39m*\u001b[39margs, evaluate\u001b[39m=\u001b[39m\u001b[39mNone\u001b[39;00m, _sympify\u001b[39m=\u001b[39m\u001b[39mTrue\u001b[39;00m):\n\u001b[1;32m     54\u001b[0m     \u001b[39m# Allow faster processing by passing ``_sympify=False``, if all arguments\u001b[39;00m\n\u001b[1;32m     55\u001b[0m     \u001b[39m# are already sympified.\u001b[39;00m\n\u001b[1;32m     56\u001b[0m     \u001b[39mif\u001b[39;00m _sympify:\n\u001b[0;32m---> 57\u001b[0m         args \u001b[39m=\u001b[39m \u001b[39mlist\u001b[39m(\u001b[39mmap\u001b[39m(_sympify_, args))\n\u001b[1;32m     59\u001b[0m     \u001b[39m# Disallow non-Expr args in Add/Mul\u001b[39;00m\n\u001b[1;32m     60\u001b[0m     typ \u001b[39m=\u001b[39m \u001b[39mcls\u001b[39m\u001b[39m.\u001b[39m_args_type\n",
      "File \u001b[0;32m/Library/Frameworks/Python.framework/Versions/3.11/lib/python3.11/site-packages/sympy/core/sympify.py:502\u001b[0m, in \u001b[0;36m_sympify\u001b[0;34m(a)\u001b[0m\n\u001b[1;32m    497\u001b[0m         \u001b[39mraise\u001b[39;00m SympifyError(\u001b[39m'\u001b[39m\u001b[39mcould not parse \u001b[39m\u001b[39m%r\u001b[39;00m\u001b[39m'\u001b[39m \u001b[39m%\u001b[39m a, exc)\n\u001b[1;32m    499\u001b[0m     \u001b[39mreturn\u001b[39;00m expr\n\u001b[0;32m--> 502\u001b[0m \u001b[39mdef\u001b[39;00m \u001b[39m_sympify\u001b[39m(a):\n\u001b[1;32m    503\u001b[0m \u001b[39m    \u001b[39m\u001b[39m\"\"\"\u001b[39;00m\n\u001b[1;32m    504\u001b[0m \u001b[39m    Short version of :func:`~.sympify` for internal usage for ``__add__`` and\u001b[39;00m\n\u001b[1;32m    505\u001b[0m \u001b[39m    ``__eq__`` methods where it is ok to allow some things (like Python\u001b[39;00m\n\u001b[0;32m   (...)\u001b[0m\n\u001b[1;32m    526\u001b[0m \n\u001b[1;32m    527\u001b[0m \u001b[39m    \"\"\"\u001b[39;00m\n\u001b[1;32m    528\u001b[0m     \u001b[39mreturn\u001b[39;00m sympify(a, strict\u001b[39m=\u001b[39m\u001b[39mTrue\u001b[39;00m)\n",
      "\u001b[0;31mKeyboardInterrupt\u001b[0m: "
     ]
    }
   ],
   "source": [
    "solved[0].expand(complex=True)"
   ]
  },
  {
   "cell_type": "code",
   "execution_count": null,
   "metadata": {},
   "outputs": [],
   "source": []
  }
 ],
 "metadata": {
  "kernelspec": {
   "display_name": "Python 3",
   "language": "python",
   "name": "python3"
  },
  "language_info": {
   "codemirror_mode": {
    "name": "ipython",
    "version": 3
   },
   "file_extension": ".py",
   "mimetype": "text/x-python",
   "name": "python",
   "nbconvert_exporter": "python",
   "pygments_lexer": "ipython3",
   "version": "3.11.4"
  },
  "orig_nbformat": 4
 },
 "nbformat": 4,
 "nbformat_minor": 2
}
