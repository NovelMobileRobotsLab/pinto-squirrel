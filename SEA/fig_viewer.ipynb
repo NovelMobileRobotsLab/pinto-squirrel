{
 "cells": [
  {
   "cell_type": "code",
   "execution_count": 34,
   "metadata": {},
   "outputs": [
    {
     "data": {
      "application/vnd.jupyter.widget-view+json": {
       "model_id": "933e06821f6c46aa99be267c79154971",
       "version_major": 2,
       "version_minor": 0
      },
      "text/plain": [
       "interactive(children=(IntSlider(value=0, description='m', max=4), IntSlider(value=0, description='t', max=4), …"
      ]
     },
     "metadata": {},
     "output_type": "display_data"
    }
   ],
   "source": [
    "import os\n",
    "import re\n",
    "import matplotlib.pyplot as plt\n",
    "from ipywidgets import interact, IntSlider\n",
    "\n",
    "exp_path = \"exp_2023-10-29-12-10-02\"\n",
    "figs_legvel_path = f\"{exp_path}/figs_legvel\"\n",
    "\n",
    "# Get the list of image files\n",
    "image_files = sorted(os.listdir(figs_legvel_path))\n",
    "\n",
    "\n",
    "# Extract the values of m, t, and L from the image file names\n",
    "m_values = sorted([int(m) for m in set(re.findall(r\"_m(\\d+)_\", \" \".join(image_files)))])\n",
    "t_values = sorted([int(t) for t in set(re.findall(r\"_t(\\d+)_\", \" \".join(image_files)))])\n",
    "L_values = sorted([int(L) for L in set(re.findall(r\"_L(\\d+)\", \" \".join(image_files)))])\n",
    "\n",
    "\n",
    "\n",
    "@interact(m=IntSlider(min=0, max=len(m_values)-1, step=1, value=0),\n",
    "          t=IntSlider(min=0, max=len(t_values)-1, step=1, value=0),\n",
    "          L=IntSlider(min=0, max=len(L_values)-1, step=1, value=0))\n",
    "def display_image(m, t, L):\n",
    "    # Get the corresponding values of m, t, and L\n",
    "    selected_m = m_values[m]\n",
    "    selected_t = t_values[t]\n",
    "    selected_L = L_values[L]\n",
    "\n",
    "    # Construct the image file name\n",
    "    image_file = f\"k2500_m{selected_m}_t{selected_t}_L{selected_L}.png\"\n",
    "\n",
    "    # Check if the image file exists\n",
    "    if image_file in image_files:\n",
    "        # Load and display the image\n",
    "        image_path = os.path.join(figs_legvel_path, image_file)\n",
    "        image = plt.imread(image_path)\n",
    "        plt.figure(figsize=(10, 6), dpi=300)\n",
    "        plt.imshow(image)\n",
    "        plt.axis('off')\n",
    "        # plt.show()\n",
    "    else:\n",
    "        print(\"Image not found.\")"
   ]
  },
  {
   "cell_type": "code",
   "execution_count": null,
   "metadata": {},
   "outputs": [],
   "source": [
    "'''\n",
    "More mass: direct drive\n",
    "\n",
    "\n",
    "'''"
   ]
  }
 ],
 "metadata": {
  "kernelspec": {
   "display_name": "Python 3",
   "language": "python",
   "name": "python3"
  },
  "language_info": {
   "codemirror_mode": {
    "name": "ipython",
    "version": 3
   },
   "file_extension": ".py",
   "mimetype": "text/x-python",
   "name": "python",
   "nbconvert_exporter": "python",
   "pygments_lexer": "ipython3",
   "version": "3.11.4"
  }
 },
 "nbformat": 4,
 "nbformat_minor": 2
}
