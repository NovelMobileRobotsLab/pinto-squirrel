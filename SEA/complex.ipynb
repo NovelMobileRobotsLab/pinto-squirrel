{
 "cells": [
  {
   "cell_type": "code",
   "execution_count": 93,
   "metadata": {},
   "outputs": [
    {
     "data": {
      "text/latex": [
       "$\\displaystyle \\left(a - i b\\right) e^{- \\frac{i f t}{\\tau} - r t} + \\left(a + i b\\right) e^{\\frac{i f t}{\\tau} - r t}$"
      ],
      "text/plain": [
       "(a - I*b)*exp(-I*f*t/tau - r*t) + (a + I*b)*exp(I*f*t/tau - r*t)"
      ]
     },
     "metadata": {},
     "output_type": "display_data"
    },
    {
     "data": {
      "text/latex": [
       "$\\displaystyle 2 \\left(a \\cos{\\left(\\frac{f t}{\\tau} \\right)} - b \\sin{\\left(\\frac{f t}{\\tau} \\right)}\\right) e^{- r t}$"
      ],
      "text/plain": [
       "2*(a*cos(f*t/tau) - b*sin(f*t/tau))*exp(-r*t)"
      ]
     },
     "metadata": {},
     "output_type": "display_data"
    }
   ],
   "source": [
    "from sympy import *\n",
    "\n",
    "c0, c2, F, r = symbols('c0, c2, F, r')\n",
    "a, b, f = symbols('a, b, f')\n",
    "t, tau = symbols('t, tau')\n",
    "\n",
    "c0 = a + b*I\n",
    "c2 = a - b*I\n",
    "F = f/I\n",
    "\n",
    "xl = c0*exp(-F*t/tau - r*t) + c2*exp(F*t/tau - r*t)\n",
    "display(xl)\n",
    "\n",
    "xl_re = xl.rewrite(cos).trigsimp().factor().subs(-sinh(r*t)+cosh(r*t), exp(-r*t))\n",
    "display(xl_re)\n"
   ]
  },
  {
   "cell_type": "code",
   "execution_count": 72,
   "metadata": {},
   "outputs": [
    {
     "data": {
      "text/plain": [
       "0.20984920900082216"
      ]
     },
     "execution_count": 72,
     "metadata": {},
     "output_type": "execute_result"
    }
   ],
   "source": [
    "import timeit\n",
    "import numpy as np\n",
    "import math\n",
    "\n",
    "\n",
    "\n",
    "timeit.timeit(lambda: math.cos(np.random.random()), number=1000000)"
   ]
  },
  {
   "cell_type": "code",
   "execution_count": null,
   "metadata": {},
   "outputs": [],
   "source": []
  }
 ],
 "metadata": {
  "kernelspec": {
   "display_name": "Python 3",
   "language": "python",
   "name": "python3"
  },
  "language_info": {
   "codemirror_mode": {
    "name": "ipython",
    "version": 3
   },
   "file_extension": ".py",
   "mimetype": "text/x-python",
   "name": "python",
   "nbconvert_exporter": "python",
   "pygments_lexer": "ipython3",
   "version": "3.11.4"
  },
  "orig_nbformat": 4
 },
 "nbformat": 4,
 "nbformat_minor": 2
}
